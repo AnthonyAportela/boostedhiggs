{
 "cells": [
  {
   "cell_type": "code",
   "execution_count": 1,
   "metadata": {},
   "outputs": [],
   "source": [
    "import os \n",
    "import json\n",
    "\n",
    "datasets = {\n",
    "    \"2017_UL\": {\n",
    "        \"WJetsToLNu_HT-200To400_TuneCP5_13TeV-madgraphMLM-pythia8\": \"RunIISummer20UL17NanoAODv2-106X_mc2017_realistic_v8-v1/NANOAODSIM\",\n",
    "        \"WJetsToLNu_HT-400To600_TuneCP5_13TeV-madgraphMLM-pythia8\": \"RunIISummer20UL17NanoAODv2-106X_mc2017_realistic_v8-v1/NANOAODSIM\",\n",
    "        \"WJetsToLNu_HT-600To800_TuneCP5_13TeV-madgraphMLM-pythia8\": \"RunIISummer20UL17NanoAODv2-106X_mc2017_realistic_v8-v1/NANOAODSIM\",\n",
    "        \"WJetsToLNu_HT-800To1200_TuneCP5_13TeV-madgraphMLM-pythia8\": \"RunIISummer20UL17NanoAODv2-106X_mc2017_realistic_v8-v1/NANOAODSIM\",\n",
    "        \"WJetsToLNu_HT-1200To2500_TuneCP5_13TeV-madgraphMLM-pythia8\": \"RunIISummer20UL17NanoAODv2-106X_mc2017_realistic_v8-v1/NANOAODSIM\",\n",
    "        \"GluGluHToTauTau_M125_TuneCP5_13TeV-powheg-pythia8\": \"RunIISummer20UL17NanoAODv2-106X_mc2017_realistic_v8-v3/NANOAODSIM\",\n",
    "        \"GluGluHToWWToLNuQQ_M125_TuneCP5_PSweight_13TeV-powheg2-jhugen727-pythia8\": \"RunIISummer19UL17NanoAODv2-106X_mc2017_realistic_v8-v1/NANOAODSIM\",\n",
    "        \"QCD_HT300to500_TuneCP5_PSWeights_13TeV-madgraphMLM-pythia8\": \"RunIISummer19UL17NanoAODv2-106X_mc2017_realistic_v8-v1/NANOAODSIM\",\n",
    "        \"QCD_HT500to700_TuneCP5_PSWeights_13TeV-madgraphMLM-pythia8\": \"RunIISummer19UL17NanoAODv2-106X_mc2017_realistic_v8-v1/NANOAODSIM\",\n",
    "        \"QCD_HT700to1000_TuneCP5_PSWeights_13TeV-madgraphMLM-pythia8\": \"RunIISummer19UL17NanoAODv2-106X_mc2017_realistic_v8-v1/NANOAODSIM\",\n",
    "        \"QCD_HT1000to1500_TuneCP5_PSWeights_13TeV-madgraphMLM-pythia8\": \"RunIISummer19UL17NanoAODv2-106X_mc2017_realistic_v8-v1/NANOAODSIM\",\n",
    "        \"QCD_HT1500to2000_TuneCP5_PSWeights_13TeV-madgraphMLM-pythia8\": \"RunIISummer19UL17NanoAODv2-106X_mc2017_realistic_v8-v1/NANOAODSIM\",\n",
    "        \"QCD_HT2000toInf_TuneCP5_PSWeights_13TeV-madgraphMLM-pythia8\": \"RunIISummer19UL17NanoAODv2-106X_mc2017_realistic_v8-v1/NANOAODSIM\",\n",
    "        \"TTToSemiLeptonic_TuneCP5_13TeV-powheg-pythia8\" :\"RunIISummer20UL17NanoAODv2-106X_mc2017_realistic_v8-v1/NANOAODSIM\",\n",
    "        \"SingleMuon\": [\n",
    "            \"Run2017B-UL2017_MiniAODv2_NanoAODv9-v1/NANOAOD\",\n",
    "            \"Run2017C-UL2017_MiniAODv1_NanoAODv2-v1/NANOAOD\",\n",
    "            \"Run2017D-UL2017_MiniAODv1_NanoAODv2-v1/NANOAOD\",\n",
    "            \"Run2017E-UL2017_MiniAODv1_NanoAODv2-v2/NANOAOD\",\n",
    "            \"Run2017F-UL2017_MiniAODv1_NanoAODv2-v2/NANOAOD\",\n",
    "        ],\n",
    "        \"SingleElectron\": [\n",
    "            \"Run2017B-UL2017_MiniAODv1_NanoAODv2-v1/NANOAOD\",\n",
    "            \"Run2017C-UL2017_MiniAODv1_NanoAODv2-v1/NANOAOD\",\n",
    "            \"Run2017D-UL2017_MiniAODv1_NanoAODv2-v1/NANOAOD\",\n",
    "            \"Run2017E-UL2017_MiniAODv1_NanoAODv2-v2/NANOAOD\",\n",
    "            \"Run2017F-UL2017_MiniAODv1_NanoAODv2-v1/NANOAOD\",\n",
    "        ],\n",
    "    },\n",
    "    \"2017_preUL\": {\n",
    "        \"WJetsToLNu_HT-200To400_TuneCP5_13TeV-madgraphMLM-pythia8\": \"RunIIFall17NanoAODv7-PU2017_12Apr2018_Nano02Apr2020_102X_mc2017_realistic_v8-v1/NANOAODSIM\",\n",
    "        \"WJetsToLNu_HT-400To600_TuneCP5_13TeV-madgraphMLM-pythia8\": \"RunIIFall17NanoAODv7-PU2017_12Apr2018_Nano02Apr2020_102X_mc2017_realistic_v8-v1/NANOAODSIM\",\n",
    "        \"WJetsToLNu_HT-600To800_TuneCP5_13TeV-madgraphMLM-pythia8\": \"RunIIFall17NanoAODv7-PU2017_12Apr2018_Nano02Apr2020_102X_mc2017_realistic_v8-v1/NANOAODSIM\",\n",
    "        \"WJetsToLNu_HT-800To1200_TuneCP5_13TeV-madgraphMLM-pythia8\": \"RunIIFall17NanoAODv7-PU2017_12Apr2018_Nano02Apr2020_102X_mc2017_realistic_v8-v1/NANOAODSIM\",\n",
    "        \"WJetsToLNu_HT-1200To2500_TuneCP5_13TeV-madgraphMLM-pythia8\": \"RunIIFall17NanoAODv7-PU2017_12Apr2018_Nano02Apr2020_102X_mc2017_realistic_v8-v1/NANOAODSIM\",\n",
    "        \"GluGluHToTauTau_M125_13TeV_powheg_pythia8\": [\n",
    "                \"RunIIFall17NanoAODv7-PU2017_12Apr2018_Nano02Apr2020_102X_mc2017_realistic_v8-v1/NANOAODSIM\",\n",
    "                \"RunIIFall17NanoAODv7-PU2017_12Apr2018_Nano02Apr2020_102X_mc2017_realistic_v8_ext1-v1/NANOAODSIM\"],\n",
    "        \"GluGluHToWWToLNuQQ_M125_NNPDF31_TuneCP5_PSweights_13TeV_powheg_JHUGen710_pythia8\": \"RunIIFall17NanoAODv7-PU2017_12Apr2018_Nano02Apr2020_102X_mc2017_realistic_v8-v1/NANOAODSIM\",\n",
    "        \"QCD_HT300to500_TuneCP5_13TeV-madgraph-pythia8\": \"RunIIFall17NanoAODv7-PU2017_12Apr2018_Nano02Apr2020_102X_mc2017_realistic_v8-v1/NANOAODSIM\",\n",
    "        \"QCD_HT500to700_TuneCP5_13TeV-madgraph-pythia8\": \"RunIIFall17NanoAODv7-PU2017_12Apr2018_Nano02Apr2020_102X_mc2017_realistic_v8-v1/NANOAODSIM\",\n",
    "        \"QCD_HT700to1000_TuneCP5_13TeV-madgraph-pythia8\": \"RunIIFall17NanoAODv7-PU2017_12Apr2018_Nano02Apr2020_102X_mc2017_realistic_v8-v1/NANOAODSIM\",\n",
    "        \"QCD_HT1000to1500_TuneCP5_13TeV-madgraph-pythia8\": \"RunIIFall17NanoAODv7-PU2017_12Apr2018_Nano02Apr2020_102X_mc2017_realistic_v8-v1/NANOAODSIM\",\n",
    "        \"QCD_HT1500to2000_TuneCP5_13TeV-madgraph-pythia8\": \"RunIIFall17NanoAODv7-PU2017_12Apr2018_Nano02Apr2020_102X_mc2017_realistic_v8-v1/NANOAODSIM\",\n",
    "        \"QCD_HT2000toInf_TuneCP5_13TeV-madgraph-pythia8\": \"RunIIFall17NanoAODv7-PU2017_12Apr2018_Nano02Apr2020_102X_mc2017_realistic_v8-v1/NANOAODSIM\",\n",
    "        \"TTToSemiLeptonic_TuneCP5_13TeV-powheg-pythia8\": \"RunIIFall17NanoAODv7-PU2017_12Apr2018_Nano02Apr2020_102X_mc2017_realistic_v8_ext1-v1/NANOAODSIM\",\n",
    "    },   \n",
    "}\n",
    "\n",
    "for reco in [\"UL\",\"preUL\"]:\n",
    "    filesets = {}\n",
    "    years = [\"2017\"]\n",
    "    for year in years:\n",
    "        yreco = \"%s_%s\"%(year,reco)\n",
    "        filesets[yreco] = {}\n",
    "\n",
    "        for dataset,post in datasets[yreco].items():\n",
    "            querys = []\n",
    "            if isinstance(post, list):\n",
    "                for x in post:\n",
    "                    querys.append(\"file dataset=/%s/%s\"%(dataset,x))\n",
    "                    \n",
    "            else:\n",
    "                querys.append(\"file dataset=/%s/%s\"%(dataset,post))\n",
    "            filearray = []\n",
    "            for newquery in querys:\n",
    "                farray = !dasgoclient --query=\"file ${newquery}\"\n",
    "                filearray.extend(farray)\n",
    "            filesets[yreco][dataset] = filearray\n",
    "\n",
    "        with open(\"fileset_%s_NANO.json\"%(yreco), 'w') as json_file:\n",
    "            json.dump(filesets[yreco], json_file, indent=4, sort_keys=True)"
   ]
  },
  {
   "cell_type": "code",
   "execution_count": 2,
   "metadata": {},
   "outputs": [
    {
     "data": {
      "text/plain": [
       "dict_keys(['WJetsToLNu_HT-200To400_TuneCP5_13TeV-madgraphMLM-pythia8', 'WJetsToLNu_HT-400To600_TuneCP5_13TeV-madgraphMLM-pythia8', 'WJetsToLNu_HT-600To800_TuneCP5_13TeV-madgraphMLM-pythia8', 'WJetsToLNu_HT-800To1200_TuneCP5_13TeV-madgraphMLM-pythia8', 'WJetsToLNu_HT-1200To2500_TuneCP5_13TeV-madgraphMLM-pythia8', 'GluGluHToTauTau_M125_13TeV_powheg_pythia8', 'GluGluHToWWToLNuQQ_M125_NNPDF31_TuneCP5_PSweights_13TeV_powheg_JHUGen710_pythia8', 'QCD_HT300to500_TuneCP5_13TeV-madgraph-pythia8', 'QCD_HT500to700_TuneCP5_13TeV-madgraph-pythia8', 'QCD_HT700to1000_TuneCP5_13TeV-madgraph-pythia8', 'QCD_HT1000to1500_TuneCP5_13TeV-madgraph-pythia8', 'QCD_HT1500to2000_TuneCP5_13TeV-madgraph-pythia8', 'QCD_HT2000toInf_TuneCP5_13TeV-madgraph-pythia8', 'TTToSemiLeptonic_TuneCP5_13TeV-powheg-pythia8'])"
      ]
     },
     "execution_count": 2,
     "metadata": {},
     "output_type": "execute_result"
    }
   ],
   "source": [
    "filesets['2017_preUL'].keys()"
   ]
  },
  {
   "cell_type": "code",
   "execution_count": null,
   "metadata": {},
   "outputs": [],
   "source": []
  }
 ],
 "metadata": {
  "kernelspec": {
   "display_name": "Python 3",
   "language": "python",
   "name": "python3"
  },
  "language_info": {
   "codemirror_mode": {
    "name": "ipython",
    "version": 3
   },
   "file_extension": ".py",
   "mimetype": "text/x-python",
   "name": "python",
   "nbconvert_exporter": "python",
   "pygments_lexer": "ipython3",
   "version": "3.7.6"
  }
 },
 "nbformat": 4,
 "nbformat_minor": 2
}
