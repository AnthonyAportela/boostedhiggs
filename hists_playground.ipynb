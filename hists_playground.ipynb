{
 "cells": [
  {
   "cell_type": "code",
   "execution_count": 2,
   "id": "e4ed586a",
   "metadata": {},
   "outputs": [],
   "source": [
    "import pickle as cPickle"
   ]
  },
  {
   "cell_type": "code",
   "execution_count": 6,
   "id": "dc6f6e57",
   "metadata": {},
   "outputs": [
    {
     "name": "stdout",
     "output_type": "stream",
     "text": [
      "GluGluHToWWToLNuQQ_M125_TuneCP5_PSweight_13TeV-powheg2-jhugen727-pythia8_2017_UL_0.hist\r\n",
      "GluGluHToWWToLNuQQ_M125_TuneCP5_PSweight_13TeV-powheg2-jhugen727-pythia8_2017_UL_10.hist\r\n",
      "GluGluHToWWToLNuQQ_M125_TuneCP5_PSweight_13TeV-powheg2-jhugen727-pythia8_2017_UL_11.hist\r\n",
      "GluGluHToWWToLNuQQ_M125_TuneCP5_PSweight_13TeV-powheg2-jhugen727-pythia8_2017_UL_12.hist\r\n",
      "GluGluHToWWToLNuQQ_M125_TuneCP5_PSweight_13TeV-powheg2-jhugen727-pythia8_2017_UL_13.hist\r\n",
      "GluGluHToWWToLNuQQ_M125_TuneCP5_PSweight_13TeV-powheg2-jhugen727-pythia8_2017_UL_14.hist\r\n",
      "GluGluHToWWToLNuQQ_M125_TuneCP5_PSweight_13TeV-powheg2-jhugen727-pythia8_2017_UL_1.hist\r\n",
      "GluGluHToWWToLNuQQ_M125_TuneCP5_PSweight_13TeV-powheg2-jhugen727-pythia8_2017_UL_2.hist\r\n",
      "GluGluHToWWToLNuQQ_M125_TuneCP5_PSweight_13TeV-powheg2-jhugen727-pythia8_2017_UL_3.hist\r\n",
      "GluGluHToWWToLNuQQ_M125_TuneCP5_PSweight_13TeV-powheg2-jhugen727-pythia8_2017_UL_4.hist\r\n",
      "GluGluHToWWToLNuQQ_M125_TuneCP5_PSweight_13TeV-powheg2-jhugen727-pythia8_2017_UL_5.hist\r\n",
      "GluGluHToWWToLNuQQ_M125_TuneCP5_PSweight_13TeV-powheg2-jhugen727-pythia8_2017_UL_6.hist\r\n",
      "GluGluHToWWToLNuQQ_M125_TuneCP5_PSweight_13TeV-powheg2-jhugen727-pythia8_2017_UL_7.hist\r\n",
      "GluGluHToWWToLNuQQ_M125_TuneCP5_PSweight_13TeV-powheg2-jhugen727-pythia8_2017_UL_8.hist\r\n",
      "GluGluHToWWToLNuQQ_M125_TuneCP5_PSweight_13TeV-powheg2-jhugen727-pythia8_2017_UL_9.hist\r\n"
     ]
    }
   ],
   "source": [
    "! ls /eos/uscms/store/user/fmokhtar/boostedhiggs/Sep6_UL/outfiles"
   ]
  },
  {
   "cell_type": "code",
   "execution_count": 7,
   "id": "07ef5976",
   "metadata": {},
   "outputs": [],
   "source": [
    "with open(f\"/eos/uscms/store/user/fmokhtar/boostedhiggs/Sep6_UL/outfiles/GluGluHToWWToLNuQQ_M125_TuneCP5_PSweight_13TeV-powheg2-jhugen727-pythia8_2017_UL_0.hist\", \"rb\") as f:\n",
    "    H = cPickle.load(f)"
   ]
  },
  {
   "cell_type": "code",
   "execution_count": 9,
   "id": "dd6d635e",
   "metadata": {},
   "outputs": [
    {
     "data": {
      "text/plain": [
       "{'GluGluHToWWToLNuQQ_M125_TuneCP5_PSweight_13TeV-powheg2-jhugen727-pythia8': {'signal_kin': Hist(\n",
       "    StrCategory(['hadel', 'hadmu'], growth=True, name='region', label='region'),\n",
       "    IntCategory([0, 2, 4, 6, 8], name='genflavor', label='gen flavor'),\n",
       "    IntCategory([0, 1, 4, 6, 9], name='genHflavor', label='higgs matching'),\n",
       "    IntCategory([0, 1, 2, 3, 4], name='nprongs', label='Jet nprongs'),\n",
       "    storage=Weight()) # Sum: WeightedSum(value=20708.7, variance=576178),\n",
       "  'jet_lep': Hist(\n",
       "    StrCategory(['hadel', 'hadmu'], growth=True, name='region', label='region'),\n",
       "    Regular(30, 20, 200, name='jetlep_msd', label='(Jet - Lep) mass (SD) [GeV]'),\n",
       "    Regular(30, 20, 200, name='jetlep_mass', label='(Jet - Lep) mass [GeV]'),\n",
       "    storage=Double()) # Sum: 15669.077760556725 (20708.68654837042 with flow),\n",
       "  'lep_kin': Hist(\n",
       "    StrCategory(['hadel', 'hadmu'], growth=True, name='region', label='region'),\n",
       "    Regular(25, 0, 1, name='lepminiIso', label='lep miniIso'),\n",
       "    Regular(25, 0, 1, name='leprelIso', label='lep Rel Iso'),\n",
       "    Regular(40, 10, 800, name='lep_pt', label='lep $p_T$ [GeV]'),\n",
       "    Regular(30, 0, 5, name='deltaR_lepjet', label='$\\\\Delta R(l, Jet)$'),\n",
       "    storage=Weight()) # Sum: WeightedSum(value=19291.4, variance=537364) (WeightedSum(value=20708.7, variance=576178) with flow),\n",
       "  'higgs_kin': Hist(\n",
       "    StrCategory([], growth=True, name='region', label='region'),\n",
       "    Regular(50, 10, 1000, name='matchedHpt', label='matched H $p_T$ [GeV]'),\n",
       "    Variable(array([ 10.,  35.,  60.,  85., 110., 135., 160., 185., 210., 235., 260.,\n",
       "         285., 310., 335., 360., 385., 410., 450., 490., 530., 570., 615.,\n",
       "         665., 715., 765., 815., 865., 915., 965.]), name='genHpt', label='genH $p_T$ [GeV]'),\n",
       "    storage=Weight()) # Sum: WeightedSum(value=0, variance=0),\n",
       "  'cutflow': Hist(\n",
       "    StrCategory(['hadel', 'hadmu'], growth=True, name='region', label='region'),\n",
       "    IntCategory([0, 1, 2, 3, 4, 5, 6, 7, 8, 9, 10, 11], growth=True, name='cut', label='Cut index'),\n",
       "    IntCategory([0, 2, 4, 6, 8], name='genflavor', label='gen flavor'),\n",
       "    storage=Weight()) # Sum: WeightedSum(value=1.4561e+06, variance=4.0763e+07) (WeightedSum(value=5.73183e+07, variance=1.60433e+09) with flow),\n",
       "  'jet_kin': Hist(\n",
       "    StrCategory(['hadel', 'hadmu'], growth=True, name='region', label='region'),\n",
       "    Regular(30, 200, 1000, name='jetpt', label='Jet $p_T$ [GeV]'),\n",
       "    Regular(30, 15, 200, name='jetmsd', label='Jet $m_{sd}$ [GeV]'),\n",
       "    Regular(25, -20, 0, name='jetrho', label='Jet $\\\\rho$'),\n",
       "    Regular(20, 0, 1, name='btag', label='Jet btag (opphem)'),\n",
       "    storage=Weight()) # Sum: WeightedSum(value=20708.7, variance=576178),\n",
       "  'sumw': 25097698.0,\n",
       "  'met_kin': Hist(\n",
       "    StrCategory(['hadel', 'hadmu'], growth=True, name='region', label='region'),\n",
       "    Regular(30, 0, 500, name='met', label='$p_T^{miss}$ [GeV]'),\n",
       "    Regular(20, 0, 300, name='mt_lepmet', label='$m_{T}$ [GeV]'),\n",
       "    storage=Weight()) # Sum: WeightedSum(value=20708.7, variance=576178)}}"
      ]
     },
     "execution_count": 9,
     "metadata": {},
     "output_type": "execute_result"
    }
   ],
   "source": [
    "H"
   ]
  },
  {
   "cell_type": "code",
   "execution_count": 12,
   "id": "69532ff9",
   "metadata": {},
   "outputs": [
    {
     "data": {
      "text/plain": [
       "{'signal_kin': Hist(\n",
       "   StrCategory(['hadel', 'hadmu'], growth=True, name='region', label='region'),\n",
       "   IntCategory([0, 2, 4, 6, 8], name='genflavor', label='gen flavor'),\n",
       "   IntCategory([0, 1, 4, 6, 9], name='genHflavor', label='higgs matching'),\n",
       "   IntCategory([0, 1, 2, 3, 4], name='nprongs', label='Jet nprongs'),\n",
       "   storage=Weight()) # Sum: WeightedSum(value=20708.7, variance=576178),\n",
       " 'jet_lep': Hist(\n",
       "   StrCategory(['hadel', 'hadmu'], growth=True, name='region', label='region'),\n",
       "   Regular(30, 20, 200, name='jetlep_msd', label='(Jet - Lep) mass (SD) [GeV]'),\n",
       "   Regular(30, 20, 200, name='jetlep_mass', label='(Jet - Lep) mass [GeV]'),\n",
       "   storage=Double()) # Sum: 15669.077760556725 (20708.68654837042 with flow),\n",
       " 'lep_kin': Hist(\n",
       "   StrCategory(['hadel', 'hadmu'], growth=True, name='region', label='region'),\n",
       "   Regular(25, 0, 1, name='lepminiIso', label='lep miniIso'),\n",
       "   Regular(25, 0, 1, name='leprelIso', label='lep Rel Iso'),\n",
       "   Regular(40, 10, 800, name='lep_pt', label='lep $p_T$ [GeV]'),\n",
       "   Regular(30, 0, 5, name='deltaR_lepjet', label='$\\\\Delta R(l, Jet)$'),\n",
       "   storage=Weight()) # Sum: WeightedSum(value=19291.4, variance=537364) (WeightedSum(value=20708.7, variance=576178) with flow),\n",
       " 'higgs_kin': Hist(\n",
       "   StrCategory([], growth=True, name='region', label='region'),\n",
       "   Regular(50, 10, 1000, name='matchedHpt', label='matched H $p_T$ [GeV]'),\n",
       "   Variable(array([ 10.,  35.,  60.,  85., 110., 135., 160., 185., 210., 235., 260.,\n",
       "        285., 310., 335., 360., 385., 410., 450., 490., 530., 570., 615.,\n",
       "        665., 715., 765., 815., 865., 915., 965.]), name='genHpt', label='genH $p_T$ [GeV]'),\n",
       "   storage=Weight()) # Sum: WeightedSum(value=0, variance=0),\n",
       " 'cutflow': Hist(\n",
       "   StrCategory(['hadel', 'hadmu'], growth=True, name='region', label='region'),\n",
       "   IntCategory([0, 1, 2, 3, 4, 5, 6, 7, 8, 9, 10, 11], growth=True, name='cut', label='Cut index'),\n",
       "   IntCategory([0, 2, 4, 6, 8], name='genflavor', label='gen flavor'),\n",
       "   storage=Weight()) # Sum: WeightedSum(value=1.4561e+06, variance=4.0763e+07) (WeightedSum(value=5.73183e+07, variance=1.60433e+09) with flow),\n",
       " 'jet_kin': Hist(\n",
       "   StrCategory(['hadel', 'hadmu'], growth=True, name='region', label='region'),\n",
       "   Regular(30, 200, 1000, name='jetpt', label='Jet $p_T$ [GeV]'),\n",
       "   Regular(30, 15, 200, name='jetmsd', label='Jet $m_{sd}$ [GeV]'),\n",
       "   Regular(25, -20, 0, name='jetrho', label='Jet $\\\\rho$'),\n",
       "   Regular(20, 0, 1, name='btag', label='Jet btag (opphem)'),\n",
       "   storage=Weight()) # Sum: WeightedSum(value=20708.7, variance=576178),\n",
       " 'sumw': 25097698.0,\n",
       " 'met_kin': Hist(\n",
       "   StrCategory(['hadel', 'hadmu'], growth=True, name='region', label='region'),\n",
       "   Regular(30, 0, 500, name='met', label='$p_T^{miss}$ [GeV]'),\n",
       "   Regular(20, 0, 300, name='mt_lepmet', label='$m_{T}$ [GeV]'),\n",
       "   storage=Weight()) # Sum: WeightedSum(value=20708.7, variance=576178)}"
      ]
     },
     "execution_count": 12,
     "metadata": {},
     "output_type": "execute_result"
    }
   ],
   "source": [
    "H['GluGluHToWWToLNuQQ_M125_TuneCP5_PSweight_13TeV-powheg2-jhugen727-pythia8']"
   ]
  },
  {
   "cell_type": "code",
   "execution_count": 14,
   "id": "cd8ec12a",
   "metadata": {},
   "outputs": [
    {
     "data": {
      "text/plain": [
       "dict_keys(['signal_kin', 'jet_lep', 'lep_kin', 'higgs_kin', 'cutflow', 'jet_kin', 'sumw', 'met_kin'])"
      ]
     },
     "execution_count": 14,
     "metadata": {},
     "output_type": "execute_result"
    }
   ],
   "source": [
    "H['GluGluHToWWToLNuQQ_M125_TuneCP5_PSweight_13TeV-powheg2-jhugen727-pythia8'].keys()"
   ]
  },
  {
   "cell_type": "code",
   "execution_count": 18,
   "id": "3c05886c",
   "metadata": {},
   "outputs": [
    {
     "data": {
      "text/html": [
       "<html>\n",
       "<div style=\"display:flex; align-items:center;\">\n",
       "<div style=\"width:290px;\">\n",
       "<svg xmlns=\"http://www.w3.org/2000/svg\" viewBox=\"-10 -10 220 220\">\n",
       "<rect x=\"0\" y=\"0\" width=\"160\" height=\"160\" style=\"fill:white;opacity:.5;stroke-width:2;stroke:currentColor;\"/>\n",
       "<rect x=\"20\" y=\"20\" width=\"160\" height=\"160\" style=\"fill:white;opacity:.5;stroke-width:2;stroke:currentColor;\"/>\n",
       "<rect x=\"40\" y=\"40\" width=\"160\" height=\"160\" style=\"fill:white;opacity:.5;stroke-width:2;stroke:currentColor;\"/>\n",
       "<text x=\"120.0\" y=\"120.0\" style=\"font-size: 26pt; font-family: verdana; font-style: bold; fill: black;\" text-anchor=\"middle\" alignment-baseline=\"middle\">\n",
       "4D\n",
       "</text>\n",
       "</svg>\n",
       "</div>\n",
       "<div style=\"flex=grow:1;\">\n",
       "StrCategory(['hadel', 'hadmu'], growth=True, name='region', label='region')<br/>\n",
       "IntCategory([0, 2, 4, 6, 8], name='genflavor', label='gen flavor')<br/>\n",
       "IntCategory([0, 1, 4, 6, 9], name='genHflavor', label='higgs matching')<br/>\n",
       "IntCategory([0, 1, 2, 3, 4], name='nprongs', label='Jet nprongs')<br/>\n",
       "<hr style=\"margin-top:.2em; margin-bottom:.2em;\"/>\n",
       "Weight() Σ=WeightedSum(value=20708.7, variance=576178)\n",
       "\n",
       "</div>\n",
       "</div>\n",
       "</html>"
      ],
      "text/plain": [
       "Hist(\n",
       "  StrCategory(['hadel', 'hadmu'], growth=True, name='region', label='region'),\n",
       "  IntCategory([0, 2, 4, 6, 8], name='genflavor', label='gen flavor'),\n",
       "  IntCategory([0, 1, 4, 6, 9], name='genHflavor', label='higgs matching'),\n",
       "  IntCategory([0, 1, 2, 3, 4], name='nprongs', label='Jet nprongs'),\n",
       "  storage=Weight()) # Sum: WeightedSum(value=20708.7, variance=576178)"
      ]
     },
     "execution_count": 18,
     "metadata": {},
     "output_type": "execute_result"
    }
   ],
   "source": [
    "H['GluGluHToWWToLNuQQ_M125_TuneCP5_PSweight_13TeV-powheg2-jhugen727-pythia8']['signal_kin']"
   ]
  },
  {
   "cell_type": "code",
   "execution_count": 21,
   "id": "9d14e907",
   "metadata": {},
   "outputs": [
    {
     "data": {
      "text/html": [
       "<html>\n",
       "<div style=\"display:flex; align-items:center;\">\n",
       "<div style=\"width:290px;\">\n",
       "<svg xmlns=\"http://www.w3.org/2000/svg\" viewBox=\"-10 -10 220 220\">\n",
       "<rect x=\"0\" y=\"0\" width=\"160\" height=\"160\" style=\"fill:white;opacity:.5;stroke-width:2;stroke:currentColor;\"/>\n",
       "<rect x=\"20\" y=\"20\" width=\"160\" height=\"160\" style=\"fill:white;opacity:.5;stroke-width:2;stroke:currentColor;\"/>\n",
       "<rect x=\"40\" y=\"40\" width=\"160\" height=\"160\" style=\"fill:white;opacity:.5;stroke-width:2;stroke:currentColor;\"/>\n",
       "<text x=\"120.0\" y=\"120.0\" style=\"font-size: 26pt; font-family: verdana; font-style: bold; fill: black;\" text-anchor=\"middle\" alignment-baseline=\"middle\">\n",
       "3D\n",
       "</text>\n",
       "</svg>\n",
       "</div>\n",
       "<div style=\"flex=grow:1;\">\n",
       "IntCategory([0, 2, 4, 6, 8], name='genflavor', label='gen flavor')<br/>\n",
       "IntCategory([0, 1, 4, 6, 9], name='genHflavor', label='higgs matching')<br/>\n",
       "IntCategory([0, 1, 2, 3, 4], name='nprongs', label='Jet nprongs')<br/>\n",
       "<hr style=\"margin-top:.2em; margin-bottom:.2em;\"/>\n",
       "Weight() Σ=WeightedSum(value=6283.32, variance=164654)\n",
       "\n",
       "</div>\n",
       "</div>\n",
       "</html>"
      ],
      "text/plain": [
       "Hist(\n",
       "  IntCategory([0, 2, 4, 6, 8], name='genflavor', label='gen flavor'),\n",
       "  IntCategory([0, 1, 4, 6, 9], name='genHflavor', label='higgs matching'),\n",
       "  IntCategory([0, 1, 2, 3, 4], name='nprongs', label='Jet nprongs'),\n",
       "  storage=Weight()) # Sum: WeightedSum(value=6283.32, variance=164654)"
      ]
     },
     "execution_count": 21,
     "metadata": {},
     "output_type": "execute_result"
    }
   ],
   "source": [
    "H['GluGluHToWWToLNuQQ_M125_TuneCP5_PSweight_13TeV-powheg2-jhugen727-pythia8']['signal_kin'][{\"region\":'hadel'}]"
   ]
  },
  {
   "cell_type": "code",
   "execution_count": 22,
   "id": "e67b8d2c",
   "metadata": {},
   "outputs": [
    {
     "data": {
      "text/html": [
       "<html>\n",
       "<div style=\"display:flex; align-items:center;\">\n",
       "<div style=\"width:290px;\">\n",
       "<svg xmlns=\"http://www.w3.org/2000/svg\" viewBox=\"-10 -10 220 220\">\n",
       "<rect x=\"0\" y=\"0\" width=\"160\" height=\"160\" style=\"fill:white;opacity:.5;stroke-width:2;stroke:currentColor;\"/>\n",
       "<rect x=\"20\" y=\"20\" width=\"160\" height=\"160\" style=\"fill:white;opacity:.5;stroke-width:2;stroke:currentColor;\"/>\n",
       "<rect x=\"40\" y=\"40\" width=\"160\" height=\"160\" style=\"fill:white;opacity:.5;stroke-width:2;stroke:currentColor;\"/>\n",
       "<text x=\"120.0\" y=\"120.0\" style=\"font-size: 26pt; font-family: verdana; font-style: bold; fill: black;\" text-anchor=\"middle\" alignment-baseline=\"middle\">\n",
       "3D\n",
       "</text>\n",
       "</svg>\n",
       "</div>\n",
       "<div style=\"flex=grow:1;\">\n",
       "StrCategory(['hadel', 'hadmu'], growth=True, name='region', label='region')<br/>\n",
       "IntCategory([0, 1, 4, 6, 9], name='genHflavor', label='higgs matching')<br/>\n",
       "IntCategory([0, 1, 2, 3, 4], name='nprongs', label='Jet nprongs')<br/>\n",
       "<hr style=\"margin-top:.2em; margin-bottom:.2em;\"/>\n",
       "Weight() Σ=WeightedSum(value=20708.7, variance=576178)\n",
       "\n",
       "</div>\n",
       "</div>\n",
       "</html>"
      ],
      "text/plain": [
       "Hist(\n",
       "  StrCategory(['hadel', 'hadmu'], growth=True, name='region', label='region'),\n",
       "  IntCategory([0, 1, 4, 6, 9], name='genHflavor', label='higgs matching'),\n",
       "  IntCategory([0, 1, 2, 3, 4], name='nprongs', label='Jet nprongs'),\n",
       "  storage=Weight()) # Sum: WeightedSum(value=20708.7, variance=576178)"
      ]
     },
     "execution_count": 22,
     "metadata": {},
     "output_type": "execute_result"
    }
   ],
   "source": [
    "H['GluGluHToWWToLNuQQ_M125_TuneCP5_PSweight_13TeV-powheg2-jhugen727-pythia8']['signal_kin'][{\"genflavor\":0}]"
   ]
  },
  {
   "cell_type": "code",
   "execution_count": null,
   "id": "b218daff",
   "metadata": {},
   "outputs": [],
   "source": []
  }
 ],
 "metadata": {
  "kernelspec": {
   "display_name": "Python 3 (ipykernel)",
   "language": "python",
   "name": "python3"
  },
  "language_info": {
   "codemirror_mode": {
    "name": "ipython",
    "version": 3
   },
   "file_extension": ".py",
   "mimetype": "text/x-python",
   "name": "python",
   "nbconvert_exporter": "python",
   "pygments_lexer": "ipython3",
   "version": "3.7.11"
  }
 },
 "nbformat": 4,
 "nbformat_minor": 5
}
