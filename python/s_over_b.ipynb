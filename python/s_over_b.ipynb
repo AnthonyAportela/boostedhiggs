{
 "cells": [
  {
   "cell_type": "code",
   "execution_count": 1,
   "metadata": {},
   "outputs": [
    {
     "name": "stderr",
     "output_type": "stream",
     "text": [
      "/opt/anaconda3/envs/coffea-env/lib/python3.8/site-packages/pandas/core/computation/expressions.py:20: UserWarning: Pandas requires version '2.7.3' or newer of 'numexpr' (version '2.7.1' currently installed).\n",
      "  from pandas.core.computation.check import NUMEXPR_INSTALLED\n"
     ]
    }
   ],
   "source": [
    "import glob\n",
    "import os\n",
    "import json\n",
    "import pickle\n",
    "import yaml\n",
    "\n",
    "import math\n",
    "import numpy as np\n",
    "import pandas as pd\n",
    "pd.options.mode.chained_assignment = None\n",
    "import pyarrow.parquet as pq\n",
    "from sklearn.metrics import auc, roc_curve\n",
    "from scipy.special import softmax\n",
    "\n",
    "import hist as hist2\n",
    "import matplotlib.pyplot as plt\n",
    "import mplhep as hep\n",
    "\n",
    "plt.style.use(hep.style.CMS)\n",
    "\n",
    "import utils_farouk as utils\n",
    "plt.rcParams.update({\"font.size\": 20})"
   ]
  },
  {
   "cell_type": "code",
   "execution_count": 2,
   "metadata": {
    "scrolled": false
   },
   "outputs": [
    {
     "name": "stdout",
     "output_type": "stream",
     "text": [
      "\u001b[34mDYJetsToLL_Pt-100To250\u001b[m\u001b[m                 \u001b[34mQCD_Pt_470to600\u001b[m\u001b[m\r\n",
      "\u001b[34mDYJetsToLL_Pt-250To400\u001b[m\u001b[m                 \u001b[34mQCD_Pt_600to800\u001b[m\u001b[m\r\n",
      "\u001b[34mDYJetsToLL_Pt-400To650\u001b[m\u001b[m                 \u001b[34mQCD_Pt_800to1000\u001b[m\u001b[m\r\n",
      "\u001b[34mDYJetsToLL_Pt-50To100\u001b[m\u001b[m                  \u001b[34mTTTo2L2Nu\u001b[m\u001b[m\r\n",
      "\u001b[34mDYJetsToLL_Pt-650ToInf\u001b[m\u001b[m                 \u001b[34mTTToHadronic\u001b[m\u001b[m\r\n",
      "\u001b[34mGluGluHToWW_Pt-200ToInf_M-125\u001b[m\u001b[m          \u001b[34mTTToSemiLeptonic\u001b[m\u001b[m\r\n",
      "\u001b[34mHWminusJ_HToWW_M-125\u001b[m\u001b[m                   \u001b[34mVBFHToWWToLNuQQ_M-125_withDipoleRecoil\u001b[m\u001b[m\r\n",
      "\u001b[34mHWplusJ_HToWW_M-125\u001b[m\u001b[m                    \u001b[34mWJetsToLNu_HT-100To200\u001b[m\u001b[m\r\n",
      "\u001b[34mHZJ_HToWW_M-125\u001b[m\u001b[m                        \u001b[34mWJetsToLNu_HT-1200To2500\u001b[m\u001b[m\r\n",
      "\u001b[34mQCD_Pt_1000to1400\u001b[m\u001b[m                      \u001b[34mWJetsToLNu_HT-200To400\u001b[m\u001b[m\r\n",
      "\u001b[34mQCD_Pt_1400to1800\u001b[m\u001b[m                      \u001b[34mWJetsToLNu_HT-2500ToInf\u001b[m\u001b[m\r\n",
      "\u001b[34mQCD_Pt_170to300\u001b[m\u001b[m                        \u001b[34mWJetsToLNu_HT-400To600\u001b[m\u001b[m\r\n",
      "\u001b[34mQCD_Pt_1800to2400\u001b[m\u001b[m                      \u001b[34mWJetsToLNu_HT-600To800\u001b[m\u001b[m\r\n",
      "\u001b[34mQCD_Pt_2400to3200\u001b[m\u001b[m                      \u001b[34mWJetsToLNu_HT-70To100\u001b[m\u001b[m\r\n",
      "\u001b[34mQCD_Pt_300to470\u001b[m\u001b[m                        \u001b[34mWJetsToLNu_HT-800To1200\u001b[m\u001b[m\r\n",
      "\u001b[34mQCD_Pt_3200toInf\u001b[m\u001b[m                       \u001b[34mttHToNonbb_M125\u001b[m\u001b[m\r\n"
     ]
    }
   ],
   "source": [
    "! ls ../Mar26_2017"
   ]
  },
  {
   "cell_type": "markdown",
   "metadata": {},
   "source": [
    "# Event skimmer"
   ]
  },
  {
   "cell_type": "code",
   "execution_count": 3,
   "metadata": {},
   "outputs": [],
   "source": [
    "presel = {\n",
    "    \"mu\": {\n",
    "#         ### already applied in processor\n",
    "#         \"isolation\": \"( ( (lep_pt < 55) & (lep_isolation<0.15)) |  (lep_pt >= 55) )\",\n",
    "#         \"mini-isolation\": \"( (lep_pt < 55) |  ( (lep_misolation < 0.2) & (lep_pt >= 55) ) )\",\n",
    "        \n",
    "        ### checks\n",
    "#         \"lep_fj_dr\": \"( ( lep_fj_dr>0.03) )\"        \n",
    "#         \"bjet_ophem\": \"( (fj_bjets_ophem < 0.3040) )\",\n",
    "        \n",
    "    },\n",
    "    \"ele\": {\n",
    "#         ### already applied in processor\n",
    "#         \"isolation\": \"( ( (lep_pt < 120) & (lep_isolation<0.15)) |  (lep_pt >= 120) )\",    \n",
    "        \n",
    "        ### checks\n",
    "#         \"lep_fj_dr\": \"( ( lep_fj_dr>0.03) )\"                \n",
    "#         \"bjet_ophem\": \"( (fj_bjets_ophem < 0.3040) )\",  \n",
    "    }    \n",
    "}"
   ]
  },
  {
   "cell_type": "code",
   "execution_count": 4,
   "metadata": {},
   "outputs": [],
   "source": [
    "channels = [\"mu\", \"ele\"]\n",
    "# samples_dir = \"../Mar26_2017\"\n",
    "\n",
    "year = \"2017\"\n",
    "samples_dir = f\"../Apr12_presel_{year}\"\n",
    "\n",
    "samples = [\n",
    "    \"HWW\", \n",
    "    \"VH\",\n",
    "    \"VBF\",\n",
    "    \"ttH\",\n",
    "    \"QCD\",\n",
    "    \"DYJets\",\n",
    "    \"WJetsLNu\",\n",
    "    \"WZQQ\",\n",
    "    \"TTbar\",\n",
    "    \"SingleTop\",\n",
    "    \"Diboson\",\n",
    "]\n",
    "\n",
    "columns = [\n",
    "    \"fj_pt\",\n",
    "    \"lep_pt\",\n",
    "    \"lep_fj_dr\", \n",
    "#     \"fj_ParT_mass\", \n",
    "    \"fj_minus_lep_m\",\n",
    "#     \"rec_higgs_m\",\n",
    "#     \"rec_higgs_pt\",\n",
    "    \"rec_W_lnu_pt\",\n",
    "    \"rec_W_qq_pt\",\n",
    "    \"fj_bjets_ophem\",\n",
    "    \"fj_bjets\",\n",
    "    \"n_bjets_L\",\n",
    "    \"n_bjets_M\",\n",
    "    \"n_bjets_T\",   \n",
    "    \"n_bjets_ophem_L\",\n",
    "    \"n_bjets_ophem_M\",\n",
    "    \"n_bjets_ophem_T\", \n",
    "    \"lep_met_mt\",\n",
    "    \"met_fj_dphi\"\n",
    "#     \"lep_isolation\",\n",
    "#     \"lep_misolation\",\n",
    "]"
   ]
  },
  {
   "cell_type": "code",
   "execution_count": 5,
   "metadata": {
    "scrolled": true
   },
   "outputs": [
    {
     "name": "stdout",
     "output_type": "stream",
     "text": [
      "Finding WJetsToLNu_HT-100To200 samples and should combine them under WJetsLNu\n",
      "---> Applying preselection.\n",
      "---> Done with preselection.\n",
      "---> Accumulating event weights.\n",
      "Applying weight_genweight weight\n",
      "Applying weight_L1Prefiring weight\n",
      "Applying weight_pileup weight\n",
      "Applying weight_trigger_iso_muon weight\n",
      "Applying weight_trigger_noniso_muon weight\n",
      "Applying weight_isolation_muon weight\n",
      "Applying weight_id_muon weight\n",
      "Applying weight_vjets_nominal weight\n",
      "---> Done with accumulating event weights.\n",
      "Will fill the WJetsLNu dataframe with the remaining 37101 events\n",
      "tot event weight 58944.13282458637 \n",
      "\n",
      "Finding DYJetsToLL_Pt-400To650 samples and should combine them under DYJets\n",
      "---> Applying preselection.\n",
      "---> Done with preselection.\n",
      "---> Accumulating event weights.\n",
      "Applying weight_genweight weight\n",
      "Applying weight_L1Prefiring weight\n",
      "Applying weight_pileup weight\n",
      "Applying weight_trigger_iso_muon weight\n",
      "Applying weight_trigger_noniso_muon weight\n",
      "Applying weight_isolation_muon weight\n",
      "Applying weight_id_muon weight\n",
      "Applying weight_vjets_nominal weight\n",
      "---> Done with accumulating event weights.\n",
      "Will fill the DYJets dataframe with the remaining 107935 events\n",
      "tot event weight 1002.3798572982464 \n",
      "\n",
      "Finding VBFHToWWToLNuQQ_M-125_withDipoleRecoil samples and should combine them under VBF\n",
      "---> Applying preselection.\n",
      "---> Done with preselection.\n",
      "---> Accumulating event weights.\n",
      "Applying weight_genweight weight\n",
      "Applying weight_L1Prefiring weight\n",
      "Applying weight_pileup weight\n",
      "Applying weight_trigger_iso_muon weight\n",
      "Applying weight_trigger_noniso_muon weight\n",
      "Applying weight_isolation_muon weight\n",
      "Applying weight_id_muon weight\n",
      "weight_vjets_nominal weight is not stored in parquet\n",
      "---> Done with accumulating event weights.\n",
      "Will fill the VBF dataframe with the remaining 1509 events\n",
      "tot event weight 73.35066600861805 \n",
      "\n",
      "Finding HWminusJ_HToWW_M-125 samples and should combine them under VH\n",
      "---> Applying preselection.\n",
      "---> Done with preselection.\n",
      "---> Accumulating event weights.\n",
      "Applying weight_genweight weight\n",
      "Applying weight_L1Prefiring weight\n",
      "Applying weight_pileup weight\n",
      "Applying weight_trigger_iso_muon weight\n",
      "Applying weight_trigger_noniso_muon weight\n",
      "Applying weight_isolation_muon weight\n",
      "Applying weight_id_muon weight\n",
      "weight_vjets_nominal weight is not stored in parquet\n",
      "---> Done with accumulating event weights.\n",
      "Will fill the VH dataframe with the remaining 21615 events\n",
      "tot event weight 14.606269418599627 \n",
      "\n",
      "Finding WJetsToLNu_HT-800To1200 samples and should combine them under WJetsLNu\n",
      "---> Applying preselection.\n",
      "---> Done with preselection.\n",
      "---> Accumulating event weights.\n",
      "Applying weight_genweight weight\n",
      "Applying weight_L1Prefiring weight\n",
      "Applying weight_pileup weight\n",
      "Applying weight_trigger_iso_muon weight\n",
      "Applying weight_trigger_noniso_muon weight\n",
      "Applying weight_isolation_muon weight\n",
      "Applying weight_id_muon weight\n",
      "Applying weight_vjets_nominal weight\n",
      "---> Done with accumulating event weights.\n",
      "Will fill the WJetsLNu dataframe with the remaining 324949 events\n",
      "tot event weight 17218.38955680573 \n",
      "\n",
      "Finding TTToSemiLeptonic samples and should combine them under TTbar\n",
      "---> Applying preselection.\n",
      "---> Done with preselection.\n",
      "---> Accumulating event weights.\n",
      "Applying weight_genweight weight\n",
      "Applying weight_L1Prefiring weight\n",
      "Applying weight_pileup weight\n",
      "Applying weight_trigger_iso_muon weight\n",
      "Applying weight_trigger_noniso_muon weight\n",
      "Applying weight_isolation_muon weight\n",
      "Applying weight_id_muon weight\n",
      "weight_vjets_nominal weight is not stored in parquet\n",
      "---> Done with accumulating event weights.\n",
      "Will fill the TTbar dataframe with the remaining 1177566 events\n",
      "tot event weight 111111.05562436159 \n",
      "\n",
      "Finding DYJetsToLL_Pt-250To400 samples and should combine them under DYJets\n",
      "---> Applying preselection.\n",
      "---> Done with preselection.\n",
      "---> Accumulating event weights.\n",
      "Applying weight_genweight weight\n",
      "Applying weight_L1Prefiring weight\n",
      "Applying weight_pileup weight\n",
      "Applying weight_trigger_iso_muon weight\n",
      "Applying weight_trigger_noniso_muon weight\n",
      "Applying weight_isolation_muon weight\n",
      "Applying weight_id_muon weight\n",
      "Applying weight_vjets_nominal weight\n",
      "---> Done with accumulating event weights.\n",
      "Will fill the DYJets dataframe with the remaining 1365278 events\n",
      "tot event weight 9829.593933216542 \n",
      "\n",
      "Finding ST_t-channel_top_4f_InclusiveDecays samples and should combine them under SingleTop\n",
      "---> Applying preselection.\n",
      "---> Done with preselection.\n",
      "---> Accumulating event weights.\n",
      "Applying weight_genweight weight\n",
      "Applying weight_L1Prefiring weight\n",
      "Applying weight_pileup weight\n",
      "Applying weight_trigger_iso_muon weight\n",
      "Applying weight_trigger_noniso_muon weight\n",
      "Applying weight_isolation_muon weight\n",
      "Applying weight_id_muon weight\n",
      "weight_vjets_nominal weight is not stored in parquet\n",
      "---> Done with accumulating event weights.\n",
      "Will fill the SingleTop dataframe with the remaining 107705 events\n",
      "tot event weight 3086.2415923016893 \n",
      "\n",
      "Finding ST_s-channel_4f_hadronicDecays samples and should combine them under SingleTop\n",
      "---> Applying preselection.\n",
      "---> Done with preselection.\n",
      "---> Accumulating event weights.\n",
      "Applying weight_genweight weight\n",
      "Applying weight_L1Prefiring weight\n",
      "Applying weight_pileup weight\n",
      "Applying weight_trigger_iso_muon weight\n",
      "Applying weight_trigger_noniso_muon weight\n",
      "Applying weight_isolation_muon weight\n",
      "Applying weight_id_muon weight\n",
      "weight_vjets_nominal weight is not stored in parquet\n",
      "---> Done with accumulating event weights.\n",
      "Will fill the SingleTop dataframe with the remaining 517 events\n",
      "tot event weight 3.7169715660447302 \n",
      "\n",
      "Finding WJetsToLNu_HT-1200To2500 samples and should combine them under WJetsLNu\n",
      "---> Applying preselection.\n",
      "---> Done with preselection.\n",
      "---> Accumulating event weights.\n",
      "Applying weight_genweight weight\n",
      "Applying weight_L1Prefiring weight\n",
      "Applying weight_pileup weight\n",
      "Applying weight_trigger_iso_muon weight\n",
      "Applying weight_trigger_noniso_muon weight\n",
      "Applying weight_isolation_muon weight\n",
      "Applying weight_id_muon weight\n",
      "Applying weight_vjets_nominal weight\n",
      "---> Done with accumulating event weights.\n",
      "Will fill the WJetsLNu dataframe with the remaining 382914 events\n",
      "tot event weight 4839.763844145348 \n",
      "\n",
      "Finding WJetsToLNu_HT-200To400 samples and should combine them under WJetsLNu\n",
      "---> Applying preselection.\n",
      "---> Done with preselection.\n",
      "---> Accumulating event weights.\n",
      "Applying weight_genweight weight\n",
      "Applying weight_L1Prefiring weight\n",
      "Applying weight_pileup weight\n",
      "Applying weight_trigger_iso_muon weight\n",
      "Applying weight_trigger_noniso_muon weight\n",
      "Applying weight_isolation_muon weight\n",
      "Applying weight_id_muon weight\n",
      "Applying weight_vjets_nominal weight\n",
      "---> Done with accumulating event weights.\n",
      "Will fill the WJetsLNu dataframe with the remaining 571982 events\n",
      "tot event weight 261674.62578729066 \n",
      "\n",
      "Finding ST_tW_top_5f_inclusiveDecays samples and should combine them under SingleTop\n",
      "---> Applying preselection.\n",
      "---> Done with preselection.\n",
      "---> Accumulating event weights.\n",
      "Applying weight_genweight weight\n",
      "Applying weight_L1Prefiring weight\n",
      "Applying weight_pileup weight\n",
      "Applying weight_trigger_iso_muon weight\n",
      "Applying weight_trigger_noniso_muon weight\n",
      "Applying weight_isolation_muon weight\n",
      "Applying weight_id_muon weight\n",
      "weight_vjets_nominal weight is not stored in parquet\n",
      "---> Done with accumulating event weights.\n",
      "Will fill the SingleTop dataframe with the remaining 25544 events\n",
      "tot event weight 5771.67283434548 \n",
      "\n",
      "Finding GluGluHToWW_Pt-200ToInf_M-125 samples and should combine them under HWW\n",
      "---> Applying preselection.\n",
      "---> Done with preselection.\n",
      "---> Accumulating event weights.\n",
      "Applying weight_genweight weight\n",
      "Applying weight_L1Prefiring weight\n",
      "Applying weight_pileup weight\n",
      "Applying weight_trigger_iso_muon weight\n",
      "Applying weight_trigger_noniso_muon weight\n",
      "Applying weight_isolation_muon weight\n",
      "Applying weight_id_muon weight\n",
      "weight_vjets_nominal weight is not stored in parquet\n",
      "---> Done with accumulating event weights.\n",
      "Will fill the HWW dataframe with the remaining 19294 events\n",
      "tot event weight 151.10527973726673 \n",
      "\n",
      "Finding WJetsToQQ_HT-200to400 samples and should combine them under WZQQ\n",
      "---> Applying preselection.\n",
      "---> Done with preselection.\n",
      "---> Accumulating event weights.\n",
      "Applying weight_genweight weight\n",
      "Applying weight_L1Prefiring weight\n",
      "Applying weight_pileup weight\n",
      "Applying weight_trigger_iso_muon weight\n",
      "Applying weight_trigger_noniso_muon weight\n",
      "Applying weight_isolation_muon weight\n",
      "Applying weight_id_muon weight\n",
      "Applying weight_vjets_nominal weight\n",
      "---> Done with accumulating event weights.\n",
      "Will fill the WZQQ dataframe with the remaining 4 events\n",
      "tot event weight 41.24292149865058 \n",
      "\n",
      "Finding ST_tW_antitop_5f_inclusiveDecays samples and should combine them under SingleTop\n",
      "---> Applying preselection.\n",
      "---> Done with preselection.\n",
      "---> Accumulating event weights.\n",
      "Applying weight_genweight weight\n",
      "Applying weight_L1Prefiring weight\n",
      "Applying weight_pileup weight\n",
      "Applying weight_trigger_iso_muon weight\n",
      "Applying weight_trigger_noniso_muon weight\n",
      "Applying weight_isolation_muon weight\n",
      "Applying weight_id_muon weight\n",
      "weight_vjets_nominal weight is not stored in parquet\n",
      "---> Done with accumulating event weights.\n",
      "Will fill the SingleTop dataframe with the remaining 25809 events\n",
      "tot event weight 5813.957605577949 \n",
      "\n",
      "Finding ZJetsToQQ_HT-200to400 samples and should combine them under WZQQ\n",
      "---> Applying preselection.\n",
      "---> Done with preselection.\n",
      "---> Accumulating event weights.\n",
      "Applying weight_genweight weight\n",
      "Applying weight_L1Prefiring weight\n",
      "Applying weight_pileup weight\n",
      "Applying weight_trigger_iso_muon weight\n",
      "Applying weight_trigger_noniso_muon weight\n",
      "Applying weight_isolation_muon weight\n",
      "Applying weight_id_muon weight\n",
      "Applying weight_vjets_nominal weight\n",
      "---> Done with accumulating event weights.\n",
      "Will fill the WZQQ dataframe with the remaining 7 events\n",
      "tot event weight 30.59786623124888 \n",
      "\n",
      "ATTENTION: SingleElectron_Run2017E will be skipped\n",
      "ATTENTION: SingleElectron_Run2017B will be skipped\n",
      "Finding QCD_Pt_3200toInf samples and should combine them under QCD\n",
      "---> Applying preselection.\n",
      "---> Done with preselection.\n",
      "---> Accumulating event weights.\n",
      "Applying weight_genweight weight\n",
      "Applying weight_L1Prefiring weight\n",
      "Applying weight_pileup weight\n",
      "Applying weight_trigger_iso_muon weight\n",
      "Applying weight_trigger_noniso_muon weight\n",
      "Applying weight_isolation_muon weight\n",
      "Applying weight_id_muon weight\n",
      "weight_vjets_nominal weight is not stored in parquet\n",
      "---> Done with accumulating event weights.\n",
      "Will fill the QCD dataframe with the remaining 97 events\n",
      "tot event weight 0.0005275066309746365 \n",
      "\n",
      "Finding HWplusJ_HToWW_M-125 samples and should combine them under VH\n"
     ]
    },
    {
     "name": "stdout",
     "output_type": "stream",
     "text": [
      "---> Applying preselection.\n",
      "---> Done with preselection.\n",
      "---> Accumulating event weights.\n",
      "Applying weight_genweight weight\n",
      "Applying weight_L1Prefiring weight\n",
      "Applying weight_pileup weight\n",
      "Applying weight_trigger_iso_muon weight\n",
      "Applying weight_trigger_noniso_muon weight\n",
      "Applying weight_isolation_muon weight\n",
      "Applying weight_id_muon weight\n",
      "weight_vjets_nominal weight is not stored in parquet\n",
      "---> Done with accumulating event weights.\n",
      "Will fill the VH dataframe with the remaining 25571 events\n",
      "tot event weight 27.667197210358843 \n",
      "\n",
      "ATTENTION: SingleElectron_Run2017C will be skipped\n",
      "ATTENTION: SingleElectron_Run2017D will be skipped\n",
      "Finding WJetsToLNu_HT-70To100 samples and should combine them under WJetsLNu\n",
      "---> Applying preselection.\n",
      "---> Done with preselection.\n",
      "---> Accumulating event weights.\n",
      "Applying weight_genweight weight\n",
      "Applying weight_L1Prefiring weight\n",
      "Applying weight_pileup weight\n",
      "Applying weight_trigger_iso_muon weight\n",
      "Applying weight_trigger_noniso_muon weight\n",
      "Applying weight_isolation_muon weight\n",
      "Applying weight_id_muon weight\n",
      "Applying weight_vjets_nominal weight\n",
      "---> Done with accumulating event weights.\n",
      "Will fill the WJetsLNu dataframe with the remaining 819 events\n",
      "tot event weight 1472.0172649810922 \n",
      "\n",
      "ATTENTION: SingleMuon_Run2017C will be skipped\n",
      "Finding ST_s-channel_4f_leptonDecays samples and should combine them under SingleTop\n",
      "---> Applying preselection.\n",
      "---> Done with preselection.\n",
      "---> Accumulating event weights.\n",
      "Applying weight_genweight weight\n",
      "Applying weight_L1Prefiring weight\n",
      "Applying weight_pileup weight\n",
      "Applying weight_trigger_iso_muon weight\n",
      "Applying weight_trigger_noniso_muon weight\n",
      "Applying weight_isolation_muon weight\n",
      "Applying weight_id_muon weight\n",
      "weight_vjets_nominal weight is not stored in parquet\n",
      "---> Done with accumulating event weights.\n",
      "Will fill the SingleTop dataframe with the remaining 41728 events\n",
      "tot event weight 136.13205324168516 \n",
      "\n",
      "ATTENTION: SingleMuon_Run2017D will be skipped\n",
      "Finding DYJetsToLL_Pt-50To100 samples and should combine them under DYJets\n",
      "---> Applying preselection.\n",
      "---> Done with preselection.\n",
      "---> Accumulating event weights.\n",
      "Applying weight_genweight weight\n",
      "Applying weight_L1Prefiring weight\n",
      "Applying weight_pileup weight\n",
      "Applying weight_trigger_iso_muon weight\n",
      "Applying weight_trigger_noniso_muon weight\n",
      "Applying weight_isolation_muon weight\n",
      "Applying weight_id_muon weight\n",
      "Applying weight_vjets_nominal weight\n",
      "---> Done with accumulating event weights.\n",
      "Will fill the DYJets dataframe with the remaining 23975 events\n",
      "tot event weight 4014.5387492935456 \n",
      "\n",
      "Finding QCD_Pt_1800to2400 samples and should combine them under QCD\n",
      "---> Applying preselection.\n",
      "---> Done with preselection.\n",
      "---> Accumulating event weights.\n",
      "Applying weight_genweight weight\n",
      "Applying weight_L1Prefiring weight\n",
      "Applying weight_pileup weight\n",
      "Applying weight_trigger_iso_muon weight\n",
      "Applying weight_trigger_noniso_muon weight\n",
      "Applying weight_isolation_muon weight\n",
      "Applying weight_id_muon weight\n",
      "weight_vjets_nominal weight is not stored in parquet\n",
      "---> Done with accumulating event weights.\n",
      "Will fill the QCD dataframe with the remaining 668 events\n",
      "tot event weight 0.4230152996014006 \n",
      "\n",
      "ATTENTION: SingleMuon_Run2017E will be skipped\n",
      "ATTENTION: SingleMuon_Run2017B will be skipped\n",
      "Finding WW samples and should combine them under Diboson\n",
      "---> Applying preselection.\n",
      "---> Done with preselection.\n",
      "---> Accumulating event weights.\n",
      "Applying weight_genweight weight\n",
      "Applying weight_L1Prefiring weight\n",
      "Applying weight_pileup weight\n",
      "Applying weight_trigger_iso_muon weight\n",
      "Applying weight_trigger_noniso_muon weight\n",
      "Applying weight_isolation_muon weight\n",
      "Applying weight_id_muon weight\n",
      "weight_vjets_nominal weight is not stored in parquet\n",
      "---> Done with accumulating event weights.\n",
      "Will fill the Diboson dataframe with the remaining 16446 events\n",
      "tot event weight 3377.8941554352236 \n",
      "\n",
      "Finding ST_t-channel_antitop_4f_InclusiveDecays samples and should combine them under SingleTop\n",
      "---> Applying preselection.\n",
      "---> Done with preselection.\n",
      "---> Accumulating event weights.\n",
      "Applying weight_genweight weight\n",
      "Applying weight_L1Prefiring weight\n",
      "Applying weight_pileup weight\n",
      "Applying weight_trigger_iso_muon weight\n",
      "Applying weight_trigger_noniso_muon weight\n",
      "Applying weight_isolation_muon weight\n",
      "Applying weight_id_muon weight\n",
      "weight_vjets_nominal weight is not stored in parquet\n",
      "---> Done with accumulating event weights.\n",
      "Will fill the SingleTop dataframe with the remaining 47559 events\n",
      "tot event weight 1514.2699325678268 \n",
      "\n",
      "Finding TTTo2L2Nu samples and should combine them under TTbar\n",
      "---> Applying preselection.\n",
      "---> Done with preselection.\n",
      "---> Accumulating event weights.\n",
      "Applying weight_genweight weight\n",
      "Applying weight_L1Prefiring weight\n",
      "Applying weight_pileup weight\n",
      "Applying weight_trigger_iso_muon weight\n",
      "Applying weight_trigger_noniso_muon weight\n",
      "Applying weight_isolation_muon weight\n",
      "Applying weight_id_muon weight\n",
      "weight_vjets_nominal weight is not stored in parquet\n",
      "---> Done with accumulating event weights.\n",
      "Will fill the TTbar dataframe with the remaining 725533 events\n",
      "tot event weight 21277.30830169814 \n",
      "\n",
      "Finding QCD_Pt_2400to3200 samples and should combine them under QCD\n",
      "---> Applying preselection.\n",
      "---> Done with preselection.\n",
      "---> Accumulating event weights.\n",
      "Applying weight_genweight weight\n",
      "Applying weight_L1Prefiring weight\n",
      "Applying weight_pileup weight\n",
      "Applying weight_trigger_iso_muon weight\n",
      "Applying weight_trigger_noniso_muon weight\n",
      "Applying weight_isolation_muon weight\n",
      "Applying weight_id_muon weight\n",
      "weight_vjets_nominal weight is not stored in parquet\n",
      "---> Done with accumulating event weights.\n",
      "Will fill the QCD dataframe with the remaining 302 events\n",
      "tot event weight 0.020996503022542898 \n",
      "\n",
      "Finding DYJetsToLL_Pt-650ToInf samples and should combine them under DYJets\n",
      "---> Applying preselection.\n",
      "---> Done with preselection.\n",
      "---> Accumulating event weights.\n",
      "Applying weight_genweight weight\n",
      "Applying weight_L1Prefiring weight\n",
      "Applying weight_pileup weight\n",
      "Applying weight_trigger_iso_muon weight\n",
      "Applying weight_trigger_noniso_muon weight\n",
      "Applying weight_isolation_muon weight\n",
      "Applying weight_id_muon weight\n",
      "Applying weight_vjets_nominal weight\n",
      "---> Done with accumulating event weights.\n",
      "Will fill the DYJets dataframe with the remaining 101802 events\n",
      "tot event weight 83.89696018235412 \n",
      "\n",
      "ATTENTION: GluGluHToTauTau will be skipped\n",
      "Finding ZJetsToQQ_HT-400to600 samples and should combine them under WZQQ\n",
      "---> Applying preselection.\n",
      "---> Done with preselection.\n",
      "---> Accumulating event weights.\n",
      "Applying weight_genweight weight\n",
      "Applying weight_L1Prefiring weight\n",
      "Applying weight_pileup weight\n",
      "Applying weight_trigger_iso_muon weight\n",
      "Applying weight_trigger_noniso_muon weight\n",
      "Applying weight_isolation_muon weight\n",
      "Applying weight_id_muon weight\n",
      "Applying weight_vjets_nominal weight\n",
      "---> Done with accumulating event weights.\n",
      "Will fill the WZQQ dataframe with the remaining 537 events\n",
      "tot event weight 254.6532312646323 \n",
      "\n",
      "Finding ZZ samples and should combine them under Diboson\n",
      "---> Applying preselection.\n",
      "---> Done with preselection.\n",
      "---> Accumulating event weights.\n",
      "Applying weight_genweight weight\n",
      "Applying weight_L1Prefiring weight\n",
      "Applying weight_pileup weight\n",
      "Applying weight_trigger_iso_muon weight\n",
      "Applying weight_trigger_noniso_muon weight\n",
      "Applying weight_isolation_muon weight\n",
      "Applying weight_id_muon weight\n",
      "weight_vjets_nominal weight is not stored in parquet\n",
      "---> Done with accumulating event weights.\n",
      "Will fill the Diboson dataframe with the remaining 1587 events\n",
      "tot event weight 281.81538308013984 \n",
      "\n",
      "Finding TTToHadronic samples and should combine them under TTbar\n",
      "---> Applying preselection.\n",
      "---> Done with preselection.\n",
      "---> Accumulating event weights.\n",
      "Applying weight_genweight weight\n",
      "Applying weight_L1Prefiring weight\n",
      "Applying weight_pileup weight\n",
      "Applying weight_trigger_iso_muon weight\n",
      "Applying weight_trigger_noniso_muon weight\n",
      "Applying weight_isolation_muon weight\n",
      "Applying weight_id_muon weight\n",
      "weight_vjets_nominal weight is not stored in parquet\n",
      "---> Done with accumulating event weights.\n",
      "Will fill the TTbar dataframe with the remaining 3877 events\n",
      "tot event weight 450.9909875983734 \n",
      "\n",
      "Finding GluGluZH_HToWW_ZTo2L_M-125 samples and should combine them under Diboson\n",
      "---> Applying preselection.\n",
      "---> Done with preselection.\n",
      "---> Accumulating event weights.\n",
      "Applying weight_genweight weight\n",
      "Applying weight_L1Prefiring weight\n",
      "Applying weight_pileup weight\n",
      "Applying weight_trigger_iso_muon weight\n",
      "Applying weight_trigger_noniso_muon weight\n",
      "Applying weight_isolation_muon weight\n",
      "Applying weight_id_muon weight\n",
      "weight_vjets_nominal weight is not stored in parquet\n",
      "---> Done with accumulating event weights.\n",
      "Will fill the Diboson dataframe with the remaining 67214 events\n",
      "tot event weight 0.7002487018744266 \n",
      "\n",
      "Finding QCD_Pt_1000to1400 samples and should combine them under QCD\n"
     ]
    },
    {
     "name": "stdout",
     "output_type": "stream",
     "text": [
      "---> Applying preselection.\n",
      "---> Done with preselection.\n",
      "---> Accumulating event weights.\n",
      "Applying weight_genweight weight\n",
      "Applying weight_L1Prefiring weight\n",
      "Applying weight_pileup weight\n",
      "Applying weight_trigger_iso_muon weight\n",
      "Applying weight_trigger_noniso_muon weight\n",
      "Applying weight_isolation_muon weight\n",
      "Applying weight_id_muon weight\n",
      "weight_vjets_nominal weight is not stored in parquet\n",
      "---> Done with accumulating event weights.\n",
      "Will fill the QCD dataframe with the remaining 2521 events\n",
      "tot event weight 37.50489166145864 \n",
      "\n",
      "Finding QCD_Pt_600to800 samples and should combine them under QCD\n",
      "---> Applying preselection.\n",
      "---> Done with preselection.\n",
      "---> Accumulating event weights.\n",
      "Applying weight_genweight weight\n",
      "Applying weight_L1Prefiring weight\n",
      "Applying weight_pileup weight\n",
      "Applying weight_trigger_iso_muon weight\n",
      "Applying weight_trigger_noniso_muon weight\n",
      "Applying weight_isolation_muon weight\n",
      "Applying weight_id_muon weight\n",
      "weight_vjets_nominal weight is not stored in parquet\n",
      "---> Done with accumulating event weights.\n",
      "Will fill the QCD dataframe with the remaining 2232 events\n",
      "tot event weight 692.8359144381413 \n",
      "\n",
      "Finding QCD_Pt_300to470 samples and should combine them under QCD\n",
      "---> Applying preselection.\n",
      "---> Done with preselection.\n",
      "---> Accumulating event weights.\n",
      "Applying weight_genweight weight\n",
      "Applying weight_L1Prefiring weight\n",
      "Applying weight_pileup weight\n",
      "Applying weight_trigger_iso_muon weight\n",
      "Applying weight_trigger_noniso_muon weight\n",
      "Applying weight_isolation_muon weight\n",
      "Applying weight_id_muon weight\n",
      "weight_vjets_nominal weight is not stored in parquet\n",
      "---> Done with accumulating event weights.\n",
      "Will fill the QCD dataframe with the remaining 1575 events\n",
      "tot event weight 20645.53713600649 \n",
      "\n",
      "Finding WJetsToQQ_HT-800toInf samples and should combine them under WZQQ\n",
      "---> Applying preselection.\n",
      "---> Done with preselection.\n",
      "---> Accumulating event weights.\n",
      "Applying weight_genweight weight\n",
      "Applying weight_L1Prefiring weight\n",
      "Applying weight_pileup weight\n",
      "Applying weight_trigger_iso_muon weight\n",
      "Applying weight_trigger_noniso_muon weight\n",
      "Applying weight_isolation_muon weight\n",
      "Applying weight_id_muon weight\n",
      "Applying weight_vjets_nominal weight\n",
      "---> Done with accumulating event weights.\n",
      "Will fill the WZQQ dataframe with the remaining 1542 events\n",
      "tot event weight 157.47885921769537 \n",
      "\n",
      "Finding ZJetsToQQ_HT-600to800 samples and should combine them under WZQQ\n",
      "---> Applying preselection.\n",
      "---> Done with preselection.\n",
      "---> Accumulating event weights.\n",
      "Applying weight_genweight weight\n",
      "Applying weight_L1Prefiring weight\n",
      "Applying weight_pileup weight\n",
      "Applying weight_trigger_iso_muon weight\n",
      "Applying weight_trigger_noniso_muon weight\n",
      "Applying weight_isolation_muon weight\n",
      "Applying weight_id_muon weight\n",
      "Applying weight_vjets_nominal weight\n",
      "---> Done with accumulating event weights.\n",
      "Will fill the WZQQ dataframe with the remaining 1362 events\n",
      "tot event weight 179.06750549833816 \n",
      "\n",
      "Finding QCD_Pt_170to300 samples and should combine them under QCD\n",
      "---> Applying preselection.\n",
      "---> Done with preselection.\n",
      "---> Accumulating event weights.\n",
      "Applying weight_genweight weight\n",
      "Applying weight_L1Prefiring weight\n",
      "Applying weight_pileup weight\n",
      "Applying weight_trigger_iso_muon weight\n",
      "Applying weight_trigger_noniso_muon weight\n",
      "Applying weight_isolation_muon weight\n",
      "Applying weight_id_muon weight\n",
      "weight_vjets_nominal weight is not stored in parquet\n",
      "---> Done with accumulating event weights.\n",
      "Will fill the QCD dataframe with the remaining 769 events\n",
      "tot event weight 103021.53550949607 \n",
      "\n",
      "Finding WJetsToLNu_HT-600To800 samples and should combine them under WJetsLNu\n",
      "---> Applying preselection.\n",
      "---> Done with preselection.\n",
      "---> Accumulating event weights.\n",
      "Applying weight_genweight weight\n",
      "Applying weight_L1Prefiring weight\n",
      "Applying weight_pileup weight\n",
      "Applying weight_trigger_iso_muon weight\n",
      "Applying weight_trigger_noniso_muon weight\n",
      "Applying weight_isolation_muon weight\n",
      "Applying weight_id_muon weight\n",
      "Applying weight_vjets_nominal weight\n",
      "---> Done with accumulating event weights.\n",
      "Will fill the WJetsLNu dataframe with the remaining 290953 events\n",
      "tot event weight 31746.963874164972 \n",
      "\n",
      "Finding WJetsToQQ_HT-600to800 samples and should combine them under WZQQ\n",
      "---> Applying preselection.\n",
      "---> Done with preselection.\n",
      "---> Accumulating event weights.\n",
      "Applying weight_genweight weight\n",
      "Applying weight_L1Prefiring weight\n",
      "Applying weight_pileup weight\n",
      "Applying weight_trigger_iso_muon weight\n",
      "Applying weight_trigger_noniso_muon weight\n",
      "Applying weight_isolation_muon weight\n",
      "Applying weight_id_muon weight\n",
      "Applying weight_vjets_nominal weight\n",
      "---> Done with accumulating event weights.\n",
      "Will fill the WZQQ dataframe with the remaining 1005 events\n",
      "tot event weight 230.6265350999053 \n",
      "\n",
      "Finding WJetsToLNu_HT-2500ToInf samples and should combine them under WJetsLNu\n",
      "---> Applying preselection.\n",
      "---> Done with preselection.\n",
      "---> Accumulating event weights.\n",
      "Applying weight_genweight weight\n",
      "Applying weight_L1Prefiring weight\n",
      "Applying weight_pileup weight\n",
      "Applying weight_trigger_iso_muon weight\n",
      "Applying weight_trigger_noniso_muon weight\n",
      "Applying weight_isolation_muon weight\n",
      "Applying weight_id_muon weight\n",
      "Applying weight_vjets_nominal weight\n",
      "---> Done with accumulating event weights.\n",
      "Will fill the WJetsLNu dataframe with the remaining 104845 events\n",
      "tot event weight 123.9534151881632 \n",
      "\n",
      "Finding ttHToNonbb_M125 samples and should combine them under ttH\n",
      "---> Applying preselection.\n",
      "---> Done with preselection.\n",
      "---> Accumulating event weights.\n",
      "Applying weight_genweight weight\n",
      "Applying weight_L1Prefiring weight\n",
      "Applying weight_pileup weight\n",
      "Applying weight_trigger_iso_muon weight\n",
      "Applying weight_trigger_noniso_muon weight\n",
      "Applying weight_isolation_muon weight\n",
      "Applying weight_id_muon weight\n",
      "weight_vjets_nominal weight is not stored in parquet\n",
      "---> Done with accumulating event weights.\n",
      "Will fill the ttH dataframe with the remaining 17182 events\n",
      "tot event weight 58.192806311636836 \n",
      "\n",
      "Finding ZJetsToQQ_HT-800toInf samples and should combine them under WZQQ\n",
      "---> Applying preselection.\n",
      "---> Done with preselection.\n",
      "---> Accumulating event weights.\n",
      "Applying weight_genweight weight\n",
      "Applying weight_L1Prefiring weight\n",
      "Applying weight_pileup weight\n",
      "Applying weight_trigger_iso_muon weight\n",
      "Applying weight_trigger_noniso_muon weight\n",
      "Applying weight_isolation_muon weight\n",
      "Applying weight_id_muon weight\n",
      "Applying weight_vjets_nominal weight\n",
      "---> Done with accumulating event weights.\n",
      "Will fill the WZQQ dataframe with the remaining 1660 events\n",
      "tot event weight 126.11621869308483 \n",
      "\n",
      "ATTENTION: SingleElectron_Run2017F will be skipped\n",
      "Finding QCD_Pt_800to1000 samples and should combine them under QCD\n",
      "---> Applying preselection.\n",
      "---> Done with preselection.\n",
      "---> Accumulating event weights.\n",
      "Applying weight_genweight weight\n",
      "Applying weight_L1Prefiring weight\n",
      "Applying weight_pileup weight\n",
      "Applying weight_trigger_iso_muon weight\n",
      "Applying weight_trigger_noniso_muon weight\n",
      "Applying weight_isolation_muon weight\n",
      "Applying weight_id_muon weight\n",
      "weight_vjets_nominal weight is not stored in parquet\n",
      "---> Done with accumulating event weights.\n",
      "Will fill the QCD dataframe with the remaining 2409 events\n",
      "tot event weight 125.8363142289813 \n",
      "\n",
      "Finding WJetsToQQ_HT-400to600 samples and should combine them under WZQQ\n",
      "---> Applying preselection.\n",
      "---> Done with preselection.\n",
      "---> Accumulating event weights.\n",
      "Applying weight_genweight weight\n",
      "Applying weight_L1Prefiring weight\n",
      "Applying weight_pileup weight\n",
      "Applying weight_trigger_iso_muon weight\n",
      "Applying weight_trigger_noniso_muon weight\n",
      "Applying weight_isolation_muon weight\n",
      "Applying weight_id_muon weight\n",
      "Applying weight_vjets_nominal weight\n",
      "---> Done with accumulating event weights.\n",
      "Will fill the WZQQ dataframe with the remaining 117 events\n",
      "tot event weight 269.02050645751507 \n",
      "\n",
      "Finding WJetsToLNu_HT-400To600 samples and should combine them under WJetsLNu\n",
      "---> Applying preselection.\n",
      "---> Done with preselection.\n",
      "---> Accumulating event weights.\n",
      "Applying weight_genweight weight\n",
      "Applying weight_L1Prefiring weight\n",
      "Applying weight_pileup weight\n",
      "Applying weight_trigger_iso_muon weight\n",
      "Applying weight_trigger_noniso_muon weight\n",
      "Applying weight_isolation_muon weight\n",
      "Applying weight_id_muon weight\n",
      "Applying weight_vjets_nominal weight\n",
      "---> Done with accumulating event weights.\n",
      "Will fill the WJetsLNu dataframe with the remaining 204390 events\n",
      "tot event weight 94881.06967427055 \n",
      "\n"
     ]
    },
    {
     "name": "stdout",
     "output_type": "stream",
     "text": [
      "Finding QCD_Pt_470to600 samples and should combine them under QCD\n",
      "---> Applying preselection.\n",
      "---> Done with preselection.\n",
      "---> Accumulating event weights.\n",
      "Applying weight_genweight weight\n",
      "Applying weight_L1Prefiring weight\n",
      "Applying weight_pileup weight\n",
      "Applying weight_trigger_iso_muon weight\n",
      "Applying weight_trigger_noniso_muon weight\n",
      "Applying weight_isolation_muon weight\n",
      "Applying weight_id_muon weight\n",
      "weight_vjets_nominal weight is not stored in parquet\n",
      "---> Done with accumulating event weights.\n",
      "Will fill the QCD dataframe with the remaining 1990 events\n",
      "tot event weight 2106.016400790356 \n",
      "\n",
      "Finding HZJ_HToWW_M-125 samples and should combine them under VH\n",
      "---> Applying preselection.\n",
      "---> Done with preselection.\n",
      "---> Accumulating event weights.\n",
      "Applying weight_genweight weight\n",
      "Applying weight_L1Prefiring weight\n",
      "Applying weight_pileup weight\n",
      "Applying weight_trigger_iso_muon weight\n",
      "Applying weight_trigger_noniso_muon weight\n",
      "Applying weight_isolation_muon weight\n",
      "Applying weight_id_muon weight\n",
      "weight_vjets_nominal weight is not stored in parquet\n",
      "---> Done with accumulating event weights.\n",
      "Will fill the VH dataframe with the remaining 39632 events\n",
      "tot event weight 23.193263828596137 \n",
      "\n",
      "Finding WZ samples and should combine them under Diboson\n",
      "---> Applying preselection.\n",
      "---> Done with preselection.\n",
      "---> Accumulating event weights.\n",
      "Applying weight_genweight weight\n",
      "Applying weight_L1Prefiring weight\n",
      "Applying weight_pileup weight\n",
      "Applying weight_trigger_iso_muon weight\n",
      "Applying weight_trigger_noniso_muon weight\n",
      "Applying weight_isolation_muon weight\n",
      "Applying weight_id_muon weight\n",
      "weight_vjets_nominal weight is not stored in parquet\n",
      "---> Done with accumulating event weights.\n",
      "Will fill the Diboson dataframe with the remaining 6774 events\n",
      "tot event weight 928.1673551433994 \n",
      "\n",
      "Finding QCD_Pt_1400to1800 samples and should combine them under QCD\n",
      "---> Applying preselection.\n",
      "---> Done with preselection.\n",
      "---> Accumulating event weights.\n",
      "Applying weight_genweight weight\n",
      "Applying weight_L1Prefiring weight\n",
      "Applying weight_pileup weight\n",
      "Applying weight_trigger_iso_muon weight\n",
      "Applying weight_trigger_noniso_muon weight\n",
      "Applying weight_isolation_muon weight\n",
      "Applying weight_id_muon weight\n",
      "weight_vjets_nominal weight is not stored in parquet\n",
      "---> Done with accumulating event weights.\n",
      "Will fill the QCD dataframe with the remaining 1414 events\n",
      "tot event weight 3.3266993626712953 \n",
      "\n",
      "Finding DYJetsToLL_Pt-100To250 samples and should combine them under DYJets\n",
      "---> Applying preselection.\n",
      "---> Done with preselection.\n",
      "---> Accumulating event weights.\n",
      "Applying weight_genweight weight\n",
      "Applying weight_L1Prefiring weight\n",
      "Applying weight_pileup weight\n",
      "Applying weight_trigger_iso_muon weight\n",
      "Applying weight_trigger_noniso_muon weight\n",
      "Applying weight_isolation_muon weight\n",
      "Applying weight_id_muon weight\n",
      "Applying weight_vjets_nominal weight\n",
      "---> Done with accumulating event weights.\n",
      "Will fill the DYJets dataframe with the remaining 1032192 events\n",
      "tot event weight 53606.75085647433 \n",
      "\n",
      "ATTENTION: SingleMuon_Run2017F will be skipped\n",
      "Finding WJetsToLNu_HT-100To200 samples and should combine them under WJetsLNu\n",
      "---> Applying preselection.\n",
      "---> Done with preselection.\n",
      "---> Accumulating event weights.\n",
      "Applying weight_genweight weight\n",
      "Applying weight_L1Prefiring weight\n",
      "Applying weight_pileup weight\n",
      "Applying weight_trigger_electron weight\n",
      "Applying weight_reco_electron weight\n",
      "Applying weight_id_electron weight\n",
      "Applying weight_vjets_nominal weight\n",
      "---> Done with accumulating event weights.\n",
      "Will fill the WJetsLNu dataframe with the remaining 33749 events\n",
      "tot event weight 51361.53954729807 \n",
      "\n",
      "Finding DYJetsToLL_Pt-400To650 samples and should combine them under DYJets\n",
      "---> Applying preselection.\n",
      "---> Done with preselection.\n",
      "---> Accumulating event weights.\n",
      "Applying weight_genweight weight\n",
      "Applying weight_L1Prefiring weight\n",
      "Applying weight_pileup weight\n",
      "Applying weight_trigger_electron weight\n",
      "Applying weight_reco_electron weight\n",
      "Applying weight_id_electron weight\n",
      "Applying weight_vjets_nominal weight\n",
      "---> Done with accumulating event weights.\n",
      "Will fill the DYJets dataframe with the remaining 221601 events\n",
      "tot event weight 2023.686230029072 \n",
      "\n",
      "Finding VBFHToWWToLNuQQ_M-125_withDipoleRecoil samples and should combine them under VBF\n",
      "---> Applying preselection.\n",
      "---> Done with preselection.\n",
      "---> Accumulating event weights.\n",
      "Applying weight_genweight weight\n",
      "Applying weight_L1Prefiring weight\n",
      "Applying weight_pileup weight\n",
      "Applying weight_trigger_electron weight\n",
      "Applying weight_reco_electron weight\n",
      "Applying weight_id_electron weight\n",
      "weight_vjets_nominal weight is not stored in parquet\n",
      "---> Done with accumulating event weights.\n",
      "Will fill the VBF dataframe with the remaining 985 events\n",
      "tot event weight 46.004896438129265 \n",
      "\n",
      "Finding HWminusJ_HToWW_M-125 samples and should combine them under VH\n",
      "---> Applying preselection.\n",
      "---> Done with preselection.\n",
      "---> Accumulating event weights.\n",
      "Applying weight_genweight weight\n",
      "Applying weight_L1Prefiring weight\n",
      "Applying weight_pileup weight\n",
      "Applying weight_trigger_electron weight\n",
      "Applying weight_reco_electron weight\n",
      "Applying weight_id_electron weight\n",
      "weight_vjets_nominal weight is not stored in parquet\n",
      "---> Done with accumulating event weights.\n",
      "Will fill the VH dataframe with the remaining 20666 events\n",
      "tot event weight 13.593489935935585 \n",
      "\n",
      "Finding WJetsToLNu_HT-800To1200 samples and should combine them under WJetsLNu\n",
      "---> Applying preselection.\n",
      "---> Done with preselection.\n",
      "---> Accumulating event weights.\n",
      "Applying weight_genweight weight\n",
      "Applying weight_L1Prefiring weight\n",
      "Applying weight_pileup weight\n",
      "Applying weight_trigger_electron weight\n",
      "Applying weight_reco_electron weight\n",
      "Applying weight_id_electron weight\n",
      "Applying weight_vjets_nominal weight\n",
      "---> Done with accumulating event weights.\n",
      "Will fill the WJetsLNu dataframe with the remaining 267422 events\n",
      "tot event weight 13565.943391384924 \n",
      "\n",
      "Finding TTToSemiLeptonic samples and should combine them under TTbar\n",
      "---> Applying preselection.\n",
      "---> Done with preselection.\n",
      "---> Accumulating event weights.\n",
      "Applying weight_genweight weight\n",
      "Applying weight_L1Prefiring weight\n",
      "Applying weight_pileup weight\n",
      "Applying weight_trigger_electron weight\n",
      "Applying weight_reco_electron weight\n",
      "Applying weight_id_electron weight\n",
      "weight_vjets_nominal weight is not stored in parquet\n",
      "---> Done with accumulating event weights.\n",
      "Will fill the TTbar dataframe with the remaining 1145640 events\n",
      "tot event weight 104171.77986189126 \n",
      "\n",
      "Finding DYJetsToLL_Pt-250To400 samples and should combine them under DYJets\n",
      "---> Applying preselection.\n",
      "---> Done with preselection.\n",
      "---> Accumulating event weights.\n",
      "Applying weight_genweight weight\n",
      "Applying weight_L1Prefiring weight\n",
      "Applying weight_pileup weight\n",
      "Applying weight_trigger_electron weight\n",
      "Applying weight_reco_electron weight\n",
      "Applying weight_id_electron weight\n",
      "Applying weight_vjets_nominal weight\n",
      "---> Done with accumulating event weights.\n",
      "Will fill the DYJets dataframe with the remaining 2274030 events\n",
      "tot event weight 15566.958030487165 \n",
      "\n",
      "Finding ST_t-channel_top_4f_InclusiveDecays samples and should combine them under SingleTop\n",
      "---> Applying preselection.\n",
      "---> Done with preselection.\n",
      "---> Accumulating event weights.\n",
      "Applying weight_genweight weight\n",
      "Applying weight_L1Prefiring weight\n",
      "Applying weight_pileup weight\n",
      "Applying weight_trigger_electron weight\n",
      "Applying weight_reco_electron weight\n",
      "Applying weight_id_electron weight\n",
      "weight_vjets_nominal weight is not stored in parquet\n",
      "---> Done with accumulating event weights.\n",
      "Will fill the SingleTop dataframe with the remaining 73480 events\n",
      "tot event weight 1994.3630196386541 \n",
      "\n",
      "Finding ST_s-channel_4f_hadronicDecays samples and should combine them under SingleTop\n",
      "Finding WJetsToLNu_HT-1200To2500 samples and should combine them under WJetsLNu\n",
      "---> Applying preselection.\n",
      "---> Done with preselection.\n",
      "---> Accumulating event weights.\n",
      "Applying weight_genweight weight\n",
      "Applying weight_L1Prefiring weight\n",
      "Applying weight_pileup weight\n",
      "Applying weight_trigger_electron weight\n",
      "Applying weight_reco_electron weight\n",
      "Applying weight_id_electron weight\n",
      "Applying weight_vjets_nominal weight\n",
      "---> Done with accumulating event weights.\n",
      "Will fill the WJetsLNu dataframe with the remaining 309325 events\n",
      "tot event weight 3767.7255897703817 \n",
      "\n",
      "Finding WJetsToLNu_HT-200To400 samples and should combine them under WJetsLNu\n"
     ]
    },
    {
     "name": "stdout",
     "output_type": "stream",
     "text": [
      "---> Applying preselection.\n",
      "---> Done with preselection.\n",
      "---> Accumulating event weights.\n",
      "Applying weight_genweight weight\n",
      "Applying weight_L1Prefiring weight\n",
      "Applying weight_pileup weight\n",
      "Applying weight_trigger_electron weight\n",
      "Applying weight_reco_electron weight\n",
      "Applying weight_id_electron weight\n",
      "Applying weight_vjets_nominal weight\n",
      "---> Done with accumulating event weights.\n",
      "Will fill the WJetsLNu dataframe with the remaining 532326 events\n",
      "tot event weight 237787.62232188985 \n",
      "\n",
      "Finding ST_tW_top_5f_inclusiveDecays samples and should combine them under SingleTop\n",
      "---> Applying preselection.\n",
      "---> Done with preselection.\n",
      "---> Accumulating event weights.\n",
      "Applying weight_genweight weight\n",
      "Applying weight_L1Prefiring weight\n",
      "Applying weight_pileup weight\n",
      "Applying weight_trigger_electron weight\n",
      "Applying weight_reco_electron weight\n",
      "Applying weight_id_electron weight\n",
      "weight_vjets_nominal weight is not stored in parquet\n",
      "---> Done with accumulating event weights.\n",
      "Will fill the SingleTop dataframe with the remaining 29065 events\n",
      "tot event weight 6533.952424212385 \n",
      "\n",
      "Finding GluGluHToWW_Pt-200ToInf_M-125 samples and should combine them under HWW\n",
      "---> Applying preselection.\n",
      "---> Done with preselection.\n",
      "---> Accumulating event weights.\n",
      "Applying weight_genweight weight\n",
      "Applying weight_L1Prefiring weight\n",
      "Applying weight_pileup weight\n",
      "Applying weight_trigger_electron weight\n",
      "Applying weight_reco_electron weight\n",
      "Applying weight_id_electron weight\n",
      "weight_vjets_nominal weight is not stored in parquet\n",
      "---> Done with accumulating event weights.\n",
      "Will fill the HWW dataframe with the remaining 13875 events\n",
      "tot event weight 105.10828895244697 \n",
      "\n",
      "Finding WJetsToQQ_HT-200to400 samples and should combine them under WZQQ\n",
      "---> Applying preselection.\n",
      "---> Done with preselection.\n",
      "---> Accumulating event weights.\n",
      "Applying weight_genweight weight\n",
      "Applying weight_L1Prefiring weight\n",
      "Applying weight_pileup weight\n",
      "Applying weight_trigger_electron weight\n",
      "Applying weight_reco_electron weight\n",
      "Applying weight_id_electron weight\n",
      "Applying weight_vjets_nominal weight\n",
      "---> Done with accumulating event weights.\n",
      "Will fill the WZQQ dataframe with the remaining 40 events\n",
      "tot event weight 338.3509982473678 \n",
      "\n",
      "Finding ST_tW_antitop_5f_inclusiveDecays samples and should combine them under SingleTop\n",
      "---> Applying preselection.\n",
      "---> Done with preselection.\n",
      "---> Accumulating event weights.\n",
      "Applying weight_genweight weight\n",
      "Applying weight_L1Prefiring weight\n",
      "Applying weight_pileup weight\n",
      "Applying weight_trigger_electron weight\n",
      "Applying weight_reco_electron weight\n",
      "Applying weight_id_electron weight\n",
      "weight_vjets_nominal weight is not stored in parquet\n",
      "---> Done with accumulating event weights.\n",
      "Will fill the SingleTop dataframe with the remaining 29122 events\n",
      "tot event weight 6532.726970772922 \n",
      "\n",
      "Finding ZJetsToQQ_HT-200to400 samples and should combine them under WZQQ\n",
      "---> Applying preselection.\n",
      "---> Done with preselection.\n",
      "---> Accumulating event weights.\n",
      "Applying weight_genweight weight\n",
      "Applying weight_L1Prefiring weight\n",
      "Applying weight_pileup weight\n",
      "Applying weight_trigger_electron weight\n",
      "Applying weight_reco_electron weight\n",
      "Applying weight_id_electron weight\n",
      "Applying weight_vjets_nominal weight\n",
      "---> Done with accumulating event weights.\n",
      "Will fill the WZQQ dataframe with the remaining 33 events\n",
      "tot event weight 132.1516345063942 \n",
      "\n",
      "ATTENTION: SingleElectron_Run2017E will be skipped\n",
      "ATTENTION: SingleElectron_Run2017B will be skipped\n",
      "Finding QCD_Pt_3200toInf samples and should combine them under QCD\n",
      "---> Applying preselection.\n",
      "---> Done with preselection.\n",
      "---> Accumulating event weights.\n",
      "Applying weight_genweight weight\n",
      "Applying weight_L1Prefiring weight\n",
      "Applying weight_pileup weight\n",
      "Applying weight_trigger_electron weight\n",
      "Applying weight_reco_electron weight\n",
      "Applying weight_id_electron weight\n",
      "weight_vjets_nominal weight is not stored in parquet\n",
      "---> Done with accumulating event weights.\n",
      "Will fill the QCD dataframe with the remaining 352 events\n",
      "tot event weight 0.0019577178800563827 \n",
      "\n",
      "Finding HWplusJ_HToWW_M-125 samples and should combine them under VH\n",
      "---> Applying preselection.\n",
      "---> Done with preselection.\n",
      "---> Accumulating event weights.\n",
      "Applying weight_genweight weight\n",
      "Applying weight_L1Prefiring weight\n",
      "Applying weight_pileup weight\n",
      "Applying weight_trigger_electron weight\n",
      "Applying weight_reco_electron weight\n",
      "Applying weight_id_electron weight\n",
      "weight_vjets_nominal weight is not stored in parquet\n",
      "---> Done with accumulating event weights.\n",
      "Will fill the VH dataframe with the remaining 23981 events\n",
      "tot event weight 25.210167914469647 \n",
      "\n",
      "ATTENTION: SingleElectron_Run2017C will be skipped\n",
      "ATTENTION: SingleElectron_Run2017D will be skipped\n",
      "Finding WJetsToLNu_HT-70To100 samples and should combine them under WJetsLNu\n",
      "---> Applying preselection.\n",
      "---> Done with preselection.\n",
      "---> Accumulating event weights.\n",
      "Applying weight_genweight weight\n",
      "Applying weight_L1Prefiring weight\n",
      "Applying weight_pileup weight\n",
      "Applying weight_trigger_electron weight\n",
      "Applying weight_reco_electron weight\n",
      "Applying weight_id_electron weight\n",
      "Applying weight_vjets_nominal weight\n",
      "---> Done with accumulating event weights.\n",
      "Will fill the WJetsLNu dataframe with the remaining 795 events\n",
      "tot event weight 1373.440367316113 \n",
      "\n",
      "ATTENTION: SingleMuon_Run2017C will be skipped\n",
      "Finding ST_s-channel_4f_leptonDecays samples and should combine them under SingleTop\n",
      "---> Applying preselection.\n",
      "---> Done with preselection.\n",
      "---> Accumulating event weights.\n",
      "Applying weight_genweight weight\n",
      "Applying weight_L1Prefiring weight\n",
      "Applying weight_pileup weight\n",
      "Applying weight_trigger_electron weight\n",
      "Applying weight_reco_electron weight\n",
      "Applying weight_id_electron weight\n",
      "weight_vjets_nominal weight is not stored in parquet\n",
      "---> Done with accumulating event weights.\n",
      "Will fill the SingleTop dataframe with the remaining 32260 events\n",
      "tot event weight 100.04663025222321 \n",
      "\n",
      "ATTENTION: SingleMuon_Run2017D will be skipped\n",
      "Finding DYJetsToLL_Pt-50To100 samples and should combine them under DYJets\n",
      "---> Applying preselection.\n",
      "---> Done with preselection.\n",
      "---> Accumulating event weights.\n",
      "Applying weight_genweight weight\n",
      "Applying weight_L1Prefiring weight\n",
      "Applying weight_pileup weight\n",
      "Applying weight_trigger_electron weight\n",
      "Applying weight_reco_electron weight\n",
      "Applying weight_id_electron weight\n",
      "Applying weight_vjets_nominal weight\n",
      "---> Done with accumulating event weights.\n",
      "Will fill the DYJets dataframe with the remaining 22914 events\n",
      "tot event weight 3372.4380540598363 \n",
      "\n",
      "Finding QCD_Pt_1800to2400 samples and should combine them under QCD\n",
      "---> Applying preselection.\n",
      "---> Done with preselection.\n",
      "---> Accumulating event weights.\n",
      "Applying weight_genweight weight\n",
      "Applying weight_L1Prefiring weight\n",
      "Applying weight_pileup weight\n",
      "Applying weight_trigger_electron weight\n",
      "Applying weight_reco_electron weight\n",
      "Applying weight_id_electron weight\n",
      "weight_vjets_nominal weight is not stored in parquet\n",
      "---> Done with accumulating event weights.\n",
      "Will fill the QCD dataframe with the remaining 1727 events\n",
      "tot event weight 1.1217295894746688 \n",
      "\n",
      "ATTENTION: SingleMuon_Run2017E will be skipped\n",
      "ATTENTION: SingleMuon_Run2017B will be skipped\n",
      "Finding WW samples and should combine them under Diboson\n",
      "---> Applying preselection.\n",
      "---> Done with preselection.\n",
      "---> Accumulating event weights.\n",
      "Applying weight_genweight weight\n",
      "Applying weight_L1Prefiring weight\n",
      "Applying weight_pileup weight\n",
      "Applying weight_trigger_electron weight\n",
      "Applying weight_reco_electron weight\n",
      "Applying weight_id_electron weight\n",
      "weight_vjets_nominal weight is not stored in parquet\n",
      "---> Done with accumulating event weights.\n",
      "Will fill the Diboson dataframe with the remaining 18065 events\n",
      "tot event weight 3675.021957881979 \n",
      "\n",
      "Finding ST_t-channel_antitop_4f_InclusiveDecays samples and should combine them under SingleTop\n",
      "---> Applying preselection.\n",
      "---> Done with preselection.\n",
      "---> Accumulating event weights.\n",
      "Applying weight_genweight weight\n",
      "Applying weight_L1Prefiring weight\n",
      "Applying weight_pileup weight\n",
      "Applying weight_trigger_electron weight\n",
      "Applying weight_reco_electron weight\n",
      "Applying weight_id_electron weight\n",
      "weight_vjets_nominal weight is not stored in parquet\n",
      "---> Done with accumulating event weights.\n",
      "Will fill the SingleTop dataframe with the remaining 33208 events\n",
      "tot event weight 1016.654462915917 \n",
      "\n",
      "Finding TTTo2L2Nu samples and should combine them under TTbar\n"
     ]
    },
    {
     "name": "stdout",
     "output_type": "stream",
     "text": [
      "---> Applying preselection.\n",
      "---> Done with preselection.\n",
      "---> Accumulating event weights.\n",
      "Applying weight_genweight weight\n",
      "Applying weight_L1Prefiring weight\n",
      "Applying weight_pileup weight\n",
      "Applying weight_trigger_electron weight\n",
      "Applying weight_reco_electron weight\n",
      "Applying weight_id_electron weight\n",
      "weight_vjets_nominal weight is not stored in parquet\n",
      "---> Done with accumulating event weights.\n",
      "Will fill the TTbar dataframe with the remaining 928804 events\n",
      "tot event weight 26256.122782850736 \n",
      "\n",
      "Finding QCD_Pt_2400to3200 samples and should combine them under QCD\n",
      "---> Applying preselection.\n",
      "---> Done with preselection.\n",
      "---> Accumulating event weights.\n",
      "Applying weight_genweight weight\n",
      "Applying weight_L1Prefiring weight\n",
      "Applying weight_pileup weight\n",
      "Applying weight_trigger_electron weight\n",
      "Applying weight_reco_electron weight\n",
      "Applying weight_id_electron weight\n",
      "weight_vjets_nominal weight is not stored in parquet\n",
      "---> Done with accumulating event weights.\n",
      "Will fill the QCD dataframe with the remaining 1069 events\n",
      "tot event weight 0.07484614391900009 \n",
      "\n",
      "Finding DYJetsToLL_Pt-650ToInf samples and should combine them under DYJets\n",
      "---> Applying preselection.\n",
      "---> Done with preselection.\n",
      "---> Accumulating event weights.\n",
      "Applying weight_genweight weight\n",
      "Applying weight_L1Prefiring weight\n",
      "Applying weight_pileup weight\n",
      "Applying weight_trigger_electron weight\n",
      "Applying weight_reco_electron weight\n",
      "Applying weight_id_electron weight\n",
      "Applying weight_vjets_nominal weight\n",
      "---> Done with accumulating event weights.\n",
      "Will fill the DYJets dataframe with the remaining 192289 events\n",
      "tot event weight 159.15079782112005 \n",
      "\n",
      "ATTENTION: GluGluHToTauTau will be skipped\n",
      "Finding ZJetsToQQ_HT-400to600 samples and should combine them under WZQQ\n",
      "---> Applying preselection.\n",
      "---> Done with preselection.\n",
      "---> Accumulating event weights.\n",
      "Applying weight_genweight weight\n",
      "Applying weight_L1Prefiring weight\n",
      "Applying weight_pileup weight\n",
      "Applying weight_trigger_electron weight\n",
      "Applying weight_reco_electron weight\n",
      "Applying weight_id_electron weight\n",
      "Applying weight_vjets_nominal weight\n",
      "---> Done with accumulating event weights.\n",
      "Will fill the WZQQ dataframe with the remaining 1144 events\n",
      "tot event weight 519.0158999499871 \n",
      "\n",
      "Finding ZZ samples and should combine them under Diboson\n",
      "---> Applying preselection.\n",
      "---> Done with preselection.\n",
      "---> Accumulating event weights.\n",
      "Applying weight_genweight weight\n",
      "Applying weight_L1Prefiring weight\n",
      "Applying weight_pileup weight\n",
      "Applying weight_trigger_electron weight\n",
      "Applying weight_reco_electron weight\n",
      "Applying weight_id_electron weight\n",
      "weight_vjets_nominal weight is not stored in parquet\n",
      "---> Done with accumulating event weights.\n",
      "Will fill the Diboson dataframe with the remaining 2228 events\n",
      "tot event weight 380.2735040281389 \n",
      "\n",
      "Finding TTToHadronic samples and should combine them under TTbar\n",
      "---> Applying preselection.\n",
      "---> Done with preselection.\n",
      "---> Accumulating event weights.\n",
      "Applying weight_genweight weight\n",
      "Applying weight_L1Prefiring weight\n",
      "Applying weight_pileup weight\n",
      "Applying weight_trigger_electron weight\n",
      "Applying weight_reco_electron weight\n",
      "Applying weight_id_electron weight\n",
      "weight_vjets_nominal weight is not stored in parquet\n",
      "---> Done with accumulating event weights.\n",
      "Will fill the TTbar dataframe with the remaining 2977 events\n",
      "tot event weight 337.86579142089613 \n",
      "\n",
      "Finding GluGluZH_HToWW_ZTo2L_M-125 samples and should combine them under Diboson\n",
      "---> Applying preselection.\n",
      "---> Done with preselection.\n",
      "---> Accumulating event weights.\n",
      "Applying weight_genweight weight\n",
      "Applying weight_L1Prefiring weight\n",
      "Applying weight_pileup weight\n",
      "Applying weight_trigger_electron weight\n",
      "Applying weight_reco_electron weight\n",
      "Applying weight_id_electron weight\n",
      "weight_vjets_nominal weight is not stored in parquet\n",
      "---> Done with accumulating event weights.\n",
      "Will fill the Diboson dataframe with the remaining 161074 events\n",
      "tot event weight 1.6332635245176401 \n",
      "\n",
      "Finding QCD_Pt_1000to1400 samples and should combine them under QCD\n",
      "---> Applying preselection.\n",
      "---> Done with preselection.\n",
      "---> Accumulating event weights.\n",
      "Applying weight_genweight weight\n",
      "Applying weight_L1Prefiring weight\n",
      "Applying weight_pileup weight\n",
      "Applying weight_trigger_electron weight\n",
      "Applying weight_reco_electron weight\n",
      "Applying weight_id_electron weight\n",
      "weight_vjets_nominal weight is not stored in parquet\n",
      "---> Done with accumulating event weights.\n",
      "Will fill the QCD dataframe with the remaining 5525 events\n",
      "tot event weight 83.86895591146578 \n",
      "\n",
      "Finding QCD_Pt_600to800 samples and should combine them under QCD\n",
      "---> Applying preselection.\n",
      "---> Done with preselection.\n",
      "---> Accumulating event weights.\n",
      "Applying weight_genweight weight\n",
      "Applying weight_L1Prefiring weight\n",
      "Applying weight_pileup weight\n",
      "Applying weight_trigger_electron weight\n",
      "Applying weight_reco_electron weight\n",
      "Applying weight_id_electron weight\n",
      "weight_vjets_nominal weight is not stored in parquet\n",
      "---> Done with accumulating event weights.\n",
      "Will fill the QCD dataframe with the remaining 5193 events\n",
      "tot event weight 1604.6709642383014 \n",
      "\n",
      "Finding QCD_Pt_300to470 samples and should combine them under QCD\n",
      "---> Applying preselection.\n",
      "---> Done with preselection.\n",
      "---> Accumulating event weights.\n",
      "Applying weight_genweight weight\n",
      "Applying weight_L1Prefiring weight\n",
      "Applying weight_pileup weight\n",
      "Applying weight_trigger_electron weight\n",
      "Applying weight_reco_electron weight\n",
      "Applying weight_id_electron weight\n",
      "weight_vjets_nominal weight is not stored in parquet\n",
      "---> Done with accumulating event weights.\n",
      "Will fill the QCD dataframe with the remaining 3828 events\n",
      "tot event weight 48838.759083545665 \n",
      "\n",
      "Finding WJetsToQQ_HT-800toInf samples and should combine them under WZQQ\n",
      "---> Applying preselection.\n",
      "---> Done with preselection.\n",
      "---> Accumulating event weights.\n",
      "Applying weight_genweight weight\n",
      "Applying weight_L1Prefiring weight\n",
      "Applying weight_pileup weight\n",
      "Applying weight_trigger_electron weight\n",
      "Applying weight_reco_electron weight\n",
      "Applying weight_id_electron weight\n",
      "Applying weight_vjets_nominal weight\n",
      "---> Done with accumulating event weights.\n",
      "Will fill the WZQQ dataframe with the remaining 4089 events\n",
      "tot event weight 422.268883038335 \n",
      "\n",
      "Finding ZJetsToQQ_HT-600to800 samples and should combine them under WZQQ\n",
      "---> Applying preselection.\n",
      "---> Done with preselection.\n",
      "---> Accumulating event weights.\n",
      "Applying weight_genweight weight\n",
      "Applying weight_L1Prefiring weight\n",
      "Applying weight_pileup weight\n",
      "Applying weight_trigger_electron weight\n",
      "Applying weight_reco_electron weight\n",
      "Applying weight_id_electron weight\n",
      "Applying weight_vjets_nominal weight\n",
      "---> Done with accumulating event weights.\n",
      "Will fill the WZQQ dataframe with the remaining 2113 events\n",
      "tot event weight 266.7853598231672 \n",
      "\n",
      "Finding QCD_Pt_170to300 samples and should combine them under QCD\n",
      "---> Applying preselection.\n",
      "---> Done with preselection.\n",
      "---> Accumulating event weights.\n",
      "Applying weight_genweight weight\n",
      "Applying weight_L1Prefiring weight\n",
      "Applying weight_pileup weight\n",
      "Applying weight_trigger_electron weight\n",
      "Applying weight_reco_electron weight\n",
      "Applying weight_id_electron weight\n",
      "weight_vjets_nominal weight is not stored in parquet\n",
      "---> Done with accumulating event weights.\n",
      "Will fill the QCD dataframe with the remaining 2661 events\n",
      "tot event weight 341558.3324173747 \n",
      "\n",
      "Finding WJetsToLNu_HT-600To800 samples and should combine them under WJetsLNu\n",
      "---> Applying preselection.\n",
      "---> Done with preselection.\n",
      "---> Accumulating event weights.\n",
      "Applying weight_genweight weight\n",
      "Applying weight_L1Prefiring weight\n",
      "Applying weight_pileup weight\n",
      "Applying weight_trigger_electron weight\n",
      "Applying weight_reco_electron weight\n",
      "Applying weight_id_electron weight\n",
      "Applying weight_vjets_nominal weight\n",
      "---> Done with accumulating event weights.\n",
      "Will fill the WJetsLNu dataframe with the remaining 243360 events\n",
      "tot event weight 25388.28064955302 \n",
      "\n",
      "Finding WJetsToQQ_HT-600to800 samples and should combine them under WZQQ\n",
      "---> Applying preselection.\n",
      "---> Done with preselection.\n",
      "---> Accumulating event weights.\n",
      "Applying weight_genweight weight\n",
      "Applying weight_L1Prefiring weight\n",
      "Applying weight_pileup weight\n",
      "Applying weight_trigger_electron weight\n",
      "Applying weight_reco_electron weight\n",
      "Applying weight_id_electron weight\n",
      "Applying weight_vjets_nominal weight\n",
      "---> Done with accumulating event weights.\n",
      "Will fill the WZQQ dataframe with the remaining 3025 events\n",
      "tot event weight 671.9743125610883 \n",
      "\n",
      "Finding WJetsToLNu_HT-2500ToInf samples and should combine them under WJetsLNu\n",
      "---> Applying preselection.\n",
      "---> Done with preselection.\n",
      "---> Accumulating event weights.\n",
      "Applying weight_genweight weight\n",
      "Applying weight_L1Prefiring weight\n",
      "Applying weight_pileup weight\n",
      "Applying weight_trigger_electron weight\n",
      "Applying weight_reco_electron weight\n",
      "Applying weight_id_electron weight\n",
      "Applying weight_vjets_nominal weight\n",
      "---> Done with accumulating event weights.\n"
     ]
    },
    {
     "name": "stdout",
     "output_type": "stream",
     "text": [
      "Will fill the WJetsLNu dataframe with the remaining 84742 events\n",
      "tot event weight 98.0802197308765 \n",
      "\n",
      "Finding ttHToNonbb_M125 samples and should combine them under ttH\n",
      "---> Applying preselection.\n",
      "---> Done with preselection.\n",
      "---> Accumulating event weights.\n",
      "Applying weight_genweight weight\n",
      "Applying weight_L1Prefiring weight\n",
      "Applying weight_pileup weight\n",
      "Applying weight_trigger_electron weight\n",
      "Applying weight_reco_electron weight\n",
      "Applying weight_id_electron weight\n",
      "weight_vjets_nominal weight is not stored in parquet\n",
      "---> Done with accumulating event weights.\n",
      "Will fill the ttH dataframe with the remaining 20082 events\n",
      "tot event weight 65.94803920628138 \n",
      "\n",
      "Finding ZJetsToQQ_HT-800toInf samples and should combine them under WZQQ\n",
      "---> Applying preselection.\n",
      "---> Done with preselection.\n",
      "---> Accumulating event weights.\n",
      "Applying weight_genweight weight\n",
      "Applying weight_L1Prefiring weight\n",
      "Applying weight_pileup weight\n",
      "Applying weight_trigger_electron weight\n",
      "Applying weight_reco_electron weight\n",
      "Applying weight_id_electron weight\n",
      "Applying weight_vjets_nominal weight\n",
      "---> Done with accumulating event weights.\n",
      "Will fill the WZQQ dataframe with the remaining 2278 events\n",
      "tot event weight 176.6868356085537 \n",
      "\n",
      "ATTENTION: SingleElectron_Run2017F will be skipped\n",
      "Finding QCD_Pt_800to1000 samples and should combine them under QCD\n",
      "---> Applying preselection.\n",
      "---> Done with preselection.\n",
      "---> Accumulating event weights.\n",
      "Applying weight_genweight weight\n",
      "Applying weight_L1Prefiring weight\n",
      "Applying weight_pileup weight\n",
      "Applying weight_trigger_electron weight\n",
      "Applying weight_reco_electron weight\n",
      "Applying weight_id_electron weight\n",
      "weight_vjets_nominal weight is not stored in parquet\n",
      "---> Done with accumulating event weights.\n",
      "Will fill the QCD dataframe with the remaining 5191 events\n",
      "tot event weight 271.36602510245666 \n",
      "\n",
      "Finding WJetsToQQ_HT-400to600 samples and should combine them under WZQQ\n",
      "---> Applying preselection.\n",
      "---> Done with preselection.\n",
      "---> Accumulating event weights.\n",
      "Applying weight_genweight weight\n",
      "Applying weight_L1Prefiring weight\n",
      "Applying weight_pileup weight\n",
      "Applying weight_trigger_electron weight\n",
      "Applying weight_reco_electron weight\n",
      "Applying weight_id_electron weight\n",
      "Applying weight_vjets_nominal weight\n",
      "---> Done with accumulating event weights.\n",
      "Will fill the WZQQ dataframe with the remaining 626 events\n",
      "tot event weight 1408.9730297451006 \n",
      "\n",
      "Finding WJetsToLNu_HT-400To600 samples and should combine them under WJetsLNu\n",
      "---> Applying preselection.\n",
      "---> Done with preselection.\n",
      "---> Accumulating event weights.\n",
      "Applying weight_genweight weight\n",
      "Applying weight_L1Prefiring weight\n",
      "Applying weight_pileup weight\n",
      "Applying weight_trigger_electron weight\n",
      "Applying weight_reco_electron weight\n",
      "Applying weight_id_electron weight\n",
      "Applying weight_vjets_nominal weight\n",
      "---> Done with accumulating event weights.\n",
      "Will fill the WJetsLNu dataframe with the remaining 176703 events\n",
      "tot event weight 78923.50571055693 \n",
      "\n",
      "Finding QCD_Pt_470to600 samples and should combine them under QCD\n",
      "---> Applying preselection.\n",
      "---> Done with preselection.\n",
      "---> Accumulating event weights.\n",
      "Applying weight_genweight weight\n",
      "Applying weight_L1Prefiring weight\n",
      "Applying weight_pileup weight\n",
      "Applying weight_trigger_electron weight\n",
      "Applying weight_reco_electron weight\n",
      "Applying weight_id_electron weight\n",
      "weight_vjets_nominal weight is not stored in parquet\n",
      "---> Done with accumulating event weights.\n",
      "Will fill the QCD dataframe with the remaining 4612 events\n",
      "tot event weight 4866.535664460841 \n",
      "\n",
      "Finding HZJ_HToWW_M-125 samples and should combine them under VH\n",
      "---> Applying preselection.\n",
      "---> Done with preselection.\n",
      "---> Accumulating event weights.\n",
      "Applying weight_genweight weight\n",
      "Applying weight_L1Prefiring weight\n",
      "Applying weight_pileup weight\n",
      "Applying weight_trigger_electron weight\n",
      "Applying weight_reco_electron weight\n",
      "Applying weight_id_electron weight\n",
      "weight_vjets_nominal weight is not stored in parquet\n",
      "---> Done with accumulating event weights.\n",
      "Will fill the VH dataframe with the remaining 35217 events\n",
      "tot event weight 19.638032705757503 \n",
      "\n",
      "Finding WZ samples and should combine them under Diboson\n",
      "---> Applying preselection.\n",
      "---> Done with preselection.\n",
      "---> Accumulating event weights.\n",
      "Applying weight_genweight weight\n",
      "Applying weight_L1Prefiring weight\n",
      "Applying weight_pileup weight\n",
      "Applying weight_trigger_electron weight\n",
      "Applying weight_reco_electron weight\n",
      "Applying weight_id_electron weight\n",
      "weight_vjets_nominal weight is not stored in parquet\n",
      "---> Done with accumulating event weights.\n",
      "Will fill the Diboson dataframe with the remaining 7712 events\n",
      "tot event weight 1039.6432140815089 \n",
      "\n",
      "Finding QCD_Pt_1400to1800 samples and should combine them under QCD\n",
      "---> Applying preselection.\n",
      "---> Done with preselection.\n",
      "---> Accumulating event weights.\n",
      "Applying weight_genweight weight\n",
      "Applying weight_L1Prefiring weight\n",
      "Applying weight_pileup weight\n",
      "Applying weight_trigger_electron weight\n",
      "Applying weight_reco_electron weight\n",
      "Applying weight_id_electron weight\n",
      "weight_vjets_nominal weight is not stored in parquet\n",
      "---> Done with accumulating event weights.\n",
      "Will fill the QCD dataframe with the remaining 3424 events\n",
      "tot event weight 8.20205244666732 \n",
      "\n",
      "Finding DYJetsToLL_Pt-100To250 samples and should combine them under DYJets\n",
      "---> Applying preselection.\n",
      "---> Done with preselection.\n",
      "---> Accumulating event weights.\n",
      "Applying weight_genweight weight\n",
      "Applying weight_L1Prefiring weight\n",
      "Applying weight_pileup weight\n",
      "Applying weight_trigger_electron weight\n",
      "Applying weight_reco_electron weight\n",
      "Applying weight_id_electron weight\n",
      "Applying weight_vjets_nominal weight\n",
      "---> Done with accumulating event weights.\n",
      "Will fill the DYJets dataframe with the remaining 1204839 events\n",
      "tot event weight 58786.01405278142 \n",
      "\n",
      "ATTENTION: SingleMuon_Run2017F will be skipped\n"
     ]
    }
   ],
   "source": [
    "events_dict = utils.event_skimmer(year, channels, samples_dir, samples, presel, columns, add_qcd_score=True, add_top_score=True, add_inclusive_score=True)"
   ]
  },
  {
   "cell_type": "code",
   "execution_count": 6,
   "metadata": {},
   "outputs": [
    {
     "data": {
      "text/plain": [
       "dict_keys(['mu', 'ele'])"
      ]
     },
     "execution_count": 6,
     "metadata": {},
     "output_type": "execute_result"
    }
   ],
   "source": [
    "events_dict.keys()"
   ]
  },
  {
   "cell_type": "code",
   "execution_count": 7,
   "metadata": {},
   "outputs": [
    {
     "data": {
      "text/plain": [
       "dict_keys(['WJetsLNu', 'DYJets', 'VBF', 'VH', 'TTbar', 'SingleTop', 'HWW', 'WZQQ', 'QCD', 'Diboson', 'ttH'])"
      ]
     },
     "execution_count": 7,
     "metadata": {},
     "output_type": "execute_result"
    }
   ],
   "source": [
    "events_dict[\"mu\"].keys()"
   ]
  },
  {
   "cell_type": "markdown",
   "metadata": {},
   "source": [
    "# Define regions"
   ]
  },
  {
   "cell_type": "code",
   "execution_count": 72,
   "metadata": {
    "scrolled": true
   },
   "outputs": [
    {
     "name": "stdout",
     "output_type": "stream",
     "text": [
      "BEFORE TAGGER CUT\n",
      "s/sqrt(b): 0.07\n",
      "------------------------\n",
      "Signal: 75.80\n",
      "- ttH: 19%\n",
      "- VBF: 9%\n",
      "- VH: 47%\n",
      "- ggF: 26%\n",
      "------------------------\n",
      "Background: 1098083.40\n",
      "- TTbar: 5%\n",
      "- QCD: 29%\n",
      "- WJetsLNu: 55%\n",
      "- DYJets: 10%\n"
     ]
    }
   ],
   "source": [
    "num_sig, num_bkg = {}, {}\n",
    "deno_sig, deno_bkg = 0, 0\n",
    "s, b = 0, 0\n",
    "\n",
    "tagger_cut = 0.9\n",
    "\n",
    "# event weights\n",
    "for sample in [\"HWW\", \"ttH\", \"VBF\", \"VH\", \"TTbar\", \"QCD\", \"WJetsLNu\", \"DYJets\"]:\n",
    "    df_mu = events_dict[\"mu\"][sample]\n",
    "    df_ele = events_dict[\"ele\"][sample]\n",
    "    \n",
    "    # add tagger cut\n",
    "#     df_mu = df_mu[df_mu[\"inclusive_score\"]>tagger_cut]\n",
    "#     df_ele = df_ele[df_ele[\"inclusive_score\"]>tagger_cut]\n",
    "    \n",
    "    # dR cut\n",
    "    df_mu = df_mu[df_mu[\"lep_fj_dr\"]<0.03]\n",
    "    df_ele = df_ele[df_ele[\"lep_fj_dr\"]<0.03]\n",
    "    \n",
    "#     df_mu = df_mu[np.abs(df_mu[\"met_fj_dphi\"])<2]\n",
    "#     df_ele = df_ele[np.abs(df_ele[\"met_fj_dphi\"])<2]    \n",
    "    \n",
    "    \n",
    "    ### WJetsLNu\n",
    "    # 1. golden variable\n",
    "#     cut_mu = (df_mu[\"rec_W_lnu_pt\"]/df_mu[\"rec_W_qq_pt\"])>4.8\n",
    "#     cut_ele = (df_ele[\"rec_W_lnu_pt\"]/df_ele[\"rec_W_qq_pt\"])>4.8\n",
    "    \n",
    "    # 1.1. golden variable plus kill ttbar\n",
    "#     cut_mu = ((df_mu[\"rec_W_lnu_pt\"]/df_mu[\"rec_W_qq_pt\"])>4.8) & (df_mu[\"n_bjets_M\"]<1)\n",
    "#     cut_ele = ((df_ele[\"rec_W_lnu_pt\"]/df_ele[\"rec_W_qq_pt\"])>4.8) & (df_ele[\"n_bjets_M\"]<1)\n",
    "    \n",
    "    # 2. mT\n",
    "#     cut_mu = df_mu[\"lep_met_mt\"]<200\n",
    "#     cut_ele = df_ele[\"lep_met_mt\"]<200\n",
    "    \n",
    "    ### TTbar\n",
    "    # 1. nbjets>=1\n",
    "    cut_mu = (df_mu[\"n_bjets_M\"]>-1)\n",
    "    cut_ele = (df_ele[\"n_bjets_M\"]>-1)\n",
    "\n",
    "#     cut_mu = (df_mu[\"n_bjets_M\"]>=1)\n",
    "#     cut_ele = (df_ele[\"n_bjets_M\"]>=1)\n",
    "        \n",
    "    \n",
    "    # 1.1 nbjets>=1 plus kill ttH\n",
    "#     cut_mu = (df_mu[\"n_bjets_M\"]>=1) & (df_mu[\"lep_fj_dr\"]<0.001)\n",
    "#     cut_ele = (df_ele[\"n_bjets_M\"]>=1) & (df_ele[\"lep_fj_dr\"]<0.001)\n",
    "    \n",
    "\n",
    "    # playground\n",
    "#     cut_mu = ((df_mu[\"rec_W_lnu_pt\"]/df_mu[\"rec_W_qq_pt\"])>4.8) & (df_mu[\"n_bjets_M\"]>=2) # & (df_mu[\"n_bjets_T\"]>=2)\n",
    "#     cut_ele = ((df_ele[\"rec_W_lnu_pt\"]/df_ele[\"rec_W_qq_pt\"])>4.8) & (df_ele[\"n_bjets_M\"]>=2) # & (df_ele[\"n_bjets_T\"]>=1)\n",
    "                  \n",
    "#     iso_mu = ( ( (df_mu[\"lep_pt\"] < 55) & (df_mu[\"lep_isolation\"]>0.15)) |  (df_mu[\"lep_pt\"] >= 55) )\n",
    "#     iso_ele = ( ( (df_ele[\"lep_pt\"] < 120) & (df_ele[\"lep_isolation\"]>0.15)) |  (df_ele[\"lep_pt\"] >= 120) )\n",
    "#     miso_mu = ( ( (df_mu[\"lep_pt\"] < 55) & (df_mu[\"lep_misolation\"]>0.2)) |  (df_mu[\"lep_pt\"] >= 55) )\n",
    "        \n",
    "#     cut_mu = (df_mu[\"fj_bjets\"]<0.3) & iso_mu & miso_mu\n",
    "#     cut_ele = (df_ele[\"fj_bjets\"]<0.3) & iso_ele\n",
    "#     cut_mu = (df_mu[\"n_bjets_M\"]<2) & (df_mu[\"lep_fj_dr\"]>0.03)\n",
    "#     cut_ele = (df_ele[\"n_bjets_M\"]<2) & (df_ele[\"lep_fj_dr\"]>0.03)\n",
    "\n",
    "        \n",
    "    # add selected cut\n",
    "    df_mu = df_mu[cut_mu]\n",
    "    df_ele = df_ele[cut_ele]\n",
    "    \n",
    "    ##############################    \n",
    "    if sample in utils.signals:\n",
    "        num_sig[sample] = df_mu[\"event_weight\"].sum() + df_ele[\"event_weight\"].sum()\n",
    "        deno_sig += df_mu[\"event_weight\"].sum() + df_ele[\"event_weight\"].sum()\n",
    "    else:\n",
    "        num_bkg[sample] = df_mu[\"event_weight\"].sum() + df_ele[\"event_weight\"].sum()\n",
    "        deno_bkg += df_mu[\"event_weight\"].sum() + df_ele[\"event_weight\"].sum()\n",
    "\n",
    "if tagger_cut !=0 :\n",
    "#     print(f\"AFTER TAGGER CUT > {tagger_cut}\")\n",
    "    print(f\"BEFORE TAGGER CUT\")\n",
    "\n",
    "print(rf\"s/sqrt(b): {deno_sig/math.sqrt(deno_bkg):.2f}\")\n",
    "print(\"------------------------\")\n",
    "print(f\"Signal: {deno_sig:.2f}\")\n",
    "num_sig[\"ggF\"] = num_sig.pop(\"HWW\")\n",
    "for sample in num_sig:\n",
    "    print(f\"- {sample}: {100*(num_sig[sample]/deno_sig):.0f}%\")\n",
    "print(\"------------------------\")\n",
    "print(f\"Background: {deno_bkg:.2f}\")\n",
    "for sample in num_bkg:\n",
    "    print(f\"- {sample}: {100*(num_bkg[sample]/deno_bkg):.0f}%\")  "
   ]
  },
  {
   "cell_type": "code",
   "execution_count": 61,
   "metadata": {},
   "outputs": [
    {
     "data": {
      "image/png": "[encoded data removed]",
      "text/plain": [
       "<Figure size 864x720 with 1 Axes>"
      ]
     },
     "metadata": {},
     "output_type": "display_data"
    }
   ],
   "source": [
    "plt.rcParams.update({\"font.size\": 20})\n",
    "\n",
    "import matplotlib.pyplot as plt\n",
    "\n",
    "fig, ax = plt.subplots(figsize=(12, 10))\n",
    "# Create the pie chart\n",
    "\n",
    "patches, texts, autotexts = ax.pie(num_sig.values(), labels=num_sig.keys(), autopct='%1.1f%%', startangle=90)\n",
    "for text in texts:\n",
    "    text.set_size(20)\n",
    "for autotext in autotexts:\n",
    "    autotext.set_color('black')\n",
    "    \n",
    "    \n",
    "# Add a title\n",
    "plt.title(f\"After HWW tagger cut \\n Total signal = {sum(list(num_sig.values())):.0f} \\n s/sqrt(b) : {deno_sig/math.sqrt(deno_bkg):.2f}\")\n",
    "\n",
    "# Display the chart\n",
    "plt.show()"
   ]
  },
  {
   "cell_type": "code",
   "execution_count": 99,
   "metadata": {},
   "outputs": [
    {
     "data": {
      "image/png": "[encoded data removed]",
      "text/plain": [
       "<Figure size 576x432 with 1 Axes>"
      ]
     },
     "metadata": {
      "needs_background": "light"
     },
     "output_type": "display_data"
    }
   ],
   "source": [
    "plt.rcParams.update({\"font.size\": 20})\n",
    "# make simple 1d-histogram of `jet-lep mass`\n",
    "var = \"lep_fj_dr\"\n",
    "\n",
    "channels = [\"mu\", \"ele\"]\n",
    "\n",
    "samples = [\"ttH\", \"TTbar\"]\n",
    "\n",
    "fig, ax = plt.subplots(figsize=(8, 6))\n",
    "for sample in samples:\n",
    "\n",
    "    h = hist2.Hist(\n",
    "        hist2.axis.Regular(35, 0, 0.8, name=\"var\", label=r\"|$\\phi(W_{l\\nu},W_{qq})$|\", overflow=True),\n",
    "    )\n",
    "    for ch in channels:\n",
    "        h.fill(\n",
    "            var=np.abs(events_dict[ch][sample][var]),\n",
    "            weight=events_dict[ch][sample][\"event_weight\"]\n",
    "        )\n",
    "\n",
    "    hep.histplot(\n",
    "        h,\n",
    "        ax=ax,\n",
    "        label=f\"{sample}\",\n",
    "        linewidth=3,\n",
    "        density=True\n",
    "    )\n",
    "     \n",
    "ax.set_ylim(0)\n",
    "if len(channels)==2:\n",
    "    ax.legend(title=f\"Semi-Leptonic Channel\")\n",
    "else:\n",
    "    ax.legend(title=f\"{data_label[ch]} Channel\")\n",
    "ax.set_ylabel(\"Events\");"
   ]
  },
  {
   "cell_type": "markdown",
   "metadata": {},
   "source": [
    "# s/b: dR(Jet,Lep)"
   ]
  },
  {
   "cell_type": "code",
   "execution_count": 136,
   "metadata": {},
   "outputs": [
    {
     "name": "stdout",
     "output_type": "stream",
     "text": [
      "Before tagger cut:\n",
      "pre-selection : s/b = 0.459\n",
      "pre-selection + dR(Jet,Lep)>0.01 : s/b = 0.583\n",
      "pre-selection + dR(Jet,Lep)>0.02 : s/b = 0.609\n",
      "pre-selection + dR(Jet,Lep)>0.03 : s/b = 0.641\n",
      "pre-selection + dR(Jet,Lep)>0.04 : s/b = 0.653\n",
      "pre-selection + dR(Jet,Lep)>0.05 : s/b = 0.656\n",
      "pre-selection + dR(Jet,Lep)>0.06 : s/b = 0.650\n",
      "pre-selection + dR(Jet,Lep)>0.07 : s/b = 0.638\n",
      "pre-selection + dR(Jet,Lep)>0.08 : s/b = 0.622\n",
      "pre-selection + dR(Jet,Lep)>0.09 : s/b = 0.607\n",
      "pre-selection + dR(Jet,Lep)>0.10 : s/b = 0.590\n",
      "-----------------------\n",
      "After tagger cut:\n",
      "pre-selection : s/b = 0.710\n",
      "pre-selection + dR(Jet,Lep)>0.01 : s/b = 0.934\n",
      "pre-selection + dR(Jet,Lep)>0.02 : s/b = 0.937\n",
      "pre-selection + dR(Jet,Lep)>0.03 : s/b = 0.939\n",
      "pre-selection + dR(Jet,Lep)>0.04 : s/b = 0.930\n",
      "pre-selection + dR(Jet,Lep)>0.05 : s/b = 0.914\n",
      "pre-selection + dR(Jet,Lep)>0.06 : s/b = 0.902\n",
      "pre-selection + dR(Jet,Lep)>0.07 : s/b = 0.879\n",
      "pre-selection + dR(Jet,Lep)>0.08 : s/b = 0.853\n",
      "pre-selection + dR(Jet,Lep)>0.09 : s/b = 0.826\n",
      "pre-selection + dR(Jet,Lep)>0.10 : s/b = 0.802\n",
      "-----------------------\n"
     ]
    }
   ],
   "source": [
    "channels = [\"mu\", \"ele\"]\n",
    "\n",
    "dr_cuts = [0, 0.01, 0.015, 0.02, 0.025, 0.03, 0.04, 0.05, 0.06, 0.07, 0.08, 0.09, 0.1]\n",
    "\n",
    "s, b = {}, {}\n",
    "for b4_or_af in [\"After tagger\", \"Before tagger\"]:\n",
    "    s[b4_or_af], b[b4_or_af] = {}, {}\n",
    "    for dr_cut in dr_cuts:\n",
    "        if dr_cut == 0:\n",
    "            cut_label = f\"pre-selection\"\n",
    "        else:\n",
    "            cut_label = f\"pre-selection + dR(Jet,Lep)>{dr_cut:.2f}\"\n",
    "\n",
    "        s[b4_or_af][cut_label], b[b4_or_af][cut_label] = 0, 0\n",
    "\n",
    "        for ch in channels:   # sum over channels\n",
    "            for sample in events_dict[ch]:\n",
    "                df = events_dict[ch][sample]\n",
    "\n",
    "                ### apply tagger cut\n",
    "                if b4_or_af == \"After tagger\":\n",
    "                    keep = ( df[\"inclusive_score\"]>0.9 )\n",
    "                    df = df.loc[keep, :]\n",
    "\n",
    "                keep = ( df[\"lep_fj_dr\"]>dr_cut )\n",
    "                df = df.loc[keep, :]            \n",
    "\n",
    "                ### mass window\n",
    "                regressed_mass = df[\"fj_ParT_mass\"]     \n",
    "                fj_minus_lep_mass = df[\"fj_minus_lep_m\"]     \n",
    "        #         mass_window = (regressed_mass>100) & (regressed_mass<150)\n",
    "                mass_window = (fj_minus_lep_mass>0) & (fj_minus_lep_mass<150)\n",
    "\n",
    "                ### s/b\n",
    "                ev_weight = df[\"event_weight\"]        \n",
    "                if sample in utils.signals:\n",
    "                    s[b4_or_af][cut_label] += ev_weight[mass_window].sum()\n",
    "                else:\n",
    "                    b[b4_or_af][cut_label] += ev_weight[mass_window].sum()    \n",
    "                    \n",
    "for b4_or_af in [\"Before tagger\", \"After tagger\"]:\n",
    "    print(f\"{b4_or_af} cut:\")\n",
    "    for dr_cut in s[b4_or_af]:\n",
    "        print(f\"{dr_cut} : s/b = {s[b4_or_af][dr_cut]/math.sqrt(b[b4_or_af][dr_cut]):.3f}\")\n",
    "    print(\"-----------------------\")                    "
   ]
  },
  {
   "cell_type": "markdown",
   "metadata": {},
   "source": [
    "# s/b: pT(Jet)/pT(Lep)"
   ]
  },
  {
   "cell_type": "code",
   "execution_count": 392,
   "metadata": {
    "scrolled": false
   },
   "outputs": [
    {
     "name": "stdout",
     "output_type": "stream",
     "text": [
      "After tagger cut:\n",
      "pre-selection : s/b = 0.717\n",
      "pre-selection + pT(rec_higgs)/pT(Lep)>1.20 : s/b = 0.776\n",
      "pre-selection + pT(rec_higgs)/pT(Lep)>1.40 : s/b = 0.845\n",
      "pre-selection + pT(rec_higgs)/pT(Lep)>1.60 : s/b = 0.869\n",
      "pre-selection + pT(rec_higgs)/pT(Lep)>1.80 : s/b = 0.845\n",
      "pre-selection + pT(rec_higgs)/pT(Lep)>2.00 : s/b = 0.801\n",
      "pre-selection + pT(rec_higgs)/pT(Lep)>2.20 : s/b = 0.752\n",
      "pre-selection + pT(rec_higgs)/pT(Lep)>2.40 : s/b = 0.702\n",
      "pre-selection + pT(rec_higgs)/pT(Lep)>2.60 : s/b = 0.654\n",
      "pre-selection + pT(rec_higgs)/pT(Lep)>2.80 : s/b = 0.616\n",
      "pre-selection + pT(rec_higgs)/pT(Lep)>3.00 : s/b = 0.579\n",
      "-----------------------\n"
     ]
    }
   ],
   "source": [
    "channels = [\"mu\", \"ele\"]\n",
    "\n",
    "cuts = [1, 1.2, 1.4, 1.6, 1.8, 2, 2.2, 2.4, 2.6, 2.8, 3]\n",
    "\n",
    "s, b = {}, {}\n",
    "for b4_or_af in [\"After tagger\"]:\n",
    "    s[b4_or_af], b[b4_or_af] = {}, {}\n",
    "    for cut in cuts:\n",
    "        if cut == 1:\n",
    "            cut_label = f\"pre-selection\"\n",
    "        else:\n",
    "            cut_label = f\"pre-selection + pT(rec_higgs)/pT(Lep)>{cut:.2f}\"\n",
    "\n",
    "        s[b4_or_af][cut_label], b[b4_or_af][cut_label] = 0, 0\n",
    "\n",
    "        for ch in channels:   # sum over channels\n",
    "            for sample in events_dict[ch]:\n",
    "                df = events_dict[ch][sample]\n",
    "\n",
    "                ### apply tagger cut\n",
    "                if b4_or_af == \"After tagger\":\n",
    "                    keep = ( df[\"inclusive_score\"]>0.9 )\n",
    "                    df = df.loc[keep, :]\n",
    "                    \n",
    "#                 keep = (  df[\"fj_pt\"]/df[\"lep_pt\"]>cut )\n",
    "                keep = (  df[\"rec_higgs_pt\"]/df[\"lep_pt\"]>cut )\n",
    "                \n",
    "                df = df.loc[keep, :]            \n",
    "\n",
    "                ### mass window\n",
    "                regressed_mass = df[\"fj_ParT_mass\"]     \n",
    "                fj_minus_lep_mass = df[\"fj_minus_lep_m\"]     \n",
    "        #         mass_window = (regressed_mass>100) & (regressed_mass<150)\n",
    "                mass_window = (fj_minus_lep_mass>0) & (fj_minus_lep_mass<150)\n",
    "\n",
    "                ### s/b\n",
    "                ev_weight = df[\"event_weight\"]        \n",
    "                if sample in utils.signals:\n",
    "                    s[b4_or_af][cut_label] += ev_weight[mass_window].sum()\n",
    "                else:\n",
    "                    b[b4_or_af][cut_label] += ev_weight[mass_window].sum()    \n",
    "\n",
    "for b4_or_af in [\"After tagger\"]:\n",
    "    print(f\"{b4_or_af} cut:\")\n",
    "    for cut in s[b4_or_af]:\n",
    "        print(f\"{cut} : s/b = {s[b4_or_af][cut]/math.sqrt(b[b4_or_af][cut]):.3f}\")\n",
    "    print(\"-----------------------\")                    "
   ]
  },
  {
   "cell_type": "markdown",
   "metadata": {},
   "source": [
    "# s/b: bjet"
   ]
  },
  {
   "cell_type": "code",
   "execution_count": 34,
   "metadata": {},
   "outputs": [
    {
     "name": "stdout",
     "output_type": "stream",
     "text": [
      "Before tagger cut:\n",
      "pre-selection : s/b = 0.636\n",
      "pre-selection + btag_ophem<0.05 : s/b = 0.483\n",
      "pre-selection + btag_ophem<0.30 : s/b = 0.575\n",
      "pre-selection + btag_ophem<0.75 : s/b = 0.601\n",
      "-----------------------\n",
      "After tagger cut:\n",
      "pre-selection : s/b = 0.930\n",
      "pre-selection + btag_ophem<0.05 : s/b = 0.715\n",
      "pre-selection + btag_ophem<0.30 : s/b = 0.842\n",
      "pre-selection + btag_ophem<0.75 : s/b = 0.878\n",
      "-----------------------\n"
     ]
    }
   ],
   "source": [
    "channels = [\"mu\", \"ele\"]\n",
    "\n",
    "cuts = [9999999999, 0.0532, 0.3040, 0.7476]\n",
    "\n",
    "s, b = {}, {}\n",
    "for b4_or_af in [\"After tagger\", \"Before tagger\"]:\n",
    "    s[b4_or_af], b[b4_or_af] = {}, {}\n",
    "    for cut in cuts:\n",
    "        if cut == 9999999999:\n",
    "            cut_label = f\"pre-selection\"\n",
    "        else:\n",
    "            cut_label = f\"pre-selection + btag_ophem<{cut:.2f}\"\n",
    "\n",
    "        s[b4_or_af][cut_label], b[b4_or_af][cut_label] = 0, 0\n",
    "\n",
    "        for ch in channels:   # sum over channels\n",
    "            for sample in events_dict[ch]:\n",
    "                df = events_dict[ch][sample]\n",
    "    \n",
    "#                 # force dR cut\n",
    "#                 df = df[df[\"lep_fj_dr\"]>0.03]\n",
    "                \n",
    "                ### apply tagger cut\n",
    "                if b4_or_af == \"After tagger\":\n",
    "                    keep = ( df[\"inclusive_score\"]>0.9 )\n",
    "                    df = df.loc[keep, :]\n",
    "\n",
    "                keep = ( df[\"fj_bjets_ophem\"]<cut )\n",
    "                df = df.loc[keep, :]            \n",
    "\n",
    "                ### mass window\n",
    "                regressed_mass = df[\"fj_ParT_mass\"]     \n",
    "                fj_minus_lep_mass = df[\"fj_minus_lep_m\"]     \n",
    "        #         mass_window = (regressed_mass>100) & (regressed_mass<150)\n",
    "                mass_window = (fj_minus_lep_mass>0) & (fj_minus_lep_mass<150)\n",
    "\n",
    "                ### s/b\n",
    "                ev_weight = df[\"event_weight\"]        \n",
    "                if sample in utils.signals:\n",
    "                    s[b4_or_af][cut_label] += ev_weight[mass_window].sum()\n",
    "                else:\n",
    "                    b[b4_or_af][cut_label] += ev_weight[mass_window].sum()    \n",
    "\n",
    "for b4_or_af in [\"Before tagger\", \"After tagger\"]:\n",
    "    print(f\"{b4_or_af} cut:\")\n",
    "    for cut in s[b4_or_af]:\n",
    "        print(f\"{cut} : s/b = {s[b4_or_af][cut]/math.sqrt(b[b4_or_af][cut]):.3f}\")\n",
    "    print(\"-----------------------\")                   "
   ]
  },
  {
   "cell_type": "code",
   "execution_count": 35,
   "metadata": {},
   "outputs": [
    {
     "name": "stdout",
     "output_type": "stream",
     "text": [
      "Before tagger cut:\n",
      "pre-selection : s/b = 0.637\n",
      "pre-selection + btag<0.05 : s/b = 0.466\n",
      "pre-selection + btag<0.30 : s/b = 0.566\n",
      "pre-selection + btag<0.75 : s/b = 0.594\n",
      "-----------------------\n",
      "After tagger cut:\n",
      "pre-selection : s/b = 0.932\n",
      "pre-selection + btag<0.05 : s/b = 0.699\n",
      "pre-selection + btag<0.30 : s/b = 0.837\n",
      "pre-selection + btag<0.75 : s/b = 0.875\n",
      "-----------------------\n"
     ]
    }
   ],
   "source": [
    "channels = [\"mu\", \"ele\"]\n",
    "\n",
    "cuts = [9999999999, 0.0532, 0.3040, 0.7476]\n",
    "\n",
    "s, b = {}, {}\n",
    "for b4_or_af in [\"After tagger\", \"Before tagger\"]:\n",
    "    s[b4_or_af], b[b4_or_af] = {}, {}\n",
    "    for cut in cuts:\n",
    "        if cut == 9999999999:\n",
    "            cut_label = f\"pre-selection\"\n",
    "        else:\n",
    "            cut_label = f\"pre-selection + btag<{cut:.2f}\"\n",
    "\n",
    "        s[b4_or_af][cut_label], b[b4_or_af][cut_label] = 0, 0\n",
    "\n",
    "        for ch in channels:   # sum over channels\n",
    "            for sample in events_dict[ch]:\n",
    "                df = events_dict[ch][sample]\n",
    "                \n",
    "                # force dR cut\n",
    "                df = df[df[\"lep_fj_dr\"]>0.03]\n",
    "\n",
    "                ### apply tagger cut\n",
    "                if b4_or_af == \"After tagger\":\n",
    "                    keep = ( df[\"inclusive_score\"]>0.9 )\n",
    "                    df = df.loc[keep, :]\n",
    "\n",
    "                keep = ( df[\"fj_bjets\"]<cut )\n",
    "                df = df.loc[keep, :]            \n",
    "\n",
    "                ### mass window\n",
    "                regressed_mass = df[\"fj_ParT_mass\"]     \n",
    "                fj_minus_lep_mass = df[\"fj_minus_lep_m\"]     \n",
    "        #         mass_window = (regressed_mass>100) & (regressed_mass<150)\n",
    "                mass_window = (fj_minus_lep_mass>0) & (fj_minus_lep_mass<150)\n",
    "\n",
    "                ### s/b\n",
    "                ev_weight = df[\"event_weight\"]        \n",
    "                if sample in utils.signals:\n",
    "                    s[b4_or_af][cut_label] += ev_weight[mass_window].sum()\n",
    "                else:\n",
    "                    b[b4_or_af][cut_label] += ev_weight[mass_window].sum()\n",
    "                    \n",
    "for b4_or_af in [\"Before tagger\", \"After tagger\"]:\n",
    "    print(f\"{b4_or_af} cut:\")\n",
    "    for cut in s[b4_or_af]:\n",
    "        print(f\"{cut} : s/b = {s[b4_or_af][cut]/math.sqrt(b[b4_or_af][cut]):.3f}\")\n",
    "    print(\"-----------------------\")                    "
   ]
  },
  {
   "cell_type": "markdown",
   "metadata": {},
   "source": [
    "# s/b: nbjets"
   ]
  },
  {
   "cell_type": "code",
   "execution_count": 120,
   "metadata": {},
   "outputs": [
    {
     "name": "stdout",
     "output_type": "stream",
     "text": [
      "After tagger cut:\n",
      "pre-selection : s/b = 32.592\n",
      "pre-selection + n_bjets_ophem_M>=1 : s/b = 72.627\n",
      "pre-selection + n_bjets_ophem_M>=2 : s/b = 46.617\n",
      "pre-selection + n_bjets_ophem_M>=3 : s/b = 14.166\n",
      "pre-selection + n_bjets_ophem_M>=4 : s/b = 3.305\n",
      "-----------------------\n"
     ]
    }
   ],
   "source": [
    "samples_ = [\n",
    "    \"HWW\", \n",
    "    \"VH\",\n",
    "    \"VBF\",\n",
    "    \"ttH\",\n",
    "#     \"QCD\",\n",
    "#     \"DYJets\",\n",
    "#     \"WJetsLNu\",\n",
    "#     \"WZQQ\",\n",
    "    \"TTbar\",\n",
    "#     \"SingleTop\",\n",
    "#     \"Diboson\",\n",
    "]\n",
    "\n",
    "\n",
    "#     \"n_bjets_L\",\n",
    "#     \"n_bjets_M\",\n",
    "#     \"n_bjets_T\",   \n",
    "#     \"n_bjets_ophem_L\",\n",
    "#     \"n_bjets_ophem_M\",\n",
    "#     \"n_bjets_ophem_T\",  \n",
    "    \n",
    "channels = [\"mu\", \"ele\"]\n",
    "\n",
    "cuts = [0, 1, 2, 3, 4]\n",
    "\n",
    "s, b = {}, {}\n",
    "for b4_or_af in [\"After tagger\"]:\n",
    "    s[b4_or_af], b[b4_or_af] = {}, {}\n",
    "    for cut in cuts:\n",
    "        if cut == 0:\n",
    "            cut_label = f\"pre-selection\"\n",
    "        else:\n",
    "            cut_label = f\"pre-selection + n_bjets_ophem_M>={cut}\"\n",
    "\n",
    "        s[b4_or_af][cut_label], b[b4_or_af][cut_label] = 0, 0\n",
    "\n",
    "        for ch in channels:   # sum over channels\n",
    "            for sample in events_dict[ch]:\n",
    "#                 if sample not in samples_:\n",
    "#                     continue\n",
    "                df = events_dict[ch][sample]\n",
    "                \n",
    "                # force dR cut\n",
    "#                 df = df[df[\"lep_fj_dr\"]>0.03]\n",
    "\n",
    "                ### apply tagger cut\n",
    "                if b4_or_af == \"After tagger\":\n",
    "                    keep = ( df[\"inclusive_score\"]>0.9 )\n",
    "                    df = df.loc[keep, :]\n",
    "                \n",
    "                if cut != 0:\n",
    "                    keep = ( df[\"n_bjets_ophem_M\"]>=cut )\n",
    "                    df = df.loc[keep, :]            \n",
    "\n",
    "                ### mass window\n",
    "                regressed_mass = df[\"fj_ParT_mass\"]     \n",
    "                fj_minus_lep_mass = df[\"fj_minus_lep_m\"]     \n",
    "        #         mass_window = (regressed_mass>100) & (regressed_mass<150)\n",
    "                mass_window = (fj_minus_lep_mass>0) & (fj_minus_lep_mass<150)\n",
    "\n",
    "                ### s/b\n",
    "                ev_weight = df[\"event_weight\"]        \n",
    "#                 if sample in utils.signals:\n",
    "                if sample in [\"TTbar\"]:                    \n",
    "                    s[b4_or_af][cut_label] += ev_weight[mass_window].sum()\n",
    "                else:\n",
    "                    b[b4_or_af][cut_label] += ev_weight[mass_window].sum()\n",
    "                    \n",
    "for b4_or_af in [\"After tagger\"]:\n",
    "    print(f\"{b4_or_af} cut:\")\n",
    "    for cut in s[b4_or_af]:\n",
    "        print(f\"{cut} : s/b = {s[b4_or_af][cut]/math.sqrt(b[b4_or_af][cut]):.3f}\")\n",
    "    print(\"-----------------------\")                        "
   ]
  },
  {
   "cell_type": "code",
   "execution_count": 128,
   "metadata": {},
   "outputs": [
    {
     "name": "stdout",
     "output_type": "stream",
     "text": [
      "Before tagger cut:\n",
      "pre-selection : s/b = 1.209\n",
      "pre-selection + n_bjets_M<1 : s/b = 1.799\n",
      "pre-selection + n_bjets_M<2 : s/b = 1.237\n",
      "pre-selection + n_bjets_M<3 : s/b = 1.209\n",
      "pre-selection + n_bjets_M<4 : s/b = 1.209\n",
      "-----------------------\n",
      "After tagger cut:\n",
      "pre-selection : s/b = 2.365\n",
      "pre-selection + n_bjets_M<1 : s/b = 4.452\n",
      "pre-selection + n_bjets_M<2 : s/b = 2.670\n",
      "pre-selection + n_bjets_M<3 : s/b = 2.381\n",
      "pre-selection + n_bjets_M<4 : s/b = 2.366\n",
      "-----------------------\n"
     ]
    }
   ],
   "source": [
    "samples_ = [\n",
    "    \"HWW\", \n",
    "    \"VH\",\n",
    "    \"VBF\",\n",
    "    \"ttH\",\n",
    "#     \"QCD\",\n",
    "#     \"DYJets\",\n",
    "#     \"WJetsLNu\",\n",
    "#     \"WZQQ\",\n",
    "    \"TTbar\",\n",
    "#     \"SingleTop\",\n",
    "#     \"Diboson\",\n",
    "]\n",
    "\n",
    "\n",
    "#     \"n_bjets_L\",\n",
    "#     \"n_bjets_M\",\n",
    "#     \"n_bjets_T\",   \n",
    "#     \"n_bjets_ophem_L\",\n",
    "#     \"n_bjets_ophem_M\",\n",
    "#     \"n_bjets_ophem_T\",  \n",
    "    \n",
    "channels = [\"mu\", \"ele\"]\n",
    "\n",
    "cuts = [0, 1, 2, 3, 4]\n",
    "\n",
    "s, b = {}, {}\n",
    "for b4_or_af in [\"After tagger\", \"Before tagger\"]:\n",
    "    s[b4_or_af], b[b4_or_af] = {}, {}\n",
    "    for cut in cuts:\n",
    "        if cut == 0:\n",
    "            cut_label = f\"pre-selection\"\n",
    "        else:\n",
    "            cut_label = f\"pre-selection + n_bjets_M<{cut}\"\n",
    "\n",
    "        s[b4_or_af][cut_label], b[b4_or_af][cut_label] = 0, 0\n",
    "\n",
    "        for ch in channels:   # sum over channels\n",
    "            for sample in events_dict[ch]:\n",
    "                if sample not in samples_:\n",
    "                    continue\n",
    "                df = events_dict[ch][sample]\n",
    "                \n",
    "                # force dR cut\n",
    "#                 df = df[df[\"lep_fj_dr\"]>0.03]\n",
    "\n",
    "                ### apply tagger cut\n",
    "                if b4_or_af == \"After tagger\":\n",
    "                    keep = ( df[\"inclusive_score\"]>0.9 )\n",
    "                    df = df.loc[keep, :]\n",
    "                \n",
    "                if cut != 0:\n",
    "                    keep = ( df[\"n_bjets_M\"]<cut )\n",
    "                    df = df.loc[keep, :]            \n",
    "\n",
    "                ### mass window\n",
    "                regressed_mass = df[\"fj_ParT_mass\"]     \n",
    "                fj_minus_lep_mass = df[\"fj_minus_lep_m\"]     \n",
    "        #         mass_window = (regressed_mass>100) & (regressed_mass<150)\n",
    "                mass_window = (fj_minus_lep_mass>0) & (fj_minus_lep_mass<150)\n",
    "\n",
    "                ### s/b\n",
    "                ev_weight = df[\"event_weight\"]        \n",
    "                if sample in utils.signals:\n",
    "                    s[b4_or_af][cut_label] += ev_weight[mass_window].sum()\n",
    "                else:\n",
    "                    b[b4_or_af][cut_label] += ev_weight[mass_window].sum()\n",
    "                    \n",
    "for b4_or_af in [\"Before tagger\", \"After tagger\"]:\n",
    "    print(f\"{b4_or_af} cut:\")\n",
    "    for cut in s[b4_or_af]:\n",
    "        print(f\"{cut} : s/b = {s[b4_or_af][cut]/math.sqrt(b[b4_or_af][cut]):.3f}\")\n",
    "    print(\"-----------------------\")                        "
   ]
  },
  {
   "cell_type": "markdown",
   "metadata": {},
   "source": [
    "# s/b: golden variable"
   ]
  },
  {
   "cell_type": "code",
   "execution_count": 171,
   "metadata": {},
   "outputs": [
    {
     "data": {
      "text/plain": [
       "array([0. , 0.2, 0.4, 0.6, 0.8, 1. , 1.2, 1.4, 1.6, 1.8, 2. , 2.2, 2.4,\n",
       "       2.6, 2.8, 3. , 3.2, 3.4, 3.6, 3.8, 4. ])"
      ]
     },
     "execution_count": 171,
     "metadata": {},
     "output_type": "execute_result"
    }
   ],
   "source": [
    "np.linspace(0,4,21)"
   ]
  },
  {
   "cell_type": "code",
   "execution_count": 192,
   "metadata": {},
   "outputs": [
    {
     "name": "stdout",
     "output_type": "stream",
     "text": [
      "Before tagger cut:\n",
      "pre-selection : s/b = 0.459\n",
      "pre-selection + pT(W(lnu)/pT(Wqq)>0.05 : s/b = 0.458\n",
      "pre-selection + pT(W(lnu)/pT(Wqq)>0.10 : s/b = 0.456\n",
      "pre-selection + pT(W(lnu)/pT(Wqq)>0.15 : s/b = 0.453\n",
      "pre-selection + pT(W(lnu)/pT(Wqq)>0.20 : s/b = 0.449\n",
      "pre-selection + pT(W(lnu)/pT(Wqq)>0.25 : s/b = 0.443\n",
      "pre-selection + pT(W(lnu)/pT(Wqq)>0.30 : s/b = 0.436\n",
      "pre-selection + pT(W(lnu)/pT(Wqq)>0.35 : s/b = 0.428\n",
      "pre-selection + pT(W(lnu)/pT(Wqq)>0.40 : s/b = 0.418\n",
      "pre-selection + pT(W(lnu)/pT(Wqq)>0.45 : s/b = 0.408\n",
      "pre-selection + pT(W(lnu)/pT(Wqq)>0.50 : s/b = 0.397\n",
      "pre-selection + pT(W(lnu)/pT(Wqq)>0.55 : s/b = 0.387\n",
      "pre-selection + pT(W(lnu)/pT(Wqq)>0.60 : s/b = 0.375\n",
      "pre-selection + pT(W(lnu)/pT(Wqq)>0.65 : s/b = 0.364\n",
      "pre-selection + pT(W(lnu)/pT(Wqq)>0.70 : s/b = 0.352\n",
      "pre-selection + pT(W(lnu)/pT(Wqq)>0.75 : s/b = 0.341\n",
      "pre-selection + pT(W(lnu)/pT(Wqq)>0.80 : s/b = 0.329\n",
      "pre-selection + pT(W(lnu)/pT(Wqq)>0.85 : s/b = 0.317\n",
      "pre-selection + pT(W(lnu)/pT(Wqq)>0.90 : s/b = 0.306\n",
      "pre-selection + pT(W(lnu)/pT(Wqq)>0.95 : s/b = 0.295\n",
      "pre-selection + pT(W(lnu)/pT(Wqq)>1.00 : s/b = 0.285\n",
      "-----------------------\n",
      "After tagger cut:\n",
      "pre-selection : s/b = 0.710\n",
      "pre-selection + pT(W(lnu)/pT(Wqq)>0.05 : s/b = 0.709\n",
      "pre-selection + pT(W(lnu)/pT(Wqq)>0.10 : s/b = 0.707\n",
      "pre-selection + pT(W(lnu)/pT(Wqq)>0.15 : s/b = 0.704\n",
      "pre-selection + pT(W(lnu)/pT(Wqq)>0.20 : s/b = 0.700\n",
      "pre-selection + pT(W(lnu)/pT(Wqq)>0.25 : s/b = 0.694\n",
      "pre-selection + pT(W(lnu)/pT(Wqq)>0.30 : s/b = 0.684\n",
      "pre-selection + pT(W(lnu)/pT(Wqq)>0.35 : s/b = 0.673\n",
      "pre-selection + pT(W(lnu)/pT(Wqq)>0.40 : s/b = 0.658\n",
      "pre-selection + pT(W(lnu)/pT(Wqq)>0.45 : s/b = 0.640\n",
      "pre-selection + pT(W(lnu)/pT(Wqq)>0.50 : s/b = 0.624\n",
      "pre-selection + pT(W(lnu)/pT(Wqq)>0.55 : s/b = 0.604\n",
      "pre-selection + pT(W(lnu)/pT(Wqq)>0.60 : s/b = 0.582\n",
      "pre-selection + pT(W(lnu)/pT(Wqq)>0.65 : s/b = 0.560\n",
      "pre-selection + pT(W(lnu)/pT(Wqq)>0.70 : s/b = 0.538\n",
      "pre-selection + pT(W(lnu)/pT(Wqq)>0.75 : s/b = 0.515\n",
      "pre-selection + pT(W(lnu)/pT(Wqq)>0.80 : s/b = 0.489\n",
      "pre-selection + pT(W(lnu)/pT(Wqq)>0.85 : s/b = 0.464\n",
      "pre-selection + pT(W(lnu)/pT(Wqq)>0.90 : s/b = 0.441\n",
      "pre-selection + pT(W(lnu)/pT(Wqq)>0.95 : s/b = 0.416\n",
      "pre-selection + pT(W(lnu)/pT(Wqq)>1.00 : s/b = 0.394\n",
      "-----------------------\n"
     ]
    }
   ],
   "source": [
    "channels = [\"mu\", \"ele\"]\n",
    "\n",
    "# cuts = [0,0.1,0.2,0.3,0.4,0.5,0.6,0.7]\n",
    "cuts = np.linspace(0,1,21)\n",
    "\n",
    "s, b = {}, {}\n",
    "for b4_or_af in [\"After tagger\", \"Before tagger\"]:\n",
    "    s[b4_or_af], b[b4_or_af] = {}, {}\n",
    "    for cut in cuts:\n",
    "        if cut == 0:\n",
    "            cut_label = f\"pre-selection\"\n",
    "        else:\n",
    "            cut_label = f\"pre-selection + pT(W(lnu)/pT(Wqq)>{cut:.2f}\"\n",
    "\n",
    "        s[b4_or_af][cut_label], b[b4_or_af][cut_label] = 0, 0\n",
    "\n",
    "        for ch in channels:   # sum over channels\n",
    "            for sample in events_dict[ch]:\n",
    "                df = events_dict[ch][sample]\n",
    "\n",
    "                ### apply tagger cut\n",
    "                if b4_or_af == \"After tagger\":\n",
    "                    keep = ( df[\"inclusive_score\"]>0.9 )\n",
    "                    df = df.loc[keep, :]\n",
    "\n",
    "                if cut != 0:                    \n",
    "                    keep = (  df[\"rec_W_lnu_pt\"]/df[\"rec_W_qq_pt\"]>cut )                \n",
    "                    df = df.loc[keep, :]            \n",
    "\n",
    "                ### mass window\n",
    "                regressed_mass = df[\"fj_ParT_mass\"]     \n",
    "                fj_minus_lep_mass = df[\"fj_minus_lep_m\"]     \n",
    "        #         mass_window = (regressed_mass>100) & (regressed_mass<150)\n",
    "                mass_window = (fj_minus_lep_mass>0) & (fj_minus_lep_mass<150)\n",
    "\n",
    "                ### s/b\n",
    "                ev_weight = df[\"event_weight\"]        \n",
    "                if sample in utils.signals:\n",
    "                    s[b4_or_af][cut_label] += ev_weight[mass_window].sum()\n",
    "                else:\n",
    "                    b[b4_or_af][cut_label] += ev_weight[mass_window].sum()    \n",
    "                    \n",
    "for b4_or_af in [\"Before tagger\", \"After tagger\"]:\n",
    "    print(f\"{b4_or_af} cut:\")\n",
    "    for cut in s[b4_or_af]:\n",
    "        print(f\"{cut} : s/b = {s[b4_or_af][cut]/math.sqrt(b[b4_or_af][cut]):.3f}\")\n",
    "    print(\"-----------------------\")"
   ]
  },
  {
   "cell_type": "code",
   "execution_count": 194,
   "metadata": {
    "scrolled": true
   },
   "outputs": [
    {
     "name": "stdout",
     "output_type": "stream",
     "text": [
      "Before tagger cut:\n",
      "pre-selection : s/b = 0.459\n",
      "pre-selection + pT(W(lnu)/pT(Wqq)<0.20 : s/b = 0.101\n",
      "pre-selection + pT(W(lnu)/pT(Wqq)<0.40 : s/b = 0.207\n",
      "pre-selection + pT(W(lnu)/pT(Wqq)<0.60 : s/b = 0.302\n",
      "pre-selection + pT(W(lnu)/pT(Wqq)<0.80 : s/b = 0.380\n",
      "pre-selection + pT(W(lnu)/pT(Wqq)<1.00 : s/b = 0.438\n",
      "pre-selection + pT(W(lnu)/pT(Wqq)<1.20 : s/b = 0.480\n",
      "pre-selection + pT(W(lnu)/pT(Wqq)<1.40 : s/b = 0.508\n",
      "pre-selection + pT(W(lnu)/pT(Wqq)<1.60 : s/b = 0.525\n",
      "pre-selection + pT(W(lnu)/pT(Wqq)<1.80 : s/b = 0.537\n",
      "pre-selection + pT(W(lnu)/pT(Wqq)<2.00 : s/b = 0.544\n",
      "pre-selection + pT(W(lnu)/pT(Wqq)<2.20 : s/b = 0.547\n",
      "pre-selection + pT(W(lnu)/pT(Wqq)<2.40 : s/b = 0.548\n",
      "pre-selection + pT(W(lnu)/pT(Wqq)<2.60 : s/b = 0.547\n",
      "pre-selection + pT(W(lnu)/pT(Wqq)<2.80 : s/b = 0.547\n",
      "pre-selection + pT(W(lnu)/pT(Wqq)<3.00 : s/b = 0.545\n",
      "pre-selection + pT(W(lnu)/pT(Wqq)<3.20 : s/b = 0.543\n",
      "pre-selection + pT(W(lnu)/pT(Wqq)<3.40 : s/b = 0.540\n",
      "pre-selection + pT(W(lnu)/pT(Wqq)<3.60 : s/b = 0.536\n",
      "pre-selection + pT(W(lnu)/pT(Wqq)<3.80 : s/b = 0.533\n",
      "pre-selection + pT(W(lnu)/pT(Wqq)<4.00 : s/b = 0.529\n",
      "-----------------------\n",
      "After tagger cut:\n",
      "pre-selection : s/b = 0.710\n",
      "pre-selection + pT(W(lnu)/pT(Wqq)<0.20 : s/b = 0.125\n",
      "pre-selection + pT(W(lnu)/pT(Wqq)<0.40 : s/b = 0.267\n",
      "pre-selection + pT(W(lnu)/pT(Wqq)<0.60 : s/b = 0.412\n",
      "pre-selection + pT(W(lnu)/pT(Wqq)<0.80 : s/b = 0.544\n",
      "pre-selection + pT(W(lnu)/pT(Wqq)<1.00 : s/b = 0.653\n",
      "pre-selection + pT(W(lnu)/pT(Wqq)<1.20 : s/b = 0.736\n",
      "pre-selection + pT(W(lnu)/pT(Wqq)<1.40 : s/b = 0.784\n",
      "pre-selection + pT(W(lnu)/pT(Wqq)<1.60 : s/b = 0.829\n",
      "pre-selection + pT(W(lnu)/pT(Wqq)<1.80 : s/b = 0.855\n",
      "pre-selection + pT(W(lnu)/pT(Wqq)<2.00 : s/b = 0.875\n",
      "pre-selection + pT(W(lnu)/pT(Wqq)<2.20 : s/b = 0.889\n",
      "pre-selection + pT(W(lnu)/pT(Wqq)<2.40 : s/b = 0.894\n",
      "pre-selection + pT(W(lnu)/pT(Wqq)<2.60 : s/b = 0.900\n",
      "pre-selection + pT(W(lnu)/pT(Wqq)<2.80 : s/b = 0.903\n",
      "pre-selection + pT(W(lnu)/pT(Wqq)<3.00 : s/b = 0.905\n",
      "pre-selection + pT(W(lnu)/pT(Wqq)<3.20 : s/b = 0.908\n",
      "pre-selection + pT(W(lnu)/pT(Wqq)<3.40 : s/b = 0.911\n",
      "pre-selection + pT(W(lnu)/pT(Wqq)<3.60 : s/b = 0.910\n",
      "pre-selection + pT(W(lnu)/pT(Wqq)<3.80 : s/b = 0.910\n",
      "pre-selection + pT(W(lnu)/pT(Wqq)<4.00 : s/b = 0.910\n",
      "-----------------------\n"
     ]
    }
   ],
   "source": [
    "channels = [\"mu\", \"ele\"]\n",
    "\n",
    "# cuts = [0,0.1,0.2,0.3,0.4,0.5,0.6,0.7]\n",
    "cuts = np.linspace(0,4,21)\n",
    "\n",
    "s, b = {}, {}\n",
    "for b4_or_af in [\"After tagger\", \"Before tagger\"]:\n",
    "    s[b4_or_af], b[b4_or_af] = {}, {}\n",
    "    for cut in cuts:\n",
    "        if cut == 0:\n",
    "            cut_label = f\"pre-selection\"\n",
    "        else:\n",
    "            cut_label = f\"pre-selection + pT(W(lnu)/pT(Wqq)<{cut:.2f}\"\n",
    "\n",
    "        s[b4_or_af][cut_label], b[b4_or_af][cut_label] = 0, 0\n",
    "\n",
    "        for ch in channels:   # sum over channels\n",
    "            for sample in events_dict[ch]:\n",
    "                df = events_dict[ch][sample]\n",
    "\n",
    "                ### apply tagger cut\n",
    "                if b4_or_af == \"After tagger\":\n",
    "                    keep = ( df[\"inclusive_score\"]>0.9 )\n",
    "                    df = df.loc[keep, :]\n",
    "\n",
    "                if cut != 0:\n",
    "                    keep = ( df[\"rec_W_lnu_pt\"]/df[\"rec_W_qq_pt\"]<cut )# & (  df[\"rec_W_lnu_pt\"]/df[\"rec_W_qq_pt\"]>0.2 )\n",
    "                    df = df.loc[keep, :]            \n",
    "\n",
    "                ### mass window\n",
    "                regressed_mass = df[\"fj_ParT_mass\"]     \n",
    "                fj_minus_lep_mass = df[\"fj_minus_lep_m\"]     \n",
    "        #         mass_window = (regressed_mass>100) & (regressed_mass<150)\n",
    "                mass_window = (fj_minus_lep_mass>0) & (fj_minus_lep_mass<150)\n",
    "\n",
    "                ### s/b\n",
    "                ev_weight = df[\"event_weight\"]        \n",
    "                if sample in utils.signals:\n",
    "                    s[b4_or_af][cut_label] += ev_weight[mass_window].sum()\n",
    "                else:\n",
    "                    b[b4_or_af][cut_label] += ev_weight[mass_window].sum()    \n",
    "                    \n",
    "for b4_or_af in [\"Before tagger\", \"After tagger\"]:\n",
    "    print(f\"{b4_or_af} cut:\")\n",
    "    for cut in s[b4_or_af]:\n",
    "        print(f\"{cut} : s/b = {s[b4_or_af][cut]/math.sqrt(b[b4_or_af][cut]):.3f}\")\n",
    "    print(\"-----------------------\")"
   ]
  },
  {
   "cell_type": "markdown",
   "metadata": {},
   "source": [
    "# s/b: mT"
   ]
  },
  {
   "cell_type": "code",
   "execution_count": 19,
   "metadata": {
    "scrolled": true
   },
   "outputs": [
    {
     "name": "stdout",
     "output_type": "stream",
     "text": [
      "Before tagger cut:\n",
      "pre-selection : s/b = 0.459\n",
      "pre-selection + mT<10.00 : s/b = 0.144\n",
      "pre-selection + mT<20.00 : s/b = 0.208\n",
      "pre-selection + mT<30.00 : s/b = 0.252\n",
      "pre-selection + mT<40.00 : s/b = 0.291\n",
      "pre-selection + mT<50.00 : s/b = 0.324\n",
      "pre-selection + mT<60.00 : s/b = 0.351\n",
      "pre-selection + mT<70.00 : s/b = 0.376\n",
      "pre-selection + mT<80.00 : s/b = 0.394\n",
      "pre-selection + mT<90.00 : s/b = 0.409\n",
      "pre-selection + mT<100.00 : s/b = 0.422\n",
      "pre-selection + mT<110.00 : s/b = 0.430\n",
      "pre-selection + mT<120.00 : s/b = 0.437\n",
      "pre-selection + mT<130.00 : s/b = 0.441\n",
      "pre-selection + mT<140.00 : s/b = 0.444\n",
      "pre-selection + mT<150.00 : s/b = 0.446\n",
      "pre-selection + mT<160.00 : s/b = 0.447\n",
      "pre-selection + mT<170.00 : s/b = 0.448\n",
      "pre-selection + mT<180.00 : s/b = 0.449\n",
      "pre-selection + mT<190.00 : s/b = 0.449\n",
      "pre-selection + mT<200.00 : s/b = 0.449\n",
      "pre-selection + mT<210.00 : s/b = 0.450\n",
      "pre-selection + mT<220.00 : s/b = 0.450\n",
      "pre-selection + mT<230.00 : s/b = 0.450\n",
      "pre-selection + mT<240.00 : s/b = 0.451\n",
      "pre-selection + mT<250.00 : s/b = 0.451\n",
      "pre-selection + mT<260.00 : s/b = 0.451\n",
      "pre-selection + mT<270.00 : s/b = 0.452\n",
      "pre-selection + mT<280.00 : s/b = 0.452\n",
      "pre-selection + mT<290.00 : s/b = 0.453\n",
      "pre-selection + mT<300.00 : s/b = 0.453\n",
      "pre-selection + mT<310.00 : s/b = 0.454\n",
      "pre-selection + mT<320.00 : s/b = 0.454\n",
      "pre-selection + mT<330.00 : s/b = 0.454\n",
      "pre-selection + mT<340.00 : s/b = 0.455\n",
      "pre-selection + mT<350.00 : s/b = 0.455\n",
      "pre-selection + mT<360.00 : s/b = 0.455\n",
      "pre-selection + mT<370.00 : s/b = 0.456\n",
      "pre-selection + mT<380.00 : s/b = 0.456\n",
      "pre-selection + mT<390.00 : s/b = 0.456\n",
      "pre-selection + mT<400.00 : s/b = 0.457\n",
      "-----------------------\n",
      "After tagger cut:\n",
      "pre-selection : s/b = 0.710\n",
      "pre-selection + mT<10.00 : s/b = 0.253\n",
      "pre-selection + mT<20.00 : s/b = 0.350\n",
      "pre-selection + mT<30.00 : s/b = 0.417\n",
      "pre-selection + mT<40.00 : s/b = 0.481\n",
      "pre-selection + mT<50.00 : s/b = 0.529\n",
      "pre-selection + mT<60.00 : s/b = 0.564\n",
      "pre-selection + mT<70.00 : s/b = 0.598\n",
      "pre-selection + mT<80.00 : s/b = 0.622\n",
      "pre-selection + mT<90.00 : s/b = 0.639\n",
      "pre-selection + mT<100.00 : s/b = 0.650\n",
      "pre-selection + mT<110.00 : s/b = 0.658\n",
      "pre-selection + mT<120.00 : s/b = 0.667\n",
      "pre-selection + mT<130.00 : s/b = 0.676\n",
      "pre-selection + mT<140.00 : s/b = 0.681\n",
      "pre-selection + mT<150.00 : s/b = 0.686\n",
      "pre-selection + mT<160.00 : s/b = 0.688\n",
      "pre-selection + mT<170.00 : s/b = 0.691\n",
      "pre-selection + mT<180.00 : s/b = 0.693\n",
      "pre-selection + mT<190.00 : s/b = 0.694\n",
      "pre-selection + mT<200.00 : s/b = 0.697\n",
      "pre-selection + mT<210.00 : s/b = 0.698\n",
      "pre-selection + mT<220.00 : s/b = 0.698\n",
      "pre-selection + mT<230.00 : s/b = 0.698\n",
      "pre-selection + mT<240.00 : s/b = 0.699\n",
      "pre-selection + mT<250.00 : s/b = 0.701\n",
      "pre-selection + mT<260.00 : s/b = 0.701\n",
      "pre-selection + mT<270.00 : s/b = 0.701\n",
      "pre-selection + mT<280.00 : s/b = 0.702\n",
      "pre-selection + mT<290.00 : s/b = 0.703\n",
      "pre-selection + mT<300.00 : s/b = 0.703\n",
      "pre-selection + mT<310.00 : s/b = 0.703\n",
      "pre-selection + mT<320.00 : s/b = 0.704\n",
      "pre-selection + mT<330.00 : s/b = 0.704\n",
      "pre-selection + mT<340.00 : s/b = 0.705\n",
      "pre-selection + mT<350.00 : s/b = 0.705\n",
      "pre-selection + mT<360.00 : s/b = 0.706\n",
      "pre-selection + mT<370.00 : s/b = 0.706\n",
      "pre-selection + mT<380.00 : s/b = 0.706\n",
      "pre-selection + mT<390.00 : s/b = 0.706\n",
      "pre-selection + mT<400.00 : s/b = 0.707\n",
      "-----------------------\n"
     ]
    }
   ],
   "source": [
    "channels = [\"mu\", \"ele\"]\n",
    "\n",
    "# cuts = [0,0.1,0.2,0.3,0.4,0.5,0.6,0.7]\n",
    "cuts = np.linspace(0,400,41)\n",
    "\n",
    "s, b = {}, {}\n",
    "for b4_or_af in [\"After tagger\", \"Before tagger\"]:\n",
    "    s[b4_or_af], b[b4_or_af] = {}, {}\n",
    "    for cut in cuts:\n",
    "        if cut == 0:\n",
    "            cut_label = f\"pre-selection\"\n",
    "        else:\n",
    "            cut_label = f\"pre-selection + mT<{cut:.2f}\"\n",
    "\n",
    "        s[b4_or_af][cut_label], b[b4_or_af][cut_label] = 0, 0\n",
    "\n",
    "        for ch in channels:   # sum over channels\n",
    "            for sample in events_dict[ch]:\n",
    "                df = events_dict[ch][sample]\n",
    "\n",
    "                ### apply tagger cut\n",
    "                if b4_or_af == \"After tagger\":\n",
    "                    keep = ( df[\"inclusive_score\"]>0.9 )\n",
    "                    df = df.loc[keep, :]\n",
    "\n",
    "                if cut != 0:\n",
    "                    keep = ( df[\"lep_met_mt\"]<cut )# & (  df[\"rec_W_lnu_pt\"]/df[\"rec_W_qq_pt\"]>0.2 )\n",
    "                    df = df.loc[keep, :]            \n",
    "\n",
    "                ### mass window\n",
    "                regressed_mass = df[\"fj_ParT_mass\"]     \n",
    "                fj_minus_lep_mass = df[\"fj_minus_lep_m\"]     \n",
    "        #         mass_window = (regressed_mass>100) & (regressed_mass<150)\n",
    "                mass_window = (fj_minus_lep_mass>0) & (fj_minus_lep_mass<150)\n",
    "\n",
    "                ### s/b\n",
    "                ev_weight = df[\"event_weight\"]        \n",
    "                if sample in utils.signals:\n",
    "                    s[b4_or_af][cut_label] += ev_weight[mass_window].sum()\n",
    "                else:\n",
    "                    b[b4_or_af][cut_label] += ev_weight[mass_window].sum()    \n",
    "                    \n",
    "for b4_or_af in [\"Before tagger\", \"After tagger\"]:\n",
    "    print(f\"{b4_or_af} cut:\")\n",
    "    for cut in s[b4_or_af]:\n",
    "        print(f\"{cut} : s/b = {s[b4_or_af][cut]/math.sqrt(b[b4_or_af][cut]):.3f}\")\n",
    "    print(\"-----------------------\")"
   ]
  },
  {
   "cell_type": "markdown",
   "metadata": {},
   "source": [
    "# Optimum finding algorithm"
   ]
  },
  {
   "cell_type": "code",
   "execution_count": 12,
   "metadata": {},
   "outputs": [],
   "source": [
    "from tqdm.notebook import tqdm\n",
    "def get_optimum_s_over_b(vars_, steps, apply_tagger=False):\n",
    "    \"\"\"\n",
    "    Idea: given a range, fix the lower limit and do a \"for loop\" where you slide the upper limit to the left until \n",
    "    you hit the lower limit. Then increase the lower limit by one step and repeat.\n",
    "    \n",
    "    NOTE: for computational costs, and assuming the steps are always about a nice gaussian;\n",
    "    the lower limit does not bypass the midpoint.\n",
    "    \"\"\"\n",
    "\n",
    "    s, b = {}, {}\n",
    "    \n",
    "    midpoint = steps.mean()\n",
    "    for low in tqdm(steps):\n",
    "        if low>midpoint:\n",
    "            break\n",
    "        for high in tqdm(steps):\n",
    "            if high<=low:\n",
    "                continue\n",
    "        \n",
    "            s[f\"{low:.2f}-{high:.2f}\"], b[f\"{low:.2f}-{high:.2f}\"] = 0, 0\n",
    "        \n",
    "            for ch in channels:   # sum over channels\n",
    "                for sample in events_dict[ch]:\n",
    "                    df = events_dict[ch][sample]\n",
    "\n",
    "                    ### apply tagger cut\n",
    "                    if apply_tagger:\n",
    "                        keep = ( df[\"inclusive_score\"]>0.9 )\n",
    "                        df = df.loc[keep, :]\n",
    "\n",
    "                    # selection\n",
    "                    if len(vars_)==2:\n",
    "                        keep = ( df[vars_[0]]/df[vars_[1]]>low ) & ( df[vars_[0]]/df[vars_[1]]<high ) \n",
    "                    else:\n",
    "                        keep = ( df[vars_[0]]>low ) & ( df[vars_[0]]<high )\n",
    "    \n",
    "                    df = df.loc[keep, :]            \n",
    "\n",
    "                    ### mass window\n",
    "                    mass_window = (df[\"fj_minus_lep_m\"]>0) & (df[\"fj_minus_lep_m\"]<150)\n",
    "\n",
    "                    ### s/b\n",
    "                    ev_weight = df[\"event_weight\"]        \n",
    "                    if sample in utils.signals:\n",
    "                        s[f\"{low:.2f}-{high:.2f}\"] += ev_weight[mass_window].sum()\n",
    "                    else:\n",
    "                        b[f\"{low:.2f}-{high:.2f}\"] += ev_weight[mass_window].sum()   \n",
    "         \n",
    "    max_ = 0\n",
    "    for range_ in s:\n",
    "        s_over_b = s[range_]/np.sqrt(b[range_])\n",
    "        if s_over_b >= max_:\n",
    "            max_ = s_over_b\n",
    "    \n",
    "    for range_ in s:\n",
    "        s_over_b = s[range_]/np.sqrt(b[range_])\n",
    "        if s_over_b >= max_:\n",
    "            print(f\"{range_} : {s[range_]/np.sqrt(b[range_]):.2f}\")    \n",
    "        \n",
    "    return s, b"
   ]
  },
  {
   "cell_type": "markdown",
   "metadata": {},
   "source": [
    "# dR(Jet,Lepton)"
   ]
  },
  {
   "cell_type": "code",
   "execution_count": 314,
   "metadata": {},
   "outputs": [
    {
     "data": {
      "text/plain": [
       "array([0.  , 0.02, 0.04, 0.06, 0.08, 0.1 , 0.12, 0.14, 0.16, 0.18, 0.2 ,\n",
       "       0.22, 0.24, 0.26, 0.28, 0.3 , 0.32, 0.34, 0.36, 0.38, 0.4 , 0.42,\n",
       "       0.44, 0.46, 0.48, 0.5 , 0.52, 0.54, 0.56, 0.58, 0.6 , 0.62, 0.64,\n",
       "       0.66, 0.68, 0.7 , 0.72, 0.74, 0.76, 0.78, 0.8 ])"
      ]
     },
     "execution_count": 314,
     "metadata": {},
     "output_type": "execute_result"
    }
   ],
   "source": [
    "steps = np.linspace(0, 0.8, 41)\n",
    "steps "
   ]
  },
  {
   "cell_type": "code",
   "execution_count": 315,
   "metadata": {
    "scrolled": true
   },
   "outputs": [
    {
     "data": {
      "application/vnd.jupyter.widget-view+json": {
       "model_id": "e72b10158dfa4a09b967486cecebf22a",
       "version_major": 2,
       "version_minor": 0
      },
      "text/plain": [
       "  0%|          | 0/41 [00:00<?, ?it/s]"
      ]
     },
     "metadata": {},
     "output_type": "display_data"
    },
    {
     "data": {
      "application/vnd.jupyter.widget-view+json": {
       "model_id": "5b42df5a5a5349ff9bafcb096ca02333",
       "version_major": 2,
       "version_minor": 0
      },
      "text/plain": [
       "  0%|          | 0/41 [00:00<?, ?it/s]"
      ]
     },
     "metadata": {},
     "output_type": "display_data"
    },
    {
     "data": {
      "application/vnd.jupyter.widget-view+json": {
       "model_id": "c314a9602edc4ce28c560f2e884bc435",
       "version_major": 2,
       "version_minor": 0
      },
      "text/plain": [
       "  0%|          | 0/41 [00:00<?, ?it/s]"
      ]
     },
     "metadata": {},
     "output_type": "display_data"
    },
    {
     "data": {
      "application/vnd.jupyter.widget-view+json": {
       "model_id": "7a6e0bb92068428bb12a7b2132ad3d80",
       "version_major": 2,
       "version_minor": 0
      },
      "text/plain": [
       "  0%|          | 0/41 [00:00<?, ?it/s]"
      ]
     },
     "metadata": {},
     "output_type": "display_data"
    },
    {
     "data": {
      "application/vnd.jupyter.widget-view+json": {
       "model_id": "25e653c1ebe446c88bca9cd5ce39dff8",
       "version_major": 2,
       "version_minor": 0
      },
      "text/plain": [
       "  0%|          | 0/41 [00:00<?, ?it/s]"
      ]
     },
     "metadata": {},
     "output_type": "display_data"
    },
    {
     "data": {
      "application/vnd.jupyter.widget-view+json": {
       "model_id": "5d5d1686a47a4836bf8c769075442a73",
       "version_major": 2,
       "version_minor": 0
      },
      "text/plain": [
       "  0%|          | 0/41 [00:00<?, ?it/s]"
      ]
     },
     "metadata": {},
     "output_type": "display_data"
    },
    {
     "data": {
      "application/vnd.jupyter.widget-view+json": {
       "model_id": "71d00ad033e948428d78b3723ad7de0e",
       "version_major": 2,
       "version_minor": 0
      },
      "text/plain": [
       "  0%|          | 0/41 [00:00<?, ?it/s]"
      ]
     },
     "metadata": {},
     "output_type": "display_data"
    },
    {
     "data": {
      "application/vnd.jupyter.widget-view+json": {
       "model_id": "99c9e058f73d44dfad9b465045f228ec",
       "version_major": 2,
       "version_minor": 0
      },
      "text/plain": [
       "  0%|          | 0/41 [00:00<?, ?it/s]"
      ]
     },
     "metadata": {},
     "output_type": "display_data"
    },
    {
     "data": {
      "application/vnd.jupyter.widget-view+json": {
       "model_id": "d1e31fc1b0bd4c8286c0c155ff20d901",
       "version_major": 2,
       "version_minor": 0
      },
      "text/plain": [
       "  0%|          | 0/41 [00:00<?, ?it/s]"
      ]
     },
     "metadata": {},
     "output_type": "display_data"
    },
    {
     "data": {
      "application/vnd.jupyter.widget-view+json": {
       "model_id": "1b0b31d4934d4b5ebd49c32b1de0cfe8",
       "version_major": 2,
       "version_minor": 0
      },
      "text/plain": [
       "  0%|          | 0/41 [00:00<?, ?it/s]"
      ]
     },
     "metadata": {},
     "output_type": "display_data"
    },
    {
     "data": {
      "application/vnd.jupyter.widget-view+json": {
       "model_id": "7b00f19b3bc0454d8606921402d73a92",
       "version_major": 2,
       "version_minor": 0
      },
      "text/plain": [
       "  0%|          | 0/41 [00:00<?, ?it/s]"
      ]
     },
     "metadata": {},
     "output_type": "display_data"
    },
    {
     "data": {
      "application/vnd.jupyter.widget-view+json": {
       "model_id": "141353791a35419c96ab34e727b3556a",
       "version_major": 2,
       "version_minor": 0
      },
      "text/plain": [
       "  0%|          | 0/41 [00:00<?, ?it/s]"
      ]
     },
     "metadata": {},
     "output_type": "display_data"
    },
    {
     "data": {
      "application/vnd.jupyter.widget-view+json": {
       "model_id": "d90aef2e96c84d5da1c62933140ce860",
       "version_major": 2,
       "version_minor": 0
      },
      "text/plain": [
       "  0%|          | 0/41 [00:00<?, ?it/s]"
      ]
     },
     "metadata": {},
     "output_type": "display_data"
    },
    {
     "data": {
      "application/vnd.jupyter.widget-view+json": {
       "model_id": "beed45cee1c6402f982c4521a25d03c9",
       "version_major": 2,
       "version_minor": 0
      },
      "text/plain": [
       "  0%|          | 0/41 [00:00<?, ?it/s]"
      ]
     },
     "metadata": {},
     "output_type": "display_data"
    },
    {
     "data": {
      "application/vnd.jupyter.widget-view+json": {
       "model_id": "c0299bb72e6c47e1b372de8c7c7b4eca",
       "version_major": 2,
       "version_minor": 0
      },
      "text/plain": [
       "  0%|          | 0/41 [00:00<?, ?it/s]"
      ]
     },
     "metadata": {},
     "output_type": "display_data"
    },
    {
     "data": {
      "application/vnd.jupyter.widget-view+json": {
       "model_id": "4d6955b339cf4a41bf86c4694d8a6480",
       "version_major": 2,
       "version_minor": 0
      },
      "text/plain": [
       "  0%|          | 0/41 [00:00<?, ?it/s]"
      ]
     },
     "metadata": {},
     "output_type": "display_data"
    },
    {
     "data": {
      "application/vnd.jupyter.widget-view+json": {
       "model_id": "f51c9e14b1c14a62b7aed4220b98d9a9",
       "version_major": 2,
       "version_minor": 0
      },
      "text/plain": [
       "  0%|          | 0/41 [00:00<?, ?it/s]"
      ]
     },
     "metadata": {},
     "output_type": "display_data"
    },
    {
     "data": {
      "application/vnd.jupyter.widget-view+json": {
       "model_id": "6770aa94d21849a79d019ade83eef049",
       "version_major": 2,
       "version_minor": 0
      },
      "text/plain": [
       "  0%|          | 0/41 [00:00<?, ?it/s]"
      ]
     },
     "metadata": {},
     "output_type": "display_data"
    },
    {
     "data": {
      "application/vnd.jupyter.widget-view+json": {
       "model_id": "95e33f5af3c44686b49424f19078b643",
       "version_major": 2,
       "version_minor": 0
      },
      "text/plain": [
       "  0%|          | 0/41 [00:00<?, ?it/s]"
      ]
     },
     "metadata": {},
     "output_type": "display_data"
    },
    {
     "data": {
      "application/vnd.jupyter.widget-view+json": {
       "model_id": "2987c28809914900907779ee5342a692",
       "version_major": 2,
       "version_minor": 0
      },
      "text/plain": [
       "  0%|          | 0/41 [00:00<?, ?it/s]"
      ]
     },
     "metadata": {},
     "output_type": "display_data"
    },
    {
     "data": {
      "application/vnd.jupyter.widget-view+json": {
       "model_id": "59d782e9162b4a9797edbec7f9e4702d",
       "version_major": 2,
       "version_minor": 0
      },
      "text/plain": [
       "  0%|          | 0/41 [00:00<?, ?it/s]"
      ]
     },
     "metadata": {},
     "output_type": "display_data"
    },
    {
     "data": {
      "application/vnd.jupyter.widget-view+json": {
       "model_id": "8a52f465e58942e59e61d9e8c46f62e9",
       "version_major": 2,
       "version_minor": 0
      },
      "text/plain": [
       "  0%|          | 0/41 [00:00<?, ?it/s]"
      ]
     },
     "metadata": {},
     "output_type": "display_data"
    },
    {
     "name": "stdout",
     "output_type": "stream",
     "text": [
      "0.02-0.36 : 0.96\n"
     ]
    }
   ],
   "source": [
    "s, b = get_optimum_s_over_b([\"lep_fj_dr\"], steps, apply_tagger=True)"
   ]
  },
  {
   "cell_type": "markdown",
   "metadata": {},
   "source": [
    "# pT(Jet)/pT(Lepton)"
   ]
  },
  {
   "cell_type": "code",
   "execution_count": 324,
   "metadata": {},
   "outputs": [
    {
     "data": {
      "text/plain": [
       "array([ 0.  ,  0.25,  0.5 ,  0.75,  1.  ,  1.25,  1.5 ,  1.75,  2.  ,\n",
       "        2.25,  2.5 ,  2.75,  3.  ,  3.25,  3.5 ,  3.75,  4.  ,  4.25,\n",
       "        4.5 ,  4.75,  5.  ,  5.25,  5.5 ,  5.75,  6.  ,  6.25,  6.5 ,\n",
       "        6.75,  7.  ,  7.25,  7.5 ,  7.75,  8.  ,  8.25,  8.5 ,  8.75,\n",
       "        9.  ,  9.25,  9.5 ,  9.75, 10.  ])"
      ]
     },
     "execution_count": 324,
     "metadata": {},
     "output_type": "execute_result"
    }
   ],
   "source": [
    "steps = np.linspace(0, 10, 41)\n",
    "steps "
   ]
  },
  {
   "cell_type": "code",
   "execution_count": 318,
   "metadata": {
    "scrolled": true
   },
   "outputs": [
    {
     "data": {
      "application/vnd.jupyter.widget-view+json": {
       "model_id": "411d8774681549f181d0f64d11fe029a",
       "version_major": 2,
       "version_minor": 0
      },
      "text/plain": [
       "  0%|          | 0/41 [00:00<?, ?it/s]"
      ]
     },
     "metadata": {},
     "output_type": "display_data"
    },
    {
     "data": {
      "application/vnd.jupyter.widget-view+json": {
       "model_id": "1f9b656045f946e7ba3e3ae74109b83c",
       "version_major": 2,
       "version_minor": 0
      },
      "text/plain": [
       "  0%|          | 0/41 [00:00<?, ?it/s]"
      ]
     },
     "metadata": {},
     "output_type": "display_data"
    },
    {
     "data": {
      "application/vnd.jupyter.widget-view+json": {
       "model_id": "1610d82b0c57492880670acec0725333",
       "version_major": 2,
       "version_minor": 0
      },
      "text/plain": [
       "  0%|          | 0/41 [00:00<?, ?it/s]"
      ]
     },
     "metadata": {},
     "output_type": "display_data"
    },
    {
     "data": {
      "application/vnd.jupyter.widget-view+json": {
       "model_id": "17abeddc984540fd88301edf645baa9b",
       "version_major": 2,
       "version_minor": 0
      },
      "text/plain": [
       "  0%|          | 0/41 [00:00<?, ?it/s]"
      ]
     },
     "metadata": {},
     "output_type": "display_data"
    },
    {
     "data": {
      "application/vnd.jupyter.widget-view+json": {
       "model_id": "2c8fda8a35dc4b4b859275a314381ddc",
       "version_major": 2,
       "version_minor": 0
      },
      "text/plain": [
       "  0%|          | 0/41 [00:00<?, ?it/s]"
      ]
     },
     "metadata": {},
     "output_type": "display_data"
    },
    {
     "data": {
      "application/vnd.jupyter.widget-view+json": {
       "model_id": "bc78fb64406e4545a3c68289a3713b20",
       "version_major": 2,
       "version_minor": 0
      },
      "text/plain": [
       "  0%|          | 0/41 [00:00<?, ?it/s]"
      ]
     },
     "metadata": {},
     "output_type": "display_data"
    },
    {
     "data": {
      "application/vnd.jupyter.widget-view+json": {
       "model_id": "98e40612ea934f8096f88b840d3432e2",
       "version_major": 2,
       "version_minor": 0
      },
      "text/plain": [
       "  0%|          | 0/41 [00:00<?, ?it/s]"
      ]
     },
     "metadata": {},
     "output_type": "display_data"
    },
    {
     "data": {
      "application/vnd.jupyter.widget-view+json": {
       "model_id": "e0b1715ba0d340ee8866a237650ad4db",
       "version_major": 2,
       "version_minor": 0
      },
      "text/plain": [
       "  0%|          | 0/41 [00:00<?, ?it/s]"
      ]
     },
     "metadata": {},
     "output_type": "display_data"
    },
    {
     "data": {
      "application/vnd.jupyter.widget-view+json": {
       "model_id": "77fb8ed84e1840ed942d2e4715aae044",
       "version_major": 2,
       "version_minor": 0
      },
      "text/plain": [
       "  0%|          | 0/41 [00:00<?, ?it/s]"
      ]
     },
     "metadata": {},
     "output_type": "display_data"
    },
    {
     "data": {
      "application/vnd.jupyter.widget-view+json": {
       "model_id": "2479c84fa4704d47b44e2fa1864f538e",
       "version_major": 2,
       "version_minor": 0
      },
      "text/plain": [
       "  0%|          | 0/41 [00:00<?, ?it/s]"
      ]
     },
     "metadata": {},
     "output_type": "display_data"
    },
    {
     "data": {
      "application/vnd.jupyter.widget-view+json": {
       "model_id": "4326513f611049eea5603d48d2595af6",
       "version_major": 2,
       "version_minor": 0
      },
      "text/plain": [
       "  0%|          | 0/41 [00:00<?, ?it/s]"
      ]
     },
     "metadata": {},
     "output_type": "display_data"
    },
    {
     "data": {
      "application/vnd.jupyter.widget-view+json": {
       "model_id": "0844a07242ee429aae16ed3c1c3bc8a8",
       "version_major": 2,
       "version_minor": 0
      },
      "text/plain": [
       "  0%|          | 0/41 [00:00<?, ?it/s]"
      ]
     },
     "metadata": {},
     "output_type": "display_data"
    },
    {
     "data": {
      "application/vnd.jupyter.widget-view+json": {
       "model_id": "b760e385914c4467808aa26d7696434a",
       "version_major": 2,
       "version_minor": 0
      },
      "text/plain": [
       "  0%|          | 0/41 [00:00<?, ?it/s]"
      ]
     },
     "metadata": {},
     "output_type": "display_data"
    },
    {
     "data": {
      "application/vnd.jupyter.widget-view+json": {
       "model_id": "213723fac31e4c9c94bbffff6df7dbe6",
       "version_major": 2,
       "version_minor": 0
      },
      "text/plain": [
       "  0%|          | 0/41 [00:00<?, ?it/s]"
      ]
     },
     "metadata": {},
     "output_type": "display_data"
    },
    {
     "data": {
      "application/vnd.jupyter.widget-view+json": {
       "model_id": "e72c2e8e7f9e49f5972830026573a7d9",
       "version_major": 2,
       "version_minor": 0
      },
      "text/plain": [
       "  0%|          | 0/41 [00:00<?, ?it/s]"
      ]
     },
     "metadata": {},
     "output_type": "display_data"
    },
    {
     "data": {
      "application/vnd.jupyter.widget-view+json": {
       "model_id": "5504917c2efe43c8aa9f858051637d89",
       "version_major": 2,
       "version_minor": 0
      },
      "text/plain": [
       "  0%|          | 0/41 [00:00<?, ?it/s]"
      ]
     },
     "metadata": {},
     "output_type": "display_data"
    },
    {
     "data": {
      "application/vnd.jupyter.widget-view+json": {
       "model_id": "e2263c0511cc40f1986c2e2bfcd04676",
       "version_major": 2,
       "version_minor": 0
      },
      "text/plain": [
       "  0%|          | 0/41 [00:00<?, ?it/s]"
      ]
     },
     "metadata": {},
     "output_type": "display_data"
    },
    {
     "data": {
      "application/vnd.jupyter.widget-view+json": {
       "model_id": "156e4543a2134b3fbd263a823799581e",
       "version_major": 2,
       "version_minor": 0
      },
      "text/plain": [
       "  0%|          | 0/41 [00:00<?, ?it/s]"
      ]
     },
     "metadata": {},
     "output_type": "display_data"
    },
    {
     "data": {
      "application/vnd.jupyter.widget-view+json": {
       "model_id": "ba26470eb44043b49850c843ef652311",
       "version_major": 2,
       "version_minor": 0
      },
      "text/plain": [
       "  0%|          | 0/41 [00:00<?, ?it/s]"
      ]
     },
     "metadata": {},
     "output_type": "display_data"
    },
    {
     "data": {
      "application/vnd.jupyter.widget-view+json": {
       "model_id": "46dd16ba219f4556a08385699112926e",
       "version_major": 2,
       "version_minor": 0
      },
      "text/plain": [
       "  0%|          | 0/41 [00:00<?, ?it/s]"
      ]
     },
     "metadata": {},
     "output_type": "display_data"
    },
    {
     "data": {
      "application/vnd.jupyter.widget-view+json": {
       "model_id": "2ed2f91ecb364737a46c051323bbfedb",
       "version_major": 2,
       "version_minor": 0
      },
      "text/plain": [
       "  0%|          | 0/41 [00:00<?, ?it/s]"
      ]
     },
     "metadata": {},
     "output_type": "display_data"
    },
    {
     "data": {
      "application/vnd.jupyter.widget-view+json": {
       "model_id": "f982a582547a41d693993bdc113d9463",
       "version_major": 2,
       "version_minor": 0
      },
      "text/plain": [
       "  0%|          | 0/41 [00:00<?, ?it/s]"
      ]
     },
     "metadata": {},
     "output_type": "display_data"
    },
    {
     "name": "stdout",
     "output_type": "stream",
     "text": [
      "1.25-10.00 : 0.92\n"
     ]
    },
    {
     "name": "stderr",
     "output_type": "stream",
     "text": [
      "<ipython-input-313-b011f9fa9f87>:52: RuntimeWarning: invalid value encountered in double_scalars\n",
      "  s_over_b = s[range_]/np.sqrt(b[range_])\n",
      "<ipython-input-313-b011f9fa9f87>:57: RuntimeWarning: invalid value encountered in double_scalars\n",
      "  s_over_b = s[range_]/np.sqrt(b[range_])\n"
     ]
    }
   ],
   "source": [
    "s, b = get_optimum_s_over_b([\"fj_pt\", \"lep_pt\"], steps, apply_tagger=True)"
   ]
  },
  {
   "cell_type": "code",
   "execution_count": 326,
   "metadata": {},
   "outputs": [
    {
     "data": {
      "text/plain": [
       "array([ 0.  ,  0.25,  0.5 ,  0.75,  1.  ,  1.25,  1.5 ,  1.75,  2.  ,\n",
       "        2.25,  2.5 ,  2.75,  3.  ,  3.25,  3.5 ,  3.75,  4.  ,  4.25,\n",
       "        4.5 ,  4.75,  5.  ,  5.25,  5.5 ,  5.75,  6.  ,  6.25,  6.5 ,\n",
       "        6.75,  7.  ,  7.25,  7.5 ,  7.75,  8.  ,  8.25,  8.5 ,  8.75,\n",
       "        9.  ,  9.25,  9.5 ,  9.75, 10.  ])"
      ]
     },
     "execution_count": 326,
     "metadata": {},
     "output_type": "execute_result"
    }
   ],
   "source": [
    "steps = np.linspace(0, 10, 41)\n",
    "steps "
   ]
  },
  {
   "cell_type": "markdown",
   "metadata": {},
   "source": [
    "# pT(W_lnu)/pT(W_qq)"
   ]
  },
  {
   "cell_type": "code",
   "execution_count": 328,
   "metadata": {},
   "outputs": [
    {
     "data": {
      "text/plain": [
       "array([ 0.  ,  0.25,  0.5 ,  0.75,  1.  ,  1.25,  1.5 ,  1.75,  2.  ,\n",
       "        2.25,  2.5 ,  2.75,  3.  ,  3.25,  3.5 ,  3.75,  4.  ,  4.25,\n",
       "        4.5 ,  4.75,  5.  ,  5.25,  5.5 ,  5.75,  6.  ,  6.25,  6.5 ,\n",
       "        6.75,  7.  ,  7.25,  7.5 ,  7.75,  8.  ,  8.25,  8.5 ,  8.75,\n",
       "        9.  ,  9.25,  9.5 ,  9.75, 10.  ])"
      ]
     },
     "execution_count": 328,
     "metadata": {},
     "output_type": "execute_result"
    }
   ],
   "source": [
    "steps = np.linspace(0, 10, 41)\n",
    "steps"
   ]
  },
  {
   "cell_type": "code",
   "execution_count": 327,
   "metadata": {
    "scrolled": true
   },
   "outputs": [
    {
     "data": {
      "application/vnd.jupyter.widget-view+json": {
       "model_id": "8b277a5bb6c04b848d07bab5eaea2e5e",
       "version_major": 2,
       "version_minor": 0
      },
      "text/plain": [
       "  0%|          | 0/41 [00:00<?, ?it/s]"
      ]
     },
     "metadata": {},
     "output_type": "display_data"
    },
    {
     "data": {
      "application/vnd.jupyter.widget-view+json": {
       "model_id": "401aab6fc8324b5087ee17e0f72268e2",
       "version_major": 2,
       "version_minor": 0
      },
      "text/plain": [
       "  0%|          | 0/41 [00:00<?, ?it/s]"
      ]
     },
     "metadata": {},
     "output_type": "display_data"
    },
    {
     "data": {
      "application/vnd.jupyter.widget-view+json": {
       "model_id": "4306d80d0ab84469b81526768993e633",
       "version_major": 2,
       "version_minor": 0
      },
      "text/plain": [
       "  0%|          | 0/41 [00:00<?, ?it/s]"
      ]
     },
     "metadata": {},
     "output_type": "display_data"
    },
    {
     "data": {
      "application/vnd.jupyter.widget-view+json": {
       "model_id": "de13f90a6d07498894ca7b016329eaa8",
       "version_major": 2,
       "version_minor": 0
      },
      "text/plain": [
       "  0%|          | 0/41 [00:00<?, ?it/s]"
      ]
     },
     "metadata": {},
     "output_type": "display_data"
    },
    {
     "data": {
      "application/vnd.jupyter.widget-view+json": {
       "model_id": "6e9e0c0147684e748339d056a614fd63",
       "version_major": 2,
       "version_minor": 0
      },
      "text/plain": [
       "  0%|          | 0/41 [00:00<?, ?it/s]"
      ]
     },
     "metadata": {},
     "output_type": "display_data"
    },
    {
     "data": {
      "application/vnd.jupyter.widget-view+json": {
       "model_id": "d56d1ca52eb1455da42c0adfd8b31d45",
       "version_major": 2,
       "version_minor": 0
      },
      "text/plain": [
       "  0%|          | 0/41 [00:00<?, ?it/s]"
      ]
     },
     "metadata": {},
     "output_type": "display_data"
    },
    {
     "data": {
      "application/vnd.jupyter.widget-view+json": {
       "model_id": "ce758f13a2864572bcd15bc113827542",
       "version_major": 2,
       "version_minor": 0
      },
      "text/plain": [
       "  0%|          | 0/41 [00:00<?, ?it/s]"
      ]
     },
     "metadata": {},
     "output_type": "display_data"
    },
    {
     "data": {
      "application/vnd.jupyter.widget-view+json": {
       "model_id": "c4120e3aa0b842c09d957d59e925cece",
       "version_major": 2,
       "version_minor": 0
      },
      "text/plain": [
       "  0%|          | 0/41 [00:00<?, ?it/s]"
      ]
     },
     "metadata": {},
     "output_type": "display_data"
    },
    {
     "data": {
      "application/vnd.jupyter.widget-view+json": {
       "model_id": "543353523eb04a92850f98e18cf9ff46",
       "version_major": 2,
       "version_minor": 0
      },
      "text/plain": [
       "  0%|          | 0/41 [00:00<?, ?it/s]"
      ]
     },
     "metadata": {},
     "output_type": "display_data"
    },
    {
     "data": {
      "application/vnd.jupyter.widget-view+json": {
       "model_id": "040ec8e7a7b146dd9ff232c92e5b85c0",
       "version_major": 2,
       "version_minor": 0
      },
      "text/plain": [
       "  0%|          | 0/41 [00:00<?, ?it/s]"
      ]
     },
     "metadata": {},
     "output_type": "display_data"
    },
    {
     "data": {
      "application/vnd.jupyter.widget-view+json": {
       "model_id": "66e40f777e374589b57bb05d3b765226",
       "version_major": 2,
       "version_minor": 0
      },
      "text/plain": [
       "  0%|          | 0/41 [00:00<?, ?it/s]"
      ]
     },
     "metadata": {},
     "output_type": "display_data"
    },
    {
     "data": {
      "application/vnd.jupyter.widget-view+json": {
       "model_id": "a115a54acb30447d9757b2d6496693c3",
       "version_major": 2,
       "version_minor": 0
      },
      "text/plain": [
       "  0%|          | 0/41 [00:00<?, ?it/s]"
      ]
     },
     "metadata": {},
     "output_type": "display_data"
    },
    {
     "data": {
      "application/vnd.jupyter.widget-view+json": {
       "model_id": "35981d6301734ed4bf38516c37dd3a38",
       "version_major": 2,
       "version_minor": 0
      },
      "text/plain": [
       "  0%|          | 0/41 [00:00<?, ?it/s]"
      ]
     },
     "metadata": {},
     "output_type": "display_data"
    },
    {
     "data": {
      "application/vnd.jupyter.widget-view+json": {
       "model_id": "59190818b1f64a31ab191f8c79fcb5c6",
       "version_major": 2,
       "version_minor": 0
      },
      "text/plain": [
       "  0%|          | 0/41 [00:00<?, ?it/s]"
      ]
     },
     "metadata": {},
     "output_type": "display_data"
    },
    {
     "data": {
      "application/vnd.jupyter.widget-view+json": {
       "model_id": "fb966763b4a941e096d07da9759d384b",
       "version_major": 2,
       "version_minor": 0
      },
      "text/plain": [
       "  0%|          | 0/41 [00:00<?, ?it/s]"
      ]
     },
     "metadata": {},
     "output_type": "display_data"
    },
    {
     "data": {
      "application/vnd.jupyter.widget-view+json": {
       "model_id": "d2de703727f347b88a9a9600fe614047",
       "version_major": 2,
       "version_minor": 0
      },
      "text/plain": [
       "  0%|          | 0/41 [00:00<?, ?it/s]"
      ]
     },
     "metadata": {},
     "output_type": "display_data"
    },
    {
     "data": {
      "application/vnd.jupyter.widget-view+json": {
       "model_id": "aaa627e49b5143a8a8c006103e0858b5",
       "version_major": 2,
       "version_minor": 0
      },
      "text/plain": [
       "  0%|          | 0/41 [00:00<?, ?it/s]"
      ]
     },
     "metadata": {},
     "output_type": "display_data"
    },
    {
     "data": {
      "application/vnd.jupyter.widget-view+json": {
       "model_id": "593691aeffeb4a859d3f35b738733ad4",
       "version_major": 2,
       "version_minor": 0
      },
      "text/plain": [
       "  0%|          | 0/41 [00:00<?, ?it/s]"
      ]
     },
     "metadata": {},
     "output_type": "display_data"
    },
    {
     "data": {
      "application/vnd.jupyter.widget-view+json": {
       "model_id": "597af77822fa4269b42c01856d113f23",
       "version_major": 2,
       "version_minor": 0
      },
      "text/plain": [
       "  0%|          | 0/41 [00:00<?, ?it/s]"
      ]
     },
     "metadata": {},
     "output_type": "display_data"
    },
    {
     "data": {
      "application/vnd.jupyter.widget-view+json": {
       "model_id": "414b4cc4005248a4b73489bb50864253",
       "version_major": 2,
       "version_minor": 0
      },
      "text/plain": [
       "  0%|          | 0/41 [00:00<?, ?it/s]"
      ]
     },
     "metadata": {},
     "output_type": "display_data"
    },
    {
     "data": {
      "application/vnd.jupyter.widget-view+json": {
       "model_id": "c63a9acffac543628c9a536f6f1104fa",
       "version_major": 2,
       "version_minor": 0
      },
      "text/plain": [
       "  0%|          | 0/41 [00:00<?, ?it/s]"
      ]
     },
     "metadata": {},
     "output_type": "display_data"
    },
    {
     "data": {
      "application/vnd.jupyter.widget-view+json": {
       "model_id": "0cdef7a64c8746b4a8462250186b314d",
       "version_major": 2,
       "version_minor": 0
      },
      "text/plain": [
       "  0%|          | 0/41 [00:00<?, ?it/s]"
      ]
     },
     "metadata": {},
     "output_type": "display_data"
    },
    {
     "name": "stdout",
     "output_type": "stream",
     "text": [
      "0.25-3.50 : 0.92\n"
     ]
    }
   ],
   "source": [
    "s, b = get_optimum_s_over_b([\"rec_W_lnu_pt\", \"rec_W_qq_pt\"], steps, apply_tagger=True)"
   ]
  },
  {
   "cell_type": "markdown",
   "metadata": {},
   "source": [
    "# mT"
   ]
  },
  {
   "cell_type": "code",
   "execution_count": 13,
   "metadata": {},
   "outputs": [
    {
     "data": {
      "text/plain": [
       "array([  0.,   5.,  10.,  15.,  20.,  25.,  30.,  35.,  40.,  45.,  50.,\n",
       "        55.,  60.,  65.,  70.,  75.,  80.,  85.,  90.,  95., 100., 105.,\n",
       "       110., 115., 120., 125., 130., 135., 140., 145., 150., 155., 160.,\n",
       "       165., 170., 175., 180., 185., 190., 195., 200.])"
      ]
     },
     "execution_count": 13,
     "metadata": {},
     "output_type": "execute_result"
    }
   ],
   "source": [
    "steps = np.linspace(0, 200, 41)\n",
    "steps"
   ]
  },
  {
   "cell_type": "code",
   "execution_count": 14,
   "metadata": {
    "scrolled": true
   },
   "outputs": [
    {
     "data": {
      "application/vnd.jupyter.widget-view+json": {
       "model_id": "9fd210591ba2442c8780121420c9fcf2",
       "version_major": 2,
       "version_minor": 0
      },
      "text/plain": [
       "  0%|          | 0/41 [00:00<?, ?it/s]"
      ]
     },
     "metadata": {},
     "output_type": "display_data"
    },
    {
     "data": {
      "application/vnd.jupyter.widget-view+json": {
       "model_id": "25f123ab9f094953a1f5fe3016ad07ce",
       "version_major": 2,
       "version_minor": 0
      },
      "text/plain": [
       "  0%|          | 0/41 [00:00<?, ?it/s]"
      ]
     },
     "metadata": {},
     "output_type": "display_data"
    },
    {
     "data": {
      "application/vnd.jupyter.widget-view+json": {
       "model_id": "977d53bb02274807a7c43d8238aea873",
       "version_major": 2,
       "version_minor": 0
      },
      "text/plain": [
       "  0%|          | 0/41 [00:00<?, ?it/s]"
      ]
     },
     "metadata": {},
     "output_type": "display_data"
    },
    {
     "data": {
      "application/vnd.jupyter.widget-view+json": {
       "model_id": "60dc6293e90247d2b0b5f28b067e2e6c",
       "version_major": 2,
       "version_minor": 0
      },
      "text/plain": [
       "  0%|          | 0/41 [00:00<?, ?it/s]"
      ]
     },
     "metadata": {},
     "output_type": "display_data"
    },
    {
     "data": {
      "application/vnd.jupyter.widget-view+json": {
       "model_id": "3be42fa96fa94cbda11f2da23dc2f79b",
       "version_major": 2,
       "version_minor": 0
      },
      "text/plain": [
       "  0%|          | 0/41 [00:00<?, ?it/s]"
      ]
     },
     "metadata": {},
     "output_type": "display_data"
    },
    {
     "data": {
      "application/vnd.jupyter.widget-view+json": {
       "model_id": "45852f7436c64d739fc1450aee167c53",
       "version_major": 2,
       "version_minor": 0
      },
      "text/plain": [
       "  0%|          | 0/41 [00:00<?, ?it/s]"
      ]
     },
     "metadata": {},
     "output_type": "display_data"
    },
    {
     "data": {
      "application/vnd.jupyter.widget-view+json": {
       "model_id": "267664ec4bc548b48d64e5edec2ea010",
       "version_major": 2,
       "version_minor": 0
      },
      "text/plain": [
       "  0%|          | 0/41 [00:00<?, ?it/s]"
      ]
     },
     "metadata": {},
     "output_type": "display_data"
    },
    {
     "data": {
      "application/vnd.jupyter.widget-view+json": {
       "model_id": "9afb4ce1993b4b39a37da5eb50f6cd9b",
       "version_major": 2,
       "version_minor": 0
      },
      "text/plain": [
       "  0%|          | 0/41 [00:00<?, ?it/s]"
      ]
     },
     "metadata": {},
     "output_type": "display_data"
    },
    {
     "data": {
      "application/vnd.jupyter.widget-view+json": {
       "model_id": "efbc58cd7c3d49e28a096b6b99db2c4a",
       "version_major": 2,
       "version_minor": 0
      },
      "text/plain": [
       "  0%|          | 0/41 [00:00<?, ?it/s]"
      ]
     },
     "metadata": {},
     "output_type": "display_data"
    },
    {
     "data": {
      "application/vnd.jupyter.widget-view+json": {
       "model_id": "df5faa11c0954d9d98ccc7225cf954d2",
       "version_major": 2,
       "version_minor": 0
      },
      "text/plain": [
       "  0%|          | 0/41 [00:00<?, ?it/s]"
      ]
     },
     "metadata": {},
     "output_type": "display_data"
    },
    {
     "data": {
      "application/vnd.jupyter.widget-view+json": {
       "model_id": "01592991257742619aa3b5fda2ec6085",
       "version_major": 2,
       "version_minor": 0
      },
      "text/plain": [
       "  0%|          | 0/41 [00:00<?, ?it/s]"
      ]
     },
     "metadata": {},
     "output_type": "display_data"
    },
    {
     "data": {
      "application/vnd.jupyter.widget-view+json": {
       "model_id": "f78f187637614fff86c785e4d12a06ad",
       "version_major": 2,
       "version_minor": 0
      },
      "text/plain": [
       "  0%|          | 0/41 [00:00<?, ?it/s]"
      ]
     },
     "metadata": {},
     "output_type": "display_data"
    },
    {
     "data": {
      "application/vnd.jupyter.widget-view+json": {
       "model_id": "22b6320d8f0142e590739205183c00ec",
       "version_major": 2,
       "version_minor": 0
      },
      "text/plain": [
       "  0%|          | 0/41 [00:00<?, ?it/s]"
      ]
     },
     "metadata": {},
     "output_type": "display_data"
    },
    {
     "data": {
      "application/vnd.jupyter.widget-view+json": {
       "model_id": "ede9f02a99e54e9b9f9acb08c6207192",
       "version_major": 2,
       "version_minor": 0
      },
      "text/plain": [
       "  0%|          | 0/41 [00:00<?, ?it/s]"
      ]
     },
     "metadata": {},
     "output_type": "display_data"
    },
    {
     "data": {
      "application/vnd.jupyter.widget-view+json": {
       "model_id": "5dea083d3e674da788225466c6cabbc2",
       "version_major": 2,
       "version_minor": 0
      },
      "text/plain": [
       "  0%|          | 0/41 [00:00<?, ?it/s]"
      ]
     },
     "metadata": {},
     "output_type": "display_data"
    },
    {
     "data": {
      "application/vnd.jupyter.widget-view+json": {
       "model_id": "085f3539310f444db3fced3966a75e01",
       "version_major": 2,
       "version_minor": 0
      },
      "text/plain": [
       "  0%|          | 0/41 [00:00<?, ?it/s]"
      ]
     },
     "metadata": {},
     "output_type": "display_data"
    },
    {
     "data": {
      "application/vnd.jupyter.widget-view+json": {
       "model_id": "5e2ef6ae117e41f5a5a034af9652e4f7",
       "version_major": 2,
       "version_minor": 0
      },
      "text/plain": [
       "  0%|          | 0/41 [00:00<?, ?it/s]"
      ]
     },
     "metadata": {},
     "output_type": "display_data"
    },
    {
     "data": {
      "application/vnd.jupyter.widget-view+json": {
       "model_id": "88bd7cf8c31e4facb2545dae8034143f",
       "version_major": 2,
       "version_minor": 0
      },
      "text/plain": [
       "  0%|          | 0/41 [00:00<?, ?it/s]"
      ]
     },
     "metadata": {},
     "output_type": "display_data"
    },
    {
     "data": {
      "application/vnd.jupyter.widget-view+json": {
       "model_id": "7e2e0a1c14674f54b446e13143a4ec8e",
       "version_major": 2,
       "version_minor": 0
      },
      "text/plain": [
       "  0%|          | 0/41 [00:00<?, ?it/s]"
      ]
     },
     "metadata": {},
     "output_type": "display_data"
    },
    {
     "data": {
      "application/vnd.jupyter.widget-view+json": {
       "model_id": "f828d17f2c2540fe92745750b2510c38",
       "version_major": 2,
       "version_minor": 0
      },
      "text/plain": [
       "  0%|          | 0/41 [00:00<?, ?it/s]"
      ]
     },
     "metadata": {},
     "output_type": "display_data"
    },
    {
     "data": {
      "application/vnd.jupyter.widget-view+json": {
       "model_id": "e7b84e259a8b4c378ed5fd2f356fa0b3",
       "version_major": 2,
       "version_minor": 0
      },
      "text/plain": [
       "  0%|          | 0/41 [00:00<?, ?it/s]"
      ]
     },
     "metadata": {},
     "output_type": "display_data"
    },
    {
     "data": {
      "application/vnd.jupyter.widget-view+json": {
       "model_id": "9e2feedf0230459898379a1af9436494",
       "version_major": 2,
       "version_minor": 0
      },
      "text/plain": [
       "  0%|          | 0/41 [00:00<?, ?it/s]"
      ]
     },
     "metadata": {},
     "output_type": "display_data"
    },
    {
     "name": "stdout",
     "output_type": "stream",
     "text": [
      "0.00-200.00 : 0.70\n"
     ]
    }
   ],
   "source": [
    "s, b = get_optimum_s_over_b([\"lep_met_mt\"], steps, apply_tagger=True)"
   ]
  },
  {
   "cell_type": "code",
   "execution_count": null,
   "metadata": {},
   "outputs": [],
   "source": []
  },
  {
   "cell_type": "code",
   "execution_count": null,
   "metadata": {},
   "outputs": [],
   "source": []
  },
  {
   "cell_type": "markdown",
   "metadata": {},
   "source": [
    "# WJetsLNu control region"
   ]
  },
  {
   "cell_type": "code",
   "execution_count": 25,
   "metadata": {},
   "outputs": [
    {
     "name": "stdout",
     "output_type": "stream",
     "text": [
      "After tagger cut:\n",
      "pre-selection : 425.299\n",
      "pre-selection + mT<20.00 : 134.639\n",
      "pre-selection + mT<40.00 : 207.279\n",
      "pre-selection + mT<60.00 : 268.690\n",
      "pre-selection + mT<80.00 : 327.770\n",
      "pre-selection + mT<100.00 : 373.579\n",
      "pre-selection + mT<120.00 : 396.239\n",
      "pre-selection + mT<140.00 : 412.998\n",
      "pre-selection + mT<160.00 : 419.965\n",
      "pre-selection + mT<180.00 : 427.147\n",
      "pre-selection + mT<200.00 : 427.985\n",
      "pre-selection + mT<220.00 : 425.700\n",
      "pre-selection + mT<240.00 : 425.533\n",
      "pre-selection + mT<260.00 : 425.361\n",
      "pre-selection + mT<280.00 : 425.926\n",
      "pre-selection + mT<300.00 : 425.240\n",
      "pre-selection + mT<320.00 : 424.829\n",
      "pre-selection + mT<340.00 : 424.806\n",
      "pre-selection + mT<360.00 : 424.810\n",
      "pre-selection + mT<380.00 : 425.018\n",
      "pre-selection + mT<400.00 : 424.204\n",
      "-----------------------\n"
     ]
    }
   ],
   "source": [
    "# mT\n",
    "\n",
    "channels = [\"mu\", \"ele\"]\n",
    "\n",
    "# cuts = [0,0.1,0.2,0.3,0.4,0.5,0.6,0.7]\n",
    "cuts = np.linspace(0,400,21)\n",
    "\n",
    "s, b = {}, {}\n",
    "for b4_or_af in [\"After tagger\"]:\n",
    "    s[b4_or_af], b[b4_or_af] = {}, {}\n",
    "    for cut in cuts:\n",
    "        if cut == 0:\n",
    "            cut_label = f\"pre-selection\"\n",
    "        else:\n",
    "            cut_label = f\"pre-selection + mT<{cut:.2f}\"\n",
    "\n",
    "        s[b4_or_af][cut_label], b[b4_or_af][cut_label] = 0, 0\n",
    "\n",
    "        for ch in channels:   # sum over channels\n",
    "            for sample in events_dict[ch]:\n",
    "                df = events_dict[ch][sample]\n",
    "\n",
    "                ### apply tagger cut\n",
    "                if b4_or_af == \"After tagger\":\n",
    "                    keep = ( df[\"inclusive_score\"]>0.9 )\n",
    "                    df = df.loc[keep, :]\n",
    "\n",
    "                if cut != 0:\n",
    "                    keep = ( df[\"lep_met_mt\"]<cut )# & (  df[\"rec_W_lnu_pt\"]/df[\"rec_W_qq_pt\"]>0.2 )\n",
    "                    df = df.loc[keep, :]            \n",
    "\n",
    "                ### mass window\n",
    "                regressed_mass = df[\"fj_ParT_mass\"]     \n",
    "                fj_minus_lep_mass = df[\"fj_minus_lep_m\"]     \n",
    "        #         mass_window = (regressed_mass>100) & (regressed_mass<150)\n",
    "                mass_window = (fj_minus_lep_mass>0) & (fj_minus_lep_mass<150)\n",
    "\n",
    "                ### s/b\n",
    "                ev_weight = df[\"event_weight\"]        \n",
    "                if sample in [\"WJetsLNu\"]:\n",
    "                    s[b4_or_af][cut_label] += ev_weight[mass_window].sum()\n",
    "                else:\n",
    "                    b[b4_or_af][cut_label] += ev_weight[mass_window].sum()    \n",
    "                    \n",
    "for b4_or_af in [\"After tagger\"]:\n",
    "    print(f\"{b4_or_af} cut:\")\n",
    "    for cut in s[b4_or_af]:\n",
    "        print(f\"{cut} : {s[b4_or_af][cut]/math.sqrt(b[b4_or_af][cut]):.3f}\")\n",
    "    print(\"-----------------------\")"
   ]
  },
  {
   "cell_type": "code",
   "execution_count": 39,
   "metadata": {},
   "outputs": [
    {
     "name": "stdout",
     "output_type": "stream",
     "text": [
      "After tagger cut:\n",
      "pre-selection + pT(W(lnu)/pT(Wqq)>2.00 : 342.961\n",
      "pre-selection + pT(W(lnu)/pT(Wqq)>2.40 : 352.535\n",
      "pre-selection + pT(W(lnu)/pT(Wqq)>2.80 : 361.711\n",
      "pre-selection + pT(W(lnu)/pT(Wqq)>3.20 : 366.989\n",
      "pre-selection + pT(W(lnu)/pT(Wqq)>3.60 : 371.431\n",
      "pre-selection + pT(W(lnu)/pT(Wqq)>4.00 : 372.682\n",
      "pre-selection + pT(W(lnu)/pT(Wqq)>4.40 : 374.477\n",
      "pre-selection + pT(W(lnu)/pT(Wqq)>4.80 : 378.817\n",
      "pre-selection + pT(W(lnu)/pT(Wqq)>5.20 : 377.743\n",
      "pre-selection + pT(W(lnu)/pT(Wqq)>5.60 : 376.896\n",
      "pre-selection + pT(W(lnu)/pT(Wqq)>6.00 : 374.278\n",
      "pre-selection + pT(W(lnu)/pT(Wqq)>6.40 : 371.169\n",
      "pre-selection + pT(W(lnu)/pT(Wqq)>6.80 : 368.035\n",
      "pre-selection + pT(W(lnu)/pT(Wqq)>7.20 : 366.163\n",
      "pre-selection + pT(W(lnu)/pT(Wqq)>7.60 : 359.418\n",
      "pre-selection + pT(W(lnu)/pT(Wqq)>8.00 : 351.928\n",
      "pre-selection + pT(W(lnu)/pT(Wqq)>8.40 : 342.003\n",
      "pre-selection + pT(W(lnu)/pT(Wqq)>8.80 : 330.228\n",
      "pre-selection + pT(W(lnu)/pT(Wqq)>9.20 : 317.636\n",
      "pre-selection + pT(W(lnu)/pT(Wqq)>9.60 : 311.079\n",
      "pre-selection + pT(W(lnu)/pT(Wqq)>10.00 : 299.285\n",
      "-----------------------\n"
     ]
    }
   ],
   "source": [
    "# golden variable\n",
    "\n",
    "channels = [\"mu\", \"ele\"]\n",
    "\n",
    "# cuts = [0,0.1,0.2,0.3,0.4,0.5,0.6,0.7]\n",
    "cuts = np.linspace(2,10,21)\n",
    "\n",
    "s, b = {}, {}\n",
    "for b4_or_af in [\"After tagger\"]:\n",
    "    s[b4_or_af], b[b4_or_af] = {}, {}\n",
    "    for cut in cuts:\n",
    "        if cut == 0:\n",
    "            cut_label = f\"pre-selection\"\n",
    "        else:\n",
    "            cut_label = f\"pre-selection + pT(W(lnu)/pT(Wqq)>{cut:.2f}\"\n",
    "\n",
    "        s[b4_or_af][cut_label], b[b4_or_af][cut_label] = 0, 0\n",
    "\n",
    "        for ch in channels:   # sum over channels\n",
    "            for sample in events_dict[ch]:\n",
    "                df = events_dict[ch][sample]\n",
    "\n",
    "                ### apply tagger cut\n",
    "                if b4_or_af == \"After tagger\":\n",
    "                    keep = ( df[\"inclusive_score\"]>0.9 )\n",
    "                    df = df.loc[keep, :]\n",
    "\n",
    "                if cut != 0:\n",
    "                    keep = ( (df[\"rec_W_lnu_pt\"]/df[\"rec_W_qq_pt\"])>cut )# & (  df[\"rec_W_lnu_pt\"]/df[\"rec_W_qq_pt\"]>0.2 )\n",
    "                    df = df.loc[keep, :]            \n",
    "\n",
    "                ### mass window\n",
    "                regressed_mass = df[\"fj_ParT_mass\"]     \n",
    "                fj_minus_lep_mass = df[\"fj_minus_lep_m\"]     \n",
    "        #         mass_window = (regressed_mass>100) & (regressed_mass<150)\n",
    "                mass_window = (fj_minus_lep_mass>0) & (fj_minus_lep_mass<150)\n",
    "\n",
    "                ### s/b\n",
    "                ev_weight = df[\"event_weight\"]        \n",
    "                if sample in [\"WJetsLNu\"]:\n",
    "                    s[b4_or_af][cut_label] += ev_weight[mass_window].sum()\n",
    "                else:\n",
    "                    b[b4_or_af][cut_label] += ev_weight[mass_window].sum()    \n",
    "                    \n",
    "for b4_or_af in [\"After tagger\"]:\n",
    "    print(f\"{b4_or_af} cut:\")\n",
    "    for cut in s[b4_or_af]:\n",
    "        print(f\"{cut} : {s[b4_or_af][cut]/math.sqrt(b[b4_or_af][cut]):.3f}\")\n",
    "    print(\"-----------------------\")"
   ]
  },
  {
   "cell_type": "code",
   "execution_count": null,
   "metadata": {},
   "outputs": [],
   "source": []
  },
  {
   "cell_type": "code",
   "execution_count": null,
   "metadata": {},
   "outputs": [],
   "source": []
  }
 ],
 "metadata": {
  "kernelspec": {
   "display_name": "coffea-env",
   "language": "python",
   "name": "coffea-env"
  },
  "language_info": {
   "codemirror_mode": {
    "name": "ipython",
    "version": 3
   },
   "file_extension": ".py",
   "mimetype": "text/x-python",
   "name": "python",
   "nbconvert_exporter": "python",
   "pygments_lexer": "ipython3",
   "version": "3.8.3"
  }
 },
 "nbformat": 4,
 "nbformat_minor": 4
}
