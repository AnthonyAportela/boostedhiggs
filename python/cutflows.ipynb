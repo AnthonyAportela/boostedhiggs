{
 "cells": [
  {
   "cell_type": "code",
   "execution_count": 1,
   "metadata": {},
   "outputs": [
    {
     "name": "stderr",
     "output_type": "stream",
     "text": [
      "/opt/anaconda3/envs/coffea-env/lib/python3.8/site-packages/pandas/core/computation/expressions.py:20: UserWarning: Pandas requires version '2.7.3' or newer of 'numexpr' (version '2.7.1' currently installed).\n",
      "  from pandas.core.computation.check import NUMEXPR_INSTALLED\n"
     ]
    }
   ],
   "source": [
    "import glob\n",
    "import os\n",
    "import json\n",
    "import pickle as pkl\n",
    "import yaml\n",
    "\n",
    "import numpy as np\n",
    "import pandas as pd\n",
    "pd.options.mode.chained_assignment = None\n",
    "import pyarrow.parquet as pq\n",
    "from sklearn.metrics import auc, roc_curve\n",
    "from scipy.special import softmax\n",
    "\n",
    "import hist as hist2\n",
    "import matplotlib.pyplot as plt\n",
    "import mplhep as hep\n",
    "\n",
    "plt.style.use(hep.style.CMS)\n",
    "\n",
    "import utils_farouk as utils\n",
    "plt.rcParams.update({\"font.size\": 20})"
   ]
  },
  {
   "cell_type": "code",
   "execution_count": 2,
   "metadata": {},
   "outputs": [],
   "source": [
    "%load_ext autoreload\n",
    "%autoreload 2"
   ]
  },
  {
   "cell_type": "code",
   "execution_count": 3,
   "metadata": {
    "scrolled": false
   },
   "outputs": [
    {
     "name": "stdout",
     "output_type": "stream",
     "text": [
      "\u001b[34mDYJetsToLL_Pt-100To250\u001b[m\u001b[m                  \u001b[34mSingleElectron_Run2017F\u001b[m\u001b[m\r\n",
      "\u001b[34mDYJetsToLL_Pt-250To400\u001b[m\u001b[m                  \u001b[34mSingleMuon_Run2017B\u001b[m\u001b[m\r\n",
      "\u001b[34mDYJetsToLL_Pt-400To650\u001b[m\u001b[m                  \u001b[34mSingleMuon_Run2017C\u001b[m\u001b[m\r\n",
      "\u001b[34mDYJetsToLL_Pt-50To100\u001b[m\u001b[m                   \u001b[34mSingleMuon_Run2017D\u001b[m\u001b[m\r\n",
      "\u001b[34mDYJetsToLL_Pt-650ToInf\u001b[m\u001b[m                  \u001b[34mSingleMuon_Run2017E\u001b[m\u001b[m\r\n",
      "\u001b[34mGluGluHToTauTau\u001b[m\u001b[m                         \u001b[34mSingleMuon_Run2017F\u001b[m\u001b[m\r\n",
      "\u001b[34mGluGluHToWW_Pt-200ToInf_M-125\u001b[m\u001b[m           \u001b[34mTTTo2L2Nu\u001b[m\u001b[m\r\n",
      "\u001b[34mGluGluZH_HToWW_ZTo2L_M-125\u001b[m\u001b[m              \u001b[34mTTToHadronic\u001b[m\u001b[m\r\n",
      "\u001b[34mHWminusJ_HToWW_M-125\u001b[m\u001b[m                    \u001b[34mTTToSemiLeptonic\u001b[m\u001b[m\r\n",
      "\u001b[34mHWplusJ_HToWW_M-125\u001b[m\u001b[m                     \u001b[34mVBFHToWWToLNuQQ_M-125_withDipoleRecoil\u001b[m\u001b[m\r\n",
      "\u001b[34mHZJ_HToWW_M-125\u001b[m\u001b[m                         \u001b[34mWJetsToLNu_HT-100To200\u001b[m\u001b[m\r\n",
      "\u001b[34mQCD_Pt_1000to1400\u001b[m\u001b[m                       \u001b[34mWJetsToLNu_HT-1200To2500\u001b[m\u001b[m\r\n",
      "\u001b[34mQCD_Pt_1400to1800\u001b[m\u001b[m                       \u001b[34mWJetsToLNu_HT-200To400\u001b[m\u001b[m\r\n",
      "\u001b[34mQCD_Pt_170to300\u001b[m\u001b[m                         \u001b[34mWJetsToLNu_HT-2500ToInf\u001b[m\u001b[m\r\n",
      "\u001b[34mQCD_Pt_1800to2400\u001b[m\u001b[m                       \u001b[34mWJetsToLNu_HT-400To600\u001b[m\u001b[m\r\n",
      "\u001b[34mQCD_Pt_2400to3200\u001b[m\u001b[m                       \u001b[34mWJetsToLNu_HT-600To800\u001b[m\u001b[m\r\n",
      "\u001b[34mQCD_Pt_300to470\u001b[m\u001b[m                         \u001b[34mWJetsToLNu_HT-70To100\u001b[m\u001b[m\r\n",
      "\u001b[34mQCD_Pt_3200toInf\u001b[m\u001b[m                        \u001b[34mWJetsToLNu_HT-800To1200\u001b[m\u001b[m\r\n",
      "\u001b[34mQCD_Pt_470to600\u001b[m\u001b[m                         \u001b[34mWJetsToQQ_HT-200to400\u001b[m\u001b[m\r\n",
      "\u001b[34mQCD_Pt_600to800\u001b[m\u001b[m                         \u001b[34mWJetsToQQ_HT-400to600\u001b[m\u001b[m\r\n",
      "\u001b[34mQCD_Pt_800to1000\u001b[m\u001b[m                        \u001b[34mWJetsToQQ_HT-600to800\u001b[m\u001b[m\r\n",
      "\u001b[34mST_s-channel_4f_hadronicDecays\u001b[m\u001b[m          \u001b[34mWJetsToQQ_HT-800toInf\u001b[m\u001b[m\r\n",
      "\u001b[34mST_s-channel_4f_leptonDecays\u001b[m\u001b[m            \u001b[34mWW\u001b[m\u001b[m\r\n",
      "\u001b[34mST_t-channel_antitop_4f_InclusiveDecays\u001b[m\u001b[m \u001b[34mWZ\u001b[m\u001b[m\r\n",
      "\u001b[34mST_t-channel_top_4f_InclusiveDecays\u001b[m\u001b[m     \u001b[34mZJetsToQQ_HT-200to400\u001b[m\u001b[m\r\n",
      "\u001b[34mST_tW_antitop_5f_inclusiveDecays\u001b[m\u001b[m        \u001b[34mZJetsToQQ_HT-400to600\u001b[m\u001b[m\r\n",
      "\u001b[34mST_tW_top_5f_inclusiveDecays\u001b[m\u001b[m            \u001b[34mZJetsToQQ_HT-600to800\u001b[m\u001b[m\r\n",
      "\u001b[34mSingleElectron_Run2017B\u001b[m\u001b[m                 \u001b[34mZJetsToQQ_HT-800toInf\u001b[m\u001b[m\r\n",
      "\u001b[34mSingleElectron_Run2017C\u001b[m\u001b[m                 \u001b[34mZZ\u001b[m\u001b[m\r\n",
      "\u001b[34mSingleElectron_Run2017D\u001b[m\u001b[m                 \u001b[34mttHToNonbb_M125\u001b[m\u001b[m\r\n",
      "\u001b[34mSingleElectron_Run2017E\u001b[m\u001b[m\r\n"
     ]
    }
   ],
   "source": [
    "! ls ../Apr12_presel_2017"
   ]
  },
  {
   "cell_type": "markdown",
   "metadata": {},
   "source": [
    "# Read cutflows from pkl"
   ]
  },
  {
   "cell_type": "code",
   "execution_count": 4,
   "metadata": {},
   "outputs": [],
   "source": [
    "year = \"2017\"\n",
    "channels = [\"mu\", \"ele\"]\n",
    "samples_dir = f\"../Apr12_presel_{year}\"\n",
    "\n",
    "samples = [\n",
    "    \"HWW\", \n",
    "    \"VH\",\n",
    "    \"VBF\",\n",
    "    \"ttH\",\n",
    "    \"QCD\",\n",
    "    \"DYJets\",\n",
    "    \"WJetsLNu\",\n",
    "    \"WZQQ\",\n",
    "    \"TTbar\",\n",
    "    \"SingleTop\",\n",
    "    \"Diboson\",\n",
    "#     \"Data\"\n",
    "]"
   ]
  },
  {
   "cell_type": "code",
   "execution_count": 5,
   "metadata": {
    "scrolled": true
   },
   "outputs": [],
   "source": [
    "combine_samples = {\n",
    "    # data\n",
    "    # \"SingleElectron_\": \"SingleElectron\",\n",
    "    \"SingleElectron_\": \"Data\",\n",
    "    # \"SingleMuon_\": \"SingleMuon_\",\n",
    "    \"SingleMuon_\": \"Data\",\n",
    "    # \"EGamma_\": \"EGamma\",\n",
    "    \"EGamma_\": \"Data\",\n",
    "    # signal\n",
    "    \"GluGluHToWW_Pt-200ToInf_M-125\": \"HWW\",\n",
    "    \"HToWW_M-125\": \"VH\",\n",
    "    \"VBFHToWWToLNuQQ_M-125_withDipoleRecoil\": \"VBF\",\n",
    "    \"ttHToNonbb_M125\": \"ttH\",\n",
    "    # bkg\n",
    "    \"QCD_Pt\": \"QCD\",\n",
    "    \"DYJets\": \"DYJets\",\n",
    "    \"WJetsToLNu_\": \"WJetsLNu\",\n",
    "    \"JetsToQQ\": \"WZQQ\",\n",
    "    \"TT\": \"TTbar\",\n",
    "    \"ST_\": \"SingleTop\",\n",
    "    \"WW\": \"Diboson\",\n",
    "    \"WZ\": \"Diboson\",\n",
    "    \"ZZ\": \"Diboson\",\n",
    "}\n",
    "\n",
    "def get_sum_sumgenweight(pkl_files, year, sample):\n",
    "    sum_sumgenweight = 0\n",
    "    for ifile in pkl_files:\n",
    "        # load and sum the sumgenweight of each\n",
    "        with open(ifile, \"rb\") as f:\n",
    "            metadata = pkl.load(f)\n",
    "        sum_sumgenweight = sum_sumgenweight + metadata[sample][year][\"sumgenweight\"]\n",
    "    return sum_sumgenweight\n",
    "\n",
    "\n",
    "def get_xsecweight(pkl_files, year, sample, is_data, luminosity):\n",
    "    if not is_data:\n",
    "        # find xsection\n",
    "        f = open(\"../fileset/xsec_pfnano.json\")\n",
    "        xsec = json.load(f)\n",
    "        f.close()\n",
    "        try:\n",
    "            xsec = eval(str((xsec[sample])))\n",
    "        except ValueError:\n",
    "            print(f\"sample {sample} doesn't have xsecs defined in xsec_pfnano.json so will skip it\")\n",
    "            return None\n",
    "\n",
    "        # get overall weighting of events.. each event has a genweight...\n",
    "        # sumgenweight sums over events in a chunk... sum_sumgenweight sums over chunks\n",
    "        xsec_weight = (xsec * luminosity) / get_sum_sumgenweight(pkl_files, year, sample)\n",
    "    else:\n",
    "        xsec_weight = 1\n",
    "    return xsec_weight\n",
    "\n",
    "def get_cutflow(pkl_files, year, sample, weight, ch):\n",
    "    \"\"\"\n",
    "    Get cutflow from metadata but multiply by xsec-weight\n",
    "    \"\"\"\n",
    "    cuts = {}\n",
    "    cuts[\"mu\"] = [\"trigger\", \n",
    "            \"metfilters\", \n",
    "            \"leptonKin\", \n",
    "            \"fatjetKin\", \n",
    "            \"ht\", \n",
    "            \"oneLepton\", \n",
    "            \"notaus\", \n",
    "            \"leptonInJet\", \n",
    "            \"lep_isolation\", \n",
    "            \"lep_misolation\"\n",
    "           ]\n",
    "    cuts[\"ele\"] = cuts[\"mu\"][:-1]  # remove lep_misolation\n",
    "    \n",
    "    evyield = dict.fromkeys(cuts[ch], 0)\n",
    "    for ik, pkl_file in enumerate(pkl_files):\n",
    "        with open(pkl_file, \"rb\") as f:\n",
    "            metadata = pkl.load(f)\n",
    "            if ch == \"lep\":\n",
    "                cutflows = metadata[sample][year][\"cutflows\"]\n",
    "            else:\n",
    "                cutflows = metadata[sample][year][\"cutflows\"][ch]\n",
    "\n",
    "            for key in evyield.keys():\n",
    "                evyield[key] += cutflows[key] * weight\n",
    "    return evyield"
   ]
  },
  {
   "cell_type": "code",
   "execution_count": 6,
   "metadata": {},
   "outputs": [
    {
     "name": "stdout",
     "output_type": "stream",
     "text": [
      "Finding WJetsToLNu_HT-100To200 samples and should combine them under WJetsLNu\n",
      "Finding DYJetsToLL_Pt-400To650 samples and should combine them under DYJets\n",
      "Finding VBFHToWWToLNuQQ_M-125_withDipoleRecoil samples and should combine them under VBF\n",
      "Finding HWminusJ_HToWW_M-125 samples and should combine them under VH\n",
      "Finding WJetsToLNu_HT-800To1200 samples and should combine them under WJetsLNu\n",
      "Finding TTToSemiLeptonic samples and should combine them under TTbar\n",
      "Finding DYJetsToLL_Pt-250To400 samples and should combine them under DYJets\n",
      "Finding ST_t-channel_top_4f_InclusiveDecays samples and should combine them under SingleTop\n",
      "Finding ST_s-channel_4f_hadronicDecays samples and should combine them under SingleTop\n",
      "Finding WJetsToLNu_HT-1200To2500 samples and should combine them under WJetsLNu\n",
      "Finding WJetsToLNu_HT-200To400 samples and should combine them under WJetsLNu\n",
      "Finding ST_tW_top_5f_inclusiveDecays samples and should combine them under SingleTop\n",
      "Finding GluGluHToWW_Pt-200ToInf_M-125 samples and should combine them under HWW\n",
      "Finding WJetsToQQ_HT-200to400 samples and should combine them under WZQQ\n",
      "Finding ST_tW_antitop_5f_inclusiveDecays samples and should combine them under SingleTop\n",
      "Finding ZJetsToQQ_HT-200to400 samples and should combine them under WZQQ\n",
      "Finding QCD_Pt_3200toInf samples and should combine them under QCD\n",
      "Finding HWplusJ_HToWW_M-125 samples and should combine them under VH\n",
      "Finding WJetsToLNu_HT-70To100 samples and should combine them under WJetsLNu\n",
      "Finding ST_s-channel_4f_leptonDecays samples and should combine them under SingleTop\n",
      "Finding DYJetsToLL_Pt-50To100 samples and should combine them under DYJets\n",
      "Finding QCD_Pt_1800to2400 samples and should combine them under QCD\n",
      "Finding WW samples and should combine them under Diboson\n",
      "Finding ST_t-channel_antitop_4f_InclusiveDecays samples and should combine them under SingleTop\n",
      "Finding TTTo2L2Nu samples and should combine them under TTbar\n",
      "Finding QCD_Pt_2400to3200 samples and should combine them under QCD\n",
      "Finding DYJetsToLL_Pt-650ToInf samples and should combine them under DYJets\n",
      "Finding ZJetsToQQ_HT-400to600 samples and should combine them under WZQQ\n",
      "Finding ZZ samples and should combine them under Diboson\n",
      "Finding TTToHadronic samples and should combine them under TTbar\n",
      "Finding GluGluZH_HToWW_ZTo2L_M-125 samples and should combine them under Diboson\n",
      "Finding QCD_Pt_1000to1400 samples and should combine them under QCD\n",
      "Finding QCD_Pt_600to800 samples and should combine them under QCD\n",
      "Finding QCD_Pt_300to470 samples and should combine them under QCD\n",
      "Finding WJetsToQQ_HT-800toInf samples and should combine them under WZQQ\n",
      "Finding ZJetsToQQ_HT-600to800 samples and should combine them under WZQQ\n",
      "Finding QCD_Pt_170to300 samples and should combine them under QCD\n",
      "Finding WJetsToLNu_HT-600To800 samples and should combine them under WJetsLNu\n",
      "Finding WJetsToQQ_HT-600to800 samples and should combine them under WZQQ\n",
      "Finding WJetsToLNu_HT-2500ToInf samples and should combine them under WJetsLNu\n",
      "Finding ttHToNonbb_M125 samples and should combine them under ttH\n",
      "Finding ZJetsToQQ_HT-800toInf samples and should combine them under WZQQ\n",
      "Finding QCD_Pt_800to1000 samples and should combine them under QCD\n",
      "Finding WJetsToQQ_HT-400to600 samples and should combine them under WZQQ\n",
      "Finding WJetsToLNu_HT-400To600 samples and should combine them under WJetsLNu\n",
      "Finding QCD_Pt_470to600 samples and should combine them under QCD\n",
      "Finding HZJ_HToWW_M-125 samples and should combine them under VH\n",
      "Finding WZ samples and should combine them under Diboson\n",
      "Finding QCD_Pt_1400to1800 samples and should combine them under QCD\n",
      "Finding DYJetsToLL_Pt-100To250 samples and should combine them under DYJets\n",
      "Finding WJetsToLNu_HT-100To200 samples and should combine them under WJetsLNu\n",
      "Finding DYJetsToLL_Pt-400To650 samples and should combine them under DYJets\n",
      "Finding VBFHToWWToLNuQQ_M-125_withDipoleRecoil samples and should combine them under VBF\n",
      "Finding HWminusJ_HToWW_M-125 samples and should combine them under VH\n",
      "Finding WJetsToLNu_HT-800To1200 samples and should combine them under WJetsLNu\n",
      "Finding TTToSemiLeptonic samples and should combine them under TTbar\n",
      "Finding DYJetsToLL_Pt-250To400 samples and should combine them under DYJets\n",
      "Finding ST_t-channel_top_4f_InclusiveDecays samples and should combine them under SingleTop\n",
      "Finding ST_s-channel_4f_hadronicDecays samples and should combine them under SingleTop\n",
      "Finding WJetsToLNu_HT-1200To2500 samples and should combine them under WJetsLNu\n",
      "Finding WJetsToLNu_HT-200To400 samples and should combine them under WJetsLNu\n",
      "Finding ST_tW_top_5f_inclusiveDecays samples and should combine them under SingleTop\n",
      "Finding GluGluHToWW_Pt-200ToInf_M-125 samples and should combine them under HWW\n",
      "Finding WJetsToQQ_HT-200to400 samples and should combine them under WZQQ\n",
      "Finding ST_tW_antitop_5f_inclusiveDecays samples and should combine them under SingleTop\n",
      "Finding ZJetsToQQ_HT-200to400 samples and should combine them under WZQQ\n",
      "Finding QCD_Pt_3200toInf samples and should combine them under QCD\n",
      "Finding HWplusJ_HToWW_M-125 samples and should combine them under VH\n",
      "Finding WJetsToLNu_HT-70To100 samples and should combine them under WJetsLNu\n",
      "Finding ST_s-channel_4f_leptonDecays samples and should combine them under SingleTop\n",
      "Finding DYJetsToLL_Pt-50To100 samples and should combine them under DYJets\n",
      "Finding QCD_Pt_1800to2400 samples and should combine them under QCD\n",
      "Finding WW samples and should combine them under Diboson\n",
      "Finding ST_t-channel_antitop_4f_InclusiveDecays samples and should combine them under SingleTop\n",
      "Finding TTTo2L2Nu samples and should combine them under TTbar\n",
      "Finding QCD_Pt_2400to3200 samples and should combine them under QCD\n",
      "Finding DYJetsToLL_Pt-650ToInf samples and should combine them under DYJets\n",
      "Finding ZJetsToQQ_HT-400to600 samples and should combine them under WZQQ\n",
      "Finding ZZ samples and should combine them under Diboson\n",
      "Finding TTToHadronic samples and should combine them under TTbar\n",
      "Finding GluGluZH_HToWW_ZTo2L_M-125 samples and should combine them under Diboson\n",
      "Finding QCD_Pt_1000to1400 samples and should combine them under QCD\n",
      "Finding QCD_Pt_600to800 samples and should combine them under QCD\n",
      "Finding QCD_Pt_300to470 samples and should combine them under QCD\n",
      "Finding WJetsToQQ_HT-800toInf samples and should combine them under WZQQ\n",
      "Finding ZJetsToQQ_HT-600to800 samples and should combine them under WZQQ\n",
      "Finding QCD_Pt_170to300 samples and should combine them under QCD\n",
      "Finding WJetsToLNu_HT-600To800 samples and should combine them under WJetsLNu\n",
      "Finding WJetsToQQ_HT-600to800 samples and should combine them under WZQQ\n",
      "Finding WJetsToLNu_HT-2500ToInf samples and should combine them under WJetsLNu\n",
      "Finding ttHToNonbb_M125 samples and should combine them under ttH\n",
      "Finding ZJetsToQQ_HT-800toInf samples and should combine them under WZQQ\n",
      "Finding QCD_Pt_800to1000 samples and should combine them under QCD\n",
      "Finding WJetsToQQ_HT-400to600 samples and should combine them under WZQQ\n",
      "Finding WJetsToLNu_HT-400To600 samples and should combine them under WJetsLNu\n",
      "Finding QCD_Pt_470to600 samples and should combine them under QCD\n",
      "Finding HZJ_HToWW_M-125 samples and should combine them under VH\n",
      "Finding WZ samples and should combine them under Diboson\n",
      "Finding QCD_Pt_1400to1800 samples and should combine them under QCD\n",
      "Finding DYJetsToLL_Pt-100To250 samples and should combine them under DYJets\n"
     ]
    }
   ],
   "source": [
    "cutflows = {}\n",
    "for ch in channels:\n",
    "    cutflows[ch] = {}\n",
    "\n",
    "    # get lumi\n",
    "    with open(\"../fileset/luminosity.json\") as f:\n",
    "        luminosity = json.load(f)[ch][year]\n",
    "\n",
    "    condor_dir = os.listdir(samples_dir)\n",
    "    \n",
    "    for sample in condor_dir:\n",
    "\n",
    "        # get a combined label to combine samples of the same process\n",
    "        for key in combine_samples:\n",
    "            if key in sample:\n",
    "                sample_to_use = combine_samples[key]\n",
    "                break\n",
    "            else:\n",
    "                sample_to_use = sample\n",
    "\n",
    "        if sample_to_use not in samples:\n",
    "            continue\n",
    "\n",
    "        is_data = False\n",
    "        # if sample_to_use == data_by_ch[ch]:\n",
    "        if sample_to_use == \"Data\":\n",
    "            is_data = True\n",
    "\n",
    "        print(f\"Finding {sample} samples and should combine them under {sample_to_use}\")\n",
    "\n",
    "        out_files = f\"{samples_dir}/{sample}/outfiles/\"\n",
    "        parquet_files = glob.glob(f\"{out_files}/*_{ch}.parquet\")\n",
    "        pkl_files = glob.glob(f\"{out_files}/*.pkl\")\n",
    "\n",
    "        if not parquet_files:\n",
    "            print(f\"No parquet file for {sample}\")\n",
    "            continue\n",
    "\n",
    "        data = pd.read_parquet(parquet_files)\n",
    "        if len(data) == 0:\n",
    "            continue\n",
    "\n",
    "        xsec_weight = get_xsecweight(pkl_files, year, sample, is_data, luminosity)\n",
    "        if sample_to_use not in cutflows[ch].keys():\n",
    "            cutflows[ch][sample_to_use] = get_cutflow(pkl_files, year, sample, xsec_weight, ch)\n",
    "        else:\n",
    "            temp = get_cutflow(pkl_files, year, sample, xsec_weight, ch)\n",
    "            for key in cutflows[ch][sample_to_use]:\n",
    "                cutflows[ch][sample_to_use][key] += temp[key]"
   ]
  },
  {
   "cell_type": "code",
   "execution_count": 7,
   "metadata": {},
   "outputs": [
    {
     "data": {
      "text/plain": [
       "{'trigger': 20157346.06134652,\n",
       " 'metfilters': 20147389.161279302,\n",
       " 'leptonKin': 18013061.95110634,\n",
       " 'fatjetKin': 1131485.9738889704,\n",
       " 'ht': 1126454.2250033882,\n",
       " 'oneLepton': 1115538.4489213594,\n",
       " 'notaus': 994737.4117575842,\n",
       " 'leptonInJet': 347622.0114433662,\n",
       " 'lep_isolation': 345012.30051213596,\n",
       " 'lep_misolation': 338939.3104419345}"
      ]
     },
     "execution_count": 7,
     "metadata": {},
     "output_type": "execute_result"
    }
   ],
   "source": [
    "cutflows[\"mu\"][\"WJetsLNu\"]"
   ]
  },
  {
   "cell_type": "code",
   "execution_count": 8,
   "metadata": {},
   "outputs": [],
   "source": [
    "# combine both channels\n",
    "cutflows_combined = {}\n",
    "for ch in cutflows:\n",
    "    for sample in cutflows[ch]:\n",
    "        if sample not in cutflows_combined:\n",
    "            cutflows_combined[sample] = {}\n",
    "            \n",
    "        for cut in cutflows[ch][sample]:\n",
    "            if cut not in cutflows_combined[sample]:\n",
    "                cutflows_combined[sample][cut] = cutflows[ch][sample][cut]\n",
    "            else:\n",
    "                cutflows_combined[sample][cut] += cutflows[ch][sample][cut]"
   ]
  },
  {
   "cell_type": "code",
   "execution_count": 9,
   "metadata": {},
   "outputs": [
    {
     "data": {
      "text/plain": [
       "{'trigger': 2098.62910836108,\n",
       " 'metfilters': 2096.0964258694066,\n",
       " 'leptonKin': 1798.2018564527923,\n",
       " 'fatjetKin': 1516.5751427049534,\n",
       " 'ht': 1515.1304463174693,\n",
       " 'oneLepton': 1283.5505299185988,\n",
       " 'notaus': 1109.7778417149568,\n",
       " 'leptonInJet': 635.2390011455686,\n",
       " 'lep_isolation': 618.2236579970337,\n",
       " 'lep_misolation': 344.1209325876088}"
      ]
     },
     "execution_count": 9,
     "metadata": {},
     "output_type": "execute_result"
    }
   ],
   "source": [
    "cutflows_combined[\"HWW\"]"
   ]
  },
  {
   "cell_type": "markdown",
   "metadata": {},
   "source": [
    "# Plot cutflows"
   ]
  },
  {
   "cell_type": "code",
   "execution_count": 12,
   "metadata": {},
   "outputs": [],
   "source": [
    "plt.rcParams.update({\"font.size\": 20})"
   ]
  },
  {
   "cell_type": "code",
   "execution_count": 13,
   "metadata": {},
   "outputs": [
    {
     "data": {
      "image/png": "[encoded data removed]",
      "text/plain": [
       "<Figure size 864x576 with 1 Axes>"
      ]
     },
     "metadata": {
      "needs_background": "light"
     },
     "output_type": "display_data"
    }
   ],
   "source": [
    "samples = [\n",
    "#     \"HWW\", \n",
    "#     \"VH\",\n",
    "#     \"VBF\",\n",
    "#     \"ttH\",\n",
    "    \"QCD\",\n",
    "#     \"DYJets\",\n",
    "    \"WJetsLNu\",\n",
    "#     \"WZQQ\",\n",
    "    \"TTbar\",\n",
    "#     \"SingleTop\",\n",
    "#     \"Diboson\",\n",
    "#     \"Data\"\n",
    "]\n",
    "\n",
    "colors = ['blue', 'green', 'red']\n",
    "\n",
    "labels = list(cutflows_combined[samples[0]].keys())\n",
    "values = [[cutflows_combined[sample][label] for label in labels] for sample in samples]\n",
    "\n",
    "# Sort the samples by yield\n",
    "sorted_idx = sorted(range(len(values)), key=lambda i: sum(values[i]), reverse=False)\n",
    "samples = [samples[i] for i in sorted_idx]\n",
    "values = [values[i] for i in sorted_idx]\n",
    "\n",
    "fig, ax = plt.subplots(figsize=(12, 8))\n",
    "# Plot the cutflows as a stacked bar chart for each sample\n",
    "bottom = [0] * len(labels)\n",
    "for i, sample in enumerate(samples):\n",
    "    if all(v == 0 for v in values[i]):\n",
    "        print(f\"Sample {sample} is empty\")\n",
    "        continue    \n",
    "    ax.bar(labels, values[i], bottom=bottom, label=sample, edgecolor=colors[i%len(colors)], linewidth=2, fill=False)\n",
    "    bottom = [sum(x) for x in zip(bottom, values[i])]\n",
    "    \n",
    "plt.xticks(rotation=45, ha='right')\n",
    "\n",
    "ax.set_xlabel('Selections')\n",
    "ax.set_ylabel('Number of Events')\n",
    "ax.legend(title=\"Semi-leptonic channel\")\n",
    "ax.set_yscale(\"log\")\n",
    "ax.set_ylim(1,10**9)\n",
    "ax.set_title('Cutflow for background samples');"
   ]
  },
  {
   "cell_type": "code",
   "execution_count": 14,
   "metadata": {},
   "outputs": [
    {
     "data": {
      "image/png": "[encoded data removed]",
      "text/plain": [
       "<Figure size 864x576 with 1 Axes>"
      ]
     },
     "metadata": {
      "needs_background": "light"
     },
     "output_type": "display_data"
    }
   ],
   "source": [
    "# for signal\n",
    "samples = [\n",
    "    \"HWW\", \n",
    "    \"VH\",\n",
    "    \"VBF\",\n",
    "    \"ttH\",\n",
    "#     \"QCD\",\n",
    "#     \"DYJets\",\n",
    "#     \"WJetsLNu\",\n",
    "#     \"WZQQ\",\n",
    "#     \"TTbar\",\n",
    "#     \"SingleTop\",\n",
    "#     \"Diboson\",\n",
    "#     \"Data\"\n",
    "]\n",
    "\n",
    "colors = ['blue', 'green', 'red', 'orange']\n",
    "\n",
    "labels = list(cutflows_combined[samples[0]].keys())\n",
    "values = [[cutflows_combined[sample][label] for label in labels] for sample in samples]\n",
    "\n",
    "# Sort the samples by yield\n",
    "sorted_idx = sorted(range(len(values)), key=lambda i: sum(values[i]), reverse=False)\n",
    "samples = [samples[i] for i in sorted_idx]\n",
    "values = [values[i] for i in sorted_idx]\n",
    "\n",
    "fig, ax = plt.subplots(figsize=(12, 8))\n",
    "# Plot the cutflows as a stacked bar chart for each sample\n",
    "bottom = [0] * len(labels)\n",
    "for i, sample in enumerate(samples):\n",
    "    if all(v == 0 for v in values[i]):\n",
    "        print(f\"Sample {sample} is empty\")\n",
    "        continue    \n",
    "    ax.bar(labels, values[i], bottom=bottom, label=sample, edgecolor=colors[i%len(colors)], linewidth=2, fill=False)\n",
    "    bottom = [sum(x) for x in zip(bottom, values[i])]\n",
    "    \n",
    "plt.xticks(rotation=45, ha='right')\n",
    "\n",
    "ax.set_xlabel('Selections')\n",
    "ax.set_ylabel('Number of Events')\n",
    "ax.legend(title=\"Semi-leptonic channel\")\n",
    "ax.set_yscale(\"log\")\n",
    "ax.set_ylim(1,5*10**4)\n",
    "ax.set_title('Cutflow for signal samples');"
   ]
  },
  {
   "cell_type": "code",
   "execution_count": null,
   "metadata": {},
   "outputs": [],
   "source": []
  }
 ],
 "metadata": {
  "kernelspec": {
   "display_name": "coffea-env",
   "language": "python",
   "name": "coffea-env"
  },
  "language_info": {
   "codemirror_mode": {
    "name": "ipython",
    "version": 3
   },
   "file_extension": ".py",
   "mimetype": "text/x-python",
   "name": "python",
   "nbconvert_exporter": "python",
   "pygments_lexer": "ipython3",
   "version": "3.8.3"
  }
 },
 "nbformat": 4,
 "nbformat_minor": 4
}
