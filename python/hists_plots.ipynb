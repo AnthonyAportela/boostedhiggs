{
 "cells": [
  {
   "cell_type": "code",
   "execution_count": 1,
   "metadata": {},
   "outputs": [
    {
     "name": "stderr",
     "output_type": "stream",
     "text": [
      "/opt/anaconda3/envs/pyg-coffea/lib/python3.8/site-packages/pandas/core/computation/expressions.py:20: UserWarning: Pandas requires version '2.7.3' or newer of 'numexpr' (version '2.7.1' currently installed).\n",
      "  from pandas.core.computation.check import NUMEXPR_INSTALLED\n"
     ]
    }
   ],
   "source": [
    "import glob\n",
    "import os\n",
    "import json\n",
    "import pickle\n",
    "import yaml\n",
    "\n",
    "import numpy as np\n",
    "import pandas as pd\n",
    "import pyarrow.parquet as pq\n",
    "\n",
    "import hist as hist2\n",
    "import matplotlib.pyplot as plt\n",
    "import mplhep as hep\n",
    "\n",
    "plt.style.use(hep.style.CMS)\n",
    "plt.rcParams.update({\"font.size\": 20})\n",
    "\n",
    "import utils"
   ]
  },
  {
   "cell_type": "code",
   "execution_count": 2,
   "metadata": {},
   "outputs": [],
   "source": [
    "%load_ext autoreload\n",
    "%autoreload 2"
   ]
  },
  {
   "cell_type": "code",
   "execution_count": 3,
   "metadata": {
    "scrolled": false
   },
   "outputs": [
    {
     "name": "stdout",
     "output_type": "stream",
     "text": [
      "\u001b[34mDYJetsToLL_Pt-100To250\u001b[m\u001b[m                  \u001b[34mSingleMuon_Run2017F\u001b[m\u001b[m\r\n",
      "\u001b[34mDYJetsToLL_Pt-250To400\u001b[m\u001b[m                  \u001b[34mTTTo2L2Nu\u001b[m\u001b[m\r\n",
      "\u001b[34mDYJetsToLL_Pt-400To650\u001b[m\u001b[m                  \u001b[34mTTToHadronic\u001b[m\u001b[m\r\n",
      "\u001b[34mDYJetsToLL_Pt-50To100\u001b[m\u001b[m                   \u001b[34mTTToSemiLeptonic\u001b[m\u001b[m\r\n",
      "\u001b[34mDYJetsToLL_Pt-650ToInf\u001b[m\u001b[m                  \u001b[34mVBFHToTauTau\u001b[m\u001b[m\r\n",
      "\u001b[34mGluGluHToTauTau\u001b[m\u001b[m                         \u001b[34mVBFHToWWToLNuQQ_M-125_withDipoleRecoil\u001b[m\u001b[m\r\n",
      "\u001b[34mGluGluHToWWToLNuQQ\u001b[m\u001b[m                      \u001b[34mWJetsToLNu_HT-100To200\u001b[m\u001b[m\r\n",
      "\u001b[34mGluGluHToWW_Pt-200ToInf_M-125\u001b[m\u001b[m           \u001b[34mWJetsToLNu_HT-1200To2500\u001b[m\u001b[m\r\n",
      "\u001b[34mHWminusJ_HToWW_M-125\u001b[m\u001b[m                    \u001b[34mWJetsToLNu_HT-200To400\u001b[m\u001b[m\r\n",
      "\u001b[34mHWplusJ_HToWW_M-125\u001b[m\u001b[m                     \u001b[34mWJetsToLNu_HT-2500ToInf\u001b[m\u001b[m\r\n",
      "\u001b[34mHZJ_HToWW_M-125\u001b[m\u001b[m                         \u001b[34mWJetsToLNu_HT-400To600\u001b[m\u001b[m\r\n",
      "\u001b[34mQCD_Pt_1000to1400\u001b[m\u001b[m                       \u001b[34mWJetsToLNu_HT-600To800\u001b[m\u001b[m\r\n",
      "\u001b[34mQCD_Pt_1400to1800\u001b[m\u001b[m                       \u001b[34mWJetsToLNu_HT-70To100\u001b[m\u001b[m\r\n",
      "\u001b[34mQCD_Pt_170to300\u001b[m\u001b[m                         \u001b[34mWJetsToLNu_HT-800To1200\u001b[m\u001b[m\r\n",
      "\u001b[34mQCD_Pt_1800to2400\u001b[m\u001b[m                       \u001b[34mWJetsToQQ_HT-200to400\u001b[m\u001b[m\r\n",
      "\u001b[34mQCD_Pt_2400to3200\u001b[m\u001b[m                       \u001b[34mWJetsToQQ_HT-400to600\u001b[m\u001b[m\r\n",
      "\u001b[34mQCD_Pt_300to470\u001b[m\u001b[m                         \u001b[34mWJetsToQQ_HT-600to800\u001b[m\u001b[m\r\n",
      "\u001b[34mQCD_Pt_3200toInf\u001b[m\u001b[m                        \u001b[34mWJetsToQQ_HT-800toInf\u001b[m\u001b[m\r\n",
      "\u001b[34mQCD_Pt_470to600\u001b[m\u001b[m                         \u001b[34mWW\u001b[m\u001b[m\r\n",
      "\u001b[34mQCD_Pt_600to800\u001b[m\u001b[m                         \u001b[34mWZ\u001b[m\u001b[m\r\n",
      "\u001b[34mQCD_Pt_800to1000\u001b[m\u001b[m                        \u001b[34mWminusHToTauTau\u001b[m\u001b[m\r\n",
      "\u001b[34mST_s-channel_4f_hadronicDecays\u001b[m\u001b[m          \u001b[34mWplusHToTauTau\u001b[m\u001b[m\r\n",
      "\u001b[34mST_s-channel_4f_leptonDecays\u001b[m\u001b[m            \u001b[34mZHToTauTau\u001b[m\u001b[m\r\n",
      "\u001b[34mST_t-channel_antitop_4f_InclusiveDecays\u001b[m\u001b[m \u001b[34mZJetsToQQ_HT-200to400\u001b[m\u001b[m\r\n",
      "\u001b[34mST_t-channel_top_4f_InclusiveDecays\u001b[m\u001b[m     \u001b[34mZJetsToQQ_HT-400to600\u001b[m\u001b[m\r\n",
      "\u001b[34mST_tW_antitop_5f_inclusiveDecays\u001b[m\u001b[m        \u001b[34mZJetsToQQ_HT-600to800\u001b[m\u001b[m\r\n",
      "\u001b[34mST_tW_top_5f_inclusiveDecays\u001b[m\u001b[m            \u001b[34mZJetsToQQ_HT-800toInf\u001b[m\u001b[m\r\n",
      "\u001b[34mSingleMuon_Run2017B\u001b[m\u001b[m                     \u001b[34mZZ\u001b[m\u001b[m\r\n",
      "\u001b[34mSingleMuon_Run2017C\u001b[m\u001b[m                     \u001b[34mttHToNonbb_M125\u001b[m\u001b[m\r\n",
      "\u001b[34mSingleMuon_Run2017D\u001b[m\u001b[m                     \u001b[34mttHToTauTau\u001b[m\u001b[m\r\n",
      "\u001b[34mSingleMuon_Run2017E\u001b[m\u001b[m\r\n"
     ]
    }
   ],
   "source": [
    "! ls ../Jan20_2017"
   ]
  },
  {
   "cell_type": "code",
   "execution_count": 4,
   "metadata": {},
   "outputs": [],
   "source": [
    "# # counts number of events for a given sample after skimming\n",
    "# for sample in os.listdir(\"../Jan20_2017/\"):\n",
    "#     if sample != \"SingleMuon_Run2017E\":\n",
    "#         continue\n",
    "#     out_files = f\"{samples_dir}/{sample}/outfiles/\"\n",
    "#     parquet_files = glob.glob(f\"{out_files}/*_{ch}.parquet\")\n",
    "\n",
    "#     if not parquet_files:\n",
    "#         print(f\"No parquet file for {sample}\")\n",
    "#         continue                \n",
    "\n",
    "#     data = pd.read_parquet(parquet_files)\n",
    "#     not_empty = len(data) > 0\n",
    "\n",
    "#     print(f\"Finding {len(data)} events for {sample}\")"
   ]
  },
  {
   "cell_type": "markdown",
   "metadata": {},
   "source": [
    "# Read parquets\n",
    "- loads parquet dataframes and combine different pt-bins per sample\n",
    "- saves the combined dataframe under `events[year][ch][sample]`"
   ]
  },
  {
   "cell_type": "code",
   "execution_count": 5,
   "metadata": {},
   "outputs": [],
   "source": [
    "combine_samples = {\n",
    "    # data\n",
    "    \"SingleElectron_\": \"SingleElectron\",    \n",
    "    \"SingleMuon_\": \"SingleMuon\",  \n",
    "    \"EGamma_\": \"EGamma\",    \n",
    "    \n",
    "    # signal\n",
    "    \"GluGluHToWW_Pt-200ToInf_M-125\": \"HWW\",    \n",
    "    \"HToWW_M-125\": \"VH\",\n",
    "    \"VBFHToWWToLNuQQ_M-125_withDipoleRecoil\": \"VBF\",\n",
    "    \n",
    "    # bkg\n",
    "    \"QCD_Pt\": \"QCD\",\n",
    "    \"DYJets\": \"DYJets\",    \n",
    "    \"WJetsToLNu_\": \"WJetsLNu\",\n",
    "    \"JetsToQQ\": \"WZQQ\",\n",
    "    \"TT\": \"TTbar\",\n",
    "    \"ST_\": \"SingleTop\",\n",
    "    \"WW\": \"Diboson\",\n",
    "    \"WZ\": \"Diboson\",\n",
    "    \"ZZ\": \"Diboson\",\n",
    "}"
   ]
  },
  {
   "cell_type": "code",
   "execution_count": 6,
   "metadata": {},
   "outputs": [],
   "source": [
    "samples_dir = \"../Jan20_2017\"\n",
    "\n",
    "year = \"2017\"\n",
    "channels = [\"mu\"]\n",
    "\n",
    "weights = {\n",
    "    \"mu\": {\n",
    "        \"weight_genweight\": 1,\n",
    "        \"weight_L1Prefiring\": 1,\n",
    "        \"weight_pileup\": 1,\n",
    "        \"weight_trigger_iso_muon\": 1,\n",
    "        \"weight_trigger_noniso_muon\": 1,\n",
    "        \"weight_isolation_muon\": 1,\n",
    "        \"weight_id_muon\": 1,\n",
    "        \"weight_vjets_nominal\": 1,\n",
    "    }\n",
    "}"
   ]
  },
  {
   "cell_type": "code",
   "execution_count": 7,
   "metadata": {},
   "outputs": [],
   "source": [
    "samples_json = \"plot_configs/samples_pfnano.json\"\n",
    "\n",
    "# get samples from json config\n",
    "with open(samples_json) as f:\n",
    "    json_samples = json.load(f)"
   ]
  },
  {
   "cell_type": "code",
   "execution_count": 18,
   "metadata": {
    "scrolled": true
   },
   "outputs": [
    {
     "name": "stdout",
     "output_type": "stream",
     "text": [
      "Finding GluGluHToWW_Pt-200ToInf_M-125 samples and should combine them under HWW\n",
      "---> Applying preselection.\n",
      "applying mini-iso selection on 14901 events\n",
      "---> Done with preselection.\n",
      "---> Accumulating event weights.\n",
      "weight_vjets_nominal weight is not stored in parquet\n",
      "---> Done with accumulating event weights.\n",
      "Will fill the HWW dataframe with the remaining 14439 events\n",
      "tot event weight 117.63909025507881 \n",
      "\n"
     ]
    }
   ],
   "source": [
    "presel = {\n",
    "    \"mu\": {\n",
    "        \"mini-iso\": \"(( (lep_pt < 55) & (lep_isolation < 0.15) ) | (lep_pt >= 55))\",\n",
    "#         \"mini-iso\": \"( (lep_pt < 55) |  ( (lep_misolation < 0.1) & (lep_pt >= 55) ) )\",\n",
    "#         \"iso\": \"( ( (lep_pt < 55) & (lep_isolation<0.15)) |  (lep_pt >= 55) )\",\n",
    "    }\n",
    "}\n",
    "\n",
    "# get year\n",
    "years = (\n",
    "    [\"2016\", \"2016APV\", \"2017\", \"2018\"]\n",
    "    if year == \"Run2\"\n",
    "    else [year]\n",
    ")    \n",
    "\n",
    "events_dict = {}\n",
    "for year in years:\n",
    "    events_dict[year] = {}\n",
    "    for ch in channels:\n",
    "        events_dict[year][ch] = {}\n",
    "        # get lumi\n",
    "        with open(\"../fileset/luminosity.json\") as f:\n",
    "            luminosity = json.load(f)[ch][year]\n",
    "\n",
    "        ### get samples\n",
    "        samples = []\n",
    "        for key, value in json_samples[year][ch].items():\n",
    "            if value == 1:\n",
    "                samples.append(key)\n",
    "#         samples = os.listdir(\"../Jan20_2017/\")\n",
    "\n",
    "        for sample in samples:\n",
    "            \n",
    "            ### get a combined label to combine samples of the same process\n",
    "            for key in combine_samples:\n",
    "                if key in sample:\n",
    "                    sample_to_use = combine_samples[key]\n",
    "                    break\n",
    "                else:\n",
    "                    sample_to_use = sample\n",
    "            \n",
    "            if sample_to_use != \"HWW\":\n",
    "                continue\n",
    "                    \n",
    "            is_data = False\n",
    "            if sample_to_use == \"SingleMuon\":\n",
    "                is_data = True\n",
    "                \n",
    "            print(f\"Finding {sample} samples and should combine them under {sample_to_use}\")\n",
    "\n",
    "            out_files = f\"{samples_dir}/{sample}/outfiles/\"\n",
    "            parquet_files = glob.glob(f\"{out_files}/*_{ch}.parquet\")\n",
    "            pkl_files = glob.glob(f\"{out_files}/*.pkl\")\n",
    "\n",
    "            if not parquet_files:\n",
    "                print(f\"No parquet file for {sample}\")\n",
    "                continue                \n",
    "                \n",
    "            data = pd.read_parquet(parquet_files)\n",
    "            not_empty = len(data) > 0\n",
    "\n",
    "            # apply selection\n",
    "            print(\"---> Applying preselection.\")\n",
    "            for selection in presel[ch]:\n",
    "                print(f\"applying {selection} selection on {len(data)} events\")\n",
    "                data = data.query(presel[ch][selection])  \n",
    "            print(\"---> Done with preselection.\")\n",
    "\n",
    "            # get event_weight\n",
    "            if not is_data:       \n",
    "                print(\"---> Accumulating event weights.\")                \n",
    "                event_weight = utils.get_xsecweight(pkl_files, year, sample, is_data, luminosity)\n",
    "                for w in weights[ch]:\n",
    "                    if w not in data.keys():\n",
    "                        print(f\"{w} weight is not stored in parquet\")\n",
    "                        continue\n",
    "                    event_weight *= data[w]\n",
    "                print(\"---> Done with accumulating event weights.\")                       \n",
    "            else:\n",
    "                event_weight = np.ones_like(data[\"fj_pt\"])\n",
    "\n",
    "            data[\"event_weight\"] = event_weight\n",
    "\n",
    "            print(f\"Will fill the {sample_to_use} dataframe with the remaining {len(data)} events\")\n",
    "            print(f\"tot event weight {data['event_weight'].sum()} \\n\")\n",
    "            \n",
    "            # fill the big dataframe\n",
    "            if sample_to_use not in events_dict[year][ch].keys():\n",
    "                events_dict[year][ch][sample_to_use] = data\n",
    "            else:\n",
    "                events_dict[year][ch][sample_to_use] = pd.concat([events_dict[year][ch][sample_to_use], data])"
   ]
  },
  {
   "cell_type": "code",
   "execution_count": 19,
   "metadata": {},
   "outputs": [
    {
     "data": {
      "text/plain": [
       "dict_keys(['2017'])"
      ]
     },
     "execution_count": 19,
     "metadata": {},
     "output_type": "execute_result"
    }
   ],
   "source": [
    "events_dict.keys()"
   ]
  },
  {
   "cell_type": "code",
   "execution_count": 20,
   "metadata": {},
   "outputs": [
    {
     "data": {
      "text/plain": [
       "dict_keys(['mu'])"
      ]
     },
     "execution_count": 20,
     "metadata": {},
     "output_type": "execute_result"
    }
   ],
   "source": [
    "events_dict[\"2017\"].keys()"
   ]
  },
  {
   "cell_type": "code",
   "execution_count": 21,
   "metadata": {},
   "outputs": [
    {
     "data": {
      "text/plain": [
       "dict_keys(['HWW'])"
      ]
     },
     "execution_count": 21,
     "metadata": {},
     "output_type": "execute_result"
    }
   ],
   "source": [
    "events_dict[\"2017\"][\"mu\"].keys()"
   ]
  },
  {
   "cell_type": "markdown",
   "metadata": {},
   "source": [
    "# Plot histograms"
   ]
  },
  {
   "cell_type": "code",
   "execution_count": 22,
   "metadata": {},
   "outputs": [],
   "source": [
    "# plot histograms\n",
    "color_by_sample = {\n",
    "    \"HWW\": \"coral\",\n",
    "    \"ttHToNonbb_M125\": \"tab:olive\",\n",
    "    \"VH\": \"tab:brown\",\n",
    "    \"VBF\": \"tab:gray\",\n",
    "\n",
    "    \"DYJets\": \"tab:purple\",\n",
    "    \"QCD\": \"tab:orange\",\n",
    "    \"Diboson\": \"orchid\",    \n",
    "    \"WJetsLNu\": \"tab:green\",\n",
    "    \"TTbar\": \"tab:blue\",\n",
    "    \"WZQQ\": \"salmon\",\n",
    "    \"SingleTop\": \"tab:cyan\",\n",
    "    \n",
    "    \"WplusHToTauTau\": \"tab:cyan\",\n",
    "    \"WminusHToTauTau\": \"tab:cyan\",\n",
    "    \"ttHToTauTau\": \"tab:cyan\",\n",
    "    \"GluGluHToTauTau\": \"tab:cyan\",\n",
    "    \"ZHToTauTau\": \"tab:cyan\",\n",
    "    \"VBFHToTauTau\": \"tab:cyan\",\n",
    "}\n",
    "\n",
    "plot_labels = {\n",
    "    \"HWW\": \"ggH(WW)-Pt200\",    \n",
    "    \"ttHToNonbb_M125\": \"ttH(WW)\",\n",
    "    \"VH\": \"VH(WW)\",\n",
    "    \"VBF\": r\"VBFH(WW) $(qq\\ell\\nu)$\",\n",
    "    \n",
    "    \"DYJets\": r\"Z$(\\ell\\ell)$+jets\",    \n",
    "    \"QCD\": \"Multijet\",\n",
    "    \"Diboson\": \"VV\",\n",
    "    \"WJetsLNu\": r\"W$(\\ell\\nu)$+jets\",\n",
    "    \"TTbar\": r\"$t\\bar{t}$+jets\",\n",
    "    \"WZQQ\": r\"W/Z$(qq)$\",\n",
    "    \"SingleTop\": r\"Single Top\",\n",
    "    \n",
    "    \"WplusHToTauTau\": \"WplusHToTauTau\",\n",
    "    \"WminusHToTauTau\": \"WminusHToTauTau\",\n",
    "    \"ttHToTauTau\": \"ttHToTauTau\",\n",
    "    \"GluGluHToTauTau\": \"GluGluHToTauTau\",\n",
    "    \"ZHToTauTau\": \"ZHToTauTau\",\n",
    "    \"VBFHToTauTau\": \"VBFHToTauTau\"\n",
    "}\n",
    "\n",
    "label_by_ch = {\n",
    "    \"ele\": \"Electron\",\n",
    "    \"mu\": \"Muon\",\n",
    "}\n",
    "\n",
    "# this is actually no longer by channel since I don't have channels for VH, but leave the name for now, since 2018 is different than other years:w\n",
    "data_by_ch = {\n",
    "    \"ele\": \"SingleElectron\",\n",
    "    \"mu\": \"SingleMuon\",\n",
    "    \"had\": \"JetHT\",\n",
    "    \"DoubleMuon\": \"DoubleMuon\",\n",
    "    \"MuonEG\": \"MuonEG\",\n",
    "    \"DoubleEG\": \"DoubleEG\",\n",
    "}\n",
    "data_by_ch_2018 = {\n",
    "    \"ele\": \"EGamma\",  # i guess there was no single electron for this year, so cristina used eGamma instead of single electron?\n",
    "    \"mu\": \"SingleMuon\",\n",
    "    \"had\": \"JetHT\",\n",
    "    \"DoubleMuon\": \"DoubleMuon\",\n",
    "    \"MuonEG\": \"MuonEG\",\n",
    "}\n",
    "\n",
    "signal_by_ch = {\n",
    "    \"ele\": [\n",
    "        \"HWW\",        \n",
    "        \"ttHToNonbb_M125\",\n",
    "        \"VH\",\n",
    "        \"VBFH\",\n",
    "    ],\n",
    "    \"mu\": [\n",
    "        \"HWW\",        \n",
    "        \"ttHToNonbb_M125\",\n",
    "        \"VH\",\n",
    "        \"VBF\"\n",
    "    ],\n",
    "}"
   ]
  },
  {
   "cell_type": "code",
   "execution_count": 23,
   "metadata": {},
   "outputs": [
    {
     "data": {
      "text/plain": [
       "0        True\n",
       "1        True\n",
       "2        True\n",
       "3        True\n",
       "4        True\n",
       "         ... \n",
       "14896    None\n",
       "14897    True\n",
       "14898    True\n",
       "14899    True\n",
       "14900    True\n",
       "Name: fj_H_VV_isVlepton, Length: 14439, dtype: object"
      ]
     },
     "execution_count": 23,
     "metadata": {},
     "output_type": "execute_result"
    }
   ],
   "source": [
    "data[\"fj_H_VV_isVlepton\"]"
   ]
  },
  {
   "cell_type": "code",
   "execution_count": 51,
   "metadata": {},
   "outputs": [
    {
     "name": "stdout",
     "output_type": "stream",
     "text": [
      "num_events passing selection 14439\n"
     ]
    }
   ],
   "source": [
    "num_events = len(data[\"fj_H_VV_isVlepton\"])\n",
    "print(f\"num_events passing selection {num_events}\")"
   ]
  },
  {
   "cell_type": "code",
   "execution_count": 53,
   "metadata": {},
   "outputs": [
    {
     "name": "stdout",
     "output_type": "stream",
     "text": [
      "num_events where canididatelep comes from W 6457\n"
     ]
    }
   ],
   "source": [
    "num_lep_from_W = (data[\"fj_H_VV_isVlepton\"].values==True).sum()\n",
    "print(f\"num_events where canididatelep comes from W {num_lep_from_W}\")"
   ]
  },
  {
   "cell_type": "code",
   "execution_count": 52,
   "metadata": {},
   "outputs": [
    {
     "name": "stdout",
     "output_type": "stream",
     "text": [
      "num_events where canididatelep comes from W* 6253\n"
     ]
    }
   ],
   "source": [
    "num_lep_from_Wstar = (data[\"fj_H_VV_isVlepton\"].values==False).sum()\n",
    "print(f\"num_events where canididatelep comes from W* {num_lep_from_Wstar}\")"
   ]
  },
  {
   "cell_type": "code",
   "execution_count": 54,
   "metadata": {},
   "outputs": [
    {
     "data": {
      "text/plain": [
       "1729"
      ]
     },
     "execution_count": 54,
     "metadata": {},
     "output_type": "execute_result"
    }
   ],
   "source": [
    "num_events - num_lep_from_W - num_lep_from_Wstar"
   ]
  },
  {
   "cell_type": "code",
   "execution_count": 58,
   "metadata": {},
   "outputs": [
    {
     "data": {
      "text/plain": [
       "0        225.375\n",
       "1        338.750\n",
       "2        348.500\n",
       "3        279.750\n",
       "4        275.500\n",
       "          ...   \n",
       "14892    327.000\n",
       "14897    256.500\n",
       "14898    209.250\n",
       "14899    250.375\n",
       "14900    225.375\n",
       "Name: fj_pt, Length: 6457, dtype: float32"
      ]
     },
     "execution_count": 58,
     "metadata": {},
     "output_type": "execute_result"
    }
   ],
   "source": [
    "data[\"fj_pt\"][data[\"fj_H_VV_isVlepton\"]==True]"
   ]
  },
  {
   "cell_type": "code",
   "execution_count": null,
   "metadata": {},
   "outputs": [],
   "source": []
  },
  {
   "cell_type": "code",
   "execution_count": 13,
   "metadata": {},
   "outputs": [],
   "source": [
    "json_vars = {\n",
    "  \"mu\": {\n",
    "#     \"lep_fj_m\": 1,\n",
    "    \"fj_pt\": 1,\n",
    "#     \"lep_pt\": 1,\n",
    "#     \"fj_msoftdrop\": 1,\n",
    "#     \"fj_bjets_ophem\": 1,\n",
    "#     \"fj_bjets\": 1,\n",
    "#     \"lep_isolation_lowpt\": 1,\n",
    "#     \"lep_isolation_highpt\": 1,\n",
    "#     \"lep_misolation_lowpt\": 1,\n",
    "#     \"lep_misolation_highpt\": 1,\n",
    "#     \"lep_fj_dr\": 1,\n",
    "#     \"lep_met_mt\": 1,\n",
    "#     \"ht\": 1,\n",
    "#     \"met\": 1,\n",
    "#     \"met_fj_dphi\": 1,\n",
    "#     \"nfj\": 1,\n",
    "#     \"nj\": 1,\n",
    "#     \"deta\": 1,\n",
    "#     \"mjj\": 1,\n",
    "  },\n",
    "  \"ele\": {\n",
    "    \"lep_fj_m\": 1,\n",
    "    \"fj_pt\": 1,\n",
    "    \"lep_pt\": 1\n",
    "  }\n",
    "}"
   ]
  },
  {
   "cell_type": "code",
   "execution_count": 94,
   "metadata": {
    "scrolled": true
   },
   "outputs": [
    {
     "data": {
      "text/html": [
       "<html>\n",
       "<div style=\"display:flex; align-items:center;\">\n",
       "<div style=\"width:290px;\">\n",
       "<svg xmlns=\"http://www.w3.org/2000/svg\" viewBox=\"-20 -270 290 290\">\n",
       "<text text-anchor=\"middle\" x=\"0\" y=\"13\" style=\"fill:currentColor;\">\n",
       "30\n",
       "</text>\n",
       "<text text-anchor=\"middle\" x=\"250\" y=\"13\" style=\"fill:currentColor;\">\n",
       "450\n",
       "</text>\n",
       "<text text-anchor=\"middle\" x=\"-10\" y=\"0\" style=\"fill:currentColor;\">\n",
       "0\n",
       "</text>\n",
       "<text text-anchor=\"middle\" x=\"-10\" y=\"-250\" style=\"fill:currentColor;\">\n",
       "2\n",
       "</text>\n",
       "<text text-anchor=\"middle\" x=\"125.0\" y=\"13\" style=\"fill:currentColor;\">\n",
       "Lepton $p_T$ [GeV]\n",
       "</text>\n",
       "<text text-anchor=\"middle\" x=\"-10\" y=\"-125.0\" transform=\"rotate(-90,-10,-125.0)\" style=\"fill:currentColor;\">\n",
       "from_W\n",
       "</text>\n",
       "<rect x=\"0.0\" y=\"-125.0\" width=\"6.25\" height=\"125.0\" opacity=\"0.5366568919460558\" fill=\"currentColor\" stroke-width=\"0.1\"/>\n",
       "<rect x=\"6.25\" y=\"-125.0\" width=\"6.25\" height=\"125.0\" opacity=\"0.5600255509425832\" fill=\"currentColor\" stroke-width=\"0.1\"/>\n",
       "<rect x=\"12.5\" y=\"-125.0\" width=\"6.25\" height=\"125.0\" opacity=\"1.0\" fill=\"currentColor\" stroke-width=\"0.1\"/>\n",
       "<rect x=\"18.75\" y=\"-125.0\" width=\"6.25\" height=\"125.0\" opacity=\"0.9699439133607899\" fill=\"currentColor\" stroke-width=\"0.1\"/>\n",
       "<rect x=\"25.0\" y=\"-125.0\" width=\"6.25\" height=\"125.0\" opacity=\"0.8067773094066817\" fill=\"currentColor\" stroke-width=\"0.1\"/>\n",
       "<rect x=\"31.25\" y=\"-125.0\" width=\"6.25\" height=\"125.0\" opacity=\"0.7233443582059502\" fill=\"currentColor\" stroke-width=\"0.1\"/>\n",
       "<rect x=\"37.5\" y=\"-125.0\" width=\"6.25\" height=\"125.0\" opacity=\"0.5783953152801284\" fill=\"currentColor\" stroke-width=\"0.1\"/>\n",
       "<rect x=\"43.75\" y=\"-125.0\" width=\"6.25\" height=\"125.0\" opacity=\"0.4182892701299877\" fill=\"currentColor\" stroke-width=\"0.1\"/>\n",
       "<rect x=\"50.0\" y=\"-125.0\" width=\"6.25\" height=\"125.0\" opacity=\"0.2901976767325506\" fill=\"currentColor\" stroke-width=\"0.1\"/>\n",
       "<rect x=\"56.25\" y=\"-125.0\" width=\"6.25\" height=\"125.0\" opacity=\"0.21849602341771998\" fill=\"currentColor\" stroke-width=\"0.1\"/>\n",
       "<rect x=\"62.5\" y=\"-125.0\" width=\"6.25\" height=\"125.0\" opacity=\"0.1548029438416331\" fill=\"currentColor\" stroke-width=\"0.1\"/>\n",
       "<rect x=\"68.75\" y=\"-125.0\" width=\"6.25\" height=\"125.0\" opacity=\"0.10416569619933737\" fill=\"currentColor\" stroke-width=\"0.1\"/>\n",
       "<rect x=\"75.0\" y=\"-125.0\" width=\"6.25\" height=\"125.0\" opacity=\"0.10086454795421958\" fill=\"currentColor\" stroke-width=\"0.1\"/>\n",
       "<rect x=\"81.25\" y=\"-125.0\" width=\"6.25\" height=\"125.0\" opacity=\"0.06238630432706583\" fill=\"currentColor\" stroke-width=\"0.1\"/>\n",
       "<rect x=\"87.5\" y=\"-125.0\" width=\"6.25\" height=\"125.0\" opacity=\"0.036583274793990754\" fill=\"currentColor\" stroke-width=\"0.1\"/>\n",
       "<rect x=\"93.75\" y=\"-125.0\" width=\"6.25\" height=\"125.0\" opacity=\"0.028707531577968095\" fill=\"currentColor\" stroke-width=\"0.1\"/>\n",
       "<rect x=\"100.0\" y=\"-125.0\" width=\"6.25\" height=\"125.0\" opacity=\"0.019957436049456337\" fill=\"currentColor\" stroke-width=\"0.1\"/>\n",
       "<rect x=\"106.25\" y=\"-125.0\" width=\"6.25\" height=\"125.0\" opacity=\"0.01849012527524346\" fill=\"currentColor\" stroke-width=\"0.1\"/>\n",
       "<rect x=\"112.5\" y=\"-125.0\" width=\"6.25\" height=\"125.0\" opacity=\"0.01209627043320403\" fill=\"currentColor\" stroke-width=\"0.1\"/>\n",
       "<rect x=\"118.75\" y=\"-125.0\" width=\"6.25\" height=\"125.0\" opacity=\"0.00930003817833557\" fill=\"currentColor\" stroke-width=\"0.1\"/>\n",
       "<rect x=\"125.0\" y=\"-125.0\" width=\"6.25\" height=\"125.0\" opacity=\"0.008559056367405189\" fill=\"currentColor\" stroke-width=\"0.1\"/>\n",
       "<rect x=\"131.25\" y=\"-125.0\" width=\"6.25\" height=\"125.0\" opacity=\"0.004712286674946575\" fill=\"currentColor\" stroke-width=\"0.1\"/>\n",
       "<rect x=\"137.5\" y=\"-125.0\" width=\"6.25\" height=\"125.0\" opacity=\"0.002832895589106773\" fill=\"currentColor\" stroke-width=\"0.1\"/>\n",
       "<rect x=\"143.75\" y=\"-125.0\" width=\"6.25\" height=\"125.0\" opacity=\"0.0013905219335044873\" fill=\"currentColor\" stroke-width=\"0.1\"/>\n",
       "<rect x=\"150.0\" y=\"-125.0\" width=\"6.25\" height=\"125.0\" opacity=\"0.000884546213488815\" fill=\"currentColor\" stroke-width=\"0.1\"/>\n",
       "<rect x=\"156.25\" y=\"-125.0\" width=\"6.25\" height=\"125.0\" opacity=\"0.0008741058236333843\" fill=\"currentColor\" stroke-width=\"0.1\"/>\n",
       "<rect x=\"162.5\" y=\"-125.0\" width=\"6.25\" height=\"125.0\" opacity=\"0.0\" fill=\"currentColor\" stroke-width=\"0.1\"/>\n",
       "<rect x=\"168.75\" y=\"-125.0\" width=\"6.25\" height=\"125.0\" opacity=\"0.0008062578312313974\" fill=\"currentColor\" stroke-width=\"0.1\"/>\n",
       "<rect x=\"175.0\" y=\"-125.0\" width=\"6.25\" height=\"125.0\" opacity=\"0.0007272206519322029\" fill=\"currentColor\" stroke-width=\"0.1\"/>\n",
       "<rect x=\"181.25\" y=\"-125.0\" width=\"6.25\" height=\"125.0\" opacity=\"0.0\" fill=\"currentColor\" stroke-width=\"0.1\"/>\n",
       "<rect x=\"187.5\" y=\"-125.0\" width=\"6.25\" height=\"125.0\" opacity=\"0.0\" fill=\"currentColor\" stroke-width=\"0.1\"/>\n",
       "<rect x=\"193.75\" y=\"-125.0\" width=\"6.25\" height=\"125.0\" opacity=\"0.0\" fill=\"currentColor\" stroke-width=\"0.1\"/>\n",
       "<rect x=\"200.0\" y=\"-125.0\" width=\"6.25\" height=\"125.0\" opacity=\"0.0\" fill=\"currentColor\" stroke-width=\"0.1\"/>\n",
       "<rect x=\"206.25\" y=\"-125.0\" width=\"6.25\" height=\"125.0\" opacity=\"0.0\" fill=\"currentColor\" stroke-width=\"0.1\"/>\n",
       "<rect x=\"212.5\" y=\"-125.0\" width=\"6.25\" height=\"125.0\" opacity=\"0.0\" fill=\"currentColor\" stroke-width=\"0.1\"/>\n",
       "<rect x=\"218.75\" y=\"-125.0\" width=\"6.25\" height=\"125.0\" opacity=\"0.0\" fill=\"currentColor\" stroke-width=\"0.1\"/>\n",
       "<rect x=\"225.0\" y=\"-125.0\" width=\"6.25\" height=\"125.0\" opacity=\"0.0\" fill=\"currentColor\" stroke-width=\"0.1\"/>\n",
       "<rect x=\"231.25\" y=\"-125.0\" width=\"6.25\" height=\"125.0\" opacity=\"0.0\" fill=\"currentColor\" stroke-width=\"0.1\"/>\n",
       "<rect x=\"237.5\" y=\"-125.0\" width=\"6.25\" height=\"125.0\" opacity=\"0.0\" fill=\"currentColor\" stroke-width=\"0.1\"/>\n",
       "<rect x=\"243.75\" y=\"-125.0\" width=\"6.25\" height=\"125.0\" opacity=\"0.0\" fill=\"currentColor\" stroke-width=\"0.1\"/>\n",
       "<rect x=\"0.0\" y=\"-250.0\" width=\"6.25\" height=\"125.0\" opacity=\"0.1870858544921639\" fill=\"currentColor\" stroke-width=\"0.1\"/>\n",
       "<rect x=\"6.25\" y=\"-250.0\" width=\"6.25\" height=\"125.0\" opacity=\"0.2348873691247294\" fill=\"currentColor\" stroke-width=\"0.1\"/>\n",
       "<rect x=\"12.5\" y=\"-250.0\" width=\"6.25\" height=\"125.0\" opacity=\"0.20379732541859283\" fill=\"currentColor\" stroke-width=\"0.1\"/>\n",
       "<rect x=\"18.75\" y=\"-250.0\" width=\"6.25\" height=\"125.0\" opacity=\"0.3113834544932691\" fill=\"currentColor\" stroke-width=\"0.1\"/>\n",
       "<rect x=\"25.0\" y=\"-250.0\" width=\"6.25\" height=\"125.0\" opacity=\"0.4141975861803171\" fill=\"currentColor\" stroke-width=\"0.1\"/>\n",
       "<rect x=\"31.25\" y=\"-250.0\" width=\"6.25\" height=\"125.0\" opacity=\"0.4579972680363168\" fill=\"currentColor\" stroke-width=\"0.1\"/>\n",
       "<rect x=\"37.5\" y=\"-250.0\" width=\"6.25\" height=\"125.0\" opacity=\"0.4993177501784114\" fill=\"currentColor\" stroke-width=\"0.1\"/>\n",
       "<rect x=\"43.75\" y=\"-250.0\" width=\"6.25\" height=\"125.0\" opacity=\"0.5514216524424763\" fill=\"currentColor\" stroke-width=\"0.1\"/>\n",
       "<rect x=\"50.0\" y=\"-250.0\" width=\"6.25\" height=\"125.0\" opacity=\"0.5378890319303559\" fill=\"currentColor\" stroke-width=\"0.1\"/>\n",
       "<rect x=\"56.25\" y=\"-250.0\" width=\"6.25\" height=\"125.0\" opacity=\"0.49022037153895626\" fill=\"currentColor\" stroke-width=\"0.1\"/>\n",
       "<rect x=\"62.5\" y=\"-250.0\" width=\"6.25\" height=\"125.0\" opacity=\"0.4202904414495087\" fill=\"currentColor\" stroke-width=\"0.1\"/>\n",
       "<rect x=\"68.75\" y=\"-250.0\" width=\"6.25\" height=\"125.0\" opacity=\"0.32805397515844176\" fill=\"currentColor\" stroke-width=\"0.1\"/>\n",
       "<rect x=\"75.0\" y=\"-250.0\" width=\"6.25\" height=\"125.0\" opacity=\"0.21560197910514564\" fill=\"currentColor\" stroke-width=\"0.1\"/>\n",
       "<rect x=\"81.25\" y=\"-250.0\" width=\"6.25\" height=\"125.0\" opacity=\"0.17933989280438098\" fill=\"currentColor\" stroke-width=\"0.1\"/>\n",
       "<rect x=\"87.5\" y=\"-250.0\" width=\"6.25\" height=\"125.0\" opacity=\"0.12877346017289742\" fill=\"currentColor\" stroke-width=\"0.1\"/>\n",
       "<rect x=\"93.75\" y=\"-250.0\" width=\"6.25\" height=\"125.0\" opacity=\"0.09820677237679518\" fill=\"currentColor\" stroke-width=\"0.1\"/>\n",
       "<rect x=\"100.0\" y=\"-250.0\" width=\"6.25\" height=\"125.0\" opacity=\"0.07682581402908986\" fill=\"currentColor\" stroke-width=\"0.1\"/>\n",
       "<rect x=\"106.25\" y=\"-250.0\" width=\"6.25\" height=\"125.0\" opacity=\"0.058854661998886434\" fill=\"currentColor\" stroke-width=\"0.1\"/>\n",
       "<rect x=\"112.5\" y=\"-250.0\" width=\"6.25\" height=\"125.0\" opacity=\"0.04040519546678731\" fill=\"currentColor\" stroke-width=\"0.1\"/>\n",
       "<rect x=\"118.75\" y=\"-250.0\" width=\"6.25\" height=\"125.0\" opacity=\"0.023834961352096232\" fill=\"currentColor\" stroke-width=\"0.1\"/>\n",
       "<rect x=\"125.0\" y=\"-250.0\" width=\"6.25\" height=\"125.0\" opacity=\"0.022168578431546727\" fill=\"currentColor\" stroke-width=\"0.1\"/>\n",
       "<rect x=\"131.25\" y=\"-250.0\" width=\"6.25\" height=\"125.0\" opacity=\"0.02120784156329795\" fill=\"currentColor\" stroke-width=\"0.1\"/>\n",
       "<rect x=\"137.5\" y=\"-250.0\" width=\"6.25\" height=\"125.0\" opacity=\"0.011682855668595385\" fill=\"currentColor\" stroke-width=\"0.1\"/>\n",
       "<rect x=\"143.75\" y=\"-250.0\" width=\"6.25\" height=\"125.0\" opacity=\"0.004248842735546694\" fill=\"currentColor\" stroke-width=\"0.1\"/>\n",
       "<rect x=\"150.0\" y=\"-250.0\" width=\"6.25\" height=\"125.0\" opacity=\"0.004159628907785065\" fill=\"currentColor\" stroke-width=\"0.1\"/>\n",
       "<rect x=\"156.25\" y=\"-250.0\" width=\"6.25\" height=\"125.0\" opacity=\"0.005845251403365778\" fill=\"currentColor\" stroke-width=\"0.1\"/>\n",
       "<rect x=\"162.5\" y=\"-250.0\" width=\"6.25\" height=\"125.0\" opacity=\"0.004192145757121068\" fill=\"currentColor\" stroke-width=\"0.1\"/>\n",
       "<rect x=\"168.75\" y=\"-250.0\" width=\"6.25\" height=\"125.0\" opacity=\"0.003550319761483004\" fill=\"currentColor\" stroke-width=\"0.1\"/>\n",
       "<rect x=\"175.0\" y=\"-250.0\" width=\"6.25\" height=\"125.0\" opacity=\"0.000843264661593385\" fill=\"currentColor\" stroke-width=\"0.1\"/>\n",
       "<rect x=\"181.25\" y=\"-250.0\" width=\"6.25\" height=\"125.0\" opacity=\"0.00038473963006934505\" fill=\"currentColor\" stroke-width=\"0.1\"/>\n",
       "<rect x=\"187.5\" y=\"-250.0\" width=\"6.25\" height=\"125.0\" opacity=\"0.0\" fill=\"currentColor\" stroke-width=\"0.1\"/>\n",
       "<rect x=\"193.75\" y=\"-250.0\" width=\"6.25\" height=\"125.0\" opacity=\"0.0\" fill=\"currentColor\" stroke-width=\"0.1\"/>\n",
       "<rect x=\"200.0\" y=\"-250.0\" width=\"6.25\" height=\"125.0\" opacity=\"0.0\" fill=\"currentColor\" stroke-width=\"0.1\"/>\n",
       "<rect x=\"206.25\" y=\"-250.0\" width=\"6.25\" height=\"125.0\" opacity=\"0.0\" fill=\"currentColor\" stroke-width=\"0.1\"/>\n",
       "<rect x=\"212.5\" y=\"-250.0\" width=\"6.25\" height=\"125.0\" opacity=\"0.0\" fill=\"currentColor\" stroke-width=\"0.1\"/>\n",
       "<rect x=\"218.75\" y=\"-250.0\" width=\"6.25\" height=\"125.0\" opacity=\"0.0\" fill=\"currentColor\" stroke-width=\"0.1\"/>\n",
       "<rect x=\"225.0\" y=\"-250.0\" width=\"6.25\" height=\"125.0\" opacity=\"0.0\" fill=\"currentColor\" stroke-width=\"0.1\"/>\n",
       "<rect x=\"231.25\" y=\"-250.0\" width=\"6.25\" height=\"125.0\" opacity=\"0.0\" fill=\"currentColor\" stroke-width=\"0.1\"/>\n",
       "<rect x=\"237.5\" y=\"-250.0\" width=\"6.25\" height=\"125.0\" opacity=\"0.0\" fill=\"currentColor\" stroke-width=\"0.1\"/>\n",
       "<rect x=\"243.75\" y=\"-250.0\" width=\"6.25\" height=\"125.0\" opacity=\"0.0\" fill=\"currentColor\" stroke-width=\"0.1\"/>\n",
       "</svg>\n",
       "</div>\n",
       "<div style=\"flex=grow:1;\">\n",
       "Regular(40, 30, 450, name='var', label='Lepton $p_T$ [GeV]')<br/>\n",
       "Boolean(name='from_W', label='from_W')<br/>\n",
       "<hr style=\"margin-top:.2em; margin-bottom:.2em;\"/>\n",
       "Double() Σ=117.63909025507877\n",
       "\n",
       "</div>\n",
       "</div>\n",
       "</html>"
      ],
      "text/plain": [
       "Hist(\n",
       "  Regular(40, 30, 450, name='var', label='Lepton $p_T$ [GeV]'),\n",
       "  Boolean(name='from_W', label='from_W'),\n",
       "  storage=Double()) # Sum: 117.63909025507877"
      ]
     },
     "execution_count": 94,
     "metadata": {},
     "output_type": "execute_result"
    }
   ],
   "source": [
    "year_ = \"2017\"\n",
    "ch_ = \"mu\"\n",
    "\n",
    "### get samples_to_plot\n",
    "samples_to_plot = [\"HWW\"]\n",
    "\n",
    "var = \"lep_pt\"\n",
    "\n",
    "# fill histograms\n",
    "h = hist2.Hist(\n",
    "    utils.axis_dict[var],\n",
    "    hist2.axis.Boolean(name=\"from_W\")        \n",
    ")\n",
    "\n",
    "for sample in samples_to_plot:\n",
    "    h.fill(\n",
    "        var=events_dict[year_][ch_][sample][var],\n",
    "        from_W=events_dict[year_][ch_][sample][\"fj_H_VV_isVlepton\"]==True,\n",
    "        weight=events_dict[year_][ch_][sample][\"event_weight\"]\n",
    "    )\n",
    "\n",
    "h       "
   ]
  },
  {
   "cell_type": "code",
   "execution_count": 95,
   "metadata": {},
   "outputs": [
    {
     "data": {
      "text/plain": [
       "Text(0, 1, 'Events')"
      ]
     },
     "execution_count": 95,
     "metadata": {},
     "output_type": "execute_result"
    },
    {
     "data": {
      "image/png": "[encoded data removed]",
      "text/plain": [
       "<Figure size 576x432 with 1 Axes>"
      ]
     },
     "metadata": {
      "needs_background": "light"
     },
     "output_type": "display_data"
    }
   ],
   "source": [
    "plt.rcParams.update({\"font.size\": 20})\n",
    "\n",
    "fig, ax = plt.subplots(figsize=(8, 6))\n",
    "\n",
    "# plot the signal (times 10)\n",
    "hep.histplot(\n",
    "    h[{\"from_W\": 1}],\n",
    "    ax=ax,\n",
    "    label=\"W\",\n",
    "    linewidth=3,\n",
    ")\n",
    "# plot the signal (times 10)\n",
    "hep.histplot(\n",
    "    h[{\"from_W\": 0}],\n",
    "    ax=ax,\n",
    "    label=\"W*\",\n",
    "    linewidth=3,\n",
    ")\n",
    "     \n",
    "ax.legend()\n",
    "ax.set_ylabel(\"Events\")"
   ]
  },
  {
   "cell_type": "code",
   "execution_count": null,
   "metadata": {},
   "outputs": [],
   "source": []
  },
  {
   "cell_type": "code",
   "execution_count": null,
   "metadata": {},
   "outputs": [],
   "source": []
  },
  {
   "cell_type": "code",
   "execution_count": 13,
   "metadata": {},
   "outputs": [
    {
     "data": {
      "text/html": [
       "<html>\n",
       "<div style=\"display:flex; align-items:center;\">\n",
       "<div style=\"width:290px;\">\n",
       "<svg xmlns=\"http://www.w3.org/2000/svg\" viewBox=\"-10 -105 270 120\">\n",
       "<line x1=\"-5\" y1=\"0\" x2=\"255\" y2=\"0\" style=\"fill:none;stroke-width:2;stroke:currentColor\"/>\n",
       "<text text-anchor=\"middle\" x=\"0\" y=\"15\" style=\"fill:currentColor;\">\n",
       "200\n",
       "</text>\n",
       "<text text-anchor=\"middle\" x=\"250\" y=\"15\" style=\"fill:currentColor;\">\n",
       "1e+03\n",
       "</text>\n",
       "<text text-anchor=\"middle\" x=\"125.0\" y=\"15\" style=\"fill:currentColor;\">\n",
       "Jet $p_T$ [GeV]\n",
       "</text>\n",
       "<polyline points=\"  0,0   0,-100 8.33333,-100 8.33333,-77.7 16.6667,-77.7 16.6667,-64.8  25,-64.8  25,-44.5 33.3333,-44.5 33.3333,-30.1 41.6667,-30.1 41.6667,-19.9  50,-19.9  50,-15 58.3333,-15 58.3333,-9.65 66.6667,-9.65 66.6667,-7.08  75,-7.08  75,-4.96 83.3333,-4.96 83.3333,-3.46 91.6667,-3.46 91.6667,-2.18 100,-2.18 100,-1.88 108.333,-1.88 108.333,-1.35 116.667,-1.35 116.667,-0.797 125,-0.797 125,-0.456 133.333,-0.456 133.333,-0.658 141.667,-0.658 141.667,-0.398 150,-0.398 150,-0.195 158.333,-0.195 158.333,-0.133 166.667,-0.133 166.667,-0.207 175,-0.207 175,-0.0515 183.333,-0.0515 183.333,-0.107 191.667,-0.107 191.667,-0.0249 200,-0.0249 200,-0.0188 208.333,-0.0188 208.333,-0.0529 216.667,-0.0529 216.667,-0.0523 225,-0.0523 225,-0 233.333,-0 233.333,-0.0514 241.667,-0.0514 241.667,-0 250,-0 250,0\" style=\"fill:none; stroke:currentColor;\"/>\n",
       "</svg>\n",
       "</div>\n",
       "<div style=\"flex=grow:1;\">\n",
       "Regular(30, 200, 1000, name='var', label='Jet $p_T$ [GeV]')<br/>\n",
       "<hr style=\"margin-top:.2em; margin-bottom:.2em;\"/>\n",
       "Double() Σ=117.63145146549547 <em>(117.63909025507881 with flow)</em>\n",
       "\n",
       "</div>\n",
       "</div>\n",
       "</html>"
      ],
      "text/plain": [
       "Hist(Regular(30, 200, 1000, name='var', label='Jet $p_T$ [GeV]'), storage=Double()) # Sum: 117.63145146549547 (117.63909025507881 with flow)"
      ]
     },
     "execution_count": 13,
     "metadata": {},
     "output_type": "execute_result"
    }
   ],
   "source": [
    "year_ = \"2017\"\n",
    "ch_ = \"mu\"\n",
    "\n",
    "### get vars_to_plot\n",
    "vars_to_plot = []\n",
    "for key, value in json_vars[ch_].items():\n",
    "    if value == 1:\n",
    "        vars_to_plot.append(key)    \n",
    "# \n",
    "### get samples_to_plot\n",
    "samples_to_plot = list(events_dict[year_][ch_].keys())\n",
    "# samples_to_plot = [\"GluGluHToWW\", \"QCD\", \"TTbar\"]\n",
    "\n",
    "# fill histograms\n",
    "hists = {}\n",
    "for var in vars_to_plot:\n",
    "\n",
    "    hists[var] = hist2.Hist(\n",
    "        hist2.axis.StrCategory([], name=\"samples\", growth=True),\n",
    "        utils.axis_dict[var],\n",
    "    )\n",
    "\n",
    "    for sample in samples_to_plot:\n",
    "        hists[var].fill(\n",
    "            samples=sample,\n",
    "            var=events_dict[year_][ch_][sample][var],\n",
    "            weight=events_dict[year_][ch_][sample][\"event_weight\"]\n",
    "        )\n",
    "\n",
    "hists[\"fj_pt\"][{\"samples\": \"HWW\"}]        "
   ]
  },
  {
   "cell_type": "code",
   "execution_count": null,
   "metadata": {},
   "outputs": [],
   "source": [
    "year_ = \"2017\"\n",
    "ch_ = \"mu\"\n",
    "\n",
    "### get vars_to_plot\n",
    "vars_to_plot = []\n",
    "for key, value in json_vars[ch_].items():\n",
    "    if value == 1:\n",
    "        vars_to_plot.append(key)    \n",
    "# \n",
    "### get samples_to_plot\n",
    "samples_to_plot = list(events_dict[year_][ch_].keys())\n",
    "# samples_to_plot = [\"GluGluHToWW\", \"QCD\", \"TTbar\"]\n",
    "\n",
    "# fill histograms\n",
    "hists = {}\n",
    "for var in vars_to_plot:\n",
    "\n",
    "    hists[var] = hist2.Hist(\n",
    "        hist2.axis.StrCategory([], name=\"samples\", growth=True),\n",
    "        utils.axis_dict[var],\n",
    "    )\n",
    "\n",
    "    for sample in samples_to_plot:\n",
    "        hists[var].fill(\n",
    "            samples=sample,\n",
    "            var=events_dict[year_][ch_][sample][var],\n",
    "            weight=events_dict[year_][ch_][sample][\"event_weight\"]\n",
    "        )\n",
    "\n",
    "hists[\"fj_pt\"][{\"samples\": \"HWW\"}]        "
   ]
  },
  {
   "cell_type": "code",
   "execution_count": null,
   "metadata": {},
   "outputs": [],
   "source": []
  },
  {
   "cell_type": "code",
   "execution_count": null,
   "metadata": {},
   "outputs": [],
   "source": []
  },
  {
   "cell_type": "code",
   "execution_count": null,
   "metadata": {},
   "outputs": [],
   "source": []
  },
  {
   "cell_type": "code",
   "execution_count": 14,
   "metadata": {
    "scrolled": false
   },
   "outputs": [],
   "source": [
    "def plot_hists(hists, vars_to_plot, add_data = True, logy = True, add_soverb = True, only_sig = False):\n",
    "    # data label\n",
    "    data_label = data_by_ch[ch]\n",
    "    if year == \"2018\":\n",
    "        data_label = data_by_ch_2018[ch]\n",
    "\n",
    "    # luminosity\n",
    "    with open(\"../fileset/luminosity.json\") as f:\n",
    "        luminosity = json.load(f)[ch_][year_]\n",
    "        luminosity = luminosity / 1000.0\n",
    "\n",
    "    #     if year_ == \"Run2\":\n",
    "    #         data_label = \"Data\"\n",
    "\n",
    "    for var in vars_to_plot:\n",
    "        if var not in hists.keys():\n",
    "            print(f\"{var} not stored in hists\")\n",
    "            continue\n",
    "\n",
    "        print(f\"Will plot {var} histogram\")\n",
    "\n",
    "        # get histograms\n",
    "        h = hists[var]\n",
    "\n",
    "        if (h.shape[0] == 0):  # skip empty histograms (such as lepton_pt for hadronic channel)\n",
    "            print(\"Empty histogram \", var)\n",
    "            continue\n",
    "\n",
    "        # get samples existing in histogram\n",
    "        samples = [h.axes[0].value(i) for i in range(len(h.axes[0].edges))]\n",
    "        signal_labels = [label for label in samples if label in signal_by_ch[ch]]\n",
    "        bkg_labels = [\n",
    "            label\n",
    "            for label in samples\n",
    "            if (label and label != data_label and label not in signal_labels)\n",
    "        ]\n",
    "\n",
    "        # get total yield of backgrounds per label\n",
    "        # (sort by yield in fixed fj_pt histogram after pre-sel)        \n",
    "        order_dic = {}\n",
    "        for bkg_label in bkg_labels:\n",
    "            if \"fj_pt\" in hists.keys():\n",
    "                order_dic[plot_labels[bkg_label]] = hists[\"fj_pt\"][{\"samples\": bkg_label}].sum()\n",
    "            else:\n",
    "                order_dic[plot_labels[bkg_label]] = hists[var][{\"samples\": bkg_label}].sum()\n",
    "            \n",
    "        # data\n",
    "        data = None\n",
    "        if data_label in h.axes[0]:\n",
    "            data = h[{\"samples\": data_label}]\n",
    "\n",
    "        # signal\n",
    "        signal = [h[{\"samples\": label}] for label in signal_labels]\n",
    "        # scale signal for non-log plots\n",
    "        if logy:\n",
    "            mult_factor = 1\n",
    "        else:\n",
    "            mult_factor = 100\n",
    "        signal_mult = [s * mult_factor for s in signal]\n",
    "\n",
    "        # background\n",
    "        bkg = [h[{\"samples\": label}] for label in bkg_labels]\n",
    "\n",
    "        if add_data and data and len(bkg) > 0:\n",
    "            if add_soverb and len(signal) > 0:\n",
    "                fig, (ax, rax, sax) = plt.subplots(\n",
    "                    nrows=3,\n",
    "                    ncols=1,\n",
    "                    figsize=(8, 8),\n",
    "                    gridspec_kw={\"height_ratios\": (4, 1, 1), \"hspace\": 0.07},\n",
    "                    sharex=True,\n",
    "                )\n",
    "            else:\n",
    "                fig, (ax, rax) = plt.subplots(\n",
    "                    nrows=2,\n",
    "                    ncols=1,\n",
    "                    figsize=(8, 8),\n",
    "                    gridspec_kw={\"height_ratios\": (4, 1), \"hspace\": 0.07},\n",
    "                    sharex=True,\n",
    "                )\n",
    "                sax = None\n",
    "        else:\n",
    "            if add_soverb and len(signal) > 0:\n",
    "                fig, (ax, sax) = plt.subplots(\n",
    "                    nrows=2,\n",
    "                    ncols=1,\n",
    "                    figsize=(8, 8),\n",
    "                    gridspec_kw={\"height_ratios\": (4, 1), \"hspace\": 0.07},\n",
    "                    sharex=True,\n",
    "                )\n",
    "                rax = None\n",
    "            else:\n",
    "                fig, ax = plt.subplots(1, 1)\n",
    "                rax = None\n",
    "                sax = None\n",
    "\n",
    "        errps = {\n",
    "            \"hatch\": \"////\",\n",
    "            \"facecolor\": \"none\",\n",
    "            \"lw\": 0,\n",
    "            \"color\": \"k\",\n",
    "            \"edgecolor\": (0, 0, 0, 0.5),\n",
    "            \"linewidth\": 0,\n",
    "            \"alpha\": 0.4,\n",
    "        }\n",
    "\n",
    "        # sum all of the background\n",
    "        if len(bkg) > 0:\n",
    "            tot = bkg[0].copy()\n",
    "            for i, b in enumerate(bkg):\n",
    "                if i > 0:\n",
    "                    tot = tot + b\n",
    "\n",
    "            tot_val = tot.values()\n",
    "            tot_val_zero_mask = tot_val == 0\n",
    "            tot_val[tot_val_zero_mask] = 1\n",
    "\n",
    "            tot_err = np.sqrt(tot_val)\n",
    "            tot_err[tot_val_zero_mask] = 0\n",
    "\n",
    "            # print(f'Background yield: ',tot_val,np.sum(tot_val))\n",
    "\n",
    "        if add_data and data:\n",
    "            data_err_opts = {\n",
    "                \"linestyle\": \"none\",\n",
    "                \"marker\": \".\",\n",
    "                \"markersize\": 10.0,\n",
    "                \"elinewidth\": 1,\n",
    "            }\n",
    "            hep.histplot(\n",
    "                data,\n",
    "                ax=ax,\n",
    "                histtype=\"errorbar\",\n",
    "                color=\"k\",\n",
    "                capsize=4,\n",
    "                yerr=True,\n",
    "                label=data_label,\n",
    "                **data_err_opts,\n",
    "            )\n",
    "\n",
    "            if len(bkg) > 0:\n",
    "                from hist.intervals import ratio_uncertainty\n",
    "\n",
    "                data_val = data.values()\n",
    "                data_val[tot_val_zero_mask] = 1\n",
    "\n",
    "                yerr = ratio_uncertainty(data_val, tot_val, \"poisson\")\n",
    "\n",
    "                hep.histplot(\n",
    "                    data_val / tot_val,\n",
    "                    tot.axes[0].edges,\n",
    "                    # yerr=np.sqrt(data_val) / tot_val,\n",
    "                    yerr=yerr,\n",
    "                    ax=rax,\n",
    "                    histtype=\"errorbar\",\n",
    "                    color=\"k\",\n",
    "                    capsize=4,\n",
    "                )\n",
    "\n",
    "                rax.axhline(1, ls=\"--\", color=\"k\")\n",
    "                rax.set_ylim(0.2, 1.8)\n",
    "                # rax.set_ylim(0.7, 1.3)\n",
    "\n",
    "        # plot the background\n",
    "        if len(bkg) > 0 and not only_sig:\n",
    "            hep.histplot(\n",
    "                bkg,\n",
    "                ax=ax,\n",
    "                stack=True,\n",
    "                sort=\"yield\",\n",
    "                edgecolor=\"black\",\n",
    "                linewidth=1,\n",
    "                histtype=\"fill\",\n",
    "                label=[plot_labels[bkg_label] for bkg_label in bkg_labels],\n",
    "                color=[color_by_sample[bkg_label] for bkg_label in bkg_labels],\n",
    "            )\n",
    "            ax.stairs(\n",
    "                values=tot.values() + tot_err,\n",
    "                baseline=tot.values() - tot_err,\n",
    "                edges=tot.axes[0].edges,\n",
    "                **errps,\n",
    "                label=\"Stat. unc.\",\n",
    "            )\n",
    "\n",
    "        # plot the signal (times 10)\n",
    "        if len(signal) > 0:\n",
    "            tot_signal = None\n",
    "            for i, sig in enumerate(signal_mult):\n",
    "                lab_sig_mult = f\"{mult_factor} * {plot_labels[signal_labels[i]]}\"\n",
    "                if mult_factor == 1:\n",
    "                    lab_sig_mult = f\"{plot_labels[signal_labels[i]]}\"\n",
    "                hep.histplot(\n",
    "                    sig,\n",
    "                    ax=ax,\n",
    "                    label=lab_sig_mult,\n",
    "                    linewidth=3,\n",
    "                    color=color_by_sample[signal_labels[i]],\n",
    "                )\n",
    "\n",
    "                if tot_signal == None:\n",
    "                    tot_signal = signal[i].copy()\n",
    "                else:\n",
    "                    tot_signal = tot_signal + signal[i]\n",
    "\n",
    "            # plot the total signal (w/o scaling)\n",
    "            hep.histplot(\n",
    "                tot_signal, ax=ax, label=f\"ggF+VBF+VH+ttH\", linewidth=3, color=\"tab:red\"\n",
    "            )\n",
    "            # add MC stat errors\n",
    "            ax.stairs(\n",
    "                values=tot_signal.values() + np.sqrt(tot_signal.values()),\n",
    "                baseline=tot_signal.values() - np.sqrt(tot_signal.values()),\n",
    "                edges=sig.axes[0].edges,\n",
    "                **errps,\n",
    "            )\n",
    "\n",
    "            if sax is not None:\n",
    "                totsignal_val = tot_signal.values()\n",
    "                # replace values where bkg is 0\n",
    "                totsignal_val[tot_val == 0] = 0\n",
    "                soverb_val = totsignal_val / np.sqrt(tot_val)\n",
    "                hep.histplot(\n",
    "                    soverb_val,\n",
    "                    tot_signal.axes[0].edges,\n",
    "                    label=\"Total Signal\",\n",
    "                    ax=sax,\n",
    "                    linewidth=3,\n",
    "                    color=\"tab:red\",\n",
    "                )\n",
    "\n",
    "                # integrate soverb in a given range for lep_fj_m (which, intentionally, is the first variable we pass)\n",
    "                if var == \"lep_fj_m\":\n",
    "                    bin_array = tot_signal.axes[0].edges[\n",
    "                        :-1\n",
    "                    ]  # remove last element since bins have one extra element\n",
    "                    range_max = 150\n",
    "                    range_min = 0\n",
    "\n",
    "                    condition = (bin_array >= range_min) & (bin_array <= range_max)\n",
    "\n",
    "                    s = totsignal_val[\n",
    "                        condition\n",
    "                    ].sum()  # sum/integrate signal counts in the range\n",
    "                    b = np.sqrt(\n",
    "                        tot_val[condition].sum()\n",
    "                    )  # sum/integrate bkg counts in the range and take sqrt\n",
    "\n",
    "                    soverb_integrated = round((s / b).item(), 2)\n",
    "                    sax.legend(title=f\"S/sqrt(B) (in 0-150)={soverb_integrated}\")\n",
    "\n",
    "        ax.set_ylabel(\"Events\")\n",
    "        if sax is not None:\n",
    "            ax.set_xlabel(\"\")\n",
    "            if rax is not None:\n",
    "                rax.set_xlabel(\"\")\n",
    "                rax.set_ylabel(\"Data/MC\", fontsize=20)\n",
    "            sax.set_ylabel(r\"S/$\\sqrt{B}$\", fontsize=20)\n",
    "#             sax.set_xlabel(f\"{utils.axis_dict[var].label}\")\n",
    "            sax.set_xlabel(f\"{h.axes[-1].label}\")   # assumes the variable to be plotted is at the last axis\n",
    "            \n",
    "        elif rax is not None:\n",
    "            ax.set_xlabel(\"\")\n",
    "#             rax.set_xlabel(f\"{utils.axis_dict[var].label}\")\n",
    "            rax.set_xlabel(f\"{h.axes[-1].label}\")    # assumes the variable to be plotted is at the last axis\n",
    "            \n",
    "            rax.set_ylabel(\"Data/MC\", fontsize=20)\n",
    "\n",
    "        # get handles and labels of legend\n",
    "        handles, labels = ax.get_legend_handles_labels()\n",
    "\n",
    "        # append legend labels in order to a list\n",
    "        summ = []\n",
    "        for label in labels[: len(bkg_labels)]:\n",
    "            summ.append(order_dic[label])\n",
    "        # get indices of labels arranged by yield\n",
    "        order = []\n",
    "        for i in range(len(summ)):\n",
    "            order.append(np.argmax(np.array(summ)))\n",
    "            summ[np.argmax(np.array(summ))] = -100\n",
    "\n",
    "        # plot data first, then bkg, then signal\n",
    "        hand = [handles[-1]] + [handles[i] for i in order] + handles[len(bkg) : -1]\n",
    "        lab = [labels[-1]] + [labels[i] for i in order] + labels[len(bkg) : -1]\n",
    "\n",
    "        ax.legend(\n",
    "            [hand[idx] for idx in range(len(hand))],\n",
    "            [lab[idx] for idx in range(len(lab))],\n",
    "            bbox_to_anchor=(1.05, 1),\n",
    "            loc=\"upper left\",\n",
    "            title=f\"{label_by_ch[ch]} Channel\",\n",
    "        )\n",
    "\n",
    "        if logy:\n",
    "            ax.set_yscale(\"log\")\n",
    "            ax.set_ylim(10)\n",
    "\n",
    "        hep.cms.lumitext(\n",
    "            \"%.1f \" % luminosity + r\"fb$^{-1}$ (13 TeV)\", ax=ax, fontsize=20\n",
    "        )\n",
    "        hep.cms.text(\"Work in Progress\", ax=ax, fontsize=15)"
   ]
  },
  {
   "cell_type": "code",
   "execution_count": 15,
   "metadata": {
    "scrolled": false
   },
   "outputs": [
    {
     "name": "stdout",
     "output_type": "stream",
     "text": [
      "Will plot lep_fj_m histogram\n",
      "Will plot fj_pt histogram\n"
     ]
    },
    {
     "data": {
      "image/png": "[encoded data removed]",
      "text/plain": [
       "<Figure size 576x576 with 3 Axes>"
      ]
     },
     "metadata": {
      "needs_background": "light"
     },
     "output_type": "display_data"
    },
    {
     "data": {
      "image/png": "[encoded data removed]",
      "text/plain": [
       "<Figure size 576x576 with 3 Axes>"
      ]
     },
     "metadata": {
      "needs_background": "light"
     },
     "output_type": "display_data"
    }
   ],
   "source": [
    "plot_hists(hists, vars_to_plot, add_data = True, logy = True, add_soverb = True, only_sig = False)"
   ]
  },
  {
   "cell_type": "markdown",
   "metadata": {},
   "source": [
    "# Make ROCs"
   ]
  },
  {
   "cell_type": "code",
   "execution_count": 16,
   "metadata": {},
   "outputs": [],
   "source": [
    "labels = {\n",
    "    \"label_H_WqqWqq_0c\": \"( (fj_H_VV_4q==1) & (fj_nprongs==4) & (fj_ncquarks==0) )\",\n",
    "    \"label_H_WqqWqq_1c\": \"( (fj_H_VV_4q==1) & (fj_nprongs==4) & (fj_ncquarks==1) )\",\n",
    "    \"label_H_WqqWqq_2c\": \"( (fj_H_VV_4q==1) & (fj_nprongs==4) & (fj_ncquarks==2) )\",\n",
    "    \"label_H_WqqWq_0c\": \"( (fj_H_VV_4q==1) & (fj_nprongs==3) & (fj_ncquarks==0) )\",\n",
    "    \"label_H_WqqWq_1c\": \"( (fj_H_VV_4q==1) & (fj_nprongs==3) & (fj_ncquarks==1) )\",\n",
    "    \"label_H_WqqWq_2c\": \"( (fj_H_VV_4q==1) & (fj_nprongs==3) & (fj_ncquarks==2) )\",\n",
    "    \"label_H_WW2lep\": \"(fj_lepinprongs==2)\",\n",
    "    \"label_H_WW0lep\": \"(fj_lepinprongs==0)\",\n",
    "    \"label_H_WqWev\": \"(fj_H_VV_elenuqq==1) & (fj_nprongs==1) & (fj_lepinprongs==1)\",\n",
    "    \"label_H_WqWmv\": \"(fj_H_VV_munuqq==1) & (fj_nprongs==1) & (fj_lepinprongs==1)\",\n",
    "    \"label_H_WqqWev_0c\": \"( (fj_H_VV_elenuqq==1) & (fj_nprongs>=2) & (fj_ncquarks==0) )\",\n",
    "    \"label_H_WqqWev_1c\": \"( (fj_H_VV_elenuqq==1) & (fj_nprongs>=2) & (fj_ncquarks==1) )\",\n",
    "    \"label_H_WqqWmv_0c\": \"( (fj_H_VV_munuqq==1) & (fj_nprongs>=2) & (fj_ncquarks==0) )\",\n",
    "    \"label_H_WqqWmv_1c\": \"( (fj_H_VV_munuqq==1) & (fj_nprongs>=2) & (fj_ncquarks==1) )\",\n",
    "    \"label_H_WqqWtauev_0c\": \"( (fj_H_VV_leptauelvqq==1) & (fj_nprongs>=2) & (fj_ncquarks==0) )\",\n",
    "    \"label_H_WqqWtauev_1c\": \"( (fj_H_VV_leptauelvqq==1) & (fj_nprongs>=2) & (fj_ncquarks==1) )\",\n",
    "    \"label_H_WqqWtaumv_0c\": \"( (fj_H_VV_leptaumuvqq==1) & (fj_nprongs>=2) & (fj_ncquarks==0) )\",\n",
    "    \"label_H_WqqWtaumv_1c\": \"( (fj_H_VV_leptaumuvqq==1) & (fj_nprongs>=2) & (fj_ncquarks==1) )\",\n",
    "    \"label_H_WqqWtauhv_0c\": \"( (fj_H_VV_hadtauvqq==1) & (fj_nprongs>=2) & (fj_ncquarks==0) )\",\n",
    "    \"label_H_WqqWtauhv_1c\": \"( (fj_H_VV_hadtauvqq==1) & (fj_nprongs>=2) & (fj_ncquarks==1) )\",\n",
    "    \n",
    "    \"label_Top_nob\": \"(fj_Top_bmerged==0)\",\n",
    "    \"label_Top_bWqq_0c\": \"( (fj_Top_2q==1) & (fj_nprongs == 2)  & (fj_Top_bmerged==1) & (fj_ncquarks==0) )\",\n",
    "    \"label_Top_bWqq_1c\": \"( (fj_Top_2q==1) & (fj_nprongs == 2) & (fj_Top_bmerged==1) & (fj_ncquarks==1) )\",\n",
    "    \"label_Top_bWq_0c\": \"( (fj_Top_2q==1) & (fj_nprongs == 1) & (fj_Top_bmerged==1) & (fj_ncquarks==0) )\",\n",
    "    \"label_Top_bWq_1c\": \"( (fj_Top_2q==1) & (fj_nprongs == 1) & (fj_Top_bmerged==1) & (fj_ncquarks==1) )\",\n",
    "    \"label_Top_bWev\": \"( (fj_Top_elenu==1) & (fj_Top_bmerged==1) )\",\n",
    "    \"label_Top_bWmv\": \"( (fj_Top_munu==1) & (fj_Top_bmerged==1) )\",\n",
    "    \"label_Top_bWtauhv\": \"( (fj_Top_hadtauvqq==1) & (fj_Top_bmerged==1) )\",\n",
    "    \"label_Top_bWtauev\": \"( (fj_Top_leptauelvnu==1) & (fj_Top_bmerged==1) )\",\n",
    "    \"label_Top_bWtaumv\": \"( (fj_Top_leptaumuvnu==1) & (fj_Top_bmerged==1) )\",\n",
    "    \n",
    "    \"label_W_ev\": \"(fj_V_elenu==1) & (fj_lepinprongs==1)\",\n",
    "    \"label_W_ev_0lep\": \"(fj_V_elenu==1) & (fj_lepinprongs==0)\",\n",
    "    \"label_W_mv\": \"(fj_V_munu==1) & (fj_lepinprongs==1)\",\n",
    "    \"label_W_mv_0lep\": \"(fj_V_munu==1) & (fj_lepinprongs==0)\",\n",
    "    \"label_W_tauv\": \"(fj_V_taunu==1) & (fj_lepinprongs==1)\",\n",
    "    \"label_W_tauv_0lep\": \"(fj_V_taunu==1) & (fj_lepinprongs==0)\",\n",
    "    \"label_Z_2lep\": \"(fj_lepinprongs==2)\",\n",
    "    \"label_Z_1lep\": \"(fj_lepinprongs==1)\",\n",
    "}\n",
    "\n",
    "match_labels = {\n",
    "    \"HWW\": \"fj_H_VV_isMatched\",\n",
    "    \"TTbar\": \"fj_Top_isMatched\",\n",
    "    \"SingleTop\": \"fj_Top_isMatched\",    \n",
    "    \"WJetsLNu\": \"fj_V_isMatched\",\n",
    "    \"DYJets\": \"fj_V_isMatched\",\n",
    "}"
   ]
  },
  {
   "cell_type": "code",
   "execution_count": 17,
   "metadata": {},
   "outputs": [
    {
     "name": "stdout",
     "output_type": "stream",
     "text": [
      "0-40.pkl          0-40_mu.parquet   40-80_ele.parquet\r\n",
      "0-40_ele.parquet  40-80.pkl         40-80_mu.parquet\r\n"
     ]
    }
   ],
   "source": [
    "! ls ../Jan20_2017/ST_tW_top_5f_inclusiveDecays/outfiles"
   ]
  },
  {
   "cell_type": "code",
   "execution_count": 18,
   "metadata": {
    "scrolled": false
   },
   "outputs": [
    {
     "name": "stdout",
     "output_type": "stream",
     "text": [
      "met\n",
      "ht\n",
      "nfj\n",
      "nj\n",
      "deta\n",
      "mjj\n",
      "weight\n",
      "weight_genweight\n",
      "weight_L1Prefiring\n",
      "weight_pileup\n",
      "mu_mvaId\n",
      "mu_highPtId\n",
      "weight_trigger_iso_muon\n",
      "weight_trigger_noniso_muon\n",
      "weight_isolation_muon\n",
      "weight_id_muon\n",
      "weight_mu\n",
      "fj_pt\n",
      "fj_msoftdrop\n",
      "fj_bjets_ophem\n",
      "fj_bjets\n",
      "lep_pt\n",
      "lep_isolation\n",
      "lep_misolation\n",
      "lep_fj_m\n",
      "lep_fj_dr\n",
      "lep_met_mt\n",
      "met_fj_dphi\n",
      "rec_higgs_m\n",
      "fj_PN_v2_noreg_label_H_WqqWqq_0c\n",
      "fj_PN_v2_noreg_label_H_WqqWqq_1c\n",
      "fj_PN_v2_noreg_label_H_WqqWqq_2c\n",
      "fj_PN_v2_noreg_label_H_WqqWq_0c\n",
      "fj_PN_v2_noreg_label_H_WqqWq_1c\n",
      "fj_PN_v2_noreg_label_H_WqqWq_2c\n",
      "fj_PN_v2_noreg_label_H_WqqWev_0c\n",
      "fj_PN_v2_noreg_label_H_WqqWev_1c\n",
      "fj_PN_v2_noreg_label_H_WqqWmv_0c\n",
      "fj_PN_v2_noreg_label_H_WqqWmv_1c\n",
      "fj_PN_v2_noreg_label_H_WqqWtauev_0c\n",
      "fj_PN_v2_noreg_label_H_WqqWtauev_1c\n",
      "fj_PN_v2_noreg_label_H_WqqWtaumv_0c\n",
      "fj_PN_v2_noreg_label_H_WqqWtaumv_1c\n",
      "fj_PN_v2_noreg_label_H_WqqWtauhv_0c\n",
      "fj_PN_v2_noreg_label_H_WqqWtauhv_1c\n",
      "fj_PN_v2_noreg_label_H_bb\n",
      "fj_PN_v2_noreg_label_H_cc\n",
      "fj_PN_v2_noreg_label_H_ss\n",
      "fj_PN_v2_noreg_label_H_qq\n",
      "fj_PN_v2_noreg_label_H_tauhtaue\n",
      "fj_PN_v2_noreg_label_H_tauhtaum\n",
      "fj_PN_v2_noreg_label_H_tauhtauh\n",
      "fj_PN_v2_noreg_label_QCD_bb\n",
      "fj_PN_v2_noreg_label_QCD_cc\n",
      "fj_PN_v2_noreg_label_QCD_b\n",
      "fj_PN_v2_noreg_label_QCD_c\n",
      "fj_PN_v2_noreg_label_QCD_others\n",
      "fj_PN_v2_noreg_label_Top_bWqq_0c\n",
      "fj_PN_v2_noreg_label_Top_bWqq_1c\n",
      "fj_PN_v2_noreg_label_Top_bWq_0c\n",
      "fj_PN_v2_noreg_label_Top_bWq_1c\n",
      "fj_PN_v2_noreg_label_Top_bWev\n",
      "fj_PN_v2_noreg_label_Top_bWmv\n",
      "fj_PN_v2_noreg_label_Top_bWtauhv\n",
      "fj_PN_v2_noreg_label_Top_bWtauev\n",
      "fj_PN_v2_noreg_label_Top_bWtaumv\n",
      "fj_PN_v2_noreg_probQCD\n",
      "fj_PN_v2_noreg_probTopb\n",
      "fj_PN_v2_noreg_probHWWelenuqq\n",
      "fj_PN_v2_noreg_probHWWmunuqq\n",
      "fj_ParT_label_H_WqqWqq_0c\n",
      "fj_ParT_label_H_WqqWqq_1c\n",
      "fj_ParT_label_H_WqqWqq_2c\n",
      "fj_ParT_label_H_WqqWq_0c\n",
      "fj_ParT_label_H_WqqWq_1c\n",
      "fj_ParT_label_H_WqqWq_2c\n",
      "fj_ParT_label_H_WqqWev_0c\n",
      "fj_ParT_label_H_WqqWev_1c\n",
      "fj_ParT_label_H_WqqWmv_0c\n",
      "fj_ParT_label_H_WqqWmv_1c\n",
      "fj_ParT_label_H_WqqWtauev_0c\n",
      "fj_ParT_label_H_WqqWtauev_1c\n",
      "fj_ParT_label_H_WqqWtaumv_0c\n",
      "fj_ParT_label_H_WqqWtaumv_1c\n",
      "fj_ParT_label_H_WqqWtauhv_0c\n",
      "fj_ParT_label_H_WqqWtauhv_1c\n",
      "fj_ParT_label_H_bb\n",
      "fj_ParT_label_H_cc\n",
      "fj_ParT_label_H_ss\n",
      "fj_ParT_label_H_qq\n",
      "fj_ParT_label_H_tauhtaue\n",
      "fj_ParT_label_H_tauhtaum\n",
      "fj_ParT_label_H_tauhtauh\n",
      "fj_ParT_label_QCD_bb\n",
      "fj_ParT_label_QCD_cc\n",
      "fj_ParT_label_QCD_b\n",
      "fj_ParT_label_QCD_c\n",
      "fj_ParT_label_QCD_others\n",
      "fj_ParT_label_Top_bWqq_0c\n",
      "fj_ParT_label_Top_bWqq_1c\n",
      "fj_ParT_label_Top_bWq_0c\n",
      "fj_ParT_label_Top_bWq_1c\n",
      "fj_ParT_label_Top_bWev\n",
      "fj_ParT_label_Top_bWmv\n",
      "fj_ParT_label_Top_bWtauhv\n",
      "fj_ParT_label_Top_bWtauev\n",
      "fj_ParT_label_Top_bWtaumv\n",
      "fj_ParT_probQCD\n",
      "fj_ParT_probTopb\n",
      "fj_ParT_probHWWelenuqq\n",
      "fj_ParT_probHWWmunuqq\n"
     ]
    }
   ],
   "source": [
    "for key in pd.read_parquet(\"../Jan20_2017/ST_tW_top_5f_inclusiveDecays/outfiles/0-40_mu.parquet\").keys():\n",
    "    print(key)"
   ]
  },
  {
   "cell_type": "code",
   "execution_count": 186,
   "metadata": {},
   "outputs": [],
   "source": [
    "parquet_ = pd.read_parquet(\"../Jan20_2017/ST_tW_top_5f_inclusiveDecays/outfiles/0-40_mu.parquet\")"
   ]
  },
  {
   "cell_type": "code",
   "execution_count": 187,
   "metadata": {},
   "outputs": [
    {
     "data": {
      "text/plain": [
       "0       6.873051e-07\n",
       "1       4.391137e-07\n",
       "2       1.426583e-05\n",
       "3       4.245653e-09\n",
       "4       1.201481e-06\n",
       "            ...     \n",
       "5924    1.011735e-09\n",
       "5925    5.804543e-06\n",
       "5926    2.813280e-09\n",
       "5927    7.215647e-08\n",
       "5928    1.823785e-06\n",
       "Name: fj_ParT_probHWWelenuqq, Length: 5929, dtype: float32"
      ]
     },
     "execution_count": 187,
     "metadata": {},
     "output_type": "execute_result"
    }
   ],
   "source": [
    "parquet_[\"fj_ParT_probHWWelenuqq\"]"
   ]
  },
  {
   "cell_type": "code",
   "execution_count": 188,
   "metadata": {},
   "outputs": [
    {
     "data": {
      "text/plain": [
       "0       7.123039e-07\n",
       "1       1.721975e-06\n",
       "2       2.505293e-05\n",
       "3       7.090472e-09\n",
       "4       2.655325e-06\n",
       "            ...     \n",
       "5924    1.080135e-09\n",
       "5925    5.818833e-06\n",
       "5926    3.928466e-09\n",
       "5927    7.362520e-08\n",
       "5928    2.221507e-06\n",
       "Length: 5929, dtype: float32"
      ]
     },
     "execution_count": 188,
     "metadata": {},
     "output_type": "execute_result"
    }
   ],
   "source": [
    "parquet_[\"fj_ParT_label_H_WqqWev_0c\"] + s[\"fj_ParT_label_H_WqqWev_1c\"]"
   ]
  },
  {
   "cell_type": "code",
   "execution_count": 189,
   "metadata": {},
   "outputs": [
    {
     "data": {
      "text/plain": [
       "0       6.873051e-07\n",
       "1       4.391137e-07\n",
       "2       1.426583e-05\n",
       "3       4.245653e-09\n",
       "4       1.201481e-06\n",
       "            ...     \n",
       "5924    1.011735e-09\n",
       "5925    5.804543e-06\n",
       "5926    2.813280e-09\n",
       "5927    7.215647e-08\n",
       "5928    1.823785e-06\n",
       "Name: fj_ParT_label_H_WqqWev_1c, Length: 5929, dtype: float32"
      ]
     },
     "execution_count": 189,
     "metadata": {},
     "output_type": "execute_result"
    }
   ],
   "source": [
    "parquet_[\"fj_ParT_label_H_WqqWev_1c\"]"
   ]
  },
  {
   "cell_type": "code",
   "execution_count": 19,
   "metadata": {},
   "outputs": [],
   "source": [
    "# aesthetics\n",
    "nicex_scores = {\n",
    "    \"hww_vs_qcd\": r\"$\\frac{H_{WqqW(\\ell\\tau)\\nu}}{H_{WqqW(e\\tau)\\nu}+QCD}$\",\n",
    "    \"hww_vs_top\": r\"$\\frac{H_{WqqW(\\ell\\tau)\\nu}}{H_{WqqW(e\\tau)\\nu}+Top_{bW(\\ell\\tau\\nu)}}$\",\n",
    "}\n",
    "\n",
    "nice_channel = {\n",
    "    \"mu\": \"Muon\",\n",
    "    \"ele\": \"Electron\"\n",
    "}\n",
    "\n",
    "import matplotlib.colors as mcolors\n",
    "color_by_label = {}\n",
    "for i,label in enumerate(labels):\n",
    "    color_by_label[label] = list(mcolors.TABLEAU_COLORS.values())[i%10]\n",
    "\n",
    "color_by_label[\"unmatched\"] = \"r\""
   ]
  },
  {
   "cell_type": "code",
   "execution_count": 20,
   "metadata": {},
   "outputs": [],
   "source": [
    "# labels to check per sample\n",
    "labels_per_sample = {\n",
    "    \"ele\": {\n",
    "        \"TTbar\": [\n",
    "            \"label_Top_bWev\",\n",
    "            \"label_Top_bWtauev\",\n",
    "            \"label_Top_nob\",\n",
    "        ],    \n",
    "        \"HWW\": [\n",
    "            \"label_H_WqqWev_0c\",\"label_H_WqqWev_1c\",\n",
    "        ],\n",
    "        \"WJetsLNu\": [\n",
    "            \"label_W_ev\",#\"label_W_ev_0lep\",\n",
    "            \"label_W_tauv\",#\"label_W_tauv_0lep\",\n",
    "        ],\n",
    "#         \"DYJets\": [\n",
    "#             \"label_Z_2lep\",\n",
    "#             \"label_Z_1lep\",\n",
    "#         ],\n",
    "        \"QCD\": [],\n",
    "    },\n",
    "    \"mu\": {\n",
    "        \"TTbar\": [\n",
    "            \"label_Top_bWmv\",\n",
    "            \"label_Top_bWtaumv\",\n",
    "            \"label_Top_nob\",\n",
    "        ],\n",
    "        \"SingleTop\": [\n",
    "            \"label_Top_bWev\",\n",
    "            \"label_Top_bWtauev\",\n",
    "            \"label_Top_nob\",\n",
    "        ],            \n",
    "        \"HWW\": [\n",
    "            \"label_H_WqqWmv_0c\",\"label_H_WqqWmv_1c\",\n",
    "            \"label_H_WqqWtaumv_0c\",\"label_H_WqqWtaumv_1c\",\n",
    "        ], \n",
    "        \"WJetsLNu\": [\n",
    "            \"label_W_mv\",#\"label_W_mv_0lep\",\n",
    "            \"label_W_tauv\",#\"label_W_tauv_0lep\",\n",
    "        ],\n",
    "#         \"DYJets\": [\n",
    "#             \"label_Z_2lep\",\n",
    "#             \"label_Z_1lep\",\n",
    "#         ],\n",
    "        \"QCD\": [],\n",
    "        }\n",
    "}"
   ]
  },
  {
   "cell_type": "code",
   "execution_count": 21,
   "metadata": {},
   "outputs": [
    {
     "name": "stdout",
     "output_type": "stream",
     "text": [
      "Finding TTToSemiLeptonic samples and should combine them under TTbar\n",
      "Finding GluGluHToWW_Pt-200ToInf_M-125 samples and should combine them under HWW\n",
      "Finding QCD_Pt_3200toInf samples and should combine them under QCD\n",
      "Finding QCD_Pt_1800to2400 samples and should combine them under QCD\n",
      "Finding TTTo2L2Nu samples and should combine them under TTbar\n",
      "Finding QCD_Pt_2400to3200 samples and should combine them under QCD\n",
      "Finding TTToHadronic samples and should combine them under TTbar\n",
      "Finding QCD_Pt_1000to1400 samples and should combine them under QCD\n",
      "Finding QCD_Pt_600to800 samples and should combine them under QCD\n",
      "Finding QCD_Pt_300to470 samples and should combine them under QCD\n",
      "Finding QCD_Pt_170to300 samples and should combine them under QCD\n",
      "Finding QCD_Pt_800to1000 samples and should combine them under QCD\n",
      "Finding QCD_Pt_470to600 samples and should combine them under QCD\n",
      "Finding QCD_Pt_1400to1800 samples and should combine them under QCD\n",
      "Finding TTToSemiLeptonic samples and should combine them under TTbar\n",
      "Finding GluGluHToWW_Pt-200ToInf_M-125 samples and should combine them under HWW\n",
      "Finding QCD_Pt_3200toInf samples and should combine them under QCD\n",
      "Finding QCD_Pt_1800to2400 samples and should combine them under QCD\n",
      "Finding TTTo2L2Nu samples and should combine them under TTbar\n",
      "Finding QCD_Pt_2400to3200 samples and should combine them under QCD\n",
      "Finding TTToHadronic samples and should combine them under TTbar\n",
      "Finding QCD_Pt_1000to1400 samples and should combine them under QCD\n",
      "Finding QCD_Pt_600to800 samples and should combine them under QCD\n",
      "Finding QCD_Pt_300to470 samples and should combine them under QCD\n",
      "Finding QCD_Pt_170to300 samples and should combine them under QCD\n",
      "Finding QCD_Pt_800to1000 samples and should combine them under QCD\n",
      "Finding QCD_Pt_470to600 samples and should combine them under QCD\n",
      "Finding QCD_Pt_1400to1800 samples and should combine them under QCD\n"
     ]
    }
   ],
   "source": [
    "presel = {\n",
    "    \"mu\": {\n",
    "        \"mini-iso\": \"(( (lep_pt < 55) & (lep_isolation < 0.15) ) | (lep_pt >= 55))\",\n",
    "#         \"mini-iso\": \"( (lep_pt < 55) |  ( (lep_misolation < 0.1) & (lep_pt >= 55) ) )\",\n",
    "#         \"iso\": \"( ( (lep_pt < 55) & (lep_isolation<0.15)) |  (lep_pt >= 55) )\",\n",
    "    }\n",
    "}\n",
    "\n",
    "# scores definition\n",
    "hwwev = [\"fj_PN_label_H_WqqWev_0c\",\"fj_PN_label_H_WqqWev_1c\",\"fj_PN_label_H_WqqWtauev_0c\",\"fj_PN_label_H_WqqWtauev_1c\"]\n",
    "hwwmv = [\"fj_PN_label_H_WqqWmv_0c\",\"fj_PN_label_H_WqqWmv_1c\",\"fj_PN_label_H_WqqWtauev_0c\",\"fj_PN_label_H_WqqWtaumv_1c\"]\n",
    "qcd = [\"fj_PN_label_QCD_bb\",\"fj_PN_label_QCD_cc\",\"fj_PN_label_QCD_b\",\"fj_PN_label_QCD_c\",\"fj_PN_label_QCD_others\"]\n",
    "tope = [\"fj_PN_label_Top_bWev\",\"fj_PN_label_Top_bWtauev\"]\n",
    "topm = [\"fj_PN_label_Top_bWmv\",\"fj_PN_label_Top_bWtaumv\"]\n",
    "\n",
    "# first list is the numerator and second list is the denominator\n",
    "scores = {\n",
    "    \"ele\": {\n",
    "        \"hww_vs_qcd\": [hwwev,qcd],\n",
    "        \"hww_vs_top\": [hwwev,tope],\n",
    "    },\n",
    "    \"mu\": {\n",
    "        \"hww_vs_qcd\": [hwwmv,qcd],\n",
    "        \"hww_vs_top\": [hwwmv,topm],\n",
    "    }\n",
    "                     \n",
    "}\n",
    "\n",
    "def disc_score(df, sigs, bkgs):\n",
    "    num = df[sigs].sum(axis=1) \n",
    "    den = df[sigs].sum(axis=1) + df[bkgs].sum(axis=1)\n",
    "    return num/den\n",
    "\n",
    "\n",
    "roc_labels = {}\n",
    "roc_scores = {}\n",
    "\n",
    "from sklearn.metrics import auc, roc_curve\n",
    "\n",
    "PNs = [\"ParT\",\"PN_v2_noreg\"]\n",
    "\n",
    "for pn_version in PNs:\n",
    "    pn_scores = {}\n",
    "    roc_labels[pn_version] = {}\n",
    "    roc_scores[pn_version] = {}\n",
    "    for score,(sig,bkg) in scores[ch].items():\n",
    "        new_sig = [s.replace(\"PN\",pn_version) for s in sig]\n",
    "        new_bkg = [s.replace(\"PN\",pn_version) for s in bkg]\n",
    "    \n",
    "        pn_scores[score] = [new_sig,new_bkg]\n",
    "        \n",
    "        roc_labels[pn_version][score] = []\n",
    "        roc_scores[pn_version][score] = []\n",
    "\n",
    "    score_hists = {}\n",
    "    for score in pn_scores.keys():\n",
    "        score_hists[score] = hist2.Hist(\n",
    "            hist2.axis.StrCategory([], name=\"samples\", growth=True),\n",
    "            hist2.axis.Regular(30, 0, 1, name=\"score\", label=score)   \n",
    "        )\n",
    "        \n",
    "    samples_to_process = [\"HWW\",\"QCD\",\"TTbar\"]#,\"WJetsLNu\"]\n",
    "    samples = os.listdir(samples_dir)\n",
    "\n",
    "    for sample in samples:\n",
    "\n",
    "        ### get a combined label to combine samples of the same process\n",
    "        for key in combine_samples:\n",
    "            if key in sample:\n",
    "                sample_to_use = combine_samples[key]\n",
    "                break\n",
    "            else:\n",
    "                sample_to_use = sample\n",
    "        \n",
    "        if sample_to_use not in samples_to_process:\n",
    "            continue\n",
    "    \n",
    "        print(f\"Finding {sample} samples and should combine them under {sample_to_use}\")\n",
    "\n",
    "        out_files = f\"{samples_dir}/{sample}/outfiles/\"\n",
    "        parquet_files = glob.glob(f\"{out_files}/*_{ch}.parquet\")\n",
    "        pkl_files = glob.glob(f\"{out_files}/*.pkl\")\n",
    "\n",
    "        if not parquet_files:\n",
    "            print(f\"No parquet file for {sample}\")\n",
    "            continue                \n",
    "                               \n",
    "        data = pd.read_parquet(parquet_files)\n",
    "        not_empty = len(data) > 0\n",
    "\n",
    "        # apply selection\n",
    "#         print(\"---> Applying preselection.\")\n",
    "        for selection in presel[ch]:\n",
    "#             print(f\"applying {selection} selection on {len(data)} events\")\n",
    "            data = data.query(presel[ch][selection])  \n",
    "#         print(\"---> Done with preselection.\")\n",
    "\n",
    "        # query labels from ucsd to match a pku label and save the column\n",
    "        for label in labels_per_sample[ch][sample_to_use]:\n",
    "            match_label = match_labels[sample_to_use]\n",
    "            data[label] = data.query(labels[label])[match_label]            \n",
    "\n",
    "        # fill NaN rows that didn't pass with False\n",
    "        data.fillna(value=False,inplace=True)\n",
    "                \n",
    "        for score,(sigs,bkgs) in pn_scores.items():\n",
    "            data[score] = disc_score(data,sigs,bkgs)\n",
    "            \n",
    "            # make hist\n",
    "            score_hists[score].fill(samples=sample_to_use,score=data[score])\n",
    "\n",
    "            if score==\"hww_vs_qcd\" and sample_to_use in [\"HWW\",\"QCD\"]:\n",
    "                if \"QCD\" in sample_to_use:\n",
    "                    label = [0] * len(data[\"fj_pt\"].tolist())\n",
    "                else:\n",
    "                    label = (data[\"label_H_WqqWmv_0c\"] | data[\"label_H_WqqWmv_1c\"] | data[\"label_H_WqqWtaumv_0c\"] | data[\"label_H_WqqWtaumv_1c\"]).tolist()\n",
    "                roc_scores[pn_version][score] += data[score].tolist()                                \n",
    "                roc_labels[pn_version][score] += label\n",
    "                \n",
    "            elif score==\"hww_vs_top\" and sample_to_use in [\"HWW\",\"TTbar\"]:\n",
    "                if \"TTbar\" in sample_to_use:\n",
    "                    label = (data[\"label_Top_bWmv\"] | data[\"label_Top_bWtaumv\"] | data[\"label_Top_nob\"]).tolist()\n",
    "                else:\n",
    "                    label = (data[\"label_H_WqqWmv_0c\"] | data[\"label_H_WqqWmv_1c\"] | data[\"label_H_WqqWtaumv_0c\"] | data[\"label_H_WqqWtaumv_1c\"]).tolist()\n",
    "                roc_scores[pn_version][score] += data[score].tolist()                                \n",
    "                roc_labels[pn_version][score] += label"
   ]
  },
  {
   "cell_type": "code",
   "execution_count": 22,
   "metadata": {},
   "outputs": [
    {
     "name": "stdout",
     "output_type": "stream",
     "text": [
      "Will plot hww_vs_qcd histogram\n",
      "Will plot hww_vs_top histogram\n"
     ]
    },
    {
     "data": {
      "image/png": "[encoded data removed]",
      "text/plain": [
       "<Figure size 576x576 with 2 Axes>"
      ]
     },
     "metadata": {
      "needs_background": "light"
     },
     "output_type": "display_data"
    },
    {
     "data": {
      "image/png": "[encoded data removed]",
      "text/plain": [
       "<Figure size 576x576 with 2 Axes>"
      ]
     },
     "metadata": {
      "needs_background": "light"
     },
     "output_type": "display_data"
    }
   ],
   "source": [
    "plot_hists(score_hists, score_hists.keys(), add_data = False, logy = True, add_soverb = True, only_sig = False)"
   ]
  },
  {
   "cell_type": "code",
   "execution_count": 25,
   "metadata": {},
   "outputs": [
    {
     "name": "stdout",
     "output_type": "stream",
     "text": [
      "Plotting hww_vs_qcd score\n",
      "  For ParT model\n",
      "  For PN_v2_noreg model\n",
      "Plotting hww_vs_top score\n",
      "  For ParT model\n",
      "  For PN_v2_noreg model\n"
     ]
    },
    {
     "data": {
      "image/png": "[encoded data removed]",
      "text/plain": [
       "<Figure size 576x576 with 1 Axes>"
      ]
     },
     "metadata": {
      "needs_background": "light"
     },
     "output_type": "display_data"
    },
    {
     "data": {
      "image/png": "[encoded data removed]",
      "text/plain": [
       "<Figure size 576x576 with 1 Axes>"
      ]
     },
     "metadata": {
      "needs_background": "light"
     },
     "output_type": "display_data"
    }
   ],
   "source": [
    "for score in scores[ch].keys():\n",
    "    print(f\"Plotting {score} score\")\n",
    "    fig, ax = plt.subplots(figsize=(8,8))\n",
    "    ax.grid()\n",
    "    for pn_version in PNs:\n",
    "        print(f\"  For {pn_version} model\")\n",
    "        \n",
    "        labels_ = np.array(roc_labels[pn_version][score])\n",
    "        scores_ = np.array(roc_scores[pn_version][score])\n",
    "\n",
    "        is_nan = np.isnan(np.array(roc_scores[pn_version][score]))\n",
    "        if is_nan.sum()!=0:\n",
    "            print(f\"Found {is_nan.sum()} scores out of {len(scores_)}. Will remove them.\")\n",
    "            labels_ = labels_[~is_nan]\n",
    "            scores_ = scores_[~is_nan]\n",
    "            \n",
    "        fpr, tpr, _ = roc_curve(labels_, scores_)\n",
    "        ax.plot(tpr,fpr,linewidth=2,linestyle='solid',label=pn_version)\n",
    "    ax.set_xlim(0, 1)\n",
    "    ax.set_ylim(1e-4,1)\n",
    "    ax.set_xlabel(f'Signal efficiency (HWW)', fontsize=10, ha='right', x=1)\n",
    "    #ax.set_ylabel(f'Mistag rate (QCD+WJetsLNu+TT)', fontsize=10, ha='right', y=1)\n",
    "    ax.set_ylabel(f'Mistag rate ', fontsize=10, ha='right', y=1)\n",
    "    ax.set_yscale('log')\n",
    "    xlab = nicex_scores[score]\n",
    "    xch = nice_channel[ch]\n",
    "    ax.legend(title=f\"{xch} Channel - {xlab}\")\n",
    "    ax.set_title(\"new iso/miso\")"
   ]
  },
  {
   "cell_type": "markdown",
   "metadata": {},
   "source": [
    "# New task\n",
    "I have been meaning to get started with this check, basically you can \n",
    "\n",
    "- look at the backgrounds after our pre-selection (ttbar, wjets, dyjets, qcd) and see what percentage of them match the labels (the PKU labels and our additional ones)\n",
    "\n",
    "- For example, Dylan asked this question a couple of times: is our wjets background mostly coming from W-> taunu? or is it W->ev and one electron is being mistagged as jet? To answer this question you could simply plot a distribution e.g. the jet pT and divide the wjets contribution into those MC events that match  (fj_V_taunu==1 & fj_V_isMatched==1), those that match (fj_V_elenu==1 & fj_V_isMatched==1) and those that don't match, https://github.com/cmantill/boostedhiggs/blob/main/boostedhiggs/utils.py#L361"
   ]
  },
  {
   "cell_type": "code",
   "execution_count": 83,
   "metadata": {},
   "outputs": [],
   "source": [
    "presel = {\n",
    "    \"mu\": {\n",
    "        \"mini-iso\": \"(( (lep_pt < 50) & (lep_isolation < 0.15) ) | (lep_pt >= 50))\",\n",
    "#         \"fj_pt\": \"(fj_pt>400) & (fj_pt<600)\",\n",
    "#         \"msd\": \"( (fj_msoftdrop>60) & (fj_msoftdrop<150) )\",\n",
    "#         \"deta\": \"deta<2.4\"\n",
    "        \n",
    "    }\n",
    "}"
   ]
  },
  {
   "cell_type": "code",
   "execution_count": 144,
   "metadata": {
    "scrolled": true
   },
   "outputs": [
    {
     "name": "stdout",
     "output_type": "stream",
     "text": [
      "Finding WJetsToLNu_HT-100To200 samples and should combine them under WJetsLNu\n",
      "---> Applying preselection.\n",
      "applying mini-iso selection on 964 events\n",
      "applying iso selection on 946 events\n",
      "---> Done with preselection.\n",
      "Will use the remaining 931 events to fill matching hists\n",
      "Finding WJetsToLNu_HT-800To1200 samples and should combine them under WJetsLNu\n",
      "---> Applying preselection.\n",
      "applying mini-iso selection on 203619 events\n",
      "applying iso selection on 195616 events\n",
      "---> Done with preselection.\n",
      "Will use the remaining 190695 events to fill matching hists\n",
      "Finding WJetsToLNu_HT-1200To2500 samples and should combine them under WJetsLNu\n",
      "---> Applying preselection.\n",
      "applying mini-iso selection on 263660 events\n",
      "applying iso selection on 251667 events\n",
      "---> Done with preselection.\n",
      "Will use the remaining 245587 events to fill matching hists\n",
      "Finding WJetsToLNu_HT-200To400 samples and should combine them under WJetsLNu\n",
      "---> Applying preselection.\n",
      "applying mini-iso selection on 95757 events\n",
      "applying iso selection on 93294 events\n",
      "---> Done with preselection.\n",
      "Will use the remaining 91304 events to fill matching hists\n",
      "Finding WJetsToLNu_HT-70To100 samples and should combine them under WJetsLNu\n",
      "---> Applying preselection.\n",
      "applying mini-iso selection on 89 events\n",
      "applying iso selection on 88 events\n",
      "---> Done with preselection.\n",
      "Will use the remaining 88 events to fill matching hists\n",
      "Finding WJetsToLNu_HT-600To800 samples and should combine them under WJetsLNu\n",
      "---> Applying preselection.\n",
      "applying mini-iso selection on 164671 events\n",
      "applying iso selection on 159055 events\n",
      "---> Done with preselection.\n",
      "Will use the remaining 154854 events to fill matching hists\n",
      "Finding WJetsToLNu_HT-2500ToInf samples and should combine them under WJetsLNu\n",
      "---> Applying preselection.\n",
      "applying mini-iso selection on 77538 events\n",
      "applying iso selection on 73330 events\n",
      "---> Done with preselection.\n",
      "Will use the remaining 71524 events to fill matching hists\n",
      "Finding WJetsToLNu_HT-400To600 samples and should combine them under WJetsLNu\n",
      "---> Applying preselection.\n",
      "applying mini-iso selection on 94106 events\n",
      "applying iso selection on 91444 events\n",
      "---> Done with preselection.\n",
      "Will use the remaining 89028 events to fill matching hists\n"
     ]
    }
   ],
   "source": [
    "hists_matching = hist2.Hist(\n",
    "    hist2.axis.StrCategory([], name=\"match\", growth=True),\n",
    "    utils.axis_dict[\"fj_pt\"],\n",
    ")\n",
    "    \n",
    "### get samples\n",
    "samples = os.listdir(\"../Jan20_2017/\")\n",
    "\n",
    "for sample in samples:\n",
    "\n",
    "    ### get a combined label to combine samples of the same process\n",
    "    for key in combine_samples:\n",
    "        if key in sample:\n",
    "            sample_to_use = combine_samples[key]\n",
    "            break\n",
    "        else:\n",
    "            sample_to_use = sample\n",
    "\n",
    "    if \"WJets\" not in sample_to_use:\n",
    "        continue\n",
    "\n",
    "    print(f\"Finding {sample} samples and should combine them under {sample_to_use}\")\n",
    "\n",
    "    out_files = f\"{samples_dir}/{sample}/outfiles/\"\n",
    "    parquet_files = glob.glob(f\"{out_files}/*_{ch}.parquet\")\n",
    "    pkl_files = glob.glob(f\"{out_files}/*.pkl\")\n",
    "\n",
    "    if not parquet_files:\n",
    "        print(f\"No parquet file for {sample}\")\n",
    "        continue                \n",
    "\n",
    "    data = pd.read_parquet(parquet_files)\n",
    "    not_empty = len(data) > 0\n",
    "\n",
    "    # apply selection\n",
    "    print(\"---> Applying preselection.\")\n",
    "    for selection in presel[ch]:\n",
    "        print(f\"applying {selection} selection on {len(data)} events\")\n",
    "        data = data.query(presel[ch][selection])  \n",
    "    print(\"---> Done with preselection.\")\n",
    "\n",
    "    print(f\"Will use the remaining {len(data)} events to fill matching hists\")\n",
    "\n",
    "    tau_match = (data[\"fj_V_taunu\"]==1) & (data[\"fj_V_isMatched\"]==1)\n",
    "    mu_match = (data[\"fj_V_munu\"]==1) & (data[\"fj_V_isMatched\"]==1)\n",
    "    none_match = (~tau_match) & (~mu_match)\n",
    "\n",
    "    hists_matching.fill(\n",
    "        match=\"tau\",\n",
    "        var=data[\"fj_pt\"][tau_match]\n",
    "    )\n",
    "    hists_matching.fill(\n",
    "        match=\"mu\",\n",
    "        var=data[\"fj_pt\"][mu_match]\n",
    "    )\n",
    "    hists_matching.fill(\n",
    "        match=\"unmatched\",\n",
    "        var=data[\"fj_pt\"][none_match]\n",
    "    )    "
   ]
  },
  {
   "cell_type": "code",
   "execution_count": 145,
   "metadata": {},
   "outputs": [
    {
     "data": {
      "text/plain": [
       "<matplotlib.legend.Legend at 0x7fa3dc19c2e0>"
      ]
     },
     "execution_count": 145,
     "metadata": {},
     "output_type": "execute_result"
    },
    {
     "data": {
      "image/png": "[encoded data removed]",
      "text/plain": [
       "<Figure size 576x576 with 1 Axes>"
      ]
     },
     "metadata": {
      "needs_background": "light"
     },
     "output_type": "display_data"
    }
   ],
   "source": [
    "fig, ax = plt.subplots(figsize=(8,8))\n",
    "for match in [\"tau\", \"mu\", \"unmatched\"]:\n",
    "    hep.histplot(\n",
    "        hists_matching[{\"match\":match}],\n",
    "        label=f\"WJets-{match}\",\n",
    "        ax=ax,\n",
    "        linewidth=2,\n",
    "        density=True,\n",
    "    )\n",
    "# xlab = nicex_scores[score]\n",
    "ax.set_xlabel(hists_matching.axes[-1].label)\n",
    "# xch = nice_channel[ch]\n",
    "ax.legend(title=f\"{xch} Channel\")\n"
   ]
  },
  {
   "cell_type": "code",
   "execution_count": 101,
   "metadata": {},
   "outputs": [
    {
     "data": {
      "text/html": [
       "<html>\n",
       "<div style=\"display:flex; align-items:center;\">\n",
       "<div style=\"width:290px;\">\n",
       "<svg xmlns=\"http://www.w3.org/2000/svg\" viewBox=\"-10 -105 270 120\">\n",
       "<line x1=\"-5\" y1=\"0\" x2=\"255\" y2=\"0\" style=\"fill:none;stroke-width:2;stroke:currentColor\"/>\n",
       "<text text-anchor=\"middle\" x=\"0\" y=\"15\" style=\"fill:currentColor;\">\n",
       "200\n",
       "</text>\n",
       "<text text-anchor=\"middle\" x=\"250\" y=\"15\" style=\"fill:currentColor;\">\n",
       "1e+03\n",
       "</text>\n",
       "<text text-anchor=\"middle\" x=\"125.0\" y=\"15\" style=\"fill:currentColor;\">\n",
       "Jet $p_T$ [GeV]\n",
       "</text>\n",
       "<polyline points=\"  0,0   0,-100 8.33333,-100 8.33333,-76.7 16.6667,-76.7 16.6667,-63.2  25,-63.2  25,-56.8 33.3333,-56.8 33.3333,-53.7 41.6667,-53.7 41.6667,-51.9  50,-51.9  50,-51.6 58.3333,-51.6 58.3333,-49.3 66.6667,-49.3 66.6667,-45.5  75,-45.5  75,-42.8 83.3333,-42.8 83.3333,-39.6 91.6667,-39.6 91.6667,-35.8 100,-35.8 100,-33.4 108.333,-33.4 108.333,-30.5 116.667,-30.5 116.667,-28.7 125,-28.7 125,-28.3 133.333,-28.3 133.333,-27 141.667,-27 141.667,-25.8 150,-25.8 150,-25.3 158.333,-25.3 158.333,-22.9 166.667,-22.9 166.667,-20.6 175,-20.6 175,-18.6 183.333,-18.6 183.333,-15.9 191.667,-15.9 191.667,-13.9 200,-13.9 200,-12.3 208.333,-12.3 208.333,-10.6 216.667,-10.6 216.667,-9.29 225,-9.29 225,-8.18 233.333,-8.18 233.333,-7.15 241.667,-7.15 241.667,-6.35 250,-6.35 250,0\" style=\"fill:none; stroke:currentColor;\"/>\n",
       "</svg>\n",
       "</div>\n",
       "<div style=\"flex=grow:1;\">\n",
       "Regular(30, 200, 1000, name='var', label='Jet $p_T$ [GeV]')<br/>\n",
       "<hr style=\"margin-top:.2em; margin-bottom:.2em;\"/>\n",
       "Double() Σ=621951.0 <em>(691595.0 with flow)</em>\n",
       "\n",
       "</div>\n",
       "</div>\n",
       "</html>"
      ],
      "text/plain": [
       "Hist(Regular(30, 200, 1000, name='var', label='Jet $p_T$ [GeV]'), storage=Double()) # Sum: 621951.0 (691595.0 with flow)"
      ]
     },
     "execution_count": 101,
     "metadata": {},
     "output_type": "execute_result"
    }
   ],
   "source": [
    "hists_matching[{\"match\":\"mu\"}]"
   ]
  },
  {
   "cell_type": "code",
   "execution_count": 102,
   "metadata": {},
   "outputs": [
    {
     "data": {
      "text/html": [
       "<html>\n",
       "<div style=\"display:flex; align-items:center;\">\n",
       "<div style=\"width:290px;\">\n",
       "<svg xmlns=\"http://www.w3.org/2000/svg\" viewBox=\"-10 -105 270 120\">\n",
       "<line x1=\"-5\" y1=\"0\" x2=\"255\" y2=\"0\" style=\"fill:none;stroke-width:2;stroke:currentColor\"/>\n",
       "<text text-anchor=\"middle\" x=\"0\" y=\"15\" style=\"fill:currentColor;\">\n",
       "200\n",
       "</text>\n",
       "<text text-anchor=\"middle\" x=\"250\" y=\"15\" style=\"fill:currentColor;\">\n",
       "1e+03\n",
       "</text>\n",
       "<text text-anchor=\"middle\" x=\"125.0\" y=\"15\" style=\"fill:currentColor;\">\n",
       "Jet $p_T$ [GeV]\n",
       "</text>\n",
       "<polyline points=\"  0,0   0,-100 8.33333,-100 8.33333,-79.4 16.6667,-79.4 16.6667,-76.2  25,-76.2  25,-75.9 33.3333,-75.9 33.3333,-71.4 41.6667,-71.4 41.6667,-69.7  50,-69.7  50,-65.6 58.3333,-65.6 58.3333,-60.6 66.6667,-60.6 66.6667,-56.7  75,-56.7  75,-52.9 83.3333,-52.9 83.3333,-48.5 91.6667,-48.5 91.6667,-43.4 100,-43.4 100,-41.1 108.333,-41.1 108.333,-37.7 116.667,-37.7 116.667,-40.2 125,-40.2 125,-39.5 133.333,-39.5 133.333,-34.4 141.667,-34.4 141.667,-30.5 150,-30.5 150,-29.4 158.333,-29.4 158.333,-24.6 166.667,-24.6 166.667,-20 175,-20 175,-18.3 183.333,-18.3 183.333,-15.9 191.667,-15.9 191.667,-13.8 200,-13.8 200,-12 208.333,-12 208.333,-9.85 216.667,-9.85 216.667,-9.07 225,-9.07 225,-9.29 233.333,-9.29 233.333,-7.46 241.667,-7.46 241.667,-7.49 250,-7.49 250,0\" style=\"fill:none; stroke:currentColor;\"/>\n",
       "</svg>\n",
       "</div>\n",
       "<div style=\"flex=grow:1;\">\n",
       "Regular(30, 200, 1000, name='var', label='Jet $p_T$ [GeV]')<br/>\n",
       "<hr style=\"margin-top:.2em; margin-bottom:.2em;\"/>\n",
       "Double() Σ=34142.0 <em>(38090.0 with flow)</em>\n",
       "\n",
       "</div>\n",
       "</div>\n",
       "</html>"
      ],
      "text/plain": [
       "Hist(Regular(30, 200, 1000, name='var', label='Jet $p_T$ [GeV]'), storage=Double()) # Sum: 34142.0 (38090.0 with flow)"
      ]
     },
     "execution_count": 102,
     "metadata": {},
     "output_type": "execute_result"
    }
   ],
   "source": [
    "hists_matching[{\"match\":\"tau\"}]"
   ]
  },
  {
   "cell_type": "code",
   "execution_count": null,
   "metadata": {},
   "outputs": [],
   "source": []
  }
 ],
 "metadata": {
  "kernelspec": {
   "display_name": "pyg-coffea",
   "language": "python",
   "name": "pyg-coffea"
  },
  "language_info": {
   "codemirror_mode": {
    "name": "ipython",
    "version": 3
   },
   "file_extension": ".py",
   "mimetype": "text/x-python",
   "name": "python",
   "nbconvert_exporter": "python",
   "pygments_lexer": "ipython3",
   "version": "3.8.3"
  }
 },
 "nbformat": 4,
 "nbformat_minor": 4
}
