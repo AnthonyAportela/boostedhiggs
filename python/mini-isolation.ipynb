{
 "cells": [
  {
   "cell_type": "code",
   "execution_count": 1,
   "metadata": {},
   "outputs": [
    {
     "name": "stderr",
     "output_type": "stream",
     "text": [
      "/opt/anaconda3/envs/pyg-coffea/lib/python3.8/site-packages/pandas/core/computation/expressions.py:20: UserWarning: Pandas requires version '2.7.3' or newer of 'numexpr' (version '2.7.0' currently installed).\n",
      "  from pandas.core.computation.check import NUMEXPR_INSTALLED\n"
     ]
    }
   ],
   "source": [
    "import glob\n",
    "import os\n",
    "import json\n",
    "import pickle\n",
    "import yaml\n",
    "\n",
    "import math\n",
    "import numpy as np\n",
    "import pandas as pd\n",
    "pd.options.mode.chained_assignment = None\n",
    "import pyarrow.parquet as pq\n",
    "from sklearn.metrics import auc, roc_curve\n",
    "from scipy.special import softmax\n",
    "\n",
    "import hist as hist2\n",
    "import matplotlib.pyplot as plt\n",
    "import mplhep as hep\n",
    "\n",
    "plt.style.use(hep.style.CMS)\n",
    "\n",
    "import utils\n",
    "plt.rcParams.update({\"font.size\": 20})"
   ]
  },
  {
   "cell_type": "code",
   "execution_count": 2,
   "metadata": {
    "scrolled": false
   },
   "outputs": [
    {
     "name": "stdout",
     "output_type": "stream",
     "text": [
      "\u001b[34mDYJetsToLL_Pt-100To250\u001b[m\u001b[m                  \u001b[34mTTToHadronic\u001b[m\u001b[m\r\n",
      "\u001b[34mDYJetsToLL_Pt-250To400\u001b[m\u001b[m                  \u001b[34mTTToSemiLeptonic\u001b[m\u001b[m\r\n",
      "\u001b[34mDYJetsToLL_Pt-400To650\u001b[m\u001b[m                  \u001b[34mVBFHToTauTau\u001b[m\u001b[m\r\n",
      "\u001b[34mDYJetsToLL_Pt-50To100\u001b[m\u001b[m                   \u001b[34mVBFHToWWToLNuQQ_M-125_withDipoleRecoil\u001b[m\u001b[m\r\n",
      "\u001b[34mDYJetsToLL_Pt-650ToInf\u001b[m\u001b[m                  \u001b[34mWJetsToLNu_HT-100To200\u001b[m\u001b[m\r\n",
      "\u001b[34mGluGluHToTauTau\u001b[m\u001b[m                         \u001b[34mWJetsToLNu_HT-1200To2500\u001b[m\u001b[m\r\n",
      "\u001b[34mGluGluHToWWToLNuQQ\u001b[m\u001b[m                      \u001b[34mWJetsToLNu_HT-200To400\u001b[m\u001b[m\r\n",
      "\u001b[34mGluGluHToWW_Pt-200ToInf_M-125\u001b[m\u001b[m           \u001b[34mWJetsToLNu_HT-2500ToInf\u001b[m\u001b[m\r\n",
      "\u001b[34mHWminusJ_HToWW_M-125\u001b[m\u001b[m                    \u001b[34mWJetsToLNu_HT-400To600\u001b[m\u001b[m\r\n",
      "\u001b[34mHWplusJ_HToWW_M-125\u001b[m\u001b[m                     \u001b[34mWJetsToLNu_HT-600To800\u001b[m\u001b[m\r\n",
      "\u001b[34mHZJ_HToWW_M-125\u001b[m\u001b[m                         \u001b[34mWJetsToLNu_HT-70To100\u001b[m\u001b[m\r\n",
      "\u001b[34mQCD_Pt_1000to1400\u001b[m\u001b[m                       \u001b[34mWJetsToLNu_HT-800To1200\u001b[m\u001b[m\r",
      "\r\n",
      "\u001b[34mQCD_Pt_1400to1800\u001b[m\u001b[m                       \u001b[34mWJetsToQQ_HT-200to400\u001b[m\u001b[m\r\n",
      "\u001b[34mQCD_Pt_170to300\u001b[m\u001b[m                         \u001b[34mWJetsToQQ_HT-400to600\u001b[m\u001b[m\r\n",
      "\u001b[34mQCD_Pt_1800to2400\u001b[m\u001b[m                       \u001b[34mWJetsToQQ_HT-600to800\u001b[m\u001b[m\r\n",
      "\u001b[34mQCD_Pt_2400to3200\u001b[m\u001b[m                       \u001b[34mWJetsToQQ_HT-800toInf\u001b[m\u001b[m\r\n",
      "\u001b[34mQCD_Pt_300to470\u001b[m\u001b[m                         \u001b[34mWW\u001b[m\u001b[m\r\n",
      "\u001b[34mQCD_Pt_3200toInf\u001b[m\u001b[m                        \u001b[34mWZ\u001b[m\u001b[m\r\n",
      "\u001b[34mQCD_Pt_470to600\u001b[m\u001b[m                         \u001b[34mWminusHToTauTau\u001b[m\u001b[m\r\n",
      "\u001b[34mQCD_Pt_600to800\u001b[m\u001b[m                         \u001b[34mWplusHToTauTau\u001b[m\u001b[m\r\n",
      "\u001b[34mQCD_Pt_800to1000\u001b[m\u001b[m                        \u001b[34mZHToTauTau\u001b[m\u001b[m\r\n",
      "\u001b[34mST_s-channel_4f_hadronicDecays\u001b[m\u001b[m          \u001b[34mZJetsToQQ_HT-200to400\u001b[m\u001b[m\r\n",
      "\u001b[34mST_s-channel_4f_leptonDecays\u001b[m\u001b[m            \u001b[34mZJetsToQQ_HT-400to600\u001b[m\u001b[m\r\n",
      "\u001b[34mST_t-channel_antitop_4f_InclusiveDecays\u001b[m\u001b[m \u001b[34mZJetsToQQ_HT-600to800\u001b[m\u001b[m\r\n",
      "\u001b[34mST_t-channel_top_4f_InclusiveDecays\u001b[m\u001b[m     \u001b[34mZJetsToQQ_HT-800toInf\u001b[m\u001b[m\r\n",
      "\u001b[34mST_tW_antitop_5f_inclusiveDecays\u001b[m\u001b[m        \u001b[34mZZ\u001b[m\u001b[m\r\n",
      "\u001b[34mST_tW_top_5f_inclusiveDecays\u001b[m\u001b[m            \u001b[34mttHToNonbb_M125\u001b[m\u001b[m\r\n",
      "\u001b[34mTTTo2L2Nu\u001b[m\u001b[m                               \u001b[34mttHToTauTau\u001b[m\u001b[m\r\n"
     ]
    }
   ],
   "source": [
    "! ls ../Feb22_2017"
   ]
  },
  {
   "cell_type": "code",
   "execution_count": 3,
   "metadata": {},
   "outputs": [],
   "source": [
    "combine_samples = {\n",
    "    # data\n",
    "    \"SingleElectron_\": \"SingleElectron\",    \n",
    "    \"SingleMuon_\": \"SingleMuon\",  \n",
    "    \"EGamma_\": \"EGamma\",    \n",
    "    \n",
    "    # signal\n",
    "    \"GluGluHToWW_Pt-200ToInf_M-125\": \"HWW\",    \n",
    "    \"HToWW_M-125\": \"VH\",\n",
    "    \"VBFHToWWToLNuQQ_M-125_withDipoleRecoil\": \"VBF\",\n",
    "    \"ttHToNonbb_M125\": \"ttHToNonbb_M125\",\n",
    "    \n",
    "    # bkg\n",
    "    \"QCD_Pt\": \"QCD\",\n",
    "    \"DYJets\": \"DYJets\",    \n",
    "    \"WJetsToLNu_\": \"WJetsLNu\",\n",
    "    \"JetsToQQ\": \"WZQQ\",\n",
    "    \"TT\": \"TTbar\",\n",
    "    \"ST_\": \"SingleTop\",\n",
    "    \"WW\": \"Diboson\",\n",
    "    \"WZ\": \"Diboson\",\n",
    "    \"ZZ\": \"Diboson\",\n",
    "}"
   ]
  },
  {
   "cell_type": "code",
   "execution_count": 4,
   "metadata": {},
   "outputs": [],
   "source": [
    "weights = {\n",
    "    \"mu\": {\n",
    "        \"weight_genweight\": 1,\n",
    "        \"weight_L1Prefiring\": 1,\n",
    "        \"weight_pileup\": 1,\n",
    "        \"weight_trigger_iso_muon\": 1,\n",
    "        \"weight_trigger_noniso_muon\": 1,\n",
    "        \"weight_isolation_muon\": 1,\n",
    "        \"weight_id_muon\": 1,\n",
    "        \"weight_vjets_nominal\": 1,\n",
    "    },\n",
    "    \"ele\":{\n",
    "        \"weight_genweight\": 1,\n",
    "        \"weight_L1Prefiring\": 1,\n",
    "        \"weight_pileup\": 1,\n",
    "        \"weight_trigger_electron\": 1,\n",
    "        \"weight_reco_electron\": 1,\n",
    "        \"weight_id_electron\": 1,\n",
    "        \"weight_vjets_nominal\": 1,   \n",
    "    }\n",
    "}\n",
    "\n",
    "signals = [\n",
    "        \"HWW\",        \n",
    "        \"ttHToNonbb_M125\",\n",
    "        \"VH\",\n",
    "        \"VBF\"]\n",
    "\n",
    "data_by_ch = {\n",
    "    \"ele\": \"SingleElectron\",\n",
    "    \"mu\": \"SingleMuon\",\n",
    "}\n",
    "\n",
    "nice_channel = {\n",
    "    \"mu\": \"Muon\",\n",
    "    \"ele\": \"Electron\"\n",
    "}"
   ]
  },
  {
   "cell_type": "code",
   "execution_count": 5,
   "metadata": {},
   "outputs": [],
   "source": [
    "def disc_score(df, sigs, bkgs):\n",
    "    num = df[sigs].sum(axis=1) \n",
    "    den = df[sigs].sum(axis=1) + df[bkgs].sum(axis=1)\n",
    "    return num/den"
   ]
  },
  {
   "cell_type": "code",
   "execution_count": 6,
   "metadata": {},
   "outputs": [],
   "source": [
    "# scores definition\n",
    "hwwev = [\"fj_PN_probHWqqWev0c\",\"fj_PN_probHWqqWev1c\",\"fj_PN_probHWqqWtauev0c\",\"fj_PN_probHWqqWtauev1c\"]\n",
    "hwwmv = [\"fj_PN_probHWqqWmv0c\",\"fj_PN_probHWqqWmv1c\",\"fj_PN_probHWqqWtauev0c\",\"fj_PN_probHWqqWtaumv1c\"]\n",
    "qcd = [\"fj_PN_probQCDbb\",\"fj_PN_probQCDcc\",\"fj_PN_probQCDb\",\"fj_PN_probQCDc\",\"fj_PN_probQCDothers\"]\n",
    "\n",
    "tope = [\"fj_PN_probTopbWev\",\"fj_PN_probTopbWtauev\"]\n",
    "topm = [\"fj_PN_probTopbWmv\",\"fj_PN_probTopbWtaumv\"]\n",
    "tophad = [\"fj_PN_probTopbWqq0c\",\"fj_PN_probTopbWqq1c\",\"fj_PN_probTopbWq0c\",\"fj_PN_probTopbWq1c\",\"fj_PN_probTopbWtauhv\"]\n",
    "\n",
    "top = tope+topm+tophad"
   ]
  },
  {
   "cell_type": "markdown",
   "metadata": {},
   "source": [
    "# s/b"
   ]
  },
  {
   "cell_type": "code",
   "execution_count": 211,
   "metadata": {},
   "outputs": [],
   "source": [
    "selections = {\n",
    "    \"mu\": {\n",
    "        ### pre-selection must include lepton isolation\n",
    "        \"pre-selection\": \"( ( (lep_pt < 55) & (lep_isolation<0.15)) |  (lep_pt >= 55) )\",\n",
    "    },\n",
    "}"
   ]
  },
  {
   "cell_type": "code",
   "execution_count": 212,
   "metadata": {
    "scrolled": true
   },
   "outputs": [
    {
     "name": "stdout",
     "output_type": "stream",
     "text": [
      "Finding WJetsToLNu_HT-100To200 samples and should combine them under WJetsLNu\n",
      "---> We have 964 events.\n",
      "---> Applied pre-selection... Only 949 events survived.\n",
      "Finding DYJetsToLL_Pt-400To650 samples and should combine them under DYJets\n",
      "---> We have 9908 events.\n",
      "---> Applied pre-selection... Only 9814 events survived.\n",
      "Finding VBFHToWWToLNuQQ_M-125_withDipoleRecoil samples and should combine them under VBF\n",
      "---> We have 1177 events.\n",
      "---> Applied pre-selection... Only 1150 events survived.\n",
      "Finding HWminusJ_HToWW_M-125 samples and should combine them under VH\n",
      "---> We have 12206 events.\n",
      "---> Applied pre-selection... Only 11797 events survived.\n",
      "Finding WJetsToLNu_HT-800To1200 samples and should combine them under WJetsLNu\n",
      "---> We have 203619 events.\n",
      "---> Applied pre-selection... Only 198698 events survived.\n",
      "Finding TTToSemiLeptonic samples and should combine them under TTbar\n",
      "---> We have 885873 events.\n",
      "---> Applied pre-selection... Only 861475 events survived.\n",
      "Finding DYJetsToLL_Pt-250To400 samples and should combine them under DYJets\n",
      "---> We have 78081 events.\n",
      "---> Applied pre-selection... Only 77680 events survived.\n",
      "Finding ST_t-channel_top_4f_InclusiveDecays samples and should combine them under SingleTop\n",
      "---> We have 82137 events.\n",
      "---> Applied pre-selection... Only 79143 events survived.\n",
      "Finding ST_s-channel_4f_hadronicDecays samples and should combine them under SingleTop\n",
      "---> We have 2009 events.\n",
      "---> Applied pre-selection... Only 1683 events survived.\n",
      "Finding WJetsToLNu_HT-1200To2500 samples and should combine them under WJetsLNu\n",
      "---> We have 263660 events.\n",
      "---> Applied pre-selection... Only 257580 events survived.\n",
      "Finding WJetsToLNu_HT-200To400 samples and should combine them under WJetsLNu\n",
      "---> We have 95757 events.\n",
      "---> Applied pre-selection... Only 93767 events survived.\n",
      "Finding ST_tW_top_5f_inclusiveDecays samples and should combine them under SingleTop\n",
      "---> We have 9802 events.\n",
      "---> Applied pre-selection... Only 9417 events survived.\n",
      "Finding WplusHToTauTau samples and should combine them under WplusHToTauTau\n",
      "No parquet file for WplusHToTauTau\n",
      "Finding GluGluHToWW_Pt-200ToInf_M-125 samples and should combine them under HWW\n",
      "---> We have 14901 events.\n",
      "---> Applied pre-selection... Only 14439 events survived.\n",
      "Finding WJetsToQQ_HT-200to400 samples and should combine them under WZQQ\n",
      "---> We have 14 events.\n",
      "---> Applied pre-selection... Only 8 events survived.\n",
      "Finding ST_tW_antitop_5f_inclusiveDecays samples and should combine them under SingleTop\n",
      "---> We have 9769 events.\n",
      "---> Applied pre-selection... Only 9432 events survived.\n",
      "Finding ZJetsToQQ_HT-200to400 samples and should combine them under WZQQ\n",
      "---> We have 12 events.\n",
      "---> Applied pre-selection... Only 8 events survived.\n",
      "Finding QCD_Pt_3200toInf samples and should combine them under QCD\n",
      "---> We have 1144 events.\n",
      "---> Applied pre-selection... Only 948 events survived.\n",
      "Finding HWplusJ_HToWW_M-125 samples and should combine them under VH\n",
      "---> We have 12042 events.\n",
      "---> Applied pre-selection... Only 11660 events survived.\n",
      "Finding WJetsToLNu_HT-70To100 samples and should combine them under WJetsLNu\n",
      "---> We have 89 events.\n",
      "---> Applied pre-selection... Only 89 events survived.\n",
      "Finding ST_s-channel_4f_leptonDecays samples and should combine them under SingleTop\n",
      "---> We have 36205 events.\n",
      "---> Applied pre-selection... Only 35307 events survived.\n",
      "Finding DYJetsToLL_Pt-50To100 samples and should combine them under DYJets\n",
      "---> We have 22379 events.\n",
      "---> Applied pre-selection... Only 21996 events survived.\n",
      "Finding QCD_Pt_1800to2400 samples and should combine them under QCD\n",
      "---> We have 6278 events.\n",
      "---> Applied pre-selection... Only 5341 events survived.\n",
      "Finding WW samples and should combine them under Diboson\n",
      "---> We have 3100 events.\n",
      "---> Applied pre-selection... Only 2992 events survived.\n",
      "Finding ST_t-channel_antitop_4f_InclusiveDecays samples and should combine them under SingleTop\n",
      "---> We have 40857 events.\n",
      "---> Applied pre-selection... Only 39211 events survived.\n",
      "Finding WminusHToTauTau samples and should combine them under WminusHToTauTau\n",
      "No parquet file for WminusHToTauTau\n",
      "Finding TTTo2L2Nu samples and should combine them under TTbar\n",
      "---> We have 535201 events.\n",
      "---> Applied pre-selection... Only 520678 events survived.\n",
      "Finding ttHToTauTau samples and should combine them under ttHToTauTau\n",
      "No parquet file for ttHToTauTau\n",
      "Finding QCD_Pt_2400to3200 samples and should combine them under QCD\n",
      "---> We have 3443 events.\n",
      "---> Applied pre-selection... Only 2881 events survived.\n",
      "Finding DYJetsToLL_Pt-650ToInf samples and should combine them under DYJets\n",
      "---> We have 21351 events.\n",
      "---> Applied pre-selection... Only 20815 events survived.\n",
      "Finding GluGluHToTauTau samples and should combine them under GluGluHToTauTau\n",
      "No parquet file for GluGluHToTauTau\n",
      "Finding ZJetsToQQ_HT-400to600 samples and should combine them under WZQQ\n",
      "---> We have 2603 events.\n",
      "---> Applied pre-selection... Only 1997 events survived.\n",
      "Finding ZZ samples and should combine them under Diboson\n",
      "---> We have 323 events.\n",
      "---> Applied pre-selection... Only 304 events survived.\n",
      "Finding ZHToTauTau samples and should combine them under ZHToTauTau\n",
      "No parquet file for ZHToTauTau\n",
      "Finding TTToHadronic samples and should combine them under TTbar\n",
      "---> We have 42758 events.\n",
      "---> Applied pre-selection... Only 35688 events survived.\n",
      "Finding QCD_Pt_1000to1400 samples and should combine them under QCD\n",
      "---> We have 19732 events.\n",
      "---> Applied pre-selection... Only 16884 events survived.\n",
      "Finding QCD_Pt_600to800 samples and should combine them under QCD\n",
      "---> We have 14340 events.\n",
      "---> Applied pre-selection... Only 12151 events survived.\n",
      "Finding QCD_Pt_300to470 samples and should combine them under QCD\n",
      "---> We have 6434 events.\n",
      "---> Applied pre-selection... Only 5213 events survived.\n",
      "Finding WJetsToQQ_HT-800toInf samples and should combine them under WZQQ\n",
      "---> We have 15116 events.\n",
      "---> Applied pre-selection... Only 12339 events survived.\n",
      "Finding ZJetsToQQ_HT-600to800 samples and should combine them under WZQQ\n",
      "---> We have 9161 events.\n",
      "---> Applied pre-selection... Only 7484 events survived.\n",
      "Finding QCD_Pt_170to300 samples and should combine them under QCD\n",
      "---> We have 2206 events.\n",
      "---> Applied pre-selection... Only 1703 events survived.\n",
      "Finding WJetsToLNu_HT-600To800 samples and should combine them under WJetsLNu\n",
      "---> We have 164671 events.\n",
      "---> Applied pre-selection... Only 160470 events survived.\n",
      "Finding WJetsToQQ_HT-600to800 samples and should combine them under WZQQ\n",
      "---> We have 7609 events.\n",
      "---> Applied pre-selection... Only 5847 events survived.\n",
      "Finding GluGluHToWWToLNuQQ samples and should combine them under Diboson\n",
      "---> We have 13812 events.\n",
      "---> Applied pre-selection... Only 13424 events survived.\n",
      "Finding WJetsToLNu_HT-2500ToInf samples and should combine them under WJetsLNu\n",
      "---> We have 77538 events.\n",
      "---> Applied pre-selection... Only 75732 events survived.\n",
      "Finding ttHToNonbb_M125 samples and should combine them under ttHToNonbb_M125\n",
      "---> We have 15274 events.\n",
      "---> Applied pre-selection... Only 14638 events survived.\n",
      "Finding ZJetsToQQ_HT-800toInf samples and should combine them under WZQQ\n",
      "---> We have 14146 events.\n",
      "---> Applied pre-selection... Only 11924 events survived.\n",
      "Finding QCD_Pt_800to1000 samples and should combine them under QCD\n",
      "---> We have 17440 events.\n",
      "---> Applied pre-selection... Only 14758 events survived.\n",
      "Finding WJetsToQQ_HT-400to600 samples and should combine them under WZQQ\n",
      "---> We have 769 events.\n",
      "---> Applied pre-selection... Only 568 events survived.\n",
      "Finding WJetsToLNu_HT-400To600 samples and should combine them under WJetsLNu\n",
      "---> We have 94106 events.\n",
      "---> Applied pre-selection... Only 91690 events survived.\n",
      "Finding QCD_Pt_470to600 samples and should combine them under QCD\n",
      "---> We have 10424 events.\n",
      "---> Applied pre-selection... Only 8670 events survived.\n",
      "Finding HZJ_HToWW_M-125 samples and should combine them under VH\n",
      "---> We have 16286 events.\n",
      "---> Applied pre-selection... Only 15723 events survived.\n",
      "Finding WZ samples and should combine them under Diboson\n",
      "---> We have 1169 events.\n",
      "---> Applied pre-selection... Only 1109 events survived.\n",
      "Finding QCD_Pt_1400to1800 samples and should combine them under QCD\n",
      "---> We have 11990 events.\n",
      "---> Applied pre-selection... Only 10156 events survived.\n",
      "Finding VBFHToTauTau samples and should combine them under VBFHToTauTau\n",
      "No parquet file for VBFHToTauTau\n",
      "Finding DYJetsToLL_Pt-100To250 samples and should combine them under DYJets\n"
     ]
    },
    {
     "name": "stdout",
     "output_type": "stream",
     "text": [
      "---> We have 99811 events.\n",
      "---> Applied pre-selection... Only 99239 events survived.\n"
     ]
    }
   ],
   "source": [
    "samples_dir = \"../Feb22_2017\"\n",
    "samples = os.listdir(samples_dir)\n",
    "\n",
    "channels = [\"mu\"]\n",
    "\n",
    "sigs = {\n",
    "    \"ele\": hwwev,\n",
    "    \"mu\": hwwmv,\n",
    "}\n",
    "\n",
    "qcd_bkg = [b.replace(\"PN\",\"ParT\") for b in qcd]\n",
    "top_bkg = [b.replace(\"PN\",\"ParT\") for b in tope+topm+tophad]\n",
    "inclusive_bkg = [b.replace(\"PN\",\"ParT\") for b in qcd+tope+topm+tophad]\n",
    "\n",
    "events_dict = {}\n",
    "for ch in channels:\n",
    "    events_dict[ch] = {}\n",
    "\n",
    "    new_sig = [s.replace(\"PN\",\"ParT\") for s in sigs[ch]]\n",
    "\n",
    "    # get lumi\n",
    "    with open(\"../fileset/luminosity.json\") as f:\n",
    "        luminosity = json.load(f)[ch][\"2017\"]\n",
    "\n",
    "    for sample in samples:\n",
    "\n",
    "        ### get a combined label to combine samples of the same process\n",
    "        for key in combine_samples:\n",
    "            if key in sample:\n",
    "                sample_to_use = combine_samples[key]\n",
    "                break\n",
    "            else:\n",
    "                sample_to_use = sample\n",
    "\n",
    "        print(f\"Finding {sample} samples and should combine them under {sample_to_use}\")\n",
    "\n",
    "        out_files = f\"{samples_dir}/{sample}/outfiles/\"\n",
    "        parquet_files = glob.glob(f\"{out_files}/*_{ch}.parquet\")\n",
    "        pkl_files = glob.glob(f\"{out_files}/*.pkl\")\n",
    "\n",
    "        if not parquet_files:\n",
    "            print(f\"No parquet file for {sample}\")\n",
    "            continue                \n",
    "\n",
    "        data = pd.read_parquet(parquet_files)\n",
    "        empty = len(data) == 0\n",
    "        if empty:\n",
    "            continue\n",
    "\n",
    "        # get event_weight\n",
    "    #     print(f\"---> Retrieving event weight.\")                \n",
    "        event_weight = utils.get_xsecweight(pkl_files, \"2017\", sample, False, luminosity)\n",
    "        for w in weights[ch]:\n",
    "            if w not in data.keys():\n",
    "    #             print(f\"{w} weight is not stored in parquet\")\n",
    "                continue\n",
    "            event_weight *= data[w]\n",
    "\n",
    "        data[\"event_weight\"] = event_weight\n",
    "        \n",
    "        # add QCD score \n",
    "        data[\"QCD\"] = disc_score(data,new_sig,qcd_bkg)\n",
    "        # add TOP score \n",
    "        data[\"Top\"] = disc_score(data,new_sig,top_bkg)    \n",
    "        # add inclusive score\n",
    "        data[\"inclusive\"] = disc_score(data,new_sig,inclusive_bkg)\n",
    "            \n",
    "        print(f\"---> We have {len(data)} events.\")        \n",
    "\n",
    "        # apply selection\n",
    "        for selection in selections[ch]:\n",
    "            data = data.query(selections[ch][selection]) \n",
    "            print(f\"---> Applied {selection}... Only {len(data)} events survived.\")                    \n",
    " \n",
    "            ### specify columns to keep\n",
    "            columns_ = [\"event_weight\"]\n",
    "            columns_ += [\"fj_ParT_mass\", \"lep_fj_m\"]  # to restrict s/b to a mass window\n",
    "            columns_ += [\"lep_pt\", \"lep_misolation\"]  # for mini-isolation cuts\n",
    "            columns_ += [\"inclusive\"]   # inclusive tagger score to cross check            \n",
    "\n",
    "            # fill the big dataframe\n",
    "            if sample_to_use not in events_dict[ch]:\n",
    "                events_dict[ch][sample_to_use] = data[columns_]\n",
    "            else:\n",
    "                events_dict[ch][sample_to_use] = pd.concat([events_dict[ch][sample_to_use], data[columns_]])"
   ]
  },
  {
   "cell_type": "code",
   "execution_count": 213,
   "metadata": {},
   "outputs": [
    {
     "data": {
      "text/plain": [
       "dict_keys(['mu'])"
      ]
     },
     "execution_count": 213,
     "metadata": {},
     "output_type": "execute_result"
    }
   ],
   "source": [
    "events_dict.keys()"
   ]
  },
  {
   "cell_type": "code",
   "execution_count": 214,
   "metadata": {},
   "outputs": [
    {
     "data": {
      "text/plain": [
       "dict_keys(['WJetsLNu', 'DYJets', 'VBF', 'VH', 'TTbar', 'SingleTop', 'HWW', 'WZQQ', 'QCD', 'Diboson', 'ttHToNonbb_M125'])"
      ]
     },
     "execution_count": 214,
     "metadata": {},
     "output_type": "execute_result"
    }
   ],
   "source": [
    "events_dict[\"mu\"].keys()"
   ]
  },
  {
   "cell_type": "markdown",
   "metadata": {},
   "source": [
    "## Get cutflows and s/b"
   ]
  },
  {
   "cell_type": "code",
   "execution_count": 216,
   "metadata": {},
   "outputs": [],
   "source": [
    "channels = [\"mu\"]\n",
    "\n",
    "miso_cuts = [999999, 0.14, 0.18, 0.20, 0.22, 0.26]\n",
    "\n",
    "cutflows = {}\n",
    "for sample in events_dict[\"mu\"]:\n",
    "    cutflows[sample] = {}\n",
    "\n",
    "s, b = {}, {}\n",
    "for miso_cut in miso_cuts:\n",
    "    if miso_cut==999999:\n",
    "        cut_label = \"pre-selection\"\n",
    "    else:\n",
    "        cut_label = f\"pre-selection + mini-iso<{miso_cut:.2f}\"\n",
    "\n",
    "    s[cut_label], b[cut_label] = 0, 0\n",
    "\n",
    "    for ch in channels:   # sum over channels (in this case only \"mu\")\n",
    "        for sample in events_dict[ch]:\n",
    "\n",
    "            df = events_dict[ch][sample]\n",
    "            ### apply mini-isolation cut\n",
    "            keep = ( ( df[\"lep_pt\"]<55 ) | ( df[\"lep_pt\"]>=55) & (df[\"lep_misolation\"]<miso_cut ) )\n",
    "            df = df.loc[keep, :]\n",
    "            \n",
    "            ### cutflows\n",
    "            cutflows[sample][cut_label] = len(df)\n",
    "\n",
    "            ### mass window\n",
    "            regressed_mass = df[\"fj_ParT_mass\"]     \n",
    "            lep_fj_m = df[\"lep_fj_m\"]     \n",
    "    #         mass_window = (regressed_mass>100) & (regressed_mass<150)\n",
    "            mass_window = (lep_fj_m>0) & (lep_fj_m<150)\n",
    "\n",
    "            ### s/b\n",
    "            ev_weight = df[\"event_weight\"]        \n",
    "            if sample in signals:\n",
    "                s[cut_label] += ev_weight[mass_window].sum()\n",
    "            else:\n",
    "                b[cut_label] += ev_weight[mass_window].sum()    "
   ]
  },
  {
   "cell_type": "code",
   "execution_count": 217,
   "metadata": {},
   "outputs": [
    {
     "name": "stdout",
     "output_type": "stream",
     "text": [
      "pre-selection : s/b = 0.3494737775770448\n",
      "pre-selection + mini-iso<0.14 : s/b = 0.47341634699440605\n",
      "pre-selection + mini-iso<0.18 : s/b = 0.470089795231809\n",
      "pre-selection + mini-iso<0.20 : s/b = 0.4698454334157826\n",
      "pre-selection + mini-iso<0.22 : s/b = 0.46884724011475826\n",
      "pre-selection + mini-iso<0.26 : s/b = 0.4632322567766893\n"
     ]
    }
   ],
   "source": [
    "for miso_cut in s:\n",
    "    print(f\"{miso_cut} : s/b = {s[miso_cut]/math.sqrt(b[miso_cut])}\")"
   ]
  },
  {
   "cell_type": "code",
   "execution_count": 218,
   "metadata": {
    "scrolled": true
   },
   "outputs": [
    {
     "name": "stdout",
     "output_type": "stream",
     "text": [
      "WJetsLNu\n",
      "pre-selection : 878975\n",
      "pre-selection + mini-iso<0.14 : 851286\n",
      "pre-selection + mini-iso<0.18 : 855729\n",
      "pre-selection + mini-iso<0.20 : 857402\n",
      "pre-selection + mini-iso<0.22 : 858762\n",
      "pre-selection + mini-iso<0.26 : 860937\n",
      "---------------------------------\n",
      "TTbar\n",
      "pre-selection : 1417841\n",
      "pre-selection + mini-iso<0.14 : 1339957\n",
      "pre-selection + mini-iso<0.18 : 1346958\n",
      "pre-selection + mini-iso<0.20 : 1349669\n",
      "pre-selection + mini-iso<0.22 : 1352113\n",
      "pre-selection + mini-iso<0.26 : 1356401\n",
      "---------------------------------\n",
      "HWW\n",
      "pre-selection : 14439\n",
      "pre-selection + mini-iso<0.14 : 13561\n",
      "pre-selection + mini-iso<0.18 : 13673\n",
      "pre-selection + mini-iso<0.20 : 13729\n",
      "pre-selection + mini-iso<0.22 : 13766\n",
      "pre-selection + mini-iso<0.26 : 13836\n",
      "---------------------------------\n",
      "QCD\n",
      "pre-selection : 78705\n",
      "pre-selection + mini-iso<0.14 : 3595\n",
      "pre-selection + mini-iso<0.18 : 4349\n",
      "pre-selection + mini-iso<0.20 : 4778\n",
      "pre-selection + mini-iso<0.22 : 5201\n",
      "pre-selection + mini-iso<0.26 : 6194\n",
      "---------------------------------\n"
     ]
    }
   ],
   "source": [
    "for sample in cutflows:\n",
    "    if sample in [\"HWW\", \"WJetsLNu\", \"QCD\", \"TTbar\"]:        \n",
    "        print(sample)    \n",
    "        for miso_cut in cutflows[sample]:\n",
    "            print(f\"{miso_cut} : {cutflows[sample][miso_cut]}\")\n",
    "        print(\"---------------------------------\")            "
   ]
  },
  {
   "cell_type": "code",
   "execution_count": 219,
   "metadata": {},
   "outputs": [
    {
     "name": "stdout",
     "output_type": "stream",
     "text": [
      "Counting events of the following samples:\n",
      "DYJets\n",
      "SingleTop\n",
      "WZQQ\n",
      "Diboson\n",
      "---------------------------------\n",
      "pre-selection: 461741\n",
      "pre-selection + mini-iso<0.14: 403845\n",
      "pre-selection + mini-iso<0.18: 406031\n",
      "pre-selection + mini-iso<0.20: 407065\n",
      "pre-selection + mini-iso<0.22: 407997\n",
      "pre-selection + mini-iso<0.26: 409736\n"
     ]
    }
   ],
   "source": [
    "## OTHERS\n",
    "print(\"Counting events of the following samples:\")\n",
    "c = [0] * len(cutflows[sample])\n",
    "for sample in cutflows:\n",
    "    if sample not in [\"HWW\", \"QCD\", \"TTbar\", \"WJetsLNu\"]:\n",
    "        if sample not in signals:\n",
    "            print(sample)\n",
    "            for i, miso_cut in enumerate(cutflows[sample]):\n",
    "                c[i] += cutflows[sample][miso_cut]\n",
    "print(\"---------------------------------\")  \n",
    "for i, miso_cut in enumerate(cutflows[sample]):\n",
    "    print(f\"{miso_cut}: {c[i]}\")"
   ]
  },
  {
   "cell_type": "markdown",
   "metadata": {},
   "source": [
    "# s/b as a function of the tagger cut"
   ]
  },
  {
   "cell_type": "code",
   "execution_count": 220,
   "metadata": {},
   "outputs": [
    {
     "name": "stderr",
     "output_type": "stream",
     "text": [
      "No artists with labels found to put in legend.  Note that artists whose label start with an underscore are ignored when legend() is called with no argument.\n"
     ]
    },
    {
     "data": {
      "image/png": "[encoded data removed]",
      "text/plain": [
       "<Figure size 936x504 with 2 Axes>"
      ]
     },
     "metadata": {
      "needs_background": "light"
     },
     "output_type": "display_data"
    }
   ],
   "source": [
    "plt.rcParams.update({\"font.size\": 20})\n",
    "channels = [\"mu\"]\n",
    "\n",
    "fig, ax = plt.subplots(figsize=(13,7))\n",
    "ax.grid()    \n",
    "\n",
    "miso_cuts = [999999, 0.14, 0.18, 0.20, 0.22, 0.26]\n",
    "for miso_cut in miso_cuts:\n",
    "    if miso_cut==999999:\n",
    "        cut_label = \"pre-selection\"\n",
    "    else:\n",
    "        cut_label = f\"pre-selection + mini-iso<{miso_cut:.2f}\"\n",
    "    \n",
    "    tagger_cuts = [0.6, 0.65, 0.7, 0.75, 0.8, 0.85, 0.9, 0.95, 0.99]\n",
    "\n",
    "    s = [0]*len(tagger_cuts)\n",
    "    b = [0]*len(tagger_cuts)\n",
    "\n",
    "    for ch in channels:\n",
    "        for sample in events_dict[ch]:\n",
    "            \n",
    "            df = events_dict[ch][sample]\n",
    "            ### apply mini-isolation cut\n",
    "            keep = ( ( df[\"lep_pt\"]<55 ) | ( df[\"lep_pt\"]>=55) & (df[\"lep_misolation\"]<miso_cut ) )\n",
    "            df = df.loc[keep, :]\n",
    "                        \n",
    "            ev_weight = df[\"event_weight\"]\n",
    "            score = df[\"inclusive\"]\n",
    "\n",
    "            regressed_mass = df[\"fj_ParT_mass\"]\n",
    "            mass_window = (regressed_mass>100) & (regressed_mass<150)\n",
    "\n",
    "            for i, tagger_cut in enumerate(tagger_cuts):\n",
    "                score_cut = (score > tagger_cut)\n",
    "                if sample in signals:\n",
    "                    s[i] += ev_weight[mass_window & score_cut].sum()     \n",
    "                else:\n",
    "                    b[i] += ev_weight[mass_window & score_cut].sum()\n",
    "\n",
    "    ss = np.array(s)\n",
    "    bb = np.array(b)\n",
    "    ax.scatter(tagger_cuts, ss/np.sqrt(bb) , linewidth=2.0, label=cut_label)\n",
    "\n",
    "ax.set_xlabel(\"Inclusive (Top+QCD) tagger: score > X\")\n",
    "ax.set_ylabel(r\"s \\ $\\sqrt{b}$\")\n",
    "if len(channels)==2:\n",
    "    ax.legend(title=\"Semi-leptonic Channel\", bbox_to_anchor=(1.05, 1), loc=\"upper left\",);\n",
    "else:\n",
    "    ax.legend(title=f\"{nice_channel[ch]} Channel\", bbox_to_anchor=(1.05, 1), loc=\"upper left\",);\n",
    "\n",
    "ax2 = ax.twinx()\n",
    "ax2.set_yticklabels([])\n",
    "ax2.legend(title=r\"$100<ParT.mass<150$ GeV\", title_fontsize=16, loc=4)\n",
    "plt.tight_layout()"
   ]
  },
  {
   "cell_type": "code",
   "execution_count": 221,
   "metadata": {},
   "outputs": [
    {
     "name": "stderr",
     "output_type": "stream",
     "text": [
      "No artists with labels found to put in legend.  Note that artists whose label start with an underscore are ignored when legend() is called with no argument.\n"
     ]
    },
    {
     "data": {
      "image/png": "[encoded data removed]",
      "text/plain": [
       "<Figure size 936x504 with 2 Axes>"
      ]
     },
     "metadata": {
      "needs_background": "light"
     },
     "output_type": "display_data"
    }
   ],
   "source": [
    "plt.rcParams.update({\"font.size\": 20})\n",
    "channels = [\"mu\"]\n",
    "\n",
    "fig, ax = plt.subplots(figsize=(13,7))\n",
    "ax.grid()    \n",
    "\n",
    "miso_cuts = [999999, 0.14, 0.18, 0.20, 0.22, 0.26]\n",
    "for miso_cut in miso_cuts:\n",
    "    if miso_cut==999999:\n",
    "        cut_label = \"pre-selection\"\n",
    "    else:\n",
    "        cut_label = f\"pre-selection + mini-iso<{miso_cut:.2f}\"\n",
    "    \n",
    "    tagger_cuts = [0.6, 0.65, 0.7, 0.75, 0.8, 0.85, 0.9, 0.95, 0.99]\n",
    "\n",
    "    s = [0]*len(tagger_cuts)\n",
    "    b = [0]*len(tagger_cuts)\n",
    "\n",
    "    for ch in channels:\n",
    "        for sample in events_dict[ch]:\n",
    "            \n",
    "            df = events_dict[ch][sample]\n",
    "            ### apply mini-isolation cut\n",
    "            keep = ( ( df[\"lep_pt\"]<55 ) | ( df[\"lep_pt\"]>=55) & (df[\"lep_misolation\"]<miso_cut ) )\n",
    "            df = df.loc[keep, :]\n",
    "                        \n",
    "            ev_weight = df[\"event_weight\"]\n",
    "            score = df[\"inclusive\"]\n",
    "\n",
    "            lep_fj_m = df[\"lep_fj_m\"]\n",
    "            mass_window = (lep_fj_m>0) & (lep_fj_m<150)\n",
    "\n",
    "            for i, tagger_cut in enumerate(tagger_cuts):\n",
    "                score_cut = (score > tagger_cut)\n",
    "                if sample in signals:\n",
    "                    s[i] += ev_weight[mass_window & score_cut].sum()     \n",
    "                else:\n",
    "                    b[i] += ev_weight[mass_window & score_cut].sum()\n",
    "\n",
    "    ss = np.array(s)\n",
    "    bb = np.array(b)\n",
    "    ax.scatter(tagger_cuts, ss/np.sqrt(bb) , linewidth=2.0, label=cut_label)\n",
    "\n",
    "ax.set_xticks(tagger_cuts)\n",
    "ax.set_xlabel(\"Inclusive (Top+QCD) tagger: score > X\")\n",
    "ax.set_ylabel(r\"s \\ $\\sqrt{b}$\")\n",
    "if len(channels)==2:\n",
    "    ax.legend(title=\"Semi-leptonic Channel\", bbox_to_anchor=(1.05, 1), loc=\"upper left\",);\n",
    "else:\n",
    "    ax.legend(title=f\"{nice_channel[ch]} Channel\", bbox_to_anchor=(1.05, 1), loc=\"upper left\",);\n",
    "\n",
    "ax2 = ax.twinx()\n",
    "ax2.set_yticklabels([])\n",
    "ax2.legend(title=r\"$0<(Jet-Lepton).mass<150$ GeV\", title_fontsize=16, loc=4)\n",
    "plt.tight_layout()"
   ]
  },
  {
   "cell_type": "code",
   "execution_count": null,
   "metadata": {},
   "outputs": [],
   "source": []
  }
 ],
 "metadata": {
  "kernelspec": {
   "display_name": "pyg-coffea",
   "language": "python",
   "name": "pyg-coffea"
  },
  "language_info": {
   "codemirror_mode": {
    "name": "ipython",
    "version": 3
   },
   "file_extension": ".py",
   "mimetype": "text/x-python",
   "name": "python",
   "nbconvert_exporter": "python",
   "pygments_lexer": "ipython3",
   "version": "3.8.3"
  }
 },
 "nbformat": 4,
 "nbformat_minor": 4
}
