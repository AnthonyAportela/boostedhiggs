{
 "cells": [
  {
   "cell_type": "code",
   "execution_count": 37,
   "id": "cb702c12",
   "metadata": {},
   "outputs": [
    {
     "data": {
      "text/plain": [
       "{'divide': 'warn', 'over': 'warn', 'under': 'ignore', 'invalid': 'ignore'}"
      ]
     },
     "execution_count": 37,
     "metadata": {},
     "output_type": "execute_result"
    }
   ],
   "source": [
    "import argparse\n",
    "import json\n",
    "import os\n",
    "import pathlib\n",
    "import pickle as pkl\n",
    "import shutil\n",
    "import sys\n",
    "import time\n",
    "import warnings\n",
    "from collections import defaultdict\n",
    "from typing import Dict, List, Optional\n",
    "\n",
    "import awkward as ak\n",
    "import matplotlib.pyplot as plt\n",
    "import numpy as np\n",
    "import pandas as pd\n",
    "import pyarrow as pa\n",
    "import pyarrow.parquet as pq\n",
    "\n",
    "### schema\n",
    "import uproot\n",
    "from coffea import nanoevents, processor\n",
    "from coffea.analysis_tools import PackedSelection, Weights\n",
    "from coffea.nanoevents import BaseSchema, NanoAODSchema, NanoEventsFactory\n",
    "from coffea.nanoevents.methods import candidate, vector\n",
    "\n",
    "### awkward 1.10.0\n",
    "sys.path.append(\"../\")\n",
    "\n",
    "nanoevents.PFNanoAODSchema.mixins[\"PFCands\"] = \"PFCand\"\n",
    "nanoevents.PFNanoAODSchema.mixins[\"SV\"] = \"PFCand\"\n",
    "\n",
    "warnings.filterwarnings(\"ignore\", message=\"Found duplicate branch \")\n",
    "warnings.filterwarnings(\"ignore\", category=DeprecationWarning)\n",
    "warnings.filterwarnings(\"ignore\", message=\"Missing cross-reference index \")\n",
    "warnings.filterwarnings(\"ignore\", message=\"divide by zero encountered in log\")\n",
    "np.seterr(invalid=\"ignore\")"
   ]
  },
  {
   "cell_type": "code",
   "execution_count": 36,
   "id": "25b2c5ef",
   "metadata": {},
   "outputs": [],
   "source": [
    "%load_ext autoreload\n",
    "%autoreload 2"
   ]
  },
  {
   "cell_type": "code",
   "execution_count": 5,
   "id": "bc6663b4",
   "metadata": {},
   "outputs": [],
   "source": [
    "def build_p4(cand):\n",
    "    return ak.zip(\n",
    "        {\n",
    "            \"pt\": cand.pt,\n",
    "            \"eta\": cand.eta,\n",
    "            \"phi\": cand.phi,\n",
    "            \"mass\": cand.mass,\n",
    "            \"charge\": cand.charge,\n",
    "        },\n",
    "        with_name=\"PtEtaPhiMCandidate\",\n",
    "        behavior=candidate.behavior,\n",
    "    )"
   ]
  },
  {
   "cell_type": "code",
   "execution_count": 6,
   "id": "1d8a1d30",
   "metadata": {},
   "outputs": [
    {
     "name": "stdout",
     "output_type": "stream",
     "text": [
      "file1.root file2.root file3.root ggF.root\r\n"
     ]
    }
   ],
   "source": [
    "! ls ../rootfiles/HWW"
   ]
  },
  {
   "cell_type": "markdown",
   "id": "33fc6e56",
   "metadata": {},
   "source": [
    "# Get candidate jet"
   ]
  },
  {
   "cell_type": "code",
   "execution_count": 7,
   "id": "6fca78ad",
   "metadata": {
    "scrolled": true
   },
   "outputs": [],
   "source": [
    "def get_candidatefj(events):\n",
    "    \n",
    "    good_muons = (\n",
    "        (events.Muon.pt > 28)\n",
    "        & (np.abs(events.Muon.eta) < 2.4)\n",
    "        & (np.abs(events.Muon.dz) < 0.1)\n",
    "        & (np.abs(events.Muon.dxy) < 0.05)\n",
    "        & (events.Muon.sip3d <= 4.0)\n",
    "        & events.Muon.mediumId\n",
    "    )\n",
    "\n",
    "    good_electrons = (\n",
    "        (events.Electron.pt > 38)\n",
    "        & ((np.abs(events.Electron.eta) < 1.44) | (np.abs(events.Electron.eta) > 1.57))\n",
    "        & (np.abs(events.Electron.dz) < 0.1)\n",
    "        & (np.abs(events.Electron.dxy) < 0.05)\n",
    "        & (events.Electron.sip3d <= 4.0)\n",
    "        & (events.Electron.mvaFall17V2noIso_WP90)\n",
    "    )\n",
    "\n",
    "    # leading lepton\n",
    "    goodleptons = ak.concatenate([events.Muon[good_muons], events.Electron[good_electrons]], axis=1)\n",
    "    goodleptons = goodleptons[ak.argsort(goodleptons.pt, ascending=False)]\n",
    "\n",
    "    candidatelep = ak.firsts(goodleptons[:, 0:1])\n",
    "\n",
    "    # candidate leptons\n",
    "    candidatelep_p4 = build_p4(candidatelep)\n",
    "\n",
    "    # fatjets\n",
    "    fatjets = events.FatJet\n",
    "\n",
    "    msk_good_fatjets = (fatjets.pt > 200) & (abs(fatjets.eta) < 2.5) & fatjets.isTight\n",
    "    n_fatjets = ak.sum(msk_good_fatjets, axis=1)\n",
    "\n",
    "    good_fatjets = fatjets[msk_good_fatjets]  # select good fatjets\n",
    "\n",
    "    fj_idx_lep = ak.argmin(good_fatjets.delta_r(candidatelep_p4), axis=1, keepdims=True)\n",
    "\n",
    "    candidatefj = ak.firsts(good_fatjets[fj_idx_lep])\n",
    "    \n",
    "    return candidatefj"
   ]
  },
  {
   "cell_type": "markdown",
   "id": "51186302",
   "metadata": {},
   "source": [
    "# Matching"
   ]
  },
  {
   "cell_type": "markdown",
   "id": "1f521574",
   "metadata": {},
   "source": [
    "## Higgs matching"
   ]
  },
  {
   "cell_type": "code",
   "execution_count": 229,
   "id": "51827a88",
   "metadata": {},
   "outputs": [
    {
     "name": "stdout",
     "output_type": "stream",
     "text": [
      "number of events per file is 10000\n"
     ]
    }
   ],
   "source": [
    "from boostedhiggs.utils import match_H\n",
    "\n",
    "f = uproot.open(f\"../rootfiles/HWW/file1.root\")\n",
    "events = nanoevents.NanoEventsFactory.from_root(f, \"Events\", entry_stop=10000, schemaclass=nanoevents.PFNanoAODSchema).events()\n",
    "\n",
    "num = len(events)   ### checks number of events per file \n",
    "print(f'number of events per file is {num}')"
   ]
  },
  {
   "cell_type": "code",
   "execution_count": 231,
   "id": "7a66f357",
   "metadata": {},
   "outputs": [
    {
     "data": {
      "text/plain": [
       "<FatJetArray [FatJet, FatJet, ... FatJet, FatJet] type='2119 * ?fatJet'>"
      ]
     },
     "execution_count": 231,
     "metadata": {},
     "output_type": "execute_result"
    }
   ],
   "source": [
    "candidatefj = get_candidatefj(events)\n",
    "\n",
    "selection = ~ak.is_none(candidatefj)\n",
    "candidatefj[selection]"
   ]
  },
  {
   "cell_type": "code",
   "execution_count": 232,
   "id": "9a58db2e",
   "metadata": {},
   "outputs": [
    {
     "name": "stderr",
     "output_type": "stream",
     "text": [
      "/Users/fmokhtar/miniforge3/envs/triton/lib/python3.8/site-packages/coffea/nanoevents/methods/nanoaod.py:107: UserWarning: distinctChildrenDeep may not give correct answers for all generators!\n",
      "  warnings.warn(\n"
     ]
    }
   ],
   "source": [
    "GenVars, matched_mask = match_H(events.GenPart[selection], candidatefj[selection])"
   ]
  },
  {
   "cell_type": "code",
   "execution_count": 233,
   "id": "3b0102d8",
   "metadata": {},
   "outputs": [
    {
     "data": {
      "text/plain": [
       "{'fj_genH_pt': <Array [[313], [256], ... [219], [294]] type='2119 * var * float32[parameters={\"...'>,\n",
       " 'fj_genH_jet': <Array [0.107, 0.202, ... 0.0598, 0.0615] type='2119 * ?float32'>,\n",
       " 'fj_genV_dR': <Array [0.188, 0.33, 0.0778, ... 0.178, 0.0802] type='2119 * ?float32'>,\n",
       " 'fj_genVstar': <Array [0.307, 0.385, 0.142, ... 0.397, 0.172] type='2119 * ?float32'>,\n",
       " 'genV_genVstar_dR': <Array [0.448, 0.595, 0.114, ... 0.575, 0.245] type='2119 * ?float32'>,\n",
       " 'fj_nquarks': <Array [1, 2, 1, 0, 0, 2, ... 0, 2, 0, 2, 1, 1] type='2119 * ?int64'>,\n",
       " 'fj_ncquarks': <Array [0, 0, 0, 0, 0, 0, ... 0, 0, 0, 0, 0, 0] type='2119 * ?int64'>,\n",
       " 'fj_lepinprongs': <Array [1, 1, 1, 0, 0, 1, ... 2, 1, 2, 1, 1, 1] type='2119 * ?int64'>,\n",
       " 'fj_H_VV_4q': <Array [0, 0, 0, 0, 0, 0, ... 0, 0, 0, 0, 0, 0] type='2119 * int32'>,\n",
       " 'fj_H_VV_elenuqq': <Array [1, 1, 0, 0, 0, 0, ... 0, 0, 0, 0, 1, 0] type='2119 * int32'>,\n",
       " 'fj_H_VV_munuqq': <Array [0, 0, 1, 0, 1, 1, ... 0, 1, 0, 1, 0, 1] type='2119 * int32'>,\n",
       " 'fj_H_VV_taunuqq': <Array [0, 0, 0, 0, 0, 0, ... 0, 0, 0, 0, 0, 0] type='2119 * int32'>,\n",
       " 'fj_H_VV_isVlepton': <Array [True, True, False, ... True, False] type='2119 * ?bool'>,\n",
       " 'fj_H_VV_isVstarlepton': <Array [False, False, True, ... False, True] type='2119 * ?bool'>,\n",
       " 'fj_H_VV_isMatched': <Array [True, True, True, ... True, True, True] type='2119 * ?bool'>,\n",
       " 'gen_Vlep_pt': <Array [126, 96.8, 168, 36, ... 118, 130, 92.5] type='2119 * ?float32[parameters...'>}"
      ]
     },
     "execution_count": 233,
     "metadata": {},
     "output_type": "execute_result"
    }
   ],
   "source": [
    "GenVars"
   ]
  },
  {
   "cell_type": "markdown",
   "id": "b630a5d4",
   "metadata": {},
   "source": [
    "# VJet matching"
   ]
  },
  {
   "cell_type": "code",
   "execution_count": 31,
   "id": "432c5be7",
   "metadata": {},
   "outputs": [
    {
     "name": "stdout",
     "output_type": "stream",
     "text": [
      "number of events per file is 100\n"
     ]
    }
   ],
   "source": [
    "from boostedhiggs.utils import match_V\n",
    "\n",
    "f = uproot.open(f\"../rootfiles/WJets/file1.root\")\n",
    "events = nanoevents.NanoEventsFactory.from_root(f, \"Events\", entry_stop=100, schemaclass=nanoevents.PFNanoAODSchema).events()\n",
    "\n",
    "num = len(events)   ### checks number of events per file \n",
    "print(f'number of events per file is {num}')"
   ]
  },
  {
   "cell_type": "code",
   "execution_count": 32,
   "id": "5eb47ed3",
   "metadata": {},
   "outputs": [
    {
     "data": {
      "text/plain": [
       "<FatJetArray [FatJet, FatJet, ... FatJet, FatJet] type='8 * ?fatJet'>"
      ]
     },
     "execution_count": 32,
     "metadata": {},
     "output_type": "execute_result"
    }
   ],
   "source": [
    "candidatefj = get_candidatefj(events)\n",
    "\n",
    "selection = ~ak.is_none(candidatefj)\n",
    "candidatefj[selection]"
   ]
  },
  {
   "cell_type": "code",
   "execution_count": 33,
   "id": "ba7c9017",
   "metadata": {},
   "outputs": [],
   "source": [
    "GenVars, matched_mask = match_V(events.GenPart[selection], candidatefj[selection])"
   ]
  },
  {
   "cell_type": "code",
   "execution_count": 34,
   "id": "5fb156ea",
   "metadata": {},
   "outputs": [
    {
     "data": {
      "text/plain": [
       "{'fj_nprongs': <Array [0, 0, 1, 1, 1, 0, 1, 0] type='8 * ?int64'>,\n",
       " 'fj_lepinprongs': <Array [0, 0, 1, 1, 1, 0, 1, 0] type='8 * ?int64'>,\n",
       " 'fj_ncquarks': <Array [0, 0, 0, 0, 0, 0, 0, 0] type='8 * ?int64'>,\n",
       " 'fj_V_isMatched': <Array [False, False, True, ... True, False] type='8 * ?bool'>,\n",
       " 'fj_V_2q': <Array [0, 0, 0, 0, 0, 0, 0, 0] type='8 * ?int32'>,\n",
       " 'fj_V_elenu': <Array [1, 0, 1, 1, 0, 1, 1, 0] type='8 * ?int32'>,\n",
       " 'fj_V_munu': <Array [0, 1, 0, 0, 1, 0, 0, 1] type='8 * ?int32'>,\n",
       " 'fj_V_taunu': <Array [0, 0, 0, 0, 0, 0, 0, 0] type='8 * ?int32'>}"
      ]
     },
     "execution_count": 34,
     "metadata": {},
     "output_type": "execute_result"
    }
   ],
   "source": [
    "GenVars"
   ]
  },
  {
   "cell_type": "code",
   "execution_count": 35,
   "id": "a59e65e7",
   "metadata": {},
   "outputs": [
    {
     "data": {
      "text/plain": [
       "<Array [False, False, True, ... True, False] type='8 * ?bool'>"
      ]
     },
     "execution_count": 35,
     "metadata": {},
     "output_type": "execute_result"
    }
   ],
   "source": [
    "matched_mask"
   ]
  },
  {
   "cell_type": "markdown",
   "id": "757ffa2f",
   "metadata": {},
   "source": [
    "# QCD matching"
   ]
  },
  {
   "cell_type": "code",
   "execution_count": 55,
   "id": "7eaf4d4a",
   "metadata": {},
   "outputs": [
    {
     "name": "stdout",
     "output_type": "stream",
     "text": [
      "number of events per file is 3000\n"
     ]
    }
   ],
   "source": [
    "from boostedhiggs.utils import match_QCD\n",
    "\n",
    "f = uproot.open(f\"../rootfiles/QCD/file1.root\")\n",
    "events = nanoevents.NanoEventsFactory.from_root(f, \"Events\", entry_stop=3000, schemaclass=nanoevents.PFNanoAODSchema).events()\n",
    "\n",
    "num = len(events)   ### checks number of events per file \n",
    "print(f'number of events per file is {num}')"
   ]
  },
  {
   "cell_type": "code",
   "execution_count": 56,
   "id": "ccbf0a09",
   "metadata": {},
   "outputs": [
    {
     "data": {
      "text/plain": [
       "<FatJetArray [FatJet, FatJet, ... FatJet, FatJet] type='17 * ?fatJet'>"
      ]
     },
     "execution_count": 56,
     "metadata": {},
     "output_type": "execute_result"
    }
   ],
   "source": [
    "candidatefj = get_candidatefj(events)\n",
    "\n",
    "selection = ~ak.is_none(candidatefj)\n",
    "candidatefj[selection]"
   ]
  },
  {
   "cell_type": "code",
   "execution_count": 57,
   "id": "e64cee93",
   "metadata": {},
   "outputs": [],
   "source": [
    "GenVars, matched_mask = match_QCD(events.GenPart[selection], candidatefj[selection])"
   ]
  },
  {
   "cell_type": "code",
   "execution_count": 58,
   "id": "621291fe",
   "metadata": {},
   "outputs": [
    {
     "data": {
      "text/plain": [
       "{'fj_isQCDb': <Array [0, 0, 0, 0, 1, 0, ... 0, 0, 0, 0, 0, 0] type='17 * ?int32'>,\n",
       " 'fj_isQCDbb': <Array [0, 0, 0, 0, 0, 0, ... 1, 0, 0, 0, 1, 1] type='17 * ?int32'>,\n",
       " 'fj_isQCDc': <Array [0, 0, 0, 0, 0, 1, ... 0, 1, 1, 0, 0, 0] type='17 * ?int32'>,\n",
       " 'fj_isQCDcc': <Array [1, 0, 0, 1, 0, 0, ... 0, 0, 0, 0, 0, 0] type='17 * ?int32'>,\n",
       " 'fj_isQCDothers': <Array [0, 1, 1, 0, 0, 0, ... 0, 0, 0, 1, 0, 0] type='17 * ?int32'>}"
      ]
     },
     "execution_count": 58,
     "metadata": {},
     "output_type": "execute_result"
    }
   ],
   "source": [
    "GenVars"
   ]
  },
  {
   "cell_type": "markdown",
   "id": "a09c8545",
   "metadata": {},
   "source": [
    "## Top matching"
   ]
  },
  {
   "cell_type": "code",
   "execution_count": 222,
   "id": "ee41ea3b",
   "metadata": {},
   "outputs": [
    {
     "name": "stdout",
     "output_type": "stream",
     "text": [
      "number of events per file is 1000\n"
     ]
    }
   ],
   "source": [
    "from boostedhiggs.utils import match_Top\n",
    "\n",
    "f = uproot.open(f\"../rootfiles/TTbar/file1.root\")\n",
    "events = nanoevents.NanoEventsFactory.from_root(f, \"Events\", entry_stop=1000, schemaclass=nanoevents.PFNanoAODSchema).events()\n",
    "\n",
    "num = len(events)   ### checks number of events per file \n",
    "print(f'number of events per file is {num}')"
   ]
  },
  {
   "cell_type": "code",
   "execution_count": 223,
   "id": "d136bbba",
   "metadata": {},
   "outputs": [
    {
     "data": {
      "text/plain": [
       "<FatJetArray [FatJet, FatJet, ... FatJet, FatJet] type='74 * ?fatJet'>"
      ]
     },
     "execution_count": 223,
     "metadata": {},
     "output_type": "execute_result"
    }
   ],
   "source": [
    "candidatefj = get_candidatefj(events)\n",
    "\n",
    "selection = ~ak.is_none(candidatefj)\n",
    "candidatefj[selection]"
   ]
  },
  {
   "cell_type": "code",
   "execution_count": 224,
   "id": "ff6bac69",
   "metadata": {},
   "outputs": [],
   "source": [
    "GenVars, matched_mask = match_Top(events.GenPart[selection], candidatefj[selection])"
   ]
  },
  {
   "cell_type": "code",
   "execution_count": 225,
   "id": "adcf2de6",
   "metadata": {},
   "outputs": [
    {
     "data": {
      "text/plain": [
       "{'fj_Top_isMatched': <Array [True, True, True, ... True, True, True] type='74 * ?bool'>,\n",
       " 'fj_Top_numMatched': <Array [1, 1, 1, 1, 1, 1, ... 1, 1, 1, 2, 1, 1] type='74 * ?int64'>,\n",
       " 'fj_Top_nquarksnob': <Array [0, 2, 0, 2, 2, 2, ... 0, 0, 0, 1, 0, 0] type='74 * ?int64'>,\n",
       " 'fj_Top_nbquarks': <Array [1, 1, 1, 0, 0, 0, ... 1, 1, 1, 0, 1, 0] type='74 * ?int64'>,\n",
       " 'fj_Top_ncquarks': <Array [0, 0, 0, 0, 0, 0, ... 0, 0, 0, 0, 0, 0] type='74 * ?int64'>,\n",
       " 'fj_Top_nleptons': <Array [1, 0, 1, 0, 0, 0, ... 0, 0, 1, 1, 1, 1] type='74 * ?int64'>,\n",
       " 'fj_Top_nele': <Array [0, 0, 1, 0, 0, 0, ... 0, 0, 1, 1, 0, 0] type='74 * ?int64'>,\n",
       " 'fj_Top_nmu': <Array [1, 0, 0, 0, 0, 0, ... 0, 0, 0, 0, 1, 1] type='74 * ?int64'>,\n",
       " 'fj_Top_ntau': <Array [0, 0, 0, 0, 0, 0, ... 0, 0, 0, 0, 0, 0] type='74 * ?int64'>,\n",
       " 'fj_Top_taudecay': <Array [0, 0, 0, 0, 0, 0, ... 0, 0, 0, 0, 0, 0] type='74 * int64'>}"
      ]
     },
     "execution_count": 225,
     "metadata": {},
     "output_type": "execute_result"
    }
   ],
   "source": [
    "GenVars"
   ]
  },
  {
   "cell_type": "code",
   "execution_count": 226,
   "id": "13d7274e",
   "metadata": {},
   "outputs": [
    {
     "data": {
      "text/plain": [
       "<Array [True, True, True, ... True, True, True] type='74 * ?bool'>"
      ]
     },
     "execution_count": 226,
     "metadata": {},
     "output_type": "execute_result"
    }
   ],
   "source": [
    "matched_mask"
   ]
  },
  {
   "cell_type": "code",
   "execution_count": 228,
   "id": "5bdd94db",
   "metadata": {},
   "outputs": [
    {
     "data": {
      "text/plain": [
       "<Array [1, 0, 1, 0, 0, 0, ... 0, 0, 1, 1, 1, 1] type='74 * ?int64'>"
      ]
     },
     "execution_count": 228,
     "metadata": {},
     "output_type": "execute_result"
    }
   ],
   "source": [
    "GenVars[\"fj_Top_nleptons\"]"
   ]
  },
  {
   "cell_type": "code",
   "execution_count": null,
   "id": "b72c4f62",
   "metadata": {},
   "outputs": [],
   "source": []
  }
 ],
 "metadata": {
  "kernelspec": {
   "display_name": "triton",
   "language": "python",
   "name": "triton"
  },
  "language_info": {
   "codemirror_mode": {
    "name": "ipython",
    "version": 3
   },
   "file_extension": ".py",
   "mimetype": "text/x-python",
   "name": "python",
   "nbconvert_exporter": "python",
   "pygments_lexer": "ipython3",
   "version": "3.8.17"
  }
 },
 "nbformat": 4,
 "nbformat_minor": 5
}
