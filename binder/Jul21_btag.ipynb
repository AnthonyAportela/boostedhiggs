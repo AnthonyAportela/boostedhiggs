{
 "cells": [
  {
   "cell_type": "code",
   "execution_count": 1,
   "id": "27949dbe",
   "metadata": {},
   "outputs": [],
   "source": [
    "import glob\n",
    "import os\n",
    "import json\n",
    "import pickle\n",
    "import yaml\n",
    "\n",
    "import argparse\n",
    "import json\n",
    "import os\n",
    "import pathlib\n",
    "import pickle as pkl\n",
    "import shutil\n",
    "import sys\n",
    "import time\n",
    "import warnings\n",
    "from collections import defaultdict\n",
    "from typing import List, Optional, Union\n",
    "\n",
    "import awkward as ak\n",
    "import numpy as np\n",
    "import pandas as pd\n",
    "pd.options.mode.chained_assignment = None\n",
    "\n",
    "import pyarrow as pa\n",
    "import pyarrow.parquet as pq\n",
    "\n",
    "import uproot\n",
    "from coffea import nanoevents, processor\n",
    "from coffea.analysis_tools import PackedSelection, Weights\n",
    "from coffea.nanoevents import NanoAODSchema, NanoEventsFactory\n",
    "from coffea.nanoevents.methods import candidate, vector\n",
    "from coffea.nanoevents.methods.nanoaod import FatJetArray, GenParticleArray\n",
    "\n",
    "import hist as hist2\n",
    "import matplotlib.pyplot as plt\n",
    "import mplhep as hep\n",
    "\n",
    "plt.style.use(hep.style.CMS)\n",
    "\n",
    "import sys\n",
    "sys.path.append(\"../boostedhiggs/\")\n",
    "import btag"
   ]
  },
  {
   "cell_type": "code",
   "execution_count": 2,
   "id": "68c13292",
   "metadata": {},
   "outputs": [],
   "source": [
    "%load_ext autoreload\n",
    "%autoreload 2"
   ]
  },
  {
   "cell_type": "code",
   "execution_count": 3,
   "id": "1a1e02b6",
   "metadata": {},
   "outputs": [
    {
     "name": "stdout",
     "output_type": "stream",
     "text": [
      "ggh.root\r\n"
     ]
    }
   ],
   "source": [
    "! ls ../rootfiles/"
   ]
  },
  {
   "cell_type": "code",
   "execution_count": 4,
   "id": "5e70b9b3",
   "metadata": {
    "scrolled": true
   },
   "outputs": [
    {
     "name": "stdout",
     "output_type": "stream",
     "text": [
      "number of events per file: 6000\n"
     ]
    },
    {
     "name": "stderr",
     "output_type": "stream",
     "text": [
      "/uscms/home/fmokhtar/nobackup/miniconda3/envs/coffea-env/lib/python3.8/site-packages/coffea/nanoevents/mapping/uproot.py:86: UserWarning: Found duplicate branch FatJetAK15SubJet_nBHadrons in <TTree 'Events' (2140 branches) at 0x7f6c34144580>, taking first instance\n",
      "  warnings.warn(\n",
      "/uscms/home/fmokhtar/nobackup/miniconda3/envs/coffea-env/lib/python3.8/site-packages/coffea/nanoevents/mapping/uproot.py:86: UserWarning: Found duplicate branch FatJetAK15SubJet_nCHadrons in <TTree 'Events' (2140 branches) at 0x7f6c34144580>, taking first instance\n",
      "  warnings.warn(\n",
      "/uscms/home/fmokhtar/nobackup/miniconda3/envs/coffea-env/lib/python3.8/site-packages/coffea/nanoevents/mapping/uproot.py:86: UserWarning: Found duplicate branch FatJetAK15_nBHadrons in <TTree 'Events' (2140 branches) at 0x7f6c34144580>, taking first instance\n",
      "  warnings.warn(\n",
      "/uscms/home/fmokhtar/nobackup/miniconda3/envs/coffea-env/lib/python3.8/site-packages/coffea/nanoevents/mapping/uproot.py:86: UserWarning: Found duplicate branch FatJetAK15_nCHadrons in <TTree 'Events' (2140 branches) at 0x7f6c34144580>, taking first instance\n",
      "  warnings.warn(\n",
      "/uscms/home/fmokhtar/nobackup/miniconda3/envs/coffea-env/lib/python3.8/site-packages/coffea/nanoevents/mapping/uproot.py:86: UserWarning: Found duplicate branch FatJet_btagDDBvLV2 in <TTree 'Events' (2140 branches) at 0x7f6c34144580>, taking first instance\n",
      "  warnings.warn(\n",
      "/uscms/home/fmokhtar/nobackup/miniconda3/envs/coffea-env/lib/python3.8/site-packages/coffea/nanoevents/mapping/uproot.py:86: UserWarning: Found duplicate branch FatJet_btagDDCvBV2 in <TTree 'Events' (2140 branches) at 0x7f6c34144580>, taking first instance\n",
      "  warnings.warn(\n",
      "/uscms/home/fmokhtar/nobackup/miniconda3/envs/coffea-env/lib/python3.8/site-packages/coffea/nanoevents/mapping/uproot.py:86: UserWarning: Found duplicate branch FatJet_btagDDCvLV2 in <TTree 'Events' (2140 branches) at 0x7f6c34144580>, taking first instance\n",
      "  warnings.warn(\n",
      "/uscms/home/fmokhtar/nobackup/miniconda3/envs/coffea-env/lib/python3.8/site-packages/coffea/nanoevents/mapping/uproot.py:86: UserWarning: Found duplicate branch FatJet_nBHadrons in <TTree 'Events' (2140 branches) at 0x7f6c34144580>, taking first instance\n",
      "  warnings.warn(\n",
      "/uscms/home/fmokhtar/nobackup/miniconda3/envs/coffea-env/lib/python3.8/site-packages/coffea/nanoevents/mapping/uproot.py:86: UserWarning: Found duplicate branch FatJet_nCHadrons in <TTree 'Events' (2140 branches) at 0x7f6c34144580>, taking first instance\n",
      "  warnings.warn(\n",
      "/uscms/home/fmokhtar/nobackup/miniconda3/envs/coffea-env/lib/python3.8/site-packages/coffea/nanoevents/mapping/uproot.py:86: UserWarning: Found duplicate branch SubJet_nBHadrons in <TTree 'Events' (2140 branches) at 0x7f6c34144580>, taking first instance\n",
      "  warnings.warn(\n",
      "/uscms/home/fmokhtar/nobackup/miniconda3/envs/coffea-env/lib/python3.8/site-packages/coffea/nanoevents/mapping/uproot.py:86: UserWarning: Found duplicate branch SubJet_nCHadrons in <TTree 'Events' (2140 branches) at 0x7f6c34144580>, taking first instance\n",
      "  warnings.warn(\n",
      "/uscms/home/fmokhtar/nobackup/miniconda3/envs/coffea-env/lib/python3.8/site-packages/coffea/nanoevents/schemas/nanoaod.py:201: RuntimeWarning: Missing cross-reference index for GenFatJetCands_jetIdx => GenJetAK8\n",
      "  warnings.warn(\n",
      "/uscms/home/fmokhtar/nobackup/miniconda3/envs/coffea-env/lib/python3.8/site-packages/coffea/nanoevents/schemas/nanoaod.py:201: RuntimeWarning: Missing cross-reference index for GenFatJetCands_pFCandsIdx => GenCands\n",
      "  warnings.warn(\n",
      "/uscms/home/fmokhtar/nobackup/miniconda3/envs/coffea-env/lib/python3.8/site-packages/coffea/nanoevents/schemas/nanoaod.py:201: RuntimeWarning: Missing cross-reference index for GenFatJetSVs_jetIdx => GenJetAK8\n",
      "  warnings.warn(\n",
      "/uscms/home/fmokhtar/nobackup/miniconda3/envs/coffea-env/lib/python3.8/site-packages/coffea/nanoevents/schemas/nanoaod.py:201: RuntimeWarning: Missing cross-reference index for GenFatJetSVs_sVIdx => SV\n",
      "  warnings.warn(\n",
      "/uscms/home/fmokhtar/nobackup/miniconda3/envs/coffea-env/lib/python3.8/site-packages/coffea/nanoevents/schemas/nanoaod.py:201: RuntimeWarning: Missing cross-reference index for GenJetCands_jetIdx => GenJet\n",
      "  warnings.warn(\n",
      "/uscms/home/fmokhtar/nobackup/miniconda3/envs/coffea-env/lib/python3.8/site-packages/coffea/nanoevents/schemas/nanoaod.py:201: RuntimeWarning: Missing cross-reference index for GenJetCands_pFCandsIdx => GenCands\n",
      "  warnings.warn(\n",
      "/uscms/home/fmokhtar/nobackup/miniconda3/envs/coffea-env/lib/python3.8/site-packages/coffea/nanoevents/schemas/nanoaod.py:201: RuntimeWarning: Missing cross-reference index for GenJetSVs_jetIdx => GenJet\n",
      "  warnings.warn(\n",
      "/uscms/home/fmokhtar/nobackup/miniconda3/envs/coffea-env/lib/python3.8/site-packages/coffea/nanoevents/schemas/nanoaod.py:201: RuntimeWarning: Missing cross-reference index for GenJetSVs_sVIdx => SV\n",
      "  warnings.warn(\n",
      "/uscms/home/fmokhtar/nobackup/miniconda3/envs/coffea-env/lib/python3.8/site-packages/coffea/nanoevents/schemas/nanoaod.py:201: RuntimeWarning: Missing cross-reference index for JetPFCands_jetIdx => Jet\n",
      "  warnings.warn(\n",
      "/uscms/home/fmokhtar/nobackup/miniconda3/envs/coffea-env/lib/python3.8/site-packages/coffea/nanoevents/schemas/nanoaod.py:201: RuntimeWarning: Missing cross-reference index for JetPFCands_pFCandsIdx => PFCands\n",
      "  warnings.warn(\n",
      "/uscms/home/fmokhtar/nobackup/miniconda3/envs/coffea-env/lib/python3.8/site-packages/coffea/nanoevents/schemas/nanoaod.py:201: RuntimeWarning: Missing cross-reference index for JetSVs_jetIdx => Jet\n",
      "  warnings.warn(\n",
      "/uscms/home/fmokhtar/nobackup/miniconda3/envs/coffea-env/lib/python3.8/site-packages/coffea/nanoevents/schemas/nanoaod.py:201: RuntimeWarning: Missing cross-reference index for JetSVs_sVIdx => SV\n",
      "  warnings.warn(\n"
     ]
    }
   ],
   "source": [
    "### schema\n",
    "nanoevents.PFNanoAODSchema.mixins[\"PFCands\"] = \"PFCand\"\n",
    "nanoevents.PFNanoAODSchema.mixins[\"SV\"] = \"PFCand\"\n",
    "\n",
    "# load a ggF root file into coffea-friendly NanoAOD structure\n",
    "import uproot\n",
    "f = uproot.open(f\"../rootfiles/ggh.root\")\n",
    "num = f['Events'].num_entries   ### checks number of events per file \n",
    "print(f'number of events per file: {num}')\n",
    "\n",
    "events = nanoevents.NanoEventsFactory.from_root(f, \"Events\", schemaclass=nanoevents.PFNanoAODSchema).events()"
   ]
  },
  {
   "cell_type": "code",
   "execution_count": 5,
   "id": "768c2375",
   "metadata": {},
   "outputs": [
    {
     "data": {
      "text/plain": [
       "array([1., 1., 1., ..., 1., 1., 1.])"
      ]
     },
     "execution_count": 5,
     "metadata": {},
     "output_type": "execute_result"
    }
   ],
   "source": [
    "nevents = len(events)\n",
    "isMC = hasattr(events, \"genWeight\")\n",
    "weights = Weights(nevents, storeIndividual=True)\n",
    "\n",
    "weights.weight()"
   ]
  },
  {
   "cell_type": "code",
   "execution_count": 6,
   "id": "f9b25170",
   "metadata": {},
   "outputs": [
    {
     "name": "stderr",
     "output_type": "stream",
     "text": [
      "/uscms/home/fmokhtar/nobackup/miniconda3/envs/coffea-env/lib/python3.8/site-packages/awkward/_connect/_numpy.py:195: RuntimeWarning: invalid value encountered in divide\n",
      "  result = getattr(ufunc, method)(\n"
     ]
    },
    {
     "data": {
      "text/plain": [
       "array([1.04048248, 1.05878781, 1.05162773, ..., 1.0217171 , 1.03197611,\n",
       "       0.98962473])"
      ]
     },
     "execution_count": 6,
     "metadata": {},
     "output_type": "execute_result"
    }
   ],
   "source": [
    "# from hww processor\n",
    "fatjets = events.FatJet\n",
    "good_fatjets = (fatjets.pt > 200) & (abs(fatjets.eta) < 2.5) & fatjets.isTight\n",
    "good_fatjets = fatjets[good_fatjets]  # select good fatjets\n",
    "candidatefj = ak.firsts(good_fatjets)\n",
    "\n",
    "# apply btag weight for candidatefj\n",
    "btag.add_btag_weights(weights, \"2018\", ak.singletons(candidatefj), \"T\")\n",
    "\n",
    "weights.weight()"
   ]
  },
  {
   "cell_type": "code",
   "execution_count": null,
   "id": "954c1883",
   "metadata": {},
   "outputs": [],
   "source": []
  }
 ],
 "metadata": {
  "kernelspec": {
   "display_name": "Python 3 (ipykernel)",
   "language": "python",
   "name": "python3"
  },
  "language_info": {
   "codemirror_mode": {
    "name": "ipython",
    "version": 3
   },
   "file_extension": ".py",
   "mimetype": "text/x-python",
   "name": "python",
   "nbconvert_exporter": "python",
   "pygments_lexer": "ipython3",
   "version": "3.8.16"
  }
 },
 "nbformat": 4,
 "nbformat_minor": 5
}
