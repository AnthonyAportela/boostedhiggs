{
 "cells": [
  {
   "cell_type": "code",
   "execution_count": 1,
   "metadata": {},
   "outputs": [],
   "source": [
    "from coffea import processor, util\n",
    "\n",
    "%matplotlib inline\n",
    "import matplotlib.pyplot as plt\n",
    "\n",
    "from boostedhiggs import HwwProcessor"
   ]
  },
  {
   "cell_type": "code",
   "execution_count": 2,
   "metadata": {},
   "outputs": [
    {
     "data": {
      "application/vnd.jupyter.widget-view+json": {
       "model_id": "aa8c061d1586415baf322bbf5f70c4e1",
       "version_major": 2,
       "version_minor": 0
      },
      "text/plain": [
       "HBox(children=(FloatProgress(value=0.0, description='Preprocessing', max=10.0, style=ProgressStyle(description…"
      ]
     },
     "metadata": {},
     "output_type": "display_data"
    },
    {
     "name": "stdout",
     "output_type": "stream",
     "text": [
      "\n"
     ]
    },
    {
     "data": {
      "application/vnd.jupyter.widget-view+json": {
       "model_id": "4c9845c592dd43fb8d309df620f1fc7a",
       "version_major": 2,
       "version_minor": 0
      },
      "text/plain": [
       "HBox(children=(FloatProgress(value=0.0, description='Processing', max=116.0, style=ProgressStyle(description_w…"
      ]
     },
     "metadata": {},
     "output_type": "display_data"
    },
    {
     "name": "stderr",
     "output_type": "stream",
     "text": [
      "/Users/cristina/Library/Python/3.6/lib/python/site-packages/awkward/array/jagged.py:1035: RuntimeWarning: invalid value encountered in arccosh\n",
      "  result = getattr(ufunc, method)(*inputs, **kwargs)\n",
      "/Users/cristina/Library/Python/3.6/lib/python/site-packages/awkward/array/jagged.py:1035: RuntimeWarning: invalid value encountered in less\n",
      "  result = getattr(ufunc, method)(*inputs, **kwargs)\n"
     ]
    },
    {
     "name": "stdout",
     "output_type": "stream",
     "text": [
      "\n"
     ]
    },
    {
     "name": "stderr",
     "output_type": "stream",
     "text": [
      "/Users/cristina/hww/boostedhiggs/boostedhiggs/hwwprocessor.py:276: RuntimeWarning: Missing cross section for dataset hww.  Normalizing to 1 pb\n",
      "  warnings.warn(\"Missing cross section for dataset %s.  Normalizing to 1 pb\" % dataset, RuntimeWarning)\n"
     ]
    },
    {
     "data": {
      "text/plain": [
       "<pyinstrument.session.ProfilerSession at 0x125d90da0>"
      ]
     },
     "execution_count": 2,
     "metadata": {},
     "output_type": "execute_result"
    }
   ],
   "source": [
    "files = {\n",
    "    'GluGluHToWWToLNuQQ_M125_TuneCP5_PSweight_13TeV-powheg2-jhugen727-pythia8': [\n",
    "        'data/GluGluHToWWToLNuQQ_M125_TuneCP5_PSweight_13TeV-powheg2-jhugen727-pythia8-hadd/nano_mc_2017_0.root',\n",
    "        'data/GluGluHToWWToLNuQQ_M125_TuneCP5_PSweight_13TeV-powheg2-jhugen727-pythia8-hadd/nano_mc_2017_1.root',\n",
    "        'data/GluGluHToWWToLNuQQ_M125_TuneCP5_PSweight_13TeV-powheg2-jhugen727-pythia8-hadd/nano_mc_2017_2.root',\n",
    "        'data/GluGluHToWWToLNuQQ_M125_TuneCP5_PSweight_13TeV-powheg2-jhugen727-pythia8-hadd/nano_mc_2017_3.root',\n",
    "        'data/GluGluHToWWToLNuQQ_M125_TuneCP5_PSweight_13TeV-powheg2-jhugen727-pythia8-hadd/nano_mc_2017_4.root',\n",
    "        'data/GluGluHToWWToLNuQQ_M125_TuneCP5_PSweight_13TeV-powheg2-jhugen727-pythia8-hadd/nano_mc_2017_5.root',\n",
    "        'data/GluGluHToWWToLNuQQ_M125_TuneCP5_PSweight_13TeV-powheg2-jhugen727-pythia8-hadd/nano_mc_2017_6.root',\n",
    "        'data/GluGluHToWWToLNuQQ_M125_TuneCP5_PSweight_13TeV-powheg2-jhugen727-pythia8-hadd/nano_mc_2017_7.root',\n",
    "        'data/GluGluHToWWToLNuQQ_M125_TuneCP5_PSweight_13TeV-powheg2-jhugen727-pythia8-hadd/nano_mc_2017_8.root',\n",
    "        'data/GluGluHToWWToLNuQQ_M125_TuneCP5_PSweight_13TeV-powheg2-jhugen727-pythia8-hadd/nano_mc_2017_9.root'\n",
    "    ]\n",
    "}\n",
    "\n",
    "p = HwwProcessor(year='2018',trigger='muon')\n",
    "exe_config = {\n",
    "    'flatten': True,\n",
    "    'workers': 4,\n",
    "    'savemetrics': True,\n",
    "    'compression': 0,\n",
    "    'nano': True,\n",
    "}\n",
    "\n",
    "from pyinstrument import Profiler\n",
    "profiler = Profiler()\n",
    "profiler.start()\n",
    "output, metrics = processor.run_uproot_job(files, 'Events', p, processor.iterative_executor, exe_config)\n",
    "profiler.stop()"
   ]
  },
  {
   "cell_type": "code",
   "execution_count": 3,
   "metadata": {},
   "outputs": [
    {
     "name": "stdout",
     "output_type": "stream",
     "text": [
      "Events / s / thread: 58646\n",
      "Columns accessed: {'genWeight', 'FatJet_msoftdrop', 'nMuon', 'FatJet_phi', 'nFatJet', 'nElectron', 'Muon_dxy', 'HLT_Mu50', 'MET_pt', 'HLT_Mu55', 'MET_phi', 'Muon_pt', 'FatJet_lsf3', 'FatJet_pt', 'Muon_mass', 'Jet_phi', 'HLT_Mu15_IsoVVVL_PFHT450_PFMET50', 'Jet_jetId', 'Electron_pt', 'Muon_phi', 'Jet_pt', 'HLT_Mu15_IsoVVVL_PFHT600', 'Muon_eta', 'FatJet_mass', 'FatJet_eta', 'nJet', 'Muon_dz', 'FatJet_jetId', 'Jet_btagDeepB', 'Electron_eta', 'Muon_sip3d', 'Muon_miniPFRelIso_all'}\n"
     ]
    }
   ],
   "source": [
    "evtrate = metrics['entries'].value / metrics['processtime'].value\n",
    "print(\"Events / s / thread: %.0f\" % evtrate)\n",
    "print(\"Columns accessed:\", set(metrics['columns']))\n"
   ]
  },
  {
   "cell_type": "code",
   "execution_count": 4,
   "metadata": {},
   "outputs": [],
   "source": [
    "with open('profile.html', 'w') as fout:\n",
    "    fout.write(profiler.output_html())"
   ]
  },
  {
   "cell_type": "code",
   "execution_count": 5,
   "metadata": {},
   "outputs": [
    {
     "data": {
      "text/plain": [
       "{'sumw': defaultdict_accumulator(int, {'hww': 3897319.25390625}),\n",
       " 'cutflow': defaultdict_accumulator(float,\n",
       "                         {'none': 134890.0,\n",
       "                          'trigger': 134890.0,\n",
       "                          'jetkin': 13001.0,\n",
       "                          'onemuon': 7376.0,\n",
       "                          'antibtag': 7299.0,\n",
       "                          'LSF3medium': 1.0}),\n",
       " 'trigger_trigprop': <Hist (dataset,jet_pt) instance at 0x1f39edf60>,\n",
       " 'trigger_jetprop': <Hist (dataset,jet_oppbtag) instance at 0x1f39edbe0>,\n",
       " 'trigger_muonprop': <Hist (dataset,muon_pt,muon_miso) instance at 0x1f39eda90>,\n",
       " 'trigger_metprop': <Hist (dataset,met_pt,met_eta,met_phi) instance at 0x1f39ed978>,\n",
       " 'presel_trigprop': <Hist (dataset,jet_pt) instance at 0x1f39ed860>,\n",
       " 'presel_jetprop': <Hist (dataset,jet_oppbtag) instance at 0x1f39ed748>,\n",
       " 'presel_muonprop': <Hist (dataset,muon_pt,muon_miso) instance at 0x1f39ed630>,\n",
       " 'presel_metprop': <Hist (dataset,met_pt,met_eta,met_phi) instance at 0x1f39ed518>,\n",
       " 'bopp_trigprop': <Hist (dataset,jet_pt) instance at 0x1731f0f98>,\n",
       " 'bopp_jetprop': <Hist (dataset,jet_oppbtag) instance at 0x248227b70>,\n",
       " 'bopp_muonprop': <Hist (dataset,muon_pt,muon_miso) instance at 0x173233cf8>,\n",
       " 'bopp_metprop': <Hist (dataset,met_pt,met_eta,met_phi) instance at 0x173233b70>,\n",
       " 'lepsel_fjetprop': <Hist (dataset,jet_pt,jet_lsf3,jet_mmass) instance at 0x173233ba8>,\n",
       " 'lepsel_trigprop': <Hist (dataset,jet_pt) instance at 0x173233cc0>,\n",
       " 'lepsel_jetprop': <Hist (dataset,jet_oppbtag) instance at 0x173233eb8>,\n",
       " 'lepsel_muonprop': <Hist (dataset,muon_pt,muon_miso) instance at 0x173233f28>,\n",
       " 'lepsel_metprop': <Hist (dataset,met_pt,met_eta,met_phi) instance at 0x173233588>}"
      ]
     },
     "execution_count": 5,
     "metadata": {},
     "output_type": "execute_result"
    }
   ],
   "source": [
    "output"
   ]
  },
  {
   "cell_type": "code",
   "execution_count": 6,
   "metadata": {},
   "outputs": [
    {
     "name": "stdout",
     "output_type": "stream",
     "text": [
      "{'columns': set_accumulator({'genWeight', 'FatJet_msoftdrop', 'nMuon', 'FatJet_phi', 'nFatJet', 'nElectron', 'Muon_dxy', 'HLT_Mu50', 'MET_pt', 'HLT_Mu55', 'MET_phi', 'Muon_pt', 'FatJet_lsf3', 'FatJet_pt', 'Muon_mass', 'Jet_phi', 'HLT_Mu15_IsoVVVL_PFHT450_PFMET50', 'Jet_jetId', 'Electron_pt', 'Muon_phi', 'Jet_pt', 'HLT_Mu15_IsoVVVL_PFHT600', 'Muon_eta', 'FatJet_mass', 'FatJet_eta', 'nJet', 'Muon_dz', 'FatJet_jetId', 'Jet_btagDeepB', 'Electron_eta', 'Muon_sip3d', 'Muon_miniPFRelIso_all'}), 'entries': value_accumulator(int, 11571400), 'processtime': value_accumulator(float, 197.31041717529297), 'chunks': value_accumulator(int, 116)}\n"
     ]
    }
   ],
   "source": [
    "print(metrics)"
   ]
  },
  {
   "cell_type": "code",
   "execution_count": 7,
   "metadata": {},
   "outputs": [
    {
     "name": "stdout",
     "output_type": "stream",
     "text": [
      "11571400\n"
     ]
    }
   ],
   "source": [
    "print(metrics['entries'].value)"
   ]
  },
  {
   "cell_type": "code",
   "execution_count": 8,
   "metadata": {},
   "outputs": [],
   "source": [
    "from coffea.util import save\n",
    "save(output,'hists_hww_local.coffea')"
   ]
  },
  {
   "cell_type": "code",
   "execution_count": null,
   "metadata": {},
   "outputs": [],
   "source": []
  }
 ],
 "metadata": {
  "kernelspec": {
   "display_name": "Python 3",
   "language": "python",
   "name": "python3"
  },
  "language_info": {
   "codemirror_mode": {
    "name": "ipython",
    "version": 3
   },
   "file_extension": ".py",
   "mimetype": "text/x-python",
   "name": "python",
   "nbconvert_exporter": "python",
   "pygments_lexer": "ipython3",
   "version": "3.6.4"
  }
 },
 "nbformat": 4,
 "nbformat_minor": 2
}
