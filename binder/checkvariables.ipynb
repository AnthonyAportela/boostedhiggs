{
 "cells": [
  {
   "cell_type": "code",
   "execution_count": 1,
   "metadata": {},
   "outputs": [],
   "source": [
    "import uproot\n",
    "import awkward as ak\n",
    "import numpy as np\n",
    "from coffea import processor, util\n",
    "\n",
    "%matplotlib inline\n",
    "import matplotlib.pyplot as plt\n",
    "\n",
    "from coffea.nanoaod import NanoEvents"
   ]
  },
  {
   "cell_type": "code",
   "execution_count": 2,
   "metadata": {},
   "outputs": [
    {
     "name": "stdout",
     "output_type": "stream",
     "text": [
      "{}\n"
     ]
    },
    {
     "data": {
      "text/plain": [
       "<pyinstrument.session.ProfilerSession at 0x13f0ebb38>"
      ]
     },
     "execution_count": 2,
     "metadata": {},
     "output_type": "execute_result"
    }
   ],
   "source": [
    "from pyinstrument import Profiler\n",
    "profiler = Profiler()\n",
    "profiler.start()\n",
    "\n",
    "from coffea.nanoaod import NanoEvents\n",
    "from coffea.nanoaod.methods import FatJet, LorentzVector\n",
    "\n",
    "arraycache = {}\n",
    "events = NanoEvents.from_file(\n",
    "    # 'data/TTToSemiLeptonic_TuneCP5_13TeV-powheg-pythia8.root',\n",
    "    # 'root://cmsxrootd-site.fnal.gov//store/mc/RunIIFall17NanoAODv6/QCD_Pt_50to80_TuneCP5_13TeV_pythia8/NANOAODSIM/PU2017_12Apr2018_Nano25Oct2019_102X_mc2017_realistic_v7-v1/280000/FDFE267A-9BCF-6347-A4DE-CC108EEAC18E.root',\n",
    "    # 'data/EGamma-Run2018D.root',\n",
    "    # 'data/TTToHadronic_TuneCP5_13TeV-powheg-pythia8_10X.root',\n",
    "    #'data/RunIIAutumn18NanoAODv5_BulkGravTohhTohWWhbb.root',\n",
    "    'data/NanoAOD_Oct16_1.root',\n",
    "    #entrystop=20000,\n",
    "    cache=arraycache,\n",
    "    methods={\n",
    "        'FatJetPFCands': LorentzVector,\n",
    "    },\n",
    ")\n",
    "print(arraycache)\n",
    "\n",
    "profiler.stop()"
   ]
  },
  {
   "cell_type": "code",
   "execution_count": null,
   "metadata": {
    "scrolled": false
   },
   "outputs": [],
   "source": [
    "#%%timeit\n",
    "\n",
    "profiler = Profiler()\n",
    "profiler.start()\n",
    "\n",
    "gen = events.GenPart\n",
    "\n",
    "where = (\n",
    "    (abs(gen.pdgId) == 5)\n",
    "    & (np.abs(gen.distinctParent.pdgId) == 6).fillna(False)\n",
    "    & gen.hasFlags(['isHardProcess'])\n",
    ")\n",
    "genb = gen[where]\n",
    "\n",
    "gentop = genb.distinctParent\n",
    "hasWmu = (\n",
    "    (abs(gentop.children.pdgId) == 24)\n",
    "    & (abs(gentop.children.children.pdgId) == 13).any()\n",
    ").any()\n",
    "\n",
    "chosenb = genb[hasWmu]\n",
    "\n",
    "profiler.stop()"
   ]
  },
  {
   "cell_type": "code",
   "execution_count": null,
   "metadata": {},
   "outputs": [],
   "source": [
    "with open('profile.html', 'w') as fout:\n",
    "    fout.write(profiler.output_html())"
   ]
  },
  {
   "cell_type": "code",
   "execution_count": null,
   "metadata": {},
   "outputs": [],
   "source": [
    "(abs(gentop.children.pdgId) == 24).count()"
   ]
  },
  {
   "cell_type": "code",
   "execution_count": null,
   "metadata": {},
   "outputs": [],
   "source": [
    "gentop.pdgId"
   ]
  },
  {
   "cell_type": "code",
   "execution_count": null,
   "metadata": {},
   "outputs": [],
   "source": [
    "gentop.children.pdgId"
   ]
  },
  {
   "cell_type": "code",
   "execution_count": null,
   "metadata": {},
   "outputs": [],
   "source": [
    "x = np.unique(chosenb.counts, return_counts=True)\n",
    "x[0], x[1] / 20000"
   ]
  },
  {
   "cell_type": "code",
   "execution_count": null,
   "metadata": {},
   "outputs": [],
   "source": [
    "genele = events.GenPart[\n",
    "    (abs(events.GenPart.pdgId) == 11)\n",
    "    & events.GenPart.hasFlags(['isHardProcess', 'isLastCopy'])\n",
    "]\n",
    "genele_fromW = genele[\n",
    "    (genele.distinctParent.pdgId == 24)\n",
    "]\n",
    "genW = genele_fromW.distinctParent"
   ]
  },
  {
   "cell_type": "code",
   "execution_count": null,
   "metadata": {},
   "outputs": [],
   "source": [
    "leadingmuon = events.Muon.pad(1, clip=True).flatten()\n",
    "leadingjet = events.CustomAK8Puppi.pad(1, clip=True).flatten()\n",
    "met = events.MET"
   ]
  },
  {
   "cell_type": "code",
   "execution_count": null,
   "metadata": {},
   "outputs": [],
   "source": [
    "from uproot_methods import TLorentzVectorArray"
   ]
  },
  {
   "cell_type": "code",
   "execution_count": null,
   "metadata": {},
   "outputs": [],
   "source": [
    "joffshell = leadingjet.msoftdrop < 125/2  # halfway point between offshell and onshell W\n",
    "massassumption = 80.*joffshell + (125 - 80.)*~joffshell\n",
    "x = massassumption**2/(2*leadingmuon.pt*met.rho) + np.cos(leadingmuon.phi - met.phi)\n",
    "met_eta = (\n",
    "    (x < 1)*np.arcsinh(x*np.sinh(leadingmuon.eta))\n",
    "    + (x > 1)*(\n",
    "        leadingmuon.eta\n",
    "        - np.sign(leadingmuon.eta)*np.arccosh(leadingmuon.eta)\n",
    "    )\n",
    ")\n",
    "met_p4 = TLorentzVectorArray.from_ptetaphim(met.rho, met_eta.fillna(0.), met.phi, np.zeros(met.size))"
   ]
  },
  {
   "cell_type": "code",
   "execution_count": null,
   "metadata": {},
   "outputs": [],
   "source": [
    "leadingmuon"
   ]
  },
  {
   "cell_type": "code",
   "execution_count": null,
   "metadata": {},
   "outputs": [],
   "source": [
    "plt.hist(met_p4.eta);"
   ]
  },
  {
   "cell_type": "code",
   "execution_count": null,
   "metadata": {},
   "outputs": [],
   "source": [
    "bosons = events.GenPart[\n",
    "    (np.abs(events.GenPart.pdgId) >= 21)\n",
    "    & (np.abs(events.GenPart.pdgId) <= 37)\n",
    "    & events.GenPart.hasFlags(['isHardProcess', 'isLastCopy'])\n",
    "]\n",
    "candidatejet = events.CustomAK8Puppi[:,:1]\n",
    "ak8_boson_pair = candidatejet.cross(bosons, nested=True)\n",
    "ak8_boson_pair['dR2'] = ak8_boson_pair.i0.delta_r2(ak8_boson_pair.i1)\n",
    "ak8_boson_pair['dPt2'] = ((ak8_boson_pair.i0.pt - ak8_boson_pair.i1.pt)/(ak8_boson_pair.i0.pt + ak8_boson_pair.i1.pt))**2"
   ]
  },
  {
   "cell_type": "code",
   "execution_count": null,
   "metadata": {},
   "outputs": [],
   "source": [
    "matchedBoson = ak8_boson_pair.i1[(ak8_boson_pair.dR2 + ak8_boson_pair.dPt2).argmin()].flatten(axis=1)\n",
    "plt.hist(matchedBoson.pdgId.flatten(), bins=np.arange(20, 30)-.5);"
   ]
  },
  {
   "cell_type": "code",
   "execution_count": null,
   "metadata": {},
   "outputs": [],
   "source": [
    "fatjets = events.FatJet\n",
    "from boostedhiggs import corrections\n",
    "\n",
    "fatjets['msdcorr'] = corrections.corrected_msoftdrop(fatjets)\n",
    "fatjets['rho'] = 2*np.log(fatjets.msdcorr / fatjets.pt)\n",
    "fatjets['n2ddt'] = fatjets.n2b1 - corrections.n2ddt_shift(fatjets, year='2018')"
   ]
  },
  {
   "cell_type": "code",
   "execution_count": null,
   "metadata": {},
   "outputs": [],
   "source": [
    "plt.hist(fatjets.n2ddt.flatten(), bins=np.linspace(-0.5, 0.5, 50));"
   ]
  },
  {
   "cell_type": "code",
   "execution_count": null,
   "metadata": {},
   "outputs": [],
   "source": [
    "leadingjet = fatjets[:, 0:1]\n",
    "\n",
    "good = ((leadingjet.pt > 450)\n",
    "        & (np.abs(leadingjet.eta) < 2.4)\n",
    "        & (leadingjet.jetId & 2).astype(bool)  # tight\n",
    "        & (leadingjet.n2ddt < 0.)\n",
    "        & (leadingjet.msdcorr > 40)\n",
    "       )\n",
    "\n",
    "good_event = good.all()"
   ]
  },
  {
   "cell_type": "code",
   "execution_count": null,
   "metadata": {},
   "outputs": [],
   "source": [
    "jets = events.Jet\n",
    "ak4_ak8_pair = jets.cross(leadingjet, nested=True)\n",
    "dphi = ak4_ak8_pair.i0.delta_phi(ak4_ak8_pair.i1)\n",
    "opp = (np.abs(dphi) > np.pi / 2).all()\n",
    "# only consider first 4 jets to be consistent with old framework\n",
    "ak4_opposite = jets[opp & (jets.pt > 30.) & (jets.array.localindex < 4)]\n",
    "\n",
    "btagLooseWPs = {\n",
    "    '2016': 0.6321,\n",
    "    '2017': 0.4941,\n",
    "    '2018': 0.4184,\n",
    "}\n",
    "good_event &= ak4_opposite.btagDeepB.max() < btagLooseWPs['2018']"
   ]
  },
  {
   "cell_type": "code",
   "execution_count": null,
   "metadata": {},
   "outputs": [],
   "source": [
    "nelectrons = ((events.Electron.cutBased >= events.Electron.LOOSE) & (events.Electron.pt > 20)).counts\n",
    "nmuons = (events.Muon.looseId & (events.Muon.pt > 20)).counts\n",
    "ntaus = (events.Tau.idDecayMode & (events.Tau.pt > 20)).counts\n",
    "good_event &= (events.MET.pt < 140.) & (nmuons == 0) & (nelectrons == 0) & (ntaus == 0)"
   ]
  },
  {
   "cell_type": "code",
   "execution_count": null,
   "metadata": {},
   "outputs": [],
   "source": [
    "print(\"Passed %d of %d events\" % (good_event.sum(), good_event.size))"
   ]
  },
  {
   "cell_type": "code",
   "execution_count": null,
   "metadata": {},
   "outputs": [],
   "source": [
    "list(arraycache.keys())"
   ]
  },
  {
   "cell_type": "code",
   "execution_count": null,
   "metadata": {},
   "outputs": [],
   "source": [
    "events.Muon.matched_gen.pdgId"
   ]
  },
  {
   "cell_type": "code",
   "execution_count": null,
   "metadata": {},
   "outputs": [],
   "source": [
    "lscut = (events.CustomAK8Puppi.muonIdx3SJ >= 0)\n",
    "events = events[lscut.any()]\n",
    "lscut = lscut[lscut.any()]"
   ]
  },
  {
   "cell_type": "code",
   "execution_count": null,
   "metadata": {},
   "outputs": [],
   "source": [
    "cut = lscut #& (events.CustomAK8Puppi.pt - events.CustomAK8Puppi.LSpt < 5.)"
   ]
  },
  {
   "cell_type": "code",
   "execution_count": null,
   "metadata": {},
   "outputs": [],
   "source": [
    "lscut = (events.CustomAK8Puppi.muonIdx3SJ >= 0)\n",
    "events = events[lscut.any()]\n",
    "lscut = lscut[lscut.any()]\n",
    "cut = lscut \n",
    "print(len(events.CustomAK8Puppi.muonIdx3SJ))\n",
    "print(len(events.Muon[events.CustomAK8Puppi[cut].muonIdx3SJ.flatten()]))\n",
    "print(len(events.CustomAK8Puppi[cut]))\n",
    "ak8_muon_pair = events.Muon[events.CustomAK8Puppi[cut].muonIdx3SJ.flatten()].cross(events.CustomAK8Puppi[cut])\n",
    "mujet_dR = ak8_muon_pair.i0.delta_r(ak8_muon_pair.i1)\n"
   ]
  },
  {
   "cell_type": "code",
   "execution_count": null,
   "metadata": {},
   "outputs": [],
   "source": [
    "plt.hist(\n",
    "    events.Muon[events.CustomAK8Puppi[cut].muonIdx3SJ.flatten()].delta_r(events.CustomAK8Puppi[cut]).flatten(),\n",
    "    bins=np.linspace(0,2,50),\n",
    ");"
   ]
  },
  {
   "cell_type": "code",
   "execution_count": null,
   "metadata": {
    "scrolled": true
   },
   "outputs": [],
   "source": [
    "jet = events.CustomAK8Puppi[lscut]\n",
    "mu = events.Muon[jet.muonIdx3SJ]\n",
    "cut = (mu.pt > 20) & (jet.lsf3 > 0.1) & (abs(mu.matched_gen.distinctParent.pdgId) == 24)"
   ]
  },
  {
   "cell_type": "code",
   "execution_count": null,
   "metadata": {
    "scrolled": true
   },
   "outputs": [],
   "source": [
    "#plt.hist(jet[cut].LSmsoftdrop.flatten(), bins=np.linspace(0, 200, 50), alpha=0.5, label='LS msoftdrop');\n",
    "plt.hist(jet[cut].msoftdrop.flatten(), bins=np.linspace(0, 200, 50), alpha=0.5, label='Jet msoftdrop');\n",
    "plt.hist((jet - mu)[cut].mass.flatten(), bins=np.linspace(0, 200, 50), alpha=0.5, label='Jet - muon mass');\n",
    "plt.gca().legend()"
   ]
  },
  {
   "cell_type": "code",
   "execution_count": null,
   "metadata": {},
   "outputs": [],
   "source": [
    "events.materialized"
   ]
  },
  {
   "cell_type": "code",
   "execution_count": null,
   "metadata": {},
   "outputs": [],
   "source": [
    "events.size"
   ]
  },
  {
   "cell_type": "code",
   "execution_count": null,
   "metadata": {},
   "outputs": [],
   "source": [
    "goodmuon = (\n",
    "    (events.Muon.pt > 10)\n",
    "    & (np.abs(events.Muon.eta) < 2.4)\n",
    "    & (events.Muon.sip3d < 4)\n",
    "    & (np.abs(events.Muon.dz) < 0.1)\n",
    "    & (np.abs(events.Muon.dxy) < 0.05)\n",
    "    & (events.Muon.mvaId == 2)\n",
    "            )\n",
    "nmuons = goodmuon.sum()\n",
    "leadingmuon = events.Muon[goodmuon][:, 0:1]\n",
    "ak8_muon_pair = leadingmuon.cross(events.CustomAK8Puppi.array)\n",
    "ak8_muon_dR = ak8_muon_pair.i0.delta_r(ak8_muon_pair.i1)\n",
    "mu_in_cone = ak8_muon_dR.min() < 0.8 # this I am not sure we have to put as a selection...                                                                                      \n",
    "bestidx = ak8_muon_dR.argmin()\n",
    "leadingjet = events.CustomAK8Puppi[bestidx]\n",
    "\n",
    "jets = events.Jet.array[(events.Jet.pt > 30.) & (events.Jet.jetId & 2)]\n",
    "ak4_ak8_pair = jets.cross(leadingjet, nested=True)\n",
    "ak4_ak8_dphi = ak4_ak8_pair.i0.delta_phi(ak4_ak8_pair.i1)\n",
    "ak4_opposite = jets[(np.abs(ak4_ak8_dphi) > np.pi / 2).all()]\n",
    "\n",
    "nelectrons = (\n",
    "            (events.Electron.pt > 10)\n",
    "            & (np.abs(events.Electron.eta) < 2.5)\n",
    "            & (events.Electron.cutBased & (1 << 2)).astype(bool)  # 2017V2 loose                                                                                                    \n",
    "        ).sum()\n",
    "\n",
    "from uproot_methods import TLorentzVectorArray\n",
    "\n",
    "leadingjet_p4 = TLorentzVectorArray.from_ptetaphim(leadingjet.pt, leadingjet.eta, leadingjet.phi, leadingjet.msoftdrop)\n",
    "leadingmuon_p4 = TLorentzVectorArray.from_ptetaphim(leadingmuon.pt,leadingmuon.eta,leadingmuon.phi, leadingmuon.mass)\n",
    "print(leadingjet_p4.pad(1, clip=False))\n",
    "print(leadingmuon_p4.pad(1, clip=False))\n",
    "mm = (leadingjet_p4 - leadingmuon_p4).mass2\n"
   ]
  },
  {
   "cell_type": "code",
   "execution_count": null,
   "metadata": {},
   "outputs": [],
   "source": [
    "print(leadingmuon)"
   ]
  },
  {
   "cell_type": "code",
   "execution_count": null,
   "metadata": {},
   "outputs": [],
   "source": [
    "#leadingmuon = events.Muon[:,0:1]\n",
    "ak8_muon_pair = leadingmuon.cross(events.CustomAK8Puppi.array)\n",
    "mujet_dR = ak8_muon_pair.i0.delta_r(ak8_muon_pair.i1)\n",
    "mu_in_cone = mujet_dR.min() < 0.8\n",
    "bestidx = mujet_dR.argmin().flatten()\n",
    "leadingjet = events.CustomAK8Puppi[bestidx].flatten()\n",
    "met = events.MET"
   ]
  },
  {
   "cell_type": "code",
   "execution_count": null,
   "metadata": {},
   "outputs": [],
   "source": [
    "lscut = (events.CustomAK8Puppi.muonIdx3SJ >= 0)\n",
    "events = events[lscut.any()]\n",
    "lscut = lscut[lscut.any()]\n",
    "jet = events.CustomAK8Puppi[lscut]\n",
    "mu = events.Muon[jet.muonIdx3SJ]\n",
    "print(jet.muonIdx3SJ.flatten())\n",
    "print(events.Muon.array)\n",
    "mu = events.Muon[jet.muonIdx3SJ]\n",
    "cut = (mu.pt > 20) & (jet.lsf3 > 0.1) & (abs(mu.matched_gen.distinctParent.pdgId) == 24)"
   ]
  },
  {
   "cell_type": "code",
   "execution_count": null,
   "metadata": {},
   "outputs": [],
   "source": []
  }
 ],
 "metadata": {
  "kernelspec": {
   "display_name": "Python 3",
   "language": "python",
   "name": "python3"
  },
  "language_info": {
   "codemirror_mode": {
    "name": "ipython",
    "version": 3
   },
   "file_extension": ".py",
   "mimetype": "text/x-python",
   "name": "python",
   "nbconvert_exporter": "python",
   "pygments_lexer": "ipython3",
   "version": "3.6.4"
  }
 },
 "nbformat": 4,
 "nbformat_minor": 2
}
