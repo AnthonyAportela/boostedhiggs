{
 "cells": [
  {
   "cell_type": "code",
   "execution_count": 1,
   "metadata": {},
   "outputs": [],
   "source": [
    "import uproot\n",
    "import awkward as ak\n",
    "import numpy as np\n",
    "from coffea import processor, util\n",
    "\n",
    "%matplotlib inline\n",
    "import matplotlib.pyplot as plt\n",
    "\n",
    "from coffea.nanoaod import NanoEvents"
   ]
  },
  {
   "cell_type": "code",
   "execution_count": 2,
   "metadata": {},
   "outputs": [
    {
     "name": "stdout",
     "output_type": "stream",
     "text": [
      "{}\n"
     ]
    },
    {
     "data": {
      "text/plain": [
       "<pyinstrument.session.ProfilerSession at 0x127778bd0>"
      ]
     },
     "execution_count": 2,
     "metadata": {},
     "output_type": "execute_result"
    }
   ],
   "source": [
    "from pyinstrument import Profiler\n",
    "profiler = Profiler()\n",
    "profiler.start()\n",
    "\n",
    "from coffea.nanoaod import NanoEvents\n",
    "from coffea.nanoaod.methods import FatJet, LorentzVector\n",
    "\n",
    "arraycache = {}\n",
    "events = NanoEvents.from_file(\n",
    "    # 'data/TTToSemiLeptonic_TuneCP5_13TeV-powheg-pythia8.root',\n",
    "    # 'root://cmsxrootd-site.fnal.gov//store/mc/RunIIFall17NanoAODv6/QCD_Pt_50to80_TuneCP5_13TeV_pythia8/NANOAODSIM/PU2017_12Apr2018_Nano25Oct2019_102X_mc2017_realistic_v7-v1/280000/FDFE267A-9BCF-6347-A4DE-CC108EEAC18E.root',\n",
    "    # 'data/EGamma-Run2018D.root',\n",
    "    # 'data/TTToHadronic_TuneCP5_13TeV-powheg-pythia8_10X.root',\n",
    "    'data/RunIIAutumn18NanoAODv5_BulkGravTohhTohWWhbb.root',\n",
    "    #entrystop=20000,\n",
    "    cache=arraycache,\n",
    "    methods={\n",
    "        'FatJetPFCands': LorentzVector,\n",
    "    },\n",
    ")\n",
    "print(arraycache)\n",
    "\n",
    "profiler.stop()"
   ]
  },
  {
   "cell_type": "code",
   "execution_count": 3,
   "metadata": {
    "scrolled": false
   },
   "outputs": [
    {
     "data": {
      "text/plain": [
       "<pyinstrument.session.ProfilerSession at 0x127ff4510>"
      ]
     },
     "execution_count": 3,
     "metadata": {},
     "output_type": "execute_result"
    }
   ],
   "source": [
    "#%%timeit\n",
    "\n",
    "profiler = Profiler()\n",
    "profiler.start()\n",
    "\n",
    "gen = events.GenPart\n",
    "\n",
    "where = (\n",
    "    (abs(gen.pdgId) == 5)\n",
    "    & (np.abs(gen.distinctParent.pdgId) == 6).fillna(False)\n",
    "    & gen.hasFlags(['isHardProcess'])\n",
    ")\n",
    "genb = gen[where]\n",
    "\n",
    "gentop = genb.distinctParent\n",
    "hasWmu = (\n",
    "    (abs(gentop.children.pdgId) == 24)\n",
    "    & (abs(gentop.children.children.pdgId) == 13).any()\n",
    ").any()\n",
    "\n",
    "chosenb = genb[hasWmu]\n",
    "\n",
    "profiler.stop()"
   ]
  },
  {
   "cell_type": "code",
   "execution_count": 4,
   "metadata": {},
   "outputs": [],
   "source": [
    "with open('profile.html', 'w') as fout:\n",
    "    fout.write(profiler.output_html())"
   ]
  },
  {
   "cell_type": "code",
   "execution_count": 5,
   "metadata": {},
   "outputs": [
    {
     "data": {
      "text/plain": [
       "<JaggedArray [[] [] [] ... [] [] []] at 0x0001276db050>"
      ]
     },
     "execution_count": 5,
     "metadata": {},
     "output_type": "execute_result"
    }
   ],
   "source": [
    "(abs(gentop.children.pdgId) == 24).count()"
   ]
  },
  {
   "cell_type": "code",
   "execution_count": 6,
   "metadata": {},
   "outputs": [
    {
     "data": {
      "text/plain": [
       "<JaggedArray [[] [] [] ... [] [] []] at 0x000128961050>"
      ]
     },
     "execution_count": 6,
     "metadata": {},
     "output_type": "execute_result"
    }
   ],
   "source": [
    "gentop.pdgId"
   ]
  },
  {
   "cell_type": "code",
   "execution_count": 7,
   "metadata": {},
   "outputs": [
    {
     "data": {
      "text/plain": [
       "<JaggedArray [[] [] [] ... [] [] []] at 0x000128a53210>"
      ]
     },
     "execution_count": 7,
     "metadata": {},
     "output_type": "execute_result"
    }
   ],
   "source": [
    "gentop.children.pdgId"
   ]
  },
  {
   "cell_type": "code",
   "execution_count": 8,
   "metadata": {},
   "outputs": [
    {
     "data": {
      "text/plain": [
       "(array([0]), array([0.05]))"
      ]
     },
     "execution_count": 8,
     "metadata": {},
     "output_type": "execute_result"
    }
   ],
   "source": [
    "x = np.unique(chosenb.counts, return_counts=True)\n",
    "x[0], x[1] / 20000"
   ]
  },
  {
   "cell_type": "code",
   "execution_count": 9,
   "metadata": {},
   "outputs": [],
   "source": [
    "genele = events.GenPart[\n",
    "    (abs(events.GenPart.pdgId) == 11)\n",
    "    & events.GenPart.hasFlags(['isHardProcess', 'isLastCopy'])\n",
    "]\n",
    "genele_fromW = genele[\n",
    "    (genele.distinctParent.pdgId == 24)\n",
    "]\n",
    "genW = genele_fromW.distinctParent"
   ]
  },
  {
   "cell_type": "code",
   "execution_count": 10,
   "metadata": {},
   "outputs": [],
   "source": [
    "leadingmuon = events.Muon.pad(1, clip=True).flatten()\n",
    "leadingjet = events.FatJet.pad(1, clip=True).flatten()\n",
    "met = events.MET"
   ]
  },
  {
   "cell_type": "code",
   "execution_count": 11,
   "metadata": {},
   "outputs": [],
   "source": [
    "from uproot_methods import TLorentzVectorArray"
   ]
  },
  {
   "cell_type": "code",
   "execution_count": 12,
   "metadata": {},
   "outputs": [
    {
     "name": "stderr",
     "output_type": "stream",
     "text": [
      "/Users/ncsmith/src/awkward-array/awkward/array/masked.py:242: RuntimeWarning: invalid value encountered in arccosh\n",
      "  result = getattr(ufunc, method)(*inputs, **kwargs)\n"
     ]
    }
   ],
   "source": [
    "joffshell = leadingjet.msoftdrop < 125/2  # halfway point between offshell and onshell W\n",
    "massassumption = 80.*joffshell + (125 - 80.)*~joffshell\n",
    "x = massassumption**2/(2*leadingmuon.pt*met.rho) + np.cos(leadingmuon.phi - met.phi)\n",
    "met_eta = (\n",
    "    (x < 1)*np.arcsinh(x*np.sinh(leadingmuon.eta))\n",
    "    + (x > 1)*(\n",
    "        leadingmuon.eta\n",
    "        - np.sign(leadingmuon.eta)*np.arccosh(leadingmuon.eta)\n",
    "    )\n",
    ")\n",
    "met_p4 = TLorentzVectorArray.from_ptetaphim(met.rho, met_eta.fillna(0.), met.phi, np.zeros(met.size))"
   ]
  },
  {
   "cell_type": "code",
   "execution_count": 13,
   "metadata": {},
   "outputs": [
    {
     "data": {
      "text/plain": [
       "<MaskedArray [<Muon 0> None None ... <Muon 1573> <Muon 1574> <Muon 1575>] at 0x000128a308d0>"
      ]
     },
     "execution_count": 13,
     "metadata": {},
     "output_type": "execute_result"
    }
   ],
   "source": [
    "leadingmuon"
   ]
  },
  {
   "cell_type": "code",
   "execution_count": 14,
   "metadata": {},
   "outputs": [
    {
     "data": {
      "image/png": "[encoded data removed]",
      "text/plain": [
       "<Figure size 432x288 with 1 Axes>"
      ]
     },
     "metadata": {
      "needs_background": "light"
     },
     "output_type": "display_data"
    }
   ],
   "source": [
    "plt.hist(met_p4.eta);"
   ]
  },
  {
   "cell_type": "code",
   "execution_count": 15,
   "metadata": {},
   "outputs": [],
   "source": [
    "bosons = events.GenPart[\n",
    "    (np.abs(events.GenPart.pdgId) >= 21)\n",
    "    & (np.abs(events.GenPart.pdgId) <= 37)\n",
    "    & events.GenPart.hasFlags(['isHardProcess', 'isLastCopy'])\n",
    "]\n",
    "candidatejet = events.FatJet[:,:1]\n",
    "ak8_boson_pair = candidatejet.cross(bosons, nested=True)\n",
    "ak8_boson_pair['dR2'] = ak8_boson_pair.i0.delta_r2(ak8_boson_pair.i1)\n",
    "ak8_boson_pair['dPt2'] = ((ak8_boson_pair.i0.pt - ak8_boson_pair.i1.pt)/(ak8_boson_pair.i0.pt + ak8_boson_pair.i1.pt))**2"
   ]
  },
  {
   "cell_type": "code",
   "execution_count": 16,
   "metadata": {},
   "outputs": [
    {
     "data": {
      "image/png": "[encoded data removed]",
      "text/plain": [
       "<Figure size 432x288 with 1 Axes>"
      ]
     },
     "metadata": {
      "needs_background": "light"
     },
     "output_type": "display_data"
    }
   ],
   "source": [
    "matchedBoson = ak8_boson_pair.i1[(ak8_boson_pair.dR2 + ak8_boson_pair.dPt2).argmin()].flatten(axis=1)\n",
    "plt.hist(matchedBoson.pdgId.flatten(), bins=np.arange(20, 30)-.5);"
   ]
  },
  {
   "cell_type": "code",
   "execution_count": 17,
   "metadata": {},
   "outputs": [
    {
     "name": "stderr",
     "output_type": "stream",
     "text": [
      "/Users/ncsmith/src/awkward-array/awkward/array/jagged.py:1035: RuntimeWarning: invalid value encountered in log\n",
      "  result = getattr(ufunc, method)(*inputs, **kwargs)\n"
     ]
    }
   ],
   "source": [
    "fatjets = events.FatJet\n",
    "from boostedhiggs import corrections\n",
    "\n",
    "fatjets['msdcorr'] = corrections.corrected_msoftdrop(fatjets)\n",
    "fatjets['rho'] = 2*np.log(fatjets.msdcorr / fatjets.pt)\n",
    "fatjets['n2ddt'] = fatjets.n2b1 - corrections.n2ddt_shift(fatjets, year='2018')"
   ]
  },
  {
   "cell_type": "code",
   "execution_count": 18,
   "metadata": {},
   "outputs": [
    {
     "data": {
      "image/png": "[encoded data removed]",
      "text/plain": [
       "<Figure size 432x288 with 1 Axes>"
      ]
     },
     "metadata": {
      "needs_background": "light"
     },
     "output_type": "display_data"
    }
   ],
   "source": [
    "plt.hist(fatjets.n2ddt.flatten(), bins=np.linspace(-0.5, 0.5, 50));"
   ]
  },
  {
   "cell_type": "code",
   "execution_count": 19,
   "metadata": {},
   "outputs": [],
   "source": [
    "leadingjet = fatjets[:, 0:1]\n",
    "\n",
    "good = ((leadingjet.pt > 450)\n",
    "        & (np.abs(leadingjet.eta) < 2.4)\n",
    "        & (leadingjet.jetId & 2).astype(bool)  # tight\n",
    "        & (leadingjet.n2ddt < 0.)\n",
    "        & (leadingjet.msdcorr > 40)\n",
    "       )\n",
    "\n",
    "good_event = good.all()"
   ]
  },
  {
   "cell_type": "code",
   "execution_count": 20,
   "metadata": {},
   "outputs": [],
   "source": [
    "jets = events.Jet\n",
    "ak4_ak8_pair = jets.cross(leadingjet, nested=True)\n",
    "dphi = ak4_ak8_pair.i0.delta_phi(ak4_ak8_pair.i1)\n",
    "opp = (np.abs(dphi) > np.pi / 2).all()\n",
    "# only consider first 4 jets to be consistent with old framework\n",
    "ak4_opposite = jets[opp & (jets.pt > 30.) & (jets.array.localindex < 4)]\n",
    "\n",
    "btagLooseWPs = {\n",
    "    '2016': 0.6321,\n",
    "    '2017': 0.4941,\n",
    "    '2018': 0.4184,\n",
    "}\n",
    "good_event &= ak4_opposite.btagDeepB.max() < btagLooseWPs['2018']"
   ]
  },
  {
   "cell_type": "code",
   "execution_count": 21,
   "metadata": {},
   "outputs": [],
   "source": [
    "nelectrons = ((events.Electron.cutBased >= events.Electron.LOOSE) & (events.Electron.pt > 20)).counts\n",
    "nmuons = (events.Muon.looseId & (events.Muon.pt > 20)).counts\n",
    "ntaus = (events.Tau.idDecayMode & (events.Tau.pt > 20)).counts\n",
    "good_event &= (events.MET.pt < 140.) & (nmuons == 0) & (nelectrons == 0) & (ntaus == 0)"
   ]
  },
  {
   "cell_type": "code",
   "execution_count": 22,
   "metadata": {},
   "outputs": [
    {
     "name": "stdout",
     "output_type": "stream",
     "text": [
      "Passed 16 of 1000 events\n"
     ]
    }
   ],
   "source": [
    "print(\"Passed %d of %d events\" % (good_event.sum(), good_event.size))"
   ]
  },
  {
   "cell_type": "code",
   "execution_count": 23,
   "metadata": {},
   "outputs": [
    {
     "data": {
      "text/plain": [
       "['0001869b9814221e11eaa85b82bde183beef;Events;0;1000;nGenPart',\n",
       " '0001869b9814221e11eaa85b82bde183beef;Events;0;1000;GenPart_pdgId',\n",
       " '0001869b9814221e11eaa85b82bde183beef;Events;0;1000;GenPart_genPartIdxMother',\n",
       " '0001869b9814221e11eaa85b82bde183beef;Events;0;1000;GenPart_statusFlags',\n",
       " '0001869b9814221e11eaa85b82bde183beef;Events;0;1000;nMuon',\n",
       " '0001869b9814221e11eaa85b82bde183beef;Events;0;1000;nFatJet',\n",
       " '0001869b9814221e11eaa85b82bde183beef;Events;0;1000;FatJet_msoftdrop',\n",
       " '0001869b9814221e11eaa85b82bde183beef;Events;0;1000;Muon_pt',\n",
       " '0001869b9814221e11eaa85b82bde183beef;Events;0;1000;MET_phi',\n",
       " '0001869b9814221e11eaa85b82bde183beef;Events;0;1000;MET_pt',\n",
       " '0001869b9814221e11eaa85b82bde183beef;Events;0;1000;Muon_phi',\n",
       " '0001869b9814221e11eaa85b82bde183beef;Events;0;1000;Muon_eta',\n",
       " '0001869b9814221e11eaa85b82bde183beef;Events;0;1000;FatJet_eta',\n",
       " '0001869b9814221e11eaa85b82bde183beef;Events;0;1000;GenPart_eta',\n",
       " '0001869b9814221e11eaa85b82bde183beef;Events;0;1000;FatJet_phi',\n",
       " '0001869b9814221e11eaa85b82bde183beef;Events;0;1000;GenPart_phi',\n",
       " '0001869b9814221e11eaa85b82bde183beef;Events;0;1000;FatJet_pt',\n",
       " '0001869b9814221e11eaa85b82bde183beef;Events;0;1000;GenPart_pt',\n",
       " '0001869b9814221e11eaa85b82bde183beef;Events;0;1000;FatJet_n2b1',\n",
       " '0001869b9814221e11eaa85b82bde183beef;Events;0;1000;FatJet_jetId',\n",
       " '0001869b9814221e11eaa85b82bde183beef;Events;0;1000;nJet',\n",
       " '0001869b9814221e11eaa85b82bde183beef;Events;0;1000;Jet_phi',\n",
       " '0001869b9814221e11eaa85b82bde183beef;Events;0;1000;Jet_pt',\n",
       " '0001869b9814221e11eaa85b82bde183beef;Events;0;1000;Jet_btagDeepB',\n",
       " '0001869b9814221e11eaa85b82bde183beef;Events;0;1000;nElectron',\n",
       " '0001869b9814221e11eaa85b82bde183beef;Events;0;1000;Electron_cutBased',\n",
       " '0001869b9814221e11eaa85b82bde183beef;Events;0;1000;Electron_pt',\n",
       " '0001869b9814221e11eaa85b82bde183beef;Events;0;1000;Muon_looseId',\n",
       " '0001869b9814221e11eaa85b82bde183beef;Events;0;1000;nTau',\n",
       " '0001869b9814221e11eaa85b82bde183beef;Events;0;1000;Tau_pt',\n",
       " '0001869b9814221e11eaa85b82bde183beef;Events;0;1000;Tau_idDecayMode']"
      ]
     },
     "execution_count": 23,
     "metadata": {},
     "output_type": "execute_result"
    }
   ],
   "source": [
    "list(arraycache.keys())"
   ]
  },
  {
   "cell_type": "code",
   "execution_count": 24,
   "metadata": {},
   "outputs": [
    {
     "data": {
      "text/plain": [
       "<JaggedArray [[-13] [] [] ... [-13] [None] [-13]] at 0x000126451a50>"
      ]
     },
     "execution_count": 24,
     "metadata": {},
     "output_type": "execute_result"
    }
   ],
   "source": [
    "events.Muon.matched_gen.pdgId"
   ]
  },
  {
   "cell_type": "code",
   "execution_count": 25,
   "metadata": {},
   "outputs": [],
   "source": [
    "lscut = (events.FatJet.muonIdx3SJ >= 0)\n",
    "events = events[lscut.any()]\n",
    "lscut = lscut[lscut.any()]"
   ]
  },
  {
   "cell_type": "code",
   "execution_count": 26,
   "metadata": {},
   "outputs": [],
   "source": [
    "cut = lscut & (events.FatJet.pt - events.FatJet.LSpt < 5.)"
   ]
  },
  {
   "cell_type": "code",
   "execution_count": 27,
   "metadata": {},
   "outputs": [
    {
     "data": {
      "image/png": "[encoded data removed]",
      "text/plain": [
       "<Figure size 432x288 with 1 Axes>"
      ]
     },
     "metadata": {
      "needs_background": "light"
     },
     "output_type": "display_data"
    }
   ],
   "source": [
    "plt.hist(\n",
    "    events.Muon[events.FatJet[cut].muonIdx3SJ].delta_r(events.FatJet[cut]).flatten(),\n",
    "    bins=np.linspace(0,2,50),\n",
    ");"
   ]
  },
  {
   "cell_type": "code",
   "execution_count": 28,
   "metadata": {
    "scrolled": true
   },
   "outputs": [],
   "source": [
    "jet = events.FatJet[lscut]\n",
    "mu = events.Muon[jet.muonIdx3SJ]\n",
    "cut = (mu.pt > 20) & (jet.lsf3 > 0.1) & (abs(mu.matched_gen.distinctParent.pdgId) == 24)"
   ]
  },
  {
   "cell_type": "code",
   "execution_count": 29,
   "metadata": {
    "scrolled": true
   },
   "outputs": [
    {
     "data": {
      "text/plain": [
       "<matplotlib.legend.Legend at 0x128a64410>"
      ]
     },
     "execution_count": 29,
     "metadata": {},
     "output_type": "execute_result"
    },
    {
     "data": {
      "image/png": "[encoded data removed]",
      "text/plain": [
       "<Figure size 432x288 with 1 Axes>"
      ]
     },
     "metadata": {
      "needs_background": "light"
     },
     "output_type": "display_data"
    }
   ],
   "source": [
    "plt.hist(jet[cut].LSmsoftdrop.flatten(), bins=np.linspace(0, 200, 50), alpha=0.5, label='LS msoftdrop');\n",
    "plt.hist(jet[cut].msoftdrop.flatten(), bins=np.linspace(0, 200, 50), alpha=0.5, label='Jet msoftdrop');\n",
    "plt.hist((jet - mu)[cut].mass.flatten(), bins=np.linspace(0, 200, 50), alpha=0.5, label='Jet - muon mass');\n",
    "plt.gca().legend()"
   ]
  },
  {
   "cell_type": "code",
   "execution_count": 30,
   "metadata": {},
   "outputs": [
    {
     "data": {
      "text/plain": [
       "{'Electron_cutBased',\n",
       " 'Electron_pt',\n",
       " 'FatJet_LSmsoftdrop',\n",
       " 'FatJet_LSpt',\n",
       " 'FatJet_eta',\n",
       " 'FatJet_jetId',\n",
       " 'FatJet_lsf3',\n",
       " 'FatJet_mass',\n",
       " 'FatJet_msoftdrop',\n",
       " 'FatJet_muonIdx3SJ',\n",
       " 'FatJet_n2b1',\n",
       " 'FatJet_phi',\n",
       " 'FatJet_pt',\n",
       " 'GenPart_eta',\n",
       " 'GenPart_genPartIdxMother',\n",
       " 'GenPart_pdgId',\n",
       " 'GenPart_phi',\n",
       " 'GenPart_pt',\n",
       " 'GenPart_statusFlags',\n",
       " 'Jet_btagDeepB',\n",
       " 'Jet_phi',\n",
       " 'Jet_pt',\n",
       " 'MET_phi',\n",
       " 'MET_pt',\n",
       " 'Muon_eta',\n",
       " 'Muon_genPartIdx',\n",
       " 'Muon_looseId',\n",
       " 'Muon_mass',\n",
       " 'Muon_phi',\n",
       " 'Muon_pt',\n",
       " 'Tau_idDecayMode',\n",
       " 'Tau_pt',\n",
       " 'nElectron',\n",
       " 'nFatJet',\n",
       " 'nGenPart',\n",
       " 'nJet',\n",
       " 'nMuon',\n",
       " 'nTau'}"
      ]
     },
     "execution_count": 30,
     "metadata": {},
     "output_type": "execute_result"
    }
   ],
   "source": [
    "events.materialized"
   ]
  },
  {
   "cell_type": "code",
   "execution_count": 31,
   "metadata": {},
   "outputs": [
    {
     "data": {
      "text/plain": [
       "509"
      ]
     },
     "execution_count": 31,
     "metadata": {},
     "output_type": "execute_result"
    }
   ],
   "source": [
    "events.size"
   ]
  },
  {
   "cell_type": "code",
   "execution_count": null,
   "metadata": {},
   "outputs": [],
   "source": []
  }
 ],
 "metadata": {
  "kernelspec": {
   "display_name": "Python 3",
   "language": "python",
   "name": "python3"
  },
  "language_info": {
   "codemirror_mode": {
    "name": "ipython",
    "version": 3
   },
   "file_extension": ".py",
   "mimetype": "text/x-python",
   "name": "python",
   "nbconvert_exporter": "python",
   "pygments_lexer": "ipython3",
   "version": "3.7.5"
  }
 },
 "nbformat": 4,
 "nbformat_minor": 2
}
