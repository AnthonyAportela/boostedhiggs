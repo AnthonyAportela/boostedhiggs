{
 "cells": [
  {
   "cell_type": "code",
   "execution_count": 2,
   "metadata": {},
   "outputs": [],
   "source": [
    "import uproot\n",
    "import awkward as ak\n",
    "import numpy as np\n",
    "from coffea import processor, util\n",
    "\n",
    "%matplotlib inline\n",
    "import matplotlib.pyplot as plt\n",
    "\n",
    "from boostedhiggs.structure import buildevents"
   ]
  },
  {
   "cell_type": "code",
   "execution_count": 3,
   "metadata": {},
   "outputs": [],
   "source": [
    "fin = uproot.open('data/TTToHadronic_TuneCP5_13TeV-powheg-pythia8_10X.root')\n",
    "tree = fin['Events']\n",
    "df = processor.LazyDataFrame(tree, stride=20000, index=0, flatten=True)\n",
    "events = buildevents(df)"
   ]
  },
  {
   "cell_type": "code",
   "execution_count": 29,
   "metadata": {},
   "outputs": [],
   "source": [
    "leadingmuon = events.muons.pad(1, clip=True).flatten()\n",
    "leadingjet = events.fatjets.pad(1, clip=True).flatten()\n",
    "met = events.met"
   ]
  },
  {
   "cell_type": "code",
   "execution_count": 68,
   "metadata": {},
   "outputs": [],
   "source": [
    "from uproot_methods import TLorentzVectorArray"
   ]
  },
  {
   "cell_type": "code",
   "execution_count": 78,
   "metadata": {},
   "outputs": [
    {
     "name": "stderr",
     "output_type": "stream",
     "text": [
      "/Users/ncsmith/src/awkward-array/awkward/array/masked.py:242: RuntimeWarning: invalid value encountered in arccosh\n",
      "  result = getattr(ufunc, method)(*inputs, **kwargs)\n"
     ]
    }
   ],
   "source": [
    "joffshell = leadingjet.msoftdrop < 125/2  # halfway point between offshell and onshell W\n",
    "massassumption = 80.*joffshell + (125 - 80.)*~joffshell\n",
    "x = massassumption**2/(2*leadingmuon.p4.pt*met.rho) + np.cos(leadingmuon.p4.phi - met.phi)\n",
    "met_eta = (\n",
    "    (x < 1)*np.arcsinh(x*np.sinh(leadingmuon.p4.eta))\n",
    "    + (x > 1)*(\n",
    "        leadingmuon.p4.eta\n",
    "        - np.sign(leadingmuon.p4.eta)*np.arccosh(leadingmuon.p4.eta)\n",
    "    )\n",
    ")\n",
    "met_p4 = TLorentzVectorArray.from_ptetaphim(met.rho, met_eta.fillna(0.), met.phi, np.zeros(met.size))"
   ]
  },
  {
   "cell_type": "code",
   "execution_count": 93,
   "metadata": {},
   "outputs": [
    {
     "data": {
      "text/plain": [
       "<MaskedArray [None <muon 0> None ... None None <muon 12126>] at 0x0001cd98d6d0>"
      ]
     },
     "execution_count": 93,
     "metadata": {},
     "output_type": "execute_result"
    }
   ],
   "source": [
    "leadingmuon"
   ]
  },
  {
   "cell_type": "code",
   "execution_count": 37,
   "metadata": {},
   "outputs": [
    {
     "data": {
      "image/png": "[encoded data removed]",
      "text/plain": [
       "<Figure size 432x288 with 1 Axes>"
      ]
     },
     "metadata": {
      "needs_background": "light"
     },
     "output_type": "display_data"
    }
   ],
   "source": [
    "plt.hist(massassumption.fillna(np.nan));"
   ]
  },
  {
   "cell_type": "code",
   "execution_count": 3,
   "metadata": {},
   "outputs": [],
   "source": [
    "bosons = events.genpart[\n",
    "    (np.abs(events.genpart.pdgId) >= 21)\n",
    "    & (np.abs(events.genpart.pdgId) <= 37)\n",
    "    & (events.genpart.statusFlags & ((1<<7)|(1<<13))).astype(bool)  # isHardProcess, isLastCopy\n",
    "    & (events.genpart.genPartIdxMother >= 0)\n",
    "]\n",
    "candidatejet = events.fatjets[:,:1]\n",
    "ak8_boson_pair = candidatejet.cross(bosons, nested=True)\n",
    "ak8_boson_pair['dR2'] = ak8_boson_pair.i0.p4.delta_r2(ak8_boson_pair.i1.p4)\n",
    "ak8_boson_pair['dPt2'] = ((ak8_boson_pair.i0.p4.pt - ak8_boson_pair.i1.p4.pt)/(ak8_boson_pair.i0.p4.pt + ak8_boson_pair.i1.p4.pt))**2"
   ]
  },
  {
   "cell_type": "code",
   "execution_count": 4,
   "metadata": {},
   "outputs": [
    {
     "data": {
      "image/png": "[encoded data removed]",
      "text/plain": [
       "<Figure size 432x288 with 1 Axes>"
      ]
     },
     "metadata": {
      "needs_background": "light"
     },
     "output_type": "display_data"
    }
   ],
   "source": [
    "matchedBoson = ak8_boson_pair.i1[(ak8_boson_pair.dR2 + ak8_boson_pair.dPt2).argmin()].flatten(axis=1)\n",
    "plt.hist(matchedBoson.pdgId.flatten(), bins=np.arange(20, 30)-.5);"
   ]
  },
  {
   "cell_type": "code",
   "execution_count": 5,
   "metadata": {},
   "outputs": [
    {
     "data": {
      "text/plain": [
       "<JaggedArray [[] [] [] ... [] [] [[<tuple 82790> <tuple 82791> <tuple 82792> ... <tuple 82801> <tuple 82802> <tuple 82803>]]] at 0x0001c5467190>"
      ]
     },
     "execution_count": 5,
     "metadata": {},
     "output_type": "execute_result"
    }
   ],
   "source": [
    "ak8_boson_pair"
   ]
  },
  {
   "cell_type": "code",
   "execution_count": 6,
   "metadata": {},
   "outputs": [],
   "source": [
    "fatjets = events.fatjets\n",
    "\n",
    "fatjets['msdcorr'] = boostedhiggs.corrected_msoftdrop(fatjets)\n",
    "fatjets['rho'] = 2*np.log(fatjets.msdcorr / fatjets.p4.pt)\n",
    "fatjets['n2ddt'] = fatjets.n2 - boostedhiggs.n2ddt_shift(fatjets, year='2018')"
   ]
  },
  {
   "cell_type": "code",
   "execution_count": 7,
   "metadata": {},
   "outputs": [
    {
     "data": {
      "image/png": "[encoded data removed]",
      "text/plain": [
       "<Figure size 432x288 with 1 Axes>"
      ]
     },
     "metadata": {
      "needs_background": "light"
     },
     "output_type": "display_data"
    }
   ],
   "source": [
    "plt.hist(fatjets.n2ddt.flatten(), bins=np.linspace(-0.5, 0.5, 50));"
   ]
  },
  {
   "cell_type": "code",
   "execution_count": 8,
   "metadata": {},
   "outputs": [],
   "source": [
    "leadingjet = fatjets[:, 0:1]\n",
    "\n",
    "good = ((leadingjet.p4.pt > 450)\n",
    "        & (leadingjet.p4.eta < 2.4)\n",
    "        & (leadingjet.jetId & 2).astype(bool)  # tight\n",
    "        & (leadingjet.n2ddt < 0.)\n",
    "        & (leadingjet.msdcorr > 40)\n",
    "       )\n",
    "\n",
    "good_event = good.all()"
   ]
  },
  {
   "cell_type": "code",
   "execution_count": 9,
   "metadata": {},
   "outputs": [],
   "source": [
    "jets = events.jets\n",
    "ak4_ak8_pair = jets.cross(leadingjet, nested=True)\n",
    "dphi = ak4_ak8_pair.i0.p4.delta_phi(ak4_ak8_pair.i1.p4)\n",
    "opp = (np.abs(dphi) > np.pi / 2).all()\n",
    "# only consider first 4 jets to be consistent with old framework\n",
    "ak4_opposite = jets[opp & (jets.p4.pt > 30.) & (jets.localindex < 4)]\n",
    "\n",
    "btagLooseWPs = {\n",
    "    '2016': 0.6321,\n",
    "    '2017': 0.4941,\n",
    "    '2018': 0.4184,\n",
    "}\n",
    "good_event &= ak4_opposite.deepcsvb.max() < btagLooseWPs['2018']"
   ]
  },
  {
   "cell_type": "code",
   "execution_count": 10,
   "metadata": {},
   "outputs": [],
   "source": [
    "nelectrons = ((events.electrons.cutBased & (1<<2)).astype(bool) & (events.electrons.p4.pt > 20)).counts\n",
    "nmuons = (events.muons.looseId & (events.muons.p4.pt > 20)).counts\n",
    "ntaus = (events.taus.idDecayMode & (events.taus.p4.pt > 20)).counts\n",
    "good_event &= (events.met.rho < 140.) & (nmuons == 0) & (nelectrons == 0) & (ntaus == 0)"
   ]
  },
  {
   "cell_type": "code",
   "execution_count": 11,
   "metadata": {},
   "outputs": [
    {
     "name": "stdout",
     "output_type": "stream",
     "text": [
      "Passed 449 of 20000 events\n"
     ]
    }
   ],
   "source": [
    "print(\"Passed %d of %d events\" % (good_event.sum(), good_event.size))"
   ]
  },
  {
   "cell_type": "code",
   "execution_count": null,
   "metadata": {},
   "outputs": [],
   "source": []
  }
 ],
 "metadata": {
  "kernelspec": {
   "display_name": "Python 3",
   "language": "python",
   "name": "python3"
  },
  "language_info": {
   "codemirror_mode": {
    "name": "ipython",
    "version": 3
   },
   "file_extension": ".py",
   "mimetype": "text/x-python",
   "name": "python",
   "nbconvert_exporter": "python",
   "pygments_lexer": "ipython3",
   "version": "3.7.5"
  }
 },
 "nbformat": 4,
 "nbformat_minor": 2
}
