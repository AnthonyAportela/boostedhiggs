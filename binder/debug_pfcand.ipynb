{
 "cells": [
  {
   "cell_type": "code",
   "execution_count": 3,
   "metadata": {},
   "outputs": [],
   "source": [
    "import awkward as ak\n",
    "import numpy as np\n",
    "from coffea import nanoevents\n",
    "nanoevents.NanoAODSchema.mixins[\"PFCands\"] = \"PFCand\"\n",
    "\n",
    "import warnings\n",
    "warnings.filterwarnings(\"ignore\", message=\"Found duplicate branch \")\n",
    "\n",
    "fname = \"root://xcache//store/user/lpcpfnano/cmantill/v2_2/2017/HWW/GluGluHToWWToLNuQQ_M125_TuneCP5_PSweight_13TeV-powheg2-jhugen727-pythia8/GluGluHToWWToLNuQQ/211115_173633/0000/nano_mc2017_1-1.root\"\n",
    "\n",
    "# change entry_start and entry_stop here\n",
    "events = nanoevents.NanoEventsFactory.from_root(fname, \n",
    "                                                schemaclass = nanoevents.NanoAODSchema, \n",
    "                                                entry_start=99, entry_stop=100).events()"
   ]
  },
  {
   "cell_type": "code",
   "execution_count": 4,
   "metadata": {},
   "outputs": [
    {
     "data": {
      "text/plain": [
       "<NanoEventsArray [<event 1:88:8798>] type='1 * event'>"
      ]
     },
     "execution_count": 4,
     "metadata": {},
     "output_type": "execute_result"
    }
   ],
   "source": [
    "events"
   ]
  },
  {
   "cell_type": "code",
   "execution_count": 5,
   "metadata": {},
   "outputs": [
    {
     "name": "stdout",
     "output_type": "stream",
     "text": [
      "[Muon]\n"
     ]
    }
   ],
   "source": [
    "good_muons = (\n",
    "            (events.Muon.pt > 30)\n",
    "            & (np.abs(events.Muon.eta) < 2.4)\n",
    "            & (np.abs(events.Muon.dz) < 0.1)\n",
    "            & (np.abs(events.Muon.dxy) < 0.05)\n",
    "            & (events.Muon.sip3d <= 4.0)\n",
    "            & events.Muon.mediumId\n",
    "        )\n",
    "\n",
    "good_electrons = (\n",
    "            (events.Electron.pt > 38)\n",
    "            & (np.abs(events.Electron.eta) < 2.4)\n",
    "            & ((np.abs(events.Electron.eta) < 1.44) | (np.abs(events.Electron.eta) > 1.57))\n",
    "            & (np.abs(events.Electron.dz) < 0.1)\n",
    "            & (np.abs(events.Electron.dxy) < 0.05)\n",
    "            & (events.Electron.sip3d <= 4.0)\n",
    "            & (events.Electron.mvaFall17V2noIso_WP90)\n",
    "        )\n",
    "\n",
    "goodleptons = ak.concatenate([events.Muon[good_muons], events.Electron[good_electrons]], axis=1)    # concat muons and electrons\n",
    "goodleptons = goodleptons[ak.argsort(goodleptons.pt, ascending=False)]      # sort by pt\n",
    "candidatelep = ak.firsts(goodleptons) \n",
    "\n",
    "print(candidatelep)"
   ]
  },
  {
   "cell_type": "code",
   "execution_count": null,
   "metadata": {},
   "outputs": [],
   "source": []
  }
 ],
 "metadata": {
  "kernelspec": {
   "display_name": "Python 3",
   "language": "python",
   "name": "python3"
  },
  "language_info": {
   "codemirror_mode": {
    "name": "ipython",
    "version": 3
   },
   "file_extension": ".py",
   "mimetype": "text/x-python",
   "name": "python",
   "nbconvert_exporter": "python",
   "pygments_lexer": "ipython3",
   "version": "3.7.9"
  }
 },
 "nbformat": 4,
 "nbformat_minor": 5
}
