{
 "cells": [
  {
   "cell_type": "code",
   "execution_count": 1,
   "id": "531b95cf",
   "metadata": {},
   "outputs": [],
   "source": [
    "import os, sys\n",
    "import awkward as ak\n",
    "import numpy as np\n",
    "import matplotlib.pyplot as plt\n",
    "import mplhep as hep\n",
    "from hist.intervals import clopper_pearson_interval\n",
    "def get_yerr(num,den):\n",
    "    return abs(clopper_pearson_interval(num.view(), den.view()) - num.view()/den.view())\n",
    "\n",
    "# we suppress ROOT warnings where our input ROOT tree has duplicate branches - these are handled correctly.\n",
    "import warnings\n",
    "warnings.filterwarnings(\"ignore\", message=\"Found duplicate branch \")\n",
    "np.seterr(divide='ignore', invalid='ignore')\n",
    "\n",
    "from hist.intervals import clopper_pearson_interval\n",
    "def get_yerr(num,den):\n",
    "    return abs(clopper_pearson_interval(num.view(), den.view()) - np.nan_to_num(num.view()/den.view(), False, 1))"
   ]
  },
  {
   "cell_type": "code",
   "execution_count": 2,
   "id": "562f0969",
   "metadata": {},
   "outputs": [],
   "source": [
    "# you can load the output!\n",
    "import pickle\n",
    "with open('/eos/uscms/store/user/fmokhtar/boostedhiggs/lumiv3_2018/lumi_set.pkl', 'rb') as f:\n",
    "    lumi_set = pickle.load(f)"
   ]
  },
  {
   "cell_type": "code",
   "execution_count": 3,
   "id": "d0c89710",
   "metadata": {},
   "outputs": [
    {
     "data": {
      "text/plain": [
       "dict_keys(['EGamma_Run2018A', 'EGamma_Run2018B', 'EGamma_Run2018C', 'EGamma_Run2018D', 'SingleMuon_Run2018A', 'SingleMuon_Run2018B', 'SingleMuon_Run2018C', 'SingleMuon_Run2018D'])"
      ]
     },
     "execution_count": 3,
     "metadata": {},
     "output_type": "execute_result"
    }
   ],
   "source": [
    "lumi_set.keys()"
   ]
  },
  {
   "cell_type": "code",
   "execution_count": 4,
   "id": "df3a4448",
   "metadata": {},
   "outputs": [
    {
     "name": "stdout",
     "output_type": "stream",
     "text": [
      "EGamma_Run2018A ele\n",
      "EGamma_Run2018B ele\n",
      "EGamma_Run2018C ele\n",
      "EGamma_Run2018D ele\n",
      "SingleMuon_Run2018A mu\n",
      "SingleMuon_Run2018B mu\n",
      "SingleMuon_Run2018C mu\n",
      "SingleMuon_Run2018D mu\n"
     ]
    }
   ],
   "source": [
    "# combine the sets from the different datasets\n",
    "lumis = {}\n",
    "\n",
    "for i, dataset in enumerate(lumi_set.keys()):\n",
    "\n",
    "    if \"Muon\" in dataset:\n",
    "        ch = \"mu\"\n",
    "    else:\n",
    "        ch = \"ele\"\n",
    "    print(dataset, ch)\n",
    "    \n",
    "    if ch not in lumis.keys():\n",
    "        lumis[ch] = lumi_set[dataset]\n",
    "    else:\n",
    "        lumis[ch] = lumis[ch] | lumi_set[dataset]\n",
    "\n",
    "# convert the set to a numpy 2d-array\n",
    "for ch in [\"ele\", \"mu\"]:\n",
    "    lumis[ch] = np.array(list(lumis[ch]))"
   ]
  },
  {
   "cell_type": "code",
   "execution_count": 6,
   "id": "bda8d04b",
   "metadata": {},
   "outputs": [
    {
     "name": "stdout",
     "output_type": "stream",
     "text": [
      "ele 59816.22907800278\n",
      "mu 59781.96029993873\n"
     ]
    }
   ],
   "source": [
    "from coffea.lumi_tools import LumiData, LumiMask, LumiList\n",
    "from coffea.util import numpy as np\n",
    "\n",
    "# make LumiList object\n",
    "lumi_list = {}\n",
    "for ch in [\"ele\", \"mu\"]:\n",
    "    lumi_list[ch] = LumiList(runs=lumis[ch][:, 0], lumis=lumis[ch][:, 1])\n",
    "\n",
    "    # this csv was made using brilcalc and the GoldenJson2017\n",
    "    # refer to https://github.com/CoffeaTeam/coffea/blob/52e102fce21a3e19f8c079adc649dfdd27c92075/coffea/lumi_tools/lumi_tools.py#L20\n",
    "    lumidata = LumiData(\"../lumi/lumi2018.csv\")\n",
    "    print(ch, lumidata.get_lumi(lumi_list[ch]))\n",
    "    \n",
    "    # 41480 is what we are using in the processor for 2017"
   ]
  },
  {
   "cell_type": "code",
   "execution_count": null,
   "id": "b2f7f8d4",
   "metadata": {},
   "outputs": [],
   "source": []
  }
 ],
 "metadata": {
  "kernelspec": {
   "display_name": "Python 3 (ipykernel)",
   "language": "python",
   "name": "python3"
  },
  "language_info": {
   "codemirror_mode": {
    "name": "ipython",
    "version": 3
   },
   "file_extension": ".py",
   "mimetype": "text/x-python",
   "name": "python",
   "nbconvert_exporter": "python",
   "pygments_lexer": "ipython3",
   "version": "3.7.12"
  }
 },
 "nbformat": 4,
 "nbformat_minor": 5
}
