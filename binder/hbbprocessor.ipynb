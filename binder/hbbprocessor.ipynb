{
 "cells": [
  {
   "cell_type": "code",
   "execution_count": 1,
   "metadata": {},
   "outputs": [],
   "source": [
    "import numpy as np\n",
    "import awkward as ak\n",
    "from coffea import processor, util\n",
    "\n",
    "%matplotlib inline\n",
    "import matplotlib.pyplot as plt\n",
    "\n",
    "import boostedhiggs"
   ]
  },
  {
   "cell_type": "code",
   "execution_count": 4,
   "metadata": {},
   "outputs": [],
   "source": [
    "class HbbProcessor(processor.ProcessorABC):\n",
    "    def __init__(self, year='2017'):\n",
    "        self._year = year\n",
    "        \n",
    "        self._btagWPs = {\n",
    "            'med': {\n",
    "                '2016': 0.6321,\n",
    "                '2017': 0.4941,\n",
    "                '2018': 0.4184,\n",
    "            },\n",
    "        }\n",
    "        \n",
    "        self._accumulator = processor.dict_accumulator({\n",
    "            \"cutflow\": processor.defaultdict_accumulator(float),\n",
    "        })\n",
    "\n",
    "    @property\n",
    "    def accumulator(self):\n",
    "        return self._accumulator\n",
    "\n",
    "    def process(self, df):\n",
    "        dataset = df['dataset']\n",
    "        isRealData = 'genWeight' not in df\n",
    "        events = boostedhiggs.buildevents(df)\n",
    "        output = self.accumulator.identity()\n",
    "        selection = processor.PackedSelection()\n",
    "\n",
    "        fatjets = events.fatjets\n",
    "        fatjets['msdcorr'] = boostedhiggs.corrected_msoftdrop(fatjets)\n",
    "        fatjets['rho'] = 2*np.log(fatjets.msdcorr / fatjets.p4.pt)\n",
    "        fatjets['n2ddt'] = fatjets.n2 - boostedhiggs.n2ddt_shift(fatjets, year=self._year)\n",
    "        \n",
    "        leadingjet = fatjets[:, 0:1]\n",
    "        selection.add('jetkin', (\n",
    "            (leadingjet.p4.pt > 450)\n",
    "            & (leadingjet.p4.eta < 2.4)\n",
    "            & (leadingjet.msdcorr > 40.)\n",
    "        ).any())\n",
    "        selection.add('jetid', (leadingjet.jetId & 2).any())  # tight id\n",
    "        selection.add('n2ddt', (leadingjet.n2ddt < 0.).any())\n",
    "        \n",
    "        # only consider first 4 jets to be consistent with old framework\n",
    "        jets = events.jets[\n",
    "            (events.jets.p4.pt > 30.)\n",
    "            & (events.jets.localindex < 4)\n",
    "            & (events.jets.jetId & 2)  # tight id\n",
    "        ]\n",
    "        ak4_ak8_pair = jets.cross(leadingjet, nested=True)\n",
    "        dphi = ak4_ak8_pair.i0.p4.delta_phi(ak4_ak8_pair.i1.p4)\n",
    "        ak4_opposite = jets[(np.abs(dphi) > np.pi / 2).all()]\n",
    "        selection.add('antiak4btagMediumOppHem', ak4_opposite.deepcsvb.max() < self._btagWPs['med'][self._year])\n",
    "        ak4_away = jets[(np.abs(dphi) > 0.8).all()]\n",
    "        selection.add('ak4btagMedium08', ak4_away.deepcsvb.max() > self._btagWPs['med'][self._year])\n",
    "        \n",
    "        selection.add('met', events.met.rho < 140.)        \n",
    "        goodmuon = (\n",
    "            (events.muons.p4.pt > 10)\n",
    "            & (np.abs(events.muons.p4.eta) < 2.4)\n",
    "            & (events.muons.pfRelIso04_all < 0.25)\n",
    "            & (events.muons.looseId).astype(bool)\n",
    "        )\n",
    "        nmuons = goodmuon.sum()\n",
    "        leadingmuon = events.muons[goodmuon][:, 0:1]\n",
    "        muon_ak8_pair = leadingmuon.cross(leadingjet, nested=True)\n",
    "        \n",
    "        nelectrons = (\n",
    "            (events.electrons.p4.pt > 10)\n",
    "            & (np.abs(events.electrons.p4.eta) < 2.5)\n",
    "            & (events.electrons.cutBased & (1<<2)).astype(bool)  # 2017V2 loose\n",
    "        ).sum()\n",
    "        \n",
    "        ntaus = (\n",
    "            (events.taus.p4.pt > 20)\n",
    "            & (events.taus.idDecayMode).astype(bool)\n",
    "            # bacon iso looser than Nano selection\n",
    "        ).sum()\n",
    "        \n",
    "        selection.add('noleptons', (nmuons == 0) & (nelectrons == 0) & (ntaus == 0))\n",
    "        selection.add('onemuon', (nmuons == 1) & (nelectrons == 0) & (ntaus == 0))\n",
    "        selection.add('muonkin', (\n",
    "            (leadingmuon.p4.pt > 55.)\n",
    "            & (np.abs(leadingmuon.p4.eta()) < 2.1)\n",
    "        ).all())\n",
    "        selection.add('muonDphiAK8', (\n",
    "            muon_ak8_pair.i0.p4.delta_phi(muon_ak8_pair.i1.p4) > 2*np.pi/3\n",
    "        ).all().all())\n",
    "        \n",
    "        # sets of cuts are stacked as we go through the (ordered) dict\n",
    "        cutflow = {\n",
    "            'none': set(),\n",
    "            'jet kinematics': {'jetkin'},\n",
    "            'jet id, n2': {'jetid', 'n2ddt'},\n",
    "            'ttrej': {'antiak4btagMediumOppHem', 'met', 'noleptons'},\n",
    "        }\n",
    "        allcuts = set()\n",
    "        for name, cuts in cutflow.items():\n",
    "            allcuts.update(cuts)\n",
    "            output['cutflow'][name] += selection.all(*allcuts).sum()\n",
    "            \n",
    "        weights = processor.Weights(len(events))\n",
    "        if not isRealData:\n",
    "            weights.add('genweight', events.genWeight)\n",
    "            boostedhiggs.add_pileup_weight(weights, events.Pileup_nPU, year, dataset)\n",
    "            bosons = (\n",
    "                (np.abs(events.genpart.pdgId) >= 21)\n",
    "                & (np.abs(events.genpart.pdgId) <= 37)\n",
    "                & (events.genpart.statusFlags & (1<<7)).astype(bool)  # isHardProcess\n",
    "                & (events.genpart.genPartIdxMother >= 0)\n",
    "            )\n",
    "            boostedhiggs.add_VJets_NLOkFactor(weights, genBoson, year, dataset)\n",
    "        \n",
    "        return output\n",
    "\n",
    "    def postprocess(self, accumulator):\n",
    "        return accumulator"
   ]
  },
  {
   "cell_type": "code",
   "execution_count": 5,
   "metadata": {},
   "outputs": [
    {
     "data": {
      "application/vnd.jupyter.widget-view+json": {
       "model_id": "68eb0e4fdbc344aab0bc9b0e523a9c14",
       "version_major": 2,
       "version_minor": 0
      },
      "text/plain": [
       "HBox(children=(IntProgress(value=0, description='Processing', max=7, style=ProgressStyle(description_width='in…"
      ]
     },
     "metadata": {},
     "output_type": "display_data"
    },
    {
     "name": "stdout",
     "output_type": "stream",
     "text": [
      "\n"
     ]
    },
    {
     "data": {
      "text/plain": [
       "<pyinstrument.session.ProfilerSession at 0x10e1a4ad0>"
      ]
     },
     "execution_count": 5,
     "metadata": {},
     "output_type": "execute_result"
    }
   ],
   "source": [
    "files = {\n",
    "    'ttbar': [\n",
    "        'data/TTToHadronic_TuneCP5_13TeV-powheg-pythia8_10X.root'\n",
    "    ]\n",
    "}\n",
    "\n",
    "p = HbbProcessor(year='2018')\n",
    "exe_config = {\n",
    "    'flatten': True,\n",
    "    #'workers': 4,\n",
    "    'savemetrics': True,\n",
    "}\n",
    "\n",
    "from pyinstrument import Profiler\n",
    "profiler = Profiler()\n",
    "profiler.start()\n",
    "output, metrics = processor.run_uproot_job(files, 'Events', p, processor.iterative_executor, exe_config)\n",
    "profiler.stop()"
   ]
  },
  {
   "cell_type": "code",
   "execution_count": 6,
   "metadata": {},
   "outputs": [
    {
     "name": "stdout",
     "output_type": "stream",
     "text": [
      "Events / s / thread: 44598\n"
     ]
    }
   ],
   "source": [
    "evtrate = metrics['entries'].value / metrics['processtime'].value\n",
    "print(\"Events / s / thread: %.0f\" % evtrate)"
   ]
  },
  {
   "cell_type": "code",
   "execution_count": 7,
   "metadata": {},
   "outputs": [],
   "source": [
    "with open('profile.html', 'w') as fout:\n",
    "    fout.write(profiler.output_html())"
   ]
  },
  {
   "cell_type": "code",
   "execution_count": 8,
   "metadata": {},
   "outputs": [
    {
     "data": {
      "text/plain": [
       "{'cutflow': defaultdict_accumulator(float,\n",
       "                         {'none': 1374488.0,\n",
       "                          'jet kinematics': 11873.0,\n",
       "                          'jet id, n2': 3237.0,\n",
       "                          'ttrej': 1942.0})}"
      ]
     },
     "execution_count": 8,
     "metadata": {},
     "output_type": "execute_result"
    }
   ],
   "source": [
    "output"
   ]
  },
  {
   "cell_type": "code",
   "execution_count": null,
   "metadata": {},
   "outputs": [],
   "source": []
  }
 ],
 "metadata": {
  "kernelspec": {
   "display_name": "Python 3",
   "language": "python",
   "name": "python3"
  },
  "language_info": {
   "codemirror_mode": {
    "name": "ipython",
    "version": 3
   },
   "file_extension": ".py",
   "mimetype": "text/x-python",
   "name": "python",
   "nbconvert_exporter": "python",
   "pygments_lexer": "ipython3",
   "version": "3.7.5"
  }
 },
 "nbformat": 4,
 "nbformat_minor": 2
}
