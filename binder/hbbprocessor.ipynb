{
 "cells": [
  {
   "cell_type": "code",
   "execution_count": 1,
   "metadata": {},
   "outputs": [],
   "source": [
    "import numpy as np\n",
    "import awkward as ak\n",
    "from coffea import processor, util\n",
    "\n",
    "%matplotlib inline\n",
    "import matplotlib.pyplot as plt\n",
    "\n",
    "import boostedhiggs"
   ]
  },
  {
   "cell_type": "code",
   "execution_count": 2,
   "metadata": {},
   "outputs": [],
   "source": [
    "class HbbProcessor(processor.ProcessorABC):\n",
    "    def __init__(self, year='2017'):\n",
    "        self._year = year\n",
    "        \n",
    "        self._btagWPs = {\n",
    "            'med': {\n",
    "                '2016': 0.6321,\n",
    "                '2017': 0.4941,\n",
    "                '2018': 0.4184,\n",
    "            },\n",
    "        }\n",
    "        \n",
    "        self._accumulator = processor.dict_accumulator({\n",
    "            \"cutflow\": processor.defaultdict_accumulator(float),\n",
    "        })\n",
    "\n",
    "    @property\n",
    "    def accumulator(self):\n",
    "        return self._accumulator\n",
    "\n",
    "    def process(self, df):\n",
    "        events = boostedhiggs.buildevents(df)\n",
    "        output = self.accumulator.identity()\n",
    "\n",
    "        fatjets = events.fatjets\n",
    "        fatjets['msdcorr'] = boostedhiggs.corrected_msoftdrop(fatjets)\n",
    "        fatjets['rho'] = 2*np.log(fatjets.msdcorr / fatjets.p4.pt)\n",
    "        fatjets['n2ddt'] = fatjets.n2 - boostedhiggs.n2ddt_shift(fatjets, year=self._year)\n",
    "        \n",
    "        leadingjet = fatjets[:, 0:1]\n",
    "        good = ((leadingjet.p4.pt > 450)\n",
    "                & (leadingjet.p4.eta < 2.4)\n",
    "                & (leadingjet.jetId & 2).astype(bool)  # tight\n",
    "                & (leadingjet.n2ddt < 0.)\n",
    "                & (leadingjet.msdcorr > 40)\n",
    "               )\n",
    "        good_event = good.all()\n",
    "        jets = events.jets\n",
    "        \n",
    "        ak4_ak8_pair = jets.cross(leadingjet, nested=True)\n",
    "        dphi = ak4_ak8_pair.i0.p4.delta_phi(ak4_ak8_pair.i1.p4)\n",
    "        opp = (np.abs(dphi) > np.pi / 2).all()\n",
    "        # only consider first 4 jets to be consistent with old framework\n",
    "        ak4_opposite = jets[opp & (jets.p4.pt > 30.) & (jets.localindex < 4)]\n",
    "        good_event &= ak4_opposite.deepcsvb.max() < self._btagWPs['med'][self._year]\n",
    "        \n",
    "        nelectrons = ((events.electrons.cutBased & (1<<2)).astype(bool) & (events.electrons.p4.pt > 20)).counts\n",
    "        nmuons = (events.muons.looseId & (events.muons.p4.pt > 20)).counts\n",
    "        ntaus = (events.taus.idDecayMode & (events.taus.p4.pt > 20)).counts\n",
    "        good_event &= (events.met.rho < 140.) & (nmuons == 0) & (nelectrons == 0) & (ntaus == 0)\n",
    "        \n",
    "        output['cutflow']['pass all'] += good_event.sum()\n",
    "        \n",
    "        return output\n",
    "\n",
    "    def postprocess(self, accumulator):\n",
    "        return accumulator"
   ]
  },
  {
   "cell_type": "code",
   "execution_count": 3,
   "metadata": {},
   "outputs": [
    {
     "data": {
      "application/vnd.jupyter.widget-view+json": {
       "model_id": "9fd4e3c7137e4abeb95f01cd6e938949",
       "version_major": 2,
       "version_minor": 0
      },
      "text/plain": [
       "HBox(children=(IntProgress(value=0, description='Preprocessing', max=1, style=ProgressStyle(description_width=…"
      ]
     },
     "metadata": {},
     "output_type": "display_data"
    },
    {
     "name": "stdout",
     "output_type": "stream",
     "text": [
      "\n"
     ]
    },
    {
     "data": {
      "application/vnd.jupyter.widget-view+json": {
       "model_id": "0364d3f3161541cc8b73886c267e0a66",
       "version_major": 2,
       "version_minor": 0
      },
      "text/plain": [
       "HBox(children=(IntProgress(value=0, description='Processing', max=7, style=ProgressStyle(description_width='in…"
      ]
     },
     "metadata": {},
     "output_type": "display_data"
    },
    {
     "name": "stdout",
     "output_type": "stream",
     "text": [
      "\n"
     ]
    }
   ],
   "source": [
    "files = {\n",
    "    'ttbar': [\n",
    "        'data/TTToHadronic_TuneCP5_13TeV-powheg-pythia8_10X.root'\n",
    "    ]\n",
    "}\n",
    "\n",
    "p = HbbProcessor(year='2018')\n",
    "exe_config = {\n",
    "    'flatten': True,\n",
    "    'workers': 4,\n",
    "    'savemetrics': True,\n",
    "}\n",
    "output, metrics = processor.run_uproot_job(files, 'Events', p, processor.futures_executor, exe_config)"
   ]
  },
  {
   "cell_type": "code",
   "execution_count": 4,
   "metadata": {},
   "outputs": [
    {
     "name": "stdout",
     "output_type": "stream",
     "text": [
      "Events / s / thread: 51060\n"
     ]
    }
   ],
   "source": [
    "evtrate = metrics['entries'].value / metrics['processtime'].value\n",
    "print(\"Events / s / thread: %.0f\" % evtrate)"
   ]
  },
  {
   "cell_type": "code",
   "execution_count": null,
   "metadata": {},
   "outputs": [],
   "source": []
  }
 ],
 "metadata": {
  "kernelspec": {
   "display_name": "Python 3",
   "language": "python",
   "name": "python3"
  },
  "language_info": {
   "codemirror_mode": {
    "name": "ipython",
    "version": 3
   },
   "file_extension": ".py",
   "mimetype": "text/x-python",
   "name": "python",
   "nbconvert_exporter": "python",
   "pygments_lexer": "ipython3",
   "version": "3.7.5"
  }
 },
 "nbformat": 4,
 "nbformat_minor": 2
}
