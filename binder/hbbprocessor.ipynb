{
 "cells": [
  {
   "cell_type": "code",
   "execution_count": 1,
   "metadata": {},
   "outputs": [],
   "source": [
    "from coffea import processor, util\n",
    "\n",
    "%matplotlib inline\n",
    "import matplotlib.pyplot as plt\n",
    "\n",
    "from boostedhiggs import HbbProcessor"
   ]
  },
  {
   "cell_type": "code",
   "execution_count": 2,
   "metadata": {},
   "outputs": [
    {
     "data": {
      "application/vnd.jupyter.widget-view+json": {
       "model_id": "16a3fb76c94a4ac992e58441bc01e589",
       "version_major": 2,
       "version_minor": 0
      },
      "text/plain": [
       "HBox(children=(IntProgress(value=0, description='Preprocessing', max=1, style=ProgressStyle(description_width=…"
      ]
     },
     "metadata": {},
     "output_type": "display_data"
    },
    {
     "name": "stdout",
     "output_type": "stream",
     "text": [
      "\n"
     ]
    },
    {
     "data": {
      "application/vnd.jupyter.widget-view+json": {
       "model_id": "7feb4a5c31f5498f8e013c2c53912a33",
       "version_major": 2,
       "version_minor": 0
      },
      "text/plain": [
       "HBox(children=(IntProgress(value=0, description='Processing', max=7, style=ProgressStyle(description_width='in…"
      ]
     },
     "metadata": {},
     "output_type": "display_data"
    },
    {
     "name": "stdout",
     "output_type": "stream",
     "text": [
      "\n"
     ]
    },
    {
     "data": {
      "text/plain": [
       "<pyinstrument.session.ProfilerSession at 0x12c907150>"
      ]
     },
     "execution_count": 2,
     "metadata": {},
     "output_type": "execute_result"
    }
   ],
   "source": [
    "files = {\n",
    "    'ttbar': [\n",
    "        'data/TTToHadronic_TuneCP5_13TeV-powheg-pythia8_10X.root'\n",
    "    ]\n",
    "}\n",
    "\n",
    "p = HbbProcessor(year='2017')\n",
    "exe_config = {\n",
    "    'flatten': True,\n",
    "    #'workers': 4,\n",
    "    'savemetrics': True,\n",
    "    'compression': 0,\n",
    "}\n",
    "\n",
    "from pyinstrument import Profiler\n",
    "profiler = Profiler()\n",
    "profiler.start()\n",
    "output, metrics = processor.run_uproot_job(files, 'Events', p, processor.iterative_executor, exe_config)\n",
    "profiler.stop()"
   ]
  },
  {
   "cell_type": "code",
   "execution_count": 3,
   "metadata": {},
   "outputs": [
    {
     "name": "stdout",
     "output_type": "stream",
     "text": [
      "Events / s / thread: 18249\n"
     ]
    }
   ],
   "source": [
    "evtrate = metrics['entries'].value / metrics['processtime'].value\n",
    "print(\"Events / s / thread: %.0f\" % evtrate)"
   ]
  },
  {
   "cell_type": "code",
   "execution_count": 4,
   "metadata": {},
   "outputs": [],
   "source": [
    "with open('profile.html', 'w') as fout:\n",
    "    fout.write(profiler.output_html())"
   ]
  },
  {
   "cell_type": "code",
   "execution_count": 5,
   "metadata": {},
   "outputs": [
    {
     "data": {
      "text/plain": [
       "{'cutflow': defaultdict_accumulator(float,\n",
       "                         {'none': 1374488.0,\n",
       "                          'jetkin': 11873.0,\n",
       "                          'trigger': 3094.0,\n",
       "                          'jetid': 3094.0,\n",
       "                          'n2ddt': 903.0,\n",
       "                          'antiak4btagMediumOppHem': 885.0,\n",
       "                          'met': 829.0,\n",
       "                          'noleptons': 578.0})}"
      ]
     },
     "execution_count": 5,
     "metadata": {},
     "output_type": "execute_result"
    }
   ],
   "source": [
    "output"
   ]
  },
  {
   "cell_type": "code",
   "execution_count": null,
   "metadata": {},
   "outputs": [],
   "source": []
  }
 ],
 "metadata": {
  "kernelspec": {
   "display_name": "Python 3",
   "language": "python",
   "name": "python3"
  },
  "language_info": {
   "codemirror_mode": {
    "name": "ipython",
    "version": 3
   },
   "file_extension": ".py",
   "mimetype": "text/x-python",
   "name": "python",
   "nbconvert_exporter": "python",
   "pygments_lexer": "ipython3",
   "version": "3.7.5"
  }
 },
 "nbformat": 4,
 "nbformat_minor": 2
}
