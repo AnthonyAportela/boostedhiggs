{
 "cells": [
  {
   "cell_type": "code",
   "execution_count": 1,
   "metadata": {},
   "outputs": [],
   "source": [
    "import numpy as np\n",
    "import awkward as ak\n",
    "from coffea import processor, util\n",
    "\n",
    "%matplotlib inline\n",
    "import matplotlib.pyplot as plt\n",
    "\n",
    "import boostedhiggs"
   ]
  },
  {
   "cell_type": "code",
   "execution_count": 2,
   "metadata": {},
   "outputs": [],
   "source": [
    "class HbbProcessor(processor.ProcessorABC):\n",
    "    def __init__(self, year='2017'):\n",
    "        self._year = year\n",
    "        \n",
    "        self._btagWPs = {\n",
    "            'med': {\n",
    "                '2016': 0.6321,\n",
    "                '2017': 0.4941,\n",
    "                '2018': 0.4184,\n",
    "            },\n",
    "        }\n",
    "        \n",
    "        self._triggers = {\n",
    "            '2016': [\n",
    "                \"HLT_PFHT800\",\n",
    "                \"HLT_PFHT900\",\n",
    "                \"HLT_AK8PFJet360_TrimMass30\",\n",
    "                'HLT_AK8PFHT700_TrimR0p1PT0p03Mass50',\n",
    "                \"HLT_PFHT650_WideJetMJJ950DEtaJJ1p5\",\n",
    "                \"HLT_PFHT650_WideJetMJJ900DEtaJJ1p5\",\n",
    "                \"HLT_AK8DiPFJet280_200_TrimMass30_BTagCSV_p20\",\n",
    "                \"HLT_PFJet450\",\n",
    "            ],\n",
    "            '2017': [\n",
    "                \"HLT_AK8PFJet330_PFAK8BTagCSV_p17\",\n",
    "                \"HLT_PFHT1050\",\n",
    "                \"HLT_AK8PFJet400_TrimMass30\",\n",
    "                \"HLT_AK8PFJet420_TrimMass30\",\n",
    "                \"HLT_AK8PFHT800_TrimMass50\",\n",
    "                \"HLT_PFJet500\",\n",
    "                \"HLT_AK8PFJet500\",\n",
    "            ],\n",
    "            '2018': [\n",
    "                'HLT_AK8PFJet400_TrimMass30',\n",
    "                'HLT_AK8PFJet420_TrimMass30',\n",
    "                'HLT_AK8PFHT800_TrimMass50',\n",
    "                'HLT_PFHT1050',\n",
    "                'HLT_PFJet500',\n",
    "                'HLT_AK8PFJet500',\n",
    "                'HLT_AK8PFJet330_PFAK8BTagCSV_p17',\n",
    "                \"HLT_AK8PFJet330_TrimMass30_PFAK8BoostedDoubleB_np4\",\n",
    "            ],\n",
    "        }\n",
    "        \n",
    "        self._accumulator = processor.dict_accumulator({\n",
    "            'cutflow': processor.defaultdict_accumulator(float),\n",
    "            \n",
    "        })\n",
    "\n",
    "    @property\n",
    "    def accumulator(self):\n",
    "        return self._accumulator\n",
    "\n",
    "    def process(self, df):\n",
    "        dataset = df['dataset']\n",
    "        isRealData = 'genWeight' not in df\n",
    "        events = boostedhiggs.buildevents(df)\n",
    "        output = self.accumulator.identity()\n",
    "        selection = processor.PackedSelection()\n",
    "        \n",
    "        trigger = np.ones(df.size, dtype='bool')\n",
    "        for t in self._triggers[self._year]:\n",
    "            trigger &= df[t]\n",
    "        selection.add('trigger', trigger)\n",
    "\n",
    "        fatjets = events.fatjets\n",
    "        fatjets['msdcorr'] = boostedhiggs.corrected_msoftdrop(fatjets)\n",
    "        fatjets['rho'] = 2*np.log(fatjets.msdcorr / fatjets.p4.pt)\n",
    "        fatjets['n2ddt'] = fatjets.n2 - boostedhiggs.n2ddt_shift(fatjets, year=self._year)\n",
    "        \n",
    "        candidatejet = fatjets[:, 0:1]\n",
    "        selection.add('jetkin', (\n",
    "            (candidatejet.p4.pt > 450)\n",
    "            & (candidatejet.p4.eta < 2.4)\n",
    "            & (candidatejet.msdcorr > 40.)\n",
    "        ).any())\n",
    "        selection.add('jetid', (candidatejet.jetId & 2).any())  # tight id\n",
    "        selection.add('n2ddt', (candidatejet.n2ddt < 0.).any())\n",
    "        \n",
    "        # only consider first 4 jets to be consistent with old framework\n",
    "        jets = events.jets[\n",
    "            (events.jets.p4.pt > 30.)\n",
    "            & (events.jets.localindex < 4)\n",
    "            & (events.jets.jetId & 2)  # tight id\n",
    "        ]\n",
    "        ak4_ak8_pair = jets.cross(candidatejet, nested=True)\n",
    "        dphi = ak4_ak8_pair.i0.p4.delta_phi(ak4_ak8_pair.i1.p4)\n",
    "        ak4_opposite = jets[(np.abs(dphi) > np.pi / 2).all()]\n",
    "        selection.add('antiak4btagMediumOppHem', ak4_opposite.deepcsvb.max() < self._btagWPs['med'][self._year])\n",
    "        ak4_away = jets[(np.abs(dphi) > 0.8).all()]\n",
    "        selection.add('ak4btagMedium08', ak4_away.deepcsvb.max() > self._btagWPs['med'][self._year])\n",
    "        \n",
    "        selection.add('met', events.met.rho < 140.)        \n",
    "        goodmuon = (\n",
    "            (events.muons.p4.pt > 10)\n",
    "            & (np.abs(events.muons.p4.eta) < 2.4)\n",
    "            & (events.muons.pfRelIso04_all < 0.25)\n",
    "            & (events.muons.looseId).astype(bool)\n",
    "        )\n",
    "        nmuons = goodmuon.sum()\n",
    "        leadingmuon = events.muons[goodmuon][:, 0:1]\n",
    "        muon_ak8_pair = leadingmuon.cross(candidatejet, nested=True)\n",
    "        \n",
    "        nelectrons = (\n",
    "            (events.electrons.p4.pt > 10)\n",
    "            & (np.abs(events.electrons.p4.eta) < 2.5)\n",
    "            & (events.electrons.cutBased & (1<<2)).astype(bool)  # 2017V2 loose\n",
    "        ).sum()\n",
    "        \n",
    "        ntaus = (\n",
    "            (events.taus.p4.pt > 20)\n",
    "            & (events.taus.idDecayMode).astype(bool)\n",
    "            # bacon iso looser than Nano selection\n",
    "        ).sum()\n",
    "        \n",
    "        selection.add('noleptons', (nmuons == 0) & (nelectrons == 0) & (ntaus == 0))\n",
    "        selection.add('onemuon', (nmuons == 1) & (nelectrons == 0) & (ntaus == 0))\n",
    "        selection.add('muonkin', (\n",
    "            (leadingmuon.p4.pt > 55.)\n",
    "            & (np.abs(leadingmuon.p4.eta) < 2.1)\n",
    "        ).all())\n",
    "        selection.add('muonDphiAK8', (\n",
    "            muon_ak8_pair.i0.p4.delta_phi(muon_ak8_pair.i1.p4) > 2*np.pi/3\n",
    "        ).all().all())\n",
    "        \n",
    "        cutflow = ['jetkin', 'trigger', 'jetid', 'n2ddt', 'antiak4btagMediumOppHem', 'met', 'noleptons']\n",
    "        allcuts = set()\n",
    "        output['cutflow']['none'] += len(events)\n",
    "        for cut in cutflow:\n",
    "            allcuts.add(cut)\n",
    "            output['cutflow'][cut] += selection.all(*allcuts).sum()\n",
    "            \n",
    "        weights = processor.Weights(len(events))\n",
    "        if not isRealData:\n",
    "            weights.add('genweight', events.genWeight)\n",
    "            boostedhiggs.add_pileup_weight(weights, events.Pileup_nPU, self._year, dataset)\n",
    "            bosons = events.genpart[\n",
    "                (np.abs(events.genpart.pdgId) >= 21)\n",
    "                & (np.abs(events.genpart.pdgId) <= 37)\n",
    "                & (events.genpart.statusFlags & ((1<<7)|(1<<13))).astype(bool)  # isHardProcess, isLastCopy\n",
    "                & (events.genpart.genPartIdxMother >= 0)\n",
    "            ]\n",
    "            genBosonPt = bosons.p4.pt.pad(1, clip=True).fillna(0)\n",
    "            boostedhiggs.add_VJets_NLOkFactor(weights, genBosonPt, self._year, dataset)\n",
    "            \n",
    "            ak8_boson_pair = candidatejet.cross(bosons, nested=True)\n",
    "            dR2 = ak8_boson_pair.i0.p4.delta_r2(ak8_boson_pair.i1.p4)\n",
    "            dPt2 = ((ak8_boson_pair.i0.p4.pt - ak8_boson_pair.i1.p4.pt)/(ak8_boson_pair.i0.p4.pt + ak8_boson_pair.i1.p4.pt))**2\n",
    "            matchedBoson = ak8_boson_pair.i1[(dR2 + dPt2).argmin()].flatten(axis=1)\n",
    "\n",
    "        return output\n",
    "\n",
    "    def postprocess(self, accumulator):\n",
    "        return accumulator"
   ]
  },
  {
   "cell_type": "code",
   "execution_count": 3,
   "metadata": {},
   "outputs": [
    {
     "data": {
      "application/vnd.jupyter.widget-view+json": {
       "model_id": "15d3e7f9461d4a1faa3d3474fd5b630f",
       "version_major": 2,
       "version_minor": 0
      },
      "text/plain": [
       "HBox(children=(IntProgress(value=0, description='Preprocessing', max=1, style=ProgressStyle(description_width=…"
      ]
     },
     "metadata": {},
     "output_type": "display_data"
    },
    {
     "name": "stdout",
     "output_type": "stream",
     "text": [
      "\n"
     ]
    },
    {
     "data": {
      "application/vnd.jupyter.widget-view+json": {
       "model_id": "a6513ac2b6434a50ba325be7d9ac9395",
       "version_major": 2,
       "version_minor": 0
      },
      "text/plain": [
       "HBox(children=(IntProgress(value=0, description='Processing', max=7, style=ProgressStyle(description_width='in…"
      ]
     },
     "metadata": {},
     "output_type": "display_data"
    },
    {
     "name": "stdout",
     "output_type": "stream",
     "text": [
      "\n"
     ]
    },
    {
     "data": {
      "text/plain": [
       "<pyinstrument.session.ProfilerSession at 0x12b1627d0>"
      ]
     },
     "execution_count": 3,
     "metadata": {},
     "output_type": "execute_result"
    }
   ],
   "source": [
    "files = {\n",
    "    'ttbar': [\n",
    "        'data/TTToHadronic_TuneCP5_13TeV-powheg-pythia8_10X.root'\n",
    "    ]\n",
    "}\n",
    "\n",
    "p = HbbProcessor(year='2017')\n",
    "exe_config = {\n",
    "    'flatten': True,\n",
    "    #'workers': 4,\n",
    "    'savemetrics': True,\n",
    "    'compression': 0,\n",
    "}\n",
    "\n",
    "from pyinstrument import Profiler\n",
    "profiler = Profiler()\n",
    "profiler.start()\n",
    "output, metrics = processor.run_uproot_job(files, 'Events', p, processor.iterative_executor, exe_config)\n",
    "profiler.stop()"
   ]
  },
  {
   "cell_type": "code",
   "execution_count": 4,
   "metadata": {},
   "outputs": [
    {
     "name": "stdout",
     "output_type": "stream",
     "text": [
      "Events / s / thread: 13139\n"
     ]
    }
   ],
   "source": [
    "evtrate = metrics['entries'].value / metrics['processtime'].value\n",
    "print(\"Events / s / thread: %.0f\" % evtrate)"
   ]
  },
  {
   "cell_type": "code",
   "execution_count": 5,
   "metadata": {},
   "outputs": [],
   "source": [
    "with open('profile.html', 'w') as fout:\n",
    "    fout.write(profiler.output_html())"
   ]
  },
  {
   "cell_type": "code",
   "execution_count": 6,
   "metadata": {},
   "outputs": [
    {
     "data": {
      "text/plain": [
       "{'cutflow': defaultdict_accumulator(float,\n",
       "                         {'none': 1374488.0,\n",
       "                          'jetkin': 11873.0,\n",
       "                          'trigger': 3094.0,\n",
       "                          'jetid': 3094.0,\n",
       "                          'n2ddt': 903.0,\n",
       "                          'antiak4btagMediumOppHem': 885.0,\n",
       "                          'met': 829.0,\n",
       "                          'noleptons': 578.0})}"
      ]
     },
     "execution_count": 6,
     "metadata": {},
     "output_type": "execute_result"
    }
   ],
   "source": [
    "output"
   ]
  },
  {
   "cell_type": "code",
   "execution_count": null,
   "metadata": {},
   "outputs": [],
   "source": []
  }
 ],
 "metadata": {
  "kernelspec": {
   "display_name": "Python 3",
   "language": "python",
   "name": "python3"
  },
  "language_info": {
   "codemirror_mode": {
    "name": "ipython",
    "version": 3
   },
   "file_extension": ".py",
   "mimetype": "text/x-python",
   "name": "python",
   "nbconvert_exporter": "python",
   "pygments_lexer": "ipython3",
   "version": "3.7.5"
  }
 },
 "nbformat": 4,
 "nbformat_minor": 2
}
