{
 "cells": [
  {
   "cell_type": "code",
   "execution_count": 442,
   "metadata": {},
   "outputs": [
    {
     "name": "stdout",
     "output_type": "stream",
     "text": [
      "DYJetsToLL_M-10to50\t       SingleMuon_Run2017B\r\n",
      "DYJetsToLL_M-50_HT-100to200    SingleMuon_Run2017C\r\n",
      "DYJetsToLL_M-50_HT-1200to2500  SingleMuon_Run2017D\r\n",
      "DYJetsToLL_M-50_HT-200to400    SingleMuon_Run2017E\r\n",
      "DYJetsToLL_M-50_HT-2500toInf   SingleMuon_Run2017F\r\n",
      "DYJetsToLL_M-50_HT-400to600    ST_s-channel_4f_hadronicDecays\r\n",
      "DYJetsToLL_M-50_HT-600to800    ST_s-channel_4f_leptonDecays\r\n",
      "DYJetsToLL_M-50_HT-70to100     ST_t-channel_antitop_4f_InclusiveDecays\r\n",
      "DYJetsToLL_M-50_HT-800to1200   ST_t-channel_top_4f_InclusiveDecays\r\n",
      "DYJetsToLL_Pt-100To250\t       ST_tW_antitop_5f_inclusiveDecays\r\n",
      "DYJetsToLL_Pt-250To400\t       ST_tW_top_5f_inclusiveDecays\r\n",
      "DYJetsToLL_Pt-400To650\t       ttHToNonbb_M125\r\n",
      "DYJetsToLL_Pt-50To100\t       TTTo2L2Nu\r\n",
      "DYJetsToLL_Pt-650ToInf\t       TTToHadronic\r\n",
      "GluGluHToTauTau\t\t       TTToSemiLeptonic\r\n",
      "GluGluHToWW_Pt-200ToInf_M-125  VBFHToWWToLNuQQ_M-125_withDipoleRecoil\r\n",
      "GluGluZH_HToWW_ZTo2L_M-125     WJetsToLNu_HT-100To200\r\n",
      "HWminusJ_HToWW_M-125\t       WJetsToLNu_HT-1200To2500\r\n",
      "HWplusJ_HToWW_M-125\t       WJetsToLNu_HT-200To400\r\n",
      "HZJ_HToWW_M-125\t\t       WJetsToLNu_HT-2500ToInf\r\n",
      "QCD_Pt_1000to1400\t       WJetsToLNu_HT-400To600\r\n",
      "QCD_Pt_1400to1800\t       WJetsToLNu_HT-600To800\r\n",
      "QCD_Pt_170to300\t\t       WJetsToLNu_HT-70To100\r\n",
      "QCD_Pt_1800to2400\t       WJetsToLNu_HT-800To1200\r\n",
      "QCD_Pt_2400to3200\t       WJetsToQQ_HT-200to400\r\n",
      "QCD_Pt_300to470\t\t       WJetsToQQ_HT-400to600\r\n",
      "QCD_Pt_3200toInf\t       WJetsToQQ_HT-600to800\r\n",
      "QCD_Pt_470to600\t\t       WJetsToQQ_HT-800toInf\r\n",
      "QCD_Pt_600to800\t\t       WW\r\n",
      "QCD_Pt_800to1000\t       WZ\r\n",
      "SingleElectron_Run2017B        ZJetsToQQ_HT-200to400\r\n",
      "SingleElectron_Run2017C        ZJetsToQQ_HT-400to600\r\n",
      "SingleElectron_Run2017D        ZJetsToQQ_HT-600to800\r\n",
      "SingleElectron_Run2017E        ZJetsToQQ_HT-800toInf\r\n",
      "SingleElectron_Run2017F        ZZ\r\n"
     ]
    }
   ],
   "source": [
    "! ls /eos/uscms/store/user/cmantill/boostedhiggs/Jul21_2017/"
   ]
  },
  {
   "cell_type": "code",
   "execution_count": 417,
   "metadata": {},
   "outputs": [
    {
     "name": "stdout",
     "output_type": "stream",
     "text": [
      "weight_mu_id_muonUp\n",
      "weight_mu_L1PrefiringUp\n",
      "weight_mu_trigger_noniso_muonUp\n",
      "weight_mu_UEPS_ISRUp\n",
      "weight_mu_btagSFbc_correlatedUp\n",
      "weight_mu_btagSFlight_2017Up\n",
      "weight_mu_PDF_weightUp\n",
      "weight_mu_scalevar_7ptUp\n",
      "weight_mu_aS_weightUp\n",
      "weight_mu_UEPS_FSRUp\n",
      "weight_mu_pileupUp\n",
      "weight_mu_isolation_muonUp\n",
      "weight_mu_btagSFbc_2017Up\n",
      "weight_mu_trigger_iso_muonUp\n",
      "weight_mu_scalevar_3ptUp\n",
      "weight_mu_btagSFlight_correlatedUp\n",
      "weight_mu_PDFaS_weightUp\n"
     ]
    }
   ],
   "source": [
    "import pandas as pd\n",
    "path = \"/eos/uscms/store/user/cmantill/boostedhiggs/Jul21_2017/GluGluHToWW_Pt-200ToInf_M-125/outfiles/0-1_ele.parquet\"\n",
    "df = pd.read_parquet(path)\n",
    "\n",
    "for key in df.keys():\n",
    "    if \"weight\" in key and \"Up\" in key and \"mu\" in key:\n",
    "        print(key)"
   ]
  },
  {
   "cell_type": "markdown",
   "metadata": {},
   "source": [
    "# Make datacard\n"
   ]
  },
  {
   "cell_type": "code",
   "execution_count": 398,
   "metadata": {},
   "outputs": [],
   "source": [
    "from typing import Dict, List, Tuple, Union\n",
    "\n",
    "import json\n",
    "import logging\n",
    "from collections import OrderedDict"
   ]
  },
  {
   "cell_type": "code",
   "execution_count": 399,
   "metadata": {},
   "outputs": [],
   "source": [
    "from __future__ import print_function, division\n",
    "import sys\n",
    "import os\n",
    "import rhalphalib as rl\n",
    "import numpy as np\n",
    "import scipy.stats\n",
    "rl.util.install_roofit_helpers()\n",
    "rl.ParametericSample.PreferRooParametricHist = False"
   ]
  },
  {
   "cell_type": "code",
   "execution_count": 400,
   "metadata": {},
   "outputs": [],
   "source": [
    "CMS_PARAMS_LABEL = \"CMS_HWW_boosted\""
   ]
  },
  {
   "cell_type": "code",
   "execution_count": 401,
   "metadata": {},
   "outputs": [
    {
     "data": {
      "text/plain": [
       "41475.26"
      ]
     },
     "execution_count": 401,
     "metadata": {},
     "output_type": "execute_result"
    }
   ],
   "source": [
    "year = \"2017\"   # can give \"all\"\n",
    "lep_ch = \"mu\"\n",
    "\n",
    "with open(\"../fileset/luminosity.json\") as f:\n",
    "    LUMI = json.load(f)[lep_ch]\n",
    "\n",
    "if year != \"all\":\n",
    "    years = [year]\n",
    "    full_lumi = LUMI[year]\n",
    "else:\n",
    "    years = [\"2016\", \"2016APV\", \"2017\", \"2018\"]\n",
    "    full_lumi = np.sum(list(LUMI.values()))\n",
    "\n",
    "full_lumi"
   ]
  },
  {
   "cell_type": "code",
   "execution_count": 418,
   "metadata": {},
   "outputs": [],
   "source": [
    "# systematics that are NOT necessarily stored in the parquets\n",
    "sys_dict = {\n",
    "    f\"lumi_13TeV_{year}\": rl.NuisanceParameter(f'CMS_lumi_13TeV_{year}', 'lnN'),\n",
    "    \"BR_hww\": rl.NuisanceParameter(f'BR_hww', 'lnN'),\n",
    "}\n",
    "\n",
    "# tuple (value_up, value_down) and if (value_up, None) is given then value_down=value_up\n",
    "sys_dict_values = {\n",
    "    f\"lumi_13TeV_{year}\": (1.02 ** (LUMI[\"2017\"] / full_lumi), None),\n",
    "    \"BR_hww\": (1.0153, 0.9848)\n",
    "}\n",
    "\n",
    "# systematics that ARE stored in the parquets\n",
    "sys_from_parquets = {\n",
    "    \"mu\": {\n",
    "        \"all_samples\": {\n",
    "            \"weight_mu_btagSFlight_2017\": rl.NuisanceParameter(f'{CMS_PARAMS_LABEL}_btagSFlight_{year}', 'lnN'),\n",
    "            \"weight_mu_btagSFlight_correlated\": rl.NuisanceParameter(f'{CMS_PARAMS_LABEL}_btagSFlight_correlated', 'lnN'),\n",
    "            \"weight_mu_btagSFbc_2017\": rl.NuisanceParameter(f'{CMS_PARAMS_LABEL}_btagSFbc_{year}', 'lnN'),\n",
    "            \"weight_mu_btagSFbc_correlated\": rl.NuisanceParameter(f'{CMS_PARAMS_LABEL}_btagSFbc_correlated', 'lnN'),\n",
    "            \"weight_mu_pileup\": rl.NuisanceParameter(f'{CMS_PARAMS_LABEL}_PU_{year}', 'shape'),\n",
    "            \"weight_mu_isolation_muon\": rl.NuisanceParameter(f'CMS_mu_iso_{year}', 'lnN'),\n",
    "            \"weight_mu_id_muon\": rl.NuisanceParameter(f'CMS_mu_id_{year}', 'lnN'),\n",
    "            \"weight_mu_L1Prefiring\": rl.NuisanceParameter(f'CMS_L1Prefiring_{year}', 'lnN'),\n",
    "            \"weight_mu_trigger_iso_muon\": rl.NuisanceParameter('CMS_btagSF', 'lnN'),\n",
    "            \"weight_mu_trigger_noniso_muon\": rl.NuisanceParameter(f'{CMS_PARAMS_LABEL}_mu_trigger_{year}', 'lnN'),\n",
    "        },\n",
    "        ### signal\n",
    "        \"HWW\": {\n",
    "            \"weight_mu_UEPS_FSR\": rl.NuisanceParameter('UEPS_FSR_ggF', 'shape'),\n",
    "            \"weight_mu_UEPS_ISR\": rl.NuisanceParameter('UEPS_ISR_ggF', 'shape'),\n",
    "            \"weight_mu_PDF_weight\": rl.NuisanceParameter('pdf_Higgs_ggF', 'lnN'),\n",
    "            \"weight_mu_PDFaS_weight\": rl.NuisanceParameter('pdfAS_Higgs_ggF', 'lnN'),\n",
    "            \"weight_mu_aS_weight\": rl.NuisanceParameter('aS_Higgs_ggF', 'lnN'),                        \n",
    "            \"weight_mu_scalevar_3pt\": rl.NuisanceParameter(f'{CMS_PARAMS_LABEL}_scale_pt_3_ggF_{year}', 'lnN'),\n",
    "            \"weight_mu_scalevar_7pt\": rl.NuisanceParameter(f'{CMS_PARAMS_LABEL}_scale_pt_7_ggF_{year}', 'lnN'),\n",
    "        },\n",
    "        \"VBF\": {\n",
    "            \"weight_mu_UEPS_FSR\": rl.NuisanceParameter('UEPS_FSR_VBF', 'shape'),\n",
    "            \"weight_mu_UEPS_ISR\": rl.NuisanceParameter('UEPS_ISR_VBF', 'shape'),\n",
    "            \"weight_mu_PDF_weight\": rl.NuisanceParameter('pdf_Higgs_VBF', 'lnN'),\n",
    "            \"weight_mu_PDFaS_weight\": rl.NuisanceParameter('pdfAS_Higgs_VBF', 'lnN'),\n",
    "            \"weight_mu_aS_weight\": rl.NuisanceParameter('aS_Higgs_VBF', 'lnN'),                        \n",
    "            \"weight_mu_scalevar_3pt\": rl.NuisanceParameter(f'{CMS_PARAMS_LABEL}_scale_pt_3_VBF_{year}', 'lnN'),\n",
    "            \"weight_mu_scalevar_7pt\": rl.NuisanceParameter(f'{CMS_PARAMS_LABEL}_scale_pt_7_VBF_{year}', 'lnN'),            \n",
    "        },\n",
    "        \"VH\": {},\n",
    "        \"ttH\": {},\n",
    "        ### bkgs        \n",
    "        \"TTbar\": {},\n",
    "        \"WJetsLNu\": {\n",
    "            \"weight_mu_d1kappa_EW\": rl.NuisanceParameter(f'{CMS_PARAMS_LABEL}_W_d1kappa_EW_{year}', 'lnN'),\n",
    "            \"weight_mu_W_d2kappa_EW\": rl.NuisanceParameter(f'{CMS_PARAMS_LABEL}_W_d2kappa_EW_{year}', 'lnN'),            \n",
    "            \"weight_mu_W_d3kappa_EW\": rl.NuisanceParameter(f'{CMS_PARAMS_LABEL}_W_d3kappa_EW_{year}', 'lnN'),            \n",
    "            \"weight_mu_d1K_NLO\": rl.NuisanceParameter(f'{CMS_PARAMS_LABEL}_d1K_NLO_{year}', 'lnN'),            \n",
    "            \"weight_mu_d2K_NLO\": rl.NuisanceParameter(f'{CMS_PARAMS_LABEL}_d2K_NLO_{year}', 'lnN'),            \n",
    "            \"weight_mu_d3K_NLO\": rl.NuisanceParameter(f'{CMS_PARAMS_LABEL}_d3K_NLO_{year}', 'lnN'),            \n",
    "        },\n",
    "        \"SingleTop\": {},    \n",
    "        \"DYJets\": {\n",
    "            \"weight_mu_d1kappa_EW\": rl.NuisanceParameter(f'{CMS_PARAMS_LABEL}_Z_d1kappa_EW_{year}', 'lnN'),\n",
    "            \"weight_mu_Z_d2kappa_EW\": rl.NuisanceParameter(f'{CMS_PARAMS_LABEL}_Z_d2kappa_EW_{year}', 'lnN'),            \n",
    "            \"weight_mu_Z_d3kappa_EW\": rl.NuisanceParameter(f'{CMS_PARAMS_LABEL}_Z_d3kappa_EW_{year}', 'lnN'),                     \n",
    "        },        \n",
    "    },\n",
    "}"
   ]
  },
  {
   "cell_type": "code",
   "execution_count": 419,
   "metadata": {},
   "outputs": [],
   "source": [
    "def shape_to_num(var, nom, clip=1.5):\n",
    "    nom_rate = np.sum(nom)\n",
    "    var_rate = np.sum(var)\n",
    "\n",
    "    if abs(var_rate/nom_rate) > clip:\n",
    "        var_rate = clip*nom_rate\n",
    "\n",
    "    if var_rate < 0:\n",
    "        var_rate = 0\n",
    "\n",
    "    return var_rate/nom_rate\n",
    "\n",
    "def get_template(region, sample, ptbin):\n",
    "    return (\n",
    "        hists_templates[region][{\"samples\": sample, \"systematic\": \"Nominal\", \"fj_pt\": ptbin}].values(),\n",
    "        massbins,\n",
    "        \"reco_higgs_m\"\n",
    "    )"
   ]
  },
  {
   "cell_type": "markdown",
   "metadata": {},
   "source": [
    "# Load template"
   ]
  },
  {
   "cell_type": "code",
   "execution_count": 433,
   "metadata": {},
   "outputs": [],
   "source": [
    "import pickle as pkl\n",
    "with open(\"hists_templates.pkl\", \"rb\") as f:\n",
    "    hists_templates = pkl.load(f)"
   ]
  },
  {
   "cell_type": "code",
   "execution_count": 434,
   "metadata": {},
   "outputs": [
    {
     "data": {
      "text/plain": [
       "{'pass': Hist(\n",
       "   StrCategory(['WJetsLNu', 'DYJets', 'VBF', 'VH', 'TTbar', 'SingleTop', 'HWW', 'WZQQ', 'Data', 'QCD', 'Diboson', 'ttH'], growth=True, name='samples'),\n",
       "   StrCategory(['Nominal', 'weight_ele_btagSFlight_2017Up', 'weight_ele_btagSFlight_2017Down', 'weight_ele_btagSFlight_correlatedUp', 'weight_ele_btagSFlight_correlatedDown', 'weight_ele_btagSFbc_2017Up', 'weight_ele_btagSFbc_2017Down', 'weight_ele_btagSFbc_correlatedUp', 'weight_ele_btagSFbc_correlatedDown', 'weight_ele_pileupUp', 'weight_ele_pileupDown', 'weight_ele_isolation_electronUp', 'weight_ele_isolation_electronDown', 'weight_ele_id_electronUp', 'weight_ele_id_electronDown', 'weight_ele_L1PrefiringUp', 'weight_ele_L1PrefiringDown', 'weight_ele_trigger_electronUp', 'weight_ele_trigger_electronDown', 'weight_ele_reco_electronUp', 'weight_ele_reco_electronDown', 'weight_ele_d1K_NLOUp', 'weight_ele_d1K_NLODown', 'weight_ele_d2K_NLOUp', 'weight_ele_d2K_NLODown', 'weight_ele_d3K_NLOUp', 'weight_ele_d3K_NLODown', 'weight_ele_d1kappa_EWUp', 'weight_ele_d1kappa_EWDown', 'weight_ele_W_d2kappa_EWUp', 'weight_ele_W_d2kappa_EWDown', 'weight_ele_W_d3kappa_EWUp', 'weight_ele_W_d3kappa_EWDown', 'weight_ele_UEPS_FSRUp', 'weight_ele_UEPS_FSRDown', 'weight_ele_UEPS_ISRUp', 'weight_ele_UEPS_ISRDown', 'weight_ele_PDF_weightUp', 'weight_ele_PDF_weightDown', 'weight_ele_PDFaS_weightUp', 'weight_ele_PDFaS_weightDown', 'weight_ele_scalevar_3ptUp', 'weight_ele_scalevar_3ptDown', 'weight_ele_scalevar_7ptUp', 'weight_ele_scalevar_7ptDown', 'weight_mu_btagSFlight_2017Up', 'weight_mu_btagSFlight_2017Down', 'weight_mu_btagSFlight_correlatedUp', 'weight_mu_btagSFlight_correlatedDown', 'weight_mu_btagSFbc_2017Up', 'weight_mu_btagSFbc_2017Down', 'weight_mu_btagSFbc_correlatedUp', 'weight_mu_btagSFbc_correlatedDown', 'weight_mu_pileupUp', 'weight_mu_pileupDown', 'weight_mu_isolation_muonUp', 'weight_mu_isolation_muonDown', 'weight_mu_id_muonUp', 'weight_mu_id_muonDown', 'weight_mu_L1PrefiringUp', 'weight_mu_L1PrefiringDown', 'weight_mu_trigger_iso_muonUp', 'weight_mu_trigger_iso_muonDown', 'weight_mu_trigger_noniso_muonUp', 'weight_mu_trigger_noniso_muonDown', 'weight_mu_d1K_NLOUp', 'weight_mu_d1K_NLODown', 'weight_mu_d2K_NLOUp', 'weight_mu_d2K_NLODown', 'weight_mu_d3K_NLOUp', 'weight_mu_d3K_NLODown', 'weight_mu_d1kappa_EWUp', 'weight_mu_d1kappa_EWDown', 'weight_mu_W_d2kappa_EWUp', 'weight_mu_W_d2kappa_EWDown', 'weight_mu_W_d3kappa_EWUp', 'weight_mu_W_d3kappa_EWDown', 'weight_mu_Z_d2kappa_EWUp', 'weight_mu_Z_d2kappa_EWDown', 'weight_mu_Z_d3kappa_EWUp', 'weight_mu_Z_d3kappa_EWDown', 'weight_mu_aS_weightUp', 'weight_mu_aS_weightDown', 'weight_mu_UEPS_FSRUp', 'weight_mu_UEPS_FSRDown', 'weight_mu_UEPS_ISRUp', 'weight_mu_UEPS_ISRDown', 'weight_mu_PDF_weightUp', 'weight_mu_PDF_weightDown', 'weight_mu_PDFaS_weightUp', 'weight_mu_PDFaS_weightDown', 'weight_mu_scalevar_3ptUp', 'weight_mu_scalevar_3ptDown', 'weight_mu_scalevar_7ptUp', 'weight_mu_scalevar_7ptDown'], growth=True, name='systematic'),\n",
       "   Variable([200, 300, 450, 650, 1200], name='fj_pt', label='Jet $p_T$ [GeV]'),\n",
       "   Variable([40, 61, 82, 103, 124, 145, 166, 187, 208, 229], name='rec_higgs_m', label='Higgs reconstructed mass [GeV]'),\n",
       "   storage=Double()) # Sum: 688805589.1823744 (955574389.9683052 with flow),\n",
       " 'fail': Hist(\n",
       "   StrCategory(['WJetsLNu', 'DYJets', 'VBF', 'VH', 'TTbar', 'SingleTop', 'HWW', 'WZQQ', 'Data', 'QCD', 'Diboson', 'ttH'], growth=True, name='samples'),\n",
       "   StrCategory(['Nominal', 'weight_ele_btagSFlight_2017Up', 'weight_ele_btagSFlight_2017Down', 'weight_ele_btagSFlight_correlatedUp', 'weight_ele_btagSFlight_correlatedDown', 'weight_ele_btagSFbc_2017Up', 'weight_ele_btagSFbc_2017Down', 'weight_ele_btagSFbc_correlatedUp', 'weight_ele_btagSFbc_correlatedDown', 'weight_ele_pileupUp', 'weight_ele_pileupDown', 'weight_ele_isolation_electronUp', 'weight_ele_isolation_electronDown', 'weight_ele_id_electronUp', 'weight_ele_id_electronDown', 'weight_ele_L1PrefiringUp', 'weight_ele_L1PrefiringDown', 'weight_ele_trigger_electronUp', 'weight_ele_trigger_electronDown', 'weight_ele_reco_electronUp', 'weight_ele_reco_electronDown', 'weight_ele_d1K_NLOUp', 'weight_ele_d1K_NLODown', 'weight_ele_d2K_NLOUp', 'weight_ele_d2K_NLODown', 'weight_ele_d3K_NLOUp', 'weight_ele_d3K_NLODown', 'weight_ele_d1kappa_EWUp', 'weight_ele_d1kappa_EWDown', 'weight_ele_W_d2kappa_EWUp', 'weight_ele_W_d2kappa_EWDown', 'weight_ele_W_d3kappa_EWUp', 'weight_ele_W_d3kappa_EWDown', 'weight_ele_UEPS_FSRUp', 'weight_ele_UEPS_FSRDown', 'weight_ele_UEPS_ISRUp', 'weight_ele_UEPS_ISRDown', 'weight_ele_PDF_weightUp', 'weight_ele_PDF_weightDown', 'weight_ele_PDFaS_weightUp', 'weight_ele_PDFaS_weightDown', 'weight_ele_scalevar_3ptUp', 'weight_ele_scalevar_3ptDown', 'weight_ele_scalevar_7ptUp', 'weight_ele_scalevar_7ptDown', 'weight_mu_btagSFlight_2017Up', 'weight_mu_btagSFlight_2017Down', 'weight_mu_btagSFlight_correlatedUp', 'weight_mu_btagSFlight_correlatedDown', 'weight_mu_btagSFbc_2017Up', 'weight_mu_btagSFbc_2017Down', 'weight_mu_btagSFbc_correlatedUp', 'weight_mu_btagSFbc_correlatedDown', 'weight_mu_pileupUp', 'weight_mu_pileupDown', 'weight_mu_isolation_muonUp', 'weight_mu_isolation_muonDown', 'weight_mu_id_muonUp', 'weight_mu_id_muonDown', 'weight_mu_L1PrefiringUp', 'weight_mu_L1PrefiringDown', 'weight_mu_trigger_iso_muonUp', 'weight_mu_trigger_iso_muonDown', 'weight_mu_trigger_noniso_muonUp', 'weight_mu_trigger_noniso_muonDown', 'weight_mu_d1K_NLOUp', 'weight_mu_d1K_NLODown', 'weight_mu_d2K_NLOUp', 'weight_mu_d2K_NLODown', 'weight_mu_d3K_NLOUp', 'weight_mu_d3K_NLODown', 'weight_mu_d1kappa_EWUp', 'weight_mu_d1kappa_EWDown', 'weight_mu_W_d2kappa_EWUp', 'weight_mu_W_d2kappa_EWDown', 'weight_mu_W_d3kappa_EWUp', 'weight_mu_W_d3kappa_EWDown', 'weight_mu_Z_d2kappa_EWUp', 'weight_mu_Z_d2kappa_EWDown', 'weight_mu_Z_d3kappa_EWUp', 'weight_mu_Z_d3kappa_EWDown', 'weight_mu_aS_weightUp', 'weight_mu_aS_weightDown', 'weight_mu_UEPS_FSRUp', 'weight_mu_UEPS_FSRDown', 'weight_mu_UEPS_ISRUp', 'weight_mu_UEPS_ISRDown', 'weight_mu_PDF_weightUp', 'weight_mu_PDF_weightDown', 'weight_mu_PDFaS_weightUp', 'weight_mu_PDFaS_weightDown', 'weight_mu_scalevar_3ptUp', 'weight_mu_scalevar_3ptDown', 'weight_mu_scalevar_7ptUp', 'weight_mu_scalevar_7ptDown'], growth=True, name='systematic'),\n",
       "   Variable([200, 300, 450, 650, 1200], name='fj_pt', label='Jet $p_T$ [GeV]'),\n",
       "   Variable([40, 61, 82, 103, 124, 145, 166, 187, 208, 229], name='rec_higgs_m', label='Higgs reconstructed mass [GeV]'),\n",
       "   storage=Double()) # Sum: 12542104019.023108 (16815633762.071638 with flow)}"
      ]
     },
     "execution_count": 434,
     "metadata": {},
     "output_type": "execute_result"
    }
   ],
   "source": [
    "hists_templates"
   ]
  },
  {
   "cell_type": "code",
   "execution_count": 435,
   "metadata": {},
   "outputs": [
    {
     "data": {
      "text/plain": [
       "['WJetsLNu',\n",
       " 'DYJets',\n",
       " 'VBF',\n",
       " 'VH',\n",
       " 'TTbar',\n",
       " 'SingleTop',\n",
       " 'HWW',\n",
       " 'WZQQ',\n",
       " 'Data',\n",
       " 'QCD',\n",
       " 'Diboson',\n",
       " 'ttH']"
      ]
     },
     "execution_count": 435,
     "metadata": {},
     "output_type": "execute_result"
    }
   ],
   "source": [
    "samples = list(hists_templates[\"pass\"].axes[0])\n",
    "samples"
   ]
  },
  {
   "cell_type": "markdown",
   "metadata": {},
   "source": [
    "# Create datacard"
   ]
  },
  {
   "cell_type": "code",
   "execution_count": 482,
   "metadata": {},
   "outputs": [
    {
     "data": {
      "text/plain": [
       "['HWW', 'VBF', 'VH', 'ttH', 'TTbar', 'WJetsLNu', 'SingleTop', 'DYJets']"
      ]
     },
     "execution_count": 482,
     "metadata": {},
     "output_type": "execute_result"
    }
   ],
   "source": [
    "# (name in templates, name in cards)\n",
    "labels = {\n",
    "    # sigs\n",
    "    \"HWW\": \"ggF\",\n",
    "    \"VBF\": \"VBF\",\n",
    "    \"VH\": \"VH\",\n",
    "    \"ttH\": \"ttH\",\n",
    "    # BKGS\n",
    "    \"QCD\": \"qcd\",\n",
    "    \"TTbar\": \"ttbar\",\n",
    "    \"WJetsLNu\": \"wjets\",\n",
    "    \"SingleTop\": \"singletop\",\n",
    "    \"DYJets\": \"zjets\",\n",
    "}\n",
    "\n",
    "bkgs = [\n",
    "    \"TTbar\", \n",
    "    \"WJetsLNu\", \n",
    "    \"SingleTop\", \n",
    "    \"DYJets\"\n",
    "]\n",
    "\n",
    "sigs = [\n",
    "    \"HWW\", \n",
    "    \"VBF\", \n",
    "    \"VH\", \n",
    "    \"ttH\"\n",
    "]\n",
    "samples = sigs+bkgs\n",
    "\n",
    "\n",
    "samples"
   ]
  },
  {
   "cell_type": "code",
   "execution_count": 483,
   "metadata": {},
   "outputs": [],
   "source": [
    "ptbins = hists_templates[\"pass\"].axes[2].edges\n",
    "npt = len(ptbins) - 1\n",
    "\n",
    "massbins = hists_templates[\"pass\"].axes[3].edges\n",
    "mass = rl.Observable('reco_higgs_m', massbins)\n",
    "\n",
    "# here we derive these all at once with 2D array\n",
    "ptpts, masspts = np.meshgrid(ptbins[:-1] + 0.3 * np.diff(ptbins), massbins[:-1] + 0.5 * np.diff(massbins), indexing='ij')\n",
    "\n",
    "rhopts = 2*np.log(masspts/ptpts)\n",
    "pt_scaled = (ptpts - ptbins[0]) / (ptbins[-1] - ptbins[0])\n",
    "rho_scaled = (rhopts - (-6)) / ((-2.1) - (-6))\n",
    "\n",
    "validbins = (rho_scaled >= 0) & (rho_scaled <= 1)\n",
    "rho_scaled[~validbins] = 1  # we will mask these out later\n",
    "\n",
    "### Raghav: https://github.com/rkansal47/HHbbVV/blob/68dd5738ebe6950a6b5ea16049c4047b7de7892d/src/HHbbVV/postprocessing/CreateDatacard.py#L66-L77\n",
    "# bins = hists_templates[\"pass\"][{\"samples\": sum, \"rec_higgs_m\": sum, \"systematic\": sum}].values()\n",
    "# pts = bins[:-1] + 0.5 * np.diff(bins)\n",
    "# ptscaled = (pts - ptbins[0]) / (ptbins[-1] - ptbins[0])"
   ]
  },
  {
   "cell_type": "code",
   "execution_count": 494,
   "metadata": {},
   "outputs": [],
   "source": [
    "# build actual fit model now\n",
    "model = rl.Model(\"testModel\")"
   ]
  },
  {
   "cell_type": "code",
   "execution_count": 495,
   "metadata": {
    "scrolled": false
   },
   "outputs": [
    {
     "name": "stdout",
     "output_type": "stream",
     "text": [
      "effect_up (CMS_HWW_boosted_PU_2017, ptbin0pass_ggF) has magnitude greater than 50% (49409.55%), you might be passing absolute values instead of relative\n",
      "effect_down (CMS_HWW_boosted_PU_2017, ptbin0pass_ggF) has magnitude greater than 50% (34101.81%), you might be passing absolute values instead of relative\n",
      "effect_up (UEPS_FSR_ggF, ptbin0pass_ggF) has magnitude greater than 50% (37876.54%), you might be passing absolute values instead of relative\n",
      "effect_down (UEPS_FSR_ggF, ptbin0pass_ggF) has magnitude greater than 50% (36313.83%), you might be passing absolute values instead of relative\n",
      "effect_up (UEPS_ISR_ggF, ptbin0pass_ggF) has magnitude greater than 50% (36864.77%), you might be passing absolute values instead of relative\n",
      "effect_down (UEPS_ISR_ggF, ptbin0pass_ggF) has magnitude greater than 50% (37544.65%), you might be passing absolute values instead of relative\n",
      "effect_up (CMS_HWW_boosted_PU_2017, ptbin0pass_VBF) has magnitude greater than 50% (19305.26%), you might be passing absolute values instead of relative\n",
      "effect_down (CMS_HWW_boosted_PU_2017, ptbin0pass_VBF) has magnitude greater than 50% (18245.72%), you might be passing absolute values instead of relative\n",
      "effect_up (UEPS_FSR_VBF, ptbin0pass_VBF) has magnitude greater than 50% (18305.30%), you might be passing absolute values instead of relative\n",
      "effect_down (UEPS_FSR_VBF, ptbin0pass_VBF) has magnitude greater than 50% (17983.83%), you might be passing absolute values instead of relative\n",
      "effect_up (UEPS_ISR_VBF, ptbin0pass_VBF) has magnitude greater than 50% (18380.17%), you might be passing absolute values instead of relative\n",
      "effect_down (UEPS_ISR_VBF, ptbin0pass_VBF) has magnitude greater than 50% (18206.96%), you might be passing absolute values instead of relative\n",
      "effect_up (CMS_HWW_boosted_PU_2017, ptbin0pass_VH) has magnitude greater than 50% (208718.01%), you might be passing absolute values instead of relative\n",
      "effect_down (CMS_HWW_boosted_PU_2017, ptbin0pass_VH) has magnitude greater than 50% (160834.88%), you might be passing absolute values instead of relative\n",
      "effect_up (CMS_HWW_boosted_PU_2017, ptbin0pass_ttH) has magnitude greater than 50% (15926.11%), you might be passing absolute values instead of relative\n",
      "effect_down (CMS_HWW_boosted_PU_2017, ptbin0pass_ttH) has magnitude greater than 50% (8538.13%), you might be passing absolute values instead of relative\n",
      "effect_up (CMS_HWW_boosted_PU_2017, ptbin0pass_ttbar) has magnitude greater than 50% (84627423.19%), you might be passing absolute values instead of relative\n",
      "effect_down (CMS_HWW_boosted_PU_2017, ptbin0pass_ttbar) has magnitude greater than 50% (70309670.48%), you might be passing absolute values instead of relative\n",
      "effect_up (CMS_HWW_boosted_PU_2017, ptbin0pass_wjets) has magnitude greater than 50% (963963.37%), you might be passing absolute values instead of relative\n",
      "effect_down (CMS_HWW_boosted_PU_2017, ptbin0pass_wjets) has magnitude greater than 50% (809889.76%), you might be passing absolute values instead of relative\n",
      "effect_up (CMS_HWW_boosted_PU_2017, ptbin0pass_singletop) has magnitude greater than 50% (2109043.88%), you might be passing absolute values instead of relative\n",
      "effect_down (CMS_HWW_boosted_PU_2017, ptbin0pass_singletop) has magnitude greater than 50% (1920727.39%), you might be passing absolute values instead of relative\n",
      "effect_up (CMS_HWW_boosted_PU_2017, ptbin0pass_zjets) has magnitude greater than 50% (64661811.26%), you might be passing absolute values instead of relative\n",
      "effect_down (CMS_HWW_boosted_PU_2017, ptbin0pass_zjets) has magnitude greater than 50% (56688905.83%), you might be passing absolute values instead of relative\n",
      "effect_up (CMS_HWW_boosted_PU_2017, ptbin0fail_ggF) has magnitude greater than 50% (46760.49%), you might be passing absolute values instead of relative\n",
      "effect_down (CMS_HWW_boosted_PU_2017, ptbin0fail_ggF) has magnitude greater than 50% (39323.65%), you might be passing absolute values instead of relative\n",
      "effect_up (UEPS_FSR_ggF, ptbin0fail_ggF) has magnitude greater than 50% (40026.04%), you might be passing absolute values instead of relative\n",
      "effect_down (UEPS_FSR_ggF, ptbin0fail_ggF) has magnitude greater than 50% (42022.87%), you might be passing absolute values instead of relative\n",
      "effect_up (UEPS_ISR_ggF, ptbin0fail_ggF) has magnitude greater than 50% (40761.05%), you might be passing absolute values instead of relative\n",
      "effect_down (UEPS_ISR_ggF, ptbin0fail_ggF) has magnitude greater than 50% (40748.11%), you might be passing absolute values instead of relative\n",
      "effect_up (CMS_HWW_boosted_PU_2017, ptbin0fail_VBF) has magnitude greater than 50% (24131.03%), you might be passing absolute values instead of relative\n",
      "effect_down (CMS_HWW_boosted_PU_2017, ptbin0fail_VBF) has magnitude greater than 50% (21113.57%), you might be passing absolute values instead of relative\n",
      "effect_up (UEPS_FSR_VBF, ptbin0fail_VBF) has magnitude greater than 50% (21948.59%), you might be passing absolute values instead of relative\n",
      "effect_down (UEPS_FSR_VBF, ptbin0fail_VBF) has magnitude greater than 50% (21362.71%), you might be passing absolute values instead of relative\n",
      "effect_up (UEPS_ISR_VBF, ptbin0fail_VBF) has magnitude greater than 50% (21816.30%), you might be passing absolute values instead of relative\n",
      "effect_down (UEPS_ISR_VBF, ptbin0fail_VBF) has magnitude greater than 50% (21712.84%), you might be passing absolute values instead of relative\n",
      "effect_up (CMS_HWW_boosted_PU_2017, ptbin0fail_VH) has magnitude greater than 50% (239097.00%), you might be passing absolute values instead of relative\n",
      "effect_down (CMS_HWW_boosted_PU_2017, ptbin0fail_VH) has magnitude greater than 50% (210523.45%), you might be passing absolute values instead of relative\n",
      "effect_up (CMS_HWW_boosted_PU_2017, ptbin0fail_ttH) has magnitude greater than 50% (19309.39%), you might be passing absolute values instead of relative\n",
      "effect_down (CMS_HWW_boosted_PU_2017, ptbin0fail_ttH) has magnitude greater than 50% (17494.09%), you might be passing absolute values instead of relative\n",
      "effect_up (CMS_HWW_boosted_PU_2017, ptbin0fail_ttbar) has magnitude greater than 50% (2107205279.45%), you might be passing absolute values instead of relative\n",
      "effect_down (CMS_HWW_boosted_PU_2017, ptbin0fail_ttbar) has magnitude greater than 50% (1757474413.42%), you might be passing absolute values instead of relative\n",
      "effect_up (CMS_HWW_boosted_PU_2017, ptbin0fail_wjets) has magnitude greater than 50% (4997706.94%), you might be passing absolute values instead of relative\n",
      "effect_down (CMS_HWW_boosted_PU_2017, ptbin0fail_wjets) has magnitude greater than 50% (4147034.86%), you might be passing absolute values instead of relative\n",
      "effect_up (CMS_HWW_boosted_PU_2017, ptbin0fail_singletop) has magnitude greater than 50% (75621081.82%), you might be passing absolute values instead of relative\n",
      "effect_down (CMS_HWW_boosted_PU_2017, ptbin0fail_singletop) has magnitude greater than 50% (63884448.45%), you might be passing absolute values instead of relative\n",
      "effect_up (CMS_HWW_boosted_PU_2017, ptbin0fail_zjets) has magnitude greater than 50% (662714122.62%), you might be passing absolute values instead of relative\n",
      "effect_down (CMS_HWW_boosted_PU_2017, ptbin0fail_zjets) has magnitude greater than 50% (536112091.01%), you might be passing absolute values instead of relative\n",
      "effect_up (CMS_HWW_boosted_PU_2017, ptbin1pass_ggF) has magnitude greater than 50% (21124.65%), you might be passing absolute values instead of relative\n",
      "effect_down (CMS_HWW_boosted_PU_2017, ptbin1pass_ggF) has magnitude greater than 50% (15831.30%), you might be passing absolute values instead of relative\n",
      "effect_up (UEPS_FSR_ggF, ptbin1pass_ggF) has magnitude greater than 50% (17473.82%), you might be passing absolute values instead of relative\n",
      "effect_down (UEPS_FSR_ggF, ptbin1pass_ggF) has magnitude greater than 50% (15533.68%), you might be passing absolute values instead of relative\n",
      "effect_up (UEPS_ISR_ggF, ptbin1pass_ggF) has magnitude greater than 50% (17084.95%), you might be passing absolute values instead of relative\n",
      "effect_down (UEPS_ISR_ggF, ptbin1pass_ggF) has magnitude greater than 50% (16606.10%), you might be passing absolute values instead of relative\n",
      "effect_up (CMS_HWW_boosted_PU_2017, ptbin1pass_VBF) has magnitude greater than 50% (9778.05%), you might be passing absolute values instead of relative\n",
      "effect_down (CMS_HWW_boosted_PU_2017, ptbin1pass_VBF) has magnitude greater than 50% (8433.30%), you might be passing absolute values instead of relative\n",
      "effect_up (UEPS_FSR_VBF, ptbin1pass_VBF) has magnitude greater than 50% (8827.47%), you might be passing absolute values instead of relative\n",
      "effect_down (UEPS_FSR_VBF, ptbin1pass_VBF) has magnitude greater than 50% (8801.57%), you might be passing absolute values instead of relative\n",
      "effect_up (UEPS_ISR_VBF, ptbin1pass_VBF) has magnitude greater than 50% (8670.10%), you might be passing absolute values instead of relative\n",
      "effect_down (UEPS_ISR_VBF, ptbin1pass_VBF) has magnitude greater than 50% (8868.80%), you might be passing absolute values instead of relative\n",
      "effect_up (CMS_HWW_boosted_PU_2017, ptbin1pass_VH) has magnitude greater than 50% (86166.57%), you might be passing absolute values instead of relative\n",
      "effect_down (CMS_HWW_boosted_PU_2017, ptbin1pass_VH) has magnitude greater than 50% (76014.37%), you might be passing absolute values instead of relative\n",
      "effect_up (CMS_HWW_boosted_PU_2017, ptbin1pass_ttH) has magnitude greater than 50% (5390.14%), you might be passing absolute values instead of relative\n",
      "effect_down (CMS_HWW_boosted_PU_2017, ptbin1pass_ttH) has magnitude greater than 50% (4231.43%), you might be passing absolute values instead of relative\n",
      "effect_up (CMS_HWW_boosted_PU_2017, ptbin1pass_ttbar) has magnitude greater than 50% (31353815.39%), you might be passing absolute values instead of relative\n",
      "effect_down (CMS_HWW_boosted_PU_2017, ptbin1pass_ttbar) has magnitude greater than 50% (24954648.74%), you might be passing absolute values instead of relative\n",
      "effect_up (CMS_HWW_boosted_PU_2017, ptbin1pass_wjets) has magnitude greater than 50% (955684.29%), you might be passing absolute values instead of relative\n",
      "effect_down (CMS_HWW_boosted_PU_2017, ptbin1pass_wjets) has magnitude greater than 50% (789018.21%), you might be passing absolute values instead of relative\n",
      "effect_up (CMS_HWW_boosted_PU_2017, ptbin1pass_singletop) has magnitude greater than 50% (694460.02%), you might be passing absolute values instead of relative\n",
      "effect_down (CMS_HWW_boosted_PU_2017, ptbin1pass_singletop) has magnitude greater than 50% (518072.25%), you might be passing absolute values instead of relative\n",
      "effect_up (CMS_HWW_boosted_PU_2017, ptbin1pass_zjets) has magnitude greater than 50% (19892966.02%), you might be passing absolute values instead of relative\n",
      "effect_down (CMS_HWW_boosted_PU_2017, ptbin1pass_zjets) has magnitude greater than 50% (18374898.89%), you might be passing absolute values instead of relative\n",
      "effect_up (CMS_HWW_boosted_PU_2017, ptbin1fail_ggF) has magnitude greater than 50% (10006.19%), you might be passing absolute values instead of relative\n",
      "effect_down (CMS_HWW_boosted_PU_2017, ptbin1fail_ggF) has magnitude greater than 50% (9237.81%), you might be passing absolute values instead of relative\n",
      "effect_up (UEPS_FSR_ggF, ptbin1fail_ggF) has magnitude greater than 50% (9383.61%), you might be passing absolute values instead of relative\n",
      "effect_down (UEPS_FSR_ggF, ptbin1fail_ggF) has magnitude greater than 50% (9407.07%), you might be passing absolute values instead of relative\n",
      "effect_up (UEPS_ISR_ggF, ptbin1fail_ggF) has magnitude greater than 50% (9286.29%), you might be passing absolute values instead of relative\n",
      "effect_down (UEPS_ISR_ggF, ptbin1fail_ggF) has magnitude greater than 50% (9479.59%), you might be passing absolute values instead of relative\n",
      "effect_up (CMS_HWW_boosted_PU_2017, ptbin1fail_VBF) has magnitude greater than 50% (4487.17%), you might be passing absolute values instead of relative\n",
      "effect_down (CMS_HWW_boosted_PU_2017, ptbin1fail_VBF) has magnitude greater than 50% (3924.20%), you might be passing absolute values instead of relative\n",
      "effect_up (UEPS_FSR_VBF, ptbin1fail_VBF) has magnitude greater than 50% (3896.75%), you might be passing absolute values instead of relative\n",
      "effect_down (UEPS_FSR_VBF, ptbin1fail_VBF) has magnitude greater than 50% (3844.55%), you might be passing absolute values instead of relative\n",
      "effect_up (UEPS_ISR_VBF, ptbin1fail_VBF) has magnitude greater than 50% (4028.43%), you might be passing absolute values instead of relative\n",
      "effect_down (UEPS_ISR_VBF, ptbin1fail_VBF) has magnitude greater than 50% (3914.28%), you might be passing absolute values instead of relative\n",
      "effect_up (CMS_HWW_boosted_PU_2017, ptbin1fail_VH) has magnitude greater than 50% (52711.08%), you might be passing absolute values instead of relative\n",
      "effect_down (CMS_HWW_boosted_PU_2017, ptbin1fail_VH) has magnitude greater than 50% (47064.52%), you might be passing absolute values instead of relative\n",
      "effect_up (CMS_HWW_boosted_PU_2017, ptbin1fail_ttH) has magnitude greater than 50% (7749.53%), you might be passing absolute values instead of relative\n",
      "effect_down (CMS_HWW_boosted_PU_2017, ptbin1fail_ttH) has magnitude greater than 50% (7065.91%), you might be passing absolute values instead of relative\n",
      "effect_up (CMS_HWW_boosted_PU_2017, ptbin1fail_ttbar) has magnitude greater than 50% (1000815482.99%), you might be passing absolute values instead of relative\n",
      "effect_down (CMS_HWW_boosted_PU_2017, ptbin1fail_ttbar) has magnitude greater than 50% (822981435.13%), you might be passing absolute values instead of relative\n",
      "effect_up (CMS_HWW_boosted_PU_2017, ptbin1fail_wjets) has magnitude greater than 50% (3420336.07%), you might be passing absolute values instead of relative\n",
      "effect_down (CMS_HWW_boosted_PU_2017, ptbin1fail_wjets) has magnitude greater than 50% (2793470.96%), you might be passing absolute values instead of relative\n",
      "effect_up (CMS_HWW_boosted_PU_2017, ptbin1fail_singletop) has magnitude greater than 50% (36904297.90%), you might be passing absolute values instead of relative\n",
      "effect_down (CMS_HWW_boosted_PU_2017, ptbin1fail_singletop) has magnitude greater than 50% (29750248.48%), you might be passing absolute values instead of relative\n",
      "effect_up (CMS_HWW_boosted_PU_2017, ptbin1fail_zjets) has magnitude greater than 50% (106429315.08%), you might be passing absolute values instead of relative\n",
      "effect_down (CMS_HWW_boosted_PU_2017, ptbin1fail_zjets) has magnitude greater than 50% (99365482.78%), you might be passing absolute values instead of relative\n",
      "effect_up (CMS_HWW_boosted_PU_2017, ptbin2pass_ggF) has magnitude greater than 50% (3112.23%), you might be passing absolute values instead of relative\n",
      "effect_down (CMS_HWW_boosted_PU_2017, ptbin2pass_ggF) has magnitude greater than 50% (2667.97%), you might be passing absolute values instead of relative\n",
      "effect_up (UEPS_FSR_ggF, ptbin2pass_ggF) has magnitude greater than 50% (2779.24%), you might be passing absolute values instead of relative\n",
      "effect_down (UEPS_FSR_ggF, ptbin2pass_ggF) has magnitude greater than 50% (2722.89%), you might be passing absolute values instead of relative\n",
      "effect_up (UEPS_ISR_ggF, ptbin2pass_ggF) has magnitude greater than 50% (2795.84%), you might be passing absolute values instead of relative\n",
      "effect_down (UEPS_ISR_ggF, ptbin2pass_ggF) has magnitude greater than 50% (2714.72%), you might be passing absolute values instead of relative\n",
      "effect_up (CMS_HWW_boosted_PU_2017, ptbin2pass_VBF) has magnitude greater than 50% (1216.99%), you might be passing absolute values instead of relative\n",
      "effect_down (CMS_HWW_boosted_PU_2017, ptbin2pass_VBF) has magnitude greater than 50% (964.93%), you might be passing absolute values instead of relative\n",
      "effect_up (UEPS_FSR_VBF, ptbin2pass_VBF) has magnitude greater than 50% (895.13%), you might be passing absolute values instead of relative\n",
      "effect_down (UEPS_FSR_VBF, ptbin2pass_VBF) has magnitude greater than 50% (1639.00%), you might be passing absolute values instead of relative\n",
      "effect_up (UEPS_ISR_VBF, ptbin2pass_VBF) has magnitude greater than 50% (999.62%), you might be passing absolute values instead of relative\n",
      "effect_down (UEPS_ISR_VBF, ptbin2pass_VBF) has magnitude greater than 50% (1000.10%), you might be passing absolute values instead of relative\n",
      "effect_up (CMS_HWW_boosted_PU_2017, ptbin2pass_VH) has magnitude greater than 50% (21369.72%), you might be passing absolute values instead of relative\n",
      "effect_down (CMS_HWW_boosted_PU_2017, ptbin2pass_VH) has magnitude greater than 50% (19527.18%), you might be passing absolute values instead of relative\n",
      "effect_up (CMS_HWW_boosted_PU_2017, ptbin2pass_ttH) has magnitude greater than 50% (868.77%), you might be passing absolute values instead of relative\n",
      "effect_down (CMS_HWW_boosted_PU_2017, ptbin2pass_ttH) has magnitude greater than 50% (737.44%), you might be passing absolute values instead of relative\n",
      "effect_up (CMS_HWW_boosted_PU_2017, ptbin2pass_ttbar) has magnitude greater than 50% (4621435.54%), you might be passing absolute values instead of relative\n",
      "effect_down (CMS_HWW_boosted_PU_2017, ptbin2pass_ttbar) has magnitude greater than 50% (4315750.20%), you might be passing absolute values instead of relative\n",
      "effect_up (CMS_HWW_boosted_PU_2017, ptbin2pass_wjets) has magnitude greater than 50% (558555.21%), you might be passing absolute values instead of relative\n",
      "effect_down (CMS_HWW_boosted_PU_2017, ptbin2pass_wjets) has magnitude greater than 50% (481024.30%), you might be passing absolute values instead of relative\n",
      "effect_up (CMS_HWW_boosted_PU_2017, ptbin2pass_singletop) has magnitude greater than 50% (80074.98%), you might be passing absolute values instead of relative\n",
      "effect_down (CMS_HWW_boosted_PU_2017, ptbin2pass_singletop) has magnitude greater than 50% (82063.84%), you might be passing absolute values instead of relative\n",
      "effect_up (CMS_HWW_boosted_PU_2017, ptbin2pass_zjets) has magnitude greater than 50% (2629167.62%), you might be passing absolute values instead of relative\n",
      "effect_down (CMS_HWW_boosted_PU_2017, ptbin2pass_zjets) has magnitude greater than 50% (2428679.09%), you might be passing absolute values instead of relative\n",
      "effect_up (CMS_HWW_boosted_PU_2017, ptbin2fail_ggF) has magnitude greater than 50% (1004.30%), you might be passing absolute values instead of relative\n",
      "effect_down (CMS_HWW_boosted_PU_2017, ptbin2fail_ggF) has magnitude greater than 50% (948.36%), you might be passing absolute values instead of relative\n",
      "effect_up (UEPS_FSR_ggF, ptbin2fail_ggF) has magnitude greater than 50% (906.15%), you might be passing absolute values instead of relative\n",
      "effect_down (UEPS_FSR_ggF, ptbin2fail_ggF) has magnitude greater than 50% (1009.70%), you might be passing absolute values instead of relative\n",
      "effect_up (UEPS_ISR_ggF, ptbin2fail_ggF) has magnitude greater than 50% (957.13%), you might be passing absolute values instead of relative\n",
      "effect_down (UEPS_ISR_ggF, ptbin2fail_ggF) has magnitude greater than 50% (932.00%), you might be passing absolute values instead of relative\n",
      "effect_up (CMS_HWW_boosted_PU_2017, ptbin2fail_VBF) has magnitude greater than 50% (9000.21%), you might be passing absolute values instead of relative\n",
      "effect_down (CMS_HWW_boosted_PU_2017, ptbin2fail_VBF) has magnitude greater than 50% (783.53%), you might be passing absolute values instead of relative\n",
      "effect_up (UEPS_FSR_VBF, ptbin2fail_VBF) has magnitude greater than 50% (2156.87%), you might be passing absolute values instead of relative\n",
      "effect_down (UEPS_FSR_VBF, ptbin2fail_VBF) has magnitude greater than 50% (2325.74%), you might be passing absolute values instead of relative\n",
      "effect_up (UEPS_ISR_VBF, ptbin2fail_VBF) has magnitude greater than 50% (2566.03%), you might be passing absolute values instead of relative\n",
      "effect_down (UEPS_ISR_VBF, ptbin2fail_VBF) has magnitude greater than 50% (2443.15%), you might be passing absolute values instead of relative\n",
      "effect_up (CMS_HWW_boosted_PU_2017, ptbin2fail_VH) has magnitude greater than 50% (7639.03%), you might be passing absolute values instead of relative\n",
      "effect_down (CMS_HWW_boosted_PU_2017, ptbin2fail_VH) has magnitude greater than 50% (6903.36%), you might be passing absolute values instead of relative\n",
      "effect_up (CMS_HWW_boosted_PU_2017, ptbin2fail_ttH) has magnitude greater than 50% (1587.64%), you might be passing absolute values instead of relative\n",
      "effect_down (CMS_HWW_boosted_PU_2017, ptbin2fail_ttH) has magnitude greater than 50% (1410.98%), you might be passing absolute values instead of relative\n",
      "effect_up (CMS_HWW_boosted_PU_2017, ptbin2fail_ttbar) has magnitude greater than 50% (190027897.21%), you might be passing absolute values instead of relative\n",
      "effect_down (CMS_HWW_boosted_PU_2017, ptbin2fail_ttbar) has magnitude greater than 50% (156417949.43%), you might be passing absolute values instead of relative\n",
      "effect_up (CMS_HWW_boosted_PU_2017, ptbin2fail_wjets) has magnitude greater than 50% (2173909.36%), you might be passing absolute values instead of relative\n",
      "effect_down (CMS_HWW_boosted_PU_2017, ptbin2fail_wjets) has magnitude greater than 50% (1816207.17%), you might be passing absolute values instead of relative\n",
      "effect_up (CMS_HWW_boosted_PU_2017, ptbin2fail_singletop) has magnitude greater than 50% (6405195.21%), you might be passing absolute values instead of relative\n",
      "effect_down (CMS_HWW_boosted_PU_2017, ptbin2fail_singletop) has magnitude greater than 50% (5608092.31%), you might be passing absolute values instead of relative\n",
      "effect_up (CMS_HWW_boosted_PU_2017, ptbin2fail_zjets) has magnitude greater than 50% (13104634.12%), you might be passing absolute values instead of relative\n",
      "effect_down (CMS_HWW_boosted_PU_2017, ptbin2fail_zjets) has magnitude greater than 50% (13012942.02%), you might be passing absolute values instead of relative\n",
      "effect_up (CMS_HWW_boosted_PU_2017, ptbin3pass_ggF) has magnitude greater than 50% (302.78%), you might be passing absolute values instead of relative\n",
      "effect_down (CMS_HWW_boosted_PU_2017, ptbin3pass_ggF) has magnitude greater than 50% (340.98%), you might be passing absolute values instead of relative\n",
      "effect_up (UEPS_FSR_ggF, ptbin3pass_ggF) has magnitude greater than 50% (353.57%), you might be passing absolute values instead of relative\n",
      "effect_down (UEPS_FSR_ggF, ptbin3pass_ggF) has magnitude greater than 50% (254.97%), you might be passing absolute values instead of relative\n",
      "effect_up (UEPS_ISR_ggF, ptbin3pass_ggF) has magnitude greater than 50% (318.75%), you might be passing absolute values instead of relative\n",
      "effect_down (UEPS_ISR_ggF, ptbin3pass_ggF) has magnitude greater than 50% (317.09%), you might be passing absolute values instead of relative\n",
      "effect_up (CMS_HWW_boosted_PU_2017, ptbin3pass_VBF) has magnitude greater than 50% (298.61%), you might be passing absolute values instead of relative\n",
      "effect_down (CMS_HWW_boosted_PU_2017, ptbin3pass_VBF) has magnitude greater than 50% (296.74%), you might be passing absolute values instead of relative\n",
      "effect_up (UEPS_FSR_VBF, ptbin3pass_VBF) has magnitude greater than 50% (230.99%), you might be passing absolute values instead of relative\n",
      "effect_down (UEPS_FSR_VBF, ptbin3pass_VBF) has magnitude greater than 50% (394.07%), you might be passing absolute values instead of relative\n",
      "effect_up (UEPS_ISR_VBF, ptbin3pass_VBF) has magnitude greater than 50% (303.26%), you might be passing absolute values instead of relative\n",
      "effect_down (UEPS_ISR_VBF, ptbin3pass_VBF) has magnitude greater than 50% (284.22%), you might be passing absolute values instead of relative\n",
      "effect_up (CMS_HWW_boosted_PU_2017, ptbin3pass_VH) has magnitude greater than 50% (6346.39%), you might be passing absolute values instead of relative\n",
      "effect_down (CMS_HWW_boosted_PU_2017, ptbin3pass_VH) has magnitude greater than 50% (3619.40%), you might be passing absolute values instead of relative\n",
      "effect_up (CMS_HWW_boosted_PU_2017, ptbin3pass_ttH) has magnitude greater than 50% (157.38%), you might be passing absolute values instead of relative\n",
      "effect_down (CMS_HWW_boosted_PU_2017, ptbin3pass_ttH) has magnitude greater than 50% (129.68%), you might be passing absolute values instead of relative\n",
      "effect_up (CMS_HWW_boosted_PU_2017, ptbin3pass_ttbar) has magnitude greater than 50% (525331.71%), you might be passing absolute values instead of relative\n",
      "effect_down (CMS_HWW_boosted_PU_2017, ptbin3pass_ttbar) has magnitude greater than 50% (503909.09%), you might be passing absolute values instead of relative\n",
      "effect_up (CMS_HWW_boosted_PU_2017, ptbin3pass_wjets) has magnitude greater than 50% (295049.51%), you might be passing absolute values instead of relative\n",
      "effect_down (CMS_HWW_boosted_PU_2017, ptbin3pass_wjets) has magnitude greater than 50% (240509.20%), you might be passing absolute values instead of relative\n",
      "effect_up (CMS_HWW_boosted_PU_2017, ptbin3pass_singletop) has magnitude greater than 50% (7321.80%), you might be passing absolute values instead of relative\n",
      "effect_down (CMS_HWW_boosted_PU_2017, ptbin3pass_singletop) has magnitude greater than 50% (5876.00%), you might be passing absolute values instead of relative\n",
      "effect_up (CMS_HWW_boosted_PU_2017, ptbin3pass_zjets) has magnitude greater than 50% (512920.22%), you might be passing absolute values instead of relative\n",
      "effect_down (CMS_HWW_boosted_PU_2017, ptbin3pass_zjets) has magnitude greater than 50% (607076.21%), you might be passing absolute values instead of relative\n",
      "effect_down (CMS_HWW_boosted_PU_2017, ptbin3fail_ggF) has magnitude greater than 50% (59.66%), you might be passing absolute values instead of relative\n",
      "effect_up (UEPS_FSR_ggF, ptbin3fail_ggF) has magnitude greater than 50% (64.42%), you might be passing absolute values instead of relative\n",
      "effect_down (UEPS_FSR_ggF, ptbin3fail_ggF) has magnitude greater than 50% (54.65%), you might be passing absolute values instead of relative\n",
      "effect_up (UEPS_ISR_ggF, ptbin3fail_ggF) has magnitude greater than 50% (55.37%), you might be passing absolute values instead of relative\n",
      "effect_down (UEPS_ISR_ggF, ptbin3fail_ggF) has magnitude greater than 50% (50.91%), you might be passing absolute values instead of relative\n",
      "effect_up (CMS_HWW_boosted_PU_2017, ptbin3fail_VH) has magnitude greater than 50% (1230.69%), you might be passing absolute values instead of relative\n",
      "effect_down (CMS_HWW_boosted_PU_2017, ptbin3fail_VH) has magnitude greater than 50% (1205.74%), you might be passing absolute values instead of relative\n",
      "effect_up (CMS_HWW_boosted_PU_2017, ptbin3fail_ttH) has magnitude greater than 50% (316.32%), you might be passing absolute values instead of relative\n",
      "effect_down (CMS_HWW_boosted_PU_2017, ptbin3fail_ttH) has magnitude greater than 50% (244.11%), you might be passing absolute values instead of relative\n",
      "effect_up (CMS_HWW_boosted_PU_2017, ptbin3fail_ttbar) has magnitude greater than 50% (27591842.82%), you might be passing absolute values instead of relative\n",
      "effect_down (CMS_HWW_boosted_PU_2017, ptbin3fail_ttbar) has magnitude greater than 50% (20015086.91%), you might be passing absolute values instead of relative\n",
      "effect_up (CMS_HWW_boosted_PU_2017, ptbin3fail_wjets) has magnitude greater than 50% (1349937.84%), you might be passing absolute values instead of relative\n",
      "effect_down (CMS_HWW_boosted_PU_2017, ptbin3fail_wjets) has magnitude greater than 50% (1097059.71%), you might be passing absolute values instead of relative\n",
      "effect_up (CMS_HWW_boosted_PU_2017, ptbin3fail_singletop) has magnitude greater than 50% (901067.15%), you might be passing absolute values instead of relative\n",
      "effect_down (CMS_HWW_boosted_PU_2017, ptbin3fail_singletop) has magnitude greater than 50% (708521.39%), you might be passing absolute values instead of relative\n",
      "effect_up (CMS_HWW_boosted_PU_2017, ptbin3fail_zjets) has magnitude greater than 50% (1765593.42%), you might be passing absolute values instead of relative\n",
      "effect_down (CMS_HWW_boosted_PU_2017, ptbin3fail_zjets) has magnitude greater than 50% (1563897.57%), you might be passing absolute values instead of relative\n"
     ]
    },
    {
     "name": "stderr",
     "output_type": "stream",
     "text": [
      "/tmp/ipykernel_26385/4285621970.py:5: RuntimeWarning: invalid value encountered in double_scalars\n",
      "  if abs(var_rate/nom_rate) > clip:\n",
      "/tmp/ipykernel_26385/4285621970.py:11: RuntimeWarning: invalid value encountered in double_scalars\n",
      "  return var_rate/nom_rate\n"
     ]
    }
   ],
   "source": [
    "# fill datacard with systematics and rates\n",
    "for ptbin in range(npt):\n",
    "    for region in ['pass', 'fail']:\n",
    "        ch = rl.Channel(\"ptbin%d%s\" % (ptbin, region))\n",
    "        model.addChannel(ch)\n",
    "\n",
    "        isPass = region == 'pass'\n",
    "        ptnorm = 1.\n",
    "\n",
    "        for sName in samples:\n",
    "\n",
    "            templ = get_template(region, sName, ptbin)\n",
    "            stype = rl.Sample.SIGNAL if sName in sigs else rl.Sample.BACKGROUND\n",
    "            sample = rl.TemplateSample(ch.name + '_' + labels[sName], stype, templ)\n",
    "\n",
    "            ### systematics NOT from parquets\n",
    "            for sys_name, sys_value in sys_dict.items():\n",
    "                sample.setParamEffect(sys_value, \n",
    "                                      sys_dict_values[sys_name][0], \n",
    "                                      sys_dict_values[sys_name][1] if sys_dict_values[sys_name][1] is not None else sys_dict_values[sys_name][0])\n",
    "            \n",
    "\n",
    "            ### systematics from parquets\n",
    "            # apply systematics that are common for all samples\n",
    "            for sys_name, sys_value in sys_from_parquets[lep_ch][\"all_samples\"].items():\n",
    "\n",
    "                syst_up = hists_templates[region][{\"samples\": sName, \"fj_pt\": ptbin, \"systematic\": sys_name+\"Up\"}].values()\n",
    "                syst_do = hists_templates[region][{\"samples\": sName, \"fj_pt\": ptbin, \"systematic\": sys_name+\"Down\"}].values()\n",
    "                \n",
    "                if sys_value.combinePrior == \"lnN\":\n",
    "                    nominal = hists_templates[region][{\"samples\": sName, \"fj_pt\": ptbin, \"systematic\": \"Nominal\"}].values()\n",
    "\n",
    "                    eff_up = shape_to_num(syst_up,nominal)\n",
    "                    eff_do = shape_to_num(syst_do,nominal)\n",
    "\n",
    "                    sample.setParamEffect(sys_value, eff_up, eff_do)\n",
    "\n",
    "                else:\n",
    "                    \n",
    "                    sample.setParamEffect(sys_value, syst_up, syst_do)\n",
    "            \n",
    "            \n",
    "            # apply systematics that are common for this particular sample\n",
    "            for sys_name, sys_value in sys_from_parquets[lep_ch][sName].items():\n",
    "                syst_up = hists_templates[region][{\"samples\": sName, \"fj_pt\": ptbin, \"systematic\": sys_name+\"Up\"}].values()\n",
    "                syst_do = hists_templates[region][{\"samples\": sName, \"fj_pt\": ptbin, \"systematic\": sys_name+\"Down\"}].values()\n",
    "                \n",
    "                if sys_value.combinePrior == \"lnN\":\n",
    "                \n",
    "                    nominal = hists_templates[region][{\"samples\": sName, \"fj_pt\": ptbin, \"systematic\": \"Nominal\"}].values()\n",
    "\n",
    "                    eff_up = shape_to_num(syst_up,nominal)\n",
    "                    eff_do = shape_to_num(syst_do,nominal)\n",
    "\n",
    "                    sample.setParamEffect(sys_value, eff_up, eff_do)\n",
    "\n",
    "                else:\n",
    "                    sample.setParamEffect(sys_value, syst_up, syst_do)\n",
    "\n",
    "            ch.addSample(sample)\n",
    "        \n",
    "        # add data\n",
    "        data_obs = get_template(region, \"Data\", ptbin)\n",
    "        ch.setObservation(data_obs)       "
   ]
  },
  {
   "cell_type": "code",
   "execution_count": 496,
   "metadata": {},
   "outputs": [],
   "source": [
    "# qcd data-driven estimation\n",
    "\n",
    "# get the transfer factor\n",
    "qcd_eff = (\n",
    "    hists_templates[\"pass\"][{\"samples\": \"QCD\", \"systematic\": \"Nominal\"}].sum()\n",
    "    / hists_templates[\"fail\"][{\"samples\": \"QCD\", \"systematic\": \"Nominal\"}].sum()\n",
    ")\n",
    "\n",
    "tf_dataResidual = rl.BernsteinPoly(\n",
    "    f\"{CMS_PARAMS_LABEL}_tf_dataResidual\", (2, 2), ['pt', 'rho'], limits=(-20, 20)\n",
    ")\n",
    "tf_dataResidual_params = tf_dataResidual(pt_scaled, rho_scaled)\n",
    "tf_params_pass = qcd_eff * tf_dataResidual_params\n",
    "\n",
    "for ptbin in range(npt):\n",
    "    failCh = model['ptbin%dfail' % ptbin]\n",
    "    passCh = model['ptbin%dpass' % ptbin]\n",
    "\n",
    "    qcdparams = np.array([rl.IndependentParameter('qcdparam_ptbin%d_massbin%d' % (ptbin, i), 0) for i in range(mass.nbins)])\n",
    "    initial_qcd = failCh.getObservation().astype(float)  # was integer, and numpy complained about subtracting float from it\n",
    "    \n",
    "    for sample in failCh:\n",
    "        initial_qcd -= sample.getExpectation(nominal=True)\n",
    "    \n",
    "    if np.any(initial_qcd < 0.):\n",
    "        initial_qcd[np.where(initial_qcd<0)] = 0\n",
    "#         raise ValueError(\"initial_qcd negative for some bins..\", initial_qcd)\n",
    "    \n",
    "    sigmascale = 10  # to scale the deviation from initial\n",
    "    scaledparams = initial_qcd * (1 + sigmascale/np.maximum(1., np.sqrt(initial_qcd)))**qcdparams\n",
    "    fail_qcd = rl.ParametericSample('ptbin%dfail_qcd' % ptbin, rl.Sample.BACKGROUND, mass, scaledparams)\n",
    "    failCh.addSample(fail_qcd)\n",
    "    pass_qcd = rl.TransferFactorSample('ptbin%dpass_qcd' % ptbin, rl.Sample.BACKGROUND, tf_params_pass[ptbin, :], fail_qcd)\n",
    "    passCh.addSample(pass_qcd) "
   ]
  },
  {
   "cell_type": "code",
   "execution_count": 497,
   "metadata": {},
   "outputs": [],
   "source": [
    "tmpdir = \"tmpdir/\"\n",
    "\n",
    "if not os.path.isdir(tmpdir):\n",
    "    os.mkdir(tmpdir)\n",
    "\n",
    "with open(f\"{tmpdir}/testModel.pkl\", \"wb\") as fout:\n",
    "    pkl.dump(model, fout, protocol=2)"
   ]
  },
  {
   "cell_type": "code",
   "execution_count": 144,
   "metadata": {},
   "outputs": [],
   "source": [
    "# # you can then render combine in a CMSENV\n",
    "\n",
    "# with open(os.path.join(str(tmpdir), 'testModel.pkl'), \"rb\") as fout:\n",
    "#     model = pickle.load(fout)\n",
    "\n",
    "# model.renderCombine(os.path.join(str(tmpdir), 'testModel'))       "
   ]
  },
  {
   "cell_type": "markdown",
   "metadata": {},
   "source": [
    "# Weird"
   ]
  },
  {
   "cell_type": "code",
   "execution_count": 501,
   "metadata": {},
   "outputs": [
    {
     "data": {
      "text/html": [
       "<html>\n",
       "<div style=\"display:flex; align-items:center;\">\n",
       "<div style=\"width:290px;\">\n",
       "<svg xmlns=\"http://www.w3.org/2000/svg\" viewBox=\"-10 -105 270 120\">\n",
       "<line x1=\"-5\" y1=\"0\" x2=\"255\" y2=\"0\" style=\"fill:none;stroke-width:2;stroke:currentColor\"/>\n",
       "<text text-anchor=\"middle\" x=\"0\" y=\"15\" style=\"fill:currentColor;\">\n",
       "40\n",
       "</text>\n",
       "<text text-anchor=\"middle\" x=\"250\" y=\"15\" style=\"fill:currentColor;\">\n",
       "229\n",
       "</text>\n",
       "<text text-anchor=\"middle\" x=\"125.0\" y=\"15\" style=\"fill:currentColor;\">\n",
       "Higgs reconstructed mass [GeV]\n",
       "</text>\n",
       "<polyline points=\"  0,0   0,-0.529 27.7778,-0.529 27.7778,6.49 55.5556,6.49 55.5556,-24.7 83.3333,-24.7 83.3333,-26.1 111.111,-26.1 111.111,-29.4 138.889,-29.4 138.889,-54.1 166.667,-54.1 166.667,-51.7 194.444,-51.7 194.444,-100 222.222,-100 222.222,-76.1 250,-76.1 250,0\" style=\"fill:none; stroke:currentColor;\"/>\n",
       "</svg>\n",
       "</div>\n",
       "<div style=\"flex=grow:1;\">\n",
       "Variable([40, 61, 82, 103, 124, 145, 166, 187, 208, 229], name='rec_higgs_m', label='Higgs reconstructed mass [GeV]')<br/>\n",
       "<hr style=\"margin-top:.2em; margin-bottom:.2em;\"/>\n",
       "Double() Σ=101169.24546520623 <em>(503397.94254352956 with flow)</em>\n",
       "\n",
       "</div>\n",
       "</div>\n",
       "</html>"
      ],
      "text/plain": [
       "Hist(Variable([40, 61, 82, 103, 124, 145, 166, 187, 208, 229], name='rec_higgs_m', label='Higgs reconstructed mass [GeV]'), storage=Double()) # Sum: 101169.24546520623 (503397.94254352956 with flow)"
      ]
     },
     "execution_count": 501,
     "metadata": {},
     "output_type": "execute_result"
    }
   ],
   "source": [
    "hists_templates[region][{\"samples\": \"DYJets\", \"fj_pt\": 3, \"systematic\": \"weight_mu_pileup\"+\"Up\"}]"
   ]
  },
  {
   "cell_type": "code",
   "execution_count": 517,
   "metadata": {},
   "outputs": [
    {
     "data": {
      "text/plain": [
       "array([  150.296258  , -1843.68413151,  7010.90422745,  7428.64527074,\n",
       "        8357.54945927, 15357.74445735, 14694.38271677, 28407.87092594,\n",
       "       21605.53628121])"
      ]
     },
     "execution_count": 517,
     "metadata": {},
     "output_type": "execute_result"
    }
   ],
   "source": [
    "hists_templates[region][{\"samples\": \"DYJets\", \"fj_pt\": 3, \"systematic\": \"weight_mu_pileup\"+\"Up\"}].counts()"
   ]
  },
  {
   "cell_type": "code",
   "execution_count": null,
   "metadata": {},
   "outputs": [],
   "source": []
  }
 ],
 "metadata": {
  "kernelspec": {
   "display_name": "coffea-env",
   "language": "python",
   "name": "coffea-env"
  },
  "language_info": {
   "codemirror_mode": {
    "name": "ipython",
    "version": 3
   },
   "file_extension": ".py",
   "mimetype": "text/x-python",
   "name": "python",
   "nbconvert_exporter": "python",
   "pygments_lexer": "ipython3",
   "version": "3.8.16"
  }
 },
 "nbformat": 4,
 "nbformat_minor": 2
}
