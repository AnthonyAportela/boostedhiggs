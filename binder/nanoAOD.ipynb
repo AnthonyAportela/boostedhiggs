{
 "cells": [
  {
   "cell_type": "code",
   "execution_count": 2,
   "id": "5ec8ee56-d752-4657-8c4b-4c780e6fe79a",
   "metadata": {},
   "outputs": [],
   "source": [
    "import uproot\n",
    "import awkward as ak\n",
    "from coffea import nanoevents\n",
    "import numpy as np\n",
    "import pandas as pd"
   ]
  },
  {
   "cell_type": "code",
   "execution_count": 3,
   "id": "98942865-c41a-4c6a-a930-08ed9f0181b6",
   "metadata": {
    "scrolled": true
   },
   "outputs": [
    {
     "name": "stderr",
     "output_type": "stream",
     "text": [
      "/uscms/home/aaportel/nobackup/mamba/envs/bh/lib/python3.9/site-packages/coffea/nanoevents/mapping/uproot.py:86: UserWarning: Found duplicate branch FatJetAK15SubJet_nBHadrons in <TTree 'Events' (1912 branches) at 0x7f41f819e490>, taking first instance\n",
      "  warnings.warn(\n",
      "/uscms/home/aaportel/nobackup/mamba/envs/bh/lib/python3.9/site-packages/coffea/nanoevents/mapping/uproot.py:86: UserWarning: Found duplicate branch FatJetAK15SubJet_nCHadrons in <TTree 'Events' (1912 branches) at 0x7f41f819e490>, taking first instance\n",
      "  warnings.warn(\n",
      "/uscms/home/aaportel/nobackup/mamba/envs/bh/lib/python3.9/site-packages/coffea/nanoevents/mapping/uproot.py:86: UserWarning: Found duplicate branch FatJetAK15_nBHadrons in <TTree 'Events' (1912 branches) at 0x7f41f819e490>, taking first instance\n",
      "  warnings.warn(\n",
      "/uscms/home/aaportel/nobackup/mamba/envs/bh/lib/python3.9/site-packages/coffea/nanoevents/mapping/uproot.py:86: UserWarning: Found duplicate branch FatJetAK15_nCHadrons in <TTree 'Events' (1912 branches) at 0x7f41f819e490>, taking first instance\n",
      "  warnings.warn(\n",
      "/uscms/home/aaportel/nobackup/mamba/envs/bh/lib/python3.9/site-packages/coffea/nanoevents/mapping/uproot.py:86: UserWarning: Found duplicate branch FatJet_btagDDBvLV2 in <TTree 'Events' (1912 branches) at 0x7f41f819e490>, taking first instance\n",
      "  warnings.warn(\n",
      "/uscms/home/aaportel/nobackup/mamba/envs/bh/lib/python3.9/site-packages/coffea/nanoevents/mapping/uproot.py:86: UserWarning: Found duplicate branch FatJet_btagDDCvBV2 in <TTree 'Events' (1912 branches) at 0x7f41f819e490>, taking first instance\n",
      "  warnings.warn(\n",
      "/uscms/home/aaportel/nobackup/mamba/envs/bh/lib/python3.9/site-packages/coffea/nanoevents/mapping/uproot.py:86: UserWarning: Found duplicate branch FatJet_btagDDCvLV2 in <TTree 'Events' (1912 branches) at 0x7f41f819e490>, taking first instance\n",
      "  warnings.warn(\n",
      "/uscms/home/aaportel/nobackup/mamba/envs/bh/lib/python3.9/site-packages/coffea/nanoevents/mapping/uproot.py:86: UserWarning: Found duplicate branch FatJet_nBHadrons in <TTree 'Events' (1912 branches) at 0x7f41f819e490>, taking first instance\n",
      "  warnings.warn(\n",
      "/uscms/home/aaportel/nobackup/mamba/envs/bh/lib/python3.9/site-packages/coffea/nanoevents/mapping/uproot.py:86: UserWarning: Found duplicate branch FatJet_nCHadrons in <TTree 'Events' (1912 branches) at 0x7f41f819e490>, taking first instance\n",
      "  warnings.warn(\n",
      "/uscms/home/aaportel/nobackup/mamba/envs/bh/lib/python3.9/site-packages/coffea/nanoevents/mapping/uproot.py:86: UserWarning: Found duplicate branch SubJet_nBHadrons in <TTree 'Events' (1912 branches) at 0x7f41f819e490>, taking first instance\n",
      "  warnings.warn(\n",
      "/uscms/home/aaportel/nobackup/mamba/envs/bh/lib/python3.9/site-packages/coffea/nanoevents/mapping/uproot.py:86: UserWarning: Found duplicate branch SubJet_nCHadrons in <TTree 'Events' (1912 branches) at 0x7f41f819e490>, taking first instance\n",
      "  warnings.warn(\n"
     ]
    }
   ],
   "source": [
    "# filename = '53600a58-0a68-4dfe-a6e5-b2f2186455af.root'\n",
    "filename = '/eos/uscms/store/user/lpcpfnano/emoreno/v2_2/2018/TTbar/TTToSemiLeptonic_TuneCP5_13TeV-powheg-pythia8/TTToSemiLeptonic/211208_201500/0000/nano_mc2018_1-1.root'\n",
    "f = uproot.open(filename)\n",
    "events = nanoevents.NanoEventsFactory.from_root(f, \"Events\", entry_stop=1000, schemaclass=nanoevents.NanoAODSchema).events()"
   ]
  },
  {
   "cell_type": "code",
   "execution_count": 7,
   "id": "f16b8338-1479-4b5e-abee-3f3f67259c65",
   "metadata": {
    "scrolled": true
   },
   "outputs": [
    {
     "data": {
      "text/plain": [
       "['area',\n",
       " 'btagCSVV2',\n",
       " 'btagDDBvLV2',\n",
       " 'btagDDCvBV2',\n",
       " 'btagDDCvLV2',\n",
       " 'btagDeepB',\n",
       " 'btagHbb',\n",
       " 'deepTagMD_H4qvsQCD',\n",
       " 'deepTagMD_HbbvsQCD',\n",
       " 'deepTagMD_TvsQCD',\n",
       " 'deepTagMD_WvsQCD',\n",
       " 'deepTagMD_ZHbbvsQCD',\n",
       " 'deepTagMD_ZHccvsQCD',\n",
       " 'deepTagMD_ZbbvsQCD',\n",
       " 'deepTagMD_ZvsQCD',\n",
       " 'deepTagMD_bbvsLight',\n",
       " 'deepTagMD_ccvsLight',\n",
       " 'deepTag_H',\n",
       " 'deepTag_QCD',\n",
       " 'deepTag_QCDothers',\n",
       " 'deepTag_TvsQCD',\n",
       " 'deepTag_WvsQCD',\n",
       " 'deepTag_ZvsQCD',\n",
       " 'eta',\n",
       " 'mass',\n",
       " 'msoftdrop',\n",
       " 'n2b1',\n",
       " 'n3b1',\n",
       " 'particleNetMD_QCD',\n",
       " 'particleNetMD_Xbb',\n",
       " 'particleNetMD_Xcc',\n",
       " 'particleNetMD_Xqq',\n",
       " 'particleNet_H4qvsQCD',\n",
       " 'particleNet_HbbvsQCD',\n",
       " 'particleNet_HccvsQCD',\n",
       " 'particleNet_QCD',\n",
       " 'particleNet_TvsQCD',\n",
       " 'particleNet_WvsQCD',\n",
       " 'particleNet_ZvsQCD',\n",
       " 'particleNet_mass',\n",
       " 'phi',\n",
       " 'pt',\n",
       " 'rawFactor',\n",
       " 'tau1',\n",
       " 'tau2',\n",
       " 'tau3',\n",
       " 'tau4',\n",
       " 'lsf3',\n",
       " 'jetId',\n",
       " 'subJetIdx1',\n",
       " 'subJetIdx2',\n",
       " 'electronIdx3SJ',\n",
       " 'muonIdx3SJ',\n",
       " 'nConstituents',\n",
       " 'DDX_tau1_flightDistance2dSig',\n",
       " 'DDX_tau1_trackEtaRel_0',\n",
       " 'DDX_tau1_trackEtaRel_1',\n",
       " 'DDX_tau1_trackEtaRel_2',\n",
       " 'DDX_tau1_trackSip3dSig_0',\n",
       " 'DDX_tau1_trackSip3dSig_1',\n",
       " 'DDX_tau1_vertexDeltaR',\n",
       " 'DDX_tau1_vertexEnergyRatio',\n",
       " 'DDX_tau1_vertexMass',\n",
       " 'DDX_tau2_flightDistance2dSig',\n",
       " 'DDX_tau2_trackEtaRel_0',\n",
       " 'DDX_tau2_trackEtaRel_1',\n",
       " 'DDX_tau2_trackEtaRel_3',\n",
       " 'DDX_tau2_trackSip3dSig_0',\n",
       " 'DDX_tau2_trackSip3dSig_1',\n",
       " 'DDX_tau2_vertexEnergyRatio',\n",
       " 'DDX_tau2_vertexMass',\n",
       " 'DDX_trackSip2dSigAboveBottom_0',\n",
       " 'DDX_trackSip2dSigAboveBottom_1',\n",
       " 'DDX_trackSip2dSigAboveCharm',\n",
       " 'DDX_trackSip3dSig_0',\n",
       " 'DDX_trackSip3dSig_1',\n",
       " 'DDX_trackSip3dSig_2',\n",
       " 'DDX_trackSip3dSig_3',\n",
       " 'DDX_z_ratio',\n",
       " 'Proba',\n",
       " 'btagDeepB_b',\n",
       " 'btagDeepB_bb',\n",
       " 'btagDeepL',\n",
       " 'DDX_jetNSecondaryVertices',\n",
       " 'DDX_jetNTracks',\n",
       " 'nBHadrons',\n",
       " 'nCHadrons',\n",
       " 'genJetAK8Idx',\n",
       " 'hadronFlavour',\n",
       " 'genJetAK8IdxG',\n",
       " 'subJetIdx1G',\n",
       " 'subJetIdx2G',\n",
       " 'subJetIdxG',\n",
       " 'pFCandsIdxG']"
      ]
     },
     "execution_count": 7,
     "metadata": {},
     "output_type": "execute_result"
    }
   ],
   "source": [
    "events.FatJet.fields"
   ]
  },
  {
   "cell_type": "code",
   "execution_count": 17,
   "id": "7cace012-14be-4951-836d-fcd6f39d3e0c",
   "metadata": {},
   "outputs": [
    {
     "data": {
      "text/plain": [
       "['subJetIdx1', 'subJetIdx2', 'subJetIdx1G', 'subJetIdx2G', 'subJetIdxG']"
      ]
     },
     "execution_count": 17,
     "metadata": {},
     "output_type": "execute_result"
    }
   ],
   "source": [
    "[thing for thing in events.FatJet.fields if 'subjet' in thing.lower()]"
   ]
  },
  {
   "cell_type": "code",
   "execution_count": 15,
   "id": "2dc4a52c-aa67-43fb-8e87-537eac78f330",
   "metadata": {},
   "outputs": [
    {
     "data": {
      "text/plain": [
       "<Array [[], [], [], [], ... [], [], [], []] type='1000 * var * int32[parameters=...'>"
      ]
     },
     "execution_count": 15,
     "metadata": {},
     "output_type": "execute_result"
    }
   ],
   "source": [
    "events.FatJet.subJetIdx1"
   ]
  },
  {
   "cell_type": "code",
   "execution_count": null,
   "id": "d360b2a8-ff3f-4cbf-9df5-3f468af1cd6e",
   "metadata": {},
   "outputs": [],
   "source": []
  },
  {
   "cell_type": "code",
   "execution_count": 20,
   "id": "44877dec-1d81-49d0-8f33-b1fa05e42265",
   "metadata": {},
   "outputs": [
    {
     "data": {
      "text/plain": [
       "<PtEtaPhiMCollectionArray [[], [], [], [], ... [], [], [], []] type='1000 * var ...'>"
      ]
     },
     "execution_count": 20,
     "metadata": {},
     "output_type": "execute_result"
    }
   ],
   "source": [
    "events.FatJet.subjets"
   ]
  },
  {
   "cell_type": "code",
   "execution_count": 8,
   "id": "f419585c-3c4f-4e45-bcce-b16d22b284a7",
   "metadata": {},
   "outputs": [
    {
     "data": {
      "text/plain": [
       "['chEmEF',\n",
       " 'hfsigmaEtaEta',\n",
       " 'hfsigmaPhiPhi',\n",
       " 'mass',\n",
       " 'muEF',\n",
       " 'muonSubtrFactor',\n",
       " 'neEmEF',\n",
       " 'muonIdx1',\n",
       " 'muonIdx2',\n",
       " 'nMuons',\n",
       " 'DeepCSV_trackSip2dSigAboveCharm',\n",
       " 'DeepCSV_trackSip2dValAboveCharm',\n",
       " 'DeepCSV_trackSip3dSigAboveCharm',\n",
       " 'DeepCSV_trackSip3dValAboveCharm',\n",
       " 'DeepCSV_trackSumJetDeltaR',\n",
       " 'DeepCSV_trackSumJetEtRatio',\n",
       " 'DeepCSV_vertexMass',\n",
       " 'cleanmask',\n",
       " 'muonIdx1G',\n",
       " 'muonIdx2G',\n",
       " 'muonIdxG']"
      ]
     },
     "execution_count": 8,
     "metadata": {},
     "output_type": "execute_result"
    }
   ],
   "source": [
    "[thing for thing in events.Jet.fields if 'm' in thing.lower()]"
   ]
  },
  {
   "cell_type": "code",
   "execution_count": 9,
   "id": "9d114fd9-7a57-48ee-bd1b-e85cdeb8edc2",
   "metadata": {},
   "outputs": [
    {
     "data": {
      "text/plain": [
       "['DeepMETResolutionTune',\n",
       " 'CorrT1METJet',\n",
       " 'MET',\n",
       " 'GenMET',\n",
       " 'DeepMETResponseTune',\n",
       " 'CaloMET',\n",
       " 'ChsMET',\n",
       " 'RawPuppiMET',\n",
       " 'TkMET',\n",
       " 'RawMET',\n",
       " 'PuppiMET']"
      ]
     },
     "execution_count": 9,
     "metadata": {},
     "output_type": "execute_result"
    }
   ],
   "source": [
    "[thing for thing in events.fields if 'met' in thing.lower()]"
   ]
  },
  {
   "cell_type": "code",
   "execution_count": 12,
   "id": "872dd19e-8017-4dd8-9b2f-c820da6a6d76",
   "metadata": {},
   "outputs": [
    {
     "data": {
      "text/plain": [
       "[]"
      ]
     },
     "execution_count": 12,
     "metadata": {},
     "output_type": "execute_result"
    }
   ],
   "source": [
    "[thing for thing in events.MET.pt.fields]"
   ]
  },
  {
   "cell_type": "code",
   "execution_count": null,
   "id": "a7aecf82-50b7-474c-8e6d-c0867ed4507b",
   "metadata": {},
   "outputs": [],
   "source": []
  }
 ],
 "metadata": {
  "kernelspec": {
   "display_name": "Python 3 (ipykernel)",
   "language": "python",
   "name": "python3"
  },
  "language_info": {
   "codemirror_mode": {
    "name": "ipython",
    "version": 3
   },
   "file_extension": ".py",
   "mimetype": "text/x-python",
   "name": "python",
   "nbconvert_exporter": "python",
   "pygments_lexer": "ipython3",
   "version": "3.9.15"
  }
 },
 "nbformat": 4,
 "nbformat_minor": 5
}
