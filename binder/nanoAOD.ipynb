{
 "cells": [
  {
   "cell_type": "code",
   "execution_count": 1,
   "id": "5ec8ee56-d752-4657-8c4b-4c780e6fe79a",
   "metadata": {},
   "outputs": [],
   "source": [
    "import uproot\n",
    "import awkward as ak\n",
    "from coffea import nanoevents\n",
    "import numpy as np\n",
    "import pandas as pd"
   ]
  },
  {
   "cell_type": "code",
   "execution_count": 2,
   "id": "98942865-c41a-4c6a-a930-08ed9f0181b6",
   "metadata": {
    "scrolled": true
   },
   "outputs": [
    {
     "name": "stderr",
     "output_type": "stream",
     "text": [
      "/uscms/home/aaportel/nobackup/mamba/envs/bh/lib/python3.9/site-packages/coffea/nanoevents/mapping/uproot.py:86: UserWarning: Found duplicate branch FatJetAK15SubJet_nBHadrons in <TTree 'Events' (1912 branches) at 0x7fbd9a5b4400>, taking first instance\n",
      "  warnings.warn(\n",
      "/uscms/home/aaportel/nobackup/mamba/envs/bh/lib/python3.9/site-packages/coffea/nanoevents/mapping/uproot.py:86: UserWarning: Found duplicate branch FatJetAK15SubJet_nCHadrons in <TTree 'Events' (1912 branches) at 0x7fbd9a5b4400>, taking first instance\n",
      "  warnings.warn(\n",
      "/uscms/home/aaportel/nobackup/mamba/envs/bh/lib/python3.9/site-packages/coffea/nanoevents/mapping/uproot.py:86: UserWarning: Found duplicate branch FatJetAK15_nBHadrons in <TTree 'Events' (1912 branches) at 0x7fbd9a5b4400>, taking first instance\n",
      "  warnings.warn(\n",
      "/uscms/home/aaportel/nobackup/mamba/envs/bh/lib/python3.9/site-packages/coffea/nanoevents/mapping/uproot.py:86: UserWarning: Found duplicate branch FatJetAK15_nCHadrons in <TTree 'Events' (1912 branches) at 0x7fbd9a5b4400>, taking first instance\n",
      "  warnings.warn(\n",
      "/uscms/home/aaportel/nobackup/mamba/envs/bh/lib/python3.9/site-packages/coffea/nanoevents/mapping/uproot.py:86: UserWarning: Found duplicate branch FatJet_btagDDBvLV2 in <TTree 'Events' (1912 branches) at 0x7fbd9a5b4400>, taking first instance\n",
      "  warnings.warn(\n",
      "/uscms/home/aaportel/nobackup/mamba/envs/bh/lib/python3.9/site-packages/coffea/nanoevents/mapping/uproot.py:86: UserWarning: Found duplicate branch FatJet_btagDDCvBV2 in <TTree 'Events' (1912 branches) at 0x7fbd9a5b4400>, taking first instance\n",
      "  warnings.warn(\n",
      "/uscms/home/aaportel/nobackup/mamba/envs/bh/lib/python3.9/site-packages/coffea/nanoevents/mapping/uproot.py:86: UserWarning: Found duplicate branch FatJet_btagDDCvLV2 in <TTree 'Events' (1912 branches) at 0x7fbd9a5b4400>, taking first instance\n",
      "  warnings.warn(\n",
      "/uscms/home/aaportel/nobackup/mamba/envs/bh/lib/python3.9/site-packages/coffea/nanoevents/mapping/uproot.py:86: UserWarning: Found duplicate branch FatJet_nBHadrons in <TTree 'Events' (1912 branches) at 0x7fbd9a5b4400>, taking first instance\n",
      "  warnings.warn(\n",
      "/uscms/home/aaportel/nobackup/mamba/envs/bh/lib/python3.9/site-packages/coffea/nanoevents/mapping/uproot.py:86: UserWarning: Found duplicate branch FatJet_nCHadrons in <TTree 'Events' (1912 branches) at 0x7fbd9a5b4400>, taking first instance\n",
      "  warnings.warn(\n",
      "/uscms/home/aaportel/nobackup/mamba/envs/bh/lib/python3.9/site-packages/coffea/nanoevents/mapping/uproot.py:86: UserWarning: Found duplicate branch SubJet_nBHadrons in <TTree 'Events' (1912 branches) at 0x7fbd9a5b4400>, taking first instance\n",
      "  warnings.warn(\n",
      "/uscms/home/aaportel/nobackup/mamba/envs/bh/lib/python3.9/site-packages/coffea/nanoevents/mapping/uproot.py:86: UserWarning: Found duplicate branch SubJet_nCHadrons in <TTree 'Events' (1912 branches) at 0x7fbd9a5b4400>, taking first instance\n",
      "  warnings.warn(\n",
      "/uscms/home/aaportel/nobackup/mamba/envs/bh/lib/python3.9/site-packages/coffea/nanoevents/schemas/nanoaod.py:201: RuntimeWarning: Missing cross-reference index for GenFatJetCands_jetIdx => GenJetAK8\n",
      "  warnings.warn(\n",
      "/uscms/home/aaportel/nobackup/mamba/envs/bh/lib/python3.9/site-packages/coffea/nanoevents/schemas/nanoaod.py:201: RuntimeWarning: Missing cross-reference index for GenFatJetCands_pFCandsIdx => GenCands\n",
      "  warnings.warn(\n",
      "/uscms/home/aaportel/nobackup/mamba/envs/bh/lib/python3.9/site-packages/coffea/nanoevents/schemas/nanoaod.py:201: RuntimeWarning: Missing cross-reference index for GenFatJetSVs_jetIdx => GenJetAK8\n",
      "  warnings.warn(\n",
      "/uscms/home/aaportel/nobackup/mamba/envs/bh/lib/python3.9/site-packages/coffea/nanoevents/schemas/nanoaod.py:201: RuntimeWarning: Missing cross-reference index for GenFatJetSVs_sVIdx => SV\n",
      "  warnings.warn(\n",
      "/uscms/home/aaportel/nobackup/mamba/envs/bh/lib/python3.9/site-packages/coffea/nanoevents/schemas/nanoaod.py:201: RuntimeWarning: Missing cross-reference index for GenJetCands_jetIdx => GenJet\n",
      "  warnings.warn(\n",
      "/uscms/home/aaportel/nobackup/mamba/envs/bh/lib/python3.9/site-packages/coffea/nanoevents/schemas/nanoaod.py:201: RuntimeWarning: Missing cross-reference index for GenJetCands_pFCandsIdx => GenCands\n",
      "  warnings.warn(\n",
      "/uscms/home/aaportel/nobackup/mamba/envs/bh/lib/python3.9/site-packages/coffea/nanoevents/schemas/nanoaod.py:201: RuntimeWarning: Missing cross-reference index for GenJetSVs_jetIdx => GenJet\n",
      "  warnings.warn(\n",
      "/uscms/home/aaportel/nobackup/mamba/envs/bh/lib/python3.9/site-packages/coffea/nanoevents/schemas/nanoaod.py:201: RuntimeWarning: Missing cross-reference index for GenJetSVs_sVIdx => SV\n",
      "  warnings.warn(\n",
      "/uscms/home/aaportel/nobackup/mamba/envs/bh/lib/python3.9/site-packages/coffea/nanoevents/schemas/nanoaod.py:201: RuntimeWarning: Missing cross-reference index for JetPFCands_jetIdx => Jet\n",
      "  warnings.warn(\n",
      "/uscms/home/aaportel/nobackup/mamba/envs/bh/lib/python3.9/site-packages/coffea/nanoevents/schemas/nanoaod.py:201: RuntimeWarning: Missing cross-reference index for JetPFCands_pFCandsIdx => PFCands\n",
      "  warnings.warn(\n",
      "/uscms/home/aaportel/nobackup/mamba/envs/bh/lib/python3.9/site-packages/coffea/nanoevents/schemas/nanoaod.py:201: RuntimeWarning: Missing cross-reference index for JetSVs_jetIdx => Jet\n",
      "  warnings.warn(\n",
      "/uscms/home/aaportel/nobackup/mamba/envs/bh/lib/python3.9/site-packages/coffea/nanoevents/schemas/nanoaod.py:201: RuntimeWarning: Missing cross-reference index for JetSVs_sVIdx => SV\n",
      "  warnings.warn(\n"
     ]
    }
   ],
   "source": [
    "filename = '/eos/uscms/store/user/lpcpfnano/emoreno/v2_2/2018/TTbar/TTToSemiLeptonic_TuneCP5_13TeV-powheg-pythia8/TTToSemiLeptonic/211208_201500/0000/nano_mc2018_1-1.root'\n",
    "f = uproot.open(filename)\n",
    "events = nanoevents.NanoEventsFactory.from_root(f, \"Events\", entry_stop=1000, schemaclass=nanoevents.PFNanoAODSchema).events()"
   ]
  },
  {
   "cell_type": "code",
   "execution_count": 3,
   "id": "3acec65d-085d-426b-83c2-b582d7527acd",
   "metadata": {},
   "outputs": [],
   "source": [
    "from coffea.nanoevents.methods import candidate\n",
    "def build_p4(cand):\n",
    "    return ak.zip(\n",
    "        {\n",
    "            \"pt\": cand.pt,\n",
    "            \"eta\": cand.eta,\n",
    "            \"phi\": cand.phi,\n",
    "            \"mass\": cand.mass,\n",
    "            \"charge\": cand.charge,\n",
    "        },\n",
    "        with_name=\"PtEtaPhiMCandidate\",\n",
    "        behavior=candidate.behavior,\n",
    "    )"
   ]
  },
  {
   "cell_type": "code",
   "execution_count": 4,
   "id": "e670f5ec-7932-451d-9642-cf07414e3a2c",
   "metadata": {},
   "outputs": [],
   "source": [
    "# taus\n",
    "loose_taus_mu = (events.Tau.pt > 20) & (abs(events.Tau.eta) < 2.3) & (events.Tau.idAntiMu >= 1)  # loose antiMu ID\n",
    "loose_taus_ele = (\n",
    "    (events.Tau.pt > 20)\n",
    "    & (abs(events.Tau.eta) < 2.3)\n",
    "    & (events.Tau.idAntiEleDeadECal >= 2)  # loose Anti-electron MVA discriminator V6 (2018) ?\n",
    ")\n",
    "n_loose_taus_mu = ak.sum(loose_taus_mu, axis=1)\n",
    "n_loose_taus_ele = ak.sum(loose_taus_ele, axis=1)\n",
    "\n",
    "muons = ak.with_field(events.Muon, 0, \"flavor\")\n",
    "electrons = ak.with_field(events.Electron, 1, \"flavor\")"
   ]
  },
  {
   "cell_type": "code",
   "execution_count": 5,
   "id": "f98fff74-6474-4238-967d-a3556d4ed341",
   "metadata": {},
   "outputs": [],
   "source": [
    "# muons\n",
    "loose_muons = (\n",
    "    (((muons.pt > 30) & (muons.pfRelIso04_all < 0.25)) | (muons.pt > 55))\n",
    "    & (np.abs(muons.eta) < 2.4)\n",
    "    & (muons.looseId)\n",
    ")\n",
    "n_loose_muons = ak.sum(loose_muons, axis=1)\n",
    "\n",
    "good_muons = (\n",
    "    (muons.pt > 30)\n",
    "    & (np.abs(muons.eta) < 2.4)\n",
    "    & (np.abs(muons.dz) < 0.1)\n",
    "    & (np.abs(muons.dxy) < 0.05)\n",
    "    & (muons.sip3d <= 4.0)\n",
    "    & muons.mediumId\n",
    ")\n",
    "n_good_muons = ak.sum(good_muons, axis=1)"
   ]
  },
  {
   "cell_type": "code",
   "execution_count": 6,
   "id": "a6f0cb68-3fa2-480d-aabe-208ec5f63eec",
   "metadata": {},
   "outputs": [],
   "source": [
    "# electrons\n",
    "loose_electrons = (\n",
    "    (((electrons.pt > 38) & (electrons.pfRelIso03_all < 0.25)) | (electrons.pt > 120))\n",
    "    & (np.abs(electrons.eta) < 2.4)\n",
    "    & ((np.abs(electrons.eta) < 1.44) | (np.abs(electrons.eta) > 1.57))\n",
    "    & (electrons.cutBased >= electrons.LOOSE)\n",
    ")\n",
    "n_loose_electrons = ak.sum(loose_electrons, axis=1)\n",
    "\n",
    "good_electrons = (\n",
    "    (electrons.pt > 38)\n",
    "    & (np.abs(electrons.eta) < 2.4)\n",
    "    & ((np.abs(electrons.eta) < 1.44) | (np.abs(electrons.eta) > 1.57))\n",
    "    & (np.abs(electrons.dz) < 0.1)\n",
    "    & (np.abs(electrons.dxy) < 0.05)\n",
    "    & (electrons.sip3d <= 4.0)\n",
    "    & (electrons.mvaFall17V2noIso_WP90)\n",
    ")\n",
    "n_good_electrons = ak.sum(good_electrons, axis=1)"
   ]
  },
  {
   "cell_type": "code",
   "execution_count": 7,
   "id": "abda6ec0-481b-4195-b7c0-4f28d111d037",
   "metadata": {},
   "outputs": [],
   "source": [
    "# get candidate lepton\n",
    "goodleptons = ak.concatenate([muons[good_muons], electrons[good_electrons]], axis=1)  # concat muons and electrons\n",
    "# goodleptons = ak.concatenate(muons, electrons, axis=1)\n",
    "goodleptons = goodleptons[ak.argsort(goodleptons.pt, ascending=False)]  # sort by pt\n",
    "\n",
    "candidatelep = ak.firsts(goodleptons)  # pick highest pt\n",
    "\n",
    "candidatelep_p4 = build_p4(candidatelep)  # build p4 for candidate lepton"
   ]
  },
  {
   "cell_type": "code",
   "execution_count": 8,
   "id": "efb42d6b-21f8-4895-82e6-8c5bdfed0b4c",
   "metadata": {},
   "outputs": [],
   "source": [
    "# ak4 jets\n",
    "ak4_jet_selector_no_btag = (\n",
    "    (events.Jet.pt > 30) & (abs(events.Jet.eta) < 5.0) & events.Jet.isTight & (events.Jet.puId > 0)\n",
    ")\n",
    "\n",
    "goodjets = events.Jet[ak4_jet_selector_no_btag]"
   ]
  },
  {
   "cell_type": "code",
   "execution_count": 105,
   "id": "5676445d-6f5a-41ec-bed9-2345b357d078",
   "metadata": {},
   "outputs": [],
   "source": [
    "# fatjets\n",
    "fatjets = events.FatJet\n",
    "\n",
    "good_fatjets = (fatjets.pt > 200) & (abs(fatjets.eta) < 2.5) & fatjets.isTight & (fatjets.btagDeepB > .9)\n",
    "\n",
    "good_fatjets = fatjets[good_fatjets]  # select good fatjets\n",
    "\n",
    "two_fatjets = (ak.num(good_fatjets) >= 2) | (ak.num(good_fatjets) == 0)\n",
    "candidate_fatjets = good_fatjets[two_fatjets]\n",
    "\n",
    "candidate_fatjets = candidate_fatjets[ak.argsort(candidate_fatjets.pt, ascending=False)]  # sort them by pt"
   ]
  },
  {
   "cell_type": "code",
   "execution_count": 106,
   "id": "c9fcd85c-6fe1-456a-a580-0561d82b2638",
   "metadata": {},
   "outputs": [
    {
     "data": {
      "text/plain": [
       "<FatJetArray [[], [], [], [], ... [], [], [], []] type='983 * var * fatJet'>"
      ]
     },
     "execution_count": 106,
     "metadata": {},
     "output_type": "execute_result"
    }
   ],
   "source": [
    "candidate_fatjets"
   ]
  },
  {
   "cell_type": "code",
   "execution_count": null,
   "id": "7cace012-14be-4951-836d-fcd6f39d3e0c",
   "metadata": {},
   "outputs": [],
   "source": []
  }
 ],
 "metadata": {
  "kernelspec": {
   "display_name": "Python 3 (ipykernel)",
   "language": "python",
   "name": "python3"
  },
  "language_info": {
   "codemirror_mode": {
    "name": "ipython",
    "version": 3
   },
   "file_extension": ".py",
   "mimetype": "text/x-python",
   "name": "python",
   "nbconvert_exporter": "python",
   "pygments_lexer": "ipython3",
   "version": "3.9.0"
  }
 },
 "nbformat": 4,
 "nbformat_minor": 5
}
