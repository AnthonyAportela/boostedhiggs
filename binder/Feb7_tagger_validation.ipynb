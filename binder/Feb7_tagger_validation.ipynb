{
 "cells": [
  {
   "cell_type": "code",
   "execution_count": 2,
   "id": "b18c6be8",
   "metadata": {},
   "outputs": [
    {
     "data": {
      "text/plain": [
       "{'divide': 'warn', 'over': 'warn', 'under': 'ignore', 'invalid': 'warn'}"
      ]
     },
     "execution_count": 2,
     "metadata": {},
     "output_type": "execute_result"
    }
   ],
   "source": [
    "import json\n",
    "import uproot\n",
    "from coffea.nanoevents import NanoEventsFactory, NanoAODSchema, BaseSchema\n",
    "from coffea import nanoevents\n",
    "from coffea import processor\n",
    "import time\n",
    "\n",
    "import argparse\n",
    "import warnings\n",
    "import pyarrow as pa\n",
    "import pyarrow.parquet as pq\n",
    "import pickle as pkl\n",
    "import pandas as pd\n",
    "import os\n",
    "import sys\n",
    "sys.path.append(\"../\")\n",
    "\n",
    "from collections import defaultdict\n",
    "import pickle as pkl\n",
    "import pyarrow as pa\n",
    "import awkward as ak\n",
    "import numpy as np\n",
    "import pandas as pd\n",
    "import json\n",
    "import os\n",
    "import shutil\n",
    "import pathlib\n",
    "from typing import List, Optional\n",
    "import pyarrow.parquet as pq\n",
    "\n",
    "from coffea import processor\n",
    "from coffea.nanoevents.methods import candidate, vector\n",
    "from coffea.analysis_tools import Weights, PackedSelection\n",
    "\n",
    "import warnings\n",
    "warnings.filterwarnings(\"ignore\", message=\"Found duplicate branch \")\n",
    "warnings.filterwarnings(\"ignore\", category=DeprecationWarning)\n",
    "np.seterr(invalid='ignore')"
   ]
  },
  {
   "cell_type": "code",
   "execution_count": 3,
   "id": "c4a05238",
   "metadata": {},
   "outputs": [
    {
     "name": "stdout",
     "output_type": "stream",
     "text": [
      "/eos/uscms/store/user/lpcpfnano/cmantill/v2_4/2017/HWW:\r\n",
      "GluGluHToWW_Pt-200ToInf_M-125_TuneCP5_MINLO_13TeV-powheg-pythia8\r\n",
      "GluGluToHHTobbVV_node_cHHH1_TuneCP5_13TeV-powheg-pythia8\r\n",
      "\r\n",
      "/eos/uscms/store/user/lpcpfnano/cmantill/v2_4/2017/QCD:\r\n",
      "QCD_HT1000to1500_TuneCP5_PSWeights_13TeV-madgraph-pythia8\r\n",
      "QCD_Pt_1800to2400_TuneCP5_13TeV_pythia8\r\n",
      "\r\n",
      "/eos/uscms/store/user/lpcpfnano/cmantill/v2_4/2017/TTbar:\r\n",
      "TTToSemiLeptonic_TuneCP5_13TeV-powheg-pythia8\r\n"
     ]
    }
   ],
   "source": [
    "! ls /eos/uscms/store/user/lpcpfnano/cmantill/v2_4/2017/*"
   ]
  },
  {
   "cell_type": "code",
   "execution_count": 11,
   "id": "cc248a32",
   "metadata": {},
   "outputs": [
    {
     "name": "stdout",
     "output_type": "stream",
     "text": [
      "number of events per file is 6000\n"
     ]
    }
   ],
   "source": [
    "# load a root file into coffea-friendly NanoAOD structure\n",
    "import uproot\n",
    "fn = \"/eos/uscms/store/user/lpcpfnano/cmantill/v2_4/2017/HWW/GluGluHToWW_Pt-200ToInf_M-125_TuneCP5_MINLO_13TeV-powheg-pythia8/GluGluHToWW_Pt-200ToInf_M-125/230203_210825/0000/nano_mc2017_1-1.root\"\n",
    "f = uproot.open(fn)\n",
    "num = f['Events'].num_entries   ### checks number of events per file \n",
    "print(f'number of events per file is {num}')\n",
    "\n",
    "events = nanoevents.NanoEventsFactory.from_root(f, \"Events\").events()"
   ]
  },
  {
   "cell_type": "code",
   "execution_count": 27,
   "id": "145e3c7a",
   "metadata": {},
   "outputs": [
    {
     "name": "stdout",
     "output_type": "stream",
     "text": [
      "FatJet_inclParTMDV1_HWW4q3qvsQCD\n",
      "FatJet_inclParTMDV1_HWW4qvsQCD\n",
      "FatJet_inclParTMDV1_HWWlvqqvsQCDTop\n",
      "FatJet_inclParTMDV1_HWWlvqqvsTopblv\n",
      "FatJet_inclParTMDV1_HbbvsQCD\n",
      "FatJet_inclParTMDV1_HccvsQCD\n",
      "FatJet_inclParTMDV1_hidNeuron000\n",
      "FatJet_inclParTMDV1_hidNeuron001\n",
      "FatJet_inclParTMDV1_hidNeuron002\n",
      "FatJet_inclParTMDV1_hidNeuron003\n",
      "FatJet_inclParTMDV1_hidNeuron004\n",
      "FatJet_inclParTMDV1_hidNeuron005\n",
      "FatJet_inclParTMDV1_hidNeuron006\n",
      "FatJet_inclParTMDV1_hidNeuron007\n",
      "FatJet_inclParTMDV1_hidNeuron008\n",
      "FatJet_inclParTMDV1_hidNeuron009\n",
      "FatJet_inclParTMDV1_hidNeuron010\n",
      "FatJet_inclParTMDV1_hidNeuron011\n",
      "FatJet_inclParTMDV1_hidNeuron012\n",
      "FatJet_inclParTMDV1_hidNeuron013\n",
      "FatJet_inclParTMDV1_hidNeuron014\n",
      "FatJet_inclParTMDV1_hidNeuron015\n",
      "FatJet_inclParTMDV1_hidNeuron016\n",
      "FatJet_inclParTMDV1_hidNeuron017\n",
      "FatJet_inclParTMDV1_hidNeuron018\n",
      "FatJet_inclParTMDV1_hidNeuron019\n",
      "FatJet_inclParTMDV1_hidNeuron020\n",
      "FatJet_inclParTMDV1_hidNeuron021\n",
      "FatJet_inclParTMDV1_hidNeuron022\n",
      "FatJet_inclParTMDV1_hidNeuron023\n",
      "FatJet_inclParTMDV1_hidNeuron024\n",
      "FatJet_inclParTMDV1_hidNeuron025\n",
      "FatJet_inclParTMDV1_hidNeuron026\n",
      "FatJet_inclParTMDV1_hidNeuron027\n",
      "FatJet_inclParTMDV1_hidNeuron028\n",
      "FatJet_inclParTMDV1_hidNeuron029\n",
      "FatJet_inclParTMDV1_hidNeuron030\n",
      "FatJet_inclParTMDV1_hidNeuron031\n",
      "FatJet_inclParTMDV1_hidNeuron032\n",
      "FatJet_inclParTMDV1_hidNeuron033\n",
      "FatJet_inclParTMDV1_hidNeuron034\n",
      "FatJet_inclParTMDV1_hidNeuron035\n",
      "FatJet_inclParTMDV1_hidNeuron036\n",
      "FatJet_inclParTMDV1_hidNeuron037\n",
      "FatJet_inclParTMDV1_hidNeuron038\n",
      "FatJet_inclParTMDV1_hidNeuron039\n",
      "FatJet_inclParTMDV1_hidNeuron040\n",
      "FatJet_inclParTMDV1_hidNeuron041\n",
      "FatJet_inclParTMDV1_hidNeuron042\n",
      "FatJet_inclParTMDV1_hidNeuron043\n",
      "FatJet_inclParTMDV1_hidNeuron044\n",
      "FatJet_inclParTMDV1_hidNeuron045\n",
      "FatJet_inclParTMDV1_hidNeuron046\n",
      "FatJet_inclParTMDV1_hidNeuron047\n",
      "FatJet_inclParTMDV1_hidNeuron048\n",
      "FatJet_inclParTMDV1_hidNeuron049\n",
      "FatJet_inclParTMDV1_hidNeuron050\n",
      "FatJet_inclParTMDV1_hidNeuron051\n",
      "FatJet_inclParTMDV1_hidNeuron052\n",
      "FatJet_inclParTMDV1_hidNeuron053\n",
      "FatJet_inclParTMDV1_hidNeuron054\n",
      "FatJet_inclParTMDV1_hidNeuron055\n",
      "FatJet_inclParTMDV1_hidNeuron056\n",
      "FatJet_inclParTMDV1_hidNeuron057\n",
      "FatJet_inclParTMDV1_hidNeuron058\n",
      "FatJet_inclParTMDV1_hidNeuron059\n",
      "FatJet_inclParTMDV1_hidNeuron060\n",
      "FatJet_inclParTMDV1_hidNeuron061\n",
      "FatJet_inclParTMDV1_hidNeuron062\n",
      "FatJet_inclParTMDV1_hidNeuron063\n",
      "FatJet_inclParTMDV1_hidNeuron064\n",
      "FatJet_inclParTMDV1_hidNeuron065\n",
      "FatJet_inclParTMDV1_hidNeuron066\n",
      "FatJet_inclParTMDV1_hidNeuron067\n",
      "FatJet_inclParTMDV1_hidNeuron068\n",
      "FatJet_inclParTMDV1_hidNeuron069\n",
      "FatJet_inclParTMDV1_hidNeuron070\n",
      "FatJet_inclParTMDV1_hidNeuron071\n",
      "FatJet_inclParTMDV1_hidNeuron072\n",
      "FatJet_inclParTMDV1_hidNeuron073\n",
      "FatJet_inclParTMDV1_hidNeuron074\n",
      "FatJet_inclParTMDV1_hidNeuron075\n",
      "FatJet_inclParTMDV1_hidNeuron076\n",
      "FatJet_inclParTMDV1_hidNeuron077\n",
      "FatJet_inclParTMDV1_hidNeuron078\n",
      "FatJet_inclParTMDV1_hidNeuron079\n",
      "FatJet_inclParTMDV1_hidNeuron080\n",
      "FatJet_inclParTMDV1_hidNeuron081\n",
      "FatJet_inclParTMDV1_hidNeuron082\n",
      "FatJet_inclParTMDV1_hidNeuron083\n",
      "FatJet_inclParTMDV1_hidNeuron084\n",
      "FatJet_inclParTMDV1_hidNeuron085\n",
      "FatJet_inclParTMDV1_hidNeuron086\n",
      "FatJet_inclParTMDV1_hidNeuron087\n",
      "FatJet_inclParTMDV1_hidNeuron088\n",
      "FatJet_inclParTMDV1_hidNeuron089\n",
      "FatJet_inclParTMDV1_hidNeuron090\n",
      "FatJet_inclParTMDV1_hidNeuron091\n",
      "FatJet_inclParTMDV1_hidNeuron092\n",
      "FatJet_inclParTMDV1_hidNeuron093\n",
      "FatJet_inclParTMDV1_hidNeuron094\n",
      "FatJet_inclParTMDV1_hidNeuron095\n",
      "FatJet_inclParTMDV1_hidNeuron096\n",
      "FatJet_inclParTMDV1_hidNeuron097\n",
      "FatJet_inclParTMDV1_hidNeuron098\n",
      "FatJet_inclParTMDV1_hidNeuron099\n",
      "FatJet_inclParTMDV1_hidNeuron100\n",
      "FatJet_inclParTMDV1_hidNeuron101\n",
      "FatJet_inclParTMDV1_hidNeuron102\n",
      "FatJet_inclParTMDV1_hidNeuron103\n",
      "FatJet_inclParTMDV1_hidNeuron104\n",
      "FatJet_inclParTMDV1_hidNeuron105\n",
      "FatJet_inclParTMDV1_hidNeuron106\n",
      "FatJet_inclParTMDV1_hidNeuron107\n",
      "FatJet_inclParTMDV1_hidNeuron108\n",
      "FatJet_inclParTMDV1_hidNeuron109\n",
      "FatJet_inclParTMDV1_hidNeuron110\n",
      "FatJet_inclParTMDV1_hidNeuron111\n",
      "FatJet_inclParTMDV1_hidNeuron112\n",
      "FatJet_inclParTMDV1_hidNeuron113\n",
      "FatJet_inclParTMDV1_hidNeuron114\n",
      "FatJet_inclParTMDV1_hidNeuron115\n",
      "FatJet_inclParTMDV1_hidNeuron116\n",
      "FatJet_inclParTMDV1_hidNeuron117\n",
      "FatJet_inclParTMDV1_hidNeuron118\n",
      "FatJet_inclParTMDV1_hidNeuron119\n",
      "FatJet_inclParTMDV1_hidNeuron120\n",
      "FatJet_inclParTMDV1_hidNeuron121\n",
      "FatJet_inclParTMDV1_hidNeuron122\n",
      "FatJet_inclParTMDV1_hidNeuron123\n",
      "FatJet_inclParTMDV1_hidNeuron124\n",
      "FatJet_inclParTMDV1_hidNeuron125\n",
      "FatJet_inclParTMDV1_hidNeuron126\n",
      "FatJet_inclParTMDV1_hidNeuron127\n",
      "FatJet_inclParTMDV1_mass\n",
      "FatJet_inclParTMDV1_probHWqqWev0c\n",
      "FatJet_inclParTMDV1_probHWqqWev1c\n",
      "FatJet_inclParTMDV1_probHWqqWmv0c\n",
      "FatJet_inclParTMDV1_probHWqqWmv1c\n",
      "FatJet_inclParTMDV1_probHWqqWq0c\n",
      "FatJet_inclParTMDV1_probHWqqWq1c\n",
      "FatJet_inclParTMDV1_probHWqqWq2c\n",
      "FatJet_inclParTMDV1_probHWqqWqq0c\n",
      "FatJet_inclParTMDV1_probHWqqWqq1c\n",
      "FatJet_inclParTMDV1_probHWqqWqq2c\n",
      "FatJet_inclParTMDV1_probHWqqWtauev0c\n",
      "FatJet_inclParTMDV1_probHWqqWtauev1c\n",
      "FatJet_inclParTMDV1_probHWqqWtauhv0c\n",
      "FatJet_inclParTMDV1_probHWqqWtauhv1c\n",
      "FatJet_inclParTMDV1_probHWqqWtaumv0c\n",
      "FatJet_inclParTMDV1_probHWqqWtaumv1c\n",
      "FatJet_inclParTMDV1_probHbb\n",
      "FatJet_inclParTMDV1_probHcc\n",
      "FatJet_inclParTMDV1_probHqq\n",
      "FatJet_inclParTMDV1_probHss\n",
      "FatJet_inclParTMDV1_probHtauhtaue\n",
      "FatJet_inclParTMDV1_probHtauhtauh\n",
      "FatJet_inclParTMDV1_probHtauhtaum\n",
      "FatJet_inclParTMDV1_probQCDb\n",
      "FatJet_inclParTMDV1_probQCDbb\n",
      "FatJet_inclParTMDV1_probQCDc\n",
      "FatJet_inclParTMDV1_probQCDcc\n",
      "FatJet_inclParTMDV1_probQCDothers\n",
      "FatJet_inclParTMDV1_probTopbWev\n",
      "FatJet_inclParTMDV1_probTopbWmv\n",
      "FatJet_inclParTMDV1_probTopbWq0c\n",
      "FatJet_inclParTMDV1_probTopbWq1c\n",
      "FatJet_inclParTMDV1_probTopbWqq0c\n",
      "FatJet_inclParTMDV1_probTopbWqq1c\n",
      "FatJet_inclParTMDV1_probTopbWtauev\n",
      "FatJet_inclParTMDV1_probTopbWtauhv\n",
      "FatJet_inclParTMDV1_probTopbWtaumv\n"
     ]
    }
   ],
   "source": [
    "for key in f[\"Events\"].keys():\n",
    "    if \"incl\" in key:\n",
    "        print(key)"
   ]
  },
  {
   "cell_type": "code",
   "execution_count": 23,
   "id": "72959212",
   "metadata": {},
   "outputs": [
    {
     "name": "stdout",
     "output_type": "stream",
     "text": [
      "0-1_mu.parquet\t0-1.pkl\r\n"
     ]
    }
   ],
   "source": [
    "! ls ../outfiles/0-1_mu.parquet"
   ]
  },
  {
   "cell_type": "code",
   "execution_count": 28,
   "id": "6673d3f3",
   "metadata": {},
   "outputs": [
    {
     "name": "stdout",
     "output_type": "stream",
     "text": [
      "met\n",
      "ht\n",
      "nfj\n",
      "nj\n",
      "deta\n",
      "mjj\n",
      "fj_genH_pt\n",
      "fj_genV_dR\n",
      "fj_genVstar\n",
      "genV_genVstar_dR\n",
      "fj_nprongs\n",
      "fj_ncquarks\n",
      "fj_lepinprongs\n",
      "fj_H_VV_4q\n",
      "fj_H_VV_elenuqq\n",
      "fj_H_VV_munuqq\n",
      "fj_H_VV_leptauelvqq\n",
      "fj_H_VV_leptaumuvqq\n",
      "fj_H_VV_hadtauvqq\n",
      "fj_H_VV_isVlepton\n",
      "fj_H_VV_isVstarlepton\n",
      "fj_H_VV_isMatched\n",
      "weight\n",
      "weight_genweight\n",
      "weight_L1Prefiring\n",
      "weight_pileup\n",
      "mu_mvaId\n",
      "mu_highPtId\n",
      "weight_trigger_iso_muon\n",
      "weight_trigger_noniso_muon\n",
      "weight_isolation_muon\n",
      "weight_id_muon\n",
      "weight_mu\n",
      "fj_pt\n",
      "fj_msoftdrop\n",
      "fj_bjets_ophem\n",
      "fj_bjets\n",
      "lep_pt\n",
      "lep_isolation\n",
      "lep_misolation\n",
      "lep_fj_m\n",
      "lep_fj_dr\n",
      "lep_met_mt\n",
      "met_fj_dphi\n",
      "rec_higgs_m\n"
     ]
    }
   ],
   "source": [
    "# keys in parquet\n",
    "for key in pd.read_parquet(\"../outfiles/0-1_mu.parquet\").keys():\n",
    "    print(key)"
   ]
  },
  {
   "cell_type": "code",
   "execution_count": null,
   "id": "ec42b0b6",
   "metadata": {},
   "outputs": [],
   "source": []
  },
  {
   "cell_type": "code",
   "execution_count": 4,
   "id": "6cc6de48",
   "metadata": {},
   "outputs": [],
   "source": [
    "def pad_val(\n",
    "    arr: ak.Array,\n",
    "    value: float,\n",
    "    target: int = None,\n",
    "    axis: int = 0,\n",
    "    to_numpy: bool = False,\n",
    "    clip: bool = True,\n",
    "):\n",
    "    \"\"\"\n",
    "    basically: preserves the nested structure of the ak array and replaces None values with -1\n",
    "    pads awkward array up to ``target`` index along axis ``axis`` with value ``value``,\n",
    "    optionally converts to numpy array\n",
    "    \"\"\"\n",
    "    if target:\n",
    "        ret = ak.fill_none(ak.pad_none(arr, target, axis=axis, clip=clip), value, axis=None)\n",
    "    else:\n",
    "        ret = ak.fill_none(arr, value, axis=None)\n",
    "    return ret.to_numpy() if to_numpy else ret"
   ]
  },
  {
   "cell_type": "code",
   "execution_count": 5,
   "id": "d472030a",
   "metadata": {},
   "outputs": [],
   "source": [
    "def build_p4(cand):\n",
    "    return ak.zip(\n",
    "        {\n",
    "            \"pt\": cand.pt,\n",
    "            \"eta\": cand.eta,\n",
    "            \"phi\": cand.phi,\n",
    "            \"mass\": cand.mass,\n",
    "            \"charge\": cand.charge,\n",
    "        },\n",
    "        with_name=\"PtEtaPhiMCandidate\",\n",
    "        behavior=candidate.behavior,\n",
    "    )"
   ]
  },
  {
   "cell_type": "code",
   "execution_count": 6,
   "id": "808e4f93",
   "metadata": {},
   "outputs": [],
   "source": [
    "nevents = len(events)\n",
    "\n",
    "# define muon objects\n",
    "loose_muons = (\n",
    "    (((events.Muon.pt > 30) & (events.Muon.pfRelIso04_all < 0.25)) |\n",
    "     (events.Muon.pt > 55))\n",
    "    & (np.abs(events.Muon.eta) < 2.4)\n",
    "    & (events.Muon.looseId)\n",
    ")\n",
    "n_loose_muons = ak.sum(loose_muons, axis=1)\n",
    "\n",
    "good_muons = (\n",
    "    (events.Muon.pt > 28)\n",
    "    & (np.abs(events.Muon.eta) < 2.4)\n",
    "    & (np.abs(events.Muon.dz) < 0.1)\n",
    "    & (np.abs(events.Muon.dxy) < 0.05)\n",
    "    & (events.Muon.sip3d <= 4.0)\n",
    "    & events.Muon.mediumId\n",
    ")\n",
    "n_good_muons = ak.sum(good_muons, axis=1)\n",
    "\n",
    "# define electron objects\n",
    "loose_electrons = (\n",
    "    (((events.Electron.pt > 38) & (events.Electron.pfRelIso03_all < 0.25)) |\n",
    "     (events.Electron.pt > 120))\n",
    "    & ((np.abs(events.Electron.eta) < 1.44) | (np.abs(events.Electron.eta) > 1.57))\n",
    "    & (events.Electron.cutBased >= events.Electron.LOOSE)\n",
    ")\n",
    "n_loose_electrons = ak.sum(loose_electrons, axis=1)\n",
    "\n",
    "good_electrons = (\n",
    "    (events.Electron.pt > 38)\n",
    "    & ((np.abs(events.Electron.eta) < 1.44) | (np.abs(events.Electron.eta) > 1.57))\n",
    "    & (np.abs(events.Electron.dz) < 0.1)\n",
    "    & (np.abs(events.Electron.dxy) < 0.05)\n",
    "    & (events.Electron.sip3d <= 4.0)\n",
    "    & (events.Electron.mvaFall17V2noIso_WP90)\n",
    ")\n",
    "n_good_electrons = ak.sum(good_electrons, axis=1)\n",
    "\n",
    "# leading lepton\n",
    "goodleptons = ak.concatenate([events.Muon[good_muons], events.Electron[good_electrons]], axis=1)\n",
    "goodleptons = goodleptons[ak.argsort(goodleptons.pt, ascending=False)]\n",
    "candidatelep = ak.firsts(goodleptons)"
   ]
  },
  {
   "cell_type": "code",
   "execution_count": 7,
   "id": "1aecff0c",
   "metadata": {},
   "outputs": [],
   "source": [
    "# candidate leptons\n",
    "candidatelep_p4 = build_p4(candidatelep)\n",
    "\n",
    "# JETS\n",
    "goodjets = events.Jet[\n",
    "    (events.Jet.pt > 30)\n",
    "    & (abs(events.Jet.eta) < 2.5)\n",
    "    & events.Jet.isTight\n",
    "    & (events.Jet.puId > 0)\n",
    "]\n",
    "ht = ak.sum(goodjets.pt, axis=1)\n",
    "\n",
    "# FATJETS\n",
    "fatjets = events.FatJet\n",
    "\n",
    "good_fatjets = (\n",
    "    (fatjets.pt > 200)\n",
    "    & (abs(fatjets.eta) < 2.5)\n",
    "    & fatjets.isTight\n",
    ")\n",
    "n_fatjets = ak.sum(good_fatjets, axis=1)\n",
    "\n",
    "good_fatjets = fatjets[good_fatjets]\n",
    "good_fatjets = good_fatjets[ak.argsort(good_fatjets.pt, ascending=False)]\n",
    "\n",
    "# for leptonic channel: leading pt which contains lepton\n",
    "no_lep_in_fj_bool = good_fatjets.delta_r(candidatelep_p4)>0.8\n",
    "good_fatjets = good_fatjets[no_lep_in_fj_bool]\n",
    "candidatefj_lep = ak.firsts(good_fatjets[ak.argmin(good_fatjets.delta_r(candidatelep_p4), axis=1, keepdims=True)])"
   ]
  },
  {
   "cell_type": "code",
   "execution_count": 8,
   "id": "1ebcfd2a",
   "metadata": {},
   "outputs": [
    {
     "data": {
      "text/plain": [
       "<Array [286, 314, 310, 251, ... None, 347, 251] type='31766 * ?float32[parameter...'>"
      ]
     },
     "execution_count": 8,
     "metadata": {},
     "output_type": "execute_result"
    }
   ],
   "source": [
    "candidatefj_lep.pt"
   ]
  },
  {
   "cell_type": "code",
   "execution_count": 9,
   "id": "ed9e999b",
   "metadata": {},
   "outputs": [
    {
     "data": {
      "text/plain": [
       "<Array [286, 314, 310, 251, ... None, 347, 251] type='31766 * ?float32[parameter...'>"
      ]
     },
     "execution_count": 9,
     "metadata": {},
     "output_type": "execute_result"
    }
   ],
   "source": [
    "candidatefj_lep.pt"
   ]
  },
  {
   "cell_type": "code",
   "execution_count": 10,
   "id": "6322223c",
   "metadata": {},
   "outputs": [],
   "source": [
    "met = events.MET\n",
    "mt_lep_met = np.sqrt(\n",
    "    2. * candidatelep_p4.pt * met.pt * (ak.ones_like(met.pt) - np.cos(candidatelep_p4.delta_phi(met)))\n",
    ")"
   ]
  },
  {
   "cell_type": "code",
   "execution_count": 19,
   "id": "311c439a",
   "metadata": {},
   "outputs": [
    {
     "data": {
      "text/plain": [
       "<Array [[1.88], [-0.628], ... [-2.85, 1.59]] type='31766 * option[var * float32]'>"
      ]
     },
     "execution_count": 19,
     "metadata": {},
     "output_type": "execute_result"
    }
   ],
   "source": [
    "good_fatjets.delta_phi(met)"
   ]
  },
  {
   "cell_type": "code",
   "execution_count": 15,
   "id": "fc2c40ec",
   "metadata": {},
   "outputs": [
    {
     "data": {
      "text/plain": [
       "<FatJetArray [[FatJet], ... [FatJet, FatJet]] type='31766 * option[var * fatJet]'>"
      ]
     },
     "execution_count": 15,
     "metadata": {},
     "output_type": "execute_result"
    }
   ],
   "source": [
    "good_fatjets"
   ]
  },
  {
   "cell_type": "code",
   "execution_count": null,
   "id": "96359441",
   "metadata": {},
   "outputs": [],
   "source": []
  }
 ],
 "metadata": {
  "kernelspec": {
   "display_name": "Python 3 (ipykernel)",
   "language": "python",
   "name": "python3"
  },
  "language_info": {
   "codemirror_mode": {
    "name": "ipython",
    "version": 3
   },
   "file_extension": ".py",
   "mimetype": "text/x-python",
   "name": "python",
   "nbconvert_exporter": "python",
   "pygments_lexer": "ipython3",
   "version": "3.7.12"
  }
 },
 "nbformat": 4,
 "nbformat_minor": 5
}
