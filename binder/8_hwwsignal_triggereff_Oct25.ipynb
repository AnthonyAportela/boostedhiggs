{
 "cells": [
  {
   "cell_type": "markdown",
   "metadata": {},
   "source": [
    "# Trigger efficiency in signal files \n",
    "\n",
    "In this notebook we explore how efficient trigger selections are on our signal simulation file.\n",
    "\n",
    "We first download one file from a simulated signal dataset (Higgs to WW in the lepton-neutrino-quark-quark final state):\n",
    "\n",
    "```\n",
    "mkdir data/\n",
    "scp -r cmslpc-sl7.fnal.gov:/eos/uscms/store/user/lpcdihiggsboost/cmantill/PFNano/2017_UL_ak15/GluGluHToWWToLNuQQ_M125_TuneCP5_PSweight_13TeV-powheg2-jhugen727-pythia8/RunIISummer19UL17Jun23-106X_mc2017_realistic_v6-v2/210623_225150/0000/nano_mc2017_1-130.root data/nano_mc2017_1-130.root\n",
    "```"
   ]
  },
  {
   "cell_type": "markdown",
   "metadata": {},
   "source": [
    "Then, we import some libraries:"
   ]
  },
  {
   "cell_type": "code",
   "execution_count": 1,
   "metadata": {},
   "outputs": [],
   "source": [
    "import awkward as ak\n",
    "\n",
    "# we suppress ROOT warnings where our input ROOT tree has duplicate branches - these are handled correctly.\n",
    "import warnings\n",
    "warnings.filterwarnings(\"ignore\", message=\"Found duplicate branch \")"
   ]
  },
  {
   "cell_type": "markdown",
   "metadata": {},
   "source": [
    "Define the matching function:"
   ]
  },
  {
   "cell_type": "code",
   "execution_count": 2,
   "metadata": {},
   "outputs": [],
   "source": [
    "def getParticles(genparticles,lowid=22,highid=25,flags=['fromHardProcess', 'isLastCopy']):\n",
    "    \"\"\"\n",
    "    returns the particle objects that satisfy a low id, \n",
    "    high id condition and have certain flags\n",
    "    \"\"\"\n",
    "    absid = abs(genparticles.pdgId)\n",
    "    return genparticles[\n",
    "        ((absid >= lowid) & (absid <= highid))\n",
    "        & genparticles.hasFlags(flags)\n",
    "    ]\n",
    "\n",
    "def match_HWWlepqq(genparticles,candidatefj):\n",
    "    \"\"\"\n",
    "    return the number of matched objects (hWW*),daughters, \n",
    "    and gen flavor (enuqq, munuqq, taunuqq) \n",
    "    \"\"\"\n",
    "    higgs = getParticles(genparticles,25)\n",
    "    is_hWW = ak.all(abs(higgs.children.pdgId)==24,axis=2)\n",
    "\n",
    "    higgs = higgs[is_hWW]\n",
    "    higgs_wstar = higgs.children[ak.argmin(higgs.children.mass,axis=2,keepdims=True)]\n",
    "    higgs_w = higgs.children[ak.argmax(higgs.children.mass,axis=2,keepdims=True)]\n",
    "    \n",
    "    prompt_electron = getParticles(genparticles,11,11,['isPrompt','isLastCopy'])\n",
    "    prompt_muon = getParticles(genparticles,13,13,['isPrompt', 'isLastCopy'])\n",
    "    prompt_tau = getParticles(genparticles,15,15,['isPrompt', 'isLastCopy'])\n",
    "    prompt_q = getParticles(genparticles,0,5,['fromHardProcess', 'isLastCopy'])\n",
    "    prompt_q = prompt_q[abs(prompt_q.distinctParent.pdgId) == 24]\n",
    "    \n",
    "    dr_fj_quarks = candidatefj.delta_r(prompt_q)\n",
    "    dr_fj_electrons = candidatefj.delta_r(prompt_electron)\n",
    "    dr_fj_muons = candidatefj.delta_r(prompt_muon)\n",
    "    dr_fj_taus = candidatefj.delta_r(prompt_tau)\n",
    "    dr_daughters = ak.concatenate([dr_fj_quarks,dr_fj_electrons,dr_fj_muons,dr_fj_taus],axis=1)\n",
    "    hWWlepqq_nprongs = ak.sum(dr_daughters<0.8,axis=1)\n",
    "    \n",
    "    n_electrons = ak.sum(prompt_electron.pt>0,axis=1)\n",
    "    n_muons = ak.sum(prompt_muon.pt>0,axis=1)\n",
    "    n_taus = ak.sum(prompt_tau.pt>0,axis=1)\n",
    "    n_quarks = ak.sum(prompt_q.pt>0,axis=1)\n",
    "\n",
    "    # 4(elenuqq),6(munuqq),8(taunuqq)\n",
    "    hWWlepqq_flavor = (n_quarks==2)*1 + (n_electrons==1)*3 + (n_muons==1)*5 + (n_taus==1)*7\n",
    "    \n",
    "    matchedH = candidatefj.nearest(higgs, axis=1, threshold=0.8)\n",
    "    matchedW = candidatefj.nearest(higgs_w, axis=1, threshold=0.8)\n",
    "    matchedWstar = candidatefj.nearest(higgs_wstar, axis=1, threshold=0.8) \n",
    "\n",
    "    # 1 (H only), 4(W), 6(W star), 9(H, W and Wstar)\n",
    "    hWWlepqq_matched = (\n",
    "        (ak.sum(matchedH.pt > 0, axis=1)==1) * 1 \n",
    "        + (ak.sum(ak.flatten(matchedW.pt > 0, axis=2), axis=1)==1) * 3 \n",
    "        + (ak.sum(ak.flatten(matchedWstar.pt > 0, axis=2), axis=1)==1) * 5\n",
    "    )\n",
    "    \n",
    "    # leptons matched\n",
    "    dr_leptons = ak.concatenate([dr_fj_electrons,dr_fj_muons], axis=1)\n",
    "    matched_leptons = dr_leptons < 0.8\n",
    "    \n",
    "    leptons = ak.concatenate([prompt_electron, prompt_muon], axis=1)\n",
    "    leptons = leptons[matched_leptons]\n",
    "    \n",
    "    # leptons coming from W or W*\n",
    "    leptons_mass = ak.firsts(leptons.distinctParent.mass)\n",
    "    higgs_w_mass = ak.firsts(ak.flatten(higgs_w.mass))[ak.firsts(leptons.pt > 0)]\n",
    "    higgs_wstar_mass = ak.firsts(ak.flatten(higgs_wstar.mass))[ak.firsts(leptons.pt > 0)]\n",
    "\n",
    "    iswlepton = leptons_mass == higgs_w_mass\n",
    "    iswstarlepton = leptons_mass == higgs_wstar_mass\n",
    "    \n",
    "    return hWWlepqq_flavor,hWWlepqq_matched,hWWlepqq_nprongs,matchedH,higgs,iswlepton,iswstarlepton"
   ]
  },
  {
   "cell_type": "markdown",
   "metadata": {},
   "source": [
    "Now, let's define a processor:"
   ]
  },
  {
   "cell_type": "code",
   "execution_count": 3,
   "metadata": {},
   "outputs": [
    {
     "name": "stderr",
     "output_type": "stream",
     "text": [
      "/Users/cmantill/miniconda3/envs/hww/lib/python3.7/site-packages/numba/core/cpu.py:77: UserWarning: Numba extension module 'awkward1._connect._numba' failed to load due to 'ImportError(generic_type: type \"kernel_lib\" is already registered!)'.\n",
      "  numba.core.entrypoints.init_all()\n"
     ]
    }
   ],
   "source": [
    "import numpy as np\n",
    "import hist as hist2\n",
    "from coffea import processor\n",
    "from coffea.nanoevents.methods import candidate, vector\n",
    "from coffea.analysis_tools import Weights, PackedSelection\n",
    "\n",
    "# function to normalize arrays after a cut or selection\n",
    "def normalize(val, cut=None):\n",
    "    if cut is None:\n",
    "        ar = ak.to_numpy(ak.fill_none(val, np.nan))\n",
    "        return ar\n",
    "    else:\n",
    "        ar = ak.to_numpy(ak.fill_none(val[cut], np.nan))\n",
    "        return ar\n",
    "\n",
    "class TriggerEfficienciesProcessor(processor.ProcessorABC):\n",
    "    \"\"\" Accumulates histograms from all input events: 1) before triggers, and 2) after triggers \"\"\"\n",
    "    def __init__(self, triggers=[\"nominal\",\"vvl\",\"lepjet\",\"jet\"]):\n",
    "        super(TriggerEfficienciesProcessor, self).__init__()\n",
    "        \n",
    "        # full list of trigger that CAN be tested for each channel\n",
    "        # first let's test for 2017 ONLY\n",
    "        trigger_dict = {\n",
    "            \"e_nominal\": [\"Ele35_WPTight_Gsf\", # electron trigger with isolation\n",
    "                          \"Ele115_CaloIdVT_GsfTrkIdT\", # electron trigger without isolation\n",
    "                        ],\n",
    "            \"e_jet\": [\"Ele50_CaloIdVT_GsfTrkIdT_PFJet165\"],\n",
    "            \"e_vvl\": [\"Ele15_IsoVVVL_PFHT600\",\n",
    "                      \"Ele15_IsoVVVL_PFHT450_PFMET50\",\n",
    "                    ],\n",
    "            \"jet\": [\"PFHT1050\",\n",
    "                    \"AK8PFJet400_TrimMass30\",\n",
    "                    \"AK8PFJet420_TrimMass30\",\n",
    "                    \"AK8PFHT800_TrimMass50\",\n",
    "                    \"PFJet500\",\n",
    "                    \"AK8PFJet500\",\n",
    "                   ],\n",
    "            \"mu_nominal\": [\"IsoMu27\", # muon trigger with isolation\n",
    "                           \"Mu50\", # muon trigger without isolation\n",
    "                          ],\n",
    "            \"mu_vvl\": [\"Mu15_IsoVVVL_PFHT450_PFMET50\",\n",
    "                       \"Mu15_IsoVVVL_PFHT600\",\n",
    "                      ],  \n",
    "        }\n",
    "         \n",
    "        # list of triggers that WILL be tested\n",
    "        self._triggers = {\"e\": [],\n",
    "                          \"mu\": [],\n",
    "                          # \"had\": [],\n",
    "                         }\n",
    "        if \"nominal\" in triggers:\n",
    "            self._triggers[\"e\"] += trigger_dict[\"e_nominal\"]\n",
    "            self._triggers[\"mu\"] += trigger_dict[\"mu_nominal\"]\n",
    "            # self._triggers[\"had\"] = \"jet\"\n",
    "        if \"vvl\" in triggers:\n",
    "            self._triggers[\"e\"] += trigger_dict[\"e_vvl\"]\n",
    "            self._triggers[\"mu\"] += trigger_dict[\"mu_vvl\"]\n",
    "        if \"lepjet\" in triggers:\n",
    "            self._triggers[\"e\"] += trigger_dict[\"e_jet\"]\n",
    "        if \"jet\" in triggers:\n",
    "            self._triggers[\"e\"] += trigger_dict[\"jet\"]\n",
    "            self._triggers[\"mu\"] += trigger_dict[\"jet\"]\n",
    "        \n",
    "        jetpt_axis = hist2.axis.Regular(30, 200, 700, name='jetpt', label=r'Jet $p_T$ [GeV]')\n",
    "        leppt_axis = hist2.axis.Regular(30, 10, 200, name='leppt', label=r'Lepton $p_T$ [GeV]')\n",
    "        hpt_axis = hist2.axis.Regular(50, 10, 800, name='higgspt', label=r'matched H $p_T$ [GeV]')\n",
    "\n",
    "        region_cat = hist2.axis.StrCategory([\"numerator\",\"denominator\"], name=\"region\")\n",
    "        channel_cat = hist2.axis.StrCategory([], name='channel', growth=True)\n",
    "        \n",
    "        self.make_output = lambda: {\n",
    "            \"jet\": hist2.Hist(\n",
    "                channel_cat,\n",
    "                region_cat,\n",
    "                jetpt_axis,\n",
    "            ),\n",
    "            \"lepton\": hist2.Hist(\n",
    "                channel_cat,\n",
    "                region_cat,\n",
    "                leppt_axis,\n",
    "            ),\n",
    "            \"higgs\": hist2.Hist(\n",
    "                channel_cat,\n",
    "                region_cat,\n",
    "                hpt_axis,\n",
    "            )\n",
    "        }\n",
    "        \n",
    "        self._channels = [\"e\",\"mu\"]\n",
    "    \n",
    "    def process(self, events):\n",
    "        \"\"\" Returns pre- (den) and post- (num) trigger histograms from input NanoAOD events \"\"\"\n",
    "        dataset = events.metadata['dataset']\n",
    "        selection = PackedSelection()\n",
    "        isRealData = not hasattr(events, \"genWeight\")\n",
    "        nevents = len(events)\n",
    "        \n",
    "        # make output\n",
    "        output = self.make_output()\n",
    "        \n",
    "        # apply trigger (to all datasets)\n",
    "        triggers = {}\n",
    "        for channel in self._channels:\n",
    "            trigger = np.zeros(len(events), dtype='bool')\n",
    "            for t in self._triggers[channel]:\n",
    "                if t in events.HLT.fields:\n",
    "                    trigger = trigger | events.HLT[t]\n",
    "            triggers['trigger'+channel] = trigger\n",
    "            del trigger\n",
    "        \n",
    "        # add basic selection\n",
    "        goodmuon = (\n",
    "            (events.Muon.pt > 25)\n",
    "            & (abs(events.Muon.eta) < 2.4)\n",
    "            & events.Muon.mediumId\n",
    "        )\n",
    "        nmuons = ak.sum(goodmuon, axis=1)\n",
    "        lowptmuon = (\n",
    "            (events.Muon.pt > 10)\n",
    "            & (abs(events.Muon.eta) < 2.4)\n",
    "            & events.Muon.looseId\n",
    "        )\n",
    "        nlowptmuons = ak.sum(lowptmuon, axis=1)\n",
    "\n",
    "        goodelectron = (\n",
    "            (events.Electron.pt > 25)\n",
    "            & (abs(events.Electron.eta) < 2.5)\n",
    "            & (events.Electron.mvaFall17V2noIso_WP80)\n",
    "        )\n",
    "        nelectrons = ak.sum(goodelectron, axis=1)\n",
    "        lowptelectron = (\n",
    "            (events.Electron.pt > 10)\n",
    "            & (abs(events.Electron.eta) < 2.5)\n",
    "            & (events.Electron.cutBased >= events.Electron.LOOSE)\n",
    "        )\n",
    "        nlowptelectrons = ak.sum(lowptelectron, axis=1)\n",
    "        \n",
    "        # get candidate lepton\n",
    "        goodleptons = ak.concatenate([events.Muon[goodmuon], events.Electron[goodelectron]], axis=1)\n",
    "        candidatelep = ak.firsts(goodleptons[ak.argsort(goodleptons.pt)])\n",
    "        \n",
    "        # define isolation\n",
    "        lep_miniIso = candidatelep.miniPFRelIso_all\n",
    "        lep_relIso = candidatelep.pfRelIso03_all\n",
    "        mu_iso = ( ((candidatelep.pt < 55.) & (lep_relIso < 0.25)) | \n",
    "                     ((candidatelep.pt >= 55.) & (lep_miniIso < 0.1)) )\n",
    "        el_iso = ( ((candidatelep.pt < 120.) & (lep_relIso < 0.25)) |\n",
    "                   ((candidatelep.pt >= 120.) & (lep_miniIso < 0.1)) )\n",
    "           \n",
    "        # taus\n",
    "        goodtau = (\n",
    "            (events.Tau.pt > 20)\n",
    "            & (abs(events.Tau.eta) < 2.3)\n",
    "            & (events.Tau.idAntiEle >= 8)\n",
    "            & (events.Tau.idAntiMu >= 1)\n",
    "        )\n",
    "        ntaus = ak.sum(goodtau, axis=1)\n",
    "        \n",
    "        # get candidate jets\n",
    "        fatjets = events.FatJet\n",
    "        candidatefj = fatjets[\n",
    "            (fatjets.pt > 200) &\n",
    "            (abs(fatjets.eta) < 2.4)\n",
    "        ]\n",
    "            \n",
    "        met = events.MET\n",
    "        dphi_met_fj = abs(candidatefj.delta_phi(met))\n",
    "        dr_lep_fj = candidatefj.delta_r(candidatelep)\n",
    "            \n",
    "        # select jet closest to met\n",
    "        candidatefj = ak.firsts(candidatefj[ak.argmin(dphi_met_fj,axis=1,keepdims=True)])\n",
    "       \n",
    "        # do matching\n",
    "        if \"HToWW\" in dataset:\n",
    "            hWWlepqq_flavor,hWWlepqq_matched,hWWlepqq_nprongs,matchedH,genH,iswlepton,iswstarlepton = match_HWWlepqq(events.GenPart,candidatefj)\n",
    "            matchedH_pt = ak.firsts(matchedH.pt)\n",
    "            genH_pt = ak.firsts(genH.pt)\n",
    "        else:\n",
    "            hWWlepqq_flavor = ak.zeros_like(candidatefj.pt) \n",
    "            hWWlepqq_matched = ak.zeros_like(candidatefj.pt)\n",
    "            hWWlepqq_nprongs = ak.zeros_like(candidatefj.pt)\n",
    "            matchedH = ak.zeros_like(candidatefj.pt)\n",
    "            matchedH_pt = ak.zeros_like(candidatefj.pt)\n",
    "            genH = ak.zeros_like(candidatefj.pt)\n",
    "            genH_pt = ak.zeros_like(candidatefj.pt)\n",
    "            iswlepton = ak.ones_like(candidatefj.pt, dtype=bool)\n",
    "            iswstarlepton = ak.ones_like(candidatefj.pt, dtype=bool)\n",
    "        \n",
    "        # add selections\n",
    "        for channel in [\"e\",\"mu\"]:\n",
    "            selection.add('trigger'+channel, triggers['trigger'+channel] )\n",
    "            \n",
    "        # selection.add(\"iswlepton\", iswlepton)\n",
    "        # selection.add(\"iswstarlepton\", iswstarlepton)\n",
    "        selection.add('fjkin', candidatefj.pt > 200)\n",
    "        selection.add('onemuon', (nmuons == 1) & (nlowptmuons <= 1) & (nelectrons == 0) & (nlowptelectrons == 0) & (ntaus == 0))\n",
    "        selection.add('oneelectron', (nelectrons == 1) & (nlowptelectrons <= 1) & (nmuons == 0) & (nlowptmuons == 0) & (ntaus == 0))\n",
    "        # selection.add('muonkin', (candidatelep.pt > 30.) & abs(candidatelep.eta < 2.4))\n",
    "        # selection.add('electronkin', (candidatelep.pt > 40.) & abs(candidatelep.eta < 2.4))\n",
    "        # selection.add(\"muoniso\", mu_iso)\n",
    "        # selection.add(\"electroniso\", el_iso)\n",
    "\n",
    "        # define numerator and denominator\n",
    "        regions = {\"denominator\": {\"e\": [\"fjkin\",\"oneelectron\"],\n",
    "                                   \"mu\": [\"fjkin\",\"onemuon\"],\n",
    "                                  },\n",
    "                   \"numerator\": dict.fromkeys([\"e\",\"mu\"])\n",
    "                  }\n",
    "        # numerator is all the selection from denominator + trigger\n",
    "        for channel,region in regions[\"denominator\"].items():\n",
    "            regions[\"numerator\"][channel] = region + [\"trigger\"+channel]\n",
    "                    \n",
    "        def fill(region,channel):\n",
    "            selections = regions[region][channel]\n",
    "            cut = selection.all(*selections)\n",
    "            \n",
    "            output['jet'].fill(\n",
    "                channel=channel,\n",
    "                region=region,\n",
    "                jetpt=normalize(candidatefj.pt, cut),\n",
    "            )\n",
    "            output['lepton'].fill(\n",
    "                channel=channel,\n",
    "                region=region,\n",
    "                leppt=normalize(candidatelep.pt, cut),\n",
    "            )\n",
    "            output['higgs'].fill(\n",
    "                channel=channel,\n",
    "                region=region,\n",
    "                higgspt=normalize(matchedH_pt, cut),\n",
    "            )\n",
    "            \n",
    "        for region,chan in regions.items():\n",
    "            for channel in chan.keys():\n",
    "                fill(region,channel)\n",
    "\n",
    "        return {dataset: output}\n",
    "            \n",
    "    def postprocess(self, accumulator):\n",
    "        return accumulator"
   ]
  },
  {
   "cell_type": "markdown",
   "metadata": {},
   "source": [
    "Running processor locally (for one file):"
   ]
  },
  {
   "cell_type": "code",
   "execution_count": 4,
   "metadata": {},
   "outputs": [
    {
     "data": {
      "application/vnd.jupyter.widget-view+json": {
       "model_id": "d1827aaa3328478ca702ffbad42a73be",
       "version_major": 2,
       "version_minor": 0
      },
      "text/plain": [
       "HBox(children=(HTML(value='Preprocessing'), FloatProgress(value=0.0, max=1.0), HTML(value='')))"
      ]
     },
     "metadata": {},
     "output_type": "display_data"
    },
    {
     "name": "stdout",
     "output_type": "stream",
     "text": [
      "\n"
     ]
    },
    {
     "data": {
      "application/vnd.jupyter.widget-view+json": {
       "model_id": "4ca384e9858c4ccfa960bc793f12fab1",
       "version_major": 2,
       "version_minor": 0
      },
      "text/plain": [
       "HBox(children=(HTML(value='Processing'), FloatProgress(value=0.0, max=7.0), HTML(value='')))"
      ]
     },
     "metadata": {},
     "output_type": "display_data"
    },
    {
     "name": "stdout",
     "output_type": "stream",
     "text": [
      "\n"
     ]
    }
   ],
   "source": [
    "import uproot\n",
    "from coffea.nanoevents import NanoEventsFactory, NanoAODSchema, BaseSchema\n",
    "\n",
    "# define fileset\n",
    "fileset = {\"HToWW\": [\"data/nano_mc2017_1-130.root\"]}\n",
    "\n",
    "# make xrootd handler\n",
    "# uproot.open.defaults['xrootd_handler'] = uproot.source.xrootd.MultithreadedXRootDSource\n",
    "\n",
    "# define processor\n",
    "p = TriggerEfficienciesProcessor(triggers=[\"nominal\"])\n",
    "\n",
    "executor = processor.IterativeExecutor(compression=1, status=True, workers=1)\n",
    "#executor = processor.FuturesExecutor(compression=1, status=True, workers=1)\n",
    "\n",
    "run = processor.Runner(executor=executor,savemetrics=True,chunksize=10000,schema=NanoAODSchema)\n",
    "\n",
    "out,metrics = run(fileset,'Events',processor_instance=p)"
   ]
  },
  {
   "cell_type": "code",
   "execution_count": 5,
   "metadata": {},
   "outputs": [],
   "source": [
    "import pickle\n",
    "\n",
    "filehandler = open(f\"test_hww.pkl\", \"wb\")\n",
    "pickle.dump(out, filehandler)\n",
    "filehandler.close()"
   ]
  },
  {
   "cell_type": "markdown",
   "metadata": {},
   "source": [
    "Taking a look at the output:"
   ]
  },
  {
   "cell_type": "code",
   "execution_count": 6,
   "metadata": {},
   "outputs": [
    {
     "data": {
      "text/plain": [
       "{'jet': Hist(\n",
       "   StrCategory(['e', 'mu'], growth=True),\n",
       "   StrCategory(['numerator', 'denominator']),\n",
       "   Regular(30, 200, 700, name='jetpt', label='Jet $p_T$ [GeV]'),\n",
       "   storage=Double()) # Sum: 596.0,\n",
       " 'higgs': Hist(\n",
       "   StrCategory(['e', 'mu'], growth=True),\n",
       "   StrCategory(['numerator', 'denominator']),\n",
       "   Regular(50, 10, 800, name='higgspt', label='matched H $p_T$ [GeV]'),\n",
       "   storage=Double()) # Sum: 308.0 (596.0 with flow),\n",
       " 'lepton': Hist(\n",
       "   StrCategory(['e', 'mu'], growth=True),\n",
       "   StrCategory(['numerator', 'denominator']),\n",
       "   Regular(30, 10, 200, name='leppt', label='Lepton $p_T$ [GeV]'),\n",
       "   storage=Double()) # Sum: 565.0 (596.0 with flow)}"
      ]
     },
     "execution_count": 6,
     "metadata": {},
     "output_type": "execute_result"
    }
   ],
   "source": [
    "out['HToWW']"
   ]
  },
  {
   "cell_type": "code",
   "execution_count": 7,
   "metadata": {},
   "outputs": [
    {
     "data": {
      "text/html": [
       "<html>\n",
       "<div style=\"display:flex; align-items:center;\">\n",
       "<div style=\"width:290px;\">\n",
       "<svg xmlns=\"http://www.w3.org/2000/svg\" viewBox=\"-10 -10 220 220\">\n",
       "<rect x=\"0\" y=\"0\" width=\"160\" height=\"160\" style=\"fill:white;opacity:.5;stroke-width:2;stroke:currentColor;\"/>\n",
       "<rect x=\"20\" y=\"20\" width=\"160\" height=\"160\" style=\"fill:white;opacity:.5;stroke-width:2;stroke:currentColor;\"/>\n",
       "<rect x=\"40\" y=\"40\" width=\"160\" height=\"160\" style=\"fill:white;opacity:.5;stroke-width:2;stroke:currentColor;\"/>\n",
       "<text x=\"120.0\" y=\"120.0\" style=\"font-size: 26pt; font-family: verdana; font-style: bold; fill: black;\" text-anchor=\"middle\" alignment-baseline=\"middle\">\n",
       "3D\n",
       "</text>\n",
       "</svg>\n",
       "</div>\n",
       "<div style=\"flex=grow:1;\">\n",
       "StrCategory(['e', 'mu'], growth=True)<br/>\n",
       "StrCategory(['numerator', 'denominator'])<br/>\n",
       "Regular(30, 200, 700, name='jetpt', label='Jet $p_T$ [GeV]')<br/>\n",
       "<hr style=\"margin-top:.2em; margin-bottom:.2em;\"/>\n",
       "Double() Σ=596.0\n",
       "\n",
       "</div>\n",
       "</div>\n",
       "</html>"
      ],
      "text/plain": [
       "Hist(\n",
       "  StrCategory(['e', 'mu'], growth=True),\n",
       "  StrCategory(['numerator', 'denominator']),\n",
       "  Regular(30, 200, 700, name='jetpt', label='Jet $p_T$ [GeV]'),\n",
       "  storage=Double()) # Sum: 596.0"
      ]
     },
     "execution_count": 7,
     "metadata": {},
     "output_type": "execute_result"
    }
   ],
   "source": [
    "out['HToWW']['jet']"
   ]
  },
  {
   "cell_type": "code",
   "execution_count": 8,
   "metadata": {},
   "outputs": [
    {
     "data": {
      "text/html": [
       "<html>\n",
       "<div style=\"display:flex; align-items:center;\">\n",
       "<div style=\"width:290px;\">\n",
       "<svg xmlns=\"http://www.w3.org/2000/svg\" viewBox=\"-10 -105 270 120\">\n",
       "<line x1=\"-5\" y1=\"0\" x2=\"255\" y2=\"0\" style=\"fill:none;stroke-width:2;stroke:currentColor\"/>\n",
       "<text text-anchor=\"middle\" x=\"0\" y=\"15\" style=\"fill:currentColor;\">\n",
       "200\n",
       "</text>\n",
       "<text text-anchor=\"middle\" x=\"250\" y=\"15\" style=\"fill:currentColor;\">\n",
       "700\n",
       "</text>\n",
       "<text text-anchor=\"middle\" x=\"125.0\" y=\"15\" style=\"fill:currentColor;\">\n",
       "Jet $p_T$ [GeV]\n",
       "</text>\n",
       "<polyline points=\"  0,0   0,-100 8.33333,-100 8.33333,-85.7 16.6667,-85.7 16.6667,-60.7  25,-60.7  25,-57.1 33.3333,-57.1 33.3333,-21.4 41.6667,-21.4 41.6667,-17.9  50,-17.9  50,-7.14 58.3333,-7.14 58.3333,-14.3 66.6667,-14.3 66.6667,-7.14  75,-7.14  75,-3.57 83.3333,-3.57 83.3333,-14.3 91.6667,-14.3 91.6667,-7.14 100,-7.14 100,-0 108.333,-0 108.333,-0 116.667,-0 116.667,-0 125,-0 125,-3.57 133.333,-3.57 133.333,-0 141.667,-0 141.667,-0 150,-0 150,-0 158.333,-0 158.333,-0 166.667,-0 166.667,-0 175,-0 175,-0 183.333,-0 183.333,-0 191.667,-0 191.667,-0 200,-0 200,-0 208.333,-0 208.333,-0 216.667,-0 216.667,-0 225,-0 225,-0 233.333,-0 233.333,-0 241.667,-0 241.667,-0 250,-0 250,0\" style=\"fill:none; stroke:currentColor;\"/>\n",
       "</svg>\n",
       "</div>\n",
       "<div style=\"flex=grow:1;\">\n",
       "Regular(30, 200, 700, name='jetpt', label='Jet $p_T$ [GeV]')<br/>\n",
       "<hr style=\"margin-top:.2em; margin-bottom:.2em;\"/>\n",
       "Double() Σ=112.0\n",
       "\n",
       "</div>\n",
       "</div>\n",
       "</html>"
      ],
      "text/plain": [
       "Hist(Regular(30, 200, 700, name='jetpt', label='Jet $p_T$ [GeV]'), storage=Double()) # Sum: 112.0"
      ]
     },
     "execution_count": 8,
     "metadata": {},
     "output_type": "execute_result"
    }
   ],
   "source": [
    "jetpt_den_e = out['HToWW']['jet'][{\"region\": \"denominator\",\"channel\": \"e\"}]\n",
    "jetpt_den_e"
   ]
  },
  {
   "cell_type": "code",
   "execution_count": 9,
   "metadata": {},
   "outputs": [
    {
     "data": {
      "text/html": [
       "<html>\n",
       "<div style=\"display:flex; align-items:center;\">\n",
       "<div style=\"width:290px;\">\n",
       "<svg xmlns=\"http://www.w3.org/2000/svg\" viewBox=\"-10 -105 270 120\">\n",
       "<line x1=\"-5\" y1=\"0\" x2=\"255\" y2=\"0\" style=\"fill:none;stroke-width:2;stroke:currentColor\"/>\n",
       "<text text-anchor=\"middle\" x=\"0\" y=\"15\" style=\"fill:currentColor;\">\n",
       "200\n",
       "</text>\n",
       "<text text-anchor=\"middle\" x=\"250\" y=\"15\" style=\"fill:currentColor;\">\n",
       "700\n",
       "</text>\n",
       "<text text-anchor=\"middle\" x=\"125.0\" y=\"15\" style=\"fill:currentColor;\">\n",
       "Jet $p_T$ [GeV]\n",
       "</text>\n",
       "<polyline points=\"  0,0   0,-70 8.33333,-70 8.33333,-100 16.6667,-100 16.6667,-60  25,-60  25,-55 33.3333,-55 33.3333,-25 41.6667,-25 41.6667,-10  50,-10  50,-10 58.3333,-10 58.3333,-20 66.6667,-20 66.6667,-10  75,-10  75,-5 83.3333,-5 83.3333,-15 91.6667,-15 91.6667,-5 100,-5 100,-0 108.333,-0 108.333,-0 116.667,-0 116.667,-0 125,-0 125,-5 133.333,-5 133.333,-0 141.667,-0 141.667,-0 150,-0 150,-0 158.333,-0 158.333,-0 166.667,-0 166.667,-0 175,-0 175,-0 183.333,-0 183.333,-0 191.667,-0 191.667,-0 200,-0 200,-0 208.333,-0 208.333,-0 216.667,-0 216.667,-0 225,-0 225,-0 233.333,-0 233.333,-0 241.667,-0 241.667,-0 250,-0 250,0\" style=\"fill:none; stroke:currentColor;\"/>\n",
       "</svg>\n",
       "</div>\n",
       "<div style=\"flex=grow:1;\">\n",
       "Regular(30, 200, 700, name='jetpt', label='Jet $p_T$ [GeV]')<br/>\n",
       "<hr style=\"margin-top:.2em; margin-bottom:.2em;\"/>\n",
       "Double() Σ=78.0\n",
       "\n",
       "</div>\n",
       "</div>\n",
       "</html>"
      ],
      "text/plain": [
       "Hist(Regular(30, 200, 700, name='jetpt', label='Jet $p_T$ [GeV]'), storage=Double()) # Sum: 78.0"
      ]
     },
     "execution_count": 9,
     "metadata": {},
     "output_type": "execute_result"
    }
   ],
   "source": [
    "jetpt_num_e = out['HToWW']['jet'][{\"region\": \"numerator\",\"channel\": \"e\"}]\n",
    "jetpt_num_e"
   ]
  },
  {
   "cell_type": "code",
   "execution_count": 10,
   "metadata": {},
   "outputs": [
    {
     "name": "stdout",
     "output_type": "stream",
     "text": [
      "                  +----------------------------------------------------------+\n",
      "[ -inf,   200) 0  |                                                          |\n",
      "[  200, 216.7) 28 |========================================================= |\n",
      "[216.7, 233.3) 24 |=================================================         |\n",
      "[233.3,   250) 17 |===================================                       |\n",
      "[  250, 266.7) 16 |=================================                         |\n",
      "[266.7, 283.3) 6  |============                                              |\n",
      "[283.3,   300) 5  |==========                                                |\n",
      "[  300, 316.7) 2  |====                                                      |\n",
      "[316.7, 333.3) 4  |========                                                  |\n",
      "[333.3,   350) 2  |====                                                      |\n",
      "[  350, 366.7) 1  |==                                                        |\n",
      "[366.7, 383.3) 4  |========                                                  |\n",
      "[383.3,   400) 2  |====                                                      |\n",
      "[  400, 416.7) 0  |                                                          |\n",
      "[416.7, 433.3) 0  |                                                          |\n",
      "[433.3,   450) 0  |                                                          |\n",
      "[  450, 466.7) 1  |==                                                        |\n",
      "[466.7, 483.3) 0  |                                                          |\n",
      "[483.3,   500) 0  |                                                          |\n",
      "[  500, 516.7) 0  |                                                          |\n",
      "[516.7, 533.3) 0  |                                                          |\n",
      "[533.3,   550) 0  |                                                          |\n",
      "[  550, 566.7) 0  |                                                          |\n",
      "[566.7, 583.3) 0  |                                                          |\n",
      "[583.3,   600) 0  |                                                          |\n",
      "[  600, 616.7) 0  |                                                          |\n",
      "[616.7, 633.3) 0  |                                                          |\n",
      "[633.3,   650) 0  |                                                          |\n",
      "[  650, 666.7) 0  |                                                          |\n",
      "[666.7, 683.3) 0  |                                                          |\n",
      "[683.3,   700) 0  |                                                          |\n",
      "[  700,   inf) 0  |                                                          |\n",
      "                  +----------------------------------------------------------+\n"
     ]
    }
   ],
   "source": [
    "print(jetpt_den_e)"
   ]
  },
  {
   "cell_type": "code",
   "execution_count": 11,
   "metadata": {},
   "outputs": [
    {
     "name": "stdout",
     "output_type": "stream",
     "text": [
      "[28. 24. 17. 16.  6.  5.  2.  4.  2.  1.  4.  2.  0.  0.  0.  1.  0.  0.\n",
      "  0.  0.  0.  0.  0.  0.  0.  0.  0.  0.  0.  0.]\n"
     ]
    }
   ],
   "source": [
    "print(jetpt_den_e.view())"
   ]
  },
  {
   "cell_type": "code",
   "execution_count": 12,
   "metadata": {},
   "outputs": [],
   "source": [
    "import matplotlib.pyplot as plt\n",
    "import mplhep as hep\n",
    "from hist.intervals import clopper_pearson_interval\n"
   ]
  },
  {
   "cell_type": "code",
   "execution_count": 13,
   "metadata": {},
   "outputs": [
    {
     "name": "stderr",
     "output_type": "stream",
     "text": [
      "/Users/cmantill/miniconda3/envs/hww/lib/python3.7/site-packages/ipykernel_launcher.py:5: RuntimeWarning: invalid value encountered in true_divide\n",
      "  \"\"\"\n"
     ]
    },
    {
     "data": {
      "text/plain": [
       "Text(0.5, 1.0, 'Candidate jet $p_T$ GeV')"
      ]
     },
     "execution_count": 13,
     "metadata": {},
     "output_type": "execute_result"
    },
    {
     "data": {
      "image/png": "[encoded data removed]",
      "text/plain": [
       "<Figure size 432x288 with 1 Axes>"
      ]
     },
     "metadata": {
      "needs_background": "light"
     },
     "output_type": "display_data"
    }
   ],
   "source": [
    "fig, ax = plt.subplots(1, 1)\n",
    "\n",
    "hep.histplot(jetpt_num_e/jetpt_den_e, \n",
    "             # yerr is the relative shift from the y value\n",
    "             yerr=abs(clopper_pearson_interval(jetpt_num_e.view(), jetpt_den_e.view()) - jetpt_num_e.view()/jetpt_den_e.view()),\n",
    "             ax = ax,\n",
    "             histtype='errorbar', color='k', capsize=4, elinewidth=1,           \n",
    ")\n",
    "#ax.set_ylim(0, 1)\n",
    "ax.set_xlim(200, 1000)\n",
    "ax.set_title(f'Candidate jet $p_T$ GeV')"
   ]
  },
  {
   "cell_type": "code",
   "execution_count": 14,
   "metadata": {},
   "outputs": [
    {
     "name": "stderr",
     "output_type": "stream",
     "text": [
      "/Users/cmantill/miniconda3/envs/hww/lib/python3.7/site-packages/ipykernel_launcher.py:8: RuntimeWarning: invalid value encountered in true_divide\n",
      "  \n"
     ]
    },
    {
     "data": {
      "text/plain": [
       "Text(0.5, 1.0, 'Candidate jet $p_T$ GeV')"
      ]
     },
     "execution_count": 14,
     "metadata": {},
     "output_type": "execute_result"
    },
    {
     "data": {
      "image/png": "[encoded data removed]",
      "text/plain": [
       "<Figure size 432x288 with 1 Axes>"
      ]
     },
     "metadata": {
      "needs_background": "light"
     },
     "output_type": "display_data"
    }
   ],
   "source": [
    "fig, ax = plt.subplots(1, 1)\n",
    "\n",
    "num = out['HToWW']['higgs'][{\"region\": \"numerator\",\"channel\": \"e\"}]\n",
    "den = out['HToWW']['higgs'][{\"region\": \"denominator\",\"channel\": \"e\"}]\n",
    "\n",
    "hep.histplot(num/den, \n",
    "             # yerr is the relative shift from the y value\n",
    "             yerr=abs(clopper_pearson_interval(num.view(), den.view()) - num.view()/den.view()),\n",
    "             ax = ax,\n",
    "             histtype='errorbar', color='k', capsize=4, elinewidth=1,           \n",
    ")\n",
    "#ax.set_ylim(0, 1)\n",
    "ax.set_title(f'Candidate jet $p_T$ GeV')"
   ]
  },
  {
   "cell_type": "code",
   "execution_count": null,
   "metadata": {},
   "outputs": [],
   "source": []
  }
 ],
 "metadata": {
  "kernelspec": {
   "display_name": "Python 3",
   "language": "python",
   "name": "python3"
  },
  "language_info": {
   "codemirror_mode": {
    "name": "ipython",
    "version": 3
   },
   "file_extension": ".py",
   "mimetype": "text/x-python",
   "name": "python",
   "nbconvert_exporter": "python",
   "pygments_lexer": "ipython3",
   "version": "3.7.9"
  }
 },
 "nbformat": 4,
 "nbformat_minor": 4
}
