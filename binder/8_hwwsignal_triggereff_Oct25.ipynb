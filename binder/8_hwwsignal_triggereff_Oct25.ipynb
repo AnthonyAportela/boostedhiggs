{
 "cells": [
  {
   "cell_type": "markdown",
   "metadata": {},
   "source": [
    "# Trigger efficiency in signal files \n",
    "\n",
    "In this notebook we explore how efficient trigger selections are on our signal simulation file.\n",
    "\n",
    "We first download one file from a simulated signal dataset (Higgs to WW in the lepton-neutrino-quark-quark final state):\n",
    "\n",
    "```\n",
    "mkdir data/\n",
    "scp -r cmslpc-sl7.fnal.gov:/eos/uscms/store/user/lpcdihiggsboost/cmantill/PFNano/2017_UL_ak15/GluGluHToWWToLNuQQ_M125_TuneCP5_PSweight_13TeV-powheg2-jhugen727-pythia8/RunIISummer19UL17Jun23-106X_mc2017_realistic_v6-v2/210623_225150/0000/nano_mc2017_1-130.root data/nano_mc2017_1-130.root\n",
    "```"
   ]
  },
  {
   "cell_type": "markdown",
   "metadata": {},
   "source": [
    "Then, we import some libraries:"
   ]
  },
  {
   "cell_type": "code",
   "execution_count": 14,
   "metadata": {},
   "outputs": [],
   "source": [
    "import awkward as ak\n",
    "import matplotlib.pyplot as plt\n",
    "import mplhep as hep\n",
    "from hist.intervals import clopper_pearson_interval\n",
    "\n",
    "# we suppress ROOT warnings where our input ROOT tree has duplicate branches - these are handled correctly.\n",
    "import warnings\n",
    "warnings.filterwarnings(\"ignore\", message=\"Found duplicate branch \")"
   ]
  },
  {
   "cell_type": "markdown",
   "metadata": {},
   "source": [
    "Define the matching function:"
   ]
  },
  {
   "cell_type": "code",
   "execution_count": 2,
   "metadata": {},
   "outputs": [],
   "source": [
    "def getParticles(genparticles,lowid=22,highid=25,flags=['fromHardProcess', 'isLastCopy']):\n",
    "    \"\"\"\n",
    "    returns the particle objects that satisfy a low id, \n",
    "    high id condition and have certain flags\n",
    "    \"\"\"\n",
    "    absid = abs(genparticles.pdgId)\n",
    "    return genparticles[\n",
    "        ((absid >= lowid) & (absid <= highid))\n",
    "        & genparticles.hasFlags(flags)\n",
    "    ]\n",
    "\n",
    "def match_HWWlepqq(genparticles,candidatefj):\n",
    "    \"\"\"\n",
    "    return the number of matched objects (hWW*),daughters, \n",
    "    and gen flavor (enuqq, munuqq, taunuqq) \n",
    "    \"\"\"\n",
    "    higgs = getParticles(genparticles,25)\n",
    "    is_hWW = ak.all(abs(higgs.children.pdgId)==24,axis=2)\n",
    "\n",
    "    higgs = higgs[is_hWW]\n",
    "    higgs_wstar = higgs.children[ak.argmin(higgs.children.mass,axis=2,keepdims=True)]\n",
    "    higgs_w = higgs.children[ak.argmax(higgs.children.mass,axis=2,keepdims=True)]\n",
    "    \n",
    "    prompt_electron = getParticles(genparticles,11,11,['isPrompt','isLastCopy'])\n",
    "    prompt_muon = getParticles(genparticles,13,13,['isPrompt', 'isLastCopy'])\n",
    "    prompt_tau = getParticles(genparticles,15,15,['isPrompt', 'isLastCopy'])\n",
    "    prompt_q = getParticles(genparticles,0,5,['fromHardProcess', 'isLastCopy'])\n",
    "    prompt_q = prompt_q[abs(prompt_q.distinctParent.pdgId) == 24]\n",
    "    \n",
    "    dr_fj_quarks = candidatefj.delta_r(prompt_q)\n",
    "    dr_fj_electrons = candidatefj.delta_r(prompt_electron)\n",
    "    dr_fj_muons = candidatefj.delta_r(prompt_muon)\n",
    "    dr_fj_taus = candidatefj.delta_r(prompt_tau)\n",
    "    dr_daughters = ak.concatenate([dr_fj_quarks,dr_fj_electrons,dr_fj_muons,dr_fj_taus],axis=1)\n",
    "    hWWlepqq_nprongs = ak.sum(dr_daughters<0.8,axis=1)\n",
    "    \n",
    "    n_electrons = ak.sum(prompt_electron.pt>0,axis=1)\n",
    "    n_muons = ak.sum(prompt_muon.pt>0,axis=1)\n",
    "    n_taus = ak.sum(prompt_tau.pt>0,axis=1)\n",
    "    n_quarks = ak.sum(prompt_q.pt>0,axis=1)\n",
    "\n",
    "    # 4(elenuqq),6(munuqq),8(taunuqq)\n",
    "    hWWlepqq_flavor = (n_quarks==2)*1 + (n_electrons==1)*3 + (n_muons==1)*5 + (n_taus==1)*7\n",
    "    \n",
    "    matchedH = candidatefj.nearest(higgs, axis=1, threshold=0.8)\n",
    "    matchedW = candidatefj.nearest(higgs_w, axis=1, threshold=0.8)\n",
    "    matchedWstar = candidatefj.nearest(higgs_wstar, axis=1, threshold=0.8) \n",
    "\n",
    "    # 1 (H only), 4(W), 6(W star), 9(H, W and Wstar)\n",
    "    hWWlepqq_matched = (\n",
    "        (ak.sum(matchedH.pt > 0, axis=1)==1) * 1 \n",
    "        + (ak.sum(ak.flatten(matchedW.pt > 0, axis=2), axis=1)==1) * 3 \n",
    "        + (ak.sum(ak.flatten(matchedWstar.pt > 0, axis=2), axis=1)==1) * 5\n",
    "    )\n",
    "    \n",
    "    # leptons matched\n",
    "    dr_leptons = ak.concatenate([dr_fj_electrons,dr_fj_muons], axis=1)\n",
    "    matched_leptons = dr_leptons < 0.8\n",
    "    \n",
    "    leptons = ak.concatenate([prompt_electron, prompt_muon], axis=1)\n",
    "    leptons = leptons[matched_leptons]\n",
    "    \n",
    "    # leptons coming from W or W*\n",
    "    leptons_mass = ak.firsts(leptons.distinctParent.mass)\n",
    "    higgs_w_mass = ak.firsts(ak.flatten(higgs_w.mass))[ak.firsts(leptons.pt > 0)]\n",
    "    higgs_wstar_mass = ak.firsts(ak.flatten(higgs_wstar.mass))[ak.firsts(leptons.pt > 0)]\n",
    "\n",
    "    iswlepton = (leptons_mass == higgs_w_mass)\n",
    "    iswstarlepton = (leptons_mass == higgs_wstar_mass)\n",
    "    \n",
    "    # let's return only:\n",
    "    # - matchedH (the higgs boson that is matched to the jet)\n",
    "    # - (iswlepton,iswstarlepton)\n",
    "    return matchedH,iswlepton,iswstarlepton"
   ]
  },
  {
   "cell_type": "markdown",
   "metadata": {},
   "source": [
    "Now, let's define a processor:"
   ]
  },
  {
   "cell_type": "code",
   "execution_count": 6,
   "metadata": {},
   "outputs": [],
   "source": [
    "import numpy as np\n",
    "import hist as hist2\n",
    "from coffea import processor\n",
    "from coffea.nanoevents.methods import candidate, vector\n",
    "from coffea.analysis_tools import Weights, PackedSelection\n",
    "\n",
    "# function to normalize arrays after a cut or selection\n",
    "def normalize(val, cut=None):\n",
    "    if cut is None:\n",
    "        ar = ak.to_numpy(ak.fill_none(val, np.nan))\n",
    "        return ar\n",
    "    else:\n",
    "        ar = ak.to_numpy(ak.fill_none(val[cut], np.nan))\n",
    "        return ar\n",
    "\n",
    "# (1) how efficient are triggers on your signal. You don't want your triggers to not select most of your signal events\n",
    "# Which triggers you should include in the selection?\n",
    "\n",
    "# (2) how efficient are triggers on your data (un-labeled)?\n",
    "  # - measure this in a region that is somewhat similar to the signature that you are looking for\n",
    "# Two classic approaches:\n",
    "# - measure trigger efficiency in data\n",
    "#    - Apply \"trigger efficiency\" as a weight to your MC \n",
    "# - measure trigger efficiency in data, measure trigger efficiency in MC (all background?): \n",
    "#    - Scale factor: (eff_data)/(eff_mc)\n",
    "#    - Apply trigger to data\n",
    "#    - Apply \"Simulation of trigger\" to MC\n",
    "#    - Apply SF to MC\n",
    "    \n",
    "class TriggerEfficienciesProcessor(processor.ProcessorABC):\n",
    "    \"\"\" Accumulates histograms from all input events: 1) before triggers, and 2) after triggers \"\"\"\n",
    "    def __init__(self, triggers=[\"nominal\",\"vvl\",\"lepjet\",\"jet\"]):\n",
    "        super(TriggerEfficienciesProcessor, self).__init__()\n",
    "        \n",
    "        # full list of trigger that CAN be tested for each channel\n",
    "        # first let's test for 2017 ONLY (we need to test 2016/2018)\n",
    "        # e.g. list for reference: https://github.com/drankincms/boostedhiggs/blob/dev/boostedhiggs/htautauprocessor_trig_gen.py\n",
    "        trigger_dict = {\n",
    "            \"e_nominal\": [\n",
    "                          \"Ele35_WPTight_Gsf\", # electron trigger with isolation\n",
    "                          \"Ele115_CaloIdVT_GsfTrkIdT\", # electron trigger without isolation\n",
    "                        ],\n",
    "            \"e_jet\": [\"Ele50_CaloIdVT_GsfTrkIdT_PFJet165\"],\n",
    "            \"e_vvl\": [\"Ele15_IsoVVVL_PFHT600\",\n",
    "                      \"Ele15_IsoVVVL_PFHT450_PFMET50\",\n",
    "                    ],\n",
    "            \"jet\": [\"PFHT1050\",\n",
    "                    \"AK8PFJet400_TrimMass30\",\n",
    "                    \"AK8PFJet420_TrimMass30\",\n",
    "                    \"AK8PFHT800_TrimMass50\",\n",
    "                    \"PFJet500\",\n",
    "                    \"AK8PFJet500\",\n",
    "                   ],\n",
    "            \"mu_nominal\": [\n",
    "                           \"IsoMu27\", # muon trigger with isolation\n",
    "                           \"Mu50\", # muon trigger without isolation\n",
    "                          ],\n",
    "            \"mu_vvl\": [\"Mu15_IsoVVVL_PFHT450_PFMET50\",\n",
    "                       \"Mu15_IsoVVVL_PFHT600\",\n",
    "                      ],\n",
    "            \n",
    "        }\n",
    "         \n",
    "        # list of triggers that WILL be tested\n",
    "        self._triggers = {\"e\": [],\n",
    "                          \"mu\": [],\n",
    "                          # \"had\": [],\n",
    "                         }\n",
    "        if \"nominal\" in triggers:\n",
    "            self._triggers[\"e\"] += trigger_dict[\"e_nominal\"]\n",
    "            self._triggers[\"mu\"] += trigger_dict[\"mu_nominal\"]\n",
    "            # self._triggers[\"had\"] = \"jet\"\n",
    "        if \"vvl\" in triggers:\n",
    "            self._triggers[\"e\"] += trigger_dict[\"e_vvl\"]\n",
    "            self._triggers[\"mu\"] += trigger_dict[\"mu_vvl\"]\n",
    "        if \"lepjet\" in triggers:\n",
    "            self._triggers[\"e\"] += trigger_dict[\"e_jet\"]\n",
    "        if \"jet\" in triggers:\n",
    "            self._triggers[\"e\"] += trigger_dict[\"jet\"]\n",
    "            self._triggers[\"mu\"] += trigger_dict[\"jet\"]\n",
    "        \n",
    "        jetpt_axis = hist2.axis.Regular(30, 200, 700, name='jetpt', label=r'Jet $p_T$ [GeV]')\n",
    "        # jeteta_axis = hist2.axis.Regular(30, -2.4, 2.4, name='jeteta', label=r'Jet eta')\n",
    "        jetmsoftdrop_axis = hist2.axis.Regular(20, 20, 200, name='jetmsoftdrop', label=r'Jet soft drop mass')   #candidatejet.msoftdrop\n",
    "        jetlepmass_axis = hist2.axis.Regular(20, 20, 200, name='jetlepmass', label=r'Mass of the (jet-lepton) system')   #(candidatefj - candidatelep).mass\n",
    "        leppt_axis = hist2.axis.Regular(30, 10, 200, name='leppt', label=r'Lepton $p_T$ [GeV]')\n",
    "        hpt_axis = hist2.axis.Regular(50, 10, 800, name='higgspt', label=r'matched H $p_T$ [GeV]')\n",
    "\n",
    "        region_cat = hist2.axis.StrCategory([\"numerator\",\"denominator\"], name=\"region\")\n",
    "        channel_cat = hist2.axis.StrCategory([], name='channel', growth=True)\n",
    "        \n",
    "        self.make_output = lambda: {\n",
    "            \"jet\": hist2.Hist(\n",
    "                channel_cat,\n",
    "                region_cat,\n",
    "                jetpt_axis,\n",
    "                # jeteta_axis,\n",
    "                jetmsoftdrop_axis,\n",
    "                jetlepmass_axis,\n",
    "            ),\n",
    "            \"lepton\": hist2.Hist(\n",
    "                channel_cat,\n",
    "                region_cat,\n",
    "                leppt_axis,\n",
    "            ),\n",
    "            \"higgs\": hist2.Hist(\n",
    "                channel_cat,\n",
    "                region_cat,\n",
    "                hpt_axis,\n",
    "            )\n",
    "        }\n",
    "        \n",
    "        self._channels = [\"e\",\"mu\"]\n",
    "    \n",
    "    def process(self, events):\n",
    "        \"\"\" Returns pre- (den) and post- (num) trigger histograms from input NanoAOD events \"\"\"\n",
    "        dataset = events.metadata['dataset']\n",
    "        selection = PackedSelection()\n",
    "        isRealData = not hasattr(events, \"genWeight\")\n",
    "        nevents = len(events)\n",
    "        \n",
    "        # make output\n",
    "        output = self.make_output()\n",
    "        \n",
    "        # apply trigger (to all datasets)\n",
    "        triggers = {}\n",
    "        for channel in self._channels:\n",
    "            trigger = np.zeros(len(events), dtype='bool')\n",
    "            for t in self._triggers[channel]:\n",
    "                if t in events.HLT.fields:\n",
    "                    trigger = trigger | events.HLT[t]\n",
    "            triggers['trigger'+channel] = trigger\n",
    "            del trigger\n",
    "        \n",
    "        # add basic selection\n",
    "        goodmuon = (\n",
    "            (events.Muon.pt > 25)\n",
    "            & (abs(events.Muon.eta) < 2.4)\n",
    "            & events.Muon.mediumId\n",
    "        )\n",
    "        nmuons = ak.sum(goodmuon, axis=1)\n",
    "        lowptmuon = (\n",
    "            (events.Muon.pt > 10)\n",
    "            & (abs(events.Muon.eta) < 2.4)\n",
    "            & events.Muon.looseId\n",
    "        )\n",
    "        nlowptmuons = ak.sum(lowptmuon, axis=1)\n",
    "\n",
    "        goodelectron = (\n",
    "            (events.Electron.pt > 25)\n",
    "            & (abs(events.Electron.eta) < 2.5)\n",
    "            & (events.Electron.mvaFall17V2noIso_WP80)\n",
    "        )\n",
    "        nelectrons = ak.sum(goodelectron, axis=1)\n",
    "        lowptelectron = (\n",
    "            (events.Electron.pt > 10)\n",
    "            & (abs(events.Electron.eta) < 2.5)\n",
    "            & (events.Electron.cutBased >= events.Electron.LOOSE)\n",
    "        )\n",
    "        nlowptelectrons = ak.sum(lowptelectron, axis=1)\n",
    "        \n",
    "        # get candidate lepton\n",
    "        goodleptons = ak.concatenate([events.Muon[goodmuon], events.Electron[goodelectron]], axis=1)\n",
    "        candidatelep = ak.firsts(goodleptons[ak.argsort(goodleptons.pt)])\n",
    "        \n",
    "        # define isolation\n",
    "        lep_miniIso = candidatelep.miniPFRelIso_all\n",
    "        lep_relIso = candidatelep.pfRelIso03_all\n",
    "        mu_iso = ( ((candidatelep.pt < 55.) & (lep_relIso < 0.25)) | \n",
    "                     ((candidatelep.pt >= 55.) & (lep_miniIso < 0.1)) )\n",
    "        el_iso = ( ((candidatelep.pt < 120.) & (lep_relIso < 0.25)) |\n",
    "                   ((candidatelep.pt >= 120.) & (lep_miniIso < 0.1)) )\n",
    "           \n",
    "        # taus\n",
    "        goodtau = (\n",
    "            (events.Tau.pt > 20)\n",
    "            & (abs(events.Tau.eta) < 2.3)\n",
    "            & (events.Tau.idAntiEle >= 8)\n",
    "            & (events.Tau.idAntiMu >= 1)\n",
    "        )\n",
    "        ntaus = ak.sum(goodtau, axis=1)\n",
    "        \n",
    "        # get candidate jets\n",
    "        fatjets = events.FatJet\n",
    "        candidatefj = fatjets[\n",
    "            (fatjets.pt > 200) &\n",
    "            (abs(fatjets.eta) < 2.4)\n",
    "        ]\n",
    "            \n",
    "        met = events.MET\n",
    "        dphi_met_fj = abs(candidatefj.delta_phi(met))\n",
    "        dr_lep_fj = candidatefj.delta_r(candidatelep)\n",
    "            \n",
    "        # select jet closest to met\n",
    "        candidatefj = ak.firsts(candidatefj[ak.argmin(dphi_met_fj,axis=1,keepdims=True)])\n",
    "       \n",
    "        # do matching\n",
    "        if \"HToWW\" in dataset:\n",
    "            matchedH,iswlepton,iswstarlepton = match_HWWlepqq(events.GenPart,candidatefj)\n",
    "            matchedH_pt = ak.firsts(matchedH.pt)\n",
    "        else:\n",
    "            matchedH_pt = ak.zeros_like(candidatefj.pt)\n",
    "            iswlepton = ak.ones_like(candidatefj.pt, dtype=bool)\n",
    "            iswstarlepton = ak.ones_like(candidatefj.pt, dtype=bool)\n",
    "        \n",
    "        # add selections\n",
    "        for channel in [\"e\",\"mu\"]:\n",
    "            selection.add('trigger'+channel, triggers['trigger'+channel] )\n",
    "            \n",
    "        # selection.add(\"iswlepton\", iswlepton)\n",
    "        # selection.add(\"iswstarlepton\", iswstarlepton)\n",
    "        selection.add('fjkin', candidatefj.pt > 200)\n",
    "        selection.add('onemuon', (nmuons == 1) & (nlowptmuons <= 1) & (nelectrons == 0) & (nlowptelectrons == 0) & (ntaus == 0))\n",
    "        selection.add('oneelectron', (nelectrons == 1) & (nlowptelectrons <= 1) & (nmuons == 0) & (nlowptmuons == 0) & (ntaus == 0))\n",
    "        # selection.add('muonkin', (candidatelep.pt > 30.) & abs(candidatelep.eta < 2.4))\n",
    "        # selection.add('electronkin', (candidatelep.pt > 40.) & abs(candidatelep.eta < 2.4))\n",
    "        # selection.add(\"muoniso\", mu_iso)\n",
    "        # selection.add(\"electroniso\", el_iso)\n",
    "\n",
    "        # define numerator and denominator\n",
    "        regions = {\"denominator\": {\"e\": [\"fjkin\",\"oneelectron\"],\n",
    "                                   \"mu\": [\"fjkin\",\"onemuon\"],\n",
    "                                  },\n",
    "                   \"numerator\": dict.fromkeys([\"e\",\"mu\"]),\n",
    "                  }\n",
    "                        \n",
    "#         ### TODO: i uncommented the next two lines and added the \"electroniso\" region to regions below\n",
    "#         selection.add(\"muoniso\", mu_iso)\n",
    "#         selection.add(\"electroniso\", el_iso)\n",
    "\n",
    "#         # define numerator and denominator\n",
    "#         regions = {\"denominator\": {\"e\": [\"fjkin\",\"oneelectron\",\"electroniso\"],\n",
    "#                                    \"mu\": [\"fjkin\",\"onemuon\",\"electroniso\"],\n",
    "#                                   },\n",
    "#                    \"numerator\": dict.fromkeys([\"e\",\"mu\"]),\n",
    "#                   }\n",
    "                                          \n",
    "        # numerator is all the selection from denominator + trigger\n",
    "        for channel,region in regions[\"denominator\"].items():\n",
    "            regions[\"numerator\"][channel] = region + [\"trigger\"+channel]\n",
    "                    \n",
    "        def fill(region,channel):\n",
    "            selections = regions[region][channel]\n",
    "            cut = selection.all(*selections)\n",
    "            \n",
    "            output['jet'].fill(\n",
    "                channel=channel,\n",
    "                region=region,\n",
    "                jetpt=normalize(candidatefj.pt, cut),\n",
    "                # let's try adding eta just for curiosity\n",
    "                # jeteta=normalize(candidatefj.eta, cut),\n",
    "                jetmsoftdrop=normalize(candidatefj.msoftdrop, cut),\n",
    "                jetlepmass=normalize((candidatefj - candidatelep).mass, cut),\n",
    "\n",
    "            )\n",
    "            output['lepton'].fill(\n",
    "                channel=channel,\n",
    "                region=region,\n",
    "                leppt=normalize(candidatelep.pt, cut),\n",
    "            )\n",
    "            output['higgs'].fill(\n",
    "                channel=channel,\n",
    "                region=region,\n",
    "                higgspt=normalize(matchedH_pt, cut),\n",
    "            )\n",
    "            \n",
    "        for region,chan in regions.items():\n",
    "            for channel in chan.keys():\n",
    "                fill(region,channel)\n",
    "\n",
    "        return {dataset: output}\n",
    "            \n",
    "    def postprocess(self, accumulator):\n",
    "        return accumulator"
   ]
  },
  {
   "cell_type": "markdown",
   "metadata": {},
   "source": [
    "You can save the output using pickle"
   ]
  },
  {
   "cell_type": "code",
   "execution_count": 4,
   "metadata": {},
   "outputs": [
    {
     "ename": "NameError",
     "evalue": "name 'out' is not defined",
     "output_type": "error",
     "traceback": [
      "\u001b[0;31m---------------------------------------------------------------------------\u001b[0m",
      "\u001b[0;31mNameError\u001b[0m                                 Traceback (most recent call last)",
      "\u001b[0;32m/tmp/ipykernel_119/1821325201.py\u001b[0m in \u001b[0;36m<module>\u001b[0;34m\u001b[0m\n\u001b[1;32m      2\u001b[0m \u001b[0;34m\u001b[0m\u001b[0m\n\u001b[1;32m      3\u001b[0m \u001b[0mfilehandler\u001b[0m \u001b[0;34m=\u001b[0m \u001b[0mopen\u001b[0m\u001b[0;34m(\u001b[0m\u001b[0;34mf\"test_hww.pkl\"\u001b[0m\u001b[0;34m,\u001b[0m \u001b[0;34m\"wb\"\u001b[0m\u001b[0;34m)\u001b[0m\u001b[0;34m\u001b[0m\u001b[0;34m\u001b[0m\u001b[0m\n\u001b[0;32m----> 4\u001b[0;31m \u001b[0mpickle\u001b[0m\u001b[0;34m.\u001b[0m\u001b[0mdump\u001b[0m\u001b[0;34m(\u001b[0m\u001b[0mout\u001b[0m\u001b[0;34m,\u001b[0m \u001b[0mfilehandler\u001b[0m\u001b[0;34m)\u001b[0m\u001b[0;34m\u001b[0m\u001b[0;34m\u001b[0m\u001b[0m\n\u001b[0m\u001b[1;32m      5\u001b[0m \u001b[0mfilehandler\u001b[0m\u001b[0;34m.\u001b[0m\u001b[0mclose\u001b[0m\u001b[0;34m(\u001b[0m\u001b[0;34m)\u001b[0m\u001b[0;34m\u001b[0m\u001b[0;34m\u001b[0m\u001b[0m\n",
      "\u001b[0;31mNameError\u001b[0m: name 'out' is not defined"
     ]
    }
   ],
   "source": [
    "import pickle\n",
    "\n",
    "filehandler = open(f\"test_hww.pkl\", \"wb\")\n",
    "pickle.dump(out, filehandler)\n",
    "filehandler.close()"
   ]
  },
  {
   "cell_type": "markdown",
   "metadata": {},
   "source": [
    "Some hist references: https://github.com/scikit-hep/hist\n",
    "Taking a look at the output:"
   ]
  },
  {
   "cell_type": "code",
   "execution_count": null,
   "metadata": {},
   "outputs": [
    {
     "data": {
      "text/plain": [
       "{'jet': Hist(\n",
       "   StrCategory(['e', 'mu'], growth=True, name='channel', label='channel'),\n",
       "   StrCategory(['numerator', 'denominator'], name='region', label='region'),\n",
       "   Regular(30, 200, 700, name='jetpt', label='Jet $p_T$ [GeV]'),\n",
       "   Regular(30, -2.4, 2.4, name='jeteta', label='Jet eta'),\n",
       "   storage=Double()) # Sum: 104831.0 (105045.0 with flow),\n",
       " 'lepton': Hist(\n",
       "   StrCategory(['e', 'mu'], growth=True, name='channel', label='channel'),\n",
       "   StrCategory(['numerator', 'denominator'], name='region', label='region'),\n",
       "   Regular(30, 10, 200, name='leppt', label='Lepton $p_T$ [GeV]'),\n",
       "   storage=Double()) # Sum: 99864.0 (105045.0 with flow),\n",
       " 'higgs': Hist(\n",
       "   StrCategory(['e', 'mu'], growth=True, name='channel', label='channel'),\n",
       "   StrCategory(['numerator', 'denominator'], name='region', label='region'),\n",
       "   Regular(50, 10, 800, name='higgspt', label='matched H $p_T$ [GeV]'),\n",
       "   storage=Double()) # Sum: 52888.0 (105045.0 with flow)}"
      ]
     },
     "execution_count": 22,
     "metadata": {},
     "output_type": "execute_result"
    }
   ],
   "source": [
    "out['GluGluHToWWToLNuQQ_M125_TuneCP5_PSweight_13TeV-powheg2-jhugen727-pythia8']"
   ]
  },
  {
   "cell_type": "code",
   "execution_count": null,
   "metadata": {},
   "outputs": [
    {
     "data": {
      "text/html": [
       "<html>\n",
       "<div style=\"display:flex; align-items:center;\">\n",
       "<div style=\"width:290px;\">\n",
       "<svg xmlns=\"http://www.w3.org/2000/svg\" viewBox=\"-10 -10 220 220\">\n",
       "<rect x=\"0\" y=\"0\" width=\"160\" height=\"160\" style=\"fill:white;opacity:.5;stroke-width:2;stroke:currentColor;\"/>\n",
       "<rect x=\"20\" y=\"20\" width=\"160\" height=\"160\" style=\"fill:white;opacity:.5;stroke-width:2;stroke:currentColor;\"/>\n",
       "<rect x=\"40\" y=\"40\" width=\"160\" height=\"160\" style=\"fill:white;opacity:.5;stroke-width:2;stroke:currentColor;\"/>\n",
       "<text x=\"120.0\" y=\"120.0\" style=\"font-size: 26pt; font-family: verdana; font-style: bold; fill: black;\" text-anchor=\"middle\" alignment-baseline=\"middle\">\n",
       "4D\n",
       "</text>\n",
       "</svg>\n",
       "</div>\n",
       "<div style=\"flex=grow:1;\">\n",
       "StrCategory(['e', 'mu'], growth=True, name='channel', label='channel')<br/>\n",
       "StrCategory(['numerator', 'denominator'], name='region', label='region')<br/>\n",
       "Regular(30, 200, 700, name='jetpt', label='Jet $p_T$ [GeV]')<br/>\n",
       "Regular(30, -2.4, 2.4, name='jeteta', label='Jet eta')<br/>\n",
       "<hr style=\"margin-top:.2em; margin-bottom:.2em;\"/>\n",
       "Double() Σ=104831.0 <em>(105045.0 with flow)</em>\n",
       "\n",
       "</div>\n",
       "</div>\n",
       "</html>"
      ],
      "text/plain": [
       "Hist(\n",
       "  StrCategory(['e', 'mu'], growth=True, name='channel', label='channel'),\n",
       "  StrCategory(['numerator', 'denominator'], name='region', label='region'),\n",
       "  Regular(30, 200, 700, name='jetpt', label='Jet $p_T$ [GeV]'),\n",
       "  Regular(30, -2.4, 2.4, name='jeteta', label='Jet eta'),\n",
       "  storage=Double()) # Sum: 104831.0 (105045.0 with flow)"
      ]
     },
     "execution_count": 23,
     "metadata": {},
     "output_type": "execute_result"
    }
   ],
   "source": [
    "out['GluGluHToWWToLNuQQ_M125_TuneCP5_PSweight_13TeV-powheg2-jhugen727-pythia8']['jet']"
   ]
  },
  {
   "cell_type": "code",
   "execution_count": 30,
   "metadata": {},
   "outputs": [
    {
     "data": {
      "text/html": [
       "<html>\n",
       "<div style=\"display:flex; align-items:center;\">\n",
       "<div style=\"width:290px;\">\n",
       "<svg xmlns=\"http://www.w3.org/2000/svg\" viewBox=\"-10 -105 270 120\">\n",
       "<line x1=\"-5\" y1=\"0\" x2=\"255\" y2=\"0\" style=\"fill:none;stroke-width:2;stroke:currentColor\"/>\n",
       "<text text-anchor=\"middle\" x=\"0\" y=\"15\" style=\"fill:currentColor;\">\n",
       "200\n",
       "</text>\n",
       "<text text-anchor=\"middle\" x=\"250\" y=\"15\" style=\"fill:currentColor;\">\n",
       "700\n",
       "</text>\n",
       "<text text-anchor=\"middle\" x=\"125.0\" y=\"15\" style=\"fill:currentColor;\">\n",
       "Jet $p_T$ [GeV]\n",
       "</text>\n",
       "<polyline points=\"  0,0   0,-100 8.33333,-100 8.33333,-71.4 16.6667,-71.4 16.6667,-52.4  25,-52.4  25,-37.4 33.3333,-37.4 33.3333,-28.2 41.6667,-28.2 41.6667,-21.4  50,-21.4  50,-16.1 58.3333,-16.1 58.3333,-12 66.6667,-12 66.6667,-8.72  75,-8.72  75,-6.74 83.3333,-6.74 83.3333,-5.16 91.6667,-5.16 91.6667,-3.49 100,-3.49 100,-2.96 108.333,-2.96 108.333,-2.04 116.667,-2.04 116.667,-1.81 125,-1.81 125,-1.26 133.333,-1.26 133.333,-1.28 141.667,-1.28 141.667,-1.12 150,-1.12 150,-0.686 158.333,-0.686 158.333,-0.514 166.667,-0.514 166.667,-0.359 175,-0.359 175,-0.39 183.333,-0.39 183.333,-0.187 191.667,-0.187 191.667,-0.281 200,-0.281 200,-0.156 208.333,-0.156 208.333,-0.109 216.667,-0.109 216.667,-0.0935 225,-0.0935 225,-0.0468 233.333,-0.0468 233.333,-0.0935 241.667,-0.0935 241.667,-0.078 250,-0.078 250,0\" style=\"fill:none; stroke:currentColor;\"/>\n",
       "</svg>\n",
       "</div>\n",
       "<div style=\"flex=grow:1;\">\n",
       "Regular(30, 200, 700, name='jetpt', label='Jet $p_T$ [GeV]')<br/>\n",
       "<hr style=\"margin-top:.2em; margin-bottom:.2em;\"/>\n",
       "Double() Σ=24144.0 <em>(24159.0 with flow)</em>\n",
       "\n",
       "</div>\n",
       "</div>\n",
       "</html>"
      ],
      "text/plain": [
       "Hist(Regular(30, 200, 700, name='jetpt', label='Jet $p_T$ [GeV]'), storage=Double()) # Sum: 24144.0 (24159.0 with flow)"
      ]
     },
     "execution_count": 30,
     "metadata": {},
     "output_type": "execute_result"
    }
   ],
   "source": [
    "jeteta_den_e = out['GluGluHToWWToLNuQQ_M125_TuneCP5_PSweight_13TeV-powheg2-jhugen727-pythia8']['jet'][{\"region\": \"denominator\",\"channel\": \"e\", \"jeteta\": sum}]\n",
    "jeteta_den_e"
   ]
  },
  {
   "cell_type": "code",
   "execution_count": 9,
   "metadata": {},
   "outputs": [],
   "source": [
    "import matplotlib.pyplot as plt\n",
    "import mplhep as hep\n",
    "from hist.intervals import clopper_pearson_interval"
   ]
  },
  {
   "cell_type": "code",
   "execution_count": 10,
   "metadata": {},
   "outputs": [
    {
     "ename": "NameError",
     "evalue": "name 'jetpt_num_e' is not defined",
     "output_type": "error",
     "traceback": [
      "\u001b[0;31m---------------------------------------------------------------------------\u001b[0m",
      "\u001b[0;31mNameError\u001b[0m                                 Traceback (most recent call last)",
      "\u001b[0;32m/tmp/ipykernel_964/23137703.py\u001b[0m in \u001b[0;36m<module>\u001b[0;34m\u001b[0m\n\u001b[1;32m      1\u001b[0m \u001b[0mfig\u001b[0m\u001b[0;34m,\u001b[0m \u001b[0max\u001b[0m \u001b[0;34m=\u001b[0m \u001b[0mplt\u001b[0m\u001b[0;34m.\u001b[0m\u001b[0msubplots\u001b[0m\u001b[0;34m(\u001b[0m\u001b[0;36m1\u001b[0m\u001b[0;34m,\u001b[0m \u001b[0;36m1\u001b[0m\u001b[0;34m)\u001b[0m\u001b[0;34m\u001b[0m\u001b[0;34m\u001b[0m\u001b[0m\n\u001b[1;32m      2\u001b[0m \u001b[0;34m\u001b[0m\u001b[0m\n\u001b[0;32m----> 3\u001b[0;31m hep.histplot(jetpt_num_e/jetpt_den_e, \n\u001b[0m\u001b[1;32m      4\u001b[0m              \u001b[0;31m# yerr is the relative shift from the y value\u001b[0m\u001b[0;34m\u001b[0m\u001b[0;34m\u001b[0m\u001b[0;34m\u001b[0m\u001b[0m\n\u001b[1;32m      5\u001b[0m              \u001b[0myerr\u001b[0m\u001b[0;34m=\u001b[0m\u001b[0mabs\u001b[0m\u001b[0;34m(\u001b[0m\u001b[0mclopper_pearson_interval\u001b[0m\u001b[0;34m(\u001b[0m\u001b[0mjetpt_num_e\u001b[0m\u001b[0;34m.\u001b[0m\u001b[0mview\u001b[0m\u001b[0;34m(\u001b[0m\u001b[0;34m)\u001b[0m\u001b[0;34m,\u001b[0m \u001b[0mjetpt_den_e\u001b[0m\u001b[0;34m.\u001b[0m\u001b[0mview\u001b[0m\u001b[0;34m(\u001b[0m\u001b[0;34m)\u001b[0m\u001b[0;34m)\u001b[0m \u001b[0;34m-\u001b[0m \u001b[0mjetpt_num_e\u001b[0m\u001b[0;34m.\u001b[0m\u001b[0mview\u001b[0m\u001b[0;34m(\u001b[0m\u001b[0;34m)\u001b[0m\u001b[0;34m/\u001b[0m\u001b[0mjetpt_den_e\u001b[0m\u001b[0;34m.\u001b[0m\u001b[0mview\u001b[0m\u001b[0;34m(\u001b[0m\u001b[0;34m)\u001b[0m\u001b[0;34m)\u001b[0m\u001b[0;34m,\u001b[0m\u001b[0;34m\u001b[0m\u001b[0;34m\u001b[0m\u001b[0m\n",
      "\u001b[0;31mNameError\u001b[0m: name 'jetpt_num_e' is not defined"
     ]
    },
    {
     "data": {
      "image/png": "[encoded data removed]",
      "text/plain": [
       "<Figure size 432x288 with 1 Axes>"
      ]
     },
     "metadata": {
      "needs_background": "light"
     },
     "output_type": "display_data"
    }
   ],
   "source": [
    "fig, ax = plt.subplots(1, 1)\n",
    "\n",
    "hep.histplot(jetpt_num_e/jetpt_den_e, \n",
    "             # yerr is the relative shift from the y value\n",
    "             yerr=abs(clopper_pearson_interval(jetpt_num_e.view(), jetpt_den_e.view()) - jetpt_num_e.view()/jetpt_den_e.view()),\n",
    "             ax = ax,\n",
    "             histtype='errorbar', color='k', capsize=4, elinewidth=1,           \n",
    ")\n",
    "#ax.set_ylim(0, 1)\n",
    "ax.set_xlim(200, 1000)\n",
    "ax.set_title(f'Candidate jet $p_T$ GeV')"
   ]
  },
  {
   "cell_type": "code",
   "execution_count": 18,
   "metadata": {},
   "outputs": [
    {
     "name": "stderr",
     "output_type": "stream",
     "text": [
      "/Users/cmantill/miniconda3/envs/hww/lib/python3.7/site-packages/ipykernel_launcher.py:8: RuntimeWarning: invalid value encountered in true_divide\n",
      "  \n"
     ]
    },
    {
     "data": {
      "text/plain": [
       "Text(0.5, 1.0, 'Candidate jet $p_T$ GeV')"
      ]
     },
     "execution_count": 18,
     "metadata": {},
     "output_type": "execute_result"
    },
    {
     "data": {
      "image/png": "[encoded data removed]",
      "text/plain": [
       "<Figure size 432x288 with 1 Axes>"
      ]
     },
     "metadata": {
      "needs_background": "light"
     },
     "output_type": "display_data"
    }
   ],
   "source": [
    "fig, ax = plt.subplots(1, 1)\n",
    "\n",
    "num = out['HToWW']['higgs'][{\"region\": \"numerator\",\"channel\": \"e\"}]\n",
    "den = out['HToWW']['higgs'][{\"region\": \"denominator\",\"channel\": \"e\"}]\n",
    "\n",
    "hep.histplot(num/den, \n",
    "             # yerr is the relative shift from the y value\n",
    "             yerr=abs(clopper_pearson_interval(num.view(), den.view()) - num.view()/den.view()),\n",
    "             ax = ax,\n",
    "             histtype='errorbar', color='k', capsize=4, elinewidth=1,           \n",
    ")\n",
    "#ax.set_ylim(0, 1)\n",
    "ax.set_title(f'Candidate jet $p_T$ GeV')"
   ]
  },
  {
   "cell_type": "markdown",
   "metadata": {},
   "source": [
    "Or you can run the processor using dask. Make sure to download the json file from below that contains the full list of files."
   ]
  },
  {
   "cell_type": "markdown",
   "metadata": {},
   "source": [
    "## DASK"
   ]
  },
  {
   "cell_type": "code",
   "execution_count": 7,
   "metadata": {},
   "outputs": [],
   "source": [
    "# define the client\n",
    "from dask.distributed import Client\n",
    "\n",
    "client = Client(\"tls://localhost:8786\")"
   ]
  },
  {
   "cell_type": "code",
   "execution_count": 23,
   "metadata": {},
   "outputs": [
    {
     "name": "stdout",
     "output_type": "stream",
     "text": [
      "[########################################] | 100% Completed |  6min 46.2s\r"
     ]
    }
   ],
   "source": [
    "import uproot\n",
    "from coffea.nanoevents import NanoEventsFactory, NanoAODSchema, BaseSchema\n",
    "import json\n",
    "\n",
    "# define the full fileset\n",
    "# download this file in a new terminal in coffea casa: \n",
    "# wget https://raw.githubusercontent.com/cmantill/boostedhiggs/main/fileset/fileset_2017_UL_NANO.json\n",
    "# the dataset that we will run on is called: GluGluHToWWToLNuQQ_M125_TuneCP5_PSweight_13TeV-powheg2-jhugen727-pythia8\n",
    "dataset_name = \"GluGluHToWWToLNuQQ_M125_TuneCP5_PSweight_13TeV-powheg2-jhugen727-pythia8\"\n",
    "with open(\"fileset_2017_UL_NANO.json\", 'r') as f:\n",
    "    files = json.load(f)[dataset_name]\n",
    "fileset = {}\n",
    "# need to define the fileset but call them with xcache\n",
    "fileset[dataset_name] = [\"root://xcache/\"+ f for f in files]\n",
    "\n",
    "uproot.open.defaults['xrootd_handler'] = uproot.source.xrootd.MultithreadedXRootDSource\n",
    "\n",
    "# define processor\n",
    "p = TriggerEfficienciesProcessor(triggers=[\"vvl\"])\n",
    "\n",
    "# define executor (dask)\n",
    "# https://coffeateam.github.io/coffea/api/coffea.processor.DaskExecutor.html\n",
    "executor = processor.DaskExecutor(compression=1, status=True, client=client, treereduction=2)\n",
    "\n",
    "# define the runner (Same as before)\n",
    "run = processor.Runner(executor=executor,savemetrics=True,chunksize=10000,schema=NanoAODSchema)\n",
    "\n",
    "# run\n",
    "out,metrics = run(fileset,'Events',processor_instance=p)"
   ]
  },
  {
   "cell_type": "code",
   "execution_count": 45,
   "metadata": {},
   "outputs": [],
   "source": [
    "fname = fileset['GluGluHToWWToLNuQQ_M125_TuneCP5_PSweight_13TeV-powheg2-jhugen727-pythia8']\n",
    "c = 0\n",
    "for i in range(len(fname)):\n",
    "    events = NanoEventsFactory.from_root(fname[i], schemaclass=NanoAODSchema).events()\n",
    "    c = c+len(events)\n",
    "print('Number of events:', c)"
   ]
  },
  {
   "cell_type": "code",
   "execution_count": 52,
   "metadata": {},
   "outputs": [
    {
     "data": {
      "text/html": [
       "<html>\n",
       "<div style=\"display:flex; align-items:center;\">\n",
       "<div style=\"width:290px;\">\n",
       "<svg xmlns=\"http://www.w3.org/2000/svg\" viewBox=\"-10 -105 270 120\">\n",
       "<line x1=\"-5\" y1=\"0\" x2=\"255\" y2=\"0\" style=\"fill:none;stroke-width:2;stroke:currentColor\"/>\n",
       "<text text-anchor=\"middle\" x=\"0\" y=\"15\" style=\"fill:currentColor;\">\n",
       "200\n",
       "</text>\n",
       "<text text-anchor=\"middle\" x=\"250\" y=\"15\" style=\"fill:currentColor;\">\n",
       "700\n",
       "</text>\n",
       "<text text-anchor=\"middle\" x=\"125.0\" y=\"15\" style=\"fill:currentColor;\">\n",
       "Jet $p_T$ [GeV]\n",
       "</text>\n",
       "<polyline points=\"  0,0   0,-100 8.33333,-100 8.33333,-71.4 16.6667,-71.4 16.6667,-52.4  25,-52.4  25,-37.4 33.3333,-37.4 33.3333,-28.2 41.6667,-28.2 41.6667,-21.4  50,-21.4  50,-16.1 58.3333,-16.1 58.3333,-12 66.6667,-12 66.6667,-8.72  75,-8.72  75,-6.74 83.3333,-6.74 83.3333,-5.16 91.6667,-5.16 91.6667,-3.49 100,-3.49 100,-2.96 108.333,-2.96 108.333,-2.04 116.667,-2.04 116.667,-1.81 125,-1.81 125,-1.26 133.333,-1.26 133.333,-1.28 141.667,-1.28 141.667,-1.12 150,-1.12 150,-0.686 158.333,-0.686 158.333,-0.514 166.667,-0.514 166.667,-0.359 175,-0.359 175,-0.39 183.333,-0.39 183.333,-0.187 191.667,-0.187 191.667,-0.281 200,-0.281 200,-0.156 208.333,-0.156 208.333,-0.109 216.667,-0.109 216.667,-0.0935 225,-0.0935 225,-0.0468 233.333,-0.0468 233.333,-0.0935 241.667,-0.0935 241.667,-0.078 250,-0.078 250,0\" style=\"fill:none; stroke:currentColor;\"/>\n",
       "</svg>\n",
       "</div>\n",
       "<div style=\"flex=grow:1;\">\n",
       "Regular(30, 200, 700, name='jetpt', label='Jet $p_T$ [GeV]')<br/>\n",
       "<hr style=\"margin-top:.2em; margin-bottom:.2em;\"/>\n",
       "Double() Σ=24144.0 <em>(24159.0 with flow)</em>\n",
       "\n",
       "</div>\n",
       "</div>\n",
       "</html>"
      ],
      "text/plain": [
       "Hist(Regular(30, 200, 700, name='jetpt', label='Jet $p_T$ [GeV]'), storage=Double()) # Sum: 24144.0 (24159.0 with flow)"
      ]
     },
     "execution_count": 52,
     "metadata": {},
     "output_type": "execute_result"
    }
   ],
   "source": [
    "out['GluGluHToWWToLNuQQ_M125_TuneCP5_PSweight_13TeV-powheg2-jhugen727-pythia8']['jet'][{'channel':'e','region':'denominator','jeteta':sum}]"
   ]
  },
  {
   "cell_type": "code",
   "execution_count": 53,
   "metadata": {},
   "outputs": [
    {
     "data": {
      "text/html": [
       "<html>\n",
       "<div style=\"display:flex; align-items:center;\">\n",
       "<div style=\"width:290px;\">\n",
       "<svg xmlns=\"http://www.w3.org/2000/svg\" viewBox=\"-10 -105 270 120\">\n",
       "<line x1=\"-5\" y1=\"0\" x2=\"255\" y2=\"0\" style=\"fill:none;stroke-width:2;stroke:currentColor\"/>\n",
       "<text text-anchor=\"middle\" x=\"0\" y=\"15\" style=\"fill:currentColor;\">\n",
       "200\n",
       "</text>\n",
       "<text text-anchor=\"middle\" x=\"250\" y=\"15\" style=\"fill:currentColor;\">\n",
       "700\n",
       "</text>\n",
       "<text text-anchor=\"middle\" x=\"125.0\" y=\"15\" style=\"fill:currentColor;\">\n",
       "Jet $p_T$ [GeV]\n",
       "</text>\n",
       "<polyline points=\"  0,0   0,-100 8.33333,-100 8.33333,-71.4 16.6667,-71.4 16.6667,-52.4  25,-52.4  25,-37.4 33.3333,-37.4 33.3333,-28.2 41.6667,-28.2 41.6667,-21.4  50,-21.4  50,-16.1 58.3333,-16.1 58.3333,-12 66.6667,-12 66.6667,-8.72  75,-8.72  75,-6.74 83.3333,-6.74 83.3333,-5.16 91.6667,-5.16 91.6667,-3.49 100,-3.49 100,-2.96 108.333,-2.96 108.333,-2.04 116.667,-2.04 116.667,-1.81 125,-1.81 125,-1.26 133.333,-1.26 133.333,-1.28 141.667,-1.28 141.667,-1.12 150,-1.12 150,-0.686 158.333,-0.686 158.333,-0.514 166.667,-0.514 166.667,-0.359 175,-0.359 175,-0.39 183.333,-0.39 183.333,-0.187 191.667,-0.187 191.667,-0.281 200,-0.281 200,-0.156 208.333,-0.156 208.333,-0.109 216.667,-0.109 216.667,-0.0935 225,-0.0935 225,-0.0468 233.333,-0.0468 233.333,-0.0935 241.667,-0.0935 241.667,-0.078 250,-0.078 250,0\" style=\"fill:none; stroke:currentColor;\"/>\n",
       "</svg>\n",
       "</div>\n",
       "<div style=\"flex=grow:1;\">\n",
       "Regular(30, 200, 700, name='jetpt', label='Jet $p_T$ [GeV]')<br/>\n",
       "<hr style=\"margin-top:.2em; margin-bottom:.2em;\"/>\n",
       "Double() Σ=24144.0 <em>(24159.0 with flow)</em>\n",
       "\n",
       "</div>\n",
       "</div>\n",
       "</html>"
      ],
      "text/plain": [
       "Hist(Regular(30, 200, 700, name='jetpt', label='Jet $p_T$ [GeV]'), storage=Double()) # Sum: 24144.0 (24159.0 with flow)"
      ]
     },
     "execution_count": 53,
     "metadata": {},
     "output_type": "execute_result"
    }
   ],
   "source": [
    "out['GluGluHToWWToLNuQQ_M125_TuneCP5_PSweight_13TeV-powheg2-jhugen727-pythia8']['jet'][{'channel':'e','region':'denominator','jeteta':sum}]"
   ]
  },
  {
   "cell_type": "code",
   "execution_count": 18,
   "metadata": {},
   "outputs": [
    {
     "data": {
      "text/html": [
       "<html>\n",
       "<div style=\"display:flex; align-items:center;\">\n",
       "<div style=\"width:290px;\">\n",
       "<svg xmlns=\"http://www.w3.org/2000/svg\" viewBox=\"-10 -10 220 220\">\n",
       "<rect x=\"0\" y=\"0\" width=\"160\" height=\"160\" style=\"fill:white;opacity:.5;stroke-width:2;stroke:currentColor;\"/>\n",
       "<rect x=\"20\" y=\"20\" width=\"160\" height=\"160\" style=\"fill:white;opacity:.5;stroke-width:2;stroke:currentColor;\"/>\n",
       "<rect x=\"40\" y=\"40\" width=\"160\" height=\"160\" style=\"fill:white;opacity:.5;stroke-width:2;stroke:currentColor;\"/>\n",
       "<text x=\"120.0\" y=\"120.0\" style=\"font-size: 26pt; font-family: verdana; font-style: bold; fill: black;\" text-anchor=\"middle\" alignment-baseline=\"middle\">\n",
       "5D\n",
       "</text>\n",
       "</svg>\n",
       "</div>\n",
       "<div style=\"flex=grow:1;\">\n",
       "StrCategory(['e', 'mu'], growth=True, name='channel', label='channel')<br/>\n",
       "StrCategory(['numerator', 'denominator'], name='region', label='region')<br/>\n",
       "Regular(30, 200, 700, name='jetpt', label='Jet $p_T$ [GeV]')<br/>\n",
       "Regular(20, 20, 200, name='jetmsoftdrop', label='Jet soft drop mass')<br/>\n",
       "Regular(20, 20, 200, name='jetlepmass', label='Mass of the (jet-lepton) system')<br/>\n",
       "<hr style=\"margin-top:.2em; margin-bottom:.2em;\"/>\n",
       "Double() Σ=44608.0 <em>(105045.0 with flow)</em>\n",
       "\n",
       "</div>\n",
       "</div>\n",
       "</html>"
      ],
      "text/plain": [
       "Hist(\n",
       "  StrCategory(['e', 'mu'], growth=True, name='channel', label='channel'),\n",
       "  StrCategory(['numerator', 'denominator'], name='region', label='region'),\n",
       "  Regular(30, 200, 700, name='jetpt', label='Jet $p_T$ [GeV]'),\n",
       "  Regular(20, 20, 200, name='jetmsoftdrop', label='Jet soft drop mass'),\n",
       "  Regular(20, 20, 200, name='jetlepmass', label='Mass of the (jet-lepton) system'),\n",
       "  storage=Double()) # Sum: 44608.0 (105045.0 with flow)"
      ]
     },
     "execution_count": 18,
     "metadata": {},
     "output_type": "execute_result"
    }
   ],
   "source": [
    "\n",
    "out['GluGluHToWWToLNuQQ_M125_TuneCP5_PSweight_13TeV-powheg2-jhugen727-pythia8']['jet']"
   ]
  },
  {
   "cell_type": "markdown",
   "metadata": {},
   "source": [
    "### Preliminary plots"
   ]
  },
  {
   "cell_type": "code",
   "execution_count": 20,
   "metadata": {},
   "outputs": [
    {
     "data": {
      "image/png": "[encoded data removed]",
      "text/plain": [
       "<Figure size 864x288 with 2 Axes>"
      ]
     },
     "metadata": {
      "needs_background": "light"
     },
     "output_type": "display_data"
    }
   ],
   "source": [
    "### before applying triggers (distribution plots)\n",
    "jet_pt_deno = out['GluGluHToWWToLNuQQ_M125_TuneCP5_PSweight_13TeV-powheg2-jhugen727-pythia8']['jet'][{'channel':'e','region':'denominator','jetlepmass': sum,'jetmsoftdrop':sum}]\n",
    "jetmsoftdrop_deno = out['GluGluHToWWToLNuQQ_M125_TuneCP5_PSweight_13TeV-powheg2-jhugen727-pythia8']['jet'][{'channel':'e','region':'denominator','jetlepmass':sum,'jetpt':sum}]\n",
    "\n",
    "f, axs = plt.subplots(1,2, figsize=(12, 4))\n",
    "hep.histplot(jet_pt_deno, yerr=True, ax=axs[0], color='k', label='semi-leptonic jets')\n",
    "hep.histplot(jetmsoftdrop_deno, yerr=True, ax=axs[1], color='k', label='semi-leptonic jets')\n",
    "axs[0].set_title('Before applying triggers')\n",
    "axs[1].set_title('Before applying triggers');\n",
    "\n",
    "# ### after applying triggers\n",
    "# jet_pt_num = out['GluGluHToWWToLNuQQ_M125_TuneCP5_PSweight_13TeV-powheg2-jhugen727-pythia8'][{'channel':'e','region':'numerator','jetlepmass': sum,'jetmsoftdrop':sum}]\n",
    "# jetmsoftdrop_num = out['GluGluHToWWToLNuQQ_M125_TuneCP5_PSweight_13TeV-powheg2-jhugen727-pythia8']['jet'][{'channel':'e','region':'numerator','jetlepmass':sum,'jetpt':sum}]\n",
    "\n",
    "# f, axs = plt.subplots(1,2, figsize=(12, 4))\n",
    "# hep.histplot(jet_pt_num, yerr=True, ax=axs[0], color='k', label='semi-leptonic jets')\n",
    "# hep.histplot(jetmsoftdrop_num, yerr=True, ax=axs[1], color='k', label='semi-leptonic jets')\n",
    "# axs[0].set_title('After applying triggers')\n",
    "# axs[1].set_title('After applying triggers');"
   ]
  },
  {
   "cell_type": "markdown",
   "metadata": {},
   "source": [
    "### Trigger efficiency plots"
   ]
  },
  {
   "cell_type": "code",
   "execution_count": 34,
   "metadata": {},
   "outputs": [
    {
     "data": {
      "text/plain": [
       "<matplotlib.legend.Legend at 0x7f9a80c6bb50>"
      ]
     },
     "execution_count": 34,
     "metadata": {},
     "output_type": "execute_result"
    },
    {
     "data": {
      "image/png": "[encoded data removed]",
      "text/plain": [
       "<Figure size 432x288 with 1 Axes>"
      ]
     },
     "metadata": {
      "needs_background": "light"
     },
     "output_type": "display_data"
    }
   ],
   "source": [
    "fig, ax = plt.subplots(1, 1)\n",
    "\n",
    "num_e = out['GluGluHToWWToLNuQQ_M125_TuneCP5_PSweight_13TeV-powheg2-jhugen727-pythia8']['jet'][{\"region\": \"numerator\",\"channel\": \"e\", 'jetlepmass':sum,'jetmsoftdrop':sum}]\n",
    "den_e = out['GluGluHToWWToLNuQQ_M125_TuneCP5_PSweight_13TeV-powheg2-jhugen727-pythia8']['jet'][{\"region\": \"denominator\",\"channel\": \"e\", 'jetlepmass':sum,'jetmsoftdrop':sum}]\n",
    "num_mu = out['GluGluHToWWToLNuQQ_M125_TuneCP5_PSweight_13TeV-powheg2-jhugen727-pythia8']['jet'][{\"region\": \"numerator\",\"channel\": \"mu\", 'jetlepmass':sum,'jetmsoftdrop':sum}]\n",
    "den_mu = out['GluGluHToWWToLNuQQ_M125_TuneCP5_PSweight_13TeV-powheg2-jhugen727-pythia8']['jet'][{\"region\": \"denominator\",\"channel\": \"mu\", 'jetlepmass':sum,'jetmsoftdrop':sum}]\n",
    "\n",
    "hep.histplot(num_e/den_e, \n",
    "             # yerr is the relative shift from the y value\n",
    "             yerr=abs(clopper_pearson_interval(num_e.view(), den_e.view()) - num_e.view()/den_e.view()),\n",
    "             ax = ax,\n",
    "             histtype='errorbar', color='k', capsize=4, elinewidth=1, label='electron channel'          \n",
    ")\n",
    "\n",
    "hep.histplot(num_mu/den_mu, \n",
    "             # yerr is the relative shift from the y value\n",
    "             yerr=abs(clopper_pearson_interval(num_mu.view(), den_mu.view()) - num_mu.view()/den_mu.view()),\n",
    "             ax = ax,\n",
    "             histtype='errorbar', color='r', capsize=4, elinewidth=1, label='muon channel'          \n",
    ")\n",
    "\n",
    "#ax.set_ylim(0, 1)\n",
    "# ax.set_title(f'Candidate jet $p_T$ GeV')\n",
    "ax.set_ylabel(f'Trigger efficiency');\n",
    "ax.set_title(f'VVL e/mu triggers')\n",
    "plt.legend()"
   ]
  },
  {
   "cell_type": "code",
   "execution_count": 27,
   "metadata": {},
   "outputs": [
    {
     "name": "stderr",
     "output_type": "stream",
     "text": [
      "/tmp/ipykernel_119/2367790301.py:10: RuntimeWarning: invalid value encountered in true_divide\n",
      "  yerr=abs(clopper_pearson_interval(num_e.view(), den_e.view()) - num_e.view()/den_e.view()),\n",
      "/tmp/ipykernel_119/2367790301.py:17: RuntimeWarning: invalid value encountered in true_divide\n",
      "  yerr=abs(clopper_pearson_interval(num_mu.view(), den_mu.view()) - num_mu.view()/den_mu.view()),\n"
     ]
    },
    {
     "data": {
      "image/png": "[encoded data removed]",
      "text/plain": [
       "<Figure size 432x288 with 1 Axes>"
      ]
     },
     "metadata": {
      "needs_background": "light"
     },
     "output_type": "display_data"
    }
   ],
   "source": [
    "fig, ax = plt.subplots(1, 1)\n",
    "\n",
    "num_e = out['GluGluHToWWToLNuQQ_M125_TuneCP5_PSweight_13TeV-powheg2-jhugen727-pythia8']['higgs'][{\"region\": \"numerator\",\"channel\": \"e\"}]\n",
    "den_e = out['GluGluHToWWToLNuQQ_M125_TuneCP5_PSweight_13TeV-powheg2-jhugen727-pythia8']['higgs'][{\"region\": \"denominator\",\"channel\": \"e\"}]\n",
    "num_mu = out['GluGluHToWWToLNuQQ_M125_TuneCP5_PSweight_13TeV-powheg2-jhugen727-pythia8']['higgs'][{\"region\": \"numerator\",\"channel\": \"mu\"}]\n",
    "den_mu = out['GluGluHToWWToLNuQQ_M125_TuneCP5_PSweight_13TeV-powheg2-jhugen727-pythia8']['higgs'][{\"region\": \"denominator\",\"channel\": \"mu\"}]\n",
    "\n",
    "hep.histplot(num_e/den_e, \n",
    "             # yerr is the relative shift from the y value\n",
    "             yerr=abs(clopper_pearson_interval(num_e.view(), den_e.view()) - num_e.view()/den_e.view()),\n",
    "             ax = ax,\n",
    "             histtype='errorbar', color='k', capsize=4, elinewidth=1, label='electron channel'         \n",
    ")\n",
    "\n",
    "hep.histplot(num_mu/den_mu, \n",
    "             # yerr is the relative shift from the y value\n",
    "             yerr=abs(clopper_pearson_interval(num_mu.view(), den_mu.view()) - num_mu.view()/den_mu.view()),\n",
    "             ax = ax,\n",
    "             histtype='errorbar', color='r', capsize=4, elinewidth=1, label='muon channel'          \n",
    ")\n",
    "#ax.set_ylim(0, 1)\n",
    "# ax.set_title(f'Candidate jet $p_T$ GeV')\n",
    "ax.set_ylabel(f'Trigger efficiency')\n",
    "ax.set_title(f'VVL e/mu triggers')\n",
    "plt.legend()\n",
    "plt.savefig('lol.pdf');"
   ]
  },
  {
   "cell_type": "code",
   "execution_count": 21,
   "metadata": {},
   "outputs": [
    {
     "data": {
      "text/html": [
       "<html>\n",
       "<div style=\"display:flex; align-items:center;\">\n",
       "<div style=\"width:290px;\">\n",
       "<svg xmlns=\"http://www.w3.org/2000/svg\" viewBox=\"-10 -10 220 220\">\n",
       "<rect x=\"0\" y=\"0\" width=\"160\" height=\"160\" style=\"fill:white;opacity:.5;stroke-width:2;stroke:currentColor;\"/>\n",
       "<rect x=\"20\" y=\"20\" width=\"160\" height=\"160\" style=\"fill:white;opacity:.5;stroke-width:2;stroke:currentColor;\"/>\n",
       "<rect x=\"40\" y=\"40\" width=\"160\" height=\"160\" style=\"fill:white;opacity:.5;stroke-width:2;stroke:currentColor;\"/>\n",
       "<text x=\"120.0\" y=\"120.0\" style=\"font-size: 26pt; font-family: verdana; font-style: bold; fill: black;\" text-anchor=\"middle\" alignment-baseline=\"middle\">\n",
       "5D\n",
       "</text>\n",
       "</svg>\n",
       "</div>\n",
       "<div style=\"flex=grow:1;\">\n",
       "StrCategory(['e', 'mu'], growth=True, name='channel', label='channel')<br/>\n",
       "StrCategory(['numerator', 'denominator'], name='region', label='region')<br/>\n",
       "Regular(30, 200, 700, name='jetpt', label='Jet $p_T$ [GeV]')<br/>\n",
       "Regular(20, 20, 200, name='jetmsoftdrop', label='Jet soft drop mass')<br/>\n",
       "Regular(20, 20, 200, name='jetlepmass', label='Mass of the (jet-lepton) system')<br/>\n",
       "<hr style=\"margin-top:.2em; margin-bottom:.2em;\"/>\n",
       "Double() Σ=44608.0 <em>(105045.0 with flow)</em>\n",
       "\n",
       "</div>\n",
       "</div>\n",
       "</html>"
      ],
      "text/plain": [
       "Hist(\n",
       "  StrCategory(['e', 'mu'], growth=True, name='channel', label='channel'),\n",
       "  StrCategory(['numerator', 'denominator'], name='region', label='region'),\n",
       "  Regular(30, 200, 700, name='jetpt', label='Jet $p_T$ [GeV]'),\n",
       "  Regular(20, 20, 200, name='jetmsoftdrop', label='Jet soft drop mass'),\n",
       "  Regular(20, 20, 200, name='jetlepmass', label='Mass of the (jet-lepton) system'),\n",
       "  storage=Double()) # Sum: 44608.0 (105045.0 with flow)"
      ]
     },
     "execution_count": 21,
     "metadata": {},
     "output_type": "execute_result"
    }
   ],
   "source": [
    "out['GluGluHToWWToLNuQQ_M125_TuneCP5_PSweight_13TeV-powheg2-jhugen727-pythia8']['jet']"
   ]
  },
  {
   "cell_type": "code",
   "execution_count": 26,
   "metadata": {},
   "outputs": [
    {
     "name": "stderr",
     "output_type": "stream",
     "text": [
      "/tmp/ipykernel_119/267002695.py:10: RuntimeWarning: invalid value encountered in true_divide\n",
      "  yerr=abs(clopper_pearson_interval(num_e.view(), den_e.view()) - num_e.view()/den_e.view()),\n",
      "/tmp/ipykernel_119/267002695.py:17: RuntimeWarning: invalid value encountered in true_divide\n",
      "  yerr=abs(clopper_pearson_interval(num_mu.view(), den_mu.view()) - num_mu.view()/den_mu.view()),\n"
     ]
    },
    {
     "data": {
      "image/png": "[encoded data removed]",
      "text/plain": [
       "<Figure size 432x288 with 1 Axes>"
      ]
     },
     "metadata": {
      "needs_background": "light"
     },
     "output_type": "display_data"
    }
   ],
   "source": [
    "fig, ax = plt.subplots(1, 1)\n",
    "\n",
    "num_e = out['GluGluHToWWToLNuQQ_M125_TuneCP5_PSweight_13TeV-powheg2-jhugen727-pythia8']['jet'][{\"region\": \"numerator\",\"channel\": \"e\", 'jetmsoftdrop':sum, 'jetpt':sum}]\n",
    "den_e = out['GluGluHToWWToLNuQQ_M125_TuneCP5_PSweight_13TeV-powheg2-jhugen727-pythia8']['jet'][{\"region\": \"denominator\",\"channel\": \"e\", 'jetmsoftdrop':sum, 'jetpt':sum}]\n",
    "num_mu = out['GluGluHToWWToLNuQQ_M125_TuneCP5_PSweight_13TeV-powheg2-jhugen727-pythia8']['jet'][{\"region\": \"numerator\",\"channel\": \"mu\", 'jetmsoftdrop':sum, 'jetpt':sum}]\n",
    "den_mu = out['GluGluHToWWToLNuQQ_M125_TuneCP5_PSweight_13TeV-powheg2-jhugen727-pythia8']['jet'][{\"region\": \"denominator\",\"channel\": \"mu\", 'jetmsoftdrop':sum, 'jetpt':sum}]\n",
    "\n",
    "hep.histplot(num_e/den_e, \n",
    "             # yerr is the relative shift from the y value\n",
    "             yerr=abs(clopper_pearson_interval(num_e.view(), den_e.view()) - num_e.view()/den_e.view()),\n",
    "             ax = ax,\n",
    "             histtype='errorbar', color='k', capsize=4, elinewidth=1, label='electron channel'         \n",
    ")\n",
    "\n",
    "hep.histplot(num_mu/den_mu, \n",
    "             # yerr is the relative shift from the y value\n",
    "             yerr=abs(clopper_pearson_interval(num_mu.view(), den_mu.view()) - num_mu.view()/den_mu.view()),\n",
    "             ax = ax,\n",
    "             histtype='errorbar', color='r', capsize=4, elinewidth=1, label='muon channel'          \n",
    ")\n",
    "#ax.set_ylim(0, 1)\n",
    "# ax.set_title(f'Candidate jet $p_T$ GeV')\n",
    "ax.set_ylabel(f'Trigger efficiency')\n",
    "ax.set_title(f'VVL e/mu triggers')\n",
    "plt.legend()\n",
    "plt.savefig('lol.pdf');"
   ]
  },
  {
   "cell_type": "code",
   "execution_count": null,
   "metadata": {},
   "outputs": [],
   "source": [
    "fig, ax = plt.subplots(1, 1)\n",
    "\n",
    "num_e = out['GluGluHToWWToLNuQQ_M125_TuneCP5_PSweight_13TeV-powheg2-jhugen727-pythia8']['jet'][{\"region\": \"numerator\",\"channel\": \"e\", 'jetlepmass':sum, 'jetpt':sum}]\n",
    "den_e = out['GluGluHToWWToLNuQQ_M125_TuneCP5_PSweight_13TeV-powheg2-jhugen727-pythia8']['jet'][{\"region\": \"denominator\",\"channel\": \"e\", 'jetlepmass':sum, 'jetpt':sum}]\n",
    "num_mu = out['GluGluHToWWToLNuQQ_M125_TuneCP5_PSweight_13TeV-powheg2-jhugen727-pythia8']['jet'][{\"region\": \"numerator\",\"channel\": \"mu\", 'jetlepmass':sum, 'jetpt':sum}]\n",
    "den_mu = out['GluGluHToWWToLNuQQ_M125_TuneCP5_PSweight_13TeV-powheg2-jhugen727-pythia8']['jet'][{\"region\": \"denominator\",\"channel\": \"mu\", 'jetlepmass':sum, 'jetpt':sum}]\n",
    "\n",
    "hep.histplot(num_e/den_e, \n",
    "             # yerr is the relative shift from the y value\n",
    "             yerr=abs(clopper_pearson_interval(num_e.view(), den_e.view()) - num_e.view()/den_e.view()),\n",
    "             ax = ax,\n",
    "             histtype='errorbar', color='k', capsize=4, elinewidth=1, label='electron channel'         \n",
    ")\n",
    "\n",
    "hep.histplot(num_mu/den_mu, \n",
    "             # yerr is the relative shift from the y value\n",
    "             yerr=abs(clopper_pearson_interval(num_mu.view(), den_mu.view()) - num_mu.view()/den_mu.view()),\n",
    "             ax = ax,\n",
    "             histtype='errorbar', color='r', capsize=4, elinewidth=1, label='muon channel'          \n",
    ")\n",
    "#ax.set_ylim(0, 1)\n",
    "# ax.set_title(f'Candidate jet $p_T$ GeV')\n",
    "ax.set_ylabel(f'Trigger efficiency')\n",
    "ax.set_title(f'VVL e/mu triggers')\n",
    "plt.legend()\n",
    "plt.savefig('lol.pdf');"
   ]
  }
 ],
 "metadata": {
  "kernelspec": {
   "display_name": "Python 3 (ipykernel)",
   "language": "python",
   "name": "python3"
  },
  "language_info": {
   "codemirror_mode": {
    "name": "ipython",
    "version": 3
   },
   "file_extension": ".py",
   "mimetype": "text/x-python",
   "name": "python",
   "nbconvert_exporter": "python",
   "pygments_lexer": "ipython3",
   "version": "3.8.12"
  }
 },
 "nbformat": 4,
 "nbformat_minor": 4
}
