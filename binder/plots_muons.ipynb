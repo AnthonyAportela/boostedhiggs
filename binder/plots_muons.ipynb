{
 "cells": [
  {
   "cell_type": "code",
   "execution_count": 1,
   "id": "72db97f4",
   "metadata": {},
   "outputs": [],
   "source": [
    "import os, sys\n",
    "import awkward as ak\n",
    "import numpy as np\n",
    "import matplotlib.pyplot as plt\n",
    "import mplhep as hep\n",
    "from hist.intervals import clopper_pearson_interval\n",
    "def get_yerr(num,den):\n",
    "    return abs(clopper_pearson_interval(num.view(), den.view()) - num.view()/den.view())\n",
    "\n",
    "# we suppress ROOT warnings where our input ROOT tree has duplicate branches - these are handled correctly.\n",
    "import warnings\n",
    "warnings.filterwarnings(\"ignore\", message=\"Found duplicate branch \")\n",
    "np.seterr(divide='ignore', invalid='ignore')\n",
    "\n",
    "from hist.intervals import clopper_pearson_interval\n",
    "def get_yerr(num,den):\n",
    "    return abs(clopper_pearson_interval(num.view(), den.view()) - np.nan_to_num(num.view()/den.view(), False, 1))"
   ]
  },
  {
   "cell_type": "code",
   "execution_count": 25,
   "id": "bb1bea66",
   "metadata": {},
   "outputs": [
    {
     "name": "stdout",
     "output_type": "stream",
     "text": [
      "cut_values_ele.pkl  ele_hists\t   ele_hists.pkl  mu_hists_log\r\n",
      "cut_values_mu.pkl   ele_hists_log  mu_hists\t  mu_hists.pkl\r\n"
     ]
    }
   ],
   "source": [
    "! ls ../python/Nov11_2017/stacked_hists/ele_hists.pkl"
   ]
  },
  {
   "cell_type": "code",
   "execution_count": 74,
   "id": "12bac3bf",
   "metadata": {},
   "outputs": [],
   "source": [
    "# you can load the output!\n",
    "import pickle\n",
    "with open('../python/Nov11_2017/miso_hists/ele_hists.pkl', 'rb') as f:\n",
    "    hists = pickle.load(f)"
   ]
  },
  {
   "cell_type": "code",
   "execution_count": 95,
   "id": "3e1cf2f1",
   "metadata": {},
   "outputs": [
    {
     "name": "stdout",
     "output_type": "stream",
     "text": [
      "Cut lep_miso<0.1: S/sqrt(B) in range [0, 150] of (Jet-Lep).mass is: 0.19\n",
      "Cut lep_miso<0.3: S/sqrt(B) in range [0, 150] of (Jet-Lep).mass is: 0.19\n",
      "Cut lep_miso<0.5: S/sqrt(B) in range [0, 150] of (Jet-Lep).mass is: 0.19\n",
      "Cut lep_miso<0.7: S/sqrt(B) in range [0, 150] of (Jet-Lep).mass is: 0.19\n",
      "Cut lep_miso<0.9: S/sqrt(B) in range [0, 150] of (Jet-Lep).mass is: 0.19\n",
      "Cut lep_miso<1.1: S/sqrt(B) in range [0, 150] of (Jet-Lep).mass is: 0.19\n",
      "Cut lep_miso<1.3: S/sqrt(B) in range [0, 150] of (Jet-Lep).mass is: 0.19\n",
      "Cut lep_miso<1.5: S/sqrt(B) in range [0, 150] of (Jet-Lep).mass is: 0.19\n"
     ]
    }
   ],
   "source": [
    "for cut in hists.keys():\n",
    "    compute_soverb(hists[cut], cut, 'ele', range_min = 0, range_max = 150, remove_ttH = True)"
   ]
  },
  {
   "cell_type": "code",
   "execution_count": 96,
   "id": "1e3ccccf",
   "metadata": {},
   "outputs": [
    {
     "data": {
      "text/html": [
       "<html>\n",
       "<div style=\"display:flex; align-items:center;\">\n",
       "<div style=\"width:290px;\">\n",
       "<svg xmlns=\"http://www.w3.org/2000/svg\" viewBox=\"-20 -270 290 290\">\n",
       "<text text-anchor=\"middle\" x=\"0\" y=\"13\" style=\"fill:currentColor;\">\n",
       "0\n",
       "</text>\n",
       "<text text-anchor=\"middle\" x=\"250\" y=\"13\" style=\"fill:currentColor;\">\n",
       "12\n",
       "</text>\n",
       "<text text-anchor=\"middle\" x=\"-10\" y=\"0\" style=\"fill:currentColor;\">\n",
       "0\n",
       "</text>\n",
       "<text text-anchor=\"middle\" x=\"-10\" y=\"-250\" style=\"fill:currentColor;\">\n",
       "280\n",
       "</text>\n",
       "<text text-anchor=\"middle\" x=\"125.0\" y=\"13\" style=\"fill:currentColor;\">\n",
       "samples\n",
       "</text>\n",
       "<text text-anchor=\"middle\" x=\"-10\" y=\"-125.0\" transform=\"rotate(-90,-10,-125.0)\" style=\"fill:currentColor;\">\n",
       "Jet - Lepton mass [GeV]\n",
       "</text>\n",
       "<rect x=\"0.0\" y=\"-7.142857142857142\" width=\"20.833\" height=\"7.143\" opacity=\"0.0006315825410101906\" fill=\"currentColor\" stroke-width=\"0.1\"/>\n",
       "<rect x=\"20.833333333333332\" y=\"-7.142857142857142\" width=\"20.833\" height=\"7.143\" opacity=\"5.723203828628327e-05\" fill=\"currentColor\" stroke-width=\"0.1\"/>\n",
       "<rect x=\"41.666666666666664\" y=\"-7.142857142857142\" width=\"20.833\" height=\"7.143\" opacity=\"1.2289669495737373e-08\" fill=\"currentColor\" stroke-width=\"0.1\"/>\n",
       "<rect x=\"62.5\" y=\"-7.142857142857142\" width=\"20.833\" height=\"7.143\" opacity=\"4.990054613321267e-08\" fill=\"currentColor\" stroke-width=\"0.1\"/>\n",
       "<rect x=\"83.33333333333333\" y=\"-7.142857142857142\" width=\"20.833\" height=\"7.143\" opacity=\"1.2615901219899205e-08\" fill=\"currentColor\" stroke-width=\"0.1\"/>\n",
       "<rect x=\"104.16666666666667\" y=\"-7.142857142857142\" width=\"20.833\" height=\"7.143\" opacity=\"8.935855873149653e-08\" fill=\"currentColor\" stroke-width=\"0.1\"/>\n",
       "<rect x=\"125.0\" y=\"-7.142857142857142\" width=\"20.833\" height=\"7.143\" opacity=\"0.0\" fill=\"currentColor\" stroke-width=\"0.1\"/>\n",
       "<rect x=\"145.83333333333334\" y=\"-7.142857142857142\" width=\"20.833\" height=\"7.143\" opacity=\"4.6140298802412746e-05\" fill=\"currentColor\" stroke-width=\"0.1\"/>\n",
       "<rect x=\"166.66666666666666\" y=\"-7.142857142857142\" width=\"20.833\" height=\"7.143\" opacity=\"6.294983147036051e-06\" fill=\"currentColor\" stroke-width=\"0.1\"/>\n",
       "<rect x=\"187.5\" y=\"-7.142857142857142\" width=\"20.833\" height=\"7.143\" opacity=\"8.480862701722505e-05\" fill=\"currentColor\" stroke-width=\"0.1\"/>\n",
       "<rect x=\"208.33333333333334\" y=\"-7.142857142857142\" width=\"20.833\" height=\"7.143\" opacity=\"0.0\" fill=\"currentColor\" stroke-width=\"0.1\"/>\n",
       "<rect x=\"229.16666666666666\" y=\"-7.142857142857142\" width=\"20.833\" height=\"7.143\" opacity=\"0.0\" fill=\"currentColor\" stroke-width=\"0.1\"/>\n",
       "<rect x=\"0.0\" y=\"-14.285714285714285\" width=\"20.833\" height=\"7.143\" opacity=\"0.003567587866787293\" fill=\"currentColor\" stroke-width=\"0.1\"/>\n",
       "<rect x=\"20.833333333333332\" y=\"-14.285714285714285\" width=\"20.833\" height=\"7.143\" opacity=\"0.0003781915930713213\" fill=\"currentColor\" stroke-width=\"0.1\"/>\n",
       "<rect x=\"41.666666666666664\" y=\"-14.285714285714285\" width=\"20.833\" height=\"7.143\" opacity=\"0.002340835059082096\" fill=\"currentColor\" stroke-width=\"0.1\"/>\n",
       "<rect x=\"62.5\" y=\"-14.285714285714285\" width=\"20.833\" height=\"7.143\" opacity=\"5.690308179076348e-07\" fill=\"currentColor\" stroke-width=\"0.1\"/>\n",
       "<rect x=\"83.33333333333333\" y=\"-14.285714285714285\" width=\"20.833\" height=\"7.143\" opacity=\"1.0847775700745208e-06\" fill=\"currentColor\" stroke-width=\"0.1\"/>\n",
       "<rect x=\"104.16666666666667\" y=\"-14.285714285714285\" width=\"20.833\" height=\"7.143\" opacity=\"3.1419866064208933e-06\" fill=\"currentColor\" stroke-width=\"0.1\"/>\n",
       "<rect x=\"125.0\" y=\"-14.285714285714285\" width=\"20.833\" height=\"7.143\" opacity=\"1.5151177391612852e-06\" fill=\"currentColor\" stroke-width=\"0.1\"/>\n",
       "<rect x=\"145.83333333333334\" y=\"-14.285714285714285\" width=\"20.833\" height=\"7.143\" opacity=\"0.0006910684223544709\" fill=\"currentColor\" stroke-width=\"0.1\"/>\n",
       "<rect x=\"166.66666666666666\" y=\"-14.285714285714285\" width=\"20.833\" height=\"7.143\" opacity=\"5.881753835567839e-05\" fill=\"currentColor\" stroke-width=\"0.1\"/>\n",
       "<rect x=\"187.5\" y=\"-14.285714285714285\" width=\"20.833\" height=\"7.143\" opacity=\"0.001332100162724878\" fill=\"currentColor\" stroke-width=\"0.1\"/>\n",
       "<rect x=\"208.33333333333334\" y=\"-14.285714285714285\" width=\"20.833\" height=\"7.143\" opacity=\"2.1311301914708206e-05\" fill=\"currentColor\" stroke-width=\"0.1\"/>\n",
       "<rect x=\"229.16666666666666\" y=\"-14.285714285714285\" width=\"20.833\" height=\"7.143\" opacity=\"2.864842741362275e-05\" fill=\"currentColor\" stroke-width=\"0.1\"/>\n",
       "<rect x=\"0.0\" y=\"-21.428571428571427\" width=\"20.833\" height=\"7.143\" opacity=\"0.1032040011607463\" fill=\"currentColor\" stroke-width=\"0.1\"/>\n",
       "<rect x=\"20.833333333333332\" y=\"-21.428571428571427\" width=\"20.833\" height=\"7.143\" opacity=\"0.010800369634244678\" fill=\"currentColor\" stroke-width=\"0.1\"/>\n",
       "<rect x=\"41.666666666666664\" y=\"-21.428571428571427\" width=\"20.833\" height=\"7.143\" opacity=\"0.035293735389000915\" fill=\"currentColor\" stroke-width=\"0.1\"/>\n",
       "<rect x=\"62.5\" y=\"-21.428571428571427\" width=\"20.833\" height=\"7.143\" opacity=\"3.10833665445185e-05\" fill=\"currentColor\" stroke-width=\"0.1\"/>\n",
       "<rect x=\"83.33333333333333\" y=\"-21.428571428571427\" width=\"20.833\" height=\"7.143\" opacity=\"2.484651727082732e-05\" fill=\"currentColor\" stroke-width=\"0.1\"/>\n",
       "<rect x=\"104.16666666666667\" y=\"-21.428571428571427\" width=\"20.833\" height=\"7.143\" opacity=\"9.260999865964525e-05\" fill=\"currentColor\" stroke-width=\"0.1\"/>\n",
       "<rect x=\"125.0\" y=\"-21.428571428571427\" width=\"20.833\" height=\"7.143\" opacity=\"3.412769521860666e-05\" fill=\"currentColor\" stroke-width=\"0.1\"/>\n",
       "<rect x=\"145.83333333333334\" y=\"-21.428571428571427\" width=\"20.833\" height=\"7.143\" opacity=\"0.03482156740617648\" fill=\"currentColor\" stroke-width=\"0.1\"/>\n",
       "<rect x=\"166.66666666666666\" y=\"-21.428571428571427\" width=\"20.833\" height=\"7.143\" opacity=\"0.0028346586846427746\" fill=\"currentColor\" stroke-width=\"0.1\"/>\n",
       "<rect x=\"187.5\" y=\"-21.428571428571427\" width=\"20.833\" height=\"7.143\" opacity=\"0.036393459277439845\" fill=\"currentColor\" stroke-width=\"0.1\"/>\n",
       "<rect x=\"208.33333333333334\" y=\"-21.428571428571427\" width=\"20.833\" height=\"7.143\" opacity=\"0.00015293222929933532\" fill=\"currentColor\" stroke-width=\"0.1\"/>\n",
       "<rect x=\"229.16666666666666\" y=\"-21.428571428571427\" width=\"20.833\" height=\"7.143\" opacity=\"0.0007701794782340682\" fill=\"currentColor\" stroke-width=\"0.1\"/>\n",
       "<rect x=\"0.0\" y=\"-28.57142857142857\" width=\"20.833\" height=\"7.143\" opacity=\"0.5460799207961354\" fill=\"currentColor\" stroke-width=\"0.1\"/>\n",
       "<rect x=\"20.833333333333332\" y=\"-28.57142857142857\" width=\"20.833\" height=\"7.143\" opacity=\"0.04063637484158479\" fill=\"currentColor\" stroke-width=\"0.1\"/>\n",
       "<rect x=\"41.666666666666664\" y=\"-28.57142857142857\" width=\"20.833\" height=\"7.143\" opacity=\"0.10710791760037924\" fill=\"currentColor\" stroke-width=\"0.1\"/>\n",
       "<rect x=\"62.5\" y=\"-28.57142857142857\" width=\"20.833\" height=\"7.143\" opacity=\"0.00014004352374964748\" fill=\"currentColor\" stroke-width=\"0.1\"/>\n",
       "<rect x=\"83.33333333333333\" y=\"-28.57142857142857\" width=\"20.833\" height=\"7.143\" opacity=\"7.924339937045543e-05\" fill=\"currentColor\" stroke-width=\"0.1\"/>\n",
       "<rect x=\"104.16666666666667\" y=\"-28.57142857142857\" width=\"20.833\" height=\"7.143\" opacity=\"0.0002028994557059914\" fill=\"currentColor\" stroke-width=\"0.1\"/>\n",
       "<rect x=\"125.0\" y=\"-28.57142857142857\" width=\"20.833\" height=\"7.143\" opacity=\"0.00011435584528572616\" fill=\"currentColor\" stroke-width=\"0.1\"/>\n",
       "<rect x=\"145.83333333333334\" y=\"-28.57142857142857\" width=\"20.833\" height=\"7.143\" opacity=\"0.1953314567450352\" fill=\"currentColor\" stroke-width=\"0.1\"/>\n",
       "<rect x=\"166.66666666666666\" y=\"-28.57142857142857\" width=\"20.833\" height=\"7.143\" opacity=\"0.013057966550674038\" fill=\"currentColor\" stroke-width=\"0.1\"/>\n",
       "<rect x=\"187.5\" y=\"-28.57142857142857\" width=\"20.833\" height=\"7.143\" opacity=\"0.1473464002246537\" fill=\"currentColor\" stroke-width=\"0.1\"/>\n",
       "<rect x=\"208.33333333333334\" y=\"-28.57142857142857\" width=\"20.833\" height=\"7.143\" opacity=\"0.0006986305924433719\" fill=\"currentColor\" stroke-width=\"0.1\"/>\n",
       "<rect x=\"229.16666666666666\" y=\"-28.57142857142857\" width=\"20.833\" height=\"7.143\" opacity=\"0.0022579725424801854\" fill=\"currentColor\" stroke-width=\"0.1\"/>\n",
       "<rect x=\"0.0\" y=\"-35.714285714285715\" width=\"20.833\" height=\"7.143\" opacity=\"0.9704521789597664\" fill=\"currentColor\" stroke-width=\"0.1\"/>\n",
       "<rect x=\"20.833333333333332\" y=\"-35.714285714285715\" width=\"20.833\" height=\"7.143\" opacity=\"0.06464727664984835\" fill=\"currentColor\" stroke-width=\"0.1\"/>\n",
       "<rect x=\"41.666666666666664\" y=\"-35.714285714285715\" width=\"20.833\" height=\"7.143\" opacity=\"0.204945873429021\" fill=\"currentColor\" stroke-width=\"0.1\"/>\n",
       "<rect x=\"62.5\" y=\"-35.714285714285715\" width=\"20.833\" height=\"7.143\" opacity=\"0.00023505212532963038\" fill=\"currentColor\" stroke-width=\"0.1\"/>\n",
       "<rect x=\"83.33333333333333\" y=\"-35.714285714285715\" width=\"20.833\" height=\"7.143\" opacity=\"0.00010134649926981612\" fill=\"currentColor\" stroke-width=\"0.1\"/>\n",
       "<rect x=\"104.16666666666667\" y=\"-35.714285714285715\" width=\"20.833\" height=\"7.143\" opacity=\"0.000253819510516768\" fill=\"currentColor\" stroke-width=\"0.1\"/>\n",
       "<rect x=\"125.0\" y=\"-35.714285714285715\" width=\"20.833\" height=\"7.143\" opacity=\"0.00011906120013196885\" fill=\"currentColor\" stroke-width=\"0.1\"/>\n",
       "<rect x=\"145.83333333333334\" y=\"-35.714285714285715\" width=\"20.833\" height=\"7.143\" opacity=\"0.3827654920626021\" fill=\"currentColor\" stroke-width=\"0.1\"/>\n",
       "<rect x=\"166.66666666666666\" y=\"-35.714285714285715\" width=\"20.833\" height=\"7.143\" opacity=\"0.020675405029343487\" fill=\"currentColor\" stroke-width=\"0.1\"/>\n",
       "<rect x=\"187.5\" y=\"-35.714285714285715\" width=\"20.833\" height=\"7.143\" opacity=\"0.21389459284825466\" fill=\"currentColor\" stroke-width=\"0.1\"/>\n",
       "<rect x=\"208.33333333333334\" y=\"-35.714285714285715\" width=\"20.833\" height=\"7.143\" opacity=\"0.001468601481697222\" fill=\"currentColor\" stroke-width=\"0.1\"/>\n",
       "<rect x=\"229.16666666666666\" y=\"-35.714285714285715\" width=\"20.833\" height=\"7.143\" opacity=\"0.0032095192376572993\" fill=\"currentColor\" stroke-width=\"0.1\"/>\n",
       "<rect x=\"0.0\" y=\"-42.857142857142854\" width=\"20.833\" height=\"7.143\" opacity=\"1.0\" fill=\"currentColor\" stroke-width=\"0.1\"/>\n",
       "<rect x=\"20.833333333333332\" y=\"-42.857142857142854\" width=\"20.833\" height=\"7.143\" opacity=\"0.06403322837432215\" fill=\"currentColor\" stroke-width=\"0.1\"/>\n",
       "<rect x=\"41.666666666666664\" y=\"-42.857142857142854\" width=\"20.833\" height=\"7.143\" opacity=\"0.16161231942380172\" fill=\"currentColor\" stroke-width=\"0.1\"/>\n",
       "<rect x=\"62.5\" y=\"-42.857142857142854\" width=\"20.833\" height=\"7.143\" opacity=\"0.0002658667880289097\" fill=\"currentColor\" stroke-width=\"0.1\"/>\n",
       "<rect x=\"83.33333333333333\" y=\"-42.857142857142854\" width=\"20.833\" height=\"7.143\" opacity=\"9.598627630902048e-05\" fill=\"currentColor\" stroke-width=\"0.1\"/>\n",
       "<rect x=\"104.16666666666667\" y=\"-42.857142857142854\" width=\"20.833\" height=\"7.143\" opacity=\"0.000236179797980423\" fill=\"currentColor\" stroke-width=\"0.1\"/>\n",
       "<rect x=\"125.0\" y=\"-42.857142857142854\" width=\"20.833\" height=\"7.143\" opacity=\"9.410283741496364e-05\" fill=\"currentColor\" stroke-width=\"0.1\"/>\n",
       "<rect x=\"145.83333333333334\" y=\"-42.857142857142854\" width=\"20.833\" height=\"7.143\" opacity=\"0.4140425768915189\" fill=\"currentColor\" stroke-width=\"0.1\"/>\n",
       "<rect x=\"166.66666666666666\" y=\"-42.857142857142854\" width=\"20.833\" height=\"7.143\" opacity=\"0.021165230350435587\" fill=\"currentColor\" stroke-width=\"0.1\"/>\n",
       "<rect x=\"187.5\" y=\"-42.857142857142854\" width=\"20.833\" height=\"7.143\" opacity=\"0.189630866047031\" fill=\"currentColor\" stroke-width=\"0.1\"/>\n",
       "<rect x=\"208.33333333333334\" y=\"-42.857142857142854\" width=\"20.833\" height=\"7.143\" opacity=\"0.0014643012981209371\" fill=\"currentColor\" stroke-width=\"0.1\"/>\n",
       "<rect x=\"229.16666666666666\" y=\"-42.857142857142854\" width=\"20.833\" height=\"7.143\" opacity=\"0.002275119445051815\" fill=\"currentColor\" stroke-width=\"0.1\"/>\n",
       "<rect x=\"0.0\" y=\"-50.0\" width=\"20.833\" height=\"7.143\" opacity=\"0.7577795606233889\" fill=\"currentColor\" stroke-width=\"0.1\"/>\n",
       "<rect x=\"20.833333333333332\" y=\"-50.0\" width=\"20.833\" height=\"7.143\" opacity=\"0.04731806403088218\" fill=\"currentColor\" stroke-width=\"0.1\"/>\n",
       "<rect x=\"41.666666666666664\" y=\"-50.0\" width=\"20.833\" height=\"7.143\" opacity=\"0.1288032534673435\" fill=\"currentColor\" stroke-width=\"0.1\"/>\n",
       "<rect x=\"62.5\" y=\"-50.0\" width=\"20.833\" height=\"7.143\" opacity=\"0.00022345913218906586\" fill=\"currentColor\" stroke-width=\"0.1\"/>\n",
       "<rect x=\"83.33333333333333\" y=\"-50.0\" width=\"20.833\" height=\"7.143\" opacity=\"6.644517377241754e-05\" fill=\"currentColor\" stroke-width=\"0.1\"/>\n",
       "<rect x=\"104.16666666666667\" y=\"-50.0\" width=\"20.833\" height=\"7.143\" opacity=\"0.00016380464616135934\" fill=\"currentColor\" stroke-width=\"0.1\"/>\n",
       "<rect x=\"125.0\" y=\"-50.0\" width=\"20.833\" height=\"7.143\" opacity=\"7.249678014991664e-05\" fill=\"currentColor\" stroke-width=\"0.1\"/>\n",
       "<rect x=\"145.83333333333334\" y=\"-50.0\" width=\"20.833\" height=\"7.143\" opacity=\"0.31486208538682436\" fill=\"currentColor\" stroke-width=\"0.1\"/>\n",
       "<rect x=\"166.66666666666666\" y=\"-50.0\" width=\"20.833\" height=\"7.143\" opacity=\"0.016282262373707303\" fill=\"currentColor\" stroke-width=\"0.1\"/>\n",
       "<rect x=\"187.5\" y=\"-50.0\" width=\"20.833\" height=\"7.143\" opacity=\"0.13319046339714857\" fill=\"currentColor\" stroke-width=\"0.1\"/>\n",
       "<rect x=\"208.33333333333334\" y=\"-50.0\" width=\"20.833\" height=\"7.143\" opacity=\"0.0015798938858528281\" fill=\"currentColor\" stroke-width=\"0.1\"/>\n",
       "<rect x=\"229.16666666666666\" y=\"-50.0\" width=\"20.833\" height=\"7.143\" opacity=\"0.0013284023879560694\" fill=\"currentColor\" stroke-width=\"0.1\"/>\n",
       "<rect x=\"0.0\" y=\"-57.14285714285714\" width=\"20.833\" height=\"7.143\" opacity=\"0.47819333253674273\" fill=\"currentColor\" stroke-width=\"0.1\"/>\n",
       "<rect x=\"20.833333333333332\" y=\"-57.14285714285714\" width=\"20.833\" height=\"7.143\" opacity=\"0.023886484728635717\" fill=\"currentColor\" stroke-width=\"0.1\"/>\n",
       "<rect x=\"41.666666666666664\" y=\"-57.14285714285714\" width=\"20.833\" height=\"7.143\" opacity=\"0.08639166963394314\" fill=\"currentColor\" stroke-width=\"0.1\"/>\n",
       "<rect x=\"62.5\" y=\"-57.14285714285714\" width=\"20.833\" height=\"7.143\" opacity=\"0.00015932754858868155\" fill=\"currentColor\" stroke-width=\"0.1\"/>\n",
       "<rect x=\"83.33333333333333\" y=\"-57.14285714285714\" width=\"20.833\" height=\"7.143\" opacity=\"3.9451222999541e-05\" fill=\"currentColor\" stroke-width=\"0.1\"/>\n",
       "<rect x=\"104.16666666666667\" y=\"-57.14285714285714\" width=\"20.833\" height=\"7.143\" opacity=\"8.505666460908911e-05\" fill=\"currentColor\" stroke-width=\"0.1\"/>\n",
       "<rect x=\"125.0\" y=\"-57.14285714285714\" width=\"20.833\" height=\"7.143\" opacity=\"4.011390146600736e-05\" fill=\"currentColor\" stroke-width=\"0.1\"/>\n",
       "<rect x=\"145.83333333333334\" y=\"-57.14285714285714\" width=\"20.833\" height=\"7.143\" opacity=\"0.19219513932974389\" fill=\"currentColor\" stroke-width=\"0.1\"/>\n",
       "<rect x=\"166.66666666666666\" y=\"-57.14285714285714\" width=\"20.833\" height=\"7.143\" opacity=\"0.009505030361816156\" fill=\"currentColor\" stroke-width=\"0.1\"/>\n",
       "<rect x=\"187.5\" y=\"-57.14285714285714\" width=\"20.833\" height=\"7.143\" opacity=\"0.08517355816887202\" fill=\"currentColor\" stroke-width=\"0.1\"/>\n",
       "<rect x=\"208.33333333333334\" y=\"-57.14285714285714\" width=\"20.833\" height=\"7.143\" opacity=\"0.0011277813436513173\" fill=\"currentColor\" stroke-width=\"0.1\"/>\n",
       "<rect x=\"229.16666666666666\" y=\"-57.14285714285714\" width=\"20.833\" height=\"7.143\" opacity=\"0.0007560487795793941\" fill=\"currentColor\" stroke-width=\"0.1\"/>\n",
       "<rect x=\"0.0\" y=\"-64.28571428571428\" width=\"20.833\" height=\"7.143\" opacity=\"0.27787924824607824\" fill=\"currentColor\" stroke-width=\"0.1\"/>\n",
       "<rect x=\"20.833333333333332\" y=\"-64.28571428571428\" width=\"20.833\" height=\"7.143\" opacity=\"0.011853025855775828\" fill=\"currentColor\" stroke-width=\"0.1\"/>\n",
       "<rect x=\"41.666666666666664\" y=\"-64.28571428571428\" width=\"20.833\" height=\"7.143\" opacity=\"0.06964193660645118\" fill=\"currentColor\" stroke-width=\"0.1\"/>\n",
       "<rect x=\"62.5\" y=\"-64.28571428571428\" width=\"20.833\" height=\"7.143\" opacity=\"0.0001188453277227256\" fill=\"currentColor\" stroke-width=\"0.1\"/>\n",
       "<rect x=\"83.33333333333333\" y=\"-64.28571428571428\" width=\"20.833\" height=\"7.143\" opacity=\"2.5802778678681242e-05\" fill=\"currentColor\" stroke-width=\"0.1\"/>\n",
       "<rect x=\"104.16666666666667\" y=\"-64.28571428571428\" width=\"20.833\" height=\"7.143\" opacity=\"5.000695675763106e-05\" fill=\"currentColor\" stroke-width=\"0.1\"/>\n",
       "<rect x=\"125.0\" y=\"-64.28571428571428\" width=\"20.833\" height=\"7.143\" opacity=\"1.7338494102386643e-05\" fill=\"currentColor\" stroke-width=\"0.1\"/>\n",
       "<rect x=\"145.83333333333334\" y=\"-64.28571428571428\" width=\"20.833\" height=\"7.143\" opacity=\"0.10806719393619783\" fill=\"currentColor\" stroke-width=\"0.1\"/>\n",
       "<rect x=\"166.66666666666666\" y=\"-64.28571428571428\" width=\"20.833\" height=\"7.143\" opacity=\"0.00519437570889355\" fill=\"currentColor\" stroke-width=\"0.1\"/>\n",
       "<rect x=\"187.5\" y=\"-64.28571428571428\" width=\"20.833\" height=\"7.143\" opacity=\"0.05003230916006173\" fill=\"currentColor\" stroke-width=\"0.1\"/>\n",
       "<rect x=\"208.33333333333334\" y=\"-64.28571428571428\" width=\"20.833\" height=\"7.143\" opacity=\"0.0006200669308872044\" fill=\"currentColor\" stroke-width=\"0.1\"/>\n",
       "<rect x=\"229.16666666666666\" y=\"-64.28571428571428\" width=\"20.833\" height=\"7.143\" opacity=\"0.0003778082669252172\" fill=\"currentColor\" stroke-width=\"0.1\"/>\n",
       "<rect x=\"0.0\" y=\"-71.42857142857143\" width=\"20.833\" height=\"7.143\" opacity=\"0.15873205537442603\" fill=\"currentColor\" stroke-width=\"0.1\"/>\n",
       "<rect x=\"20.833333333333332\" y=\"-71.42857142857143\" width=\"20.833\" height=\"7.143\" opacity=\"0.006619701430097294\" fill=\"currentColor\" stroke-width=\"0.1\"/>\n",
       "<rect x=\"41.666666666666664\" y=\"-71.42857142857143\" width=\"20.833\" height=\"7.143\" opacity=\"0.032523865747213825\" fill=\"currentColor\" stroke-width=\"0.1\"/>\n",
       "<rect x=\"62.5\" y=\"-71.42857142857143\" width=\"20.833\" height=\"7.143\" opacity=\"7.558197586666232e-05\" fill=\"currentColor\" stroke-width=\"0.1\"/>\n",
       "<rect x=\"83.33333333333333\" y=\"-71.42857142857143\" width=\"20.833\" height=\"7.143\" opacity=\"1.504776732629264e-05\" fill=\"currentColor\" stroke-width=\"0.1\"/>\n",
       "<rect x=\"104.16666666666667\" y=\"-71.42857142857143\" width=\"20.833\" height=\"7.143\" opacity=\"3.518235650975678e-05\" fill=\"currentColor\" stroke-width=\"0.1\"/>\n",
       "<rect x=\"125.0\" y=\"-71.42857142857143\" width=\"20.833\" height=\"7.143\" opacity=\"1.1417622035305435e-05\" fill=\"currentColor\" stroke-width=\"0.1\"/>\n",
       "<rect x=\"145.83333333333334\" y=\"-71.42857142857143\" width=\"20.833\" height=\"7.143\" opacity=\"0.06081697045573156\" fill=\"currentColor\" stroke-width=\"0.1\"/>\n",
       "<rect x=\"166.66666666666666\" y=\"-71.42857142857143\" width=\"20.833\" height=\"7.143\" opacity=\"0.002930773544552295\" fill=\"currentColor\" stroke-width=\"0.1\"/>\n",
       "<rect x=\"187.5\" y=\"-71.42857142857143\" width=\"20.833\" height=\"7.143\" opacity=\"0.032662934358033406\" fill=\"currentColor\" stroke-width=\"0.1\"/>\n",
       "<rect x=\"208.33333333333334\" y=\"-71.42857142857143\" width=\"20.833\" height=\"7.143\" opacity=\"0.00034464876478112463\" fill=\"currentColor\" stroke-width=\"0.1\"/>\n",
       "<rect x=\"229.16666666666666\" y=\"-71.42857142857143\" width=\"20.833\" height=\"7.143\" opacity=\"0.000301918108236624\" fill=\"currentColor\" stroke-width=\"0.1\"/>\n",
       "<rect x=\"0.0\" y=\"-78.57142857142857\" width=\"20.833\" height=\"7.143\" opacity=\"0.09412286840892409\" fill=\"currentColor\" stroke-width=\"0.1\"/>\n",
       "<rect x=\"20.833333333333332\" y=\"-78.57142857142857\" width=\"20.833\" height=\"7.143\" opacity=\"0.004386776479597573\" fill=\"currentColor\" stroke-width=\"0.1\"/>\n",
       "<rect x=\"41.666666666666664\" y=\"-78.57142857142857\" width=\"20.833\" height=\"7.143\" opacity=\"0.019703247885009947\" fill=\"currentColor\" stroke-width=\"0.1\"/>\n",
       "<rect x=\"62.5\" y=\"-78.57142857142857\" width=\"20.833\" height=\"7.143\" opacity=\"6.013619207475574e-05\" fill=\"currentColor\" stroke-width=\"0.1\"/>\n",
       "<rect x=\"83.33333333333333\" y=\"-78.57142857142857\" width=\"20.833\" height=\"7.143\" opacity=\"1.736375958188521e-05\" fill=\"currentColor\" stroke-width=\"0.1\"/>\n",
       "<rect x=\"104.16666666666667\" y=\"-78.57142857142857\" width=\"20.833\" height=\"7.143\" opacity=\"3.8000908898613594e-05\" fill=\"currentColor\" stroke-width=\"0.1\"/>\n",
       "<rect x=\"125.0\" y=\"-78.57142857142857\" width=\"20.833\" height=\"7.143\" opacity=\"1.2218112386588993e-05\" fill=\"currentColor\" stroke-width=\"0.1\"/>\n",
       "<rect x=\"145.83333333333334\" y=\"-78.57142857142857\" width=\"20.833\" height=\"7.143\" opacity=\"0.0356962656204699\" fill=\"currentColor\" stroke-width=\"0.1\"/>\n",
       "<rect x=\"166.66666666666666\" y=\"-78.57142857142857\" width=\"20.833\" height=\"7.143\" opacity=\"0.0017152321970616525\" fill=\"currentColor\" stroke-width=\"0.1\"/>\n",
       "<rect x=\"187.5\" y=\"-78.57142857142857\" width=\"20.833\" height=\"7.143\" opacity=\"0.020866400104038695\" fill=\"currentColor\" stroke-width=\"0.1\"/>\n",
       "<rect x=\"208.33333333333334\" y=\"-78.57142857142857\" width=\"20.833\" height=\"7.143\" opacity=\"0.00027000033942165095\" fill=\"currentColor\" stroke-width=\"0.1\"/>\n",
       "<rect x=\"229.16666666666666\" y=\"-78.57142857142857\" width=\"20.833\" height=\"7.143\" opacity=\"0.0002647241026103419\" fill=\"currentColor\" stroke-width=\"0.1\"/>\n",
       "<rect x=\"0.0\" y=\"-85.71428571428571\" width=\"20.833\" height=\"7.143\" opacity=\"0.059983271597562435\" fill=\"currentColor\" stroke-width=\"0.1\"/>\n",
       "<rect x=\"20.833333333333332\" y=\"-85.71428571428571\" width=\"20.833\" height=\"7.143\" opacity=\"0.002739761710037591\" fill=\"currentColor\" stroke-width=\"0.1\"/>\n",
       "<rect x=\"41.666666666666664\" y=\"-85.71428571428571\" width=\"20.833\" height=\"7.143\" opacity=\"0.012732852176980248\" fill=\"currentColor\" stroke-width=\"0.1\"/>\n",
       "<rect x=\"62.5\" y=\"-85.71428571428571\" width=\"20.833\" height=\"7.143\" opacity=\"3.9341353717670146e-05\" fill=\"currentColor\" stroke-width=\"0.1\"/>\n",
       "<rect x=\"83.33333333333333\" y=\"-85.71428571428571\" width=\"20.833\" height=\"7.143\" opacity=\"1.533722070230743e-05\" fill=\"currentColor\" stroke-width=\"0.1\"/>\n",
       "<rect x=\"104.16666666666667\" y=\"-85.71428571428571\" width=\"20.833\" height=\"7.143\" opacity=\"3.7539922776917155e-05\" fill=\"currentColor\" stroke-width=\"0.1\"/>\n",
       "<rect x=\"125.0\" y=\"-85.71428571428571\" width=\"20.833\" height=\"7.143\" opacity=\"1.5051582638078238e-05\" fill=\"currentColor\" stroke-width=\"0.1\"/>\n",
       "<rect x=\"145.83333333333334\" y=\"-85.71428571428571\" width=\"20.833\" height=\"7.143\" opacity=\"0.02319063846651072\" fill=\"currentColor\" stroke-width=\"0.1\"/>\n",
       "<rect x=\"166.66666666666666\" y=\"-85.71428571428571\" width=\"20.833\" height=\"7.143\" opacity=\"0.0012331671674793469\" fill=\"currentColor\" stroke-width=\"0.1\"/>\n",
       "<rect x=\"187.5\" y=\"-85.71428571428571\" width=\"20.833\" height=\"7.143\" opacity=\"0.013838190316453124\" fill=\"currentColor\" stroke-width=\"0.1\"/>\n",
       "<rect x=\"208.33333333333334\" y=\"-85.71428571428571\" width=\"20.833\" height=\"7.143\" opacity=\"0.0002170546436507071\" fill=\"currentColor\" stroke-width=\"0.1\"/>\n",
       "<rect x=\"229.16666666666666\" y=\"-85.71428571428571\" width=\"20.833\" height=\"7.143\" opacity=\"0.00025506393102059117\" fill=\"currentColor\" stroke-width=\"0.1\"/>\n",
       "<rect x=\"0.0\" y=\"-92.85714285714286\" width=\"20.833\" height=\"7.143\" opacity=\"0.03707560213713876\" fill=\"currentColor\" stroke-width=\"0.1\"/>\n",
       "<rect x=\"20.833333333333332\" y=\"-92.85714285714286\" width=\"20.833\" height=\"7.143\" opacity=\"0.002087141420286405\" fill=\"currentColor\" stroke-width=\"0.1\"/>\n",
       "<rect x=\"41.666666666666664\" y=\"-92.85714285714286\" width=\"20.833\" height=\"7.143\" opacity=\"0.0045734201081018815\" fill=\"currentColor\" stroke-width=\"0.1\"/>\n",
       "<rect x=\"62.5\" y=\"-92.85714285714286\" width=\"20.833\" height=\"7.143\" opacity=\"3.297806259258179e-05\" fill=\"currentColor\" stroke-width=\"0.1\"/>\n",
       "<rect x=\"83.33333333333333\" y=\"-92.85714285714286\" width=\"20.833\" height=\"7.143\" opacity=\"9.055061171959636e-06\" fill=\"currentColor\" stroke-width=\"0.1\"/>\n",
       "<rect x=\"104.16666666666667\" y=\"-92.85714285714286\" width=\"20.833\" height=\"7.143\" opacity=\"2.415058526632252e-05\" fill=\"currentColor\" stroke-width=\"0.1\"/>\n",
       "<rect x=\"125.0\" y=\"-92.85714285714286\" width=\"20.833\" height=\"7.143\" opacity=\"7.609378106365897e-06\" fill=\"currentColor\" stroke-width=\"0.1\"/>\n",
       "<rect x=\"145.83333333333334\" y=\"-92.85714285714286\" width=\"20.833\" height=\"7.143\" opacity=\"0.01669118114182637\" fill=\"currentColor\" stroke-width=\"0.1\"/>\n",
       "<rect x=\"166.66666666666666\" y=\"-92.85714285714286\" width=\"20.833\" height=\"7.143\" opacity=\"0.0009501359993521118\" fill=\"currentColor\" stroke-width=\"0.1\"/>\n",
       "<rect x=\"187.5\" y=\"-92.85714285714286\" width=\"20.833\" height=\"7.143\" opacity=\"0.008588736623767992\" fill=\"currentColor\" stroke-width=\"0.1\"/>\n",
       "<rect x=\"208.33333333333334\" y=\"-92.85714285714286\" width=\"20.833\" height=\"7.143\" opacity=\"0.0001946820297120391\" fill=\"currentColor\" stroke-width=\"0.1\"/>\n",
       "<rect x=\"229.16666666666666\" y=\"-92.85714285714286\" width=\"20.833\" height=\"7.143\" opacity=\"0.00027396865124385813\" fill=\"currentColor\" stroke-width=\"0.1\"/>\n",
       "<rect x=\"0.0\" y=\"-100.0\" width=\"20.833\" height=\"7.143\" opacity=\"0.025416929826058754\" fill=\"currentColor\" stroke-width=\"0.1\"/>\n",
       "<rect x=\"20.833333333333332\" y=\"-100.0\" width=\"20.833\" height=\"7.143\" opacity=\"0.0011990572427981745\" fill=\"currentColor\" stroke-width=\"0.1\"/>\n",
       "<rect x=\"41.666666666666664\" y=\"-100.0\" width=\"20.833\" height=\"7.143\" opacity=\"0.004809011334392847\" fill=\"currentColor\" stroke-width=\"0.1\"/>\n",
       "<rect x=\"62.5\" y=\"-100.0\" width=\"20.833\" height=\"7.143\" opacity=\"2.606656447112752e-05\" fill=\"currentColor\" stroke-width=\"0.1\"/>\n",
       "<rect x=\"83.33333333333333\" y=\"-100.0\" width=\"20.833\" height=\"7.143\" opacity=\"4.828566945466674e-06\" fill=\"currentColor\" stroke-width=\"0.1\"/>\n",
       "<rect x=\"104.16666666666667\" y=\"-100.0\" width=\"20.833\" height=\"7.143\" opacity=\"8.639151464027022e-06\" fill=\"currentColor\" stroke-width=\"0.1\"/>\n",
       "<rect x=\"125.0\" y=\"-100.0\" width=\"20.833\" height=\"7.143\" opacity=\"4.7642208551626684e-06\" fill=\"currentColor\" stroke-width=\"0.1\"/>\n",
       "<rect x=\"145.83333333333334\" y=\"-100.0\" width=\"20.833\" height=\"7.143\" opacity=\"0.012191803911395292\" fill=\"currentColor\" stroke-width=\"0.1\"/>\n",
       "<rect x=\"166.66666666666666\" y=\"-100.0\" width=\"20.833\" height=\"7.143\" opacity=\"0.0007116646283568226\" fill=\"currentColor\" stroke-width=\"0.1\"/>\n",
       "<rect x=\"187.5\" y=\"-100.0\" width=\"20.833\" height=\"7.143\" opacity=\"0.005850723442968392\" fill=\"currentColor\" stroke-width=\"0.1\"/>\n",
       "<rect x=\"208.33333333333334\" y=\"-100.0\" width=\"20.833\" height=\"7.143\" opacity=\"0.00016103289309826478\" fill=\"currentColor\" stroke-width=\"0.1\"/>\n",
       "<rect x=\"229.16666666666666\" y=\"-100.0\" width=\"20.833\" height=\"7.143\" opacity=\"0.0002572133714613449\" fill=\"currentColor\" stroke-width=\"0.1\"/>\n",
       "<rect x=\"0.0\" y=\"-107.14285714285714\" width=\"20.833\" height=\"7.143\" opacity=\"0.017428264172200125\" fill=\"currentColor\" stroke-width=\"0.1\"/>\n",
       "<rect x=\"20.833333333333332\" y=\"-107.14285714285714\" width=\"20.833\" height=\"7.143\" opacity=\"0.0017098465560580257\" fill=\"currentColor\" stroke-width=\"0.1\"/>\n",
       "<rect x=\"41.666666666666664\" y=\"-107.14285714285714\" width=\"20.833\" height=\"7.143\" opacity=\"0.0022022187878360695\" fill=\"currentColor\" stroke-width=\"0.1\"/>\n",
       "<rect x=\"62.5\" y=\"-107.14285714285714\" width=\"20.833\" height=\"7.143\" opacity=\"1.91166273480745e-05\" fill=\"currentColor\" stroke-width=\"0.1\"/>\n",
       "<rect x=\"83.33333333333333\" y=\"-107.14285714285714\" width=\"20.833\" height=\"7.143\" opacity=\"2.5577733787139434e-06\" fill=\"currentColor\" stroke-width=\"0.1\"/>\n",
       "<rect x=\"104.16666666666667\" y=\"-107.14285714285714\" width=\"20.833\" height=\"7.143\" opacity=\"3.869930172951796e-06\" fill=\"currentColor\" stroke-width=\"0.1\"/>\n",
       "<rect x=\"125.0\" y=\"-107.14285714285714\" width=\"20.833\" height=\"7.143\" opacity=\"0.0\" fill=\"currentColor\" stroke-width=\"0.1\"/>\n",
       "<rect x=\"145.83333333333334\" y=\"-107.14285714285714\" width=\"20.833\" height=\"7.143\" opacity=\"0.00846165778822517\" fill=\"currentColor\" stroke-width=\"0.1\"/>\n",
       "<rect x=\"166.66666666666666\" y=\"-107.14285714285714\" width=\"20.833\" height=\"7.143\" opacity=\"0.00044266988579466936\" fill=\"currentColor\" stroke-width=\"0.1\"/>\n",
       "<rect x=\"187.5\" y=\"-107.14285714285714\" width=\"20.833\" height=\"7.143\" opacity=\"0.003982914131046775\" fill=\"currentColor\" stroke-width=\"0.1\"/>\n",
       "<rect x=\"208.33333333333334\" y=\"-107.14285714285714\" width=\"20.833\" height=\"7.143\" opacity=\"0.00010202640509755515\" fill=\"currentColor\" stroke-width=\"0.1\"/>\n",
       "<rect x=\"229.16666666666666\" y=\"-107.14285714285714\" width=\"20.833\" height=\"7.143\" opacity=\"0.00010613812112944341\" fill=\"currentColor\" stroke-width=\"0.1\"/>\n",
       "<rect x=\"0.0\" y=\"-114.28571428571428\" width=\"20.833\" height=\"7.143\" opacity=\"0.012802348804260621\" fill=\"currentColor\" stroke-width=\"0.1\"/>\n",
       "<rect x=\"20.833333333333332\" y=\"-114.28571428571428\" width=\"20.833\" height=\"7.143\" opacity=\"0.0007553783628421382\" fill=\"currentColor\" stroke-width=\"0.1\"/>\n",
       "<rect x=\"41.666666666666664\" y=\"-114.28571428571428\" width=\"20.833\" height=\"7.143\" opacity=\"0.0021158235120021453\" fill=\"currentColor\" stroke-width=\"0.1\"/>\n",
       "<rect x=\"62.5\" y=\"-114.28571428571428\" width=\"20.833\" height=\"7.143\" opacity=\"1.2581548381112357e-05\" fill=\"currentColor\" stroke-width=\"0.1\"/>\n",
       "<rect x=\"83.33333333333333\" y=\"-114.28571428571428\" width=\"20.833\" height=\"7.143\" opacity=\"1.5981685029378341e-06\" fill=\"currentColor\" stroke-width=\"0.1\"/>\n",
       "<rect x=\"104.16666666666667\" y=\"-114.28571428571428\" width=\"20.833\" height=\"7.143\" opacity=\"1.5183185994630568e-06\" fill=\"currentColor\" stroke-width=\"0.1\"/>\n",
       "<rect x=\"125.0\" y=\"-114.28571428571428\" width=\"20.833\" height=\"7.143\" opacity=\"0.0\" fill=\"currentColor\" stroke-width=\"0.1\"/>\n",
       "<rect x=\"145.83333333333334\" y=\"-114.28571428571428\" width=\"20.833\" height=\"7.143\" opacity=\"0.006003863985087789\" fill=\"currentColor\" stroke-width=\"0.1\"/>\n",
       "<rect x=\"166.66666666666666\" y=\"-114.28571428571428\" width=\"20.833\" height=\"7.143\" opacity=\"0.00029383979520245044\" fill=\"currentColor\" stroke-width=\"0.1\"/>\n",
       "<rect x=\"187.5\" y=\"-114.28571428571428\" width=\"20.833\" height=\"7.143\" opacity=\"0.002847321532298114\" fill=\"currentColor\" stroke-width=\"0.1\"/>\n",
       "<rect x=\"208.33333333333334\" y=\"-114.28571428571428\" width=\"20.833\" height=\"7.143\" opacity=\"7.914500095838535e-05\" fill=\"currentColor\" stroke-width=\"0.1\"/>\n",
       "<rect x=\"229.16666666666666\" y=\"-114.28571428571428\" width=\"20.833\" height=\"7.143\" opacity=\"5.4918166442279906e-05\" fill=\"currentColor\" stroke-width=\"0.1\"/>\n",
       "<rect x=\"0.0\" y=\"-121.42857142857143\" width=\"20.833\" height=\"7.143\" opacity=\"0.008739736783708584\" fill=\"currentColor\" stroke-width=\"0.1\"/>\n",
       "<rect x=\"20.833333333333332\" y=\"-121.42857142857143\" width=\"20.833\" height=\"7.143\" opacity=\"0.0005987920318349284\" fill=\"currentColor\" stroke-width=\"0.1\"/>\n",
       "<rect x=\"41.666666666666664\" y=\"-121.42857142857143\" width=\"20.833\" height=\"7.143\" opacity=\"0.0017728741435162536\" fill=\"currentColor\" stroke-width=\"0.1\"/>\n",
       "<rect x=\"62.5\" y=\"-121.42857142857143\" width=\"20.833\" height=\"7.143\" opacity=\"1.2342922126628436e-05\" fill=\"currentColor\" stroke-width=\"0.1\"/>\n",
       "<rect x=\"83.33333333333333\" y=\"-121.42857142857143\" width=\"20.833\" height=\"7.143\" opacity=\"9.986555094401509e-07\" fill=\"currentColor\" stroke-width=\"0.1\"/>\n",
       "<rect x=\"104.16666666666667\" y=\"-121.42857142857143\" width=\"20.833\" height=\"7.143\" opacity=\"8.906672739504128e-07\" fill=\"currentColor\" stroke-width=\"0.1\"/>\n",
       "<rect x=\"125.0\" y=\"-121.42857142857143\" width=\"20.833\" height=\"7.143\" opacity=\"0.0\" fill=\"currentColor\" stroke-width=\"0.1\"/>\n",
       "<rect x=\"145.83333333333334\" y=\"-121.42857142857143\" width=\"20.833\" height=\"7.143\" opacity=\"0.004481777636666451\" fill=\"currentColor\" stroke-width=\"0.1\"/>\n",
       "<rect x=\"166.66666666666666\" y=\"-121.42857142857143\" width=\"20.833\" height=\"7.143\" opacity=\"0.00026885710614818356\" fill=\"currentColor\" stroke-width=\"0.1\"/>\n",
       "<rect x=\"187.5\" y=\"-121.42857142857143\" width=\"20.833\" height=\"7.143\" opacity=\"0.0021607388683313965\" fill=\"currentColor\" stroke-width=\"0.1\"/>\n",
       "<rect x=\"208.33333333333334\" y=\"-121.42857142857143\" width=\"20.833\" height=\"7.143\" opacity=\"5.085619586002188e-05\" fill=\"currentColor\" stroke-width=\"0.1\"/>\n",
       "<rect x=\"229.16666666666666\" y=\"-121.42857142857143\" width=\"20.833\" height=\"7.143\" opacity=\"5.301659708801108e-05\" fill=\"currentColor\" stroke-width=\"0.1\"/>\n",
       "<rect x=\"0.0\" y=\"-128.57142857142856\" width=\"20.833\" height=\"7.143\" opacity=\"0.0066060119829984805\" fill=\"currentColor\" stroke-width=\"0.1\"/>\n",
       "<rect x=\"20.833333333333332\" y=\"-128.57142857142856\" width=\"20.833\" height=\"7.143\" opacity=\"0.00045729785176763495\" fill=\"currentColor\" stroke-width=\"0.1\"/>\n",
       "<rect x=\"41.666666666666664\" y=\"-128.57142857142856\" width=\"20.833\" height=\"7.143\" opacity=\"0.0007407773159369774\" fill=\"currentColor\" stroke-width=\"0.1\"/>\n",
       "<rect x=\"62.5\" y=\"-128.57142857142856\" width=\"20.833\" height=\"7.143\" opacity=\"9.656165863789285e-06\" fill=\"currentColor\" stroke-width=\"0.1\"/>\n",
       "<rect x=\"83.33333333333333\" y=\"-128.57142857142856\" width=\"20.833\" height=\"7.143\" opacity=\"9.236159759140467e-07\" fill=\"currentColor\" stroke-width=\"0.1\"/>\n",
       "<rect x=\"104.16666666666667\" y=\"-128.57142857142856\" width=\"20.833\" height=\"7.143\" opacity=\"5.423550034843611e-07\" fill=\"currentColor\" stroke-width=\"0.1\"/>\n",
       "<rect x=\"125.0\" y=\"-128.57142857142856\" width=\"20.833\" height=\"7.143\" opacity=\"0.0\" fill=\"currentColor\" stroke-width=\"0.1\"/>\n",
       "<rect x=\"145.83333333333334\" y=\"-128.57142857142856\" width=\"20.833\" height=\"7.143\" opacity=\"0.0037143957452734763\" fill=\"currentColor\" stroke-width=\"0.1\"/>\n",
       "<rect x=\"166.66666666666666\" y=\"-128.57142857142856\" width=\"20.833\" height=\"7.143\" opacity=\"0.00019704301186083612\" fill=\"currentColor\" stroke-width=\"0.1\"/>\n",
       "<rect x=\"187.5\" y=\"-128.57142857142856\" width=\"20.833\" height=\"7.143\" opacity=\"0.001534939147264641\" fill=\"currentColor\" stroke-width=\"0.1\"/>\n",
       "<rect x=\"208.33333333333334\" y=\"-128.57142857142856\" width=\"20.833\" height=\"7.143\" opacity=\"2.5752234766311812e-05\" fill=\"currentColor\" stroke-width=\"0.1\"/>\n",
       "<rect x=\"229.16666666666666\" y=\"-128.57142857142856\" width=\"20.833\" height=\"7.143\" opacity=\"2.688926660560792e-05\" fill=\"currentColor\" stroke-width=\"0.1\"/>\n",
       "<rect x=\"0.0\" y=\"-135.7142857142857\" width=\"20.833\" height=\"7.143\" opacity=\"0.005308707304166738\" fill=\"currentColor\" stroke-width=\"0.1\"/>\n",
       "<rect x=\"20.833333333333332\" y=\"-135.7142857142857\" width=\"20.833\" height=\"7.143\" opacity=\"0.00031480184724994796\" fill=\"currentColor\" stroke-width=\"0.1\"/>\n",
       "<rect x=\"41.666666666666664\" y=\"-135.7142857142857\" width=\"20.833\" height=\"7.143\" opacity=\"0.0010645816913556114\" fill=\"currentColor\" stroke-width=\"0.1\"/>\n",
       "<rect x=\"62.5\" y=\"-135.7142857142857\" width=\"20.833\" height=\"7.143\" opacity=\"7.633435888887345e-06\" fill=\"currentColor\" stroke-width=\"0.1\"/>\n",
       "<rect x=\"83.33333333333333\" y=\"-135.7142857142857\" width=\"20.833\" height=\"7.143\" opacity=\"7.118313364716531e-07\" fill=\"currentColor\" stroke-width=\"0.1\"/>\n",
       "<rect x=\"104.16666666666667\" y=\"-135.7142857142857\" width=\"20.833\" height=\"7.143\" opacity=\"2.914092654890856e-07\" fill=\"currentColor\" stroke-width=\"0.1\"/>\n",
       "<rect x=\"125.0\" y=\"-135.7142857142857\" width=\"20.833\" height=\"7.143\" opacity=\"0.0\" fill=\"currentColor\" stroke-width=\"0.1\"/>\n",
       "<rect x=\"145.83333333333334\" y=\"-135.7142857142857\" width=\"20.833\" height=\"7.143\" opacity=\"0.003188784569624241\" fill=\"currentColor\" stroke-width=\"0.1\"/>\n",
       "<rect x=\"166.66666666666666\" y=\"-135.7142857142857\" width=\"20.833\" height=\"7.143\" opacity=\"0.00015440621498939515\" fill=\"currentColor\" stroke-width=\"0.1\"/>\n",
       "<rect x=\"187.5\" y=\"-135.7142857142857\" width=\"20.833\" height=\"7.143\" opacity=\"0.0011204075253010341\" fill=\"currentColor\" stroke-width=\"0.1\"/>\n",
       "<rect x=\"208.33333333333334\" y=\"-135.7142857142857\" width=\"20.833\" height=\"7.143\" opacity=\"2.2268561825018895e-05\" fill=\"currentColor\" stroke-width=\"0.1\"/>\n",
       "<rect x=\"229.16666666666666\" y=\"-135.7142857142857\" width=\"20.833\" height=\"7.143\" opacity=\"1.4574155942874951e-05\" fill=\"currentColor\" stroke-width=\"0.1\"/>\n",
       "<rect x=\"0.0\" y=\"-142.85714285714286\" width=\"20.833\" height=\"7.143\" opacity=\"0.00390898383490091\" fill=\"currentColor\" stroke-width=\"0.1\"/>\n",
       "<rect x=\"20.833333333333332\" y=\"-142.85714285714286\" width=\"20.833\" height=\"7.143\" opacity=\"0.00024651916960193965\" fill=\"currentColor\" stroke-width=\"0.1\"/>\n",
       "<rect x=\"41.666666666666664\" y=\"-142.85714285714286\" width=\"20.833\" height=\"7.143\" opacity=\"0.0008065586609712132\" fill=\"currentColor\" stroke-width=\"0.1\"/>\n",
       "<rect x=\"62.5\" y=\"-142.85714285714286\" width=\"20.833\" height=\"7.143\" opacity=\"4.987360119361422e-06\" fill=\"currentColor\" stroke-width=\"0.1\"/>\n",
       "<rect x=\"83.33333333333333\" y=\"-142.85714285714286\" width=\"20.833\" height=\"7.143\" opacity=\"6.167372766750813e-07\" fill=\"currentColor\" stroke-width=\"0.1\"/>\n",
       "<rect x=\"104.16666666666667\" y=\"-142.85714285714286\" width=\"20.833\" height=\"7.143\" opacity=\"2.871135944295783e-07\" fill=\"currentColor\" stroke-width=\"0.1\"/>\n",
       "<rect x=\"125.0\" y=\"-142.85714285714286\" width=\"20.833\" height=\"7.143\" opacity=\"0.0\" fill=\"currentColor\" stroke-width=\"0.1\"/>\n",
       "<rect x=\"145.83333333333334\" y=\"-142.85714285714286\" width=\"20.833\" height=\"7.143\" opacity=\"0.0022619868435459277\" fill=\"currentColor\" stroke-width=\"0.1\"/>\n",
       "<rect x=\"166.66666666666666\" y=\"-142.85714285714286\" width=\"20.833\" height=\"7.143\" opacity=\"8.781177937407002e-05\" fill=\"currentColor\" stroke-width=\"0.1\"/>\n",
       "<rect x=\"187.5\" y=\"-142.85714285714286\" width=\"20.833\" height=\"7.143\" opacity=\"0.0008158870503166708\" fill=\"currentColor\" stroke-width=\"0.1\"/>\n",
       "<rect x=\"208.33333333333334\" y=\"-142.85714285714286\" width=\"20.833\" height=\"7.143\" opacity=\"1.6451348735241794e-05\" fill=\"currentColor\" stroke-width=\"0.1\"/>\n",
       "<rect x=\"229.16666666666666\" y=\"-142.85714285714286\" width=\"20.833\" height=\"7.143\" opacity=\"8.263969767211033e-06\" fill=\"currentColor\" stroke-width=\"0.1\"/>\n",
       "<rect x=\"0.0\" y=\"-150.0\" width=\"20.833\" height=\"7.143\" opacity=\"0.003072563713022549\" fill=\"currentColor\" stroke-width=\"0.1\"/>\n",
       "<rect x=\"20.833333333333332\" y=\"-150.0\" width=\"20.833\" height=\"7.143\" opacity=\"0.00015352580454982675\" fill=\"currentColor\" stroke-width=\"0.1\"/>\n",
       "<rect x=\"41.666666666666664\" y=\"-150.0\" width=\"20.833\" height=\"7.143\" opacity=\"0.00018944183052287326\" fill=\"currentColor\" stroke-width=\"0.1\"/>\n",
       "<rect x=\"62.5\" y=\"-150.0\" width=\"20.833\" height=\"7.143\" opacity=\"3.6376093699806415e-06\" fill=\"currentColor\" stroke-width=\"0.1\"/>\n",
       "<rect x=\"83.33333333333333\" y=\"-150.0\" width=\"20.833\" height=\"7.143\" opacity=\"2.4664181895820535e-07\" fill=\"currentColor\" stroke-width=\"0.1\"/>\n",
       "<rect x=\"104.16666666666667\" y=\"-150.0\" width=\"20.833\" height=\"7.143\" opacity=\"3.9346427864968733e-07\" fill=\"currentColor\" stroke-width=\"0.1\"/>\n",
       "<rect x=\"125.0\" y=\"-150.0\" width=\"20.833\" height=\"7.143\" opacity=\"0.0\" fill=\"currentColor\" stroke-width=\"0.1\"/>\n",
       "<rect x=\"145.83333333333334\" y=\"-150.0\" width=\"20.833\" height=\"7.143\" opacity=\"0.0018108944650731353\" fill=\"currentColor\" stroke-width=\"0.1\"/>\n",
       "<rect x=\"166.66666666666666\" y=\"-150.0\" width=\"20.833\" height=\"7.143\" opacity=\"8.040177796318392e-05\" fill=\"currentColor\" stroke-width=\"0.1\"/>\n",
       "<rect x=\"187.5\" y=\"-150.0\" width=\"20.833\" height=\"7.143\" opacity=\"0.0006477056644229391\" fill=\"currentColor\" stroke-width=\"0.1\"/>\n",
       "<rect x=\"208.33333333333334\" y=\"-150.0\" width=\"20.833\" height=\"7.143\" opacity=\"1.0488909103827522e-05\" fill=\"currentColor\" stroke-width=\"0.1\"/>\n",
       "<rect x=\"229.16666666666666\" y=\"-150.0\" width=\"20.833\" height=\"7.143\" opacity=\"9.361731026396256e-06\" fill=\"currentColor\" stroke-width=\"0.1\"/>\n",
       "<rect x=\"0.0\" y=\"-157.14285714285714\" width=\"20.833\" height=\"7.143\" opacity=\"0.00267995834969189\" fill=\"currentColor\" stroke-width=\"0.1\"/>\n",
       "<rect x=\"20.833333333333332\" y=\"-157.14285714285714\" width=\"20.833\" height=\"7.143\" opacity=\"0.00017598123289137065\" fill=\"currentColor\" stroke-width=\"0.1\"/>\n",
       "<rect x=\"41.666666666666664\" y=\"-157.14285714285714\" width=\"20.833\" height=\"7.143\" opacity=\"0.000351384639284708\" fill=\"currentColor\" stroke-width=\"0.1\"/>\n",
       "<rect x=\"62.5\" y=\"-157.14285714285714\" width=\"20.833\" height=\"7.143\" opacity=\"3.395038851275376e-06\" fill=\"currentColor\" stroke-width=\"0.1\"/>\n",
       "<rect x=\"83.33333333333333\" y=\"-157.14285714285714\" width=\"20.833\" height=\"7.143\" opacity=\"5.029928141367556e-07\" fill=\"currentColor\" stroke-width=\"0.1\"/>\n",
       "<rect x=\"104.16666666666667\" y=\"-157.14285714285714\" width=\"20.833\" height=\"7.143\" opacity=\"2.4923649387928236e-07\" fill=\"currentColor\" stroke-width=\"0.1\"/>\n",
       "<rect x=\"125.0\" y=\"-157.14285714285714\" width=\"20.833\" height=\"7.143\" opacity=\"8.758864243117757e-07\" fill=\"currentColor\" stroke-width=\"0.1\"/>\n",
       "<rect x=\"145.83333333333334\" y=\"-157.14285714285714\" width=\"20.833\" height=\"7.143\" opacity=\"0.0015978895920574707\" fill=\"currentColor\" stroke-width=\"0.1\"/>\n",
       "<rect x=\"166.66666666666666\" y=\"-157.14285714285714\" width=\"20.833\" height=\"7.143\" opacity=\"9.111690307737395e-05\" fill=\"currentColor\" stroke-width=\"0.1\"/>\n",
       "<rect x=\"187.5\" y=\"-157.14285714285714\" width=\"20.833\" height=\"7.143\" opacity=\"0.0006061815761623354\" fill=\"currentColor\" stroke-width=\"0.1\"/>\n",
       "<rect x=\"208.33333333333334\" y=\"-157.14285714285714\" width=\"20.833\" height=\"7.143\" opacity=\"1.1121337934488482e-05\" fill=\"currentColor\" stroke-width=\"0.1\"/>\n",
       "<rect x=\"229.16666666666666\" y=\"-157.14285714285714\" width=\"20.833\" height=\"7.143\" opacity=\"0.0\" fill=\"currentColor\" stroke-width=\"0.1\"/>\n",
       "<rect x=\"0.0\" y=\"-164.28571428571428\" width=\"20.833\" height=\"7.143\" opacity=\"0.0020142362118703377\" fill=\"currentColor\" stroke-width=\"0.1\"/>\n",
       "<rect x=\"20.833333333333332\" y=\"-164.28571428571428\" width=\"20.833\" height=\"7.143\" opacity=\"9.843996656973526e-05\" fill=\"currentColor\" stroke-width=\"0.1\"/>\n",
       "<rect x=\"41.666666666666664\" y=\"-164.28571428571428\" width=\"20.833\" height=\"7.143\" opacity=\"0.00015592444645486585\" fill=\"currentColor\" stroke-width=\"0.1\"/>\n",
       "<rect x=\"62.5\" y=\"-164.28571428571428\" width=\"20.833\" height=\"7.143\" opacity=\"3.212769864478704e-06\" fill=\"currentColor\" stroke-width=\"0.1\"/>\n",
       "<rect x=\"83.33333333333333\" y=\"-164.28571428571428\" width=\"20.833\" height=\"7.143\" opacity=\"2.2439900177566825e-07\" fill=\"currentColor\" stroke-width=\"0.1\"/>\n",
       "<rect x=\"104.16666666666667\" y=\"-164.28571428571428\" width=\"20.833\" height=\"7.143\" opacity=\"1.4474742615070445e-07\" fill=\"currentColor\" stroke-width=\"0.1\"/>\n",
       "<rect x=\"125.0\" y=\"-164.28571428571428\" width=\"20.833\" height=\"7.143\" opacity=\"0.0\" fill=\"currentColor\" stroke-width=\"0.1\"/>\n",
       "<rect x=\"145.83333333333334\" y=\"-164.28571428571428\" width=\"20.833\" height=\"7.143\" opacity=\"0.0014761549175165858\" fill=\"currentColor\" stroke-width=\"0.1\"/>\n",
       "<rect x=\"166.66666666666666\" y=\"-164.28571428571428\" width=\"20.833\" height=\"7.143\" opacity=\"7.35993179374342e-05\" fill=\"currentColor\" stroke-width=\"0.1\"/>\n",
       "<rect x=\"187.5\" y=\"-164.28571428571428\" width=\"20.833\" height=\"7.143\" opacity=\"0.0003958201330190561\" fill=\"currentColor\" stroke-width=\"0.1\"/>\n",
       "<rect x=\"208.33333333333334\" y=\"-164.28571428571428\" width=\"20.833\" height=\"7.143\" opacity=\"8.038828227986671e-06\" fill=\"currentColor\" stroke-width=\"0.1\"/>\n",
       "<rect x=\"229.16666666666666\" y=\"-164.28571428571428\" width=\"20.833\" height=\"7.143\" opacity=\"6.157878419267086e-06\" fill=\"currentColor\" stroke-width=\"0.1\"/>\n",
       "<rect x=\"0.0\" y=\"-171.42857142857142\" width=\"20.833\" height=\"7.143\" opacity=\"0.0013314442756431047\" fill=\"currentColor\" stroke-width=\"0.1\"/>\n",
       "<rect x=\"20.833333333333332\" y=\"-171.42857142857142\" width=\"20.833\" height=\"7.143\" opacity=\"8.900610990216615e-05\" fill=\"currentColor\" stroke-width=\"0.1\"/>\n",
       "<rect x=\"41.666666666666664\" y=\"-171.42857142857142\" width=\"20.833\" height=\"7.143\" opacity=\"7.711666749428935e-05\" fill=\"currentColor\" stroke-width=\"0.1\"/>\n",
       "<rect x=\"62.5\" y=\"-171.42857142857142\" width=\"20.833\" height=\"7.143\" opacity=\"2.5932751271366737e-06\" fill=\"currentColor\" stroke-width=\"0.1\"/>\n",
       "<rect x=\"83.33333333333333\" y=\"-171.42857142857142\" width=\"20.833\" height=\"7.143\" opacity=\"2.5581554882460486e-07\" fill=\"currentColor\" stroke-width=\"0.1\"/>\n",
       "<rect x=\"104.16666666666667\" y=\"-171.42857142857142\" width=\"20.833\" height=\"7.143\" opacity=\"0.0\" fill=\"currentColor\" stroke-width=\"0.1\"/>\n",
       "<rect x=\"125.0\" y=\"-171.42857142857142\" width=\"20.833\" height=\"7.143\" opacity=\"0.0\" fill=\"currentColor\" stroke-width=\"0.1\"/>\n",
       "<rect x=\"145.83333333333334\" y=\"-171.42857142857142\" width=\"20.833\" height=\"7.143\" opacity=\"0.0012029229666473671\" fill=\"currentColor\" stroke-width=\"0.1\"/>\n",
       "<rect x=\"166.66666666666666\" y=\"-171.42857142857142\" width=\"20.833\" height=\"7.143\" opacity=\"7.117315489118632e-05\" fill=\"currentColor\" stroke-width=\"0.1\"/>\n",
       "<rect x=\"187.5\" y=\"-171.42857142857142\" width=\"20.833\" height=\"7.143\" opacity=\"0.0002898395968748197\" fill=\"currentColor\" stroke-width=\"0.1\"/>\n",
       "<rect x=\"208.33333333333334\" y=\"-171.42857142857142\" width=\"20.833\" height=\"7.143\" opacity=\"3.678584477634993e-06\" fill=\"currentColor\" stroke-width=\"0.1\"/>\n",
       "<rect x=\"229.16666666666666\" y=\"-171.42857142857142\" width=\"20.833\" height=\"7.143\" opacity=\"0.0\" fill=\"currentColor\" stroke-width=\"0.1\"/>\n",
       "<rect x=\"0.0\" y=\"-178.57142857142858\" width=\"20.833\" height=\"7.143\" opacity=\"0.0015021422596999128\" fill=\"currentColor\" stroke-width=\"0.1\"/>\n",
       "<rect x=\"20.833333333333332\" y=\"-178.57142857142858\" width=\"20.833\" height=\"7.143\" opacity=\"7.894522799915764e-05\" fill=\"currentColor\" stroke-width=\"0.1\"/>\n",
       "<rect x=\"41.666666666666664\" y=\"-178.57142857142858\" width=\"20.833\" height=\"7.143\" opacity=\"9.175600601475936e-05\" fill=\"currentColor\" stroke-width=\"0.1\"/>\n",
       "<rect x=\"62.5\" y=\"-178.57142857142858\" width=\"20.833\" height=\"7.143\" opacity=\"1.1671872217773003e-06\" fill=\"currentColor\" stroke-width=\"0.1\"/>\n",
       "<rect x=\"83.33333333333333\" y=\"-178.57142857142858\" width=\"20.833\" height=\"7.143\" opacity=\"2.242231178958413e-07\" fill=\"currentColor\" stroke-width=\"0.1\"/>\n",
       "<rect x=\"104.16666666666667\" y=\"-178.57142857142858\" width=\"20.833\" height=\"7.143\" opacity=\"3.885611184275659e-07\" fill=\"currentColor\" stroke-width=\"0.1\"/>\n",
       "<rect x=\"125.0\" y=\"-178.57142857142858\" width=\"20.833\" height=\"7.143\" opacity=\"0.0\" fill=\"currentColor\" stroke-width=\"0.1\"/>\n",
       "<rect x=\"145.83333333333334\" y=\"-178.57142857142858\" width=\"20.833\" height=\"7.143\" opacity=\"0.0010330909124183177\" fill=\"currentColor\" stroke-width=\"0.1\"/>\n",
       "<rect x=\"166.66666666666666\" y=\"-178.57142857142858\" width=\"20.833\" height=\"7.143\" opacity=\"4.45251767816256e-05\" fill=\"currentColor\" stroke-width=\"0.1\"/>\n",
       "<rect x=\"187.5\" y=\"-178.57142857142858\" width=\"20.833\" height=\"7.143\" opacity=\"0.00026289190915290266\" fill=\"currentColor\" stroke-width=\"0.1\"/>\n",
       "<rect x=\"208.33333333333334\" y=\"-178.57142857142858\" width=\"20.833\" height=\"7.143\" opacity=\"7.15253047271652e-06\" fill=\"currentColor\" stroke-width=\"0.1\"/>\n",
       "<rect x=\"229.16666666666666\" y=\"-178.57142857142858\" width=\"20.833\" height=\"7.143\" opacity=\"0.0\" fill=\"currentColor\" stroke-width=\"0.1\"/>\n",
       "<rect x=\"0.0\" y=\"-185.71428571428572\" width=\"20.833\" height=\"7.143\" opacity=\"0.0010071181059351688\" fill=\"currentColor\" stroke-width=\"0.1\"/>\n",
       "<rect x=\"20.833333333333332\" y=\"-185.71428571428572\" width=\"20.833\" height=\"7.143\" opacity=\"6.118144444972287e-05\" fill=\"currentColor\" stroke-width=\"0.1\"/>\n",
       "<rect x=\"41.666666666666664\" y=\"-185.71428571428572\" width=\"20.833\" height=\"7.143\" opacity=\"8.502937602679701e-05\" fill=\"currentColor\" stroke-width=\"0.1\"/>\n",
       "<rect x=\"62.5\" y=\"-185.71428571428572\" width=\"20.833\" height=\"7.143\" opacity=\"1.679339420062147e-06\" fill=\"currentColor\" stroke-width=\"0.1\"/>\n",
       "<rect x=\"83.33333333333333\" y=\"-185.71428571428572\" width=\"20.833\" height=\"7.143\" opacity=\"1.0751794333243477e-07\" fill=\"currentColor\" stroke-width=\"0.1\"/>\n",
       "<rect x=\"104.16666666666667\" y=\"-185.71428571428572\" width=\"20.833\" height=\"7.143\" opacity=\"0.0\" fill=\"currentColor\" stroke-width=\"0.1\"/>\n",
       "<rect x=\"125.0\" y=\"-185.71428571428572\" width=\"20.833\" height=\"7.143\" opacity=\"0.0\" fill=\"currentColor\" stroke-width=\"0.1\"/>\n",
       "<rect x=\"145.83333333333334\" y=\"-185.71428571428572\" width=\"20.833\" height=\"7.143\" opacity=\"0.0008643868311125372\" fill=\"currentColor\" stroke-width=\"0.1\"/>\n",
       "<rect x=\"166.66666666666666\" y=\"-185.71428571428572\" width=\"20.833\" height=\"7.143\" opacity=\"5.282870897786426e-05\" fill=\"currentColor\" stroke-width=\"0.1\"/>\n",
       "<rect x=\"187.5\" y=\"-185.71428571428572\" width=\"20.833\" height=\"7.143\" opacity=\"0.00018135483419589687\" fill=\"currentColor\" stroke-width=\"0.1\"/>\n",
       "<rect x=\"208.33333333333334\" y=\"-185.71428571428572\" width=\"20.833\" height=\"7.143\" opacity=\"3.154200654756045e-06\" fill=\"currentColor\" stroke-width=\"0.1\"/>\n",
       "<rect x=\"229.16666666666666\" y=\"-185.71428571428572\" width=\"20.833\" height=\"7.143\" opacity=\"3.194338929925001e-06\" fill=\"currentColor\" stroke-width=\"0.1\"/>\n",
       "<rect x=\"0.0\" y=\"-192.85714285714286\" width=\"20.833\" height=\"7.143\" opacity=\"0.0009388389123124455\" fill=\"currentColor\" stroke-width=\"0.1\"/>\n",
       "<rect x=\"20.833333333333332\" y=\"-192.85714285714286\" width=\"20.833\" height=\"7.143\" opacity=\"6.149884796447794e-05\" fill=\"currentColor\" stroke-width=\"0.1\"/>\n",
       "<rect x=\"41.666666666666664\" y=\"-192.85714285714286\" width=\"20.833\" height=\"7.143\" opacity=\"8.519839471698122e-05\" fill=\"currentColor\" stroke-width=\"0.1\"/>\n",
       "<rect x=\"62.5\" y=\"-192.85714285714286\" width=\"20.833\" height=\"7.143\" opacity=\"1.1684038539407785e-06\" fill=\"currentColor\" stroke-width=\"0.1\"/>\n",
       "<rect x=\"83.33333333333333\" y=\"-192.85714285714286\" width=\"20.833\" height=\"7.143\" opacity=\"5.590844527576522e-08\" fill=\"currentColor\" stroke-width=\"0.1\"/>\n",
       "<rect x=\"104.16666666666667\" y=\"-192.85714285714286\" width=\"20.833\" height=\"7.143\" opacity=\"2.667130707062395e-07\" fill=\"currentColor\" stroke-width=\"0.1\"/>\n",
       "<rect x=\"125.0\" y=\"-192.85714285714286\" width=\"20.833\" height=\"7.143\" opacity=\"0.0\" fill=\"currentColor\" stroke-width=\"0.1\"/>\n",
       "<rect x=\"145.83333333333334\" y=\"-192.85714285714286\" width=\"20.833\" height=\"7.143\" opacity=\"0.000757918921608622\" fill=\"currentColor\" stroke-width=\"0.1\"/>\n",
       "<rect x=\"166.66666666666666\" y=\"-192.85714285714286\" width=\"20.833\" height=\"7.143\" opacity=\"4.389856891355163e-05\" fill=\"currentColor\" stroke-width=\"0.1\"/>\n",
       "<rect x=\"187.5\" y=\"-192.85714285714286\" width=\"20.833\" height=\"7.143\" opacity=\"0.00015490798089031775\" fill=\"currentColor\" stroke-width=\"0.1\"/>\n",
       "<rect x=\"208.33333333333334\" y=\"-192.85714285714286\" width=\"20.833\" height=\"7.143\" opacity=\"1.4525904942043358e-06\" fill=\"currentColor\" stroke-width=\"0.1\"/>\n",
       "<rect x=\"229.16666666666666\" y=\"-192.85714285714286\" width=\"20.833\" height=\"7.143\" opacity=\"2.937259481177372e-06\" fill=\"currentColor\" stroke-width=\"0.1\"/>\n",
       "<rect x=\"0.0\" y=\"-200.0\" width=\"20.833\" height=\"7.143\" opacity=\"0.0007852107266613181\" fill=\"currentColor\" stroke-width=\"0.1\"/>\n",
       "<rect x=\"20.833333333333332\" y=\"-200.0\" width=\"20.833\" height=\"7.143\" opacity=\"4.797539074111134e-05\" fill=\"currentColor\" stroke-width=\"0.1\"/>\n",
       "<rect x=\"41.666666666666664\" y=\"-200.0\" width=\"20.833\" height=\"7.143\" opacity=\"5.278928975305771e-05\" fill=\"currentColor\" stroke-width=\"0.1\"/>\n",
       "<rect x=\"62.5\" y=\"-200.0\" width=\"20.833\" height=\"7.143\" opacity=\"1.8403798710770467e-06\" fill=\"currentColor\" stroke-width=\"0.1\"/>\n",
       "<rect x=\"83.33333333333333\" y=\"-200.0\" width=\"20.833\" height=\"7.143\" opacity=\"7.986209526833259e-08\" fill=\"currentColor\" stroke-width=\"0.1\"/>\n",
       "<rect x=\"104.16666666666667\" y=\"-200.0\" width=\"20.833\" height=\"7.143\" opacity=\"0.0\" fill=\"currentColor\" stroke-width=\"0.1\"/>\n",
       "<rect x=\"125.0\" y=\"-200.0\" width=\"20.833\" height=\"7.143\" opacity=\"0.0\" fill=\"currentColor\" stroke-width=\"0.1\"/>\n",
       "<rect x=\"145.83333333333334\" y=\"-200.0\" width=\"20.833\" height=\"7.143\" opacity=\"0.0005132579034556039\" fill=\"currentColor\" stroke-width=\"0.1\"/>\n",
       "<rect x=\"166.66666666666666\" y=\"-200.0\" width=\"20.833\" height=\"7.143\" opacity=\"2.2090523171493344e-05\" fill=\"currentColor\" stroke-width=\"0.1\"/>\n",
       "<rect x=\"187.5\" y=\"-200.0\" width=\"20.833\" height=\"7.143\" opacity=\"0.00012281530114722895\" fill=\"currentColor\" stroke-width=\"0.1\"/>\n",
       "<rect x=\"208.33333333333334\" y=\"-200.0\" width=\"20.833\" height=\"7.143\" opacity=\"1.207187581692291e-06\" fill=\"currentColor\" stroke-width=\"0.1\"/>\n",
       "<rect x=\"229.16666666666666\" y=\"-200.0\" width=\"20.833\" height=\"7.143\" opacity=\"0.0\" fill=\"currentColor\" stroke-width=\"0.1\"/>\n",
       "<rect x=\"0.0\" y=\"-207.14285714285717\" width=\"20.833\" height=\"7.143\" opacity=\"0.0004608845569533807\" fill=\"currentColor\" stroke-width=\"0.1\"/>\n",
       "<rect x=\"20.833333333333332\" y=\"-207.14285714285717\" width=\"20.833\" height=\"7.143\" opacity=\"2.9886600931736323e-05\" fill=\"currentColor\" stroke-width=\"0.1\"/>\n",
       "<rect x=\"41.666666666666664\" y=\"-207.14285714285717\" width=\"20.833\" height=\"7.143\" opacity=\"6.633015428757864e-05\" fill=\"currentColor\" stroke-width=\"0.1\"/>\n",
       "<rect x=\"62.5\" y=\"-207.14285714285717\" width=\"20.833\" height=\"7.143\" opacity=\"1.0074488490706615e-06\" fill=\"currentColor\" stroke-width=\"0.1\"/>\n",
       "<rect x=\"83.33333333333333\" y=\"-207.14285714285717\" width=\"20.833\" height=\"7.143\" opacity=\"1.3588768737279866e-07\" fill=\"currentColor\" stroke-width=\"0.1\"/>\n",
       "<rect x=\"104.16666666666667\" y=\"-207.14285714285717\" width=\"20.833\" height=\"7.143\" opacity=\"0.0\" fill=\"currentColor\" stroke-width=\"0.1\"/>\n",
       "<rect x=\"125.0\" y=\"-207.14285714285717\" width=\"20.833\" height=\"7.143\" opacity=\"0.0\" fill=\"currentColor\" stroke-width=\"0.1\"/>\n",
       "<rect x=\"145.83333333333334\" y=\"-207.14285714285717\" width=\"20.833\" height=\"7.143\" opacity=\"0.00045979708916389845\" fill=\"currentColor\" stroke-width=\"0.1\"/>\n",
       "<rect x=\"166.66666666666666\" y=\"-207.14285714285717\" width=\"20.833\" height=\"7.143\" opacity=\"1.2161700260632613e-05\" fill=\"currentColor\" stroke-width=\"0.1\"/>\n",
       "<rect x=\"187.5\" y=\"-207.14285714285717\" width=\"20.833\" height=\"7.143\" opacity=\"0.00010157323544669132\" fill=\"currentColor\" stroke-width=\"0.1\"/>\n",
       "<rect x=\"208.33333333333334\" y=\"-207.14285714285717\" width=\"20.833\" height=\"7.143\" opacity=\"2.3510257615013243e-06\" fill=\"currentColor\" stroke-width=\"0.1\"/>\n",
       "<rect x=\"229.16666666666666\" y=\"-207.14285714285717\" width=\"20.833\" height=\"7.143\" opacity=\"0.0\" fill=\"currentColor\" stroke-width=\"0.1\"/>\n",
       "<rect x=\"0.0\" y=\"-214.28571428571428\" width=\"20.833\" height=\"7.143\" opacity=\"0.00022190737927385156\" fill=\"currentColor\" stroke-width=\"0.1\"/>\n",
       "<rect x=\"20.833333333333332\" y=\"-214.28571428571428\" width=\"20.833\" height=\"7.143\" opacity=\"2.1501233074416642e-05\" fill=\"currentColor\" stroke-width=\"0.1\"/>\n",
       "<rect x=\"41.666666666666664\" y=\"-214.28571428571428\" width=\"20.833\" height=\"7.143\" opacity=\"3.996366131262446e-05\" fill=\"currentColor\" stroke-width=\"0.1\"/>\n",
       "<rect x=\"62.5\" y=\"-214.28571428571428\" width=\"20.833\" height=\"7.143\" opacity=\"6.242205860772099e-07\" fill=\"currentColor\" stroke-width=\"0.1\"/>\n",
       "<rect x=\"83.33333333333333\" y=\"-214.28571428571428\" width=\"20.833\" height=\"7.143\" opacity=\"6.21506672178058e-08\" fill=\"currentColor\" stroke-width=\"0.1\"/>\n",
       "<rect x=\"104.16666666666667\" y=\"-214.28571428571428\" width=\"20.833\" height=\"7.143\" opacity=\"0.0\" fill=\"currentColor\" stroke-width=\"0.1\"/>\n",
       "<rect x=\"125.0\" y=\"-214.28571428571428\" width=\"20.833\" height=\"7.143\" opacity=\"0.0\" fill=\"currentColor\" stroke-width=\"0.1\"/>\n",
       "<rect x=\"145.83333333333334\" y=\"-214.28571428571428\" width=\"20.833\" height=\"7.143\" opacity=\"0.0003889747961667183\" fill=\"currentColor\" stroke-width=\"0.1\"/>\n",
       "<rect x=\"166.66666666666666\" y=\"-214.28571428571428\" width=\"20.833\" height=\"7.143\" opacity=\"4.369083216456999e-06\" fill=\"currentColor\" stroke-width=\"0.1\"/>\n",
       "<rect x=\"187.5\" y=\"-214.28571428571428\" width=\"20.833\" height=\"7.143\" opacity=\"9.236740139942709e-05\" fill=\"currentColor\" stroke-width=\"0.1\"/>\n",
       "<rect x=\"208.33333333333334\" y=\"-214.28571428571428\" width=\"20.833\" height=\"7.143\" opacity=\"2.9580921016182686e-06\" fill=\"currentColor\" stroke-width=\"0.1\"/>\n",
       "<rect x=\"229.16666666666666\" y=\"-214.28571428571428\" width=\"20.833\" height=\"7.143\" opacity=\"0.0\" fill=\"currentColor\" stroke-width=\"0.1\"/>\n",
       "<rect x=\"0.0\" y=\"-221.42857142857142\" width=\"20.833\" height=\"7.143\" opacity=\"0.00040967516173633984\" fill=\"currentColor\" stroke-width=\"0.1\"/>\n",
       "<rect x=\"20.833333333333332\" y=\"-221.42857142857142\" width=\"20.833\" height=\"7.143\" opacity=\"3.331336277505575e-05\" fill=\"currentColor\" stroke-width=\"0.1\"/>\n",
       "<rect x=\"41.666666666666664\" y=\"-221.42857142857142\" width=\"20.833\" height=\"7.143\" opacity=\"4.5066521555204087e-05\" fill=\"currentColor\" stroke-width=\"0.1\"/>\n",
       "<rect x=\"62.5\" y=\"-221.42857142857142\" width=\"20.833\" height=\"7.143\" opacity=\"1.2092559591590237e-06\" fill=\"currentColor\" stroke-width=\"0.1\"/>\n",
       "<rect x=\"83.33333333333333\" y=\"-221.42857142857142\" width=\"20.833\" height=\"7.143\" opacity=\"4.9277319397593564e-08\" fill=\"currentColor\" stroke-width=\"0.1\"/>\n",
       "<rect x=\"104.16666666666667\" y=\"-221.42857142857142\" width=\"20.833\" height=\"7.143\" opacity=\"0.0\" fill=\"currentColor\" stroke-width=\"0.1\"/>\n",
       "<rect x=\"125.0\" y=\"-221.42857142857142\" width=\"20.833\" height=\"7.143\" opacity=\"0.0\" fill=\"currentColor\" stroke-width=\"0.1\"/>\n",
       "<rect x=\"145.83333333333334\" y=\"-221.42857142857142\" width=\"20.833\" height=\"7.143\" opacity=\"0.0002789914250294616\" fill=\"currentColor\" stroke-width=\"0.1\"/>\n",
       "<rect x=\"166.66666666666666\" y=\"-221.42857142857142\" width=\"20.833\" height=\"7.143\" opacity=\"1.957650914024325e-05\" fill=\"currentColor\" stroke-width=\"0.1\"/>\n",
       "<rect x=\"187.5\" y=\"-221.42857142857142\" width=\"20.833\" height=\"7.143\" opacity=\"8.56750366663769e-05\" fill=\"currentColor\" stroke-width=\"0.1\"/>\n",
       "<rect x=\"208.33333333333334\" y=\"-221.42857142857142\" width=\"20.833\" height=\"7.143\" opacity=\"9.729930735892493e-07\" fill=\"currentColor\" stroke-width=\"0.1\"/>\n",
       "<rect x=\"229.16666666666666\" y=\"-221.42857142857142\" width=\"20.833\" height=\"7.143\" opacity=\"0.0\" fill=\"currentColor\" stroke-width=\"0.1\"/>\n",
       "<rect x=\"0.0\" y=\"-228.57142857142856\" width=\"20.833\" height=\"7.143\" opacity=\"0.0002901865728965741\" fill=\"currentColor\" stroke-width=\"0.1\"/>\n",
       "<rect x=\"20.833333333333332\" y=\"-228.57142857142856\" width=\"20.833\" height=\"7.143\" opacity=\"2.615206674342438e-05\" fill=\"currentColor\" stroke-width=\"0.1\"/>\n",
       "<rect x=\"41.666666666666664\" y=\"-228.57142857142856\" width=\"20.833\" height=\"7.143\" opacity=\"1.3715520070726559e-05\" fill=\"currentColor\" stroke-width=\"0.1\"/>\n",
       "<rect x=\"62.5\" y=\"-228.57142857142856\" width=\"20.833\" height=\"7.143\" opacity=\"6.12783757432692e-07\" fill=\"currentColor\" stroke-width=\"0.1\"/>\n",
       "<rect x=\"83.33333333333333\" y=\"-228.57142857142856\" width=\"20.833\" height=\"7.143\" opacity=\"1.931884278175765e-08\" fill=\"currentColor\" stroke-width=\"0.1\"/>\n",
       "<rect x=\"104.16666666666667\" y=\"-228.57142857142856\" width=\"20.833\" height=\"7.143\" opacity=\"0.0\" fill=\"currentColor\" stroke-width=\"0.1\"/>\n",
       "<rect x=\"125.0\" y=\"-228.57142857142856\" width=\"20.833\" height=\"7.143\" opacity=\"0.0\" fill=\"currentColor\" stroke-width=\"0.1\"/>\n",
       "<rect x=\"145.83333333333334\" y=\"-228.57142857142856\" width=\"20.833\" height=\"7.143\" opacity=\"0.0002557421142982476\" fill=\"currentColor\" stroke-width=\"0.1\"/>\n",
       "<rect x=\"166.66666666666666\" y=\"-228.57142857142856\" width=\"20.833\" height=\"7.143\" opacity=\"7.251160188242549e-06\" fill=\"currentColor\" stroke-width=\"0.1\"/>\n",
       "<rect x=\"187.5\" y=\"-228.57142857142856\" width=\"20.833\" height=\"7.143\" opacity=\"5.7151709552109175e-05\" fill=\"currentColor\" stroke-width=\"0.1\"/>\n",
       "<rect x=\"208.33333333333334\" y=\"-228.57142857142856\" width=\"20.833\" height=\"7.143\" opacity=\"3.7661417744380257e-06\" fill=\"currentColor\" stroke-width=\"0.1\"/>\n",
       "<rect x=\"229.16666666666666\" y=\"-228.57142857142856\" width=\"20.833\" height=\"7.143\" opacity=\"0.0\" fill=\"currentColor\" stroke-width=\"0.1\"/>\n",
       "<rect x=\"0.0\" y=\"-235.71428571428572\" width=\"20.833\" height=\"7.143\" opacity=\"0.0002901865728965741\" fill=\"currentColor\" stroke-width=\"0.1\"/>\n",
       "<rect x=\"20.833333333333332\" y=\"-235.71428571428572\" width=\"20.833\" height=\"7.143\" opacity=\"1.8324112842630133e-05\" fill=\"currentColor\" stroke-width=\"0.1\"/>\n",
       "<rect x=\"41.666666666666664\" y=\"-235.71428571428572\" width=\"20.833\" height=\"7.143\" opacity=\"1.464629741061193e-05\" fill=\"currentColor\" stroke-width=\"0.1\"/>\n",
       "<rect x=\"62.5\" y=\"-235.71428571428572\" width=\"20.833\" height=\"7.143\" opacity=\"3.785175243324425e-07\" fill=\"currentColor\" stroke-width=\"0.1\"/>\n",
       "<rect x=\"83.33333333333333\" y=\"-235.71428571428572\" width=\"20.833\" height=\"7.143\" opacity=\"0.0\" fill=\"currentColor\" stroke-width=\"0.1\"/>\n",
       "<rect x=\"104.16666666666667\" y=\"-235.71428571428572\" width=\"20.833\" height=\"7.143\" opacity=\"0.0\" fill=\"currentColor\" stroke-width=\"0.1\"/>\n",
       "<rect x=\"125.0\" y=\"-235.71428571428572\" width=\"20.833\" height=\"7.143\" opacity=\"0.0\" fill=\"currentColor\" stroke-width=\"0.1\"/>\n",
       "<rect x=\"145.83333333333334\" y=\"-235.71428571428572\" width=\"20.833\" height=\"7.143\" opacity=\"0.00022404488610346224\" fill=\"currentColor\" stroke-width=\"0.1\"/>\n",
       "<rect x=\"166.66666666666666\" y=\"-235.71428571428572\" width=\"20.833\" height=\"7.143\" opacity=\"5.463824632554479e-06\" fill=\"currentColor\" stroke-width=\"0.1\"/>\n",
       "<rect x=\"187.5\" y=\"-235.71428571428572\" width=\"20.833\" height=\"7.143\" opacity=\"4.697368724362146e-05\" fill=\"currentColor\" stroke-width=\"0.1\"/>\n",
       "<rect x=\"208.33333333333334\" y=\"-235.71428571428572\" width=\"20.833\" height=\"7.143\" opacity=\"3.882047577198493e-06\" fill=\"currentColor\" stroke-width=\"0.1\"/>\n",
       "<rect x=\"229.16666666666666\" y=\"-235.71428571428572\" width=\"20.833\" height=\"7.143\" opacity=\"0.0\" fill=\"currentColor\" stroke-width=\"0.1\"/>\n",
       "<rect x=\"0.0\" y=\"-242.85714285714286\" width=\"20.833\" height=\"7.143\" opacity=\"0.00013655838724544662\" fill=\"currentColor\" stroke-width=\"0.1\"/>\n",
       "<rect x=\"20.833333333333332\" y=\"-242.85714285714286\" width=\"20.833\" height=\"7.143\" opacity=\"1.2804214882181393e-05\" fill=\"currentColor\" stroke-width=\"0.1\"/>\n",
       "<rect x=\"41.666666666666664\" y=\"-242.85714285714286\" width=\"20.833\" height=\"7.143\" opacity=\"4.586281999766214e-06\" fill=\"currentColor\" stroke-width=\"0.1\"/>\n",
       "<rect x=\"62.5\" y=\"-242.85714285714286\" width=\"20.833\" height=\"7.143\" opacity=\"5.844079384382585e-07\" fill=\"currentColor\" stroke-width=\"0.1\"/>\n",
       "<rect x=\"83.33333333333333\" y=\"-242.85714285714286\" width=\"20.833\" height=\"7.143\" opacity=\"0.0\" fill=\"currentColor\" stroke-width=\"0.1\"/>\n",
       "<rect x=\"104.16666666666667\" y=\"-242.85714285714286\" width=\"20.833\" height=\"7.143\" opacity=\"0.0\" fill=\"currentColor\" stroke-width=\"0.1\"/>\n",
       "<rect x=\"125.0\" y=\"-242.85714285714286\" width=\"20.833\" height=\"7.143\" opacity=\"0.0\" fill=\"currentColor\" stroke-width=\"0.1\"/>\n",
       "<rect x=\"145.83333333333334\" y=\"-242.85714285714286\" width=\"20.833\" height=\"7.143\" opacity=\"0.00022938207908863254\" fill=\"currentColor\" stroke-width=\"0.1\"/>\n",
       "<rect x=\"166.66666666666666\" y=\"-242.85714285714286\" width=\"20.833\" height=\"7.143\" opacity=\"1.5561770709149894e-05\" fill=\"currentColor\" stroke-width=\"0.1\"/>\n",
       "<rect x=\"187.5\" y=\"-242.85714285714286\" width=\"20.833\" height=\"7.143\" opacity=\"6.609956664217961e-05\" fill=\"currentColor\" stroke-width=\"0.1\"/>\n",
       "<rect x=\"208.33333333333334\" y=\"-242.85714285714286\" width=\"20.833\" height=\"7.143\" opacity=\"0.0\" fill=\"currentColor\" stroke-width=\"0.1\"/>\n",
       "<rect x=\"229.16666666666666\" y=\"-242.85714285714286\" width=\"20.833\" height=\"7.143\" opacity=\"0.0\" fill=\"currentColor\" stroke-width=\"0.1\"/>\n",
       "<rect x=\"0.0\" y=\"-250.0\" width=\"20.833\" height=\"7.143\" opacity=\"0.00017069798405680827\" fill=\"currentColor\" stroke-width=\"0.1\"/>\n",
       "<rect x=\"20.833333333333332\" y=\"-250.0\" width=\"20.833\" height=\"7.143\" opacity=\"2.2190176215914164e-05\" fill=\"currentColor\" stroke-width=\"0.1\"/>\n",
       "<rect x=\"41.666666666666664\" y=\"-250.0\" width=\"20.833\" height=\"7.143\" opacity=\"1.5785369498466206e-05\" fill=\"currentColor\" stroke-width=\"0.1\"/>\n",
       "<rect x=\"62.5\" y=\"-250.0\" width=\"20.833\" height=\"7.143\" opacity=\"5.933188462547651e-07\" fill=\"currentColor\" stroke-width=\"0.1\"/>\n",
       "<rect x=\"83.33333333333333\" y=\"-250.0\" width=\"20.833\" height=\"7.143\" opacity=\"1.2435387407958265e-08\" fill=\"currentColor\" stroke-width=\"0.1\"/>\n",
       "<rect x=\"104.16666666666667\" y=\"-250.0\" width=\"20.833\" height=\"7.143\" opacity=\"0.0\" fill=\"currentColor\" stroke-width=\"0.1\"/>\n",
       "<rect x=\"125.0\" y=\"-250.0\" width=\"20.833\" height=\"7.143\" opacity=\"0.0\" fill=\"currentColor\" stroke-width=\"0.1\"/>\n",
       "<rect x=\"145.83333333333334\" y=\"-250.0\" width=\"20.833\" height=\"7.143\" opacity=\"0.00013064467824304296\" fill=\"currentColor\" stroke-width=\"0.1\"/>\n",
       "<rect x=\"166.66666666666666\" y=\"-250.0\" width=\"20.833\" height=\"7.143\" opacity=\"3.897646334006534e-06\" fill=\"currentColor\" stroke-width=\"0.1\"/>\n",
       "<rect x=\"187.5\" y=\"-250.0\" width=\"20.833\" height=\"7.143\" opacity=\"3.35723846009545e-05\" fill=\"currentColor\" stroke-width=\"0.1\"/>\n",
       "<rect x=\"208.33333333333334\" y=\"-250.0\" width=\"20.833\" height=\"7.143\" opacity=\"0.0\" fill=\"currentColor\" stroke-width=\"0.1\"/>\n",
       "<rect x=\"229.16666666666666\" y=\"-250.0\" width=\"20.833\" height=\"7.143\" opacity=\"0.0\" fill=\"currentColor\" stroke-width=\"0.1\"/>\n",
       "</svg>\n",
       "</div>\n",
       "<div style=\"flex=grow:1;\">\n",
       "StrCategory(['SingleElectron', 'DYJets', 'QCD', 'ttHToNonbb_M125', 'VH', 'GluGluHToWW_Pt-200ToInf_M-125', 'VBFHToWWToLNuQQ_M-125_withDipoleRecoil', 'TTbar', 'SingleTop', 'WJetsLNu', 'WZQQ', 'Diboson'], growth=True, name='samples', label='samples')<br/>\n",
       "Regular(35, 0, 280, name='lep_fj_m', label='Jet - Lepton mass [GeV]')<br/>\n",
       "<hr style=\"margin-top:.2em; margin-bottom:.2em;\"/>\n",
       "Double() Σ=507212.3239609954 <em>(509511.0527281836 with flow)</em>\n",
       "\n",
       "</div>\n",
       "</div>\n",
       "</html>"
      ],
      "text/plain": [
       "Hist(\n",
       "  StrCategory(['SingleElectron', 'DYJets', 'QCD', 'ttHToNonbb_M125', 'VH', 'GluGluHToWW_Pt-200ToInf_M-125', 'VBFHToWWToLNuQQ_M-125_withDipoleRecoil', 'TTbar', 'SingleTop', 'WJetsLNu', 'WZQQ', 'Diboson'], growth=True, name='samples', label='samples'),\n",
       "  Regular(35, 0, 280, name='lep_fj_m', label='Jet - Lepton mass [GeV]'),\n",
       "  storage=Double()) # Sum: 507212.3239609954 (509511.0527281836 with flow)"
      ]
     },
     "execution_count": 96,
     "metadata": {},
     "output_type": "execute_result"
    }
   ],
   "source": [
    "hists[0.1]"
   ]
  },
  {
   "cell_type": "code",
   "execution_count": 84,
   "id": "4a36f8ad",
   "metadata": {},
   "outputs": [
    {
     "data": {
      "text/html": [
       "<html>\n",
       "<div style=\"display:flex; align-items:center;\">\n",
       "<div style=\"width:290px;\">\n",
       "<svg xmlns=\"http://www.w3.org/2000/svg\" viewBox=\"-10 -105 270 120\">\n",
       "<line x1=\"-5\" y1=\"0\" x2=\"255\" y2=\"0\" style=\"fill:none;stroke-width:2;stroke:currentColor\"/>\n",
       "<text text-anchor=\"middle\" x=\"0\" y=\"15\" style=\"fill:currentColor;\">\n",
       "0\n",
       "</text>\n",
       "<text text-anchor=\"middle\" x=\"250\" y=\"15\" style=\"fill:currentColor;\">\n",
       "280\n",
       "</text>\n",
       "<text text-anchor=\"middle\" x=\"125.0\" y=\"15\" style=\"fill:currentColor;\">\n",
       "Jet - Lepton mass [GeV]\n",
       "</text>\n",
       "<polyline points=\"  0,0   0,-0.0351 7.14286,-0.0351 7.14286,-1.24 14.2857,-1.24 14.2857,-36.4 21.4286,-36.4 21.4286,-79.8 28.5714,-79.8 28.5714,-100 35.7143,-100 35.7143,-93.1 42.8571,-93.1 42.8571,-64.5  50,-64.5  50,-33.6 57.1429,-33.6 57.1429,-19.7 64.2857,-19.7 64.2857,-13.9 71.4286,-13.9 71.4286,-14.9 78.5714,-14.9 78.5714,-14.8 85.7143,-14.8 85.7143,-9.6 92.8571,-9.6 92.8571,-3.4 100,-3.4 100,-1.52 107.143,-1.52 107.143,-0.597 114.286,-0.597 114.286,-0.35 121.429,-0.35 121.429,-0.213 128.571,-0.213 128.571,-0.115 135.714,-0.115 135.714,-0.113 142.857,-0.113 142.857,-0.155 150,-0.155 150,-0.098 157.143,-0.098 157.143,-0.0569 164.286,-0.0569 164.286,-0 171.429,-0 171.429,-0.153 178.571,-0.153 178.571,-0 185.714,-0 185.714,-0.105 192.857,-0.105 192.857,-0 200,-0 200,-0 207.143,-0 207.143,-0 214.286,-0 214.286,-0 221.429,-0 221.429,-0 228.571,-0 228.571,-0 235.714,-0 235.714,-0 242.857,-0 242.857,-0 250,-0 250,0\" style=\"fill:none; stroke:currentColor;\"/>\n",
       "</svg>\n",
       "</div>\n",
       "<div style=\"flex=grow:1;\">\n",
       "Regular(35, 0, 280, name='lep_fj_m', label='Jet - Lepton mass [GeV]')<br/>\n",
       "<hr style=\"margin-top:.2em; margin-bottom:.2em;\"/>\n",
       "Double() Σ=72.81195604117812 <em>(72.86704549244051 with flow)</em>\n",
       "\n",
       "</div>\n",
       "</div>\n",
       "</html>"
      ],
      "text/plain": [
       "Hist(Regular(35, 0, 280, name='lep_fj_m', label='Jet - Lepton mass [GeV]'), storage=Double()) # Sum: 72.81195604117812 (72.86704549244051 with flow)"
      ]
     },
     "execution_count": 84,
     "metadata": {},
     "output_type": "execute_result"
    }
   ],
   "source": [
    "hists[0.5][{\"samples\": \"GluGluHToWW_Pt-200ToInf_M-125\"}]"
   ]
  },
  {
   "cell_type": "code",
   "execution_count": 87,
   "id": "8c0a2c11",
   "metadata": {},
   "outputs": [
    {
     "data": {
      "text/html": [
       "<html>\n",
       "<div style=\"display:flex; align-items:center;\">\n",
       "<div style=\"width:290px;\">\n",
       "<svg xmlns=\"http://www.w3.org/2000/svg\" viewBox=\"-10 -105 270 120\">\n",
       "<line x1=\"-5\" y1=\"0\" x2=\"255\" y2=\"0\" style=\"fill:none;stroke-width:2;stroke:currentColor\"/>\n",
       "<text text-anchor=\"middle\" x=\"0\" y=\"15\" style=\"fill:currentColor;\">\n",
       "0\n",
       "</text>\n",
       "<text text-anchor=\"middle\" x=\"250\" y=\"15\" style=\"fill:currentColor;\">\n",
       "280\n",
       "</text>\n",
       "<text text-anchor=\"middle\" x=\"125.0\" y=\"15\" style=\"fill:currentColor;\">\n",
       "Jet - Lepton mass [GeV]\n",
       "</text>\n",
       "<polyline points=\"  0,0   0,-0.0981 7.14286,-0.0981 7.14286,-1.23 14.2857,-1.23 14.2857,-36.3 21.4286,-36.3 21.4286,-79.7 28.5714,-79.7 28.5714,-100 35.7143,-100 35.7143,-93.1 42.8571,-93.1 42.8571,-64.7  50,-64.7  50,-34 57.1429,-34 57.1429,-20.1 64.2857,-20.1 64.2857,-14.2 71.4286,-14.2 71.4286,-15 78.5714,-15 78.5714,-14.9 85.7143,-14.9 85.7143,-9.63 92.8571,-9.63 92.8571,-3.5 100,-3.5 100,-1.67 107.143,-1.67 107.143,-0.596 114.286,-0.596 114.286,-0.349 121.429,-0.349 121.429,-0.213 128.571,-0.213 128.571,-0.114 135.714,-0.114 135.714,-0.166 142.857,-0.166 142.857,-0.154 150,-0.154 150,-0.157 157.143,-0.157 157.143,-0.0568 164.286,-0.0568 164.286,-0 171.429,-0 171.429,-0.152 178.571,-0.152 178.571,-0 185.714,-0 185.714,-0.105 192.857,-0.105 192.857,-0 200,-0 200,-0 207.143,-0 207.143,-0 214.286,-0 214.286,-0 221.429,-0 221.429,-0 228.571,-0 228.571,-0 235.714,-0 235.714,-0 242.857,-0 242.857,-0 250,-0 250,0\" style=\"fill:none; stroke:currentColor;\"/>\n",
       "</svg>\n",
       "</div>\n",
       "<div style=\"flex=grow:1;\">\n",
       "Regular(35, 0, 280, name='lep_fj_m', label='Jet - Lepton mass [GeV]')<br/>\n",
       "<hr style=\"margin-top:.2em; margin-bottom:.2em;\"/>\n",
       "Double() Σ=73.20174326640343 <em>(73.26462045048042 with flow)</em>\n",
       "\n",
       "</div>\n",
       "</div>\n",
       "</html>"
      ],
      "text/plain": [
       "Hist(Regular(35, 0, 280, name='lep_fj_m', label='Jet - Lepton mass [GeV]'), storage=Double()) # Sum: 73.20174326640343 (73.26462045048042 with flow)"
      ]
     },
     "execution_count": 87,
     "metadata": {},
     "output_type": "execute_result"
    }
   ],
   "source": [
    "hists[1.5][{\"samples\": \"GluGluHToWW_Pt-200ToInf_M-125\"}]"
   ]
  },
  {
   "cell_type": "code",
   "execution_count": 93,
   "id": "92dc42cb",
   "metadata": {},
   "outputs": [
    {
     "name": "stdout",
     "output_type": "stream",
     "text": [
      "/uscms/home/fmokhtar/nobackup/boostedhiggs/binder\r\n"
     ]
    }
   ],
   "source": [
    "! pwd"
   ]
  },
  {
   "cell_type": "code",
   "execution_count": null,
   "id": "886aba2b",
   "metadata": {},
   "outputs": [],
   "source": []
  },
  {
   "cell_type": "code",
   "execution_count": 94,
   "id": "585e8edc",
   "metadata": {},
   "outputs": [],
   "source": [
    "def compute_soverb(h, cut, ch, range_min = 0, range_max = 150, remove_ttH = True):\n",
    "    \n",
    "    data_label = data_by_ch\n",
    "    signal_by_ch = {\n",
    "    'ele': ['ttHToNonbb_M125', 'GluGluHToWW_Pt-200ToInf_M-125', 'VH', 'VBFHToWWToLNuQQ_M-125_withDipoleRecoil'],\n",
    "    'mu': ['ttHToNonbb_M125', 'GluGluHToWW_Pt-200ToInf_M-125', 'VH', 'VBFHToWWToLNuQQ_M-125_withDipoleRecoil'],\n",
    "    }\n",
    "\n",
    "    # get samples existing in histogram\n",
    "    samples = [h.axes[0].value(i) for i in range(len(h.axes[0].edges))]\n",
    "    signal_labels = [label for label in samples if label in signal_by_ch[ch]]\n",
    "    bkg_labels = [label for label in samples if (label and label != data_label and label not in signal_labels)]\n",
    "    \n",
    "    if remove_ttH:\n",
    "        signal_labels.remove(\"ttHToNonbb_M125\")\n",
    "\n",
    "    # data\n",
    "    data = None\n",
    "    if data_label in h.axes[0]:\n",
    "        data = h[{\"samples\": data_label}]\n",
    "\n",
    "    # signal\n",
    "    signal = [h[{\"samples\": label}] for label in signal_labels]\n",
    "    # sum all of the signal\n",
    "    if len(signal) > 0:\n",
    "        tot_signal = None\n",
    "        for i, sig in enumerate(signal):\n",
    "            if tot_signal == None:\n",
    "                tot_signal = signal[i].copy()\n",
    "            else:\n",
    "                tot_signal = tot_signal + signal[i]\n",
    "\n",
    "    totsignal_val = tot_signal.values()\n",
    "\n",
    "    # background\n",
    "    bkg = [h[{\"samples\": label}] for label in bkg_labels]\n",
    "    # sum all of the background\n",
    "    if len(bkg) > 0:\n",
    "        tot = bkg[0].copy()\n",
    "        for i, b in enumerate(bkg):\n",
    "            if i > 0:\n",
    "                tot = tot + b\n",
    "\n",
    "        tot_val = tot.values()\n",
    "        tot_val_zero_mask = (tot_val == 0)\n",
    "        tot_val[tot_val_zero_mask] = 1\n",
    "\n",
    "    # replace values where bkg is 0\n",
    "    totsignal_val[tot_val==0] = 0\n",
    "\n",
    "    # integrate soverb in a given range for lep_fj_m\n",
    "    bin_array = tot_signal.axes[0].edges[:-1] # remove last element since bins have one extra element\n",
    "    condition = (bin_array>=range_min) & (bin_array<=range_max)\n",
    "\n",
    "    s = totsignal_val[condition].sum()\n",
    "    b = np.sqrt(tot_val[condition].sum())\n",
    "\n",
    "    soverb_integrated = round((s/b).item(),2)\n",
    "    print(f\"Cut lep_miso<{cut}: S/sqrt(B) in range [{range_min}, {range_max}] of (Jet-Lep).mass is: {soverb_integrated}\")\n",
    "   \n",
    "    return soverb_integrated"
   ]
  },
  {
   "cell_type": "code",
   "execution_count": 101,
   "id": "4e891ea8",
   "metadata": {},
   "outputs": [],
   "source": [
    "# you can load the output!\n",
    "import pickle\n",
    "with open('/eos/uscms/store/user/fmokhtar/boostedhiggs/lumi_2017/lumi_set.pkl', 'rb') as f:\n",
    "    lumi_set = pickle.load(f)"
   ]
  },
  {
   "cell_type": "code",
   "execution_count": 102,
   "id": "cc7c64d5",
   "metadata": {},
   "outputs": [
    {
     "data": {
      "text/plain": [
       "dict_keys(['SingleElectron_Run2017B', 'SingleElectron_Run2017D', 'SingleElectron_Run2017F', 'SingleMuon_Run2017C', 'SingleMuon_Run2017E', 'SingleElectron_Run2017C', 'SingleElectron_Run2017E', 'SingleMuon_Run2017B', 'SingleMuon_Run2017D', 'SingleMuon_Run2017F'])"
      ]
     },
     "execution_count": 102,
     "metadata": {},
     "output_type": "execute_result"
    }
   ],
   "source": [
    "lumi_set.keys()"
   ]
  },
  {
   "cell_type": "code",
   "execution_count": 103,
   "id": "6d6f5836",
   "metadata": {},
   "outputs": [
    {
     "name": "stdout",
     "output_type": "stream",
     "text": [
      "SingleElectron_Run2017B ele\n",
      "SingleElectron_Run2017D ele\n",
      "SingleElectron_Run2017F ele\n",
      "SingleMuon_Run2017C mu\n",
      "SingleMuon_Run2017E mu\n",
      "SingleElectron_Run2017C ele\n",
      "SingleElectron_Run2017E ele\n",
      "SingleMuon_Run2017B mu\n",
      "SingleMuon_Run2017D mu\n",
      "SingleMuon_Run2017F mu\n"
     ]
    }
   ],
   "source": [
    "# combine the sets from the different datasets\n",
    "lumis = {}\n",
    "\n",
    "for i, dataset in enumerate(lumi_set.keys()):\n",
    "\n",
    "    if \"Muon\" in dataset:\n",
    "        ch = \"mu\"\n",
    "    else:\n",
    "        ch = \"ele\"\n",
    "    print(dataset, ch)\n",
    "    \n",
    "    if ch not in lumis.keys():\n",
    "        lumis[ch] = lumi_set[dataset]\n",
    "    else:\n",
    "        lumis[ch] = lumis[ch] | lumi_set[dataset]\n",
    "\n",
    "# convert the set to a numpy 2d-array\n",
    "for ch in [\"ele\", \"mu\"]:\n",
    "    lumis[ch] = np.array(list(lumis[ch]))"
   ]
  },
  {
   "cell_type": "code",
   "execution_count": 104,
   "id": "d6c6b905",
   "metadata": {},
   "outputs": [
    {
     "name": "stdout",
     "output_type": "stream",
     "text": [
      "ele 41476.02229187872\n",
      "mu 41475.2609652207\n"
     ]
    }
   ],
   "source": [
    "import cloudpickle\n",
    "\n",
    "from coffea.lumi_tools import LumiData, LumiMask, LumiList\n",
    "from coffea.util import numpy as np\n",
    "\n",
    "# make LumiList object\n",
    "lumi_list = {}\n",
    "for ch in [\"ele\", \"mu\"]:\n",
    "    lumi_list[ch] = LumiList(runs=lumis[ch][:, 0], lumis=lumis[ch][:, 1])\n",
    "\n",
    "    # this csv was made using brilcalc and the GoldenJson2017\n",
    "    # refer to https://github.com/CoffeaTeam/coffea/blob/52e102fce21a3e19f8c079adc649dfdd27c92075/coffea/lumi_tools/lumi_tools.py#L20\n",
    "    lumidata = LumiData(\"lumi2017.csv\")\n",
    "    print(ch, lumidata.get_lumi(lumi_list[ch]))\n",
    "    \n",
    "    # 41480 is what we are using in the processor for 2017"
   ]
  },
  {
   "cell_type": "markdown",
   "id": "c95b2636",
   "metadata": {},
   "source": [
    "# Load outfiles of trigger_efficiency_processor"
   ]
  },
  {
   "cell_type": "code",
   "execution_count": 47,
   "id": "55a4379b",
   "metadata": {},
   "outputs": [
    {
     "name": "stdout",
     "output_type": "stream",
     "text": [
      "0-1.pkl  0-25.pkl\r\n"
     ]
    }
   ],
   "source": [
    "! ls ../outfiles"
   ]
  },
  {
   "cell_type": "code",
   "execution_count": 48,
   "id": "33e2c8ff",
   "metadata": {},
   "outputs": [],
   "source": [
    "# you can load the output!\n",
    "import pickle\n",
    "with open('../outfiles/0-25.pkl', 'rb') as f:\n",
    "    out = pickle.load(f)"
   ]
  },
  {
   "cell_type": "code",
   "execution_count": 49,
   "id": "fcb03614",
   "metadata": {},
   "outputs": [],
   "source": [
    "sig = 'GluGluHToWWToLNuQQ'\n",
    "sig = 'GluGluHToWW_Pt-200ToInf_M-125'\n",
    "\n",
    "skimmed_events_ele = out[\"2017\"][sig]['skimmed_events']['ele']\n",
    "skimmed_events_mu = out[\"2017\"][sig]['skimmed_events']['mu']"
   ]
  },
  {
   "cell_type": "code",
   "execution_count": 50,
   "id": "083c05c7",
   "metadata": {},
   "outputs": [
    {
     "data": {
      "text/plain": [
       "dict_keys(['HLT_ele115', 'weight_id_electron', 'fj_msoftdrop', 'HLT_ele35', 'weight_L1Prefiring', 'lep_pt', 'higgspt', 'weight_genweight', 'weight_pileup', 'fj_pt', 'HLT_Photon200', 'weight_reco_electron', 'weight_trigger_electron'])"
      ]
     },
     "execution_count": 50,
     "metadata": {},
     "output_type": "execute_result"
    }
   ],
   "source": [
    "skimmed_events_ele.keys()"
   ]
  },
  {
   "cell_type": "code",
   "execution_count": 51,
   "id": "caafb9e1",
   "metadata": {},
   "outputs": [
    {
     "data": {
      "text/plain": [
       "dict_keys(['weight_trigger_noniso_muon', 'HLT_Mu50', 'weight_id_electron', 'weight_trigger_electron', 'fj_msoftdrop', 'HLT_IsoMu27', 'weight_L1Prefiring', 'HLT_OldMu100', 'weight_reco_electron', 'HLT_TkMu100', 'lep_pt', 'weight_genweight', 'higgspt', 'weight_isolation_muon', 'weight_trigger_iso_muon', 'fj_pt', 'weight_id_muon', 'weight_pileup'])"
      ]
     },
     "execution_count": 51,
     "metadata": {},
     "output_type": "execute_result"
    }
   ],
   "source": [
    "skimmed_events_mu.keys()"
   ]
  },
  {
   "cell_type": "markdown",
   "id": "b94e12e1-7b2b-4217-b648-b9196b441f48",
   "metadata": {},
   "source": [
    "# Plotting scatter plot"
   ]
  },
  {
   "cell_type": "code",
   "execution_count": 52,
   "id": "5b36d461-d7ab-4c3c-8f49-6a415cfc499e",
   "metadata": {},
   "outputs": [
    {
     "data": {
      "image/png": "[encoded data removed]",
      "text/plain": [
       "<Figure size 432x288 with 1 Axes>"
      ]
     },
     "metadata": {
      "needs_background": "light"
     },
     "output_type": "display_data"
    }
   ],
   "source": [
    "lep_pt = skimmed_events_ele['lep_pt']\n",
    "fj_pt = skimmed_events_ele['fj_pt']\n",
    "plt.scatter(fj_pt, lep_pt, label='ele')\n",
    "\n",
    "lep_pt = skimmed_events_mu['lep_pt']\n",
    "fj_pt = skimmed_events_mu['fj_pt']\n",
    "plt.scatter(fj_pt, lep_pt, label='mu')\n",
    "\n",
    "plt.xlabel('fj_pt')\n",
    "plt.ylabel('lep_pt');\n",
    "plt.ylim(0,700)\n",
    "plt.xlim(200,900)\n",
    "plt.legend(loc='upper left');"
   ]
  },
  {
   "cell_type": "markdown",
   "id": "e4e217f2-93ab-48b0-91d5-ffebadd08073",
   "metadata": {},
   "source": [
    "# Plotting trigger efficiency plots"
   ]
  },
  {
   "cell_type": "code",
   "execution_count": 54,
   "id": "e15f0007",
   "metadata": {},
   "outputs": [],
   "source": [
    "triggers = {}\n",
    "triggers['mu'] = ['HLT_Mu50', 'HLT_TkMu100', 'HLT_IsoMu27', 'HLT_OldMu100']\n",
    "triggers['ele'] = ['HLT_ele35', 'HLT_ele115', 'HLT_Photon200']"
   ]
  },
  {
   "cell_type": "code",
   "execution_count": 66,
   "id": "1faf06bd-438d-47fe-bde8-7d6d71666d00",
   "metadata": {},
   "outputs": [],
   "source": [
    "weight_trigger = skimmed_events_mu[\"weight_trigger_iso_muon\"]\n",
    "weight_trigger = skimmed_events_ele[\"weight_trigger_electron\"]\n",
    "\n",
    "# now we can make histograms for higgspt, jetpt, leptonpt\n",
    "import hist as hist2\n",
    "region_cat = hist2.axis.StrCategory([\"numerator\",\"denominator\"], name=\"region\")\n",
    "channel_cat = hist2.axis.StrCategory([], name='channel', growth=True)\n",
    "trigger_cat = hist2.axis.StrCategory([], name='trigger', growth=True)\n",
    "\n",
    "hpt_axis = hist2.axis.Regular(10, 100, 700, name='higgspt', label=r'matched H $p_T$ [GeV]')\n",
    "jetpt_axis = hist2.axis.Regular(10, 200, 500, name='jetpt', label=r'Jet $p_T$ [GeV]')\n",
    "leppt_axis = hist2.axis.Regular(10, 25, 500, name='leppt', label=r'Lepton $p_T$ [GeV]')\n",
    "\n",
    "# now we can fill the histogram with the denominator (baseline selection already applied)\n",
    "hists = hist2.Hist(\n",
    "                channel_cat,\n",
    "                region_cat,\n",
    "                trigger_cat,\n",
    "                hpt_axis,\n",
    "                jetpt_axis,\n",
    "                leppt_axis,\n",
    "            )\n",
    "    \n",
    "channels = ['mu', 'ele']\n",
    "channels = ['ele']\n",
    "\n",
    "for ch in channels:\n",
    "    \n",
    "    if ch == 'mu':\n",
    "        skimmed_events = skimmed_events_mu\n",
    "        weight_trigger = skimmed_events_mu[\"weight_trigger_iso_muon\"]\n",
    "    else:\n",
    "        skimmed_events = skimmed_events_ele   \n",
    "        weight_trigger = skimmed_events_ele[\"weight_trigger_electron\"]\n",
    "\n",
    "    higgspt = skimmed_events[\"higgspt\"]\n",
    "    jetpt = skimmed_events[\"fj_pt\"]\n",
    "    leppt = skimmed_events[\"lep_pt\"]\n",
    "        \n",
    "    hists.fill(\n",
    "        channel=ch,\n",
    "        region=\"denominator\",\n",
    "        trigger=\"all\",\n",
    "        higgspt=higgspt,\n",
    "        jetpt=jetpt,\n",
    "        leppt=leppt,\n",
    "        weight=weight_trigger\n",
    "    )    \n",
    "    for trigger in triggers[ch]:\n",
    "        hists.fill(\n",
    "            channel=ch,\n",
    "            region=\"numerator\",\n",
    "            trigger=trigger,\n",
    "            higgspt=higgspt[skimmed_events[trigger]],\n",
    "            jetpt=jetpt[skimmed_events[trigger]],\n",
    "            leppt=leppt[skimmed_events[trigger]],\n",
    "            weight=weight_trigger[skimmed_events[trigger]]\n",
    "        )"
   ]
  },
  {
   "cell_type": "code",
   "execution_count": 67,
   "id": "bd246a12",
   "metadata": {},
   "outputs": [
    {
     "data": {
      "text/html": [
       "<html>\n",
       "<div style=\"display:flex; align-items:center;\">\n",
       "<div style=\"width:290px;\">\n",
       "<svg xmlns=\"http://www.w3.org/2000/svg\" viewBox=\"-10 -10 220 220\">\n",
       "<rect x=\"0\" y=\"0\" width=\"160\" height=\"160\" style=\"fill:white;opacity:.5;stroke-width:2;stroke:currentColor;\"/>\n",
       "<rect x=\"20\" y=\"20\" width=\"160\" height=\"160\" style=\"fill:white;opacity:.5;stroke-width:2;stroke:currentColor;\"/>\n",
       "<rect x=\"40\" y=\"40\" width=\"160\" height=\"160\" style=\"fill:white;opacity:.5;stroke-width:2;stroke:currentColor;\"/>\n",
       "<text x=\"120.0\" y=\"120.0\" style=\"font-size: 26pt; font-family: verdana; font-style: bold; fill: black;\" text-anchor=\"middle\" alignment-baseline=\"middle\">\n",
       "6D\n",
       "</text>\n",
       "</svg>\n",
       "</div>\n",
       "<div style=\"flex=grow:1;\">\n",
       "StrCategory(['ele'], growth=True, name='channel', label='channel')<br/>\n",
       "StrCategory(['numerator', 'denominator'], name='region', label='region')<br/>\n",
       "StrCategory(['all', 'HLT_ele35', 'HLT_ele115', 'HLT_Photon200'], growth=True, name='trigger', label='trigger')<br/>\n",
       "Regular(10, 100, 700, name='higgspt', label='matched H $p_T$ [GeV]')<br/>\n",
       "Regular(10, 200, 500, name='jetpt', label='Jet $p_T$ [GeV]')<br/>\n",
       "Regular(10, 25, 500, name='leppt', label='Lepton $p_T$ [GeV]')<br/>\n",
       "<hr style=\"margin-top:.2em; margin-bottom:.2em;\"/>\n",
       "Double() Σ=26127.164024412632 <em>(63845.51708996296 with flow)</em>\n",
       "\n",
       "</div>\n",
       "</div>\n",
       "</html>"
      ],
      "text/plain": [
       "Hist(\n",
       "  StrCategory(['ele'], growth=True, name='channel', label='channel'),\n",
       "  StrCategory(['numerator', 'denominator'], name='region', label='region'),\n",
       "  StrCategory(['all', 'HLT_ele35', 'HLT_ele115', 'HLT_Photon200'], growth=True, name='trigger', label='trigger'),\n",
       "  Regular(10, 100, 700, name='higgspt', label='matched H $p_T$ [GeV]'),\n",
       "  Regular(10, 200, 500, name='jetpt', label='Jet $p_T$ [GeV]'),\n",
       "  Regular(10, 25, 500, name='leppt', label='Lepton $p_T$ [GeV]'),\n",
       "  storage=Double()) # Sum: 26127.164024412632 (63845.51708996296 with flow)"
      ]
     },
     "execution_count": 67,
     "metadata": {},
     "output_type": "execute_result"
    }
   ],
   "source": [
    "hists"
   ]
  },
  {
   "cell_type": "code",
   "execution_count": 70,
   "id": "b1416fcb-c007-42c8-925a-7fe42b669b9e",
   "metadata": {},
   "outputs": [
    {
     "data": {
      "image/png": "[encoded data removed]",
      "text/plain": [
       "<Figure size 576x432 with 1 Axes>"
      ]
     },
     "metadata": {
      "needs_background": "light"
     },
     "output_type": "display_data"
    }
   ],
   "source": [
    "# now we plot trigger efficiency as function of leptonpt\n",
    "for ch in channels:\n",
    "    fig, ax = plt.subplots(figsize=(8,6))\n",
    "\n",
    "    den = hists[{\"region\":\"denominator\",\"channel\":ch, \"trigger\":sum, 'jetpt':sum, 'higgspt':sum}]\n",
    "\n",
    "    for trigger in triggers[ch]:\n",
    "        num = hists[{\"region\":\"numerator\", \"channel\":ch,\"trigger\":trigger, 'jetpt':sum, 'higgspt':sum}]\n",
    "        hep.histplot(num/den, \n",
    "                     yerr = get_yerr(num,den),\n",
    "                     ax = ax,\n",
    "                     histtype='errorbar', \n",
    "                     capsize=4, \n",
    "                     elinewidth=1, \n",
    "                     label=f'{ch} - {trigger}'          \n",
    "        )\n",
    "    \n",
    "    ax.set_ylim(0,1)\n",
    "    ax.legend(title=\"with trigger weights\", title_fontsize=15)\n",
    "    plt.show()\n",
    "#     plt.savefig('plots/mu_triggers/leppt.pdf');"
   ]
  },
  {
   "cell_type": "code",
   "execution_count": 26,
   "id": "e23c16dc-2925-4e0b-8013-0e4b114c2dab",
   "metadata": {},
   "outputs": [
    {
     "data": {
      "image/png": "[encoded data removed]",
      "text/plain": [
       "<Figure size 576x432 with 1 Axes>"
      ]
     },
     "metadata": {
      "needs_background": "light"
     },
     "output_type": "display_data"
    },
    {
     "data": {
      "image/png": "[encoded data removed]",
      "text/plain": [
       "<Figure size 576x432 with 1 Axes>"
      ]
     },
     "metadata": {
      "needs_background": "light"
     },
     "output_type": "display_data"
    }
   ],
   "source": [
    "# now we plot trigger efficiency as function of jetpt\n",
    "for ch in channels:\n",
    "    fig, ax = plt.subplots(figsize=(8,6))\n",
    "\n",
    "    den = hists[{\"region\":\"denominator\",\"channel\":ch, \"trigger\":sum, 'leppt':sum, 'higgspt':sum}]\n",
    "\n",
    "    for trigger in triggers[ch]:\n",
    "        num = hists[{\"region\":\"numerator\", \"channel\":ch, \"trigger\":trigger, 'leppt':sum, 'higgspt':sum}]\n",
    "        \n",
    "        hep.histplot(num/den, \n",
    "                     yerr = get_yerr(num,den),\n",
    "                     ax = ax,\n",
    "                     histtype='errorbar', \n",
    "                     capsize=4, \n",
    "                     elinewidth=1, \n",
    "                     label=f'{ch} - {trigger}'          \n",
    "        )\n",
    "    ax.set_ylim(0,1)\n",
    "    ax.legend()\n",
    "#     plt.savefig('plots/mu_triggers/leppt.pdf');"
   ]
  },
  {
   "cell_type": "code",
   "execution_count": 19,
   "id": "45b30783-e228-40b4-a304-8846973f5aab",
   "metadata": {},
   "outputs": [
    {
     "data": {
      "image/png": "[encoded data removed]",
      "text/plain": [
       "<Figure size 432x288 with 1 Axes>"
      ]
     },
     "metadata": {
      "needs_background": "light"
     },
     "output_type": "display_data"
    },
    {
     "data": {
      "image/png": "[encoded data removed]",
      "text/plain": [
       "<Figure size 432x288 with 1 Axes>"
      ]
     },
     "metadata": {
      "needs_background": "light"
     },
     "output_type": "display_data"
    }
   ],
   "source": [
    "# now we plot trigger efficiency as function of higgspt\n",
    "for ch in channels:\n",
    "    fig, ax = plt.subplots(figsize=(6,4))\n",
    "\n",
    "    den = hists[{\"region\":\"denominator\",\"channel\":ch, \"trigger\":sum, 'jetpt':sum, 'leppt':sum}]\n",
    "\n",
    "    for trigger in triggers[ch]:\n",
    "        num = hists[{\"region\":\"numerator\", \"channel\":ch, \"trigger\":trigger, 'jetpt':sum, 'leppt':sum}]\n",
    "    \n",
    "        hep.histplot(num/den, \n",
    "                     yerr = get_yerr(num,den),\n",
    "                     ax = ax,\n",
    "                     histtype='errorbar', \n",
    "                     capsize=4, \n",
    "                     elinewidth=1, \n",
    "                     label=f'{ch} - {trigger}'          \n",
    "        )\n",
    "    ax.set_ylim(0,1.5)\n",
    "    ax.legend()\n",
    "#     plt.savefig('plots/mu_triggers/leppt.pdf');"
   ]
  },
  {
   "cell_type": "markdown",
   "id": "a11c191f-48c4-460c-a1e9-f92ce6de419b",
   "metadata": {},
   "source": [
    "### Plotting: deltaR, HT"
   ]
  },
  {
   "cell_type": "code",
   "execution_count": 9,
   "id": "021a953b-c842-4d7b-9a7b-d168d692f8c2",
   "metadata": {},
   "outputs": [
    {
     "data": {
      "text/html": [
       "<html>\n",
       "<div style=\"display:flex; align-items:center;\">\n",
       "<div style=\"width:290px;\">\n",
       "<svg xmlns=\"http://www.w3.org/2000/svg\" viewBox=\"-10 -10 220 220\">\n",
       "<rect x=\"0\" y=\"0\" width=\"160\" height=\"160\" style=\"fill:white;opacity:.5;stroke-width:2;stroke:currentColor;\"/>\n",
       "<rect x=\"20\" y=\"20\" width=\"160\" height=\"160\" style=\"fill:white;opacity:.5;stroke-width:2;stroke:currentColor;\"/>\n",
       "<rect x=\"40\" y=\"40\" width=\"160\" height=\"160\" style=\"fill:white;opacity:.5;stroke-width:2;stroke:currentColor;\"/>\n",
       "<text x=\"120.0\" y=\"120.0\" style=\"font-size: 26pt; font-family: verdana; font-style: bold; fill: black;\" text-anchor=\"middle\" alignment-baseline=\"middle\">\n",
       "5D\n",
       "</text>\n",
       "</svg>\n",
       "</div>\n",
       "<div style=\"flex=grow:1;\">\n",
       "StrCategory(['mu'], growth=True, name='channel', label='channel')<br/>\n",
       "StrCategory(['numerator', 'denominator'], name='region', label='region')<br/>\n",
       "StrCategory(['all', 'nominal', 'vvl', 'met', 'jet'], growth=True, name='trigger', label='trigger')<br/>\n",
       "Regular(20, 0, 1.5, name='deltaR', label='deltaR')<br/>\n",
       "Regular(20, 180, 1500, name='ht', label='HT [GeV]')<br/>\n",
       "<hr style=\"margin-top:.2em; margin-bottom:.2em;\"/>\n",
       "Double() Σ=48498.0 <em>(87063.0 with flow)</em>\n",
       "\n",
       "</div>\n",
       "</div>\n",
       "</html>"
      ],
      "text/plain": [
       "Hist(\n",
       "  StrCategory(['mu'], growth=True, name='channel', label='channel'),\n",
       "  StrCategory(['numerator', 'denominator'], name='region', label='region'),\n",
       "  StrCategory(['all', 'nominal', 'vvl', 'met', 'jet'], growth=True, name='trigger', label='trigger'),\n",
       "  Regular(20, 0, 1.5, name='deltaR', label='deltaR'),\n",
       "  Regular(20, 180, 1500, name='ht', label='HT [GeV]'),\n",
       "  storage=Double()) # Sum: 48498.0 (87063.0 with flow)"
      ]
     },
     "execution_count": 9,
     "metadata": {},
     "output_type": "execute_result"
    }
   ],
   "source": [
    "# now we can make histograms for deltaR and HT\n",
    "import hist as hist2\n",
    "region_cat = hist2.axis.StrCategory([\"numerator\",\"denominator\"], name=\"region\")\n",
    "channel_cat = hist2.axis.StrCategory([], name='channel', growth=True)\n",
    "trigger_cat = hist2.axis.StrCategory([], name='trigger', growth=True)\n",
    "\n",
    "deltaR_axis = hist2.axis.Regular(20, 0, 1.5, name='deltaR', label=r'deltaR')\n",
    "ht_axis = hist2.axis.Regular(20,180, 1500, name='ht', label=r'HT [GeV]')\n",
    "\n",
    "hists = {}\n",
    "hists[\"jet\"] = hist2.Hist(\n",
    "                channel_cat,\n",
    "                region_cat,\n",
    "                trigger_cat,\n",
    "                deltaR_axis,\n",
    "                ht_axis,\n",
    "            )\n",
    "# now we can fill the histogram with the denominator (baseline selection already applied)\n",
    "deltaR = skimmed_events_mu[\"fj_lep_dR\"]\n",
    "ht = skimmed_events_mu[\"ht\"]\n",
    "\n",
    "hists[\"jet\"].fill(\n",
    "    channel=\"mu\",\n",
    "    region=\"denominator\",\n",
    "    trigger=\"all\",\n",
    "    deltaR=deltaR,\n",
    "    ht=ht\n",
    ")\n",
    "hists[\"jet\"].fill(\n",
    "    channel=\"mu\",\n",
    "    region=\"numerator\",\n",
    "    trigger=\"nominal\",\n",
    "    deltaR=deltaR[skimmed_events_mu[\"HLT_munominal\"]],\n",
    "    ht=ht[skimmed_events_mu[\"HLT_munominal\"]],\n",
    "\n",
    ")\n",
    "hists[\"jet\"].fill(\n",
    "    channel=\"mu\",\n",
    "    region=\"numerator\",\n",
    "    trigger=\"vvl\",\n",
    "    deltaR=deltaR[skimmed_events_mu[\"HLT_muvvl\"]],    \n",
    "    ht=ht[skimmed_events_mu[\"HLT_muvvl\"]],    \n",
    ")\n",
    "\n",
    "hists[\"jet\"].fill(\n",
    "    channel=\"mu\",\n",
    "    region=\"numerator\",\n",
    "    trigger=\"met\",\n",
    "    deltaR=deltaR[skimmed_events_mu[\"HLT_muvvlmet\"]],    \n",
    "    ht=ht[skimmed_events_mu[\"HLT_muvvlmet\"]],    \n",
    ")\n",
    "hists[\"jet\"].fill(\n",
    "    channel=\"mu\",\n",
    "    region=\"numerator\",\n",
    "    trigger=\"jet\",\n",
    "    deltaR=deltaR[skimmed_events_mu[\"HLT_jet\"]],    \n",
    "    ht=ht[skimmed_events_mu[\"HLT_jet\"]],    \n",
    ")\n",
    "\n",
    "hists[\"jet\"]"
   ]
  },
  {
   "cell_type": "code",
   "execution_count": 10,
   "id": "7046f00e-9a0e-43eb-8359-9445ed22c5dd",
   "metadata": {},
   "outputs": [
    {
     "data": {
      "image/png": "[encoded data removed]",
      "text/plain": [
       "<Figure size 432x288 with 1 Axes>"
      ]
     },
     "metadata": {
      "needs_background": "light"
     },
     "output_type": "display_data"
    }
   ],
   "source": [
    "# now we plot trigger efficiency as function of deltaR\n",
    "\n",
    "num_nom = hists[\"jet\"][{\"region\":\"numerator\",\"channel\":\"mu\",\"trigger\":\"nominal\", 'ht':sum}]\n",
    "num_vvl = hists[\"jet\"][{\"region\":\"numerator\",\"channel\":\"mu\",\"trigger\":\"vvl\", 'ht':sum}]\n",
    "num_met = hists[\"jet\"][{\"region\":\"numerator\",\"channel\":\"mu\",\"trigger\":\"met\", 'ht':sum}]\n",
    "num_jet = hists[\"jet\"][{\"region\":\"numerator\",\"channel\":\"mu\",\"trigger\":\"jet\", 'ht':sum}]\n",
    "\n",
    "den = hists[\"jet\"][{\"region\":\"denominator\",\"channel\":\"mu\",\"trigger\":sum, 'ht':sum}]\n",
    "\n",
    "import matplotlib.pyplot as plt\n",
    "import mplhep as hep\n",
    "from hist.intervals import clopper_pearson_interval\n",
    "def get_yerr(num,den):\n",
    "    return abs(clopper_pearson_interval(num.view(), den.view()) - num.view()/den.view())\n",
    "\n",
    "fig, ax = plt.subplots(1, 1)\n",
    "hep.histplot(num_nom/den, \n",
    "             yerr=get_yerr(num_nom,den),\n",
    "             ax = ax,\n",
    "             histtype='errorbar', color='red', capsize=4, elinewidth=1, label=\"Muon Nominal\",         \n",
    ")\n",
    "hep.histplot(num_vvl/den, \n",
    "             yerr=get_yerr(num_vvl,den),\n",
    "             ax = ax,\n",
    "             histtype='errorbar', color='blue', capsize=4, elinewidth=1, label=\"Muon VVL\",         \n",
    ")\n",
    "hep.histplot(num_met/den, \n",
    "             yerr=get_yerr(num_met,den),\n",
    "             ax = ax,\n",
    "             histtype='errorbar', color='green', capsize=4, elinewidth=1, label=\"Muon MET\",         \n",
    ")\n",
    "hep.histplot(num_jet/den, \n",
    "             yerr=get_yerr(num_jet,den),\n",
    "             ax = ax,\n",
    "             histtype='errorbar', color='black', capsize=4, elinewidth=1, label=\"Muon jet\",         \n",
    ")\n",
    "ax.set_ylim(0,1)\n",
    "ax.legend()\n",
    "plt.savefig('plots/mu_triggers/deltaR.pdf');"
   ]
  },
  {
   "cell_type": "code",
   "execution_count": 11,
   "id": "ac6f1ab6-6d5e-4ac5-9929-59c0018a5d59",
   "metadata": {},
   "outputs": [
    {
     "data": {
      "image/png": "[encoded data removed]",
      "text/plain": [
       "<Figure size 432x288 with 1 Axes>"
      ]
     },
     "metadata": {
      "needs_background": "light"
     },
     "output_type": "display_data"
    }
   ],
   "source": [
    "# now we plot trigger efficiency as function of ht\n",
    "num_nom = hists[\"jet\"][{\"region\":\"numerator\",\"channel\":\"mu\",\"trigger\":\"nominal\", 'deltaR':sum}]\n",
    "num_vvl = hists[\"jet\"][{\"region\":\"numerator\",\"channel\":\"mu\",\"trigger\":\"vvl\", 'deltaR':sum}]\n",
    "num_met = hists[\"jet\"][{\"region\":\"numerator\",\"channel\":\"mu\",\"trigger\":\"met\", 'deltaR':sum}]\n",
    "num_jet = hists[\"jet\"][{\"region\":\"numerator\",\"channel\":\"mu\",\"trigger\":\"jet\", 'deltaR':sum}]\n",
    "\n",
    "den = hists[\"jet\"][{\"region\":\"denominator\",\"channel\":\"mu\",\"trigger\":sum, 'deltaR':sum}]\n",
    "\n",
    "import matplotlib.pyplot as plt\n",
    "import mplhep as hep\n",
    "from hist.intervals import clopper_pearson_interval\n",
    "def get_yerr(num,den):\n",
    "    return abs(clopper_pearson_interval(num.view(), den.view()) - num.view()/den.view())\n",
    "\n",
    "fig, ax = plt.subplots(1, 1)\n",
    "hep.histplot(num_nom/den, \n",
    "             yerr=get_yerr(num_nom,den),\n",
    "             ax = ax,\n",
    "             histtype='errorbar', color='red', capsize=4, elinewidth=1, label=\"Muon Nominal\",         \n",
    ")\n",
    "hep.histplot(num_vvl/den, \n",
    "             yerr=get_yerr(num_vvl,den),\n",
    "             ax = ax,\n",
    "             histtype='errorbar', color='blue', capsize=4, elinewidth=1, label=\"Muon VVL\",         \n",
    ")\n",
    "hep.histplot(num_met/den, \n",
    "             yerr=get_yerr(num_met,den),\n",
    "             ax = ax,\n",
    "             histtype='errorbar', color='green', capsize=4, elinewidth=1, label=\"Muon MET\",         \n",
    ")\n",
    "hep.histplot(num_jet/den, \n",
    "             yerr=get_yerr(num_jet,den),\n",
    "             ax = ax,\n",
    "             histtype='errorbar', color='black', capsize=4, elinewidth=1, label=\"Muon jet\",         \n",
    ")\n",
    "\n",
    "ax.set_ylim(0,1)\n",
    "ax.legend()\n",
    "plt.savefig('plots/mu_triggers/ht.pdf');"
   ]
  },
  {
   "cell_type": "markdown",
   "id": "f40bb440-03bb-49b4-af28-58e8540d0f63",
   "metadata": {},
   "source": [
    "### Plotting: lepton isolation"
   ]
  },
  {
   "cell_type": "code",
   "execution_count": 12,
   "id": "466bcd7f-ebff-4126-b7f4-295b293a7ee2",
   "metadata": {},
   "outputs": [
    {
     "data": {
      "text/html": [
       "<html>\n",
       "<div style=\"display:flex; align-items:center;\">\n",
       "<div style=\"width:290px;\">\n",
       "<svg xmlns=\"http://www.w3.org/2000/svg\" viewBox=\"-10 -10 220 220\">\n",
       "<rect x=\"0\" y=\"0\" width=\"160\" height=\"160\" style=\"fill:white;opacity:.5;stroke-width:2;stroke:currentColor;\"/>\n",
       "<rect x=\"20\" y=\"20\" width=\"160\" height=\"160\" style=\"fill:white;opacity:.5;stroke-width:2;stroke:currentColor;\"/>\n",
       "<rect x=\"40\" y=\"40\" width=\"160\" height=\"160\" style=\"fill:white;opacity:.5;stroke-width:2;stroke:currentColor;\"/>\n",
       "<text x=\"120.0\" y=\"120.0\" style=\"font-size: 26pt; font-family: verdana; font-style: bold; fill: black;\" text-anchor=\"middle\" alignment-baseline=\"middle\">\n",
       "4D\n",
       "</text>\n",
       "</svg>\n",
       "</div>\n",
       "<div style=\"flex=grow:1;\">\n",
       "StrCategory(['mu'], growth=True, name='channel', label='channel')<br/>\n",
       "StrCategory(['numerator', 'denominator'], name='region', label='region')<br/>\n",
       "StrCategory(['all', 'nominal', 'vvl', 'met', 'jet'], growth=True, name='trigger', label='trigger')<br/>\n",
       "Regular(20, 0, 3.5, name='lepiso', label='Lepton isolation')<br/>\n",
       "<hr style=\"margin-top:.2em; margin-bottom:.2em;\"/>\n",
       "Double() Σ=86266.0 <em>(87063.0 with flow)</em>\n",
       "\n",
       "</div>\n",
       "</div>\n",
       "</html>"
      ],
      "text/plain": [
       "Hist(\n",
       "  StrCategory(['mu'], growth=True, name='channel', label='channel'),\n",
       "  StrCategory(['numerator', 'denominator'], name='region', label='region'),\n",
       "  StrCategory(['all', 'nominal', 'vvl', 'met', 'jet'], growth=True, name='trigger', label='trigger'),\n",
       "  Regular(20, 0, 3.5, name='lepiso', label='Lepton isolation'),\n",
       "  storage=Double()) # Sum: 86266.0 (87063.0 with flow)"
      ]
     },
     "execution_count": 12,
     "metadata": {},
     "output_type": "execute_result"
    }
   ],
   "source": [
    "# now we can make histograms for lepton isolation\n",
    "import hist as hist2\n",
    "region_cat = hist2.axis.StrCategory([\"numerator\",\"denominator\"], name=\"region\")\n",
    "channel_cat = hist2.axis.StrCategory([], name='channel', growth=True)\n",
    "trigger_cat = hist2.axis.StrCategory([], name='trigger', growth=True)\n",
    "\n",
    "lepiso_axis = hist2.axis.Regular(20, 0, 3.5, name='lepiso', label=r'Lepton isolation')\n",
    "\n",
    "hists = {}\n",
    "hists[\"jet\"] = hist2.Hist(\n",
    "                channel_cat,\n",
    "                region_cat,\n",
    "                trigger_cat,\n",
    "                lepiso_axis,\n",
    "            )\n",
    "# now we can fill the histogram with the denominator (baseline selection already applied)\n",
    "lepiso = skimmed_events_mu[\"lep_isolation\"]\n",
    "\n",
    "hists[\"jet\"].fill(\n",
    "    channel=\"mu\",\n",
    "    region=\"denominator\",\n",
    "    trigger=\"all\",\n",
    "    lepiso=lepiso,\n",
    ")\n",
    "hists[\"jet\"].fill(\n",
    "    channel=\"mu\",\n",
    "    region=\"numerator\",\n",
    "    trigger=\"nominal\",\n",
    "    lepiso=lepiso[skimmed_events_mu[\"HLT_munominal\"]],\n",
    ")\n",
    "hists[\"jet\"].fill(\n",
    "    channel=\"mu\",\n",
    "    region=\"numerator\",\n",
    "    trigger=\"vvl\",  \n",
    "    lepiso=lepiso[skimmed_events_mu[\"HLT_muvvl\"]],\n",
    ")\n",
    "\n",
    "hists[\"jet\"].fill(\n",
    "    channel=\"mu\",\n",
    "    region=\"numerator\",\n",
    "    trigger=\"met\",  \n",
    "    lepiso=lepiso[skimmed_events_mu[\"HLT_muvvlmet\"]],\n",
    ")\n",
    "hists[\"jet\"].fill(\n",
    "    channel=\"mu\",\n",
    "    region=\"numerator\",\n",
    "    trigger=\"jet\",\n",
    "    lepiso=lepiso[skimmed_events_mu[\"HLT_jet\"]],\n",
    ")\n",
    "\n",
    "hists[\"jet\"]"
   ]
  },
  {
   "cell_type": "code",
   "execution_count": 13,
   "id": "ab03acbd-ae2d-477b-93c4-25f5d1650d7e",
   "metadata": {},
   "outputs": [
    {
     "data": {
      "image/png": "[encoded data removed]",
      "text/plain": [
       "<Figure size 432x288 with 1 Axes>"
      ]
     },
     "metadata": {
      "needs_background": "light"
     },
     "output_type": "display_data"
    }
   ],
   "source": [
    "# now we plot trigger efficiency as function of ht\n",
    "num_nom = hists[\"jet\"][{\"region\":\"numerator\",\"channel\":\"mu\",\"trigger\":\"nominal\"}]\n",
    "num_vvl = hists[\"jet\"][{\"region\":\"numerator\",\"channel\":\"mu\",\"trigger\":\"vvl\"}]\n",
    "num_met = hists[\"jet\"][{\"region\":\"numerator\",\"channel\":\"mu\",\"trigger\":\"met\"}]\n",
    "num_jet = hists[\"jet\"][{\"region\":\"numerator\",\"channel\":\"mu\",\"trigger\":\"jet\"}]\n",
    "\n",
    "den = hists[\"jet\"][{\"region\":\"denominator\",\"channel\":\"mu\",\"trigger\":sum}]\n",
    "\n",
    "import matplotlib.pyplot as plt\n",
    "import mplhep as hep\n",
    "from hist.intervals import clopper_pearson_interval\n",
    "def get_yerr(num,den):\n",
    "    return abs(clopper_pearson_interval(num.view(), den.view()) - num.view()/den.view())\n",
    "\n",
    "fig, ax = plt.subplots(1, 1)\n",
    "hep.histplot(num_nom/den, \n",
    "             yerr=get_yerr(num_nom,den),\n",
    "             ax = ax,\n",
    "             histtype='errorbar', color='red', capsize=4, elinewidth=1, label=\"Muon Nominal\",         \n",
    ")\n",
    "hep.histplot(num_vvl/den, \n",
    "             yerr=get_yerr(num_vvl,den),\n",
    "             ax = ax,\n",
    "             histtype='errorbar', color='blue', capsize=4, elinewidth=1, label=\"Muon VVL\",         \n",
    ")\n",
    "hep.histplot(num_met/den, \n",
    "             yerr=get_yerr(num_met,den),\n",
    "             ax = ax,\n",
    "             histtype='errorbar', color='green', capsize=4, elinewidth=1, label=\"Muon MET\",         \n",
    ")\n",
    "hep.histplot(num_jet/den, \n",
    "             yerr=get_yerr(num_jet,den),\n",
    "             ax = ax,\n",
    "             histtype='errorbar', color='black', capsize=4, elinewidth=1, label=\"Muon jet\",         \n",
    ")\n",
    "\n",
    "ax.set_ylim(0,1)\n",
    "ax.legend()\n",
    "plt.savefig('plots/mu_triggers/lepiso.pdf');"
   ]
  },
  {
   "cell_type": "markdown",
   "id": "c0c734c5-65e8-4653-a4f4-4578e318f9fd",
   "metadata": {},
   "source": [
    "## Plotting distribution"
   ]
  },
  {
   "cell_type": "code",
   "execution_count": 14,
   "id": "b592e887-70b9-40c1-812b-97d65efe116c",
   "metadata": {},
   "outputs": [
    {
     "data": {
      "image/png": "[encoded data removed]",
      "text/plain": [
       "<Figure size 432x288 with 1 Axes>"
      ]
     },
     "metadata": {
      "needs_background": "light"
     },
     "output_type": "display_data"
    }
   ],
   "source": [
    "### plotting deltaR distribution\n",
    "plt.hist(deltaR);"
   ]
  },
  {
   "cell_type": "code",
   "execution_count": 15,
   "id": "a256b8e7-384d-428c-a12e-647ba00499de",
   "metadata": {},
   "outputs": [
    {
     "data": {
      "image/png": "[encoded data removed]",
      "text/plain": [
       "<Figure size 432x288 with 1 Axes>"
      ]
     },
     "metadata": {
      "needs_background": "light"
     },
     "output_type": "display_data"
    }
   ],
   "source": [
    "### plotting deltaR distribution\n",
    "deltaR_axis = hist2.axis.Regular(50,0,6, name='deltaR', label=r'deltaR between the lepton and the jet')\n",
    "\n",
    "hists = hist2.Hist(\n",
    "                deltaR_axis,\n",
    "            )\n",
    "# now we can fill the histogram with the denominator (baseline selection already applied)\n",
    "hists.fill(deltaR)\n",
    "hep.histplot(hists.fill(deltaR));"
   ]
  },
  {
   "cell_type": "code",
   "execution_count": 16,
   "id": "bae59ef8-3ee8-4d0a-a1b1-d779dec917e6",
   "metadata": {},
   "outputs": [
    {
     "data": {
      "image/png": "[encoded data removed]",
      "text/plain": [
       "<Figure size 432x288 with 1 Axes>"
      ]
     },
     "metadata": {
      "needs_background": "light"
     },
     "output_type": "display_data"
    }
   ],
   "source": [
    "### plotting deltaR distribution\n",
    "plt.hist(higgspt);"
   ]
  },
  {
   "cell_type": "markdown",
   "id": "35bc2a77-5270-4b3e-adfe-e4b72dbaf2de",
   "metadata": {},
   "source": [
    "### Making OR"
   ]
  },
  {
   "cell_type": "code",
   "execution_count": 17,
   "id": "a05dbe2d-a395-4b0d-b7ef-004f9399c71c",
   "metadata": {},
   "outputs": [
    {
     "data": {
      "text/html": [
       "<html>\n",
       "<div style=\"display:flex; align-items:center;\">\n",
       "<div style=\"width:290px;\">\n",
       "<svg xmlns=\"http://www.w3.org/2000/svg\" viewBox=\"-10 -10 220 220\">\n",
       "<rect x=\"0\" y=\"0\" width=\"160\" height=\"160\" style=\"fill:white;opacity:.5;stroke-width:2;stroke:currentColor;\"/>\n",
       "<rect x=\"20\" y=\"20\" width=\"160\" height=\"160\" style=\"fill:white;opacity:.5;stroke-width:2;stroke:currentColor;\"/>\n",
       "<rect x=\"40\" y=\"40\" width=\"160\" height=\"160\" style=\"fill:white;opacity:.5;stroke-width:2;stroke:currentColor;\"/>\n",
       "<text x=\"120.0\" y=\"120.0\" style=\"font-size: 26pt; font-family: verdana; font-style: bold; fill: black;\" text-anchor=\"middle\" alignment-baseline=\"middle\">\n",
       "6D\n",
       "</text>\n",
       "</svg>\n",
       "</div>\n",
       "<div style=\"flex=grow:1;\">\n",
       "StrCategory(['mu'], growth=True, name='channel', label='channel')<br/>\n",
       "StrCategory(['numerator', 'denominator'], name='region', label='region')<br/>\n",
       "StrCategory(['all', 'nominal+vvl', 'nominal+vvl+jet'], growth=True, name='trigger', label='trigger')<br/>\n",
       "Regular(25, 100, 700, name='higgspt', label='matched H $p_T$ [GeV]')<br/>\n",
       "Regular(25, 200, 700, name='jetpt', label='Jet $p_T$ [GeV]')<br/>\n",
       "Regular(25, 10, 400, name='leppt', label='Lepton $p_T$ [GeV]')<br/>\n",
       "<hr style=\"margin-top:.2em; margin-bottom:.2em;\"/>\n",
       "Double() Σ=51691.0 <em>(99295.0 with flow)</em>\n",
       "\n",
       "</div>\n",
       "</div>\n",
       "</html>"
      ],
      "text/plain": [
       "Hist(\n",
       "  StrCategory(['mu'], growth=True, name='channel', label='channel'),\n",
       "  StrCategory(['numerator', 'denominator'], name='region', label='region'),\n",
       "  StrCategory(['all', 'nominal+vvl', 'nominal+vvl+jet'], growth=True, name='trigger', label='trigger'),\n",
       "  Regular(25, 100, 700, name='higgspt', label='matched H $p_T$ [GeV]'),\n",
       "  Regular(25, 200, 700, name='jetpt', label='Jet $p_T$ [GeV]'),\n",
       "  Regular(25, 10, 400, name='leppt', label='Lepton $p_T$ [GeV]'),\n",
       "  storage=Double()) # Sum: 51691.0 (99295.0 with flow)"
      ]
     },
     "execution_count": 17,
     "metadata": {},
     "output_type": "execute_result"
    }
   ],
   "source": [
    "# now we can make histograms for higgspt, jetpt, leptonpt\n",
    "import hist as hist2\n",
    "region_cat = hist2.axis.StrCategory([\"numerator\",\"denominator\"], name=\"region\")\n",
    "channel_cat = hist2.axis.StrCategory([], name='channel', growth=True)\n",
    "trigger_cat = hist2.axis.StrCategory([], name='trigger', growth=True)\n",
    "\n",
    "hpt_axis = hist2.axis.Regular(25, 100, 700, name='higgspt', label=r'matched H $p_T$ [GeV]')\n",
    "jetpt_axis = hist2.axis.Regular(25, 200, 700, name='jetpt', label=r'Jet $p_T$ [GeV]')\n",
    "leppt_axis = hist2.axis.Regular(25, 10, 400, name='leppt', label=r'Lepton $p_T$ [GeV]')\n",
    "\n",
    "hists = {}\n",
    "hists[\"jet\"] = hist2.Hist(\n",
    "                channel_cat,\n",
    "                region_cat,\n",
    "                trigger_cat,\n",
    "                hpt_axis,\n",
    "                jetpt_axis,\n",
    "                leppt_axis,\n",
    "            )\n",
    "# now we can fill the histogram with the denominator (baseline selection already applied)\n",
    "higgspt = skimmed_events_mu[\"higgspt\"]\n",
    "jetpt = skimmed_events_mu[\"fj_pt\"]\n",
    "leppt = skimmed_events_mu[\"lep_pt\"]\n",
    "\n",
    "hists[\"jet\"].fill(\n",
    "    channel=\"mu\",\n",
    "    region=\"denominator\",\n",
    "    trigger=\"all\",\n",
    "    higgspt=higgspt,\n",
    "    jetpt=jetpt,\n",
    "    leppt=leppt,\n",
    ")\n",
    "hists[\"jet\"].fill(\n",
    "    channel=\"mu\",\n",
    "    region=\"numerator\",\n",
    "    trigger=\"nominal+vvl\",\n",
    "    higgspt=higgspt[skimmed_events_mu[\"HLT_munominal\"] | skimmed_events_mu[\"HLT_muvvl\"]],\n",
    "    jetpt=jetpt[skimmed_events_mu[\"HLT_munominal\"] | skimmed_events_mu[\"HLT_muvvl\"]],\n",
    "    leppt=leppt[skimmed_events_mu[\"HLT_munominal\"] | skimmed_events_mu[\"HLT_muvvl\"]],\n",
    ")\n",
    "hists[\"jet\"].fill(\n",
    "    channel=\"mu\",\n",
    "    region=\"numerator\",\n",
    "    trigger=\"nominal+vvl+jet\",\n",
    "    higgspt=higgspt[skimmed_events_mu[\"HLT_munominal\"] | skimmed_events_mu[\"HLT_muvvl\"] | skimmed_events_mu[\"HLT_jet\"]],\n",
    "    jetpt=jetpt[skimmed_events_mu[\"HLT_munominal\"] | skimmed_events_mu[\"HLT_muvvl\"] | skimmed_events_mu[\"HLT_jet\"]],\n",
    "    leppt=leppt[skimmed_events_mu[\"HLT_munominal\"] | skimmed_events_mu[\"HLT_muvvl\"] | skimmed_events_mu[\"HLT_jet\"]],\n",
    ")\n",
    "\n",
    "hists[\"jet\"]"
   ]
  },
  {
   "cell_type": "code",
   "execution_count": 18,
   "id": "f3ccc357-efb8-4146-ab15-a427996437e4",
   "metadata": {},
   "outputs": [
    {
     "name": "stderr",
     "output_type": "stream",
     "text": [
      "/tmp/ipykernel_174/2139677317.py:11: RuntimeWarning: invalid value encountered in true_divide\n",
      "  return abs(clopper_pearson_interval(num.view(), den.view()) - num.view()/den.view())\n",
      "/tmp/ipykernel_174/2139677317.py:11: RuntimeWarning: invalid value encountered in true_divide\n",
      "  return abs(clopper_pearson_interval(num.view(), den.view()) - num.view()/den.view())\n"
     ]
    },
    {
     "data": {
      "image/png": "[encoded data removed]",
      "text/plain": [
       "<Figure size 432x288 with 1 Axes>"
      ]
     },
     "metadata": {
      "needs_background": "light"
     },
     "output_type": "display_data"
    }
   ],
   "source": [
    "# now we plot trigger efficiency as function of leptonpt\n",
    "num_nomvvl = hists[\"jet\"][{\"region\":\"numerator\",\"channel\":\"mu\",\"trigger\":\"nominal+vvl\", 'jetpt':sum, 'higgspt':sum}]\n",
    "num_most = hists[\"jet\"][{\"region\":\"numerator\",\"channel\":\"mu\",\"trigger\":\"nominal+vvl+jet\", 'jetpt':sum, 'higgspt':sum}]\n",
    "\n",
    "den = hists[\"jet\"][{\"region\":\"denominator\",\"channel\":\"mu\",\"trigger\":sum, 'jetpt':sum, 'higgspt':sum}]\n",
    "\n",
    "import matplotlib.pyplot as plt\n",
    "import mplhep as hep\n",
    "from hist.intervals import clopper_pearson_interval\n",
    "def get_yerr(num,den):\n",
    "    return abs(clopper_pearson_interval(num.view(), den.view()) - num.view()/den.view())\n",
    "\n",
    "fig, ax = plt.subplots(1, 1)\n",
    "hep.histplot(num_nomvvl/den, \n",
    "             yerr=get_yerr(num_nomvvl,den),\n",
    "             ax = ax,\n",
    "             histtype='errorbar', color='red', capsize=4, elinewidth=1, label=\"Muon Nominal+VVL\",         \n",
    ")\n",
    "hep.histplot(num_most/den, \n",
    "             yerr=get_yerr(num_most,den),\n",
    "             ax = ax,\n",
    "             histtype='errorbar', color='blue', capsize=4, elinewidth=1, label=\"Muon Nominal+VVL+jet\",         \n",
    ")\n",
    "ax.set_ylim(0,1)\n",
    "ax.legend()\n",
    "plt.savefig('plots/mu_triggers/most/leppt.pdf');"
   ]
  },
  {
   "cell_type": "code",
   "execution_count": 19,
   "id": "60415e84-188d-4a8e-ab57-c467325ad611",
   "metadata": {},
   "outputs": [
    {
     "data": {
      "image/png": "[encoded data removed]",
      "text/plain": [
       "<Figure size 432x288 with 1 Axes>"
      ]
     },
     "metadata": {
      "needs_background": "light"
     },
     "output_type": "display_data"
    }
   ],
   "source": [
    "# now we plot trigger efficiency as function of higgspt\n",
    "num_nomvvl = hists[\"jet\"][{\"region\":\"numerator\",\"channel\":\"mu\",\"trigger\":\"nominal+vvl\", 'leppt':sum, 'jetpt':sum}]\n",
    "num_most = hists[\"jet\"][{\"region\":\"numerator\",\"channel\":\"mu\",\"trigger\":\"nominal+vvl+jet\", 'leppt':sum, 'jetpt':sum}]\n",
    "\n",
    "den = hists[\"jet\"][{\"region\":\"denominator\",\"channel\":\"mu\",\"trigger\":sum, 'leppt':sum, 'jetpt':sum}]\n",
    "\n",
    "import matplotlib.pyplot as plt\n",
    "import mplhep as hep\n",
    "from hist.intervals import clopper_pearson_interval\n",
    "def get_yerr(num,den):\n",
    "    return abs(clopper_pearson_interval(num.view(), den.view()) - num.view()/den.view())\n",
    "\n",
    "fig, ax = plt.subplots(1, 1)\n",
    "hep.histplot(num_nomvvl/den, \n",
    "             yerr=get_yerr(num_nomvvl,den),\n",
    "             ax = ax,\n",
    "             histtype='errorbar', color='red', capsize=4, elinewidth=1, label=\"Muon Nominal+VVL\",         \n",
    ")\n",
    "hep.histplot(num_most/den, \n",
    "             yerr=get_yerr(num_most,den),\n",
    "             ax = ax,\n",
    "             histtype='errorbar', color='blue', capsize=4, elinewidth=1, label=\"Muon Nominal+VVL+jet\",         \n",
    ")\n",
    "ax.set_ylim(0,1)\n",
    "ax.legend()\n",
    "plt.savefig('plots/mu_triggers/most/higgspt.pdf');"
   ]
  },
  {
   "cell_type": "code",
   "execution_count": 20,
   "id": "3acd9c96-cdaa-4672-95a5-cb469b96d034",
   "metadata": {},
   "outputs": [
    {
     "data": {
      "image/png": "[encoded data removed]",
      "text/plain": [
       "<Figure size 432x288 with 1 Axes>"
      ]
     },
     "metadata": {
      "needs_background": "light"
     },
     "output_type": "display_data"
    }
   ],
   "source": [
    "# now we plot trigger efficiency as function of jetpt\n",
    "num_nomvvl = hists[\"jet\"][{\"region\":\"numerator\",\"channel\":\"mu\",\"trigger\":\"nominal+vvl\", 'higgspt':sum, 'leppt':sum}]\n",
    "num_most = hists[\"jet\"][{\"region\":\"numerator\",\"channel\":\"mu\",\"trigger\":\"nominal+vvl+jet\", 'higgspt':sum, 'leppt':sum}]\n",
    "\n",
    "den = hists[\"jet\"][{\"region\":\"denominator\",\"channel\":\"mu\",\"trigger\":sum, 'higgspt':sum, 'leppt':sum}]\n",
    "\n",
    "import matplotlib.pyplot as plt\n",
    "import mplhep as hep\n",
    "from hist.intervals import clopper_pearson_interval\n",
    "def get_yerr(num,den):\n",
    "    return abs(clopper_pearson_interval(num.view(), den.view()) - num.view()/den.view())\n",
    "\n",
    "fig, ax = plt.subplots(1, 1)\n",
    "hep.histplot(num_nomvvl/den, \n",
    "             yerr=get_yerr(num_nomvvl,den),\n",
    "             ax = ax,\n",
    "             histtype='errorbar', color='red', capsize=4, elinewidth=1, label=\"Muon Nominal+VVL\",         \n",
    ")\n",
    "hep.histplot(num_most/den, \n",
    "             yerr=get_yerr(num_most,den),\n",
    "             ax = ax,\n",
    "             histtype='errorbar', color='blue', capsize=4, elinewidth=1, label=\"Muon Nominal+VVL+jet\",         \n",
    ")\n",
    "ax.set_ylim(0,1)\n",
    "ax.legend()\n",
    "plt.savefig('plots/mu_triggers/most/jetpt.pdf');"
   ]
  },
  {
   "cell_type": "code",
   "execution_count": 21,
   "id": "4ba5aeb0-3e23-4908-a114-c0addf9cac3d",
   "metadata": {},
   "outputs": [
    {
     "data": {
      "text/html": [
       "<html>\n",
       "<div style=\"display:flex; align-items:center;\">\n",
       "<div style=\"width:290px;\">\n",
       "<svg xmlns=\"http://www.w3.org/2000/svg\" viewBox=\"-10 -10 220 220\">\n",
       "<rect x=\"0\" y=\"0\" width=\"160\" height=\"160\" style=\"fill:white;opacity:.5;stroke-width:2;stroke:currentColor;\"/>\n",
       "<rect x=\"20\" y=\"20\" width=\"160\" height=\"160\" style=\"fill:white;opacity:.5;stroke-width:2;stroke:currentColor;\"/>\n",
       "<rect x=\"40\" y=\"40\" width=\"160\" height=\"160\" style=\"fill:white;opacity:.5;stroke-width:2;stroke:currentColor;\"/>\n",
       "<text x=\"120.0\" y=\"120.0\" style=\"font-size: 26pt; font-family: verdana; font-style: bold; fill: black;\" text-anchor=\"middle\" alignment-baseline=\"middle\">\n",
       "6D\n",
       "</text>\n",
       "</svg>\n",
       "</div>\n",
       "<div style=\"flex=grow:1;\">\n",
       "StrCategory(['mu'], growth=True, name='channel', label='channel')<br/>\n",
       "StrCategory(['numerator', 'denominator'], name='region', label='region')<br/>\n",
       "StrCategory(['all', 'nominal+vvl', 'nominal+vvl+jet', 'nominal+vvl+jet+photon'], growth=True, name='trigger', label='trigger')<br/>\n",
       "Regular(20, 0, 1.5, name='deltaR', label='deltaR')<br/>\n",
       "Regular(20, 180, 1500, name='ht', label='HT [GeV]')<br/>\n",
       "Regular(20, 0, 3.5, name='lepiso', label='Lepton isolation')<br/>\n",
       "<hr style=\"margin-top:.2em; margin-bottom:.2em;\"/>\n",
       "Double() Σ=68543.0 <em>(130718.0 with flow)</em>\n",
       "\n",
       "</div>\n",
       "</div>\n",
       "</html>"
      ],
      "text/plain": [
       "Hist(\n",
       "  StrCategory(['mu'], growth=True, name='channel', label='channel'),\n",
       "  StrCategory(['numerator', 'denominator'], name='region', label='region'),\n",
       "  StrCategory(['all', 'nominal+vvl', 'nominal+vvl+jet', 'nominal+vvl+jet+photon'], growth=True, name='trigger', label='trigger'),\n",
       "  Regular(20, 0, 1.5, name='deltaR', label='deltaR'),\n",
       "  Regular(20, 180, 1500, name='ht', label='HT [GeV]'),\n",
       "  Regular(20, 0, 3.5, name='lepiso', label='Lepton isolation'),\n",
       "  storage=Double()) # Sum: 68543.0 (130718.0 with flow)"
      ]
     },
     "execution_count": 21,
     "metadata": {},
     "output_type": "execute_result"
    }
   ],
   "source": [
    "# now we can make histograms for deltaR and HT\n",
    "import hist as hist2\n",
    "region_cat = hist2.axis.StrCategory([\"numerator\",\"denominator\"], name=\"region\")\n",
    "channel_cat = hist2.axis.StrCategory([], name='channel', growth=True)\n",
    "trigger_cat = hist2.axis.StrCategory([], name='trigger', growth=True)\n",
    "\n",
    "deltaR_axis = hist2.axis.Regular(20, 0, 1.5, name='deltaR', label=r'deltaR')\n",
    "ht_axis = hist2.axis.Regular(20,180, 1500, name='ht', label=r'HT [GeV]')\n",
    "lepiso_axis = hist2.axis.Regular(20, 0, 3.5, name='lepiso', label=r'Lepton isolation')\n",
    "\n",
    "hists = {}\n",
    "hists[\"jet\"] = hist2.Hist(\n",
    "                channel_cat,\n",
    "                region_cat,\n",
    "                trigger_cat,\n",
    "                deltaR_axis,\n",
    "                ht_axis,\n",
    "                lepiso_axis\n",
    "            )\n",
    "# now we can fill the histogram with the denominator (baseline selection already applied)\n",
    "deltaR = skimmed_events_mu[\"fj_lep_dR\"]\n",
    "ht = skimmed_events_mu[\"ht\"]\n",
    "lepiso = skimmed_events_mu[\"lep_isolation\"]\n",
    "\n",
    "hists[\"jet\"].fill(\n",
    "    channel=\"mu\",\n",
    "    region=\"denominator\",\n",
    "    trigger=\"all\",\n",
    "    deltaR=deltaR,\n",
    "    ht=ht,\n",
    "    lepiso=lepiso\n",
    ")\n",
    "hists[\"jet\"].fill(\n",
    "    channel=\"mu\",\n",
    "    region=\"numerator\",\n",
    "    trigger=\"nominal+vvl\",\n",
    "    deltaR=deltaR[skimmed_events_mu[\"HLT_munominal\"] | skimmed_events_mu[\"HLT_muvvl\"]],\n",
    "    ht=ht[skimmed_events_mu[\"HLT_munominal\"] | skimmed_events_mu[\"HLT_muvvl\"]],\n",
    "    lepiso=lepiso[skimmed_events_mu[\"HLT_munominal\"] | skimmed_events_mu[\"HLT_muvvl\"]],\n",
    ")\n",
    "hists[\"jet\"].fill(\n",
    "    channel=\"mu\",\n",
    "    region=\"numerator\",\n",
    "    trigger=\"nominal+vvl+jet\",\n",
    "    deltaR=deltaR[skimmed_events_mu[\"HLT_munominal\"] | skimmed_events_mu[\"HLT_muvvl\"] | skimmed_events_mu[\"HLT_jet\"]],\n",
    "    ht=ht[skimmed_events_mu[\"HLT_munominal\"] | skimmed_events_mu[\"HLT_muvvl\"] | skimmed_events_mu[\"HLT_jet\"]],\n",
    "    lepiso=lepiso[skimmed_events_mu[\"HLT_munominal\"] | skimmed_events_mu[\"HLT_muvvl\"] | skimmed_events_mu[\"HLT_jet\"]],\n",
    ")\n",
    "\n",
    "hists[\"jet\"].fill(\n",
    "    channel=\"mu\",\n",
    "    region=\"numerator\",\n",
    "    trigger=\"nominal+vvl+jet+photon\",\n",
    "    deltaR=deltaR[skimmed_events_mu[\"HLT_munominal\"] | skimmed_events_mu[\"HLT_muvvl\"] | skimmed_events_mu[\"HLT_jet\"]],\n",
    "    ht=ht[skimmed_events_mu[\"HLT_munominal\"] | skimmed_events_mu[\"HLT_muvvl\"] | skimmed_events_mu[\"HLT_jet\"]],\n",
    "    lepiso=lepiso[skimmed_events_mu[\"HLT_munominal\"] | skimmed_events_mu[\"HLT_muvvl\"] | skimmed_events_mu[\"HLT_jet\"]],\n",
    ")\n",
    "\n",
    "hists[\"jet\"]"
   ]
  },
  {
   "cell_type": "code",
   "execution_count": 22,
   "id": "b0faca7f-4e2b-4058-ad54-2be3b608e670",
   "metadata": {},
   "outputs": [
    {
     "data": {
      "image/png": "[encoded data removed]",
      "text/plain": [
       "<Figure size 432x288 with 1 Axes>"
      ]
     },
     "metadata": {
      "needs_background": "light"
     },
     "output_type": "display_data"
    }
   ],
   "source": [
    "# now we plot trigger efficiency as function of deltaR\n",
    "num_nomvvl = hists[\"jet\"][{\"region\":\"numerator\",\"channel\":\"mu\",\"trigger\":\"nominal+vvl\", 'ht':sum, 'lepiso':sum}]\n",
    "num_most = hists[\"jet\"][{\"region\":\"numerator\",\"channel\":\"mu\",\"trigger\":\"nominal+vvl+jet\", 'ht':sum, 'lepiso':sum}]\n",
    "\n",
    "den = hists[\"jet\"][{\"region\":\"denominator\",\"channel\":\"mu\",\"trigger\":sum, 'ht':sum, 'lepiso':sum}]\n",
    "\n",
    "import matplotlib.pyplot as plt\n",
    "import mplhep as hep\n",
    "from hist.intervals import clopper_pearson_interval\n",
    "def get_yerr(num,den):\n",
    "    return abs(clopper_pearson_interval(num.view(), den.view()) - num.view()/den.view())\n",
    "\n",
    "fig, ax = plt.subplots(1, 1)\n",
    "hep.histplot(num_nomvvl/den, \n",
    "             yerr=get_yerr(num_nomvvl,den),\n",
    "             ax = ax,\n",
    "             histtype='errorbar', color='red', capsize=4, elinewidth=1, label=\"Muon Nominal+VVL\",         \n",
    ")\n",
    "hep.histplot(num_most/den, \n",
    "             yerr=get_yerr(num_most,den),\n",
    "             ax = ax,\n",
    "             histtype='errorbar', color='blue', capsize=4, elinewidth=1, label=\"Muon Nominal+VVL+jet\",         \n",
    ")\n",
    "ax.set_ylim(0,1)\n",
    "ax.set_ylim(0,1)\n",
    "ax.legend()\n",
    "plt.savefig('plots/mu_triggers/most/deltaR.pdf');"
   ]
  },
  {
   "cell_type": "code",
   "execution_count": 23,
   "id": "7c173541-4602-4692-8dc9-cbe2d38edf59",
   "metadata": {},
   "outputs": [
    {
     "data": {
      "image/png": "[encoded data removed]",
      "text/plain": [
       "<Figure size 432x288 with 1 Axes>"
      ]
     },
     "metadata": {
      "needs_background": "light"
     },
     "output_type": "display_data"
    }
   ],
   "source": [
    "# now we plot trigger efficiency as function of ht\n",
    "num_nomvvl = hists[\"jet\"][{\"region\":\"numerator\",\"channel\":\"mu\",\"trigger\":\"nominal+vvl\", 'deltaR':sum, 'lepiso':sum}]\n",
    "num_most = hists[\"jet\"][{\"region\":\"numerator\",\"channel\":\"mu\",\"trigger\":\"nominal+vvl+jet\", 'deltaR':sum, 'lepiso':sum}]\n",
    "\n",
    "den = hists[\"jet\"][{\"region\":\"denominator\",\"channel\":\"mu\",\"trigger\":sum, 'deltaR':sum, 'lepiso':sum}]\n",
    "\n",
    "import matplotlib.pyplot as plt\n",
    "import mplhep as hep\n",
    "from hist.intervals import clopper_pearson_interval\n",
    "def get_yerr(num,den):\n",
    "    return abs(clopper_pearson_interval(num.view(), den.view()) - num.view()/den.view())\n",
    "\n",
    "fig, ax = plt.subplots(1, 1)\n",
    "hep.histplot(num_nomvvl/den, \n",
    "             yerr=get_yerr(num_nomvvl,den),\n",
    "             ax = ax,\n",
    "             histtype='errorbar', color='red', capsize=4, elinewidth=1, label=\"Muon Nominal+VVL\",         \n",
    ")\n",
    "hep.histplot(num_most/den, \n",
    "             yerr=get_yerr(num_most,den),\n",
    "             ax = ax,\n",
    "             histtype='errorbar', color='blue', capsize=4, elinewidth=1, label=\"Muon Nominal+VVL+jet\",         \n",
    ")\n",
    "ax.set_ylim(0,1)\n",
    "ax.legend()\n",
    "plt.savefig('plots/mu_triggers/most/ht.pdf');"
   ]
  },
  {
   "cell_type": "code",
   "execution_count": 24,
   "id": "8336308f-47b5-4687-9271-1d8295f8dcd3",
   "metadata": {},
   "outputs": [
    {
     "data": {
      "image/png": "[encoded data removed]",
      "text/plain": [
       "<Figure size 432x288 with 1 Axes>"
      ]
     },
     "metadata": {
      "needs_background": "light"
     },
     "output_type": "display_data"
    }
   ],
   "source": [
    "# now we plot trigger efficiency as function of lepiso\n",
    "num_nomvvl = hists[\"jet\"][{\"region\":\"numerator\",\"channel\":\"mu\",\"trigger\":\"nominal+vvl\", 'deltaR':sum, 'ht':sum}]\n",
    "num_most = hists[\"jet\"][{\"region\":\"numerator\",\"channel\":\"mu\",\"trigger\":\"nominal+vvl+jet\", 'deltaR':sum, 'ht':sum}]\n",
    "\n",
    "den = hists[\"jet\"][{\"region\":\"denominator\",\"channel\":\"mu\",\"trigger\":sum, 'deltaR':sum, 'ht':sum}]\n",
    "\n",
    "import matplotlib.pyplot as plt\n",
    "import mplhep as hep\n",
    "from hist.intervals import clopper_pearson_interval\n",
    "def get_yerr(num,den):\n",
    "    return abs(clopper_pearson_interval(num.view(), den.view()) - num.view()/den.view())\n",
    "\n",
    "fig, ax = plt.subplots(1, 1)\n",
    "hep.histplot(num_nomvvl/den, \n",
    "             yerr=get_yerr(num_nomvvl,den),\n",
    "             ax = ax,\n",
    "             histtype='errorbar', color='red', capsize=4, elinewidth=1, label=\"Muon Nominal+VVL\",         \n",
    ")\n",
    "hep.histplot(num_most/den, \n",
    "             yerr=get_yerr(num_most,den),\n",
    "             ax = ax,\n",
    "             histtype='errorbar', color='blue', capsize=4, elinewidth=1, label=\"Muon Nominal+VVL+jet\",         \n",
    ")\n",
    "ax.set_ylim(0,1)\n",
    "ax.legend()\n",
    "plt.savefig('plots/mu_triggers/most/lepiso.pdf');"
   ]
  }
 ],
 "metadata": {
  "kernelspec": {
   "display_name": "Python 3 (ipykernel)",
   "language": "python",
   "name": "python3"
  },
  "language_info": {
   "codemirror_mode": {
    "name": "ipython",
    "version": 3
   },
   "file_extension": ".py",
   "mimetype": "text/x-python",
   "name": "python",
   "nbconvert_exporter": "python",
   "pygments_lexer": "ipython3",
   "version": "3.7.12"
  }
 },
 "nbformat": 4,
 "nbformat_minor": 5
}
