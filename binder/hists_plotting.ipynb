{
 "cells": [
  {
   "cell_type": "code",
   "execution_count": 1,
   "metadata": {},
   "outputs": [],
   "source": [
    "import pickle as pkl\n",
    "import pyarrow.parquet as pq\n",
    "import numpy as np\n",
    "import json\n",
    "import os\n",
    "import glob\n",
    "import argparse\n",
    "\n",
    "import hist as hist2\n",
    "\n",
    "import matplotlib.pyplot as plt\n",
    "import matplotlib.colors as mcolors\n",
    "import mplhep as hep\n",
    "plt.style.use(hep.style.CMS)\n",
    "plt.rcParams.update({'font.size': 20})\n",
    "\n",
    "# luminosity\n",
    "f = open(\"../fileset/luminosity.json\")\n",
    "luminosity = json.load(f)['2017']\n",
    "luminosity = luminosity / 1000.\n",
    "f.close()"
   ]
  },
  {
   "cell_type": "code",
   "execution_count": 5,
   "metadata": {},
   "outputs": [
    {
     "name": "stdout",
     "output_type": "stream",
     "text": [
      "/Users/fmokhtar/Desktop/ele_event_weight.pkl\r\n"
     ]
    }
   ],
   "source": [
    "! ls /Users/fmokhtar/Desktop/ele_event_weight.pkl"
   ]
  },
  {
   "cell_type": "code",
   "execution_count": 80,
   "metadata": {},
   "outputs": [],
   "source": [
    "# load the hists\n",
    "ch = 'ele'\n",
    "# ch = 'mu'\n",
    "with open(f\"/Users/fmokhtar/Desktop/{ch}_all_in_all.pkl\", \"rb\") as f:\n",
    "    all_in_all = pkl.load(f)\n",
    "    f.close()"
   ]
  },
  {
   "cell_type": "code",
   "execution_count": 89,
   "metadata": {},
   "outputs": [],
   "source": [
    "for x in all_in_all:\n",
    "    if x not in [72.69830322265625, -72.69830322265625,303.3580017089844,-303.3580017089844,316.46600341796875]:\n",
    "        print(x)\n",
    "               "
   ]
  },
  {
   "cell_type": "code",
   "execution_count": 92,
   "metadata": {},
   "outputs": [
    {
     "data": {
      "text/plain": [
       "<matplotlib.legend.Legend at 0x7fe8e8509430>"
      ]
     },
     "execution_count": 92,
     "metadata": {},
     "output_type": "execute_result"
    },
    {
     "data": {
      "image/png": "[encoded data removed]",
      "text/plain": [
       "<Figure size 576x360 with 1 Axes>"
      ]
     },
     "metadata": {
      "needs_background": "light"
     },
     "output_type": "display_data"
    }
   ],
   "source": [
    "fig, ax = plt.subplots(figsize=(8, 5))\n",
    "ax.hist(all_in_all, label='gen_weight')\n",
    "ax.set_xlabel(f\"event weight\")\n",
    "ax.set_yscale('log')\n",
    "ax.set_title(f'{ch} channel for \\n {sample}')\n",
    "hep.cms.lumitext(f\"{year} (13 TeV)\", ax=ax)\n",
    "hep.cms.text(\"Work in Progress\", ax=ax)\n",
    "ax.legend()"
   ]
  },
  {
   "cell_type": "code",
   "execution_count": 67,
   "metadata": {},
   "outputs": [],
   "source": [
    "# load the hists\n",
    "ch = 'ele'\n",
    "# ch = 'mu'\n",
    "with open(f\"/Users/fmokhtar/Desktop/ele_event_weight.pkl\", \"rb\") as f:\n",
    "    h = pkl.load(f)\n",
    "    f.close()"
   ]
  },
  {
   "cell_type": "code",
   "execution_count": 68,
   "metadata": {},
   "outputs": [
    {
     "data": {
      "text/plain": [
       "Hist(\n",
       "  StrCategory(['TTbar'], growth=True, name='samples', label='samples'),\n",
       "  Regular(100, 0, 1, name='ch_weight', label='channel weight'),\n",
       "  Regular(100, 0, 1, name='plain_weight', label='plain weight'),\n",
       "  storage=Double()) # Sum: 0.0 (342591.0 with flow)"
      ]
     },
     "execution_count": 68,
     "metadata": {},
     "output_type": "execute_result"
    }
   ],
   "source": [
    "h"
   ]
  },
  {
   "cell_type": "code",
   "execution_count": 69,
   "metadata": {},
   "outputs": [
    {
     "name": "stderr",
     "output_type": "stream",
     "text": [
      "/opt/anaconda3/envs/pyg-coffea/lib/python3.8/site-packages/mplhep/error_estimation.py:38: RuntimeWarning: All sumw are zero!  Cannot compute meaningful error bars\n",
      "  warnings.warn(\n"
     ]
    },
    {
     "data": {
      "image/png": "[encoded data removed]",
      "text/plain": [
       "<Figure size 576x360 with 1 Axes>"
      ]
     },
     "metadata": {
      "needs_background": "light"
     },
     "output_type": "display_data"
    }
   ],
   "source": [
    "        # make plots per channel\n",
    "        for sample in h.axes[0]:\n",
    "            fig, ax = plt.subplots(figsize=(8, 5))\n",
    "            hep.histplot(h[{'samples': sample, 'ch_weight': sum}], ax=ax, label='plain_weight')\n",
    "            hep.histplot(h[{'samples': sample, 'plain_weight': sum}], ax=ax, label='ch_weight')\n",
    "            ax.set_xlabel(f\"event weight\")\n",
    "            ax.set_title(f'{ch} channel for \\n {sample}')\n",
    "            hep.cms.lumitext(f\"{year} (13 TeV)\", ax=ax)\n",
    "            hep.cms.text(\"Work in Progress\", ax=ax)\n",
    "            ax.legend()"
   ]
  },
  {
   "cell_type": "code",
   "execution_count": null,
   "metadata": {},
   "outputs": [],
   "source": []
  }
 ],
 "metadata": {
  "kernelspec": {
   "display_name": "pyg-coffea",
   "language": "python",
   "name": "pyg-coffea"
  },
  "language_info": {
   "codemirror_mode": {
    "name": "ipython",
    "version": 3
   },
   "file_extension": ".py",
   "mimetype": "text/x-python",
   "name": "python",
   "nbconvert_exporter": "python",
   "pygments_lexer": "ipython3",
   "version": "3.8.3"
  }
 },
 "nbformat": 4,
 "nbformat_minor": 4
}
