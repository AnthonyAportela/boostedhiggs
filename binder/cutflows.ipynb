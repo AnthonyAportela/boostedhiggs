{
 "cells": [
  {
   "cell_type": "code",
   "execution_count": 1,
   "metadata": {},
   "outputs": [],
   "source": [
    "import glob\n",
    "import os\n",
    "import json\n",
    "import pickle as pkl\n",
    "import yaml\n",
    "\n",
    "import numpy as np\n",
    "import pandas as pd\n",
    "pd.options.mode.chained_assignment = None\n",
    "import pyarrow.parquet as pq\n",
    "from sklearn.metrics import auc, roc_curve\n",
    "from scipy.special import softmax\n",
    "\n",
    "import hist as hist2\n",
    "import matplotlib.pyplot as plt\n",
    "import mplhep as hep\n",
    "\n",
    "plt.style.use(hep.style.CMS)\n",
    "\n",
    "import sys\n",
    "sys.path\n",
    "sys.path.append(\"../python/\")\n",
    "\n",
    "import utils\n",
    "\n",
    "plt.rcParams.update({\"font.size\": 20})"
   ]
  },
  {
   "cell_type": "code",
   "execution_count": 2,
   "metadata": {},
   "outputs": [],
   "source": [
    "%load_ext autoreload\n",
    "%autoreload 2"
   ]
  },
  {
   "cell_type": "code",
   "execution_count": 3,
   "metadata": {
    "scrolled": false
   },
   "outputs": [
    {
     "name": "stdout",
     "output_type": "stream",
     "text": [
      "\u001b[34mDYJetsToLL_M-10to50\u001b[m\u001b[m                     \u001b[34mSingleElectron_Run2017E\u001b[m\u001b[m\r\n",
      "\u001b[34mDYJetsToLL_Pt-100To250\u001b[m\u001b[m                  \u001b[34mSingleElectron_Run2017F\u001b[m\u001b[m\r\n",
      "\u001b[34mDYJetsToLL_Pt-250To400\u001b[m\u001b[m                  \u001b[34mSingleMuon_Run2017B\u001b[m\u001b[m\r\n",
      "\u001b[34mDYJetsToLL_Pt-400To650\u001b[m\u001b[m                  \u001b[34mSingleMuon_Run2017C\u001b[m\u001b[m\r\n",
      "\u001b[34mDYJetsToLL_Pt-50To100\u001b[m\u001b[m                   \u001b[34mSingleMuon_Run2017D\u001b[m\u001b[m\r\n",
      "\u001b[34mDYJetsToLL_Pt-650ToInf\u001b[m\u001b[m                  \u001b[34mSingleMuon_Run2017E\u001b[m\u001b[m\r\n",
      "\u001b[34mGluGluHToTauTau\u001b[m\u001b[m                         \u001b[34mSingleMuon_Run2017F\u001b[m\u001b[m\r\n",
      "\u001b[34mGluGluHToWW_Pt-200ToInf_M-125\u001b[m\u001b[m           \u001b[34mTTTo2L2Nu\u001b[m\u001b[m\r\n",
      "\u001b[34mGluGluZH_HToWW_ZTo2L_M-125\u001b[m\u001b[m              \u001b[34mTTToHadronic\u001b[m\u001b[m\r\n",
      "\u001b[34mHWminusJ_HToWW_M-125\u001b[m\u001b[m                    \u001b[34mTTToSemiLeptonic\u001b[m\u001b[m\r\n",
      "\u001b[34mHWplusJ_HToWW_M-125\u001b[m\u001b[m                     \u001b[34mVBFHToWWToLNuQQ_M-125_withDipoleRecoil\u001b[m\u001b[m\r\n",
      "\u001b[34mHZJ_HToWW_M-125\u001b[m\u001b[m                         \u001b[34mWJetsToLNu_HT-100To200\u001b[m\u001b[m\r\n",
      "\u001b[34mQCD_Pt_1000to1400\u001b[m\u001b[m                       \u001b[34mWJetsToLNu_HT-1200To2500\u001b[m\u001b[m\r\n",
      "\u001b[34mQCD_Pt_1400to1800\u001b[m\u001b[m                       \u001b[34mWJetsToLNu_HT-200To400\u001b[m\u001b[m\r\n",
      "\u001b[34mQCD_Pt_170to300\u001b[m\u001b[m                         \u001b[34mWJetsToLNu_HT-2500ToInf\u001b[m\u001b[m\r\n",
      "\u001b[34mQCD_Pt_1800to2400\u001b[m\u001b[m                       \u001b[34mWJetsToLNu_HT-400To600\u001b[m\u001b[m\r\n",
      "\u001b[34mQCD_Pt_2400to3200\u001b[m\u001b[m                       \u001b[34mWJetsToLNu_HT-600To800\u001b[m\u001b[m\r\n",
      "\u001b[34mQCD_Pt_300to470\u001b[m\u001b[m                         \u001b[34mWJetsToLNu_HT-70To100\u001b[m\u001b[m\r\n",
      "\u001b[34mQCD_Pt_3200toInf\u001b[m\u001b[m                        \u001b[34mWJetsToLNu_HT-800To1200\u001b[m\u001b[m\r\n",
      "\u001b[34mQCD_Pt_470to600\u001b[m\u001b[m                         \u001b[34mWJetsToQQ_HT-200to400\u001b[m\u001b[m\r\n",
      "\u001b[34mQCD_Pt_600to800\u001b[m\u001b[m                         \u001b[34mWJetsToQQ_HT-400to600\u001b[m\u001b[m\r\n",
      "\u001b[34mQCD_Pt_800to1000\u001b[m\u001b[m                        \u001b[34mWJetsToQQ_HT-600to800\u001b[m\u001b[m\r\n",
      "\u001b[34mST_s-channel_4f_hadronicDecays\u001b[m\u001b[m          \u001b[34mWJetsToQQ_HT-800toInf\u001b[m\u001b[m\r\n",
      "\u001b[34mST_s-channel_4f_leptonDecays\u001b[m\u001b[m            \u001b[34mWW\u001b[m\u001b[m\r\n",
      "\u001b[34mST_t-channel_antitop_4f_InclusiveDecays\u001b[m\u001b[m \u001b[34mWZ\u001b[m\u001b[m\r\n",
      "\u001b[34mST_t-channel_top_4f_InclusiveDecays\u001b[m\u001b[m     \u001b[34mZJetsToQQ_HT-200to400\u001b[m\u001b[m\r\n",
      "\u001b[34mST_tW_antitop_5f_inclusiveDecays\u001b[m\u001b[m        \u001b[34mZJetsToQQ_HT-400to600\u001b[m\u001b[m\r\n",
      "\u001b[34mST_tW_top_5f_inclusiveDecays\u001b[m\u001b[m            \u001b[34mZJetsToQQ_HT-600to800\u001b[m\u001b[m\r\n",
      "\u001b[34mSingleElectron_Run2017B\u001b[m\u001b[m                 \u001b[34mZJetsToQQ_HT-800toInf\u001b[m\u001b[m\r\n",
      "\u001b[34mSingleElectron_Run2017C\u001b[m\u001b[m                 \u001b[34mZZ\u001b[m\u001b[m\r\n",
      "\u001b[34mSingleElectron_Run2017D\u001b[m\u001b[m                 \u001b[34mttHToNonbb_M125\u001b[m\u001b[m\r\n"
     ]
    }
   ],
   "source": [
    "! ls ../eos/Apr12_presel_2017"
   ]
  },
  {
   "cell_type": "markdown",
   "metadata": {},
   "source": [
    "# Read cutflows from pkl"
   ]
  },
  {
   "cell_type": "code",
   "execution_count": 4,
   "metadata": {
    "scrolled": true
   },
   "outputs": [],
   "source": [
    "def get_sum_sumgenweight(pkl_files, year, sample):\n",
    "    sum_sumgenweight = 0\n",
    "    for ifile in pkl_files:\n",
    "        # load and sum the sumgenweight of each\n",
    "        with open(ifile, \"rb\") as f:\n",
    "            metadata = pkl.load(f)\n",
    "        sum_sumgenweight = sum_sumgenweight + metadata[sample][year][\"sumgenweight\"]\n",
    "    return sum_sumgenweight\n",
    "\n",
    "\n",
    "def get_xsecweight(pkl_files, year, sample, is_data, luminosity):\n",
    "    if not is_data:\n",
    "        # find xsection\n",
    "        f = open(\"../fileset/xsec_pfnano.json\")\n",
    "        xsec = json.load(f)\n",
    "        f.close()\n",
    "        try:\n",
    "            xsec = eval(str((xsec[sample])))\n",
    "        except ValueError:\n",
    "            print(f\"sample {sample} doesn't have xsecs defined in xsec_pfnano.json so will skip it\")\n",
    "            return None\n",
    "\n",
    "        # get overall weighting of events.. each event has a genweight...\n",
    "        # sumgenweight sums over events in a chunk... sum_sumgenweight sums over chunks\n",
    "        xsec_weight = (xsec * luminosity) / get_sum_sumgenweight(pkl_files, year, sample)\n",
    "    else:\n",
    "        xsec_weight = 1\n",
    "    return xsec_weight\n",
    "\n",
    "def get_cutflow(pkl_files, year, sample, weight, ch):\n",
    "    \"\"\"\n",
    "    Get cutflow from metadata but multiply by xsec-weight\n",
    "    \"\"\"\n",
    "    cuts = {}\n",
    "    cuts[\"mu\"] = [\"trigger\", \n",
    "            \"metfilters\", \n",
    "            \"leptonKin\", \n",
    "            \"fatjetKin\", \n",
    "            \"ht\", \n",
    "            \"oneLepton\", \n",
    "            \"notaus\", \n",
    "            \"leptonInJet\", \n",
    "            \"lep_isolation\", \n",
    "            \"lep_misolation\"\n",
    "           ]\n",
    "    cuts[\"ele\"] = cuts[\"mu\"][:-1]  # remove lep_misolation\n",
    "    \n",
    "    evyield = dict.fromkeys(cuts[ch], 0)\n",
    "    for ik, pkl_file in enumerate(pkl_files):\n",
    "        with open(pkl_file, \"rb\") as f:\n",
    "            metadata = pkl.load(f)\n",
    "            if ch == \"lep\":\n",
    "                cutflows = metadata[sample][year][\"cutflows\"]\n",
    "            else:\n",
    "                cutflows = metadata[sample][year][\"cutflows\"][ch]\n",
    "\n",
    "            for key in evyield.keys():\n",
    "                evyield[key] += cutflows[key] * weight\n",
    "    return evyield"
   ]
  },
  {
   "cell_type": "code",
   "execution_count": 5,
   "metadata": {},
   "outputs": [],
   "source": [
    "channels = [\"mu\", \"ele\"]\n",
    "\n",
    "samples = [\n",
    "    \"HWW\", \n",
    "    \"VH\",\n",
    "    \"VBF\",\n",
    "    \"ttH\",\n",
    "    \"QCD\",\n",
    "    \"DYJets\",\n",
    "    \"WJetsLNu\",\n",
    "    \"WZQQ\",\n",
    "    \"TTbar\",\n",
    "    \"SingleTop\",\n",
    "    \"Diboson\",\n",
    "]"
   ]
  },
  {
   "cell_type": "code",
   "execution_count": 6,
   "metadata": {},
   "outputs": [
    {
     "name": "stdout",
     "output_type": "stream",
     "text": [
      "Processing year 2017\n",
      "Finding WJetsToLNu_HT-100To200 samples and should combine them under WJetsLNu\n",
      "Finding DYJetsToLL_M-10to50 samples and should combine them under DYJets\n",
      "Finding DYJetsToLL_Pt-400To650 samples and should combine them under DYJets\n",
      "Finding VBFHToWWToLNuQQ_M-125_withDipoleRecoil samples and should combine them under VBF\n",
      "Finding HWminusJ_HToWW_M-125 samples and should combine them under VH\n",
      "Finding WJetsToLNu_HT-800To1200 samples and should combine them under WJetsLNu\n",
      "Finding TTToSemiLeptonic samples and should combine them under TTbar\n",
      "Finding DYJetsToLL_Pt-250To400 samples and should combine them under DYJets\n",
      "Finding ST_t-channel_top_4f_InclusiveDecays samples and should combine them under SingleTop\n",
      "Finding ST_s-channel_4f_hadronicDecays samples and should combine them under SingleTop\n",
      "Finding WJetsToLNu_HT-1200To2500 samples and should combine them under WJetsLNu\n",
      "Finding WJetsToLNu_HT-200To400 samples and should combine them under WJetsLNu\n",
      "Finding ST_tW_top_5f_inclusiveDecays samples and should combine them under SingleTop\n",
      "Finding GluGluHToWW_Pt-200ToInf_M-125 samples and should combine them under HWW\n",
      "Finding WJetsToQQ_HT-200to400 samples and should combine them under WZQQ\n",
      "Finding ST_tW_antitop_5f_inclusiveDecays samples and should combine them under SingleTop\n",
      "Finding ZJetsToQQ_HT-200to400 samples and should combine them under WZQQ\n",
      "Finding QCD_Pt_3200toInf samples and should combine them under QCD\n",
      "Finding HWplusJ_HToWW_M-125 samples and should combine them under VH\n",
      "Finding WJetsToLNu_HT-70To100 samples and should combine them under WJetsLNu\n",
      "Finding ST_s-channel_4f_leptonDecays samples and should combine them under SingleTop\n",
      "Finding DYJetsToLL_Pt-50To100 samples and should combine them under DYJets\n",
      "Finding QCD_Pt_1800to2400 samples and should combine them under QCD\n",
      "Finding WW samples and should combine them under Diboson\n",
      "Finding ST_t-channel_antitop_4f_InclusiveDecays samples and should combine them under SingleTop\n",
      "Finding TTTo2L2Nu samples and should combine them under TTbar\n",
      "Finding QCD_Pt_2400to3200 samples and should combine them under QCD\n",
      "Finding DYJetsToLL_Pt-650ToInf samples and should combine them under DYJets\n",
      "Finding ZJetsToQQ_HT-400to600 samples and should combine them under WZQQ\n",
      "Finding ZZ samples and should combine them under Diboson\n",
      "Finding TTToHadronic samples and should combine them under TTbar\n",
      "Finding GluGluZH_HToWW_ZTo2L_M-125 samples and should combine them under Diboson\n",
      "Finding QCD_Pt_1000to1400 samples and should combine them under QCD\n",
      "Finding QCD_Pt_600to800 samples and should combine them under QCD\n",
      "Finding QCD_Pt_300to470 samples and should combine them under QCD\n",
      "Finding WJetsToQQ_HT-800toInf samples and should combine them under WZQQ\n",
      "Finding ZJetsToQQ_HT-600to800 samples and should combine them under WZQQ\n",
      "Finding QCD_Pt_170to300 samples and should combine them under QCD\n",
      "Finding WJetsToLNu_HT-600To800 samples and should combine them under WJetsLNu\n",
      "Finding WJetsToQQ_HT-600to800 samples and should combine them under WZQQ\n",
      "Finding WJetsToLNu_HT-2500ToInf samples and should combine them under WJetsLNu\n",
      "Finding ttHToNonbb_M125 samples and should combine them under ttH\n",
      "Finding ZJetsToQQ_HT-800toInf samples and should combine them under WZQQ\n",
      "Finding QCD_Pt_800to1000 samples and should combine them under QCD\n",
      "Finding WJetsToQQ_HT-400to600 samples and should combine them under WZQQ\n",
      "Finding WJetsToLNu_HT-400To600 samples and should combine them under WJetsLNu\n",
      "Finding QCD_Pt_470to600 samples and should combine them under QCD\n",
      "Finding HZJ_HToWW_M-125 samples and should combine them under VH\n",
      "Finding WZ samples and should combine them under Diboson\n",
      "Finding QCD_Pt_1400to1800 samples and should combine them under QCD\n",
      "Finding DYJetsToLL_Pt-100To250 samples and should combine them under DYJets\n",
      "------------------------------------------\n",
      "Finding WJetsToLNu_HT-100To200 samples and should combine them under WJetsLNu\n",
      "Finding DYJetsToLL_M-10to50 samples and should combine them under DYJets\n",
      "Finding DYJetsToLL_Pt-400To650 samples and should combine them under DYJets\n",
      "Finding VBFHToWWToLNuQQ_M-125_withDipoleRecoil samples and should combine them under VBF\n",
      "Finding HWminusJ_HToWW_M-125 samples and should combine them under VH\n",
      "Finding WJetsToLNu_HT-800To1200 samples and should combine them under WJetsLNu\n",
      "Finding TTToSemiLeptonic samples and should combine them under TTbar\n",
      "Finding DYJetsToLL_Pt-250To400 samples and should combine them under DYJets\n",
      "Finding ST_t-channel_top_4f_InclusiveDecays samples and should combine them under SingleTop\n",
      "Finding ST_s-channel_4f_hadronicDecays samples and should combine them under SingleTop\n",
      "Finding WJetsToLNu_HT-1200To2500 samples and should combine them under WJetsLNu\n",
      "Finding WJetsToLNu_HT-200To400 samples and should combine them under WJetsLNu\n",
      "Finding ST_tW_top_5f_inclusiveDecays samples and should combine them under SingleTop\n",
      "Finding GluGluHToWW_Pt-200ToInf_M-125 samples and should combine them under HWW\n",
      "Finding WJetsToQQ_HT-200to400 samples and should combine them under WZQQ\n",
      "Finding ST_tW_antitop_5f_inclusiveDecays samples and should combine them under SingleTop\n",
      "Finding ZJetsToQQ_HT-200to400 samples and should combine them under WZQQ\n",
      "Finding QCD_Pt_3200toInf samples and should combine them under QCD\n",
      "Finding HWplusJ_HToWW_M-125 samples and should combine them under VH\n",
      "Finding WJetsToLNu_HT-70To100 samples and should combine them under WJetsLNu\n",
      "Finding ST_s-channel_4f_leptonDecays samples and should combine them under SingleTop\n",
      "Finding DYJetsToLL_Pt-50To100 samples and should combine them under DYJets\n",
      "Finding QCD_Pt_1800to2400 samples and should combine them under QCD\n",
      "Finding WW samples and should combine them under Diboson\n",
      "Finding ST_t-channel_antitop_4f_InclusiveDecays samples and should combine them under SingleTop\n",
      "Finding TTTo2L2Nu samples and should combine them under TTbar\n",
      "Finding QCD_Pt_2400to3200 samples and should combine them under QCD\n",
      "Finding DYJetsToLL_Pt-650ToInf samples and should combine them under DYJets\n",
      "Finding ZJetsToQQ_HT-400to600 samples and should combine them under WZQQ\n",
      "Finding ZZ samples and should combine them under Diboson\n",
      "Finding TTToHadronic samples and should combine them under TTbar\n",
      "Finding GluGluZH_HToWW_ZTo2L_M-125 samples and should combine them under Diboson\n",
      "Finding QCD_Pt_1000to1400 samples and should combine them under QCD\n",
      "Finding QCD_Pt_600to800 samples and should combine them under QCD\n",
      "Finding QCD_Pt_300to470 samples and should combine them under QCD\n",
      "Finding WJetsToQQ_HT-800toInf samples and should combine them under WZQQ\n",
      "Finding ZJetsToQQ_HT-600to800 samples and should combine them under WZQQ\n",
      "Finding QCD_Pt_170to300 samples and should combine them under QCD\n",
      "Finding WJetsToLNu_HT-600To800 samples and should combine them under WJetsLNu\n",
      "Finding WJetsToQQ_HT-600to800 samples and should combine them under WZQQ\n",
      "Finding WJetsToLNu_HT-2500ToInf samples and should combine them under WJetsLNu\n",
      "Finding ttHToNonbb_M125 samples and should combine them under ttH\n",
      "Finding ZJetsToQQ_HT-800toInf samples and should combine them under WZQQ\n",
      "Finding QCD_Pt_800to1000 samples and should combine them under QCD\n",
      "Finding WJetsToQQ_HT-400to600 samples and should combine them under WZQQ\n",
      "Finding WJetsToLNu_HT-400To600 samples and should combine them under WJetsLNu\n",
      "Finding QCD_Pt_470to600 samples and should combine them under QCD\n",
      "Finding HZJ_HToWW_M-125 samples and should combine them under VH\n",
      "Finding WZ samples and should combine them under Diboson\n",
      "Finding QCD_Pt_1400to1800 samples and should combine them under QCD\n",
      "Finding DYJetsToLL_Pt-100To250 samples and should combine them under DYJets\n",
      "------------------------------------------\n"
     ]
    }
   ],
   "source": [
    "# years = [\"2018\", \"2017\", \"2016\", \"2016APV\"]\n",
    "years = [\"2017\"]\n",
    "\n",
    "cutflows = {}\n",
    "for year in years:\n",
    "    print(f\"Processing year {year}\")    \n",
    "    samples_dir = f\"../eos/Apr12_presel_{year}\"\n",
    "\n",
    "    cutflows[year] = {}\n",
    "    \n",
    "    for ch in channels:\n",
    "        cutflows[year][ch] = {}\n",
    "\n",
    "        # get lumi\n",
    "        with open(\"../fileset/luminosity.json\") as f:\n",
    "            luminosity = json.load(f)[ch][year]\n",
    "\n",
    "        condor_dir = os.listdir(samples_dir)\n",
    "\n",
    "        for sample in condor_dir:\n",
    "\n",
    "            # get a combined label to combine samples of the same process\n",
    "            for key in utils.combine_samples:\n",
    "                if key in sample:\n",
    "                    sample_to_use = utils.combine_samples[key]\n",
    "                    break\n",
    "                else:\n",
    "                    sample_to_use = sample\n",
    "\n",
    "            if sample_to_use not in samples:\n",
    "                continue\n",
    "\n",
    "            is_data = False\n",
    "            # if sample_to_use == data_by_ch[ch]:\n",
    "            if sample_to_use == \"Data\":\n",
    "                is_data = True\n",
    "\n",
    "            print(f\"Finding {sample} samples and should combine them under {sample_to_use}\")\n",
    "\n",
    "            out_files = f\"{samples_dir}/{sample}/outfiles/\"\n",
    "            pkl_files = glob.glob(f\"{out_files}/*.pkl\")\n",
    "\n",
    "            xsec_weight = get_xsecweight(pkl_files, year, sample, is_data, luminosity)\n",
    "            if sample_to_use not in cutflows[year][ch].keys():\n",
    "                cutflows[year][ch][sample_to_use] = get_cutflow(pkl_files, year, sample, xsec_weight, ch)\n",
    "            else:\n",
    "                temp = get_cutflow(pkl_files, year, sample, xsec_weight, ch)\n",
    "                for key in cutflows[year][ch][sample_to_use]:\n",
    "                    cutflows[year][ch][sample_to_use][key] += temp[key]\n",
    "                    \n",
    "        print(f\"------------------------------------------\")                    "
   ]
  },
  {
   "cell_type": "code",
   "execution_count": 7,
   "metadata": {},
   "outputs": [
    {
     "data": {
      "text/plain": [
       "dict_keys(['2017'])"
      ]
     },
     "execution_count": 7,
     "metadata": {},
     "output_type": "execute_result"
    }
   ],
   "source": [
    "cutflows.keys()"
   ]
  },
  {
   "cell_type": "code",
   "execution_count": 8,
   "metadata": {},
   "outputs": [
    {
     "data": {
      "text/plain": [
       "dict_keys(['mu', 'ele'])"
      ]
     },
     "execution_count": 8,
     "metadata": {},
     "output_type": "execute_result"
    }
   ],
   "source": [
    "cutflows[\"2017\"].keys()"
   ]
  },
  {
   "cell_type": "code",
   "execution_count": 9,
   "metadata": {},
   "outputs": [
    {
     "data": {
      "text/plain": [
       "dict_keys(['WJetsLNu', 'DYJets', 'VBF', 'VH', 'TTbar', 'SingleTop', 'HWW', 'WZQQ', 'QCD', 'Diboson', 'ttH'])"
      ]
     },
     "execution_count": 9,
     "metadata": {},
     "output_type": "execute_result"
    }
   ],
   "source": [
    "cutflows[\"2017\"][\"mu\"].keys()"
   ]
  },
  {
   "cell_type": "markdown",
   "metadata": {},
   "source": [
    "# Combine different channels"
   ]
  },
  {
   "cell_type": "code",
   "execution_count": 10,
   "metadata": {},
   "outputs": [],
   "source": [
    "# combine both channels\n",
    "cutflows_new = {}\n",
    "for year in years:\n",
    "    cutflows_new[year] = {}\n",
    "    for ch in cutflows[year]:\n",
    "        for sample in cutflows[year][ch]:\n",
    "            if sample not in cutflows_new[year]:\n",
    "                cutflows_new[year][sample] = {}\n",
    "\n",
    "            for cut in cutflows[year][ch][sample]:\n",
    "                if cut not in cutflows_new[year][sample]:\n",
    "                    cutflows_new[year][sample][cut] = cutflows[year][ch][sample][cut]\n",
    "                else:\n",
    "                    cutflows_new[year][sample][cut] += cutflows[year][ch][sample][cut]\n",
    "                    \n",
    "cutflows = cutflows_new"
   ]
  },
  {
   "cell_type": "code",
   "execution_count": 11,
   "metadata": {},
   "outputs": [
    {
     "data": {
      "text/plain": [
       "dict_keys(['2017'])"
      ]
     },
     "execution_count": 11,
     "metadata": {},
     "output_type": "execute_result"
    }
   ],
   "source": [
    "cutflows.keys()"
   ]
  },
  {
   "cell_type": "code",
   "execution_count": 12,
   "metadata": {},
   "outputs": [
    {
     "data": {
      "text/plain": [
       "dict_keys(['WJetsLNu', 'DYJets', 'VBF', 'VH', 'TTbar', 'SingleTop', 'HWW', 'WZQQ', 'QCD', 'Diboson', 'ttH'])"
      ]
     },
     "execution_count": 12,
     "metadata": {},
     "output_type": "execute_result"
    }
   ],
   "source": [
    "cutflows[\"2017\"].keys()"
   ]
  },
  {
   "cell_type": "code",
   "execution_count": 55,
   "metadata": {},
   "outputs": [
    {
     "name": "stdout",
     "output_type": "stream",
     "text": [
      "/Users/fmokhtar/Desktop/hww/test/events_dict.pkl\r\n"
     ]
    }
   ],
   "source": [
    "! ls /Users/fmokhtar/Desktop/hww/test/events_dict.pkl"
   ]
  },
  {
   "cell_type": "code",
   "execution_count": 56,
   "metadata": {},
   "outputs": [],
   "source": [
    "        with open(\"/Users/fmokhtar/Desktop/hww/test/events_dict.pkl\", \"rb\") as fp:\n",
    "            events_dict = pkl.load(fp)"
   ]
  },
  {
   "cell_type": "code",
   "execution_count": 62,
   "metadata": {},
   "outputs": [
    {
     "data": {
      "text/html": [
       "<div>\n",
       "<style scoped>\n",
       "    .dataframe tbody tr th:only-of-type {\n",
       "        vertical-align: middle;\n",
       "    }\n",
       "\n",
       "    .dataframe tbody tr th {\n",
       "        vertical-align: top;\n",
       "    }\n",
       "\n",
       "    .dataframe thead th {\n",
       "        text-align: right;\n",
       "    }\n",
       "</style>\n",
       "<table border=\"1\" class=\"dataframe\">\n",
       "  <thead>\n",
       "    <tr style=\"text-align: right;\">\n",
       "      <th></th>\n",
       "      <th>fj_pt</th>\n",
       "      <th>fj_msoftdrop</th>\n",
       "      <th>fj_msoftdrop_nocorr</th>\n",
       "      <th>fj_mass</th>\n",
       "      <th>fj_lsf3</th>\n",
       "      <th>fj_sj1_pt</th>\n",
       "      <th>fj_sj2_pt</th>\n",
       "      <th>fj_tau3</th>\n",
       "      <th>fj_tau2</th>\n",
       "      <th>fj_bjets_ophem</th>\n",
       "      <th>...</th>\n",
       "      <th>fj_ParT_probTopbWqq0c</th>\n",
       "      <th>fj_ParT_probTopbWqq1c</th>\n",
       "      <th>fj_ParT_probTopbWq0c</th>\n",
       "      <th>fj_ParT_probTopbWq1c</th>\n",
       "      <th>fj_ParT_probTopbWev</th>\n",
       "      <th>fj_ParT_probTopbWmv</th>\n",
       "      <th>fj_ParT_probTopbWtauhv</th>\n",
       "      <th>fj_ParT_probTopbWtauev</th>\n",
       "      <th>fj_ParT_probTopbWtaumv</th>\n",
       "      <th>event_weight</th>\n",
       "    </tr>\n",
       "  </thead>\n",
       "  <tbody>\n",
       "    <tr>\n",
       "      <th>2</th>\n",
       "      <td>3660.00</td>\n",
       "      <td>44.269785</td>\n",
       "      <td>53.468750</td>\n",
       "      <td>433.0000</td>\n",
       "      <td>0.086243</td>\n",
       "      <td>1910.00</td>\n",
       "      <td>1065.0000</td>\n",
       "      <td>0.033203</td>\n",
       "      <td>0.051300</td>\n",
       "      <td>0.316650</td>\n",
       "      <td>...</td>\n",
       "      <td>0.001285</td>\n",
       "      <td>0.000828</td>\n",
       "      <td>0.000396</td>\n",
       "      <td>0.000074</td>\n",
       "      <td>0.000371</td>\n",
       "      <td>0.000024</td>\n",
       "      <td>0.000024</td>\n",
       "      <td>3.122436e-06</td>\n",
       "      <td>0.000002</td>\n",
       "      <td>0.000005</td>\n",
       "    </tr>\n",
       "    <tr>\n",
       "      <th>3</th>\n",
       "      <td>3212.00</td>\n",
       "      <td>31.955949</td>\n",
       "      <td>37.906250</td>\n",
       "      <td>183.1250</td>\n",
       "      <td>0.113342</td>\n",
       "      <td>1543.00</td>\n",
       "      <td>1476.0000</td>\n",
       "      <td>0.008209</td>\n",
       "      <td>0.016220</td>\n",
       "      <td>0.137817</td>\n",
       "      <td>...</td>\n",
       "      <td>0.000312</td>\n",
       "      <td>0.000485</td>\n",
       "      <td>0.000057</td>\n",
       "      <td>0.000041</td>\n",
       "      <td>0.000027</td>\n",
       "      <td>0.000380</td>\n",
       "      <td>0.000065</td>\n",
       "      <td>6.149695e-06</td>\n",
       "      <td>0.000073</td>\n",
       "      <td>0.000005</td>\n",
       "    </tr>\n",
       "    <tr>\n",
       "      <th>4</th>\n",
       "      <td>2684.00</td>\n",
       "      <td>17.345410</td>\n",
       "      <td>19.546875</td>\n",
       "      <td>184.5000</td>\n",
       "      <td>0.812012</td>\n",
       "      <td>1426.00</td>\n",
       "      <td>948.0000</td>\n",
       "      <td>0.011551</td>\n",
       "      <td>0.018127</td>\n",
       "      <td>0.283691</td>\n",
       "      <td>...</td>\n",
       "      <td>0.001460</td>\n",
       "      <td>0.012806</td>\n",
       "      <td>0.002402</td>\n",
       "      <td>0.002789</td>\n",
       "      <td>0.000374</td>\n",
       "      <td>0.587833</td>\n",
       "      <td>0.003342</td>\n",
       "      <td>1.571756e-04</td>\n",
       "      <td>0.062542</td>\n",
       "      <td>0.000005</td>\n",
       "    </tr>\n",
       "    <tr>\n",
       "      <th>5</th>\n",
       "      <td>3180.00</td>\n",
       "      <td>33.056370</td>\n",
       "      <td>39.218750</td>\n",
       "      <td>416.5000</td>\n",
       "      <td>0.049255</td>\n",
       "      <td>1856.00</td>\n",
       "      <td>905.0000</td>\n",
       "      <td>0.035919</td>\n",
       "      <td>0.050995</td>\n",
       "      <td>0.443115</td>\n",
       "      <td>...</td>\n",
       "      <td>0.000046</td>\n",
       "      <td>0.000065</td>\n",
       "      <td>0.000010</td>\n",
       "      <td>0.000015</td>\n",
       "      <td>0.000003</td>\n",
       "      <td>0.799718</td>\n",
       "      <td>0.000015</td>\n",
       "      <td>7.424716e-07</td>\n",
       "      <td>0.138304</td>\n",
       "      <td>0.000005</td>\n",
       "    </tr>\n",
       "    <tr>\n",
       "      <th>7</th>\n",
       "      <td>3314.00</td>\n",
       "      <td>5.159396</td>\n",
       "      <td>6.011719</td>\n",
       "      <td>526.5000</td>\n",
       "      <td>0.985840</td>\n",
       "      <td>1577.00</td>\n",
       "      <td>1313.0000</td>\n",
       "      <td>0.009689</td>\n",
       "      <td>0.012627</td>\n",
       "      <td>0.218384</td>\n",
       "      <td>...</td>\n",
       "      <td>0.000012</td>\n",
       "      <td>0.000008</td>\n",
       "      <td>0.000060</td>\n",
       "      <td>0.000008</td>\n",
       "      <td>0.000023</td>\n",
       "      <td>0.001514</td>\n",
       "      <td>0.000004</td>\n",
       "      <td>1.294617e-06</td>\n",
       "      <td>0.000020</td>\n",
       "      <td>0.000004</td>\n",
       "    </tr>\n",
       "    <tr>\n",
       "      <th>...</th>\n",
       "      <td>...</td>\n",
       "      <td>...</td>\n",
       "      <td>...</td>\n",
       "      <td>...</td>\n",
       "      <td>...</td>\n",
       "      <td>...</td>\n",
       "      <td>...</td>\n",
       "      <td>...</td>\n",
       "      <td>...</td>\n",
       "      <td>...</td>\n",
       "      <td>...</td>\n",
       "      <td>...</td>\n",
       "      <td>...</td>\n",
       "      <td>...</td>\n",
       "      <td>...</td>\n",
       "      <td>...</td>\n",
       "      <td>...</td>\n",
       "      <td>...</td>\n",
       "      <td>...</td>\n",
       "      <td>...</td>\n",
       "      <td>...</td>\n",
       "    </tr>\n",
       "    <tr>\n",
       "      <th>1402</th>\n",
       "      <td>568.00</td>\n",
       "      <td>96.683179</td>\n",
       "      <td>97.812500</td>\n",
       "      <td>99.0625</td>\n",
       "      <td>0.318604</td>\n",
       "      <td>484.75</td>\n",
       "      <td>79.3125</td>\n",
       "      <td>0.029099</td>\n",
       "      <td>0.033661</td>\n",
       "      <td>0.176147</td>\n",
       "      <td>...</td>\n",
       "      <td>0.004152</td>\n",
       "      <td>0.007785</td>\n",
       "      <td>0.050482</td>\n",
       "      <td>0.016556</td>\n",
       "      <td>0.017994</td>\n",
       "      <td>0.027265</td>\n",
       "      <td>0.036183</td>\n",
       "      <td>2.702113e-02</td>\n",
       "      <td>0.020284</td>\n",
       "      <td>0.003119</td>\n",
       "    </tr>\n",
       "    <tr>\n",
       "      <th>1403</th>\n",
       "      <td>1196.00</td>\n",
       "      <td>203.271420</td>\n",
       "      <td>204.750000</td>\n",
       "      <td>222.8750</td>\n",
       "      <td>0.552246</td>\n",
       "      <td>934.50</td>\n",
       "      <td>248.1250</td>\n",
       "      <td>0.028229</td>\n",
       "      <td>0.039856</td>\n",
       "      <td>0.180664</td>\n",
       "      <td>...</td>\n",
       "      <td>0.057538</td>\n",
       "      <td>0.021878</td>\n",
       "      <td>0.071155</td>\n",
       "      <td>0.008973</td>\n",
       "      <td>0.031349</td>\n",
       "      <td>0.216699</td>\n",
       "      <td>0.104538</td>\n",
       "      <td>2.419687e-02</td>\n",
       "      <td>0.019863</td>\n",
       "      <td>0.002471</td>\n",
       "    </tr>\n",
       "    <tr>\n",
       "      <th>1404</th>\n",
       "      <td>508.25</td>\n",
       "      <td>49.545724</td>\n",
       "      <td>47.281250</td>\n",
       "      <td>76.7500</td>\n",
       "      <td>0.821777</td>\n",
       "      <td>369.75</td>\n",
       "      <td>101.6250</td>\n",
       "      <td>0.029617</td>\n",
       "      <td>0.041321</td>\n",
       "      <td>0.143066</td>\n",
       "      <td>...</td>\n",
       "      <td>0.000131</td>\n",
       "      <td>0.000053</td>\n",
       "      <td>0.000039</td>\n",
       "      <td>0.000008</td>\n",
       "      <td>0.000004</td>\n",
       "      <td>0.023611</td>\n",
       "      <td>0.000187</td>\n",
       "      <td>1.020188e-05</td>\n",
       "      <td>0.109286</td>\n",
       "      <td>0.002306</td>\n",
       "    </tr>\n",
       "    <tr>\n",
       "      <th>1409</th>\n",
       "      <td>1516.00</td>\n",
       "      <td>360.394676</td>\n",
       "      <td>373.000000</td>\n",
       "      <td>372.0000</td>\n",
       "      <td>0.950684</td>\n",
       "      <td>1250.00</td>\n",
       "      <td>299.7500</td>\n",
       "      <td>0.008408</td>\n",
       "      <td>0.014038</td>\n",
       "      <td>0.052704</td>\n",
       "      <td>...</td>\n",
       "      <td>0.000138</td>\n",
       "      <td>0.000162</td>\n",
       "      <td>0.000222</td>\n",
       "      <td>0.000516</td>\n",
       "      <td>0.009674</td>\n",
       "      <td>0.783229</td>\n",
       "      <td>0.001788</td>\n",
       "      <td>7.301804e-04</td>\n",
       "      <td>0.192537</td>\n",
       "      <td>0.002660</td>\n",
       "    </tr>\n",
       "    <tr>\n",
       "      <th>1413</th>\n",
       "      <td>1660.00</td>\n",
       "      <td>2.330450</td>\n",
       "      <td>2.265625</td>\n",
       "      <td>104.1250</td>\n",
       "      <td>0.921875</td>\n",
       "      <td>1144.00</td>\n",
       "      <td>139.3750</td>\n",
       "      <td>0.009850</td>\n",
       "      <td>0.012695</td>\n",
       "      <td>0.031708</td>\n",
       "      <td>...</td>\n",
       "      <td>0.000015</td>\n",
       "      <td>0.000062</td>\n",
       "      <td>0.000036</td>\n",
       "      <td>0.000165</td>\n",
       "      <td>0.000132</td>\n",
       "      <td>0.678577</td>\n",
       "      <td>0.000237</td>\n",
       "      <td>1.264779e-04</td>\n",
       "      <td>0.313080</td>\n",
       "      <td>0.002495</td>\n",
       "    </tr>\n",
       "  </tbody>\n",
       "</table>\n",
       "<p>7806 rows × 131 columns</p>\n",
       "</div>"
      ],
      "text/plain": [
       "        fj_pt  fj_msoftdrop  fj_msoftdrop_nocorr   fj_mass   fj_lsf3  \\\n",
       "2     3660.00     44.269785            53.468750  433.0000  0.086243   \n",
       "3     3212.00     31.955949            37.906250  183.1250  0.113342   \n",
       "4     2684.00     17.345410            19.546875  184.5000  0.812012   \n",
       "5     3180.00     33.056370            39.218750  416.5000  0.049255   \n",
       "7     3314.00      5.159396             6.011719  526.5000  0.985840   \n",
       "...       ...           ...                  ...       ...       ...   \n",
       "1402   568.00     96.683179            97.812500   99.0625  0.318604   \n",
       "1403  1196.00    203.271420           204.750000  222.8750  0.552246   \n",
       "1404   508.25     49.545724            47.281250   76.7500  0.821777   \n",
       "1409  1516.00    360.394676           373.000000  372.0000  0.950684   \n",
       "1413  1660.00      2.330450             2.265625  104.1250  0.921875   \n",
       "\n",
       "      fj_sj1_pt  fj_sj2_pt   fj_tau3   fj_tau2  fj_bjets_ophem  ...  \\\n",
       "2       1910.00  1065.0000  0.033203  0.051300        0.316650  ...   \n",
       "3       1543.00  1476.0000  0.008209  0.016220        0.137817  ...   \n",
       "4       1426.00   948.0000  0.011551  0.018127        0.283691  ...   \n",
       "5       1856.00   905.0000  0.035919  0.050995        0.443115  ...   \n",
       "7       1577.00  1313.0000  0.009689  0.012627        0.218384  ...   \n",
       "...         ...        ...       ...       ...             ...  ...   \n",
       "1402     484.75    79.3125  0.029099  0.033661        0.176147  ...   \n",
       "1403     934.50   248.1250  0.028229  0.039856        0.180664  ...   \n",
       "1404     369.75   101.6250  0.029617  0.041321        0.143066  ...   \n",
       "1409    1250.00   299.7500  0.008408  0.014038        0.052704  ...   \n",
       "1413    1144.00   139.3750  0.009850  0.012695        0.031708  ...   \n",
       "\n",
       "      fj_ParT_probTopbWqq0c  fj_ParT_probTopbWqq1c  fj_ParT_probTopbWq0c  \\\n",
       "2                  0.001285               0.000828              0.000396   \n",
       "3                  0.000312               0.000485              0.000057   \n",
       "4                  0.001460               0.012806              0.002402   \n",
       "5                  0.000046               0.000065              0.000010   \n",
       "7                  0.000012               0.000008              0.000060   \n",
       "...                     ...                    ...                   ...   \n",
       "1402               0.004152               0.007785              0.050482   \n",
       "1403               0.057538               0.021878              0.071155   \n",
       "1404               0.000131               0.000053              0.000039   \n",
       "1409               0.000138               0.000162              0.000222   \n",
       "1413               0.000015               0.000062              0.000036   \n",
       "\n",
       "      fj_ParT_probTopbWq1c  fj_ParT_probTopbWev  fj_ParT_probTopbWmv  \\\n",
       "2                 0.000074             0.000371             0.000024   \n",
       "3                 0.000041             0.000027             0.000380   \n",
       "4                 0.002789             0.000374             0.587833   \n",
       "5                 0.000015             0.000003             0.799718   \n",
       "7                 0.000008             0.000023             0.001514   \n",
       "...                    ...                  ...                  ...   \n",
       "1402              0.016556             0.017994             0.027265   \n",
       "1403              0.008973             0.031349             0.216699   \n",
       "1404              0.000008             0.000004             0.023611   \n",
       "1409              0.000516             0.009674             0.783229   \n",
       "1413              0.000165             0.000132             0.678577   \n",
       "\n",
       "      fj_ParT_probTopbWtauhv  fj_ParT_probTopbWtauev  fj_ParT_probTopbWtaumv  \\\n",
       "2                   0.000024            3.122436e-06                0.000002   \n",
       "3                   0.000065            6.149695e-06                0.000073   \n",
       "4                   0.003342            1.571756e-04                0.062542   \n",
       "5                   0.000015            7.424716e-07                0.138304   \n",
       "7                   0.000004            1.294617e-06                0.000020   \n",
       "...                      ...                     ...                     ...   \n",
       "1402                0.036183            2.702113e-02                0.020284   \n",
       "1403                0.104538            2.419687e-02                0.019863   \n",
       "1404                0.000187            1.020188e-05                0.109286   \n",
       "1409                0.001788            7.301804e-04                0.192537   \n",
       "1413                0.000237            1.264779e-04                0.313080   \n",
       "\n",
       "      event_weight  \n",
       "2         0.000005  \n",
       "3         0.000005  \n",
       "4         0.000005  \n",
       "5         0.000005  \n",
       "7         0.000004  \n",
       "...            ...  \n",
       "1402      0.003119  \n",
       "1403      0.002471  \n",
       "1404      0.002306  \n",
       "1409      0.002660  \n",
       "1413      0.002495  \n",
       "\n",
       "[7806 rows x 131 columns]"
      ]
     },
     "execution_count": 62,
     "metadata": {},
     "output_type": "execute_result"
    }
   ],
   "source": [
    "events_dict[\"2017\"][\"mu\"][\"QCD\"]"
   ]
  },
  {
   "cell_type": "code",
   "execution_count": null,
   "metadata": {},
   "outputs": [],
   "source": []
  },
  {
   "cell_type": "code",
   "execution_count": 63,
   "metadata": {},
   "outputs": [],
   "source": [
    "    with open(\"/Users/fmokhtar/Desktop/hww/test/make_hists_config.yaml\", \"r\") as stream:\n",
    "        config = yaml.safe_load(stream)"
   ]
  },
  {
   "cell_type": "code",
   "execution_count": 64,
   "metadata": {},
   "outputs": [],
   "source": [
    "samples_to_plot = config[\"samples_to_plot\"]\n",
    "vars_to_plot = config[\"vars_to_plot\"]"
   ]
  },
  {
   "cell_type": "code",
   "execution_count": 83,
   "metadata": {},
   "outputs": [
    {
     "name": "stdout",
     "output_type": "stream",
     "text": [
      "fj_minus_lep_m\n",
      "fj_pt\n",
      "lep_pt\n",
      "fj_msoftdrop\n",
      "fj_bjets_ophem\n",
      "fj_bjets\n",
      "lep_fj_dr\n",
      "lep_met_mt\n",
      "ht\n",
      "met_fj_dphi\n",
      "deta\n",
      "met\n",
      "mjj\n",
      "fj_pt_over_lep_pt\n",
      "rec_higgs_m\n",
      "rec_higgs_pt\n",
      "rec_higgs_pt_over_lep_pt\n",
      "golden_var\n",
      "rec_dphi_WW\n",
      "fj_ParticleNet_mass\n"
     ]
    }
   ],
   "source": [
    "for var in vars_to_plot:\n",
    "    print(var)"
   ]
  },
  {
   "cell_type": "code",
   "execution_count": 89,
   "metadata": {},
   "outputs": [
    {
     "name": "stdout",
     "output_type": "stream",
     "text": [
      "HWW\n",
      "HWW\n",
      "VH\n",
      "VH\n",
      "VBF\n",
      "VBF\n",
      "ttH\n",
      "ttH\n",
      "QCD\n",
      "QCD\n",
      "DYJets\n",
      "DYJets\n",
      "WJetsLNu\n",
      "WJetsLNu\n",
      "WZQQ\n",
      "WZQQ\n",
      "TTbar\n",
      "TTbar\n",
      "SingleTop\n",
      "SingleTop\n",
      "Diboson\n",
      "Diboson\n",
      "Data\n",
      "Data\n"
     ]
    }
   ],
   "source": [
    "    hists = {}\n",
    "    for var in vars_to_plot:\n",
    "        hists[var] = hist2.Hist(\n",
    "            hist2.axis.StrCategory([], name=\"samples\", growth=True),\n",
    "            utils.axis_dict[var],\n",
    "        )\n",
    "\n",
    "        for sample in samples_to_plot:\n",
    "            for year in events_dict:\n",
    "                for ch in events_dict[year]:\n",
    "                    df = events_dict[year][ch][sample]\n",
    "                    print(sample)\n",
    "                    hists[var].fill(samples=sample, var=df[var], weight=df[\"event_weight\"])\n"
   ]
  },
  {
   "cell_type": "code",
   "execution_count": 90,
   "metadata": {},
   "outputs": [
    {
     "data": {
      "text/plain": [
       "{'fj_minus_lep_m': Hist(\n",
       "   StrCategory([], growth=True, name='samples'),\n",
       "   Regular(35, 0, 280, name='var', label='Jet - Lepton mass [GeV]'),\n",
       "   storage=Double()),\n",
       " 'fj_pt': Hist(\n",
       "   StrCategory([], growth=True, name='samples'),\n",
       "   Regular(30, 200, 600, name='var', label='Jet $p_T$ [GeV]'),\n",
       "   storage=Double()),\n",
       " 'lep_pt': Hist(\n",
       "   StrCategory([], growth=True, name='samples'),\n",
       "   Regular(40, 30, 450, name='var', label='Lepton $p_T$ [GeV]'),\n",
       "   storage=Double()),\n",
       " 'fj_msoftdrop': Hist(\n",
       "   StrCategory([], growth=True, name='samples'),\n",
       "   Regular(35, 20, 250, name='var', label='Jet $m_{sd}$ [GeV]'),\n",
       "   storage=Double()),\n",
       " 'fj_bjets_ophem': Hist(\n",
       "   StrCategory([], growth=True, name='samples'),\n",
       "   Regular(35, 0, 1, name='var', label='max btagFlavB (opphem)'),\n",
       "   storage=Double()),\n",
       " 'fj_bjets': Hist(\n",
       "   StrCategory([], growth=True, name='samples'),\n",
       "   Regular(35, 0, 1, name='var', label='max btagFlavB'),\n",
       "   storage=Double()),\n",
       " 'lep_fj_dr': Hist(\n",
       "   StrCategory([], growth=True, name='samples'),\n",
       "   Regular(35, 0, 0.8, name='var', label='$\\\\Delta R(Jet, Lepton)$'),\n",
       "   storage=Double()),\n",
       " 'lep_met_mt': Hist(\n",
       "   StrCategory([], growth=True, name='samples'),\n",
       "   Regular(35, 0, 400, name='var', label='$m_T(lep, p_T^{miss})$ [GeV]'),\n",
       "   storage=Double()),\n",
       " 'ht': Hist(\n",
       "   StrCategory([], growth=True, name='samples'),\n",
       "   Regular(30, 200, 1200, name='var', label='ht [GeV]'),\n",
       "   storage=Double()),\n",
       " 'met_fj_dphi': Hist(\n",
       "   StrCategory([], growth=True, name='samples'),\n",
       "   Regular(35, 0, 3.14, name='var', label='$\\\\left| \\\\Delta \\\\phi(MET, Jet) \\\\right|$'),\n",
       "   storage=Double()),\n",
       " 'deta': Hist(\n",
       "   StrCategory([], growth=True, name='samples'),\n",
       "   Regular(35, 0, 7, name='var', label='$\\\\left| \\\\Delta \\\\eta_{jj} \\\\right|$'),\n",
       "   storage=Double()),\n",
       " 'met': Hist(\n",
       "   StrCategory([], growth=True, name='samples'),\n",
       "   Regular(40, 0, 450, name='var', label='MET'),\n",
       "   storage=Double()),\n",
       " 'mjj': Hist(\n",
       "   StrCategory([], growth=True, name='samples'),\n",
       "   Regular(35, 0, 2000, name='var', label='$m_{jj}$'),\n",
       "   storage=Double()),\n",
       " 'fj_pt_over_lep_pt': Hist(\n",
       "   StrCategory([], growth=True, name='samples'),\n",
       "   Regular(35, 1, 10, name='var', label='$p_T$(Jet) / $p_T$(Lepton)'),\n",
       "   storage=Double()),\n",
       " 'rec_higgs_m': Hist(\n",
       "   StrCategory([], growth=True, name='samples'),\n",
       "   Regular(35, 0, 480, name='var', label='Higgs reconstructed mass [GeV]'),\n",
       "   storage=Double()),\n",
       " 'rec_higgs_pt': Hist(\n",
       "   StrCategory([], growth=True, name='samples'),\n",
       "   Regular(30, 0, 1000, name='var', label='Higgs reconstructed $p_T$ [GeV]'),\n",
       "   storage=Double()),\n",
       " 'rec_higgs_pt_over_lep_pt': Hist(\n",
       "   StrCategory([], growth=True, name='samples'),\n",
       "   Regular(35, 1, 10, name='var', label='$p_T$(Recontructed Higgs) / $p_T$(Lepton)'),\n",
       "   storage=Double()),\n",
       " 'golden_var': Hist(\n",
       "   StrCategory([], growth=True, name='samples'),\n",
       "   Regular(35, 0, 10, name='var', label='$p_{T}(W_{l\\\\nu})$ / $p_{T}(W_{qq})$'),\n",
       "   storage=Double()),\n",
       " 'rec_dphi_WW': Hist(\n",
       "   StrCategory([], growth=True, name='samples'),\n",
       "   Regular(35, 0, 3.14, name='var', label='$\\\\left| \\\\Delta \\\\phi(W_{l\\\\nu}, W_{qq}) \\\\right|$'),\n",
       "   storage=Double()),\n",
       " 'fj_ParticleNet_mass': Hist(\n",
       "   StrCategory(['HWW', 'VH', 'VBF', 'ttH', 'QCD', 'DYJets', 'WJetsLNu', 'WZQQ', 'TTbar', 'SingleTop', 'Diboson', 'Data'], growth=True, name='samples'),\n",
       "   Regular(35, 0, 250, name='var', label='fj_ParticleNet regressed mass [GeV]'),\n",
       "   storage=Double()) # Sum: 1195819.3707241898 (1196740.2112786495 with flow)}"
      ]
     },
     "execution_count": 90,
     "metadata": {},
     "output_type": "execute_result"
    }
   ],
   "source": [
    "hists"
   ]
  },
  {
   "cell_type": "code",
   "execution_count": null,
   "metadata": {},
   "outputs": [],
   "source": []
  },
  {
   "cell_type": "code",
   "execution_count": null,
   "metadata": {},
   "outputs": [],
   "source": []
  },
  {
   "cell_type": "code",
   "execution_count": null,
   "metadata": {},
   "outputs": [],
   "source": []
  },
  {
   "cell_type": "code",
   "execution_count": 52,
   "metadata": {},
   "outputs": [],
   "source": [
    "import yaml\n",
    "\n",
    "with open(r'store_file.yaml', 'w') as file:\n",
    "    documents = yaml.dump(regions_selections, file)"
   ]
  },
  {
   "cell_type": "code",
   "execution_count": 51,
   "metadata": {},
   "outputs": [],
   "source": [
    "    regions_selections = {\n",
    "        \"cat1_sr\": \"( (inclusive_score>0.99) & (n_bjets_M < 2) & (lep_fj_dr<0.3) )\",\n",
    "        \"wjets_cr\": \"( (inclusive_score>0.99) & (n_bjets_M < 1) & (lep_fj_dr>0.3) )\",\n",
    "        \"tt_cr\": \"( (inclusive_score<0.90) & (n_bjets_M >=2 ) & (lep_fj_dr>0.3) )\",\n",
    "    }"
   ]
  },
  {
   "cell_type": "code",
   "execution_count": 45,
   "metadata": {},
   "outputs": [],
   "source": [
    "# Read YAML file\n",
    "with open(\"store_file.yaml\", 'r') as stream:\n",
    "    data_loaded = yaml.safe_load(stream)"
   ]
  },
  {
   "cell_type": "code",
   "execution_count": 50,
   "metadata": {},
   "outputs": [
    {
     "data": {
      "text/plain": [
       "['fj_minus_lep_m', 'fj_pt', 'rec_higgs_pt_over_lep_pt']"
      ]
     },
     "execution_count": 50,
     "metadata": {},
     "output_type": "execute_result"
    }
   ],
   "source": [
    "data_loaded[\"vars_to_plot\"]"
   ]
  },
  {
   "cell_type": "markdown",
   "metadata": {},
   "source": [
    "# Combine different years"
   ]
  },
  {
   "cell_type": "code",
   "execution_count": 13,
   "metadata": {},
   "outputs": [],
   "source": [
    "# combine all years\n",
    "cutflows_new = {}\n",
    "for year in cutflows:\n",
    "    for sample in cutflows[year]:\n",
    "        if sample not in cutflows_new:\n",
    "            cutflows_new[sample] = {}\n",
    "\n",
    "        for cut in cutflows[year][sample]:\n",
    "            if cut not in cutflows_new[sample]:\n",
    "                cutflows_new[sample][cut] = cutflows[year][sample][cut]\n",
    "            else:\n",
    "                cutflows_new[sample][cut] += cutflows[year][sample][cut]\n",
    "                \n",
    "cutflows = cutflows_new"
   ]
  },
  {
   "cell_type": "code",
   "execution_count": 14,
   "metadata": {},
   "outputs": [
    {
     "data": {
      "text/plain": [
       "dict_keys(['WJetsLNu', 'DYJets', 'VBF', 'VH', 'TTbar', 'SingleTop', 'HWW', 'WZQQ', 'QCD', 'Diboson', 'ttH'])"
      ]
     },
     "execution_count": 14,
     "metadata": {},
     "output_type": "execute_result"
    }
   ],
   "source": [
    "cutflows.keys()"
   ]
  },
  {
   "cell_type": "code",
   "execution_count": 15,
   "metadata": {},
   "outputs": [
    {
     "data": {
      "text/plain": [
       "{'trigger': 44406.19581542611,\n",
       " 'metfilters': 44376.860132490074,\n",
       " 'leptonKin': 38285.82694127156,\n",
       " 'fatjetKin': 6758.744550768859,\n",
       " 'ht': 6747.430856943642,\n",
       " 'oneLepton': 4637.452848444562,\n",
       " 'notaus': 3648.295680557382,\n",
       " 'leptonInJet': 1585.1771898799802,\n",
       " 'lep_isolation': 1555.6074095649021,\n",
       " 'lep_misolation': 715.979000547815}"
      ]
     },
     "execution_count": 15,
     "metadata": {},
     "output_type": "execute_result"
    }
   ],
   "source": [
    "cutflows[\"TTbar\"]"
   ]
  },
  {
   "cell_type": "markdown",
   "metadata": {},
   "source": [
    "# Plot cutflows"
   ]
  },
  {
   "cell_type": "code",
   "execution_count": 16,
   "metadata": {},
   "outputs": [],
   "source": [
    "plt.rcParams.update({\"font.size\": 20})"
   ]
  },
  {
   "cell_type": "code",
   "execution_count": 17,
   "metadata": {},
   "outputs": [],
   "source": [
    "lumi = 0\n",
    "for year in years:\n",
    "    # get lumi\n",
    "    for ch in channels:\n",
    "        with open(\"../fileset/luminosity.json\") as f:\n",
    "            lumi += json.load(f)[ch][year] \n",
    "            \n",
    "if len(channels)==2:\n",
    "    lumi /= 2"
   ]
  },
  {
   "cell_type": "code",
   "execution_count": 18,
   "metadata": {},
   "outputs": [],
   "source": [
    "cut_to_label = {\n",
    "    \"trigger\": \"Trigger\",\n",
    "    \"metfilters\": \"Metfilters\", \n",
    "    \"leptonKin\": \"Lepton kinematics\", \n",
    "    \"fatjetKin\": \"Jet kinematics\", \n",
    "    \"ht\": \"Hadronic activity\", \n",
    "    \"oneLepton\": \"One Lepton\", \n",
    "    \"notaus\": \"No Taus\", \n",
    "    \"leptonInJet\": \"Lepton inside Jet\", \n",
    "    \"lep_isolation\": \"Lepton isolation\", \n",
    "    \"lep_misolation\": \"Lepton mini-isolation\" \n",
    "}\n",
    "\n",
    "# plot histograms\n",
    "color_by_sample = {\n",
    "    \"HWW\": \"red\",\n",
    "    \"VH\": \"tab:brown\",\n",
    "    \"VBF\": \"tab:gray\",\n",
    "    \"ttH\": \"tab:olive\",\n",
    "    \n",
    "    \"DYJets\": \"tab:purple\",\n",
    "    \"QCD\": \"tab:orange\",\n",
    "    \"TTbar\": \"tab:blue\",\n",
    "    \"WJetsLNu\": \"tab:green\",\n",
    "    \"Others\": \"tab:grey\", \n",
    "\n",
    "    \"Diboson\": \"orchid\",    \n",
    "    \"WZQQ\": \"salmon\",\n",
    "    \"SingleTop\": \"tab:cyan\",\n",
    "    \n",
    "#     \"WplusHToTauTau\": \"tab:cyan\",\n",
    "#     \"WminusHToTauTau\": \"tab:cyan\",\n",
    "#     \"ttHToTauTau\": \"tab:cyan\",\n",
    "#     \"GluGluHToTauTau\": \"tab:cyan\",\n",
    "#     \"ZHToTauTau\": \"tab:cyan\",\n",
    "#     \"VBFHToTauTau\": \"tab:cyan\",\n",
    "}"
   ]
  },
  {
   "cell_type": "code",
   "execution_count": 22,
   "metadata": {},
   "outputs": [
    {
     "name": "stdout",
     "output_type": "stream",
     "text": [
      "\u001b[34myes\u001b[m\u001b[m\r\n"
     ]
    }
   ],
   "source": [
    "! ls lol"
   ]
  },
  {
   "cell_type": "code",
   "execution_count": 21,
   "metadata": {},
   "outputs": [],
   "source": [
    "        if not os.path.exists(\"lol/yes/\"):\n",
    "            os.makedirs(\"lol/yes/\")"
   ]
  },
  {
   "cell_type": "code",
   "execution_count": null,
   "metadata": {},
   "outputs": [],
   "source": []
  },
  {
   "cell_type": "code",
   "execution_count": 19,
   "metadata": {},
   "outputs": [],
   "source": [
    "# combine non-dominant backgrounds under others\n",
    "dominant_bkgs = [\"QCD\", \"WJetsLNu\", \"TTbar\", \"DYJets\"]\n",
    "signals = [\"HWW\", \"VH\", \"VBF\", \"ttH\"]\n",
    "\n",
    "cutflows[\"Others\"] = dict.fromkeys(cutflows[\"HWW\"], 0)\n",
    "for sample in cutflows:\n",
    "    if sample not in signals+dominant_bkgs:\n",
    "        for cut in cutflows[sample]:\n",
    "            cutflows[\"Others\"][cut] += cutflows[sample][cut]"
   ]
  },
  {
   "cell_type": "code",
   "execution_count": 22,
   "metadata": {},
   "outputs": [
    {
     "data": {
      "text/plain": [
       "{'WJetsLNu': 107566301.87876146,\n",
       " 'DYJets': 7060508.036429862,\n",
       " 'VBF': 2615.503425886187,\n",
       " 'VH': 18093.054615251993,\n",
       " 'TTbar': 152717.5704258949,\n",
       " 'SingleTop': 111916.24204041735,\n",
       " 'HWW': 13015.544943069468,\n",
       " 'WZQQ': 1364723.7659528612,\n",
       " 'QCD': 147936467.2494686,\n",
       " 'Diboson': 2387893.1303153974,\n",
       " 'ttH': 26039.98408252367,\n",
       " 'Others': 7729066.276617352}"
      ]
     },
     "execution_count": 22,
     "metadata": {},
     "output_type": "execute_result"
    }
   ],
   "source": [
    "# debugging\n",
    "tot = {}\n",
    "for sample in cutflows:\n",
    "    tot[sample] = 0\n",
    "    for cut in cutflows[sample]:\n",
    "        tot[sample] += cutflows[sample][cut]\n",
    "        \n",
    "tot        "
   ]
  },
  {
   "cell_type": "code",
   "execution_count": 23,
   "metadata": {},
   "outputs": [
    {
     "data": {
      "image/png": "[encoded data removed]",
      "text/plain": [
       "<Figure size 1200x800 with 1 Axes>"
      ]
     },
     "metadata": {},
     "output_type": "display_data"
    }
   ],
   "source": [
    "samples = [\n",
    "#     \"HWW\", \n",
    "#     \"VH\",\n",
    "#     \"VBF\",\n",
    "#     \"ttH\",\n",
    "    \"QCD\",\n",
    "    \"DYJets\",\n",
    "    \"WJetsLNu\",\n",
    "#     \"WZQQ\",\n",
    "    \"TTbar\",\n",
    "#     \"SingleTop\",\n",
    "#     \"Diboson\",\n",
    "    \"Others\"\n",
    "]\n",
    "\n",
    "labels = list(cutflows[samples[0]].keys())  \n",
    "values = [[cutflows[sample][label] for label in labels] for sample in samples]\n",
    "for i, lab in enumerate(labels):\n",
    "    labels[i] = cut_to_label[lab]\n",
    "\n",
    "# Sort the samples by yield\n",
    "sorted_idx = sorted(range(len(values)), key=lambda i: sum(values[i]), reverse=False)\n",
    "samples = [samples[i] for i in sorted_idx]\n",
    "values = [values[i] for i in sorted_idx]\n",
    "\n",
    "fig, ax = plt.subplots(figsize=(12, 8))\n",
    "# Plot the cutflows as a stacked bar chart for each sample\n",
    "bottom = [0] * len(labels)\n",
    "for i, sample in enumerate(samples):\n",
    "    if all(v == 0 for v in values[i]):\n",
    "        print(f\"Sample {sample} is empty\")\n",
    "        continue    \n",
    "    ax.bar(labels, values[i], bottom=bottom, label=sample, edgecolor=color_by_sample[sample], linewidth=2, fill=False)\n",
    "    bottom = [sum(x) for x in zip(bottom, values[i])]\n",
    "    \n",
    "# ax.legend(title=\"Semi-leptonic channel\")\n",
    "ax.legend()\n",
    "\n",
    "plt.xticks(rotation=45, ha='right')\n",
    "ax.set_xlabel('Inclusive selection')\n",
    "ax.set_ylabel(r'Events (normalized to $\\sigma$)')\n",
    "ax.set_yscale(\"log\")\n",
    "ax.set_ylim(1,10**11)\n",
    " \n",
    "hep.cms.lumitext(\n",
    "    \"%.1f \" % lumi + r\"fb$^{-1}$ (13 TeV)\", ax=ax, fontsize=20\n",
    ")\n",
    "hep.cms.text(\"Work in Progress\", ax=ax, fontsize=15);"
   ]
  },
  {
   "cell_type": "code",
   "execution_count": 24,
   "metadata": {},
   "outputs": [
    {
     "data": {
      "image/png": "[encoded data removed]",
      "text/plain": [
       "<Figure size 1200x800 with 1 Axes>"
      ]
     },
     "metadata": {},
     "output_type": "display_data"
    }
   ],
   "source": [
    "# for signal\n",
    "samples = [\n",
    "    \"HWW\", \n",
    "    \"VH\",\n",
    "    \"VBF\",\n",
    "    \"ttH\",\n",
    "#     \"QCD\",\n",
    "#     \"DYJets\",\n",
    "#     \"WJetsLNu\",\n",
    "#     \"WZQQ\",\n",
    "#     \"TTbar\",\n",
    "#     \"SingleTop\",\n",
    "#     \"Diboson\",\n",
    "#     \"Data\"\n",
    "]\n",
    "\n",
    "colors = ['blue', 'green', 'red', 'orange']\n",
    "\n",
    "labels = list(cutflows[samples[0]].keys())\n",
    "values = [[cutflows[sample][label] for label in labels] for sample in samples]\n",
    "\n",
    "for i, lab in enumerate(labels):\n",
    "    labels[i] = cut_to_label[lab]\n",
    "\n",
    "# Sort the samples by yield\n",
    "sorted_idx = sorted(range(len(values)), key=lambda i: sum(values[i]), reverse=False)\n",
    "samples = [samples[i] for i in sorted_idx]\n",
    "values = [values[i] for i in sorted_idx]\n",
    "\n",
    "fig, ax = plt.subplots(figsize=(12, 8))\n",
    "# Plot the cutflows as a stacked bar chart for each sample\n",
    "bottom = [0] * len(labels)\n",
    "for i, sample in enumerate(samples):\n",
    "    if all(v == 0 for v in values[i]):\n",
    "        print(f\"Sample {sample} is empty\")\n",
    "        continue    \n",
    "    ax.bar(labels, values[i], bottom=bottom, label=sample, edgecolor=color_by_sample[sample], linewidth=2, fill=False)\n",
    "    bottom = [sum(x) for x in zip(bottom, values[i])]\n",
    "    \n",
    "plt.xticks(rotation=45, ha='right')\n",
    "\n",
    "# ax.legend(title=\"Semi-leptonic channel\")\n",
    "ax.legend()\n",
    "\n",
    "plt.xticks(rotation=45, ha='right')\n",
    "ax.set_xlabel('Inclusive selection')\n",
    "ax.set_ylabel(r'Events (normalized to $\\sigma$)')\n",
    "ax.set_yscale(\"log\")\n",
    "ax.set_ylim(1,5*10**5)\n",
    " \n",
    "hep.cms.lumitext(\n",
    "    \"%.1f \" % lumi + r\"fb$^{-1}$ (13 TeV)\", ax=ax, fontsize=20\n",
    ")\n",
    "hep.cms.text(\"Work in Progress\", ax=ax, fontsize=15);"
   ]
  },
  {
   "cell_type": "code",
   "execution_count": null,
   "metadata": {},
   "outputs": [],
   "source": []
  }
 ],
 "metadata": {
  "kernelspec": {
   "display_name": "coffea-env",
   "language": "python",
   "name": "coffea-env"
  },
  "language_info": {
   "codemirror_mode": {
    "name": "ipython",
    "version": 3
   },
   "file_extension": ".py",
   "mimetype": "text/x-python",
   "name": "python",
   "nbconvert_exporter": "python",
   "pygments_lexer": "ipython3",
   "version": "3.9.16"
  }
 },
 "nbformat": 4,
 "nbformat_minor": 4
}
