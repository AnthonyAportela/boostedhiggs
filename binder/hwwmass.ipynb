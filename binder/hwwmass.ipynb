{
 "cells": [
  {
   "cell_type": "code",
   "execution_count": 1,
   "metadata": {},
   "outputs": [],
   "source": [
    "import uproot\n",
    "import awkward as ak\n",
    "from uproot_methods import TLorentzVectorArray\n",
    "import numpy as np\n",
    "from coffea import processor, util\n",
    "\n",
    "%matplotlib inline\n",
    "import matplotlib.pyplot as plt\n",
    "\n",
    "from boostedhiggs.structure import buildevents"
   ]
  },
  {
   "cell_type": "code",
   "execution_count": 2,
   "metadata": {},
   "outputs": [],
   "source": [
    "fin = uproot.open('data/NanoAOD_Oct16_1.root')\n",
    "tree = fin['Events']\n",
    "df = processor.LazyDataFrame(tree, stride=20000, index=0, flatten=True)\n",
    "events = buildevents(df, fatjet='CustomAK8Puppi')"
   ]
  },
  {
   "cell_type": "code",
   "execution_count": null,
   "metadata": {},
   "outputs": [],
   "source": [
    "print(df['nJet'])"
   ]
  },
  {
   "cell_type": "code",
   "execution_count": 3,
   "metadata": {},
   "outputs": [],
   "source": [
    "mus = events.genpart[\n",
    "    (np.abs(events.genpart.pdgId)==13)\n",
    "    & ((events.genpart.statusFlags & ((1<<12)|(1<<8))==((1<<12)|(1<<8))))\n",
    "]\n",
    "events['hasonegenmu'] = mus.counts == 1"
   ]
  },
  {
   "cell_type": "code",
   "execution_count": null,
   "metadata": {},
   "outputs": [],
   "source": [
    "plt.hist(mus.counts, bins=range(6));"
   ]
  },
  {
   "cell_type": "code",
   "execution_count": 4,
   "metadata": {},
   "outputs": [],
   "source": [
    "good = (\n",
    "    (events.muons.counts >= 1)\n",
    "    & (events.fatjets.counts >= 1)\n",
    ")\n",
    "events = events[good]\n"
   ]
  },
  {
   "cell_type": "code",
   "execution_count": null,
   "metadata": {},
   "outputs": [],
   "source": [
    "# dont run this\n",
    "leadingmuon = events.muons.pad(1, clip=True).flatten()\n",
    "bestidx = leadingmuon.p4.delta_r(events.fatjets.p4) #.fi.argmin()\n",
    "#leadingjet = \n",
    "# leadingjet = events.fatjets.pad(1, clip=True).flatten()\n",
    "met = events.met"
   ]
  },
  {
   "cell_type": "code",
   "execution_count": 1,
   "metadata": {},
   "outputs": [
    {
     "ename": "NameError",
     "evalue": "name 'events' is not defined",
     "output_type": "error",
     "traceback": [
      "\u001b[0;31m---------------------------------------------------------------------------\u001b[0m",
      "\u001b[0;31mNameError\u001b[0m                                 Traceback (most recent call last)",
      "\u001b[0;32m<ipython-input-1-c7ab0e666b96>\u001b[0m in \u001b[0;36m<module>\u001b[0;34m()\u001b[0m\n\u001b[0;32m----> 1\u001b[0;31m \u001b[0mleadingmuon\u001b[0m \u001b[0;34m=\u001b[0m \u001b[0mevents\u001b[0m\u001b[0;34m.\u001b[0m\u001b[0mmuons\u001b[0m\u001b[0;34m[\u001b[0m\u001b[0;34m:\u001b[0m\u001b[0;34m,\u001b[0m \u001b[0;36m0\u001b[0m\u001b[0;34m]\u001b[0m\u001b[0;34m\u001b[0m\u001b[0m\n\u001b[0m\u001b[1;32m      2\u001b[0m \u001b[0mmujet_dR\u001b[0m \u001b[0;34m=\u001b[0m \u001b[0mleadingmuon\u001b[0m\u001b[0;34m.\u001b[0m\u001b[0mp4\u001b[0m\u001b[0;34m.\u001b[0m\u001b[0mdelta_r\u001b[0m\u001b[0;34m(\u001b[0m\u001b[0mevents\u001b[0m\u001b[0;34m.\u001b[0m\u001b[0mfatjets\u001b[0m\u001b[0;34m.\u001b[0m\u001b[0mp4\u001b[0m\u001b[0;34m)\u001b[0m\u001b[0;34m\u001b[0m\u001b[0m\n\u001b[1;32m      3\u001b[0m \u001b[0mmu_in_cone\u001b[0m \u001b[0;34m=\u001b[0m \u001b[0mmujet_dR\u001b[0m\u001b[0;34m.\u001b[0m\u001b[0mmin\u001b[0m\u001b[0;34m(\u001b[0m\u001b[0;34m)\u001b[0m \u001b[0;34m<\u001b[0m \u001b[0;36m0.8\u001b[0m\u001b[0;34m\u001b[0m\u001b[0m\n\u001b[1;32m      4\u001b[0m \u001b[0mprint\u001b[0m\u001b[0;34m(\u001b[0m\u001b[0mmujet_dR\u001b[0m\u001b[0;34m)\u001b[0m\u001b[0;34m\u001b[0m\u001b[0m\n\u001b[1;32m      5\u001b[0m \u001b[0mbestidx\u001b[0m \u001b[0;34m=\u001b[0m \u001b[0mmujet_dR\u001b[0m\u001b[0;34m.\u001b[0m\u001b[0margmin\u001b[0m\u001b[0;34m(\u001b[0m\u001b[0;34m)\u001b[0m\u001b[0;34m\u001b[0m\u001b[0m\n",
      "\u001b[0;31mNameError\u001b[0m: name 'events' is not defined"
     ]
    }
   ],
   "source": [
    "leadingmuon = events.muons[:, 0]\n",
    "mujet_dR = leadingmuon.p4.delta_r(events.fatjets.p4)\n",
    "mu_in_cone = mujet_dR.min() < 0.8\n",
    "print(mujet_dR)\n",
    "bestidx = mujet_dR.argmin()\n",
    "leadingjet = events.fatjets[bestidx].flatten()\n",
    "met = events.met"
   ]
  },
  {
   "cell_type": "code",
   "execution_count": 10,
   "metadata": {},
   "outputs": [
    {
     "data": {
      "text/plain": [
       "array([ 3,  1,  1, ...,  1, -1,  3], dtype=int32)"
      ]
     },
     "execution_count": 10,
     "metadata": {},
     "output_type": "execute_result"
    }
   ],
   "source": [
    "leadingjet.subJetIdx2"
   ]
  },
  {
   "cell_type": "code",
   "execution_count": null,
   "metadata": {},
   "outputs": [],
   "source": [
    "plt.hist2d(\n",
    "    mujet_dR[events.hasonegenmu].min(),\n",
    "    leadingjet[events.hasonegenmu].p4.pt,\n",
    "    bins=50,\n",
    ");"
   ]
  },
  {
   "cell_type": "code",
   "execution_count": null,
   "metadata": {},
   "outputs": [],
   "source": [
    "mm = (leadingjet.p4 - leadingmuon.p4).mass2\n",
    "jmass = (mm>0)*np.sqrt(np.maximum(0, mm)) + (mm<0)*leadingjet.p4.mass\n",
    "plt.hist2d(jmass, leadingmuon.p4.pt, bins=50);"
   ]
  },
  {
   "cell_type": "code",
   "execution_count": null,
   "metadata": {},
   "outputs": [],
   "source": [
    "plt.hist(np.sqrt(np.maximum(0, mm)), bins=50);"
   ]
  },
  {
   "cell_type": "code",
   "execution_count": null,
   "metadata": {},
   "outputs": [],
   "source": [
    "# joffshell = leadingjet.msoftdrop < 125/2  # halfway point between offshell and onshell W\n",
    "joffshell = jmass < 62.5\n",
    "massassumption = 80.*joffshell + (125 - 80.)*~joffshell\n",
    "x = massassumption**2/(2*leadingmuon.p4.pt*met.rho) + np.cos(leadingmuon.p4.phi - met.phi)\n",
    "met_eta = (\n",
    "    (x < 1)*np.arcsinh(x*np.sinh(leadingmuon.p4.eta))\n",
    "    + (x >= 1)*(\n",
    "        leadingmuon.p4.eta\n",
    "        - np.sign(leadingmuon.p4.eta)*np.arccosh(np.maximum(1., x))\n",
    "    )\n",
    ")\n",
    "met_p4 = TLorentzVectorArray.from_ptetaphim(met.rho, met_eta, met.phi, np.zeros(met.size))"
   ]
  },
  {
   "cell_type": "code",
   "execution_count": null,
   "metadata": {},
   "outputs": [],
   "source": [
    "plt.hist(met_eta, 50);"
   ]
  },
  {
   "cell_type": "code",
   "execution_count": null,
   "metadata": {},
   "outputs": [],
   "source": [
    "# jetp4sd = TLorentzVectorArray.from_ptetaphim(\n",
    "#     leadingjet.p4.pt,\n",
    "#     leadingjet.p4.eta,\n",
    "#     leadingjet.p4.phi,\n",
    "#     leadingjet.msoftdrop,\n",
    "# )\n",
    "cut = (leadingjet.p4.pt > 200) & (mm > 0)\n",
    "#plt.hist((met_p4 + leadingmuon.p4 + jetp4sd).mass, np.linspace(0, 1000, 50));\n",
    "plt.hist((met_p4 + leadingjet.p4).mass[cut], np.linspace(0, 1000, 50));\n",
    "plt.axvline(125., linestyle='--', color='k')"
   ]
  },
  {
   "cell_type": "code",
   "execution_count": null,
   "metadata": {},
   "outputs": [],
   "source": [
    "# fillna assign in place, modifying content?\n",
    "# two arrays with different mask can't be added?"
   ]
  },
  {
   "cell_type": "code",
   "execution_count": null,
   "metadata": {},
   "outputs": [],
   "source": [
    "bosons = events.genpart[\n",
    "    (np.abs(events.genpart.pdgId) >= 21)\n",
    "    & (np.abs(events.genpart.pdgId) <= 37)\n",
    "    & (events.genpart.statusFlags & ((1<<7)|(1<<13))).astype(bool)  # isHardProcess, isLastCopy\n",
    "    & (events.genpart.genPartIdxMother >= 0)\n",
    "]\n",
    "candidatejet = events.fatjets.pad(1, clip=True).flatten()\n",
    "dR2 = candidatejet.p4.delta_r2(bosons.p4)\n",
    "dPt2 = ((candidatejet.p4.pt - bosons.p4.pt)/(candidatejet.p4.pt + bosons.p4.pt))**2\n",
    "(dR2 + dPt2).argmin()"
   ]
  },
  {
   "cell_type": "code",
   "execution_count": null,
   "metadata": {},
   "outputs": [],
   "source": [
    "print(events['genpart']['pdgId'])\n"
   ]
  },
  {
   "cell_type": "code",
   "execution_count": null,
   "metadata": {},
   "outputs": [],
   "source": []
  }
 ],
 "metadata": {
  "kernelspec": {
   "display_name": "Python 3",
   "language": "python",
   "name": "python3"
  },
  "language_info": {
   "codemirror_mode": {
    "name": "ipython",
    "version": 3
   },
   "file_extension": ".py",
   "mimetype": "text/x-python",
   "name": "python",
   "nbconvert_exporter": "python",
   "pygments_lexer": "ipython3",
   "version": "3.6.4"
  }
 },
 "nbformat": 4,
 "nbformat_minor": 2
}
