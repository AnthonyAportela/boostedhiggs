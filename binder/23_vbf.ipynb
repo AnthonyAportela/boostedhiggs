{
 "cells": [
  {
   "cell_type": "markdown",
   "metadata": {},
   "source": [
    "# VBF exploration\n",
    "\n",
    "This notebook opens a VBF root file, and looks at the deltaR(gen Higgs, jet) for:\n",
    "- the selected candidate AK8 jet (closest to lepton)\n",
    "- the leading AK8 jet\n",
    "for both the electron and muon channels."
   ]
  },
  {
   "cell_type": "code",
   "execution_count": 140,
   "metadata": {},
   "outputs": [
    {
     "data": {
      "text/plain": [
       "{'divide': 'warn', 'over': 'warn', 'under': 'ignore', 'invalid': 'ignore'}"
      ]
     },
     "execution_count": 140,
     "metadata": {},
     "output_type": "execute_result"
    }
   ],
   "source": [
    "import json\n",
    "import uproot\n",
    "from coffea.nanoevents import NanoEventsFactory, NanoAODSchema, BaseSchema\n",
    "from coffea import nanoevents\n",
    "from coffea import processor\n",
    "import time\n",
    "\n",
    "import argparse\n",
    "import warnings\n",
    "import pyarrow as pa\n",
    "import pyarrow.parquet as pq\n",
    "import pickle as pkl\n",
    "import pandas as pd\n",
    "import os\n",
    "import sys\n",
    "sys.path.append(\"../\")\n",
    "\n",
    "from collections import defaultdict\n",
    "import pickle as pkl\n",
    "import pyarrow as pa\n",
    "import awkward as ak\n",
    "import numpy as np\n",
    "import pandas as pd\n",
    "import json\n",
    "import os\n",
    "import shutil\n",
    "import pathlib\n",
    "from typing import List, Optional\n",
    "import pyarrow.parquet as pq\n",
    "\n",
    "from coffea import processor\n",
    "from coffea.nanoevents.methods import candidate, vector\n",
    "from coffea.analysis_tools import Weights, PackedSelection\n",
    "from boostedhiggs.utils import match_HWW\n",
    "from boostedhiggs.btag import btagWPs\n",
    "from boostedhiggs.btag import BTagCorrector\n",
    "\n",
    "import hist as hist2\n",
    "import matplotlib\n",
    "import matplotlib.pyplot as plt\n",
    "import matplotlib.colors as mcolors\n",
    "import mplhep as hep\n",
    "from hist.intervals import clopper_pearson_interval\n",
    "\n",
    "import warnings\n",
    "warnings.filterwarnings(\"ignore\", message=\"Found duplicate branch \")\n",
    "warnings.filterwarnings(\"ignore\", category=DeprecationWarning)\n",
    "np.seterr(invalid='ignore')"
   ]
  },
  {
   "cell_type": "code",
   "execution_count": 59,
   "metadata": {},
   "outputs": [],
   "source": [
    "def pad_val(\n",
    "    arr: ak.Array,\n",
    "    value: float,\n",
    "    target: int = None,\n",
    "    axis: int = 0,\n",
    "    to_numpy: bool = False,\n",
    "    clip: bool = True,\n",
    "):\n",
    "    \"\"\"\n",
    "    basically: preserves the nested structure of the ak array and replaces None values with -1\n",
    "    pads awkward array up to ``target`` index along axis ``axis`` with value ``value``,\n",
    "    optionally converts to numpy array\n",
    "    \"\"\"\n",
    "    if target:\n",
    "        ret = ak.fill_none(ak.pad_none(arr, target, axis=axis, clip=clip), value, axis=None)\n",
    "    else:\n",
    "        ret = ak.fill_none(arr, value, axis=None)\n",
    "    return ret.to_numpy() if to_numpy else ret\n",
    "\n",
    "def build_p4(cand):\n",
    "    return ak.zip(\n",
    "        {\n",
    "            \"pt\": cand.pt,\n",
    "            \"eta\": cand.eta,\n",
    "            \"phi\": cand.phi,\n",
    "            \"mass\": cand.mass,\n",
    "            \"charge\": cand.charge,\n",
    "        },\n",
    "        with_name=\"PtEtaPhiMCandidate\",\n",
    "        behavior=candidate.behavior,\n",
    "    )"
   ]
  },
  {
   "cell_type": "markdown",
   "metadata": {},
   "source": [
    "## Load the VBF merged root files"
   ]
  },
  {
   "cell_type": "code",
   "execution_count": 72,
   "metadata": {},
   "outputs": [],
   "source": [
    "# load a root file into coffea-friendly NanoAOD structure\n",
    "# import uproot\n",
    "# f = uproot.open(f\"VBF/vbf_1.root\")\n",
    "# f = uproot.open(f\"VBF/sig.root\")\n",
    "# num = f['Events'].num_entries   ### checks number of events per file \n",
    "# print(f'number of events per file is {num}')\n",
    "\n",
    "events = nanoevents.NanoEventsFactory.from_root(\"VBF/vbf_merged.root\", \"Events\", schemaclass=nanoevents.PFNanoAODSchema).events()\n",
    "\n",
    "# nanoevents.PFNanoAODSchema.mixins[\"SV\"] = \"PFCand\""
   ]
  },
  {
   "cell_type": "code",
   "execution_count": 73,
   "metadata": {},
   "outputs": [],
   "source": [
    "### the point of this block is to get the candidate_fj and the leading_fj for further studies\n",
    "\n",
    "nevents = len(events)\n",
    "\n",
    "# define tau objects for starters (will be needed in the end to avoid picking taus)\n",
    "loose_taus_mu = (\n",
    "    (events.Tau.pt > 20)\n",
    "    & (abs(events.Tau.eta) < 2.3)\n",
    "    & (events.Tau.idAntiMu >= 1)  # loose antiMu ID\n",
    ")\n",
    "loose_taus_ele = (\n",
    "    (events.Tau.pt > 20)\n",
    "    & (abs(events.Tau.eta) < 2.3)\n",
    "    & (events.Tau.idAntiEleDeadECal >= 2)  # loose Anti-electron MVA discriminator V6 (2018) ?\n",
    ")\n",
    "n_loose_taus_mu = ak.sum(loose_taus_mu, axis=1)\n",
    "n_loose_taus_ele = ak.sum(loose_taus_ele, axis=1)\n",
    "\n",
    "# Object definitions:\n",
    "# define muon objects\n",
    "loose_muons = (\n",
    "    (((events.Muon.pt > 30) & (events.Muon.pfRelIso04_all < 0.25)) |\n",
    "     (events.Muon.pt > 55))\n",
    "    & (np.abs(events.Muon.eta) < 2.4)\n",
    "    & (events.Muon.looseId)\n",
    ")\n",
    "n_loose_muons = ak.sum(loose_muons, axis=1)\n",
    "\n",
    "good_muons = (\n",
    "    (events.Muon.pt > 30)\n",
    "    & (np.abs(events.Muon.eta) < 2.4)\n",
    "    & (np.abs(events.Muon.dz) < 0.1)\n",
    "    & (np.abs(events.Muon.dxy) < 0.05)\n",
    "    & (events.Muon.sip3d <= 4.0)\n",
    "    & events.Muon.mediumId\n",
    ")\n",
    "n_good_muons = ak.sum(good_muons, axis=1)\n",
    "\n",
    "# define electron objects\n",
    "loose_electrons = (\n",
    "    (((events.Electron.pt > 38) & (events.Electron.pfRelIso03_all < 0.25)) |\n",
    "     (events.Electron.pt > 120))\n",
    "    & (np.abs(events.Electron.eta) < 2.4)\n",
    "    & ((np.abs(events.Electron.eta) < 1.44) | (np.abs(events.Electron.eta) > 1.57))\n",
    "    & (events.Electron.cutBased >= events.Electron.LOOSE)\n",
    ")\n",
    "n_loose_electrons = ak.sum(loose_electrons, axis=1)\n",
    "\n",
    "good_electrons = (\n",
    "    (events.Electron.pt > 38)\n",
    "    & (np.abs(events.Electron.eta) < 2.4)\n",
    "    & ((np.abs(events.Electron.eta) < 1.44) | (np.abs(events.Electron.eta) > 1.57))\n",
    "    & (np.abs(events.Electron.dz) < 0.1)\n",
    "    & (np.abs(events.Electron.dxy) < 0.05)\n",
    "    & (events.Electron.sip3d <= 4.0)\n",
    "    & (events.Electron.mvaFall17V2noIso_WP90)\n",
    ")\n",
    "n_good_electrons = ak.sum(good_electrons, axis=1)\n",
    "\n",
    "# get candidate lepton\n",
    "goodleptons = ak.concatenate([events.Muon[good_muons], events.Electron[good_electrons]], axis=1)    # concat muons and electrons\n",
    "goodleptons = goodleptons[ak.argsort(goodleptons.pt, ascending=False)]      # sort by pt\n",
    "candidatelep = ak.firsts(goodleptons)   # pick highest pt\n",
    "\n",
    "candidatelep_p4 = build_p4(candidatelep)    # build p4 for candidate lepton\n",
    "lep_reliso = candidatelep.pfRelIso04_all if hasattr(candidatelep, \"pfRelIso04_all\") else candidatelep.pfRelIso03_all    # reliso for candidate lepton\n",
    "lep_miso = candidatelep.miniPFRelIso_all    # miniso for candidate lepton\n",
    "mu_mvaId = candidatelep.mvaId if hasattr(candidatelep, \"mvaId\") else np.zeros(nevents)      # MVA-ID for candidate lepton\n",
    "\n",
    "# JETS\n",
    "goodjets = events.Jet[\n",
    "    (events.Jet.pt > 30)\n",
    "    & (abs(events.Jet.eta) < 5.0)\n",
    "    & events.Jet.isTight\n",
    "    & (events.Jet.puId > 0)\n",
    "]\n",
    "# reject EE noisy jets for 2017\n",
    "goodjets = goodjets[\n",
    "    (goodjets.pt > 50)\n",
    "    | (abs(goodjets.eta) < 2.65)\n",
    "    | (abs(goodjets.eta) > 3.139)\n",
    "]\n",
    "ht = ak.sum(goodjets.pt, axis=1)\n",
    "\n",
    "# FATJETS\n",
    "fatjets = events.FatJet\n",
    "\n",
    "good_fatjets = (\n",
    "    (fatjets.pt > 200)\n",
    "    & (abs(fatjets.eta) < 2.5)\n",
    "    & fatjets.isTight\n",
    ")\n",
    "n_fatjets = ak.sum(good_fatjets, axis=1)\n",
    "\n",
    "good_fatjets = fatjets[good_fatjets]        # select good fatjets\n",
    "good_fatjets = good_fatjets[ak.argsort(good_fatjets.pt, ascending=False)]       # sort them by pt\n",
    "leading_fj = ak.firsts(good_fatjets)\n",
    "\n",
    "# for leptonic channel: first clean jets and leptons by removing overlap, then pick candidate_fj closest to the lepton\n",
    "lep_in_fj_overlap_bool = good_fatjets.delta_r(candidatelep_p4) > 0.1\n",
    "good_fatjets = good_fatjets[lep_in_fj_overlap_bool]\n",
    "fj_idx_lep = ak.argmin(good_fatjets.delta_r(candidatelep_p4), axis=1, keepdims=True)\n",
    "candidatefj_lep = ak.firsts(good_fatjets[fj_idx_lep])"
   ]
  },
  {
   "cell_type": "code",
   "execution_count": 206,
   "metadata": {},
   "outputs": [],
   "source": [
    "### the point of this block is to get the matched higgs to the jet\n",
    "\n",
    "def getParticles(genparticles, lowid=22, highid=25, flags=['fromHardProcess', 'isLastCopy']):\n",
    "    \"\"\"\n",
    "    returns the particle objects that satisfy a low id,\n",
    "    high id condition and have certain flags\n",
    "    \"\"\"\n",
    "    absid = abs(genparticles.pdgId)\n",
    "    return genparticles[\n",
    "        ((absid >= lowid) & (absid <= highid))\n",
    "        & genparticles.hasFlags(flags)\n",
    "    ]\n",
    "\n",
    "def match_HWW(genparticles, candidatefj):\n",
    "    \"\"\"\n",
    "    return the number of matched objects (hWW*),daughters,\n",
    "    and gen flavor (enuqq, munuqq, taunuqq)\n",
    "    \"\"\"\n",
    "    higgs = getParticles(genparticles, 25)   # genparticles is the full set... this function selects Higgs particles    \n",
    "    is_hWW = ak.all(abs(higgs.children.pdgId) == 24, axis=2)    # W~24 so we get H->WW (limitation: only picking one W and assumes the other will be there)\n",
    "\n",
    "    higgs = higgs[is_hWW]\n",
    "    higgs_wstar = higgs.children[ak.argmin(higgs.children.mass, axis=2, keepdims=True)]\n",
    "    higgs_w = higgs.children[ak.argmax(higgs.children.mass, axis=2, keepdims=True)]\n",
    "\n",
    "    prompt_electron = getParticles(genparticles, 11, 11, ['isPrompt', 'isLastCopy'])    # isPrompt avoids displaced leptons\n",
    "    prompt_muon = getParticles(genparticles, 13, 13, ['isPrompt', 'isLastCopy'])\n",
    "    prompt_tau = getParticles(genparticles, 15, 15, ['isPrompt', 'isLastCopy'])\n",
    "    prompt_q = getParticles(genparticles, 0, 5, ['fromHardProcess', 'isLastCopy'])      # 0-5 not 0-6 to avoid top quark\n",
    "    prompt_q = prompt_q[abs(prompt_q.distinctParent.pdgId) == 24]       # parent W\n",
    "\n",
    "    dr_fj_quarks = candidatefj.delta_r(prompt_q)\n",
    "    dr_fj_electrons = candidatefj.delta_r(prompt_electron)\n",
    "    dr_fj_muons = candidatefj.delta_r(prompt_muon)\n",
    "    dr_fj_taus = candidatefj.delta_r(prompt_tau)\n",
    "    dr_daughters = ak.concatenate([dr_fj_quarks, dr_fj_electrons, dr_fj_muons, dr_fj_taus], axis=1)\n",
    "    hWW_nprongs = ak.sum(dr_daughters < 0.8, axis=1)   # impose that something must be inside the cone... tells you # of particles from Higgs matched to the jet\n",
    "\n",
    "    n_electrons = ak.sum(prompt_electron.pt > 0, axis=1)\n",
    "    n_muons = ak.sum(prompt_muon.pt > 0, axis=1)\n",
    "    n_taus = ak.sum(prompt_tau.pt > 0, axis=1)\n",
    "    n_quarks = ak.sum(prompt_q.pt > 0, axis=1)\n",
    "\n",
    "    # 4(elenuqq),6(munuqq),8(taunuqq)\n",
    "    hWW_flavor = (n_quarks == 2) * 1 + (n_electrons == 1) * 3 + (n_muons == 1) * 5 + (n_taus == 1) * 7 + (n_quarks == 4) * 11\n",
    "\n",
    "    matchedH = candidatefj.nearest(higgs, axis=1, threshold=0.8)    # choose higgs closest to fj\n",
    "    matchedW = candidatefj.nearest(higgs_w, axis=1, threshold=0.8)  # choose W closest to fj\n",
    "    matchedWstar = candidatefj.nearest(higgs_wstar, axis=1, threshold=0.8)  # choose Wstar closest to fj\n",
    "\n",
    "    # 1 (H only), 4(W), 6(W star), 9(H, W and Wstar)\n",
    "    hWW_matched = (\n",
    "        (ak.sum(matchedH.pt > 0, axis=1) == 1) * 1\n",
    "        + (ak.sum(ak.flatten(matchedW.pt > 0, axis=2), axis=1) == 1) * 3\n",
    "        + (ak.sum(ak.flatten(matchedWstar.pt > 0, axis=2), axis=1) == 1) * 5\n",
    "    )\n",
    "\n",
    "    # leptons matched\n",
    "    dr_fj_leptons = ak.concatenate([dr_fj_electrons, dr_fj_muons], axis=1)\n",
    "\n",
    "    leptons = ak.concatenate([prompt_electron, prompt_muon], axis=1)\n",
    "    leptons = leptons[dr_fj_leptons < 0.8]\n",
    "\n",
    "    # leptons coming from W or W*\n",
    "    leptons_mass = ak.firsts(leptons.distinctParent.mass)   # # TODO: why need firsts\n",
    "    higgs_w_mass = ak.firsts(ak.flatten(higgs_w.mass))[ak.firsts(leptons.pt > 0)]\n",
    "    higgs_wstar_mass = ak.firsts(ak.flatten(higgs_wstar.mass))[ak.firsts(leptons.pt > 0)]\n",
    "\n",
    "    iswlepton = (leptons_mass == higgs_w_mass)\n",
    "    iswstarlepton = (leptons_mass == higgs_wstar_mass)\n",
    "\n",
    "    ret = {\"hWW_flavor\": hWW_flavor,\n",
    "           \"hWW_matched\": hWW_matched,\n",
    "           \"hWW_nprongs\": hWW_nprongs,\n",
    "           \"matchedH\": matchedH,\n",
    "           \"iswlepton\": iswlepton,  # truth info, higher mass is normally onshell\n",
    "           \"iswstarlepton\": iswstarlepton}  # truth info, lower mass is normally offshell\n",
    "\n",
    "    return ret"
   ]
  },
  {
   "cell_type": "markdown",
   "metadata": {},
   "source": [
    "## Without higgs.pt>200 sleection"
   ]
  },
  {
   "cell_type": "code",
   "execution_count": 236,
   "metadata": {},
   "outputs": [],
   "source": [
    "# match the higgs to both candidate_fj and leading_fj\n",
    "\n",
    "match_H_candidate = match_HWW(events.GenPart, candidatefj_lep)\n",
    "match_H_leading = match_HWW(events.GenPart, leading_fj)"
   ]
  },
  {
   "cell_type": "code",
   "execution_count": 237,
   "metadata": {},
   "outputs": [
    {
     "data": {
      "text/plain": [
       "array([0.03930607, 0.29378492, 0.01584894, ..., 0.11623658, 0.02275228,\n",
       "       0.14870034], dtype=float32)"
      ]
     },
     "execution_count": 237,
     "metadata": {},
     "output_type": "execute_result"
    }
   ],
   "source": [
    "# get dr between matched higgs to candidate_fj\n",
    "\n",
    "dr_candidate = candidatefj_lep.delta_r(match_H_candidate['matchedH'])\n",
    "dr_candidate = ak.flatten(dr_candidate)[~ak.is_none(ak.flatten(dr_candidate))]\n",
    "dr_candidate = ak.to_numpy(dr_candidate).data\n",
    "dr_candidate"
   ]
  },
  {
   "cell_type": "code",
   "execution_count": 238,
   "metadata": {},
   "outputs": [
    {
     "data": {
      "text/plain": [
       "array([0.24703906, 0.23594214, 0.15166739, ..., 0.13232511, 0.02275228,\n",
       "       0.14870034], dtype=float32)"
      ]
     },
     "execution_count": 238,
     "metadata": {},
     "output_type": "execute_result"
    }
   ],
   "source": [
    "# get dr between matched higgs to leading_fj\n",
    "\n",
    "dr_leading = leading_fj.delta_r(match_H_leading['matchedH'])\n",
    "dr_leading = ak.flatten(dr_leading)[~ak.is_none(ak.flatten(dr_leading))]\n",
    "dr_leading = ak.to_numpy(dr_leading).data\n",
    "dr_leading"
   ]
  },
  {
   "cell_type": "code",
   "execution_count": 239,
   "metadata": {},
   "outputs": [
    {
     "data": {
      "image/png": "[encoded data removed]",
      "text/plain": [
       "<Figure size 720x504 with 1 Axes>"
      ]
     },
     "metadata": {
      "needs_background": "light"
     },
     "output_type": "display_data"
    }
   ],
   "source": [
    "year = '2017'\n",
    "fig, ax = plt.subplots(figsize=(10, 7))\n",
    "\n",
    "dic = {'candidate_fj': dr_candidate,\n",
    "      'leading_fj': dr_leading}\n",
    "\n",
    "# make plots per channel\n",
    "for key, val in dic.items():\n",
    "    plt.hist(val, \n",
    "             bins=50, \n",
    "             label=key, \n",
    "#                      density=True,\n",
    "             histtype='step',)\n",
    "\n",
    "ax.legend()\n",
    "ax.set_xlabel(f\"dR(jet, higgs)\", fontsize=15)\n",
    "ax.set_title(f'dR(jet, higgs) \\n for different jet selections', fontsize=20)\n",
    "# ax.set_xlim(0,1000)\n",
    "hep.cms.lumitext(f\"{year} (13 TeV)\", ax=ax)\n",
    "hep.cms.text(\"Work in Progress\", ax=ax);\n",
    "# plt.savefig(f'/Users/fmokhtar/Desktop/plots/{ch}_gen_HpTplots.pdf')\n",
    "# plt.close()\n",
    "#     break"
   ]
  },
  {
   "cell_type": "code",
   "execution_count": 240,
   "metadata": {
    "scrolled": false
   },
   "outputs": [
    {
     "data": {
      "image/png": "[encoded data removed]",
      "text/plain": [
       "<Figure size 720x504 with 1 Axes>"
      ]
     },
     "metadata": {
      "needs_background": "light"
     },
     "output_type": "display_data"
    }
   ],
   "source": [
    "# Higgs pT distribution\n",
    "year = '2017'\n",
    "higgs = getParticles(events.GenPart, 25)\n",
    "\n",
    "fig, ax = plt.subplots(figsize=(10, 7))\n",
    "\n",
    "dic = {'candidate_fj': dr_candidate,\n",
    "      'leading_fj': dr_leading}\n",
    "\n",
    "# make plots per channel\n",
    "plt.hist(higgs.pt, \n",
    "         bins=50, \n",
    "#                      density=True,\n",
    "         histtype='step',)\n",
    "\n",
    "ax.set_xlabel(f\"Higgs pT (GeV)\", fontsize=15)\n",
    "ax.set_title(f'Higgs pT distribution \\n for VBF sample', fontsize=20)\n",
    "# ax.set_xlim(0,1000)\n",
    "hep.cms.lumitext(f\"{year} (13 TeV)\", ax=ax)\n",
    "hep.cms.text(\"Work in Progress\", ax=ax);\n",
    "# plt.savefig(f'/Users/fmokhtar/Desktop/plots/{ch}_gen_HpTplots.pdf')\n",
    "# plt.close()\n",
    "#     break"
   ]
  },
  {
   "cell_type": "code",
   "execution_count": 244,
   "metadata": {},
   "outputs": [
    {
     "name": "stdout",
     "output_type": "stream",
     "text": [
      "dr_leading_ele [3.42, 3.55, 0.0148, 0.255, 0.0169, 3.28, ... 3.36, 3.46, 3.67, 3.6, 3.29, 3.02]\n",
      "dr_candidate_ele [0.0169, 3.28, 3.18, 3.35, 3.46, 0.941, ... 0.284, 0.34, 0.204, 3.54, 3.16, 0.21]\n",
      "-------------------------------------------------------------------------------\n",
      "dr_leading_mu [2.68, 0.0792, 2.88, 1.68, 1.61, 0.741, ... 4.27, 3.79, 0.188, 3.23, 3.24, 1.98]\n",
      "dr_candidate_mu [2.88, 2.79, 0.323, 0.136, 0.875, 3.58, ... 0.342, 0.376, 0.323, 0.188, 3.23, 3.24]\n"
     ]
    }
   ],
   "source": [
    "# this block attempts to get the dr(jet, lepton) for jet ~ [candidate_fj, leading_fj] and lepton ~ [ele, mu]\n",
    "\n",
    "# get dR between ele and different jet selections\n",
    "dr_leading_ele = leading_fj.delta_r(events.Electron)\n",
    "dr_leading_ele = ak.flatten(dr_leading_ele)[~ak.is_none(ak.flatten(dr_leading_ele))]\n",
    "# dr_leading_ele = ak.to_numpy(dr_leading_ele).data\n",
    "print('dr_leading_ele', dr_leading_ele)\n",
    "\n",
    "dr_candidate_ele = candidatefj_lep.delta_r(events.Electron)\n",
    "dr_candidate_ele = ak.flatten(dr_candidate_ele)[~ak.is_none(ak.flatten(dr_candidate_ele))]\n",
    "# dr_candidate_ele = ak.to_numpy(dr_candidate_ele).data\n",
    "print('dr_candidate_ele', dr_candidate_ele)\n",
    "\n",
    "print('-------------------------------------------------------------------------------')\n",
    "# get dR between mu and different jet selections\n",
    "dr_leading_mu = leading_fj.delta_r(events.Muon)\n",
    "dr_leading_mu = ak.flatten(dr_leading_mu)[~ak.is_none(ak.flatten(dr_leading_mu))]\n",
    "# dr_leading_mu = ak.to_numpy(dr_leading_mu).data\n",
    "print('dr_leading_mu', dr_leading_mu)\n",
    "\n",
    "dr_candidate_mu = candidatefj_lep.delta_r(events.Muon)\n",
    "dr_candidate_mu = ak.flatten(dr_candidate_mu)[~ak.is_none(ak.flatten(dr_candidate_mu))]\n",
    "# dr_candidate_mu = ak.to_numpy(dr_candidate_mu).data\n",
    "print('dr_candidate_mu', dr_candidate_mu)"
   ]
  },
  {
   "cell_type": "code",
   "execution_count": 249,
   "metadata": {},
   "outputs": [
    {
     "data": {
      "image/png": "[encoded data removed]",
      "text/plain": [
       "<Figure size 720x504 with 1 Axes>"
      ]
     },
     "metadata": {
      "needs_background": "light"
     },
     "output_type": "display_data"
    }
   ],
   "source": [
    "# note: without higgs.pt>200 selection\n",
    "year = '2017'\n",
    "fig, ax = plt.subplots(figsize=(10, 7))\n",
    "\n",
    "dic = {'dR(candidate_jet, ele)': dr_candidate_ele,\n",
    "      'dR(candidate_jet, mu)': dr_candidate_mu}\n",
    "\n",
    "# make plots per channel\n",
    "for key, val in dic.items():\n",
    "    plt.hist(val, \n",
    "             bins=50, \n",
    "             label=key, \n",
    "#                      density=True,\n",
    "             histtype='step',)\n",
    "\n",
    "ax.legend()\n",
    "ax.set_xlabel(f\"dR(candidate_jet, lepton)\", fontsize=15)\n",
    "ax.set_title(f'dR(candidate_jet, lepton) \\n for different leptons', fontsize=20)\n",
    "# ax.set_xlim(0,1000)\n",
    "hep.cms.lumitext(f\"{year} (13 TeV)\", ax=ax)\n",
    "hep.cms.text(\"Work in Progress\", ax=ax);\n",
    "# plt.savefig(f'/Users/fmokhtar/Desktop/plots/{ch}_gen_HpTplots.pdf')\n",
    "# plt.close()\n",
    "#     break"
   ]
  },
  {
   "cell_type": "code",
   "execution_count": 250,
   "metadata": {},
   "outputs": [
    {
     "data": {
      "image/png": "[encoded data removed]",
      "text/plain": [
       "<Figure size 720x504 with 1 Axes>"
      ]
     },
     "metadata": {
      "needs_background": "light"
     },
     "output_type": "display_data"
    }
   ],
   "source": [
    "# note: without higgs.pt>200 selection\n",
    "year = '2017'\n",
    "fig, ax = plt.subplots(figsize=(10, 7))\n",
    "\n",
    "dic = {'dR(leading_jet, ele)': dr_leading_ele,\n",
    "      'dR(leading_jet, mu)': dr_leading_mu}\n",
    "\n",
    "# make plots per channel\n",
    "for key, val in dic.items():\n",
    "    plt.hist(val, \n",
    "             bins=50, \n",
    "             label=key, \n",
    "#                      density=True,\n",
    "             histtype='step',)\n",
    "\n",
    "ax.legend()\n",
    "ax.set_xlabel(f\"dR(leading_jet, lepton)\", fontsize=15)\n",
    "ax.set_title(f'dR(leading_jet, lepton) \\n for different leptons', fontsize=20)\n",
    "# ax.set_xlim(0,1000)\n",
    "hep.cms.lumitext(f\"{year} (13 TeV)\", ax=ax)\n",
    "hep.cms.text(\"Work in Progress\", ax=ax);\n",
    "# plt.savefig(f'/Users/fmokhtar/Desktop/plots/{ch}_gen_HpTplots.pdf')\n",
    "# plt.close()\n",
    "#     break"
   ]
  },
  {
   "cell_type": "markdown",
   "metadata": {},
   "source": [
    "## With higgs.pt>200 sleection"
   ]
  },
  {
   "cell_type": "code",
   "execution_count": 245,
   "metadata": {},
   "outputs": [],
   "source": [
    "# not sure if i should first do selection then match or match then apply selection\n",
    "\n",
    "# match_H_candidate = match_HWW(events.GenPart, candidatefj_lep)\n",
    "# match_H_leading = match_HWW(events.GenPart, leading_fj)"
   ]
  },
  {
   "cell_type": "code",
   "execution_count": 235,
   "metadata": {
    "scrolled": false
   },
   "outputs": [
    {
     "data": {
      "image/png": "[encoded data removed]",
      "text/plain": [
       "<Figure size 720x504 with 1 Axes>"
      ]
     },
     "metadata": {
      "needs_background": "light"
     },
     "output_type": "display_data"
    }
   ],
   "source": [
    "# Higgs pT distribution with higgs.pt>200\n",
    "year = '2017'\n",
    "fig, ax = plt.subplots(figsize=(10, 7))\n",
    "\n",
    "dic = {'candidate_fj': dr_candidate,\n",
    "      'leading_fj': dr_leading}\n",
    "\n",
    "# make plots per channel\n",
    "plt.hist(ak.flatten(higgs[higgs.pt>200]).pt, \n",
    "         bins=50, \n",
    "#                      density=True,\n",
    "         histtype='step',)\n",
    "\n",
    "ax.set_xlabel(f\"Higgs pT (GeV)\", fontsize=15)\n",
    "ax.set_title(f'Higgs pT distribution \\n for VBF sample \\n with higgs.pt>200GeV', fontsize=20)\n",
    "# ax.set_xlim(0,1000)\n",
    "hep.cms.lumitext(f\"{year} (13 TeV)\", ax=ax)\n",
    "hep.cms.text(\"Work in Progress\", ax=ax);\n",
    "# plt.savefig(f'/Users/fmokhtar/Desktop/plots/{ch}_gen_HpTplots.pdf')\n",
    "# plt.close()\n",
    "#     break"
   ]
  },
  {
   "cell_type": "markdown",
   "metadata": {},
   "source": []
  },
  {
   "cell_type": "code",
   "execution_count": null,
   "metadata": {},
   "outputs": [],
   "source": []
  }
 ],
 "metadata": {
  "kernelspec": {
   "display_name": "coffea-env",
   "language": "python",
   "name": "coffea-env"
  },
  "language_info": {
   "codemirror_mode": {
    "name": "ipython",
    "version": 3
   },
   "file_extension": ".py",
   "mimetype": "text/x-python",
   "name": "python",
   "nbconvert_exporter": "python",
   "pygments_lexer": "ipython3",
   "version": "3.7.12"
  }
 },
 "nbformat": 4,
 "nbformat_minor": 4
}
