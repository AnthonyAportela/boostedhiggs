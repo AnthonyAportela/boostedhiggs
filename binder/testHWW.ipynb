{
 "cells": [
  {
   "cell_type": "code",
   "execution_count": 35,
   "metadata": {},
   "outputs": [
    {
     "name": "stdout",
     "output_type": "stream",
     "text": [
      "{}\n"
     ]
    },
    {
     "data": {
      "text/plain": [
       "<pyinstrument.session.ProfilerSession at 0x12c8aafd0>"
      ]
     },
     "execution_count": 35,
     "metadata": {},
     "output_type": "execute_result"
    }
   ],
   "source": [
    "import uproot\n",
    "import awkward as ak\n",
    "import numpy as np\n",
    "from coffea import processor, util\n",
    "\n",
    "%matplotlib inline\n",
    "import matplotlib.pyplot as plt\n",
    "\n",
    "from coffea.nanoaod import NanoEvents\n",
    "\n",
    "from pyinstrument import Profiler\n",
    "profiler = Profiler()\n",
    "profiler.start()\n",
    "\n",
    "from coffea.nanoaod import NanoEvents\n",
    "from coffea.nanoaod.methods import FatJet, LorentzVector\n",
    "\n",
    "arraycache = {}\n",
    "events = NanoEvents.from_file(\n",
    "    'data/nano_mc_2017_101.root',\n",
    "    cache=arraycache,\n",
    "    methods={\n",
    "        'FatJetPFCands': LorentzVector,\n",
    "    },\n",
    ")\n",
    "print(arraycache)\n",
    "\n",
    "profiler.stop()"
   ]
  },
  {
   "cell_type": "code",
   "execution_count": 2,
   "metadata": {},
   "outputs": [],
   "source": [
    "good = (\n",
    "        (events.Muon.counts >= 1)\n",
    "        & (events.FatJet.counts >= 1)\n",
    "        )\n",
    "\n",
    "events = events[good]\n",
    "\n",
    "goodMuon = (\n",
    "    (events.Muon.pt > 27.)\n",
    "    & (np.abs(events.Muon.eta) < 2.4)\n",
    "    & (events.Muon.sip3d < 4)\n",
    "    & (np.abs(events.Muon.dz) < 0.1)\n",
    "    & (np.abs(events.Muon.dxy) < 0.05)\n",
    "    & (events.Muon.mvaId == 2)\n",
    "            )\n",
    "nmuons = goodMuon.sum()\n",
    "\n",
    "goodElectron = (\n",
    "            (events.Electron.pt > 10)\n",
    "            & (np.abs(events.Electron.eta) < 2.5)\n",
    "            & (events.Electron.cutBased & (1 << 2)).astype(bool)  # 2017V2 loose                                                                                                    \n",
    "        )\n",
    "nelectrons = goodElectron.sum()\n",
    "\n",
    "leptonsel = (nmuons == 1) & (nelectrons == 0) ## selection\n",
    "\n",
    "met = events.MET\n",
    "\n",
    "# select jet with muon closest\n",
    "goodFatJet = (\n",
    "    (events.FatJet.pt > 300.)\n",
    "    & (np.abs(events.FatJet.eta) < 2.4)\n",
    "    & (events.FatJet.msoftdrop > 10.)\n",
    "    & (events.FatJet.jetId & 2)\n",
    "            )\n",
    "leadingmuon = events.Muon[goodMuon][:, 0:1]\n",
    "ak8_muon_pair = leadingmuon.cross(events.FatJet)\n",
    "ak8_muon_dR = ak8_muon_pair.i0.delta_r(ak8_muon_pair.i1)\n",
    "leadingjet = events.FatJet[goodFatJet][ak8_muon_dR.argmin()]\n",
    "\n",
    "# veto b-tag in opposite side\n",
    "goodJet = (\n",
    "    (events.Jet.pt > 30.)\n",
    "    & (events.Jet.jetId & 2)\n",
    "            )\n",
    "jets = events.Jet[goodJet]\n",
    "ak4_ak8_pair = jets.cross(leadingjet, nested=True)\n",
    "ak4_ak8_dphi = ak4_ak8_pair.i0.delta_phi(ak4_ak8_pair.i1)\n",
    "ak4_opposite = jets[(np.abs(ak4_ak8_dphi) > np.pi / 2).all()] ## selection"
   ]
  },
  {
   "cell_type": "code",
   "execution_count": 24,
   "metadata": {},
   "outputs": [
    {
     "name": "stdout",
     "output_type": "stream",
     "text": [
      "[[] [] [] ... [] [80.0] []]\n",
      "[[] [] [] ... [] [0.27252197] []]\n"
     ]
    },
    {
     "name": "stderr",
     "output_type": "stream",
     "text": [
      "/Users/cristina/Library/Python/3.6/lib/python/site-packages/awkward/array/jagged.py:1035: RuntimeWarning: invalid value encountered in arccosh\n",
      "  result = getattr(ufunc, method)(*inputs, **kwargs)\n"
     ]
    }
   ],
   "source": [
    "from uproot_methods import TLorentzVectorArray\n",
    "leadingjet_p4 = TLorentzVectorArray.from_ptetaphim(leadingjet.pt, leadingjet.eta, leadingjet.phi, leadingjet.msoftdrop)\n",
    "leadingmuon_p4 = TLorentzVectorArray.from_ptetaphim(leadingmuon.pt,leadingmuon.eta,leadingmuon.phi, leadingmuon.mass)\n",
    "\n",
    "mm = (leadingjet_p4 - leadingmuon_p4).mass2\n",
    "jmass = (mm>0)*np.sqrt(np.maximum(0, mm)) + (mm<0)*leadingjet.mass\n",
    "\n",
    "#joffshell = leadingjet.msoftdrop < 125/2  # halfway point between offshell and onshell W\n",
    "joffshell = jmass < 62.5\n",
    "massassumption = 80.*joffshell + (125 - 80.)*~joffshell\n",
    "print(massassumption)\n",
    "print(leadingmuon.eta)\n",
    "x = massassumption**2/(2*leadingmuon.pt*met.pt) + np.cos(leadingmuon.phi - met.phi)\n",
    "met_eta = (\n",
    "    (x < 1)*np.arcsinh(x*np.sinh(leadingmuon.eta))\n",
    "    + (x > 1)*(\n",
    "                leadingmuon.eta - np.sign(leadingmuon.eta)*np.arccosh(leadingmuon.eta)\n",
    "                )\n",
    "            )\n",
    "met_p4 = TLorentzVectorArray.from_ptetaphim(met.pt, met_eta.fillna(0.), met.phi, np.zeros(met.size))"
   ]
  },
  {
   "cell_type": "code",
   "execution_count": 29,
   "metadata": {},
   "outputs": [],
   "source": [
    "mm2 = (leadingjet - leadingmuon).mass2"
   ]
  },
  {
   "cell_type": "code",
   "execution_count": 28,
   "metadata": {},
   "outputs": [
    {
     "data": {
      "image/png": "[encoded data removed]",
      "text/plain": [
       "<Figure size 432x288 with 1 Axes>"
      ]
     },
     "metadata": {},
     "output_type": "display_data"
    },
    {
     "name": "stderr",
     "output_type": "stream",
     "text": [
      "/Users/cristina/Library/Python/3.6/lib/python/site-packages/uproot_methods/classes/TLorentzVector.py:189: RuntimeWarning: invalid value encountered in sqrt\n",
      "  return self._trymemo(\"mass\", lambda self: self.awkward.numpy.sqrt(self.mag2))\n"
     ]
    },
    {
     "data": {
      "text/plain": [
       "<matplotlib.legend.Legend at 0x12d39ac88>"
      ]
     },
     "execution_count": 28,
     "metadata": {},
     "output_type": "execute_result"
    },
    {
     "data": {
      "image/png": "[encoded data removed]",
      "text/plain": [
       "<Figure size 432x288 with 1 Axes>"
      ]
     },
     "metadata": {},
     "output_type": "display_data"
    }
   ],
   "source": [
    "plt.hist(leadingjet.muonIdx3SJ.flatten());\n",
    "plt.show()\n",
    "plt.clf();\n",
    "plt.hist(leadingjet.LSmsoftdrop.flatten(), bins=np.linspace(0, 200, 50), alpha=0.5, label='LS msoftdrop');\n",
    "plt.hist(leadingjet.msoftdrop.flatten(), bins=np.linspace(0, 200, 50), alpha=0.5, label='Jet msoftdrop');\n",
    "plt.hist((leadingjet - leadingmuon).mass.flatten(), bins=np.linspace(0, 200, 50), alpha=0.5, label='Jet - muon mass');\n",
    "plt.gca().legend()"
   ]
  },
  {
   "cell_type": "code",
   "execution_count": null,
   "metadata": {},
   "outputs": [],
   "source": [
    "lscut = (events.CustomAK8Puppi.muonIdx3SJ >= 0)\n",
    "events = events[lscut.any()]\n",
    "lscut = lscut[lscut.any()]\n",
    "ljet = events.CustomAK8Puppi[:,0:1]\n",
    "print(len(ljet.muonIdx3SJ.flatten()))\n",
    "mu = events.Muon[ljet.muonIdx3SJ.flatten()]\n",
    "print(len(mu),len(ljet))\n",
    "print(mu-ljet)\n",
    "from uproot_methods import TLorentzVectorArray\n",
    "\n",
    "leadingjet_p4 = TLorentzVectorArray.from_ptetaphim(ljet.pt, ljet.eta, ljet.phi, ljet.msoftdrop)\n",
    "leadingmuon_p4 = TLorentzVectorArray.from_ptetaphim(mu.pt,mu.eta,mu.phi, mu.mass)\n",
    "print(leadingjet_p4.pad(1, clip=False).flatten())\n",
    "print(leadingmuon_p4.pad(1, clip=False).flatten())\n",
    "mm = (leadingjet_p4 - leadingmuon_p4).mass2\n",
    "\n",
    "#mm = (ljet - mu).mass2\n",
    "print(mm)\n",
    "jmass = (mm>0)*np.sqrt(np.maximum(0, mm)) + (mm<0)*leadingjet.mass\n",
    "print(len(jmass.flatten()))\n",
    "print(len(mu.flatten()))\n",
    "plt.hist2d(jmass.flatten(), mu.pt.flatten(), bins=50);"
   ]
  },
  {
   "cell_type": "code",
   "execution_count": 30,
   "metadata": {},
   "outputs": [
    {
     "data": {
      "text/plain": [
       "<JaggedArray [[] [] [] ... [] [173.1615789871054] []] at 0x000133b6c470>"
      ]
     },
     "execution_count": 30,
     "metadata": {},
     "output_type": "execute_result"
    }
   ],
   "source": [
    "(met_p4 + leadingjet).mass"
   ]
  },
  {
   "cell_type": "code",
   "execution_count": null,
   "metadata": {},
   "outputs": [],
   "source": [
    "print(len(events.FatJet.muonIdx3SJ.flatten()))\n",
    "print((events.FatJet.muonIdx3SJ.flatten()>=0).any())\n",
    "lscut = (events.FatJet.muonIdx3SJ >= 0).any()\n",
    "print(events.FatJet[(events.FatJet.muonIdx3SJ >= 0).any()].flatten())\n",
    "print(events.FatJet.muonIdx3SJ.flatten())\n",
    "newevents = events[lscut.any()]\n",
    "lscut = lscut[lscut.any()]\n",
    "jet = newevents.FatJet[lscut]\n",
    "print((events.FatJet.muonIdx3SJ >= 0).any())\n",
    "print(jet)\n",
    "\n",
    "print(events.FatJet[:,0:1])\n",
    "mu = events.Muon[events.FatJet[:,0:1].array.muonIdx3SJ]\n",
    "mm = (leadingjet - mu).mass2"
   ]
  },
  {
   "cell_type": "code",
   "execution_count": 34,
   "metadata": {},
   "outputs": [
    {
     "name": "stdout",
     "output_type": "stream",
     "text": [
      "['LHEPart', 'MET', 'LHEReweightingWeight', 'OtherPV', 'SoftActivityJetHT2', 'genWeight', 'Generator', 'HLTriggerFinalPath', 'L1Reco', 'LHE', 'L1PreFiringWeight', 'LHEScaleWeight', 'SoftActivityJet', 'Pileup', 'HLT', 'Tau', 'SoftActivityJetHT', 'RawMET', 'fixedGridRhoFastjetCentralCalo', 'fixedGridRhoFastjetAll', 'TkMET', 'Jet', 'FatJet', 'GenDressedLepton', 'fixedGridRhoFastjetCentralChargedPileUp', 'HTXS', 'GenPart', 'luminosityBlock', 'SV', 'L1', 'Flag', 'CaloMET', 'Muon', 'GenMET', 'GenVisTau', 'LHEPdfWeight', 'event', 'SoftActivityJetHT10', 'fixedGridRhoFastjetCentralNeutral', 'L1simulation', 'LHEWeight', 'FsrPhoton', 'Photon', 'btagWeight', 'PSWeight', 'SubGenJetAK8', 'ChsMET', 'SoftActivityJetNjets2', 'SoftActivityJetNjets10', 'FatJetPFCands', 'Electron', 'run', 'CorrT1METJet', 'fixedGridRhoFastjetCentral', 'genTtbarId', 'TrigObj', 'SubJet', 'SoftActivityJetNjets5', 'GenJetAK8', 'GenJet', 'IsoTrack', 'PV', 'HLTriggerFirstPath', 'SoftActivityJetHT5', 'PuppiMET']\n"
     ]
    }
   ],
   "source": [
    "print(events.columns)"
   ]
  },
  {
   "cell_type": "code",
   "execution_count": null,
   "metadata": {},
   "outputs": [],
   "source": []
  }
 ],
 "metadata": {
  "kernelspec": {
   "display_name": "Python 3",
   "language": "python",
   "name": "python3"
  },
  "language_info": {
   "codemirror_mode": {
    "name": "ipython",
    "version": 3
   },
   "file_extension": ".py",
   "mimetype": "text/x-python",
   "name": "python",
   "nbconvert_exporter": "python",
   "pygments_lexer": "ipython3",
   "version": "3.6.4"
  }
 },
 "nbformat": 4,
 "nbformat_minor": 2
}
