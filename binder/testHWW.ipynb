{
 "cells": [
  {
   "cell_type": "code",
   "execution_count": 5,
   "metadata": {},
   "outputs": [
    {
     "name": "stdout",
     "output_type": "stream",
     "text": [
      "{}\n"
     ]
    },
    {
     "data": {
      "text/plain": [
       "<pyinstrument.session.ProfilerSession at 0x3a9a75160>"
      ]
     },
     "execution_count": 5,
     "metadata": {},
     "output_type": "execute_result"
    }
   ],
   "source": [
    "import uproot\n",
    "import awkward as ak\n",
    "import numpy as np\n",
    "from coffea import processor, util\n",
    "\n",
    "%matplotlib inline\n",
    "import matplotlib.pyplot as plt\n",
    "\n",
    "from coffea.nanoaod import NanoEvents\n",
    "\n",
    "from pyinstrument import Profiler\n",
    "profiler = Profiler()\n",
    "profiler.start()\n",
    "\n",
    "from coffea.nanoaod import NanoEvents\n",
    "from coffea.nanoaod.methods import FatJet, LorentzVector\n",
    "\n",
    "arraycache = {}\n",
    "events = NanoEvents.from_file(\n",
    "    'data/tt-semilep/nano_mc_2017_0.root',\n",
    "    #'data/hww_2017mc_UL-hadd/nano_RunIISummer19UL17MiniAOD_Feb10.root',\n",
    "    cache=arraycache,\n",
    "    entrystart=100000,\n",
    "    entrystop=500000,\n",
    "    methods={\n",
    "        'FatJetPFCands': LorentzVector,\n",
    "    },\n",
    ")\n",
    "print(arraycache)\n",
    "\n",
    "profiler.stop()"
   ]
  },
  {
   "cell_type": "code",
   "execution_count": 56,
   "metadata": {},
   "outputs": [
    {
     "name": "stdout",
     "output_type": "stream",
     "text": [
      "[[] [] [] ... [[2.927546 1.5027124]] [[1.905976 1.394493]] []] [[] [] [] ... [[1]] [[1]] []]\n",
      "[[] [] [] ... [[0.96428144 2.1354272]] [[3.2282088 0.025006808]] []] [[] [] [] ... [[0]] [[1]] []]\n",
      "r [0 0 0 ... 0 7 0]\n"
     ]
    }
   ],
   "source": [
    "def getParticles(events,id=25,flags=['fromHardProcess', 'isLastCopy'],status=None):\n",
    "    absid = np.abs(events.GenPart.pdgId)\n",
    "    if isinstance(id,int):\n",
    "        idx = (absid == id) & events.GenPart.hasFlags(flags)\n",
    "    else:\n",
    "        idx = (absid >= id[0]) & (absid <= id[1]) & events.GenPart.hasFlags(flags)\n",
    "    if status:\n",
    "        idx = idx & events.GenPart.status == status\n",
    "    return events.GenPart[idx],idx\n",
    "\n",
    "def match(left, right, metric, maximum=np.inf):\n",
    "    '''Matching utility                                                                                                                                                              \n",
    "    For each item in ``left``, find closest item in ``right``, using function ``metric``.                                                                                            \n",
    "    The function must accept two broadcast-compatible arrays and return a numeric array.                                                                                             \n",
    "    If maximum is specified, mask matched elements where metric was greater than it.                                                                                                 \n",
    "    '''\n",
    "    lr = left.cross(right, nested=True)\n",
    "    mval = metric(lr.i0, lr.i1)\n",
    "    idx = mval.argmin()\n",
    "    print(mval,idx)\n",
    "    if maximum < np.inf:\n",
    "        matched = lr.i1[idx[mval[idx] < maximum]]\n",
    "        return matched.copy(content=matched.content.pad(1)).flatten(axis=1)\n",
    "    else:\n",
    "        return lr.i1[idx]\n",
    "    \n",
    "def getFlavor(childid, momid=None):\n",
    "    x = ((childid == 24).any() * 6 + (childid == 13).any() * 5 + (childid == 11).any() * 4 + (childid == 5).any() * 3 + (childid == 4).any() * 2 + (childid < 4).all() * 1).pad(1, clip=True).fillna(0).flatten()\n",
    "    x = x + ((momid == 5).any() * 7)\n",
    "    return x\n",
    "    \n",
    "def matchedParticleFlavor(candidates, particles, types='child', maxdR=0.8): \n",
    "    matched = match(candidates, particles, lambda a, b: a.delta_r(b), maxdR)\n",
    "    if types=='child':\n",
    "        retid = abs(matched.children.pdgId)\n",
    "    else:\n",
    "        retid = abs(matched.pdgId)\n",
    "    return retid\n",
    "\n",
    "leadingmuon =  events.Muon[:,0:1]\n",
    "goodFatJet = (\n",
    "    (events.FatJet.pt > 300.)\n",
    "    & (np.abs(events.FatJet.eta) < 2.4)\n",
    "    & (events.FatJet.msoftdrop > 10.)\n",
    "    & (events.FatJet.isTight)\n",
    "            )\n",
    "fatjets = events.FatJet[goodFatJet]\n",
    "ak8_muon_pair = leadingmuon.cross(fatjets)\n",
    "ak8_muon_dR = ak8_muon_pair.i0.delta_r(ak8_muon_pair.i1)\n",
    "candidatejet = fatjets[ak8_muon_dR.argmin()]\n",
    "\n",
    "genT,genT_idx = getParticles(events,6,['fromHardProcess', 'isLastCopy'])\n",
    "genW,genW_idx = getParticles(events,24,['fromHardProcess', 'isLastCopy'])\n",
    "genb,genb_idx = getParticles(events,5,['fromHardProcess', 'isLastCopy'])\n",
    "\n",
    "genflavorW = matchedParticleFlavor(leadingmuon, genW,'child', 0.2)\n",
    "genflavorb = matchedParticleFlavor(leadingmuon, genb,'mom', 0.2)\n",
    "genflav = getFlavor(genflavorW,genflavorb)\n",
    "print('r',genflav)\n"
   ]
  },
  {
   "cell_type": "code",
   "execution_count": null,
   "metadata": {},
   "outputs": [],
   "source": [
    "def getParticles(events,id=25,flags=['fromHardProcess', 'isLastCopy'],status=None):\n",
    "    absid = np.abs(events.GenPart.pdgId)\n",
    "    if isinstance(id,int):\n",
    "        idx = (absid == id) & events.GenPart.hasFlags(flags)\n",
    "    else:\n",
    "        idx = (absid >= id[0]) & (absid <= id[1]) & events.GenPart.hasFlags(flags)\n",
    "    if status:\n",
    "        idx = idx & events.GenPart.status == status\n",
    "    return events.GenPart[idx],idx\n",
    "\n",
    "genH,genH_idx = getParticles(events,25,['fromHardProcess', 'isLastCopy'])\n",
    "genW,genW_idx = getParticles(events,24,['fromHardProcess', 'isLastCopy'])\n",
    "genE,genE_idx = getParticles(events,11,['fromHardProcess','isFirstCopy'],1)\n",
    "genM,genM_idx = getParticles(events,13,['fromHardProcess','isFirstCopy'],1)\n",
    "genT,genT_idx = getParticles(events,15,['fromHardProcess','isFirstCopy'],1)\n",
    "genQ,genQ_idx = getParticles(events,[0,5],['fromHardProcess','isFirstCopy'])\n",
    "\n",
    "ishWW_qqelev = (genH.counts==1) & (genW.counts==2) & (genE.counts==1) & (genM.counts==0) & (genT.counts==0)\n",
    "ishWW_qqmuv = (genH.counts==1) & (genW.counts==2) & (genM.counts==1) & (genE.counts==0) & (genT.counts==0)\n",
    "ishWW_qqtauv = (genH.counts==1) & (genW.counts==2) & (genT.counts==1) & (genM.counts==0) & (genE.counts==0)\n",
    "ishWW_qqqq = (genH.counts==1) & (genW.counts==2) & (genQ.counts==4)  & (genM.counts==0) & (genE.counts==0)\n",
    "ishWW_muvelev = (genH.counts==1) & (genW.counts==2) & (genE.counts==1) & (genM.counts==1)\n",
    "ishWW_elevelev = (genH.counts==1) & (genW.counts==2) & (genE.counts==2) & (genM.counts==0)\n",
    "ishWW_tauvtauv = (genH.counts==1) & (genW.counts==2) & (genT.counts==2) & (genM.counts==0) & (genE.counts==0)\n",
    "ishWW_muvmuv = (genH.counts==1) & (genW.counts==2) & (genE.counts==0) & (genM.counts==2)\n"
   ]
  },
  {
   "cell_type": "code",
   "execution_count": null,
   "metadata": {},
   "outputs": [],
   "source": [
    "absid = np.abs(events.GenPart.pdgId)[1]\n",
    "idx = (absid >= 0) & (absid <= 5) \n",
    "flags = events.GenPart.hasFlags(['fromHardProcess','isFirstCopy'])[1][idx]\n",
    "print(absid)\n",
    "print(idx)\n",
    "print(events.GenPart.hasFlags(['fromHardProcess','isFirstCopy'])[1][idx])\n",
    "print(events.GenPart.status[1][idx][flags])\n",
    "print(genQ.counts[1])\n",
    "print(genM.counts[1])\n",
    "print(genE.counts[1])\n",
    "print(genW.counts[1])\n",
    "print(~ishWW_qqmuv[1])\n",
    "print(~ishWW_qqqq[1])\n",
    "print(((~ishWW_qqqq) & (~ishWW_qqmuv) & (~ishWW_qqelev) & (~ishWW_muvelev) & (~ishWW_elevelev) & (~ishWW_muvmuv) & (~ishWW_tauvtauv) & (~ishWW_qqtauv)).any())\n",
    "#print(len(events))\n",
    "#124226+ 47877 +48135 +3240 + 6608 + 3344"
   ]
  },
  {
   "cell_type": "markdown",
   "metadata": {},
   "source": [
    "goodFatJet = (\n",
    "    (events.FatJet.pt > 300.)\n",
    "    & (np.abs(events.FatJet.eta) < 2.4)\n",
    "    & (events.FatJet.msoftdrop > 10.)\n",
    "    #& (events.FatJet.jetId & 2)\n",
    "    & (events.FatJet.isTight)\n",
    "            )\n",
    "fatjets = events.FatJet[goodFatJet]\n",
    "ak8_muon_pair = leadingmuon.cross(fatjets)\n",
    "ak8_muon_dR = ak8_muon_pair.i0.delta_r(ak8_muon_pair.i1)\n",
    "closestjet = fatjets[ak8_muon_dR.argmin()]\n",
    "leadingjet = fatjets[:,0:1]\n",
    "\n",
    "closestjet_muon_pair = leadingmuon.cross(closestjet)\n",
    "closestjet_muon_dR = closestjet_muon_pair.i0.delta_r(closestjet_muon_pair.i1)\n",
    "\n",
    "leadingjet_muon_pair = leadingmuon.cross(leadingjet)\n",
    "leadingjet_muon_dR = leadingjet_muon_pair.i0.delta_r(leadingjet_muon_pair.i1)\n",
    "\n",
    "\n",
    "print(len(ak8_muon_dR.min() < 0.8))\n",
    "with np.printoptions(threshold=np.inf):\n",
    "    print(ak8_muon_dR.tolist()[-6])\n",
    "    print(ak8_muon_dR.min().tolist()[-6])\n",
    "    print(ak8_muon_dR.argmin().tolist()[-6])\n",
    "    print(closestjet_muon_dR.tolist()[-6])\n",
    "    print(leadingjet_muon_dR.tolist()[-6])\n",
    "plt.clf();\n",
    "#plt.hist(ak8_muon_dR.flatten(), label='dR all jets');\n",
    "plt.hist(closestjet_muon_dR.flatten(), label='dR closestjet');\n",
    "#plt.hist(leadingjet_muon_dR.flatten(), label='dR leadingjet');\n",
    "plt.show()\n",
    "plt.clf();\n",
    "plt.hist(np.nan_to_num(ak8_muon_dR.min().flatten()), label='dR min all jets');\n",
    "plt.show()\n",
    "plt.clf();"
   ]
  },
  {
   "cell_type": "code",
   "execution_count": null,
   "metadata": {},
   "outputs": [],
   "source": [
    "print(closestjet[-2])\n",
    "print(leadingjet[-2])\n",
    "print(ak8_muon_dR.argmin()[-2])\n",
    "print(goodFatJet)\n",
    "print(events.FatJet[goodFatJet].eta)\n",
    "print(np.abs(events.FatJet.eta))\n",
    "print(np.abs(events.FatJet.eta) < 2.4)\n",
    "print(events.FatJet.msoftdrop > 10)\n",
    "print((np.abs(events.FatJet.eta) < 2.4) & (events.FatJet.msoftdrop > 10))\n",
    "print(events.FatJet.pt > 300.)\n",
    "print((np.abs(events.FatJet.eta) < 2.4) & (events.FatJet.msoftdrop > 10) & (events.FatJet.pt > 300.))\n",
    "print((events.FatJet.jetId & 2))\n",
    "print(events.FatJet[(np.abs(events.FatJet.eta) < 2.4) & (events.FatJet.msoftdrop > 10) & (events.FatJet.pt > 300.)].eta)\n",
    "print(events.FatJet[(np.abs(events.FatJet.eta) < 2.4) & (events.FatJet.msoftdrop > 10)].eta)\n",
    "print(events.FatJet[events.FatJet.msoftdrop > 10].eta)"
   ]
  },
  {
   "cell_type": "code",
   "execution_count": null,
   "metadata": {},
   "outputs": [],
   "source": [
    "print(ak8_muon_dR,ak8_muon_dR.min(),ak8_muon_dR.argmin())\n",
    "print(ak8_muon_pair)\n",
    "print(closestjet_muon_pair)\n",
    "print(closestjet_muon_dR)\n",
    "print(ak8_muon_dR)\n",
    "plt.clf();\n",
    "#plt.hist(ak8_muon_dR.flatten(), label='dR all jets');\n",
    "#plt.hist(closestjet_muon_dR.flatten(), label='dR closestjet');\n",
    "plt.hist(np.nan_to_num(ak8_muon_dR.min().flatten()), label='dR min all jets');\n",
    "\n",
    "plt.show()\n",
    "plt.clf();\n"
   ]
  },
  {
   "cell_type": "code",
   "execution_count": null,
   "metadata": {},
   "outputs": [],
   "source": []
  },
  {
   "cell_type": "code",
   "execution_count": null,
   "metadata": {},
   "outputs": [],
   "source": [
    "plt.hist(leadingjet.muonIdx3SJ.flatten());\n",
    "plt.show()\n",
    "plt.clf();\n",
    "plt.hist(leadingjet.LSmsoftdrop.flatten(), bins=np.linspace(0, 200, 50), alpha=0.5, label='LS msoftdrop');\n",
    "plt.hist(leadingjet.msoftdrop.flatten(), bins=np.linspace(0, 200, 50), alpha=0.5, label='Jet msoftdrop');\n",
    "plt.hist((leadingjet - leadingmuon).mass.flatten(), bins=np.linspace(0, 200, 50), alpha=0.5, label='Jet - muon mass');\n",
    "plt.gca().legend()"
   ]
  },
  {
   "cell_type": "code",
   "execution_count": null,
   "metadata": {},
   "outputs": [],
   "source": [
    "lscut = (events.CustomAK8Puppi.muonIdx3SJ >= 0)\n",
    "events = events[lscut.any()]\n",
    "lscut = lscut[lscut.any()]\n",
    "ljet = events.CustomAK8Puppi[:,0:1]\n",
    "print(len(ljet.muonIdx3SJ.flatten()))\n",
    "mu = events.Muon[ljet.muonIdx3SJ.flatten()]\n",
    "print(len(mu),len(ljet))\n",
    "print(mu-ljet)\n",
    "from uproot_methods import TLorentzVectorArray\n",
    "\n",
    "leadingjet_p4 = TLorentzVectorArray.from_ptetaphim(ljet.pt, ljet.eta, ljet.phi, ljet.msoftdrop)\n",
    "leadingmuon_p4 = TLorentzVectorArray.from_ptetaphim(mu.pt,mu.eta,mu.phi, mu.mass)\n",
    "print(leadingjet_p4.pad(1, clip=False).flatten())\n",
    "print(leadingmuon_p4.pad(1, clip=False).flatten())\n",
    "mm = (leadingjet_p4 - leadingmuon_p4).mass2\n",
    "\n",
    "#mm = (ljet - mu).mass2\n",
    "print(mm)\n",
    "jmass = (mm>0)*np.sqrt(np.maximum(0, mm)) + (mm<0)*leadingjet.mass\n",
    "print(len(jmass.flatten()))\n",
    "print(len(mu.flatten()))\n",
    "plt.hist2d(jmass.flatten(), mu.pt.flatten(), bins=50);"
   ]
  },
  {
   "cell_type": "code",
   "execution_count": null,
   "metadata": {},
   "outputs": [],
   "source": [
    "(met_p4 + leadingjet).mass"
   ]
  },
  {
   "cell_type": "code",
   "execution_count": null,
   "metadata": {},
   "outputs": [],
   "source": [
    "print(len(events.FatJet.muonIdx3SJ.flatten()))\n",
    "print((events.FatJet.muonIdx3SJ.flatten()>=0).any())\n",
    "lscut = (events.FatJet.muonIdx3SJ >= 0).any()\n",
    "print(events.FatJet[(events.FatJet.muonIdx3SJ >= 0).any()].flatten())\n",
    "print(events.FatJet.muonIdx3SJ.flatten())\n",
    "newevents = events[lscut.any()]\n",
    "lscut = lscut[lscut.any()]\n",
    "jet = newevents.FatJet[lscut]\n",
    "print((events.FatJet.muonIdx3SJ >= 0).any())\n",
    "print(jet)\n",
    "\n",
    "print(events.FatJet[:,0:1])\n",
    "mu = events.Muon[events.FatJet[:,0:1].array.muonIdx3SJ]\n",
    "mm = (leadingjet - mu).mass2"
   ]
  },
  {
   "cell_type": "code",
   "execution_count": null,
   "metadata": {},
   "outputs": [],
   "source": [
    "print(events.run)"
   ]
  },
  {
   "cell_type": "code",
   "execution_count": null,
   "metadata": {},
   "outputs": [],
   "source": []
  }
 ],
 "metadata": {
  "kernelspec": {
   "display_name": "Python 3",
   "language": "python",
   "name": "python3"
  },
  "language_info": {
   "codemirror_mode": {
    "name": "ipython",
    "version": 3
   },
   "file_extension": ".py",
   "mimetype": "text/x-python",
   "name": "python",
   "nbconvert_exporter": "python",
   "pygments_lexer": "ipython3",
   "version": "3.6.4"
  }
 },
 "nbformat": 4,
 "nbformat_minor": 2
}
