{
 "cells": [
  {
   "cell_type": "markdown",
   "metadata": {},
   "source": [
    "# Exploring tautau signal files with coffea\n",
    "\n",
    "In this notebook we explore how to make selections on our signal file and match the reconstructed objects (jets, electrons, muons, etc) to our generator level information (from the simulation).\n",
    "\n",
    "We first download one file from a simulated signal dataset (Higgs to tau-tau):\n",
    "\n",
    "```\n",
    "mkdir data/\n",
    "scp -r cmslpc-sl7.fnal.gov:/eos/uscms/store/user/lpcdihiggsboost/cmantill/PFNano/2017_UL_ak15/GluGluHToTauTau_M125_TuneCP5_13TeV-powheg-pythia8/RunIISummer20UL17Jun23-106X_mc2017_realistic_v9-v3/210629_192831/0000/nano_mc2017_93.root data/nano_mc2017_93.root \n",
    "```"
   ]
  },
  {
   "cell_type": "markdown",
   "metadata": {},
   "source": [
    "Then, we import some libraries:"
   ]
  },
  {
   "cell_type": "code",
   "execution_count": 1,
   "metadata": {},
   "outputs": [],
   "source": [
    "import awkward as ak\n",
    "from coffea.nanoevents import NanoEventsFactory, NanoAODSchema\n",
    "from coffea.nanoevents.methods import candidate, vector\n",
    "\n",
    "# we suppress ROOT warnings where our input ROOT tree has duplicate branches - these are handled correctly.\n",
    "import warnings\n",
    "warnings.filterwarnings(\"ignore\", message=\"Found duplicate branch \")"
   ]
  },
  {
   "cell_type": "markdown",
   "metadata": {},
   "source": [
    "And we open the file with the coffea `NanoEventsFactory`:"
   ]
  },
  {
   "cell_type": "code",
   "execution_count": 2,
   "metadata": {},
   "outputs": [],
   "source": [
    "fname = \"data/nano_mc2017_93.root\"\n",
    "events = NanoEventsFactory.from_root(fname, schemaclass=NanoAODSchema, entry_stop=10000).events()"
   ]
  },
  {
   "cell_type": "markdown",
   "metadata": {},
   "source": [
    "Now, let's define some requirements on the leptons:"
   ]
  },
  {
   "cell_type": "code",
   "execution_count": 3,
   "metadata": {},
   "outputs": [],
   "source": [
    "# leptons\n",
    "goodmuon = (\n",
    "    (events.Muon.pt > 25)\n",
    "    & (abs(events.Muon.eta) < 2.4)\n",
    "    & events.Muon.mediumId\n",
    ")\n",
    "nmuons = ak.sum(goodmuon, axis=1)\n",
    "lowptmuon = (\n",
    "    (events.Muon.pt > 10)\n",
    "    & (abs(events.Muon.eta) < 2.4)\n",
    "    & events.Muon.looseId\n",
    ")\n",
    "nlowptmuons = ak.sum(lowptmuon, axis=1)\n",
    "            \n",
    "goodelectron = (\n",
    "    (events.Electron.pt > 25)\n",
    "    & (abs(events.Electron.eta) < 2.5)\n",
    "    & (events.Electron.mvaFall17V2noIso_WP80)\n",
    ")\n",
    "nelectrons = ak.sum(goodelectron, axis=1)\n",
    "lowptelectron = (\n",
    "    (events.Electron.pt > 10)\n",
    "    & (abs(events.Electron.eta) < 2.5)\n",
    "    & (events.Electron.cutBased >= events.Electron.LOOSE)\n",
    ")\n",
    "nlowptelectrons = ak.sum(lowptelectron, axis=1)\n",
    "\n",
    "# since events can have more than one lepton (e.g. one high-pT electron and another lower pT muon), \n",
    "# we concatenate electrons and muons in the same array and select the higher-pT lepton (with ak.firsts)\n",
    "goodleptons = ak.concatenate([events.Muon[goodmuon], events.Electron[goodelectron]], axis=1)\n",
    "candidatelep = ak.firsts(goodleptons[ak.argsort(goodleptons.pt)])\n",
    "\n",
    "# when we concatenate we lose the vector properties, so let's build another vector for our candidate lepton\n",
    "candidatelep_p4 = ak.zip(\n",
    "    {\n",
    "        \"pt\": candidatelep.pt,\n",
    "        \"eta\": candidatelep.eta,\n",
    "        \"phi\": candidatelep.phi,\n",
    "        \"mass\": candidatelep.mass,\n",
    "        \"charge\": candidatelep.charge,\n",
    "    },\n",
    "    with_name=\"PtEtaPhiMCandidate\",\n",
    "    behavior=candidate.behavior,\n",
    ")"
   ]
  },
  {
   "cell_type": "markdown",
   "metadata": {},
   "source": [
    "Now, let's take a simple look at the fat-jets (large radius jets). \n",
    "\n",
    "Here, we define a variable `jet_arbitration` which will be used later. This indicates how we order and select our jet. \n",
    "\n",
    "Usually we want the highest pT jet in the collection (`pT` arbitration). However, for our HWW signal, maybe is useful to look at the jet closest to the lepton (`lep` arbitration) or at the jet closest to the missing energy in the event - representing the energy carried away by the neutrino (`met` arbitration)."
   ]
  },
  {
   "cell_type": "code",
   "execution_count": 4,
   "metadata": {},
   "outputs": [],
   "source": [
    "jet_arbitration = 'met'\n",
    "\n",
    "# let's define a collection of jets (with a pT threshold of 200 GeV)\n",
    "fatjets = events.FatJet\n",
    "candidatefj = fatjets[\n",
    "    (fatjets.pt > 200)\n",
    "]\n",
    "\n",
    "# we take the Missing Transverse Energy MET from the event, and define the angular distance (delta_phi) of the MET with the jets\n",
    "met = events.MET\n",
    "dphi_met_fj = abs(candidatefj.delta_phi(met))\n",
    "\n",
    "# here we define the angular distance (or maybe conical distance - in R) of the jets with the candidate lepton we chose above\n",
    "dr_lep_fj = candidatefj.delta_r(candidatelep_p4)\n",
    "\n",
    "# then we take the first jet (in something: pT, dR. w lepton, dphi w. MET...)\n",
    "# we make use of the function ak.argmin that returns the index of the object that satistifies the minimum value (could also use ak.argmax)\n",
    "# once we get that index, we use it to select our candidate jet\n",
    "# (keepDims = True helps to keep the arrays dimensions)\n",
    "if jet_arbitration == 'pt':\n",
    "    candidatefj = ak.firsts(candidatefj)\n",
    "elif jet_arbitration == 'met':\n",
    "    candidatefj = ak.firsts(candidatefj[ak.argmin(dphi_met_fj,axis=1,keepdims=True)])\n",
    "elif jet_arbitration == 'lep':\n",
    "    candidatefj = ak.firsts(candidatefj[ak.argmin(dr_lep_fj,axis=1,keepdims=True)])\n",
    "else:\n",
    "    raise RuntimeError(\"Unknown candidate jet arbitration\")"
   ]
  },
  {
   "cell_type": "markdown",
   "metadata": {},
   "source": [
    "Note, that some of these variables will be `None` for many events, i.e. what if an event does not have jets with high pT (which happens a lot in this dataset) or if an event does not have any leptons inside.\n",
    "\n",
    "To track that we are doing the correct thing we can take a look at one event by selecting that event in brackets (events are alwasy in the first axis of an array), i.e.:"
   ]
  },
  {
   "cell_type": "code",
   "execution_count": 5,
   "metadata": {},
   "outputs": [
    {
     "data": {
      "text/plain": [
       "<Array [[], [], [], [], ... [], [214, 197], []] type='10000 * var * float32[para...'>"
      ]
     },
     "execution_count": 5,
     "metadata": {},
     "output_type": "execute_result"
    }
   ],
   "source": [
    "# first we print the fatjets pt (note that here is the whole collection)\n",
    "fatjets.pt"
   ]
  },
  {
   "cell_type": "code",
   "execution_count": 6,
   "metadata": {},
   "outputs": [
    {
     "data": {
      "text/plain": [
       "<Array [736, 376] type='2 * float32[parameters={\"__doc__\": \"pt\"}]'>"
      ]
     },
     "execution_count": 6,
     "metadata": {},
     "output_type": "execute_result"
    }
   ],
   "source": [
    "# you notice that for many of those events the array is empty..\n",
    "# then we choose event 234 (which we know it has a fatjet - to see this you can just print the uproot tree above and see the columns)\n",
    "evtid = 3767\n",
    "fatjets.pt[evtid]"
   ]
  },
  {
   "cell_type": "code",
   "execution_count": 7,
   "metadata": {},
   "outputs": [
    {
     "data": {
      "text/plain": [
       "376.25"
      ]
     },
     "execution_count": 7,
     "metadata": {},
     "output_type": "execute_result"
    }
   ],
   "source": [
    "# we have two fatjets apparently, now we can see which of those our jet arbitration chose:\n",
    "candidatefj.pt[evtid]"
   ]
  },
  {
   "cell_type": "code",
   "execution_count": 8,
   "metadata": {},
   "outputs": [
    {
     "name": "stdout",
     "output_type": "stream",
     "text": [
      "[2.71, 0.437]\n",
      "None\n"
     ]
    }
   ],
   "source": [
    "# it seems to have chosen the jet with higher pT here\n",
    "# let's print for curiosity the values of the dR of the lep and fatjets and the dPhi of the MET and fat jets\n",
    "# note, that if we have two things to print we better use the print function\n",
    "print(dphi_met_fj[evtid])\n",
    "print(dr_lep_fj[evtid])"
   ]
  },
  {
   "cell_type": "markdown",
   "metadata": {},
   "source": [
    "Now, let's play with another collection in the event, the `GenParticles`.\n",
    "These can be obtained with the `events.GenPart` collection.\n",
    "First, we need a function that will select given particles according to their particle ID (pdgID), or the flags of the process:"
   ]
  },
  {
   "cell_type": "code",
   "execution_count": 9,
   "metadata": {},
   "outputs": [],
   "source": [
    "# this function will return us the particle objects that satisfy a low id, high id condition and have certain flags\n",
    "def getParticles(genparticles,lowid=22,highid=25,flags=['fromHardProcess', 'isLastCopy']):\n",
    "    absid = abs(genparticles.pdgId)\n",
    "    return genparticles[\n",
    "        ((absid >= lowid) & (absid <= highid))\n",
    "        & genparticles.hasFlags(flags)\n",
    "    ]"
   ]
  },
  {
   "cell_type": "code",
   "execution_count": 10,
   "metadata": {},
   "outputs": [
    {
     "name": "stderr",
     "output_type": "stream",
     "text": [
      "/Users/cmantill/miniconda3/envs/hww/lib/python3.7/site-packages/numba/core/dispatcher.py:238: UserWarning: Numba extension module 'awkward1._connect._numba' failed to load due to 'ImportError(generic_type: type \"kernel_lib\" is already registered!)'.\n",
      "  entrypoints.init_all()\n"
     ]
    }
   ],
   "source": [
    "# first let's get all the higgs bosons in the event (pdgID=25)\n",
    "higgs = getParticles(events.GenPart,25)\n",
    "\n",
    "# make a mask to select all Higgs bosons that decay into taus (pdgID=15) by looking at the children.pdgId\n",
    "is_htt = ak.all(abs(higgs.children.pdgId)==15,axis=2)\n",
    "\n",
    "# now let's select our higgs to be all tau-tau decays\n",
    "higgs = higgs[is_htt]"
   ]
  },
  {
   "cell_type": "code",
   "execution_count": 11,
   "metadata": {},
   "outputs": [
    {
     "name": "stdout",
     "output_type": "stream",
     "text": [
      "[[[15, -15]], [[15, -15]], [[15, -15]], ... [[15, -15]], [[15, -15]], [[15, -15]]]\n"
     ]
    }
   ],
   "source": [
    "# now let's look at it's children\n",
    "# we will have two tau-s as children\n",
    "print(higgs.children.pdgId)"
   ]
  },
  {
   "cell_type": "code",
   "execution_count": 12,
   "metadata": {},
   "outputs": [],
   "source": [
    "# let's look at electrons, muons coming from taus\n",
    "fromtau_electron = getParticles(events.GenPart,11,11,['isDirectTauDecayProduct'])\n",
    "fromtau_muon = getParticles(events.GenPart,13,13,['isDirectTauDecayProduct'])\n",
    "\n",
    "# now we count the number of gen particles \n",
    "n_electrons_fromtaus = ak.sum(fromtau_electron.pt>0,axis=1)\n",
    "n_muons_fromtaus = ak.sum(fromtau_muon.pt>0,axis=1)"
   ]
  },
  {
   "cell_type": "markdown",
   "metadata": {},
   "source": [
    "We can take a look at what these variables look like for our event:"
   ]
  },
  {
   "cell_type": "code",
   "execution_count": 13,
   "metadata": {},
   "outputs": [
    {
     "name": "stdout",
     "output_type": "stream",
     "text": [
      "n electrons  0\n",
      "n muons  0\n"
     ]
    }
   ],
   "source": [
    "print('n electrons ',n_electrons_fromtaus[evtid])\n",
    "print('n muons ',n_muons_fromtaus[evtid])"
   ]
  },
  {
   "cell_type": "code",
   "execution_count": 14,
   "metadata": {},
   "outputs": [
    {
     "name": "stdout",
     "output_type": "stream",
     "text": [
      "n visible taus 2\n"
     ]
    }
   ],
   "source": [
    "# now let's pick the visible gen taus\n",
    "tau_visible = events.GenVisTau\n",
    "n_visibletaus = ak.sum(tau_visible.pt>0,axis=1)\n",
    "print('n visible taus',n_visibletaus[evtid])"
   ]
  },
  {
   "cell_type": "code",
   "execution_count": 16,
   "metadata": {},
   "outputs": [],
   "source": [
    "# we can distinguish the tau-tau decay by:\n",
    "# 1: had - had: 2 visible taus, 0 electrons 0 muons\n",
    "# 8: ele - had: 1 visible tau, 1 electron 0 muons\n",
    "# 10: muon - had: 1 visible tau, 1 muon 0 electrons\n",
    "\n",
    "htt_flavor = (n_visibletaus==2)*1 + (n_visibletaus==1)*3 + (n_electrons_fromtaus==1)*5 & (n_muons_fromtaus==1)*7"
   ]
  },
  {
   "cell_type": "code",
   "execution_count": 17,
   "metadata": {},
   "outputs": [
    {
     "data": {
      "text/plain": [
       "1"
      ]
     },
     "execution_count": 17,
     "metadata": {},
     "output_type": "execute_result"
    }
   ],
   "source": [
    "htt_flavor[evtid]"
   ]
  },
  {
   "cell_type": "markdown",
   "metadata": {},
   "source": [
    "Now, we also need to guarantee that both of the taus are inside of the jet cone"
   ]
  },
  {
   "cell_type": "code",
   "execution_count": 18,
   "metadata": {},
   "outputs": [],
   "source": [
    "# since our jet has a cone size of 0.8, we use 0.8 as a dR threshold\n",
    "matchedH = candidatefj.nearest(higgs, axis=1, threshold=0.8)\n",
    "\n",
    "dr_fj_visibletaus = candidatefj.delta_r(tau_visible)\n",
    "dr_fj_electrons = candidatefj.delta_r(fromtau_electron)\n",
    "dr_fj_muons = candidatefj.delta_r(fromtau_muon)\n",
    "\n",
    "dr_daughters = ak.concatenate([dr_fj_visibletaus,dr_fj_electrons,dr_fj_muons],axis=1)"
   ]
  },
  {
   "cell_type": "markdown",
   "metadata": {},
   "source": [
    "Let's see how these arrays look for our event:"
   ]
  },
  {
   "cell_type": "code",
   "execution_count": 19,
   "metadata": {},
   "outputs": [
    {
     "name": "stdout",
     "output_type": "stream",
     "text": [
      "dr taus  [0.219, 0.642]\n",
      "dr electrons  []\n",
      "dr muons  []\n",
      "dr daus  [0.219, 0.642]\n",
      "number of daus matched  2\n"
     ]
    }
   ],
   "source": [
    "print('dr taus ',dr_fj_visibletaus[evtid])\n",
    "print('dr electrons ',dr_fj_electrons[evtid])\n",
    "print('dr muons ',dr_fj_muons[evtid])\n",
    "print('dr daus ',dr_daughters[evtid])\n",
    "print('number of daus matched ',ak.sum(dr_daughters<0.8,axis=1)[evtid])"
   ]
  },
  {
   "cell_type": "markdown",
   "metadata": {},
   "source": [
    "Finally let's define a last matching condition indicating the number of visible daughters it is matched to:"
   ]
  },
  {
   "cell_type": "code",
   "execution_count": 21,
   "metadata": {},
   "outputs": [],
   "source": [
    "htt_nprongs = ak.sum(dr_daughters<0.8,axis=1)"
   ]
  },
  {
   "cell_type": "code",
   "execution_count": 22,
   "metadata": {},
   "outputs": [
    {
     "data": {
      "text/plain": [
       "2"
      ]
     },
     "execution_count": 22,
     "metadata": {},
     "output_type": "execute_result"
    }
   ],
   "source": [
    "htt_nprongs[evtid]"
   ]
  },
  {
   "cell_type": "markdown",
   "metadata": {},
   "source": [
    "Now let's define a function you can use in the processor"
   ]
  },
  {
   "cell_type": "code",
   "execution_count": 24,
   "metadata": {},
   "outputs": [],
   "source": [
    "def match_Htt(genparticles,candidatefj):\n",
    "    higgs = getParticles(genparticles,25)\n",
    "    is_htt = ak.all(abs(higgs.children.pdgId)==15,axis=2)\n",
    "\n",
    "    higgs = higgs[is_htt]\n",
    "    \n",
    "    fromtau_electron = getParticles(events.GenPart,11,11,['isDirectTauDecayProduct'])\n",
    "    fromtau_muon = getParticles(events.GenPart,13,13,['isDirectTauDecayProduct'])\n",
    "    tau_visible = events.GenVisTau\n",
    "    \n",
    "    n_visibletaus = ak.sum(tau_visible.pt>0,axis=1)\n",
    "    n_electrons_fromtaus = ak.sum(fromtau_electron.pt>0,axis=1)\n",
    "    n_muons_fromtaus = ak.sum(fromtau_muon.pt>0,axis=1)\n",
    "    # 3(elenuqq),6(munuqq),8(taunuqq)\n",
    "    htt_flavor = (n_quarks==2)*1 + (n_electrons==1)*3 + (n_muons==1)*5 + (n_taus==1)*7\n",
    "\n",
    "    matchedH = candidatefj.nearest(higgs, axis=1, threshold=0.8)\n",
    "    dr_fj_visibletaus = candidatefj.delta_r(tau_visible)\n",
    "    dr_fj_electrons = candidatefj.delta_r(fromtau_electron)\n",
    "    dr_fj_muons = candidatefj.delta_r(fromtau_muon)\n",
    "    dr_daughters = ak.concatenate([dr_fj_visibletaus,dr_fj_electrons,dr_fj_muons],axis=1)\n",
    "    # 1 (H only), 4 (H and one tau/electron or muon from tau), 5 (H and 2 taus/ele)\n",
    "    htt_matched = (ak.sum(matchedH.pt>0,axis=1)==1)*1 + (ak.sum(dr_daughters<0.8,axis=1)==1)*3 + (ak.sum(dr_daughters<0.8,axis=1)==2)*5 \n",
    "    \n",
    "    return htt_flavor,htt_matched"
   ]
  },
  {
   "cell_type": "code",
   "execution_count": null,
   "metadata": {},
   "outputs": [],
   "source": []
  }
 ],
 "metadata": {
  "kernelspec": {
   "display_name": "Python 3",
   "language": "python",
   "name": "python3"
  },
  "language_info": {
   "codemirror_mode": {
    "name": "ipython",
    "version": 3
   },
   "file_extension": ".py",
   "mimetype": "text/x-python",
   "name": "python",
   "nbconvert_exporter": "python",
   "pygments_lexer": "ipython3",
   "version": "3.7.9"
  }
 },
 "nbformat": 4,
 "nbformat_minor": 4
}
