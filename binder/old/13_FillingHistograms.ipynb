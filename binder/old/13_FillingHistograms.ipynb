{
 "cells": [
  {
   "cell_type": "code",
   "execution_count": 48,
   "metadata": {},
   "outputs": [],
   "source": [
    "import awkward as ak\n",
    "import numpy as np\n",
    "import pandas as pd\n",
    "import json\n",
    "import os\n",
    "import shutil\n",
    "import pathlib\n",
    "from typing import List, Optional\n",
    "\n",
    "from coffea import processor\n",
    "from coffea.nanoevents.methods import candidate, vector\n",
    "from coffea.analysis_tools import Weights, PackedSelection\n",
    "\n",
    "import warnings\n",
    "warnings.filterwarnings(\"ignore\", message=\"Found duplicate branch \")\n",
    "\n",
    "import pyarrow as pa\n",
    "import pyarrow.parquet as pq\n",
    "import pickle as pkl"
   ]
  },
  {
   "cell_type": "code",
   "execution_count": 49,
   "metadata": {},
   "outputs": [],
   "source": [
    "# # from coffea casa\n",
    "# import uproot\n",
    "# f = uproot.open('root://xcache//store/mc/RunIISummer19UL17NanoAODv2/GluGluHToWWToLNuQQ_M125_TuneCP5_PSweight_13TeV-powheg2-jhugen727-pythia8/NANOAODSIM/106X_mc2017_realistic_v8-v1/250000/13D6BBD5-89E3-8647-AED6-FB5DFAAF4C8C.root:Events')\n",
    "# f.num_entries   ### checks number of events"
   ]
  },
  {
   "cell_type": "code",
   "execution_count": 50,
   "metadata": {},
   "outputs": [],
   "source": [
    "# import uproot\n",
    "# sample = \"GluGluHToWWToLNuQQ_M125_TuneCP5_PSweight_13TeV-powheg2-jhugen727-pythia8\"\n",
    "# for i in range(len(fileset[sample])):\n",
    "#     f = uproot.open(fileset[sample][i])\n",
    "#     num = f['Events'].num_entries   ### checks number of events per file        \n",
    "#     print('number of events in file', i, 'is', num)"
   ]
  },
  {
   "cell_type": "code",
   "execution_count": 94,
   "metadata": {},
   "outputs": [],
   "source": [
    "### load result of 2 jobs\n",
    "sample = 'GluGluHToWWToLNuQQ_M125_TuneCP5_PSweight_13TeV-powheg2-jhugen727-pythia8'\n",
    "year = '2017'\n",
    "num_jobs = 2\n",
    "sum_sumgenweight = {}\n",
    "sum_sumgenweight[sample] = 0\n",
    "channels = ['ele', 'mu', 'had']\n",
    "data_all = {}\n",
    "\n",
    "\n",
    "for ch in channels:\n",
    "    for i in range(num_jobs):\n",
    "        tmp = pq.read_table(f'./outfiles/{i}-{i+1}_{ch}.parquet')\n",
    "        tmp = tmp.to_pandas()\n",
    "        if i==0:\n",
    "            data = tmp\n",
    "        else:\n",
    "            data = pd.concat([data,tmp], ignore_index=True)\n",
    "\n",
    "    data_all[ch] = data    \n",
    "    # load and sum the sumgenweight of each\n",
    "    with open(f'./outfiles/{i}-{i+1}.pkl', 'rb') as f:\n",
    "        metadata = pkl.load(f)\n",
    "    sum_sumgenweight[sample] = sum_sumgenweight[sample] + metadata[sample][year]['sumgenweight']"
   ]
  },
  {
   "cell_type": "code",
   "execution_count": 99,
   "metadata": {},
   "outputs": [
    {
     "data": {
      "text/plain": [
       "dict_keys(['ele', 'mu', 'had'])"
      ]
     },
     "execution_count": 99,
     "metadata": {},
     "output_type": "execute_result"
    }
   ],
   "source": [
    "data_all.keys()"
   ]
  },
  {
   "cell_type": "code",
   "execution_count": 66,
   "metadata": {},
   "outputs": [],
   "source": [
    "xsec = {}\n",
    "xsec[sample] = 2\n",
    "\n",
    "luminosity = {}\n",
    "luminosity[year] = 3\n",
    "\n",
    "xsec_weight = {}\n",
    "xsec_weight[sample] = (xsec[sample] * luminosity[year])/ (sum_sumgenweight[sample])"
   ]
  },
  {
   "cell_type": "markdown",
   "metadata": {},
   "source": [
    "## Make histograms"
   ]
  },
  {
   "cell_type": "code",
   "execution_count": 103,
   "metadata": {},
   "outputs": [],
   "source": [
    "### for leptonic channel\n",
    "leppt = {}\n",
    "for ch in ['ele', 'mu']:\n",
    "    leppt[ch] = data_all[ch]['lepton_pt'].to_numpy()"
   ]
  },
  {
   "cell_type": "code",
   "execution_count": 106,
   "metadata": {},
   "outputs": [
    {
     "data": {
      "text/html": [
       "<html>\n",
       "<div style=\"display:flex; align-items:center;\">\n",
       "<div style=\"width:290px;\">\n",
       "<svg xmlns=\"http://www.w3.org/2000/svg\" viewBox=\"-20 -270 290 290\">\n",
       "<text text-anchor=\"middle\" x=\"0\" y=\"13\" style=\"fill:currentColor;\">\n",
       "0\n",
       "</text>\n",
       "<text text-anchor=\"middle\" x=\"250\" y=\"13\" style=\"fill:currentColor;\">\n",
       "2\n",
       "</text>\n",
       "<text text-anchor=\"middle\" x=\"-10\" y=\"0\" style=\"fill:currentColor;\">\n",
       "10\n",
       "</text>\n",
       "<text text-anchor=\"middle\" x=\"-10\" y=\"-250\" style=\"fill:currentColor;\">\n",
       "400\n",
       "</text>\n",
       "<text text-anchor=\"middle\" x=\"125.0\" y=\"13\" style=\"fill:currentColor;\">\n",
       "channel\n",
       "</text>\n",
       "<text text-anchor=\"middle\" x=\"-10\" y=\"-125.0\" transform=\"rotate(-90,-10,-125.0)\" style=\"fill:currentColor;\">\n",
       "Lepton $p_T$ [GeV]\n",
       "</text>\n",
       "<rect x=\"0.0\" y=\"-10.0\" width=\"125.0\" height=\"10.0\" opacity=\"0.0\" fill=\"currentColor\" stroke-width=\"0.1\"/>\n",
       "<rect x=\"125.0\" y=\"-10.0\" width=\"125.0\" height=\"10.0\" opacity=\"0.0\" fill=\"currentColor\" stroke-width=\"0.1\"/>\n",
       "<rect x=\"0.0\" y=\"-20.0\" width=\"125.0\" height=\"10.0\" opacity=\"0.045454545454545484\" fill=\"currentColor\" stroke-width=\"0.1\"/>\n",
       "<rect x=\"125.0\" y=\"-20.0\" width=\"125.0\" height=\"10.0\" opacity=\"0.3238636363636365\" fill=\"currentColor\" stroke-width=\"0.1\"/>\n",
       "<rect x=\"0.0\" y=\"-30.0\" width=\"125.0\" height=\"10.0\" opacity=\"0.38068181818181857\" fill=\"currentColor\" stroke-width=\"0.1\"/>\n",
       "<rect x=\"125.0\" y=\"-30.0\" width=\"125.0\" height=\"10.0\" opacity=\"0.607954545454546\" fill=\"currentColor\" stroke-width=\"0.1\"/>\n",
       "<rect x=\"0.0\" y=\"-40.0\" width=\"125.0\" height=\"10.0\" opacity=\"0.3863636363636364\" fill=\"currentColor\" stroke-width=\"0.1\"/>\n",
       "<rect x=\"125.0\" y=\"-40.0\" width=\"125.0\" height=\"10.0\" opacity=\"1.0\" fill=\"currentColor\" stroke-width=\"0.1\"/>\n",
       "<rect x=\"0.0\" y=\"-50.0\" width=\"125.0\" height=\"10.0\" opacity=\"0.37500000000000033\" fill=\"currentColor\" stroke-width=\"0.1\"/>\n",
       "<rect x=\"125.0\" y=\"-50.0\" width=\"125.0\" height=\"10.0\" opacity=\"0.8750000000000008\" fill=\"currentColor\" stroke-width=\"0.1\"/>\n",
       "<rect x=\"0.0\" y=\"-60.0\" width=\"125.0\" height=\"10.0\" opacity=\"0.3409090909090912\" fill=\"currentColor\" stroke-width=\"0.1\"/>\n",
       "<rect x=\"125.0\" y=\"-60.0\" width=\"125.0\" height=\"10.0\" opacity=\"0.8522727272727281\" fill=\"currentColor\" stroke-width=\"0.1\"/>\n",
       "<rect x=\"0.0\" y=\"-70.0\" width=\"125.0\" height=\"10.0\" opacity=\"0.3124999999999997\" fill=\"currentColor\" stroke-width=\"0.1\"/>\n",
       "<rect x=\"125.0\" y=\"-70.0\" width=\"125.0\" height=\"10.0\" opacity=\"0.7840909090909084\" fill=\"currentColor\" stroke-width=\"0.1\"/>\n",
       "<rect x=\"0.0\" y=\"-80.0\" width=\"125.0\" height=\"10.0\" opacity=\"0.4715909090909095\" fill=\"currentColor\" stroke-width=\"0.1\"/>\n",
       "<rect x=\"125.0\" y=\"-80.0\" width=\"125.0\" height=\"10.0\" opacity=\"0.6818181818181824\" fill=\"currentColor\" stroke-width=\"0.1\"/>\n",
       "<rect x=\"0.0\" y=\"-90.00000000000001\" width=\"125.0\" height=\"10.0\" opacity=\"0.4090909090909095\" fill=\"currentColor\" stroke-width=\"0.1\"/>\n",
       "<rect x=\"125.0\" y=\"-90.00000000000001\" width=\"125.0\" height=\"10.0\" opacity=\"0.579545454545455\" fill=\"currentColor\" stroke-width=\"0.1\"/>\n",
       "<rect x=\"0.0\" y=\"-100.0\" width=\"125.0\" height=\"10.0\" opacity=\"0.3011363636363639\" fill=\"currentColor\" stroke-width=\"0.1\"/>\n",
       "<rect x=\"125.0\" y=\"-100.0\" width=\"125.0\" height=\"10.0\" opacity=\"0.35227272727272757\" fill=\"currentColor\" stroke-width=\"0.1\"/>\n",
       "<rect x=\"0.0\" y=\"-110.0\" width=\"125.0\" height=\"10.0\" opacity=\"0.15340909090909105\" fill=\"currentColor\" stroke-width=\"0.1\"/>\n",
       "<rect x=\"125.0\" y=\"-110.0\" width=\"125.0\" height=\"10.0\" opacity=\"0.35227272727272757\" fill=\"currentColor\" stroke-width=\"0.1\"/>\n",
       "<rect x=\"0.0\" y=\"-120.0\" width=\"125.0\" height=\"10.0\" opacity=\"0.1704545454545456\" fill=\"currentColor\" stroke-width=\"0.1\"/>\n",
       "<rect x=\"125.0\" y=\"-120.0\" width=\"125.0\" height=\"10.0\" opacity=\"0.2500000000000002\" fill=\"currentColor\" stroke-width=\"0.1\"/>\n",
       "<rect x=\"0.0\" y=\"-130.0\" width=\"125.0\" height=\"10.0\" opacity=\"0.056818181818181775\" fill=\"currentColor\" stroke-width=\"0.1\"/>\n",
       "<rect x=\"125.0\" y=\"-130.0\" width=\"125.0\" height=\"10.0\" opacity=\"0.13068181818181807\" fill=\"currentColor\" stroke-width=\"0.1\"/>\n",
       "<rect x=\"0.0\" y=\"-140.0\" width=\"125.0\" height=\"10.0\" opacity=\"0.08522727272727265\" fill=\"currentColor\" stroke-width=\"0.1\"/>\n",
       "<rect x=\"125.0\" y=\"-140.0\" width=\"125.0\" height=\"10.0\" opacity=\"0.08522727272727265\" fill=\"currentColor\" stroke-width=\"0.1\"/>\n",
       "<rect x=\"0.0\" y=\"-150.0\" width=\"125.0\" height=\"10.0\" opacity=\"0.06250000000000017\" fill=\"currentColor\" stroke-width=\"0.1\"/>\n",
       "<rect x=\"125.0\" y=\"-150.0\" width=\"125.0\" height=\"10.0\" opacity=\"0.07386363636363656\" fill=\"currentColor\" stroke-width=\"0.1\"/>\n",
       "<rect x=\"0.0\" y=\"-160.0\" width=\"125.0\" height=\"10.0\" opacity=\"0.028409090909090887\" fill=\"currentColor\" stroke-width=\"0.1\"/>\n",
       "<rect x=\"125.0\" y=\"-160.0\" width=\"125.0\" height=\"10.0\" opacity=\"0.062499999999999944\" fill=\"currentColor\" stroke-width=\"0.1\"/>\n",
       "<rect x=\"0.0\" y=\"-169.99999999999997\" width=\"125.0\" height=\"10.0\" opacity=\"0.028409090909090988\" fill=\"currentColor\" stroke-width=\"0.1\"/>\n",
       "<rect x=\"125.0\" y=\"-169.99999999999997\" width=\"125.0\" height=\"10.0\" opacity=\"0.03977272727272738\" fill=\"currentColor\" stroke-width=\"0.1\"/>\n",
       "<rect x=\"0.0\" y=\"-180.00000000000003\" width=\"125.0\" height=\"10.0\" opacity=\"0.01704545454545453\" fill=\"currentColor\" stroke-width=\"0.1\"/>\n",
       "<rect x=\"125.0\" y=\"-180.00000000000003\" width=\"125.0\" height=\"10.0\" opacity=\"0.011363636363636354\" fill=\"currentColor\" stroke-width=\"0.1\"/>\n",
       "<rect x=\"0.0\" y=\"-189.99999999999997\" width=\"125.0\" height=\"10.0\" opacity=\"0.005681818181818198\" fill=\"currentColor\" stroke-width=\"0.1\"/>\n",
       "<rect x=\"125.0\" y=\"-189.99999999999997\" width=\"125.0\" height=\"10.0\" opacity=\"0.028409090909090988\" fill=\"currentColor\" stroke-width=\"0.1\"/>\n",
       "<rect x=\"0.0\" y=\"-200.0\" width=\"125.0\" height=\"10.0\" opacity=\"0.005681818181818177\" fill=\"currentColor\" stroke-width=\"0.1\"/>\n",
       "<rect x=\"125.0\" y=\"-200.0\" width=\"125.0\" height=\"10.0\" opacity=\"0.005681818181818177\" fill=\"currentColor\" stroke-width=\"0.1\"/>\n",
       "<rect x=\"0.0\" y=\"-210.00000000000003\" width=\"125.0\" height=\"10.0\" opacity=\"0.005681818181818177\" fill=\"currentColor\" stroke-width=\"0.1\"/>\n",
       "<rect x=\"125.0\" y=\"-210.00000000000003\" width=\"125.0\" height=\"10.0\" opacity=\"0.011363636363636354\" fill=\"currentColor\" stroke-width=\"0.1\"/>\n",
       "<rect x=\"0.0\" y=\"-220.0\" width=\"125.0\" height=\"10.0\" opacity=\"0.005681818181818198\" fill=\"currentColor\" stroke-width=\"0.1\"/>\n",
       "<rect x=\"125.0\" y=\"-220.0\" width=\"125.0\" height=\"10.0\" opacity=\"0.005681818181818198\" fill=\"currentColor\" stroke-width=\"0.1\"/>\n",
       "<rect x=\"0.0\" y=\"-230.0\" width=\"125.0\" height=\"10.0\" opacity=\"0.011363636363636354\" fill=\"currentColor\" stroke-width=\"0.1\"/>\n",
       "<rect x=\"125.0\" y=\"-230.0\" width=\"125.0\" height=\"10.0\" opacity=\"0.0\" fill=\"currentColor\" stroke-width=\"0.1\"/>\n",
       "<rect x=\"0.0\" y=\"-240.0\" width=\"125.0\" height=\"10.0\" opacity=\"0.005681818181818198\" fill=\"currentColor\" stroke-width=\"0.1\"/>\n",
       "<rect x=\"125.0\" y=\"-240.0\" width=\"125.0\" height=\"10.0\" opacity=\"0.011363636363636395\" fill=\"currentColor\" stroke-width=\"0.1\"/>\n",
       "<rect x=\"0.0\" y=\"-250.0\" width=\"125.0\" height=\"10.0\" opacity=\"0.0\" fill=\"currentColor\" stroke-width=\"0.1\"/>\n",
       "<rect x=\"125.0\" y=\"-250.0\" width=\"125.0\" height=\"10.0\" opacity=\"0.0\" fill=\"currentColor\" stroke-width=\"0.1\"/>\n",
       "</svg>\n",
       "</div>\n",
       "<div style=\"flex=grow:1;\">\n",
       "StrCategory(['ele', 'mu'], growth=True, name='channel', label='channel')<br/>\n",
       "Regular(25, 10, 400, name='leppt', label='Lepton $p_T$ [GeV]')<br/>\n",
       "<hr style=\"margin-top:.2em; margin-bottom:.2em;\"/>\n",
       "Double() Σ=1899.0 <em>(1902.0 with flow)</em>\n",
       "\n",
       "</div>\n",
       "</div>\n",
       "</html>"
      ],
      "text/plain": [
       "Hist(\n",
       "  StrCategory(['ele', 'mu'], growth=True, name='channel', label='channel'),\n",
       "  Regular(25, 10, 400, name='leppt', label='Lepton $p_T$ [GeV]'),\n",
       "  storage=Double()) # Sum: 1899.0 (1902.0 with flow)"
      ]
     },
     "execution_count": 106,
     "metadata": {},
     "output_type": "execute_result"
    }
   ],
   "source": [
    "# now we can make histograms for higgspt, jetpt, leptonpt\n",
    "import hist as hist2\n",
    "channel_cat = hist2.axis.StrCategory([], name='channel', growth=True)\n",
    "\n",
    "leppt_axis = hist2.axis.Regular(25, 10, 400, name='leppt', label=r'Lepton $p_T$ [GeV]')\n",
    "\n",
    "hists = {}\n",
    "hists = hist2.Hist(\n",
    "                channel_cat,\n",
    "                leppt_axis,\n",
    "            )\n",
    "\n",
    "hists.fill(\n",
    "    channel=\"ele\",\n",
    "    leppt=leppt['ele'],\n",
    ")\n",
    "hists.fill(\n",
    "    channel=\"mu\",\n",
    "    leppt=leppt['mu'],\n",
    ")\n",
    "hists"
   ]
  },
  {
   "cell_type": "code",
   "execution_count": 113,
   "metadata": {},
   "outputs": [
    {
     "data": {
      "image/png": "[encoded data removed]",
      "text/plain": [
       "<Figure size 432x288 with 1 Axes>"
      ]
     },
     "metadata": {
      "needs_background": "light"
     },
     "output_type": "display_data"
    }
   ],
   "source": [
    "# now we plot trigger efficiency as function of jetpt\n",
    "import matplotlib.pyplot as plt\n",
    "import mplhep as hep\n",
    "from hist.intervals import clopper_pearson_interval\n",
    "def get_yerr(num,den):\n",
    "    return abs(clopper_pearson_interval(num.view(), den.view()) - num.view()/den.view())\n",
    "\n",
    "fig, ax = plt.subplots(1, 1)\n",
    "hep.histplot(hists[{\"channel\":\"ele\"}], \n",
    "             # yerr=get_yerr(num_nom),\n",
    "             ax = ax,\n",
    "             # weight = sum_sumgenweight[sample],\n",
    "             # histtype='errorbar', color='red', capsize=4, elinewidth=1, \n",
    "             label=\"electron channel\",\n",
    ")\n",
    "hep.histplot(hists[{\"channel\":\"mu\"}], \n",
    "             # yerr=get_yerr(num_nom),\n",
    "             ax = ax,\n",
    "             # weight = sum_sumgenweight[sample],\n",
    "             # histtype='errorbar', color='red', capsize=4, elinewidth=1, \n",
    "             label=\"muon channel\",\n",
    ")\n",
    "# ax.set_ylim(0,1)\n",
    "ax.legend()\n",
    "plt.savefig('plots/ele_triggers/lol.pdf');"
   ]
  },
  {
   "cell_type": "code",
   "execution_count": null,
   "metadata": {},
   "outputs": [],
   "source": []
  }
 ],
 "metadata": {
  "kernelspec": {
   "display_name": "Python 3",
   "language": "python",
   "name": "python3"
  },
  "language_info": {
   "codemirror_mode": {
    "name": "ipython",
    "version": 3
   },
   "file_extension": ".py",
   "mimetype": "text/x-python",
   "name": "python",
   "nbconvert_exporter": "python",
   "pygments_lexer": "ipython3",
   "version": "3.8.3"
  }
 },
 "nbformat": 4,
 "nbformat_minor": 5
}
