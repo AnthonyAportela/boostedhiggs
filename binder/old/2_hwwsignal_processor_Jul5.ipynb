{
 "cells": [
  {
   "cell_type": "markdown",
   "metadata": {},
   "source": [
    "# Defining the first processor\n",
    "\n",
    "Here we will transform the work done in the first notebook to a processor."
   ]
  },
  {
   "cell_type": "code",
   "execution_count": 1,
   "metadata": {},
   "outputs": [],
   "source": [
    "import awkward as ak\n",
    "import hist as hist2\n",
    "from coffea import processor\n",
    "from coffea.nanoevents.methods import candidate, vector\n",
    "from coffea.analysis_tools import Weights\n",
    "import numpy as np\n",
    "\n",
    "def getParticles(genparticles,lowid=22,highid=25,flags=['fromHardProcess', 'isLastCopy']):\n",
    "    absid = abs(genparticles.pdgId)\n",
    "    return genparticles[\n",
    "        ((absid >= lowid) & (absid <= highid))\n",
    "        & genparticles.hasFlags(flags)\n",
    "    ]\n",
    "\n",
    "def match_HWWlepqq(genparticles,candidatefj):\n",
    "    higgs = getParticles(genparticles,25)\n",
    "    is_hWW = ak.all(abs(higgs.children.pdgId)==24,axis=2)\n",
    "\n",
    "    higgs = higgs[is_hWW]\n",
    "    higgs_wstar = higgs.children[ak.argmin(higgs.children.mass,axis=2,keepdims=True)]\n",
    "    higgs_w = higgs.children[ak.argmax(higgs.children.mass,axis=2,keepdims=True)]\n",
    "    \n",
    "    prompt_electron = getParticles(genparticles,11,11,['isPrompt','isLastCopy'])\n",
    "    prompt_muon = getParticles(genparticles,13,13,['isPrompt', 'isLastCopy'])\n",
    "    prompt_tau = getParticles(genparticles,15,15,['isPrompt', 'isLastCopy'])\n",
    "    prompt_q = getParticles(genparticles,0,5,['fromHardProcess', 'isLastCopy'])\n",
    "    prompt_q = prompt_q[abs(prompt_q.distinctParent.pdgId) == 24]\n",
    "    \n",
    "    n_electrons = ak.sum(prompt_electron.pt>0,axis=1)\n",
    "    n_muons = ak.sum(prompt_muon.pt>0,axis=1)\n",
    "    n_taus = ak.sum(prompt_tau.pt>0,axis=1)\n",
    "    n_quarks = ak.sum(prompt_q.pt>0,axis=1)\n",
    "    # 4(elenuqq),6(munuqq),8(taunuqq)\n",
    "    hWWlepqq_flavor = (n_quarks==2)*1 + (n_electrons==1)*3 + (n_muons==1)*5 + (n_taus==1)*7\n",
    "\n",
    "    matchedH = candidatefj.nearest(higgs, axis=1, threshold=0.8)\n",
    "    matchedW = candidatefj.nearest(higgs_w, axis=1, threshold=0.8)\n",
    "    matchedWstar = candidatefj.nearest(higgs_wstar, axis=1, threshold=0.8) \n",
    "    # 1 (H only), 4(W), 6(W star), 9(H, W and Wstar)\n",
    "    hWWlepqq_matched = (ak.sum(matchedH.pt>0,axis=1)==1)*1 + (ak.sum(ak.flatten(matchedW.pt>0,axis=2),axis=1)==1)*3 + (ak.sum(ak.flatten(matchedWstar.pt>0,axis=2),axis=1)==1)*5    \n",
    "    \n",
    "    dr_fj_quarks = candidatefj.delta_r(prompt_q)\n",
    "    dr_fj_electrons = candidatefj.delta_r(prompt_electron)\n",
    "    dr_fj_muons = candidatefj.delta_r(prompt_muon)\n",
    "    dr_fj_taus = candidatefj.delta_r(prompt_tau)\n",
    "    dr_daughters = ak.concatenate([dr_fj_quarks,dr_fj_electrons,dr_fj_muons,dr_fj_taus],axis=1)\n",
    "    hWWlepqq_nprongs = ak.sum(dr_daughters<0.8,axis=1)\n",
    "    \n",
    "    return hWWlepqq_flavor,hWWlepqq_matched,hWWlepqq_nprongs\n",
    "\n",
    "class HwwSignalProcessor(processor.ProcessorABC):\n",
    "    def __init__(self,jet_arbitration='pt'):\n",
    "        self._jet_arbitration = jet_arbitration\n",
    "        \n",
    "        # define an output\n",
    "        self.make_output = lambda: {\n",
    "            'sumw': 0.,\n",
    "            'signal_kin': hist2.Hist(\n",
    "                hist2.axis.IntCategory([0, 2, 4, 6, 8], name='genflavor', label='gen flavor'),\n",
    "                hist2.axis.IntCategory([0, 1, 4, 6, 9], name='genHflavor', label='higgs matching'),\n",
    "                hist2.axis.Regular(100, 200, 1200, name='pt', label=r'Jet $p_T$'),\n",
    "                hist2.axis.Regular(4, 0, 4, name='nprongs', label='Jet n prongs'),\n",
    "                hist2.storage.Weight(),\n",
    "            )\n",
    "        }\n",
    "        \n",
    "    def process(self, events):\n",
    "        dataset = events.metadata['dataset']\n",
    "        weights = Weights(len(events), storeIndividual=True)\n",
    "        weights.add('genweight', events.genWeight)\n",
    "        \n",
    "        output = self.make_output()\n",
    "        output['sumw'] = ak.sum(events.genWeight)\n",
    "            \n",
    "        # leptons\n",
    "        goodmuon = (\n",
    "            (events.Muon.pt > 25)\n",
    "            & (abs(events.Muon.eta) < 2.4)\n",
    "            & events.Muon.mediumId\n",
    "        )\n",
    "        nmuons = ak.sum(goodmuon, axis=1)\n",
    "        lowptmuon = (\n",
    "            (events.Muon.pt > 10)\n",
    "            & (abs(events.Muon.eta) < 2.4)\n",
    "            & events.Muon.looseId\n",
    "        )\n",
    "        nlowptmuons = ak.sum(lowptmuon, axis=1)\n",
    "            \n",
    "        goodelectron = (\n",
    "            (events.Electron.pt > 25)\n",
    "            & (abs(events.Electron.eta) < 2.5)\n",
    "            & (events.Electron.mvaFall17V2noIso_WP80)\n",
    "        )\n",
    "        nelectrons = ak.sum(goodelectron, axis=1)\n",
    "        lowptelectron = (\n",
    "            (events.Electron.pt > 10)\n",
    "            & (abs(events.Electron.eta) < 2.5)\n",
    "            & (events.Electron.cutBased >= events.Electron.LOOSE)\n",
    "        )\n",
    "        nlowptelectrons = ak.sum(lowptelectron, axis=1)\n",
    "\n",
    "        # concatenate leptons and select leading one\n",
    "        goodleptons = ak.concatenate([events.Muon[goodmuon], events.Electron[goodelectron]], axis=1)\n",
    "        candidatelep = ak.firsts(goodleptons[ak.argsort(goodleptons.pt)])\n",
    "        candidatelep_p4 = ak.zip(\n",
    "            {\n",
    "                \"pt\": candidatelep.pt,\n",
    "                \"eta\": candidatelep.eta,\n",
    "                \"phi\": candidatelep.phi,\n",
    "                \"mass\": candidatelep.mass,\n",
    "                \"charge\": candidatelep.charge,\n",
    "            },\n",
    "            with_name=\"PtEtaPhiMCandidate\",\n",
    "            behavior=candidate.behavior,\n",
    "        )\n",
    "        \n",
    "        # met\n",
    "        met = events.MET\n",
    "        \n",
    "        # jets\n",
    "        fatjets = events.FatJet\n",
    "        candidatefj = fatjets[\n",
    "            (fatjets.pt > 200)\n",
    "        ]\n",
    "\n",
    "        dphi_met_fj = abs(candidatefj.delta_phi(met))\n",
    "        dr_lep_fj = candidatefj.delta_r(candidatelep_p4)\n",
    "    \n",
    "        if self._jet_arbitration == 'pt':\n",
    "            candidatefj = ak.firsts(candidatefj)\n",
    "        elif self._jet_arbitration == 'met':\n",
    "            candidatefj = ak.firsts(candidatefj[ak.argmin(dphi_met_fj,axis=1,keepdims=True)])\n",
    "        elif self._jet_arbitration == 'lep':\n",
    "            candidatefj = ak.firsts(candidatefj[ak.argmin(dr_lep_fj,axis=1,keepdims=True)])\n",
    "        else:\n",
    "            raise RuntimeError(\"Unknown candidate jet arbitration\")\n",
    "        \n",
    "        # match HWWlepqq (assume that we are always running in simulation)\n",
    "        hWWlepqq_flavor,hWWlepqq_matched,hWWlepqq_nprongs = match_HWWlepqq(events.GenPart,candidatefj)\n",
    "        \n",
    "        # function to normalize arrays after a cut or selection\n",
    "        def normalize(val, cut=None):\n",
    "            if cut is None:\n",
    "                ar = ak.to_numpy(ak.fill_none(val, np.nan))\n",
    "                return ar\n",
    "            else:\n",
    "                ar = ak.to_numpy(ak.fill_none(val[cut], np.nan))\n",
    "                return ar\n",
    "        \n",
    "        # here we fill our histogram\n",
    "        output['signal_kin'].fill(\n",
    "                    genflavor=normalize(hWWlepqq_flavor),\n",
    "                    genHflavor=normalize(hWWlepqq_matched),\n",
    "                    pt = normalize(candidatefj.pt),\n",
    "                    nprongs = normalize(hWWlepqq_nprongs),\n",
    "                    weight=weights.weight(),\n",
    "                )\n",
    "\n",
    "        return {dataset: output}\n",
    "\n",
    "    def postprocess(self, accumulator):\n",
    "        return accumulator"
   ]
  },
  {
   "cell_type": "code",
   "execution_count": 2,
   "metadata": {},
   "outputs": [
    {
     "data": {
      "application/vnd.jupyter.widget-view+json": {
       "model_id": "0f311fc140a74f33b8af99b07675ef53",
       "version_major": 2,
       "version_minor": 0
      },
      "text/plain": [
       "HBox(children=(HTML(value='Processing'), FloatProgress(value=0.0, max=1.0), HTML(value='')))"
      ]
     },
     "metadata": {},
     "output_type": "display_data"
    },
    {
     "name": "stderr",
     "output_type": "stream",
     "text": [
      "/Users/cmantill/miniconda3/envs/hww/lib/python3.7/site-packages/numba/core/dispatcher.py:238: UserWarning: Numba extension module 'awkward1._connect._numba' failed to load due to 'ImportError(generic_type: type \"kernel_lib\" is already registered!)'.\n",
      "  entrypoints.init_all()\n"
     ]
    },
    {
     "name": "stdout",
     "output_type": "stream",
     "text": [
      "\n"
     ]
    },
    {
     "data": {
      "text/plain": [
       "{'HWW': {'sumw': 1929879.2,\n",
       "  'signal_kin': Hist(\n",
       "    IntCategory([0, 2, 4, 6, 8]),\n",
       "    IntCategory([0, 1, 4, 6, 9]),\n",
       "    Regular(100, 200, 1200, name='pt', label='Jet $p_T$'),\n",
       "    Regular(4, 0, 4, name='nprongs', label='Jet n prongs'),\n",
       "    storage=Weight()) # Sum: WeightedSum(value=28893, variance=834805) (WeightedSum(value=1.92988e+06, variance=5.5765e+07) with flow)}}"
      ]
     },
     "execution_count": 2,
     "metadata": {},
     "output_type": "execute_result"
    }
   ],
   "source": [
    "import warnings\n",
    "warnings.filterwarnings(\"ignore\", message=\"Found duplicate branch \")\n",
    "\n",
    "fileset = {\n",
    "    'HWW': [\n",
    "        'data/nano_mc2017_1-130.root',\n",
    "    ],\n",
    "}\n",
    "\n",
    "out = processor.run_uproot_job(\n",
    "    fileset,\n",
    "    treename=\"Events\",\n",
    "    processor_instance=HwwSignalProcessor(),\n",
    "    executor=processor.iterative_executor,\n",
    "    executor_args={\n",
    "        \"schema\": processor.NanoAODSchema,\n",
    "    },\n",
    "    maxchunks=30,\n",
    ")\n",
    "out"
   ]
  },
  {
   "cell_type": "code",
   "execution_count": 3,
   "metadata": {},
   "outputs": [
    {
     "name": "stderr",
     "output_type": "stream",
     "text": [
      "No handles with labels found to put in legend.\n"
     ]
    },
    {
     "name": "stdout",
     "output_type": "stream",
     "text": [
      "  category(0, 1, 4, 6, 9, metadata={'name': 'genHflavor', 'label': 'higgs matching'}, options=overflow)\n",
      "  (0): 2.205e+04 (1): 0         (2): 693.4     (3): 0        \n",
      "  (4): 6385      (5): 1.901e+06\n",
      "\n"
     ]
    },
    {
     "data": {
      "text/plain": [
       "<matplotlib.legend.Legend at 0x7fb9c96f8e10>"
      ]
     },
     "execution_count": 3,
     "metadata": {},
     "output_type": "execute_result"
    },
    {
     "data": {
      "image/png": "[encoded data removed]",
      "text/plain": [
       "<Figure size 432x288 with 1 Axes>"
      ]
     },
     "metadata": {
      "needs_background": "light"
     },
     "output_type": "display_data"
    }
   ],
   "source": [
    "import matplotlib.pyplot as plt\n",
    "\n",
    "gen_Hflavor = out[\"HWW\"][\"signal_kin\"][{\"genflavor\": sum, \"pt\": sum, \"nprongs\":sum}]\n",
    "print(gen_Hflavor)\n",
    "\n",
    "fig, ax = plt.subplots()\n",
    "gen_Hflavor.plot1d(\n",
    "    ax=ax,\n",
    "    alpha=0.5,\n",
    ")\n",
    "# you can edit features of the plot afterwards using matplotlib object-oriented syntax\n",
    "ax.set_ylabel(\"Events\")\n",
    "ax.set_xlabel(\"Matched jets\")\n",
    "\n",
    "# will probably need to add handles with labels to put in the legend..\n",
    "ax.legend(title=\"Gen flavor\")\n"
   ]
  },
  {
   "cell_type": "markdown",
   "metadata": {},
   "source": [
    "Now, you want to:\n",
    "1. add more histograms/plots and \n",
    "2. run for the full dataset using coffea.casa. Instructions are here: https://coffea-casa.readthedocs.io/en/latest/cc_user.html#access and also linked in the coffea hats"
   ]
  },
  {
   "cell_type": "code",
   "execution_count": null,
   "metadata": {},
   "outputs": [],
   "source": []
  }
 ],
 "metadata": {
  "kernelspec": {
   "display_name": "Python 3",
   "language": "python",
   "name": "python3"
  },
  "language_info": {
   "codemirror_mode": {
    "name": "ipython",
    "version": 3
   },
   "file_extension": ".py",
   "mimetype": "text/x-python",
   "name": "python",
   "nbconvert_exporter": "python",
   "pygments_lexer": "ipython3",
   "version": "3.7.9"
  }
 },
 "nbformat": 4,
 "nbformat_minor": 4
}
