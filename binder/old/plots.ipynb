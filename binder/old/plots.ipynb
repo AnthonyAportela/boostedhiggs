{
 "cells": [
  {
   "cell_type": "code",
   "execution_count": null,
   "id": "72db97f4",
   "metadata": {},
   "outputs": [],
   "source": [
    "import awkward as ak\n",
    "import matplotlib.pyplot as plt\n",
    "import mplhep as hep\n",
    "from hist.intervals import clopper_pearson_interval\n",
    "def get_yerr(num,den):\n",
    "    return abs(clopper_pearson_interval(num.view(), den.view()) - num.view()/den.view())\n",
    "\n",
    "# we suppress ROOT warnings where our input ROOT tree has duplicate branches - these are handled correctly.\n",
    "import warnings\n",
    "warnings.filterwarnings(\"ignore\", message=\"Found duplicate branch \")"
   ]
  },
  {
   "cell_type": "code",
   "execution_count": 7,
   "id": "cda4062f",
   "metadata": {},
   "outputs": [],
   "source": [
    "# you can load the output!\n",
    "import pickle\n",
    "with open('out_Nov10.hist', 'rb') as f:\n",
    "    out = pickle.load(f)"
   ]
  },
  {
   "cell_type": "code",
   "execution_count": 8,
   "id": "1f0fe1f4",
   "metadata": {},
   "outputs": [
    {
     "data": {
      "text/plain": [
       "array([203.875, 209.25 , 276.25 , ..., 244.75 , 270.   , 308.5  ])"
      ]
     },
     "execution_count": 8,
     "metadata": {},
     "output_type": "execute_result"
    }
   ],
   "source": [
    "out[2017][\"GluGluHToWWToLNuQQ_M125_TuneCP5_PSweight_13TeV-powheg2-jhugen727-pythia8\"][\"skimmed_events\"][\"ele\"][\"fj_pt\"][out[2017][\"GluGluHToWWToLNuQQ_M125_TuneCP5_PSweight_13TeV-powheg2-jhugen727-pythia8\"][\"skimmed_events\"][\"ele\"][\"fj_pt\"] >0]"
   ]
  },
  {
   "cell_type": "markdown",
   "id": "b94e12e1-7b2b-4217-b648-b9196b441f48",
   "metadata": {},
   "source": [
    "# Plotting histograms"
   ]
  },
  {
   "cell_type": "code",
   "execution_count": 9,
   "id": "539eee99",
   "metadata": {},
   "outputs": [
    {
     "data": {
      "text/plain": [
       "dict_keys(['HLT_enominal', 'HLT_ejet', 'HLT_evvl', 'HLT_evvlmet', 'HLT_jet', 'HLT_eextra', 'HLT_photon', 'fj_pt', 'fj_msoftdrop', 'lep_pt', 'lep_isolation', 'fj_lep_mass', 'fj_lep_dR', 'ht', 'higgspt', 'higgspt_unmatched', 'iswlepton', 'iswstarlepton'])"
      ]
     },
     "execution_count": 9,
     "metadata": {},
     "output_type": "execute_result"
    }
   ],
   "source": [
    "# now we can fill the histogram with the denominator (baseline selection already applied)\n",
    "skimmed_events_ele = out[2017][\"GluGluHToWWToLNuQQ_M125_TuneCP5_PSweight_13TeV-powheg2-jhugen727-pythia8\"][\"skimmed_events\"][\"ele\"]\n",
    "skimmed_events_ele.keys()"
   ]
  },
  {
   "cell_type": "code",
   "execution_count": 10,
   "id": "73fa9e19-1378-46e7-82e0-bcc30d79ba0f",
   "metadata": {},
   "outputs": [
    {
     "data": {
      "text/plain": [
       "dict_keys(['HLT_munominal', 'HLT_muvvl', 'HLT_muvvlmet', 'HLT_jet', 'fj_pt', 'fj_msoftdrop', 'lep_pt', 'lep_isolation', 'fj_lep_mass', 'fj_lep_dR', 'ht', 'higgspt', 'higgspt_unmatched', 'iswlepton', 'iswstarlepton'])"
      ]
     },
     "execution_count": 10,
     "metadata": {},
     "output_type": "execute_result"
    }
   ],
   "source": [
    "skimmed_events_mu = out[2017][\"GluGluHToWWToLNuQQ_M125_TuneCP5_PSweight_13TeV-powheg2-jhugen727-pythia8\"][\"skimmed_events\"][\"mu\"]\n",
    "skimmed_events_mu.keys()"
   ]
  },
  {
   "cell_type": "code",
   "execution_count": 11,
   "id": "e538933a-32a5-43b0-a882-e1f72eb22e36",
   "metadata": {},
   "outputs": [
    {
     "data": {
      "text/plain": [
       "array([ True,  True,  True, ..., False,  True,  True])"
      ]
     },
     "execution_count": 11,
     "metadata": {},
     "output_type": "execute_result"
    }
   ],
   "source": [
    "out[2017][\"GluGluHToWWToLNuQQ_M125_TuneCP5_PSweight_13TeV-powheg2-jhugen727-pythia8\"][\"skimmed_events\"][\"ele\"][\"HLT_enominal\"]"
   ]
  },
  {
   "cell_type": "markdown",
   "id": "e4e217f2-93ab-48b0-91d5-ffebadd08073",
   "metadata": {},
   "source": [
    "### Plotting: higgspt, jetpt, leptonpt"
   ]
  },
  {
   "cell_type": "code",
   "execution_count": 12,
   "id": "1faf06bd-438d-47fe-bde8-7d6d71666d00",
   "metadata": {},
   "outputs": [
    {
     "data": {
      "text/html": [
       "<html>\n",
       "<div style=\"display:flex; align-items:center;\">\n",
       "<div style=\"width:290px;\">\n",
       "<svg xmlns=\"http://www.w3.org/2000/svg\" viewBox=\"-10 -10 220 220\">\n",
       "<rect x=\"0\" y=\"0\" width=\"160\" height=\"160\" style=\"fill:white;opacity:.5;stroke-width:2;stroke:currentColor;\"/>\n",
       "<rect x=\"20\" y=\"20\" width=\"160\" height=\"160\" style=\"fill:white;opacity:.5;stroke-width:2;stroke:currentColor;\"/>\n",
       "<rect x=\"40\" y=\"40\" width=\"160\" height=\"160\" style=\"fill:white;opacity:.5;stroke-width:2;stroke:currentColor;\"/>\n",
       "<text x=\"120.0\" y=\"120.0\" style=\"font-size: 26pt; font-family: verdana; font-style: bold; fill: black;\" text-anchor=\"middle\" alignment-baseline=\"middle\">\n",
       "6D\n",
       "</text>\n",
       "</svg>\n",
       "</div>\n",
       "<div style=\"flex=grow:1;\">\n",
       "StrCategory(['ele'], growth=True, name='channel', label='channel')<br/>\n",
       "StrCategory(['numerator', 'denominator'], name='region', label='region')<br/>\n",
       "StrCategory(['all', 'nominal', 'vvl', 'met', 'jet', 'extra', 'photon'], growth=True, name='trigger', label='trigger')<br/>\n",
       "Regular(25, 100, 700, name='higgspt', label='matched H $p_T$ [GeV]')<br/>\n",
       "Regular(25, 200, 700, name='jetpt', label='Jet $p_T$ [GeV]')<br/>\n",
       "Regular(25, 10, 400, name='leppt', label='Lepton $p_T$ [GeV]')<br/>\n",
       "<hr style=\"margin-top:.2em; margin-bottom:.2em;\"/>\n",
       "Double() Σ=49646.0 <em>(96799.0 with flow)</em>\n",
       "\n",
       "</div>\n",
       "</div>\n",
       "</html>"
      ],
      "text/plain": [
       "Hist(\n",
       "  StrCategory(['ele'], growth=True, name='channel', label='channel'),\n",
       "  StrCategory(['numerator', 'denominator'], name='region', label='region'),\n",
       "  StrCategory(['all', 'nominal', 'vvl', 'met', 'jet', 'extra', 'photon'], growth=True, name='trigger', label='trigger'),\n",
       "  Regular(25, 100, 700, name='higgspt', label='matched H $p_T$ [GeV]'),\n",
       "  Regular(25, 200, 700, name='jetpt', label='Jet $p_T$ [GeV]'),\n",
       "  Regular(25, 10, 400, name='leppt', label='Lepton $p_T$ [GeV]'),\n",
       "  storage=Double()) # Sum: 49646.0 (96799.0 with flow)"
      ]
     },
     "execution_count": 12,
     "metadata": {},
     "output_type": "execute_result"
    }
   ],
   "source": [
    "# now we can make histograms for higgspt, jetpt, leptonpt\n",
    "import hist as hist2\n",
    "region_cat = hist2.axis.StrCategory([\"numerator\",\"denominator\"], name=\"region\")\n",
    "channel_cat = hist2.axis.StrCategory([], name='channel', growth=True)\n",
    "trigger_cat = hist2.axis.StrCategory([], name='trigger', growth=True)\n",
    "\n",
    "hpt_axis = hist2.axis.Regular(25, 100, 700, name='higgspt', label=r'matched H $p_T$ [GeV]')\n",
    "jetpt_axis = hist2.axis.Regular(25, 200, 700, name='jetpt', label=r'Jet $p_T$ [GeV]')\n",
    "leppt_axis = hist2.axis.Regular(25, 10, 400, name='leppt', label=r'Lepton $p_T$ [GeV]')\n",
    "\n",
    "hists = {}\n",
    "hists[\"jet\"] = hist2.Hist(\n",
    "                channel_cat,\n",
    "                region_cat,\n",
    "                trigger_cat,\n",
    "                hpt_axis,\n",
    "                jetpt_axis,\n",
    "                leppt_axis,\n",
    "            )\n",
    "# now we can fill the histogram with the denominator (baseline selection already applied)\n",
    "higgspt = skimmed_events_ele[\"higgspt\"]\n",
    "jetpt = skimmed_events_ele[\"fj_pt\"]\n",
    "leppt = skimmed_events_ele[\"lep_pt\"]\n",
    "\n",
    "hists[\"jet\"].fill(\n",
    "    channel=\"ele\",\n",
    "    region=\"denominator\",\n",
    "    trigger=\"all\",\n",
    "    higgspt=higgspt,\n",
    "    jetpt=jetpt,\n",
    "    leppt=leppt,\n",
    ")\n",
    "hists[\"jet\"].fill(\n",
    "    channel=\"ele\",\n",
    "    region=\"numerator\",\n",
    "    trigger=\"nominal\",\n",
    "    higgspt=higgspt[skimmed_events_ele[\"HLT_enominal\"]],\n",
    "    jetpt=jetpt[skimmed_events_ele[\"HLT_enominal\"]],\n",
    "    leppt=leppt[skimmed_events_ele[\"HLT_enominal\"]],\n",
    "\n",
    ")\n",
    "hists[\"jet\"].fill(\n",
    "    channel=\"ele\",\n",
    "    region=\"numerator\",\n",
    "    trigger=\"vvl\",\n",
    "    higgspt=higgspt[skimmed_events_ele[\"HLT_evvl\"]],\n",
    "    jetpt=jetpt[skimmed_events_ele[\"HLT_evvl\"]],\n",
    "    leppt=leppt[skimmed_events_ele[\"HLT_evvl\"]], \n",
    ")\n",
    "\n",
    "hists[\"jet\"].fill(\n",
    "    channel=\"ele\",\n",
    "    region=\"numerator\",\n",
    "    trigger=\"met\",\n",
    "    higgspt=higgspt[skimmed_events_ele[\"HLT_evvlmet\"]],\n",
    "    jetpt=jetpt[skimmed_events_ele[\"HLT_evvlmet\"]],\n",
    "    leppt=leppt[skimmed_events_ele[\"HLT_evvlmet\"]],   \n",
    ")\n",
    "\n",
    "hists[\"jet\"].fill(\n",
    "    channel=\"ele\",\n",
    "    region=\"numerator\",\n",
    "    trigger=\"jet\",\n",
    "    higgspt=higgspt[skimmed_events_ele[\"HLT_ejet\"]],\n",
    "    jetpt=jetpt[skimmed_events_ele[\"HLT_ejet\"]],\n",
    "    leppt=leppt[skimmed_events_ele[\"HLT_ejet\"]],   \n",
    ")\n",
    "\n",
    "hists[\"jet\"].fill(\n",
    "    channel=\"ele\",\n",
    "    region=\"numerator\",\n",
    "    trigger=\"extra\",\n",
    "    higgspt=higgspt[skimmed_events_ele[\"HLT_eextra\"]],\n",
    "    jetpt=jetpt[skimmed_events_ele[\"HLT_eextra\"]],\n",
    "    leppt=leppt[skimmed_events_ele[\"HLT_eextra\"]],    \n",
    ")\n",
    "\n",
    "hists[\"jet\"].fill(\n",
    "    channel=\"ele\",\n",
    "    region=\"numerator\",\n",
    "    trigger=\"photon\",\n",
    "    higgspt=higgspt[skimmed_events_ele[\"HLT_photon\"]],\n",
    "    jetpt=jetpt[skimmed_events_ele[\"HLT_photon\"]],\n",
    "    leppt=leppt[skimmed_events_ele[\"HLT_photon\"]],\n",
    ")\n",
    "\n",
    "hists[\"jet\"]"
   ]
  },
  {
   "cell_type": "code",
   "execution_count": 13,
   "id": "a3b036f0-8209-4ef5-9e8e-f016868af88c",
   "metadata": {},
   "outputs": [
    {
     "data": {
      "text/html": [
       "<html>\n",
       "<div style=\"display:flex; align-items:center;\">\n",
       "<div style=\"width:290px;\">\n",
       "<svg xmlns=\"http://www.w3.org/2000/svg\" viewBox=\"-10 -105 270 120\">\n",
       "<line x1=\"-5\" y1=\"0\" x2=\"255\" y2=\"0\" style=\"fill:none;stroke-width:2;stroke:currentColor\"/>\n",
       "<text text-anchor=\"middle\" x=\"0\" y=\"15\" style=\"fill:currentColor;\">\n",
       "200\n",
       "</text>\n",
       "<text text-anchor=\"middle\" x=\"250\" y=\"15\" style=\"fill:currentColor;\">\n",
       "700\n",
       "</text>\n",
       "<text text-anchor=\"middle\" x=\"125.0\" y=\"15\" style=\"fill:currentColor;\">\n",
       "Jet $p_T$ [GeV]\n",
       "</text>\n",
       "<polyline points=\"  0,0   0,-100  10,-100  10,-69.6  20,-69.6  20,-48  30,-48  30,-33.4  40,-33.4  40,-23  50,-23  50,-17.5  60,-17.5  60,-12  70,-12  70,-8.2  80,-8.2  80,-6.64  90,-6.64  90,-4.24 100,-4.24 100,-3.27 110,-3.27 110,-2.26 120,-2.26 120,-1.99 130,-1.99 130,-1.3 140,-1.3 140,-1.29 150,-1.29 150,-0.896 160,-0.896 160,-0.623 170,-0.623 170,-0.526 180,-0.526 180,-0.253 190,-0.253 190,-0.234 200,-0.234 200,-0.0779 210,-0.0779 210,-0.0779 220,-0.0779 220,-0.136 230,-0.136 230,-0.156 240,-0.156 240,-0.0974 250,-0.0974 250,0\" style=\"fill:none; stroke:currentColor;\"/>\n",
       "</svg>\n",
       "</div>\n",
       "<div style=\"flex=grow:1;\">\n",
       "Regular(25, 200, 700, name='jetpt', label='Jet $p_T$ [GeV]')<br/>\n",
       "<hr style=\"margin-top:.2em; margin-bottom:.2em;\"/>\n",
       "Double() Σ=17249.0 <em>(17260.0 with flow)</em>\n",
       "\n",
       "</div>\n",
       "</div>\n",
       "</html>"
      ],
      "text/plain": [
       "Hist(Regular(25, 200, 700, name='jetpt', label='Jet $p_T$ [GeV]'), storage=Double()) # Sum: 17249.0 (17260.0 with flow)"
      ]
     },
     "execution_count": 13,
     "metadata": {},
     "output_type": "execute_result"
    }
   ],
   "source": [
    "hists[\"jet\"][{\"region\":\"numerator\",\"channel\":\"ele\",\"trigger\":\"nominal\", 'leppt':sum, 'higgspt':sum}]"
   ]
  },
  {
   "cell_type": "code",
   "execution_count": 14,
   "id": "e23c16dc-2925-4e0b-8013-0e4b114c2dab",
   "metadata": {},
   "outputs": [
    {
     "data": {
      "image/png": "[encoded data removed]",
      "text/plain": [
       "<Figure size 432x288 with 1 Axes>"
      ]
     },
     "metadata": {
      "needs_background": "light"
     },
     "output_type": "display_data"
    }
   ],
   "source": [
    "# now we plot trigger efficiency as function of jetpt\n",
    "num_nom = hists[\"jet\"][{\"region\":\"numerator\",\"channel\":\"ele\",\"trigger\":\"nominal\", 'leppt':sum, 'higgspt':sum}]\n",
    "num_vvl = hists[\"jet\"][{\"region\":\"numerator\",\"channel\":\"ele\",\"trigger\":\"vvl\", 'leppt':sum, 'higgspt':sum}]\n",
    "num_met = hists[\"jet\"][{\"region\":\"numerator\",\"channel\":\"ele\",\"trigger\":\"met\", 'leppt':sum, 'higgspt':sum}]\n",
    "num_jet = hists[\"jet\"][{\"region\":\"numerator\",\"channel\":\"ele\",\"trigger\":\"jet\", 'leppt':sum, 'higgspt':sum}]\n",
    "num_photon = hists[\"jet\"][{\"region\":\"numerator\",\"channel\":\"ele\",\"trigger\":\"photon\", 'leppt':sum, 'higgspt':sum}]\n",
    "num_extra = hists[\"jet\"][{\"region\":\"numerator\",\"channel\":\"ele\",\"trigger\":\"extra\", 'leppt':sum, 'higgspt':sum}]\n",
    "\n",
    "# den = hists[\"jet\"][{\"region\":\"denominator\",\"channel\":\"ele\",\"trigger\":\"all\", 'leppt':sum, 'higgspt':sum}]    ### same thing\n",
    "den = hists[\"jet\"][{\"region\":\"denominator\",\"channel\":\"ele\",\"trigger\":sum, 'leppt':sum, 'higgspt':sum}]\n",
    "\n",
    "import matplotlib.pyplot as plt\n",
    "import mplhep as hep\n",
    "from hist.intervals import clopper_pearson_interval\n",
    "def get_yerr(num,den):\n",
    "    return abs(clopper_pearson_interval(num.view(), den.view()) - num.view()/den.view())\n",
    "\n",
    "fig, ax = plt.subplots(1, 1)\n",
    "hep.histplot(num_nom/den, \n",
    "             yerr=get_yerr(num_nom,den),\n",
    "             ax = ax,\n",
    "             histtype='errorbar', color='red', capsize=4, elinewidth=1, label=\"Electron Nominal\",         \n",
    ")\n",
    "hep.histplot(num_vvl/den, \n",
    "             yerr=get_yerr(num_vvl,den),\n",
    "             ax = ax,\n",
    "             histtype='errorbar', color='blue', capsize=4, elinewidth=1, label=\"Electron VVL\",         \n",
    ")\n",
    "hep.histplot(num_met/den, \n",
    "             yerr=get_yerr(num_met,den),\n",
    "             ax = ax,\n",
    "             histtype='errorbar', color='green', capsize=4, elinewidth=1, label=\"Electron MET\",         \n",
    ")\n",
    "hep.histplot(num_jet/den, \n",
    "             yerr=get_yerr(num_jet,den),\n",
    "             ax = ax,\n",
    "             histtype='errorbar', color='black', capsize=4, elinewidth=1, label=\"Electron jet\",         \n",
    ")\n",
    "hep.histplot(num_extra/den, \n",
    "             yerr=get_yerr(num_extra,den),\n",
    "             ax = ax,\n",
    "             histtype='errorbar', color='orange', capsize=4, elinewidth=1, label=\"Electron extra\",         \n",
    ")\n",
    "hep.histplot(num_photon/den, \n",
    "             yerr=get_yerr(num_photon,den),\n",
    "             ax = ax,\n",
    "             histtype='errorbar', color='magenta', capsize=4, elinewidth=1, label=\"Photon\",         \n",
    ")\n",
    "ax.set_ylim(0,1)\n",
    "ax.legend()\n",
    "plt.savefig('plots/ele_triggers/jetpt.pdf');"
   ]
  },
  {
   "cell_type": "code",
   "execution_count": 15,
   "id": "b1416fcb-c007-42c8-925a-7fe42b669b9e",
   "metadata": {},
   "outputs": [
    {
     "name": "stderr",
     "output_type": "stream",
     "text": [
      "/tmp/ipykernel_172/3447497108.py:15: RuntimeWarning: invalid value encountered in true_divide\n",
      "  return abs(clopper_pearson_interval(num.view(), den.view()) - num.view()/den.view())\n",
      "/tmp/ipykernel_172/3447497108.py:15: RuntimeWarning: invalid value encountered in true_divide\n",
      "  return abs(clopper_pearson_interval(num.view(), den.view()) - num.view()/den.view())\n",
      "/tmp/ipykernel_172/3447497108.py:15: RuntimeWarning: invalid value encountered in true_divide\n",
      "  return abs(clopper_pearson_interval(num.view(), den.view()) - num.view()/den.view())\n",
      "/tmp/ipykernel_172/3447497108.py:15: RuntimeWarning: invalid value encountered in true_divide\n",
      "  return abs(clopper_pearson_interval(num.view(), den.view()) - num.view()/den.view())\n",
      "/tmp/ipykernel_172/3447497108.py:15: RuntimeWarning: invalid value encountered in true_divide\n",
      "  return abs(clopper_pearson_interval(num.view(), den.view()) - num.view()/den.view())\n",
      "/tmp/ipykernel_172/3447497108.py:15: RuntimeWarning: invalid value encountered in true_divide\n",
      "  return abs(clopper_pearson_interval(num.view(), den.view()) - num.view()/den.view())\n"
     ]
    },
    {
     "data": {
      "image/png": "[encoded data removed]",
      "text/plain": [
       "<Figure size 432x288 with 1 Axes>"
      ]
     },
     "metadata": {
      "needs_background": "light"
     },
     "output_type": "display_data"
    }
   ],
   "source": [
    "# now we plot trigger efficiency as function of leptonpt\n",
    "num_nom = hists[\"jet\"][{\"region\":\"numerator\",\"channel\":\"ele\",\"trigger\":\"nominal\", 'jetpt':sum, 'higgspt':sum}]\n",
    "num_vvl = hists[\"jet\"][{\"region\":\"numerator\",\"channel\":\"ele\",\"trigger\":\"vvl\", 'jetpt':sum, 'higgspt':sum}]\n",
    "num_met = hists[\"jet\"][{\"region\":\"numerator\",\"channel\":\"ele\",\"trigger\":\"met\", 'jetpt':sum, 'higgspt':sum}]\n",
    "num_jet = hists[\"jet\"][{\"region\":\"numerator\",\"channel\":\"ele\",\"trigger\":\"jet\", 'jetpt':sum, 'higgspt':sum}]\n",
    "num_photon = hists[\"jet\"][{\"region\":\"numerator\",\"channel\":\"ele\",\"trigger\":\"photon\", 'jetpt':sum, 'higgspt':sum}]\n",
    "num_extra = hists[\"jet\"][{\"region\":\"numerator\",\"channel\":\"ele\",\"trigger\":\"extra\", 'jetpt':sum, 'higgspt':sum}]\n",
    "\n",
    "den = hists[\"jet\"][{\"region\":\"denominator\",\"channel\":\"ele\",\"trigger\":sum, 'jetpt':sum, 'higgspt':sum}]\n",
    "\n",
    "import matplotlib.pyplot as plt\n",
    "import mplhep as hep\n",
    "from hist.intervals import clopper_pearson_interval\n",
    "def get_yerr(num,den):\n",
    "    return abs(clopper_pearson_interval(num.view(), den.view()) - num.view()/den.view())\n",
    "\n",
    "fig, ax = plt.subplots(1, 1)\n",
    "hep.histplot(num_nom/den, \n",
    "             yerr=get_yerr(num_nom,den),\n",
    "             ax = ax,\n",
    "             histtype='errorbar', color='red', capsize=4, elinewidth=1, label=\"Electron Nominal\",         \n",
    ")\n",
    "hep.histplot(num_vvl/den, \n",
    "             yerr=get_yerr(num_vvl,den),\n",
    "             ax = ax,\n",
    "             histtype='errorbar', color='blue', capsize=4, elinewidth=1, label=\"Electron VVL\",         \n",
    ")\n",
    "hep.histplot(num_met/den, \n",
    "             yerr=get_yerr(num_met,den),\n",
    "             ax = ax,\n",
    "             histtype='errorbar', color='green', capsize=4, elinewidth=1, label=\"Electron MET\",         \n",
    ")\n",
    "hep.histplot(num_jet/den, \n",
    "             yerr=get_yerr(num_jet,den),\n",
    "             ax = ax,\n",
    "             histtype='errorbar', color='black', capsize=4, elinewidth=1, label=\"Electron jet\",         \n",
    ")\n",
    "hep.histplot(num_extra/den, \n",
    "             yerr=get_yerr(num_extra,den),\n",
    "             ax = ax,\n",
    "             histtype='errorbar', color='orange', capsize=4, elinewidth=1, label=\"Electron extra\",         \n",
    ")\n",
    "hep.histplot(num_photon/den, \n",
    "             yerr=get_yerr(num_photon,den),\n",
    "             ax = ax,\n",
    "             histtype='errorbar', color='magenta', capsize=4, elinewidth=1, label=\"Photon\",         \n",
    ")\n",
    "ax.set_ylim(0,1)\n",
    "ax.set_xlim(0,400)\n",
    "ax.legend()\n",
    "plt.savefig('plots/ele_triggers/leppt.pdf');"
   ]
  },
  {
   "cell_type": "code",
   "execution_count": 16,
   "id": "45b30783-e228-40b4-a304-8846973f5aab",
   "metadata": {},
   "outputs": [
    {
     "data": {
      "image/png": "[encoded data removed]",
      "text/plain": [
       "<Figure size 432x288 with 1 Axes>"
      ]
     },
     "metadata": {
      "needs_background": "light"
     },
     "output_type": "display_data"
    }
   ],
   "source": [
    "# now we plot trigger efficiency as function of higgspt\n",
    "num_nom = hists[\"jet\"][{\"region\":\"numerator\",\"channel\":\"ele\",\"trigger\":\"nominal\", 'jetpt':sum, 'leppt':sum}]\n",
    "num_vvl = hists[\"jet\"][{\"region\":\"numerator\",\"channel\":\"ele\",\"trigger\":\"vvl\", 'jetpt':sum, 'leppt':sum}]\n",
    "num_met = hists[\"jet\"][{\"region\":\"numerator\",\"channel\":\"ele\",\"trigger\":\"met\", 'jetpt':sum, 'leppt':sum}]\n",
    "num_jet = hists[\"jet\"][{\"region\":\"numerator\",\"channel\":\"ele\",\"trigger\":\"jet\", 'jetpt':sum, 'leppt':sum}]\n",
    "num_photon = hists[\"jet\"][{\"region\":\"numerator\",\"channel\":\"ele\",\"trigger\":\"photon\", 'jetpt':sum, 'leppt':sum}]\n",
    "num_extra = hists[\"jet\"][{\"region\":\"numerator\",\"channel\":\"ele\",\"trigger\":\"extra\", 'jetpt':sum, 'leppt':sum}]\n",
    "\n",
    "den = hists[\"jet\"][{\"region\":\"denominator\",\"channel\":\"ele\",\"trigger\":sum, 'jetpt':sum, 'leppt':sum}]\n",
    "\n",
    "import matplotlib.pyplot as plt\n",
    "import mplhep as hep\n",
    "from hist.intervals import clopper_pearson_interval\n",
    "def get_yerr(num,den):\n",
    "    return abs(clopper_pearson_interval(num.view(), den.view()) - num.view()/den.view())\n",
    "\n",
    "fig, ax = plt.subplots(1, 1)\n",
    "hep.histplot(num_nom/den, \n",
    "             yerr=get_yerr(num_nom,den),\n",
    "             ax = ax,\n",
    "             histtype='errorbar', color='red', capsize=4, elinewidth=1, label=\"Electron Nominal\",         \n",
    ")\n",
    "hep.histplot(num_vvl/den, \n",
    "             yerr=get_yerr(num_vvl,den),\n",
    "             ax = ax,\n",
    "             histtype='errorbar', color='blue', capsize=4, elinewidth=1, label=\"Electron VVL\",         \n",
    ")\n",
    "hep.histplot(num_met/den, \n",
    "             yerr=get_yerr(num_met,den),\n",
    "             ax = ax,\n",
    "             histtype='errorbar', color='green', capsize=4, elinewidth=1, label=\"Electron MET\",         \n",
    ")\n",
    "hep.histplot(num_jet/den, \n",
    "             yerr=get_yerr(num_jet,den),\n",
    "             ax = ax,\n",
    "             histtype='errorbar', color='black', capsize=4, elinewidth=1, label=\"Electron jet\",         \n",
    ")\n",
    "hep.histplot(num_extra/den, \n",
    "             yerr=get_yerr(num_extra,den),\n",
    "             ax = ax,\n",
    "             histtype='errorbar', color='orange', capsize=4, elinewidth=1, label=\"Electron extra\",         \n",
    ")\n",
    "hep.histplot(num_photon/den, \n",
    "             yerr=get_yerr(num_photon,den),\n",
    "             ax = ax,\n",
    "             histtype='errorbar', color='magenta', capsize=4, elinewidth=1, label=\"Photon\",         \n",
    ")\n",
    "ax.set_ylim(0,1)\n",
    "ax.legend()\n",
    "plt.savefig('plots/ele_triggers/higgpt.pdf');"
   ]
  },
  {
   "cell_type": "markdown",
   "id": "a11c191f-48c4-460c-a1e9-f92ce6de419b",
   "metadata": {},
   "source": [
    "### Plotting: deltaR, HT"
   ]
  },
  {
   "cell_type": "code",
   "execution_count": 17,
   "id": "021a953b-c842-4d7b-9a7b-d168d692f8c2",
   "metadata": {},
   "outputs": [
    {
     "data": {
      "text/html": [
       "<html>\n",
       "<div style=\"display:flex; align-items:center;\">\n",
       "<div style=\"width:290px;\">\n",
       "<svg xmlns=\"http://www.w3.org/2000/svg\" viewBox=\"-10 -10 220 220\">\n",
       "<rect x=\"0\" y=\"0\" width=\"160\" height=\"160\" style=\"fill:white;opacity:.5;stroke-width:2;stroke:currentColor;\"/>\n",
       "<rect x=\"20\" y=\"20\" width=\"160\" height=\"160\" style=\"fill:white;opacity:.5;stroke-width:2;stroke:currentColor;\"/>\n",
       "<rect x=\"40\" y=\"40\" width=\"160\" height=\"160\" style=\"fill:white;opacity:.5;stroke-width:2;stroke:currentColor;\"/>\n",
       "<text x=\"120.0\" y=\"120.0\" style=\"font-size: 26pt; font-family: verdana; font-style: bold; fill: black;\" text-anchor=\"middle\" alignment-baseline=\"middle\">\n",
       "5D\n",
       "</text>\n",
       "</svg>\n",
       "</div>\n",
       "<div style=\"flex=grow:1;\">\n",
       "StrCategory(['ele'], growth=True, name='channel', label='channel')<br/>\n",
       "StrCategory(['numerator', 'denominator'], name='region', label='region')<br/>\n",
       "StrCategory(['all', 'nominal', 'vvl', 'met', 'jet', 'extra', 'photon'], growth=True, name='trigger', label='trigger')<br/>\n",
       "Regular(20, 0, 1.5, name='deltaR', label='deltaR')<br/>\n",
       "Regular(20, 180, 1500, name='ht', label='HT [GeV]')<br/>\n",
       "<hr style=\"margin-top:.2em; margin-bottom:.2em;\"/>\n",
       "Double() Σ=50286.0 <em>(96799.0 with flow)</em>\n",
       "\n",
       "</div>\n",
       "</div>\n",
       "</html>"
      ],
      "text/plain": [
       "Hist(\n",
       "  StrCategory(['ele'], growth=True, name='channel', label='channel'),\n",
       "  StrCategory(['numerator', 'denominator'], name='region', label='region'),\n",
       "  StrCategory(['all', 'nominal', 'vvl', 'met', 'jet', 'extra', 'photon'], growth=True, name='trigger', label='trigger'),\n",
       "  Regular(20, 0, 1.5, name='deltaR', label='deltaR'),\n",
       "  Regular(20, 180, 1500, name='ht', label='HT [GeV]'),\n",
       "  storage=Double()) # Sum: 50286.0 (96799.0 with flow)"
      ]
     },
     "execution_count": 17,
     "metadata": {},
     "output_type": "execute_result"
    }
   ],
   "source": [
    "# now we can make histograms for deltaR and HT\n",
    "import hist as hist2\n",
    "region_cat = hist2.axis.StrCategory([\"numerator\",\"denominator\"], name=\"region\")\n",
    "channel_cat = hist2.axis.StrCategory([], name='channel', growth=True)\n",
    "trigger_cat = hist2.axis.StrCategory([], name='trigger', growth=True)\n",
    "\n",
    "deltaR_axis = hist2.axis.Regular(20, 0, 1.5, name='deltaR', label=r'deltaR')\n",
    "ht_axis = hist2.axis.Regular(20,180, 1500, name='ht', label=r'HT [GeV]')\n",
    "\n",
    "hists = {}\n",
    "hists[\"jet\"] = hist2.Hist(\n",
    "                channel_cat,\n",
    "                region_cat,\n",
    "                trigger_cat,\n",
    "                deltaR_axis,\n",
    "                ht_axis,\n",
    "            )\n",
    "# now we can fill the histogram with the denominator (baseline selection already applied)\n",
    "deltaR = skimmed_events_ele[\"fj_lep_dR\"]\n",
    "ht = skimmed_events_ele[\"ht\"]\n",
    "\n",
    "hists[\"jet\"].fill(\n",
    "    channel=\"ele\",\n",
    "    region=\"denominator\",\n",
    "    trigger=\"all\",\n",
    "    deltaR=deltaR,\n",
    "    ht=ht\n",
    ")\n",
    "hists[\"jet\"].fill(\n",
    "    channel=\"ele\",\n",
    "    region=\"numerator\",\n",
    "    trigger=\"nominal\",\n",
    "    deltaR=deltaR[skimmed_events_ele[\"HLT_enominal\"]],\n",
    "    ht=ht[skimmed_events_ele[\"HLT_enominal\"]],\n",
    "\n",
    ")\n",
    "hists[\"jet\"].fill(\n",
    "    channel=\"ele\",\n",
    "    region=\"numerator\",\n",
    "    trigger=\"vvl\",\n",
    "    deltaR=deltaR[skimmed_events_ele[\"HLT_evvl\"]],    \n",
    "    ht=ht[skimmed_events_ele[\"HLT_evvl\"]],    \n",
    ")\n",
    "\n",
    "hists[\"jet\"].fill(\n",
    "    channel=\"ele\",\n",
    "    region=\"numerator\",\n",
    "    trigger=\"met\",\n",
    "    deltaR=deltaR[skimmed_events_ele[\"HLT_evvlmet\"]],    \n",
    "    ht=ht[skimmed_events_ele[\"HLT_evvlmet\"]],    \n",
    ")\n",
    "\n",
    "hists[\"jet\"].fill(\n",
    "    channel=\"ele\",\n",
    "    region=\"numerator\",\n",
    "    trigger=\"jet\",\n",
    "    deltaR=deltaR[skimmed_events_ele[\"HLT_ejet\"]],    \n",
    "    ht=ht[skimmed_events_ele[\"HLT_ejet\"]],    \n",
    ")\n",
    "\n",
    "hists[\"jet\"].fill(\n",
    "    channel=\"ele\",\n",
    "    region=\"numerator\",\n",
    "    trigger=\"extra\",\n",
    "    deltaR=deltaR[skimmed_events_ele[\"HLT_eextra\"]],    \n",
    "    ht=ht[skimmed_events_ele[\"HLT_eextra\"]],    \n",
    ")\n",
    "\n",
    "hists[\"jet\"].fill(\n",
    "    channel=\"ele\",\n",
    "    region=\"numerator\",\n",
    "    trigger=\"photon\",\n",
    "    deltaR=deltaR[skimmed_events_ele[\"HLT_photon\"]],    \n",
    "    ht=ht[skimmed_events_ele[\"HLT_photon\"]],    \n",
    ")\n",
    "\n",
    "hists[\"jet\"]"
   ]
  },
  {
   "cell_type": "code",
   "execution_count": 18,
   "id": "7046f00e-9a0e-43eb-8359-9445ed22c5dd",
   "metadata": {},
   "outputs": [
    {
     "data": {
      "image/png": "[encoded data removed]",
      "text/plain": [
       "<Figure size 432x288 with 1 Axes>"
      ]
     },
     "metadata": {
      "needs_background": "light"
     },
     "output_type": "display_data"
    }
   ],
   "source": [
    "# now we plot trigger efficiency as function of deltaR\n",
    "num_nom = hists[\"jet\"][{\"region\":\"numerator\",\"channel\":\"ele\",\"trigger\":\"nominal\", 'ht':sum}]\n",
    "num_vvl = hists[\"jet\"][{\"region\":\"numerator\",\"channel\":\"ele\",\"trigger\":\"vvl\", 'ht':sum}]\n",
    "num_met = hists[\"jet\"][{\"region\":\"numerator\",\"channel\":\"ele\",\"trigger\":\"met\", 'ht':sum}]\n",
    "num_jet = hists[\"jet\"][{\"region\":\"numerator\",\"channel\":\"ele\",\"trigger\":\"jet\", 'ht':sum}]\n",
    "num_photon = hists[\"jet\"][{\"region\":\"numerator\",\"channel\":\"ele\",\"trigger\":\"photon\", 'ht':sum}]\n",
    "num_extra = hists[\"jet\"][{\"region\":\"numerator\",\"channel\":\"ele\",\"trigger\":\"extra\", 'ht':sum}]\n",
    "\n",
    "den = hists[\"jet\"][{\"region\":\"denominator\",\"channel\":\"ele\",\"trigger\":sum, 'ht':sum}]\n",
    "\n",
    "import matplotlib.pyplot as plt\n",
    "import mplhep as hep\n",
    "from hist.intervals import clopper_pearson_interval\n",
    "def get_yerr(num,den):\n",
    "    return abs(clopper_pearson_interval(num.view(), den.view()) - num.view()/den.view())\n",
    "\n",
    "fig, ax = plt.subplots(1, 1)\n",
    "hep.histplot(num_nom/den, \n",
    "             yerr=get_yerr(num_nom,den),\n",
    "             ax = ax,\n",
    "             histtype='errorbar', color='red', capsize=4, elinewidth=1, label=\"Electron Nominal\",         \n",
    ")\n",
    "hep.histplot(num_vvl/den, \n",
    "             yerr=get_yerr(num_vvl,den),\n",
    "             ax = ax,\n",
    "             histtype='errorbar', color='blue', capsize=4, elinewidth=1, label=\"Electron VVL\",         \n",
    ")\n",
    "hep.histplot(num_met/den, \n",
    "             yerr=get_yerr(num_met,den),\n",
    "             ax = ax,\n",
    "             histtype='errorbar', color='green', capsize=4, elinewidth=1, label=\"Electron MET\",         \n",
    ")\n",
    "hep.histplot(num_jet/den, \n",
    "             yerr=get_yerr(num_jet,den),\n",
    "             ax = ax,\n",
    "             histtype='errorbar', color='black', capsize=4, elinewidth=1, label=\"Electron jet\",         \n",
    ")\n",
    "hep.histplot(num_extra/den, \n",
    "             yerr=get_yerr(num_extra,den),\n",
    "             ax = ax,\n",
    "             histtype='errorbar', color='orange', capsize=4, elinewidth=1, label=\"Electron extra\",         \n",
    ")\n",
    "hep.histplot(num_photon/den, \n",
    "             yerr=get_yerr(num_photon,den),\n",
    "             ax = ax,\n",
    "             histtype='errorbar', color='magenta', capsize=4, elinewidth=1, label=\"Photon\",         \n",
    ")\n",
    "ax.set_ylim(0,1)\n",
    "ax.legend()\n",
    "plt.savefig('plots/ele_triggers/deltaR.pdf');"
   ]
  },
  {
   "cell_type": "code",
   "execution_count": 19,
   "id": "ac6f1ab6-6d5e-4ac5-9929-59c0018a5d59",
   "metadata": {},
   "outputs": [
    {
     "data": {
      "image/png": "[encoded data removed]",
      "text/plain": [
       "<Figure size 432x288 with 1 Axes>"
      ]
     },
     "metadata": {
      "needs_background": "light"
     },
     "output_type": "display_data"
    }
   ],
   "source": [
    "# now we plot trigger efficiency as function of ht\n",
    "num_nom = hists[\"jet\"][{\"region\":\"numerator\",\"channel\":\"ele\",\"trigger\":\"nominal\", 'deltaR':sum}]\n",
    "num_vvl = hists[\"jet\"][{\"region\":\"numerator\",\"channel\":\"ele\",\"trigger\":\"vvl\", 'deltaR':sum}]\n",
    "num_met = hists[\"jet\"][{\"region\":\"numerator\",\"channel\":\"ele\",\"trigger\":\"met\", 'deltaR':sum}]\n",
    "num_jet = hists[\"jet\"][{\"region\":\"numerator\",\"channel\":\"ele\",\"trigger\":\"jet\", 'deltaR':sum}]\n",
    "num_photon = hists[\"jet\"][{\"region\":\"numerator\",\"channel\":\"ele\",\"trigger\":\"photon\", 'deltaR':sum}]\n",
    "num_extra = hists[\"jet\"][{\"region\":\"numerator\",\"channel\":\"ele\",\"trigger\":\"extra\", 'deltaR':sum}]\n",
    "\n",
    "den = hists[\"jet\"][{\"region\":\"denominator\",\"channel\":\"ele\",\"trigger\":sum, 'deltaR':sum}]\n",
    "\n",
    "import matplotlib.pyplot as plt\n",
    "import mplhep as hep\n",
    "from hist.intervals import clopper_pearson_interval\n",
    "def get_yerr(num,den):\n",
    "    return abs(clopper_pearson_interval(num.view(), den.view()) - num.view()/den.view())\n",
    "\n",
    "fig, ax = plt.subplots(1, 1)\n",
    "hep.histplot(num_nom/den, \n",
    "             yerr=get_yerr(num_nom,den),\n",
    "             ax = ax,\n",
    "             histtype='errorbar', color='red', capsize=4, elinewidth=1, label=\"Electron Nominal\",         \n",
    ")\n",
    "hep.histplot(num_vvl/den, \n",
    "             yerr=get_yerr(num_vvl,den),\n",
    "             ax = ax,\n",
    "             histtype='errorbar', color='blue', capsize=4, elinewidth=1, label=\"Electron VVL\",         \n",
    ")\n",
    "hep.histplot(num_met/den, \n",
    "             yerr=get_yerr(num_met,den),\n",
    "             ax = ax,\n",
    "             histtype='errorbar', color='green', capsize=4, elinewidth=1, label=\"Electron MET\",         \n",
    ")\n",
    "hep.histplot(num_jet/den, \n",
    "             yerr=get_yerr(num_jet,den),\n",
    "             ax = ax,\n",
    "             histtype='errorbar', color='black', capsize=4, elinewidth=1, label=\"Electron jet\",         \n",
    ")\n",
    "hep.histplot(num_extra/den, \n",
    "             yerr=get_yerr(num_extra,den),\n",
    "             ax = ax,\n",
    "             histtype='errorbar', color='orange', capsize=4, elinewidth=1, label=\"Electron extra\",         \n",
    ")\n",
    "hep.histplot(num_photon/den, \n",
    "             yerr=get_yerr(num_photon,den),\n",
    "             ax = ax,\n",
    "             histtype='errorbar', color='magenta', capsize=4, elinewidth=1, label=\"Photon\",         \n",
    ")\n",
    "ax.set_ylim(0,1)\n",
    "ax.legend()\n",
    "plt.savefig('plots/ele_triggers/ht.pdf');"
   ]
  },
  {
   "cell_type": "markdown",
   "id": "f40bb440-03bb-49b4-af28-58e8540d0f63",
   "metadata": {},
   "source": [
    "### Plotting: lepton isolation"
   ]
  },
  {
   "cell_type": "code",
   "execution_count": 20,
   "id": "466bcd7f-ebff-4126-b7f4-295b293a7ee2",
   "metadata": {},
   "outputs": [
    {
     "data": {
      "text/html": [
       "<html>\n",
       "<div style=\"display:flex; align-items:center;\">\n",
       "<div style=\"width:290px;\">\n",
       "<svg xmlns=\"http://www.w3.org/2000/svg\" viewBox=\"-10 -10 220 220\">\n",
       "<rect x=\"0\" y=\"0\" width=\"160\" height=\"160\" style=\"fill:white;opacity:.5;stroke-width:2;stroke:currentColor;\"/>\n",
       "<rect x=\"20\" y=\"20\" width=\"160\" height=\"160\" style=\"fill:white;opacity:.5;stroke-width:2;stroke:currentColor;\"/>\n",
       "<rect x=\"40\" y=\"40\" width=\"160\" height=\"160\" style=\"fill:white;opacity:.5;stroke-width:2;stroke:currentColor;\"/>\n",
       "<text x=\"120.0\" y=\"120.0\" style=\"font-size: 26pt; font-family: verdana; font-style: bold; fill: black;\" text-anchor=\"middle\" alignment-baseline=\"middle\">\n",
       "4D\n",
       "</text>\n",
       "</svg>\n",
       "</div>\n",
       "<div style=\"flex=grow:1;\">\n",
       "StrCategory(['ele'], growth=True, name='channel', label='channel')<br/>\n",
       "StrCategory(['numerator', 'denominator'], name='region', label='region')<br/>\n",
       "StrCategory(['all', 'nominal', 'vvl', 'met', 'jet', 'extra', 'photon'], growth=True, name='trigger', label='trigger')<br/>\n",
       "Regular(20, 0, 3.5, name='lepiso', label='Lepton isolation')<br/>\n",
       "<hr style=\"margin-top:.2em; margin-bottom:.2em;\"/>\n",
       "Double() Σ=96596.0 <em>(96799.0 with flow)</em>\n",
       "\n",
       "</div>\n",
       "</div>\n",
       "</html>"
      ],
      "text/plain": [
       "Hist(\n",
       "  StrCategory(['ele'], growth=True, name='channel', label='channel'),\n",
       "  StrCategory(['numerator', 'denominator'], name='region', label='region'),\n",
       "  StrCategory(['all', 'nominal', 'vvl', 'met', 'jet', 'extra', 'photon'], growth=True, name='trigger', label='trigger'),\n",
       "  Regular(20, 0, 3.5, name='lepiso', label='Lepton isolation'),\n",
       "  storage=Double()) # Sum: 96596.0 (96799.0 with flow)"
      ]
     },
     "execution_count": 20,
     "metadata": {},
     "output_type": "execute_result"
    }
   ],
   "source": [
    "# now we can make histograms for lepton isolation\n",
    "import hist as hist2\n",
    "region_cat = hist2.axis.StrCategory([\"numerator\",\"denominator\"], name=\"region\")\n",
    "channel_cat = hist2.axis.StrCategory([], name='channel', growth=True)\n",
    "trigger_cat = hist2.axis.StrCategory([], name='trigger', growth=True)\n",
    "\n",
    "lepiso_axis = hist2.axis.Regular(20, 0, 3.5, name='lepiso', label=r'Lepton isolation')\n",
    "\n",
    "hists = {}\n",
    "hists[\"jet\"] = hist2.Hist(\n",
    "                channel_cat,\n",
    "                region_cat,\n",
    "                trigger_cat,\n",
    "                lepiso_axis,\n",
    "            )\n",
    "# now we can fill the histogram with the denominator (baseline selection already applied)\n",
    "lepiso = skimmed_events_ele[\"lep_isolation\"]\n",
    "\n",
    "hists[\"jet\"].fill(\n",
    "    channel=\"ele\",\n",
    "    region=\"denominator\",\n",
    "    trigger=\"all\",\n",
    "    lepiso=lepiso,\n",
    ")\n",
    "hists[\"jet\"].fill(\n",
    "    channel=\"ele\",\n",
    "    region=\"numerator\",\n",
    "    trigger=\"nominal\",\n",
    "    lepiso=lepiso[skimmed_events_ele[\"HLT_enominal\"]],\n",
    ")\n",
    "hists[\"jet\"].fill(\n",
    "    channel=\"ele\",\n",
    "    region=\"numerator\",\n",
    "    trigger=\"vvl\",  \n",
    "    lepiso=lepiso[skimmed_events_ele[\"HLT_evvl\"]],\n",
    ")\n",
    "\n",
    "hists[\"jet\"].fill(\n",
    "    channel=\"ele\",\n",
    "    region=\"numerator\",\n",
    "    trigger=\"met\",  \n",
    "    lepiso=lepiso[skimmed_events_ele[\"HLT_evvlmet\"]],\n",
    ")\n",
    "hists[\"jet\"].fill(\n",
    "    channel=\"ele\",\n",
    "    region=\"numerator\",\n",
    "    trigger=\"jet\",\n",
    "    lepiso=lepiso[skimmed_events_ele[\"HLT_ejet\"]],\n",
    ")\n",
    "hists[\"jet\"].fill(\n",
    "    channel=\"ele\",\n",
    "    region=\"numerator\",\n",
    "    trigger=\"extra\",\n",
    "    lepiso=lepiso[skimmed_events_ele[\"HLT_eextra\"]],\n",
    ")\n",
    "hists[\"jet\"].fill(\n",
    "    channel=\"ele\",\n",
    "    region=\"numerator\",\n",
    "    trigger=\"photon\",\n",
    "    lepiso=lepiso[skimmed_events_ele[\"HLT_photon\"]],\n",
    ")\n",
    "hists[\"jet\"]"
   ]
  },
  {
   "cell_type": "code",
   "execution_count": 21,
   "id": "ab03acbd-ae2d-477b-93c4-25f5d1650d7e",
   "metadata": {},
   "outputs": [
    {
     "data": {
      "image/png": "[encoded data removed]",
      "text/plain": [
       "<Figure size 432x288 with 1 Axes>"
      ]
     },
     "metadata": {
      "needs_background": "light"
     },
     "output_type": "display_data"
    }
   ],
   "source": [
    "# now we plot trigger efficiency as function of ht\n",
    "num_nom = hists[\"jet\"][{\"region\":\"numerator\",\"channel\":\"ele\",\"trigger\":\"nominal\"}]\n",
    "num_vvl = hists[\"jet\"][{\"region\":\"numerator\",\"channel\":\"ele\",\"trigger\":\"vvl\"}]\n",
    "num_met = hists[\"jet\"][{\"region\":\"numerator\",\"channel\":\"ele\",\"trigger\":\"met\"}]\n",
    "num_jet = hists[\"jet\"][{\"region\":\"numerator\",\"channel\":\"ele\",\"trigger\":\"jet\"}]\n",
    "num_extra = hists[\"jet\"][{\"region\":\"numerator\",\"channel\":\"ele\",\"trigger\":\"extra\"}]\n",
    "num_photon = hists[\"jet\"][{\"region\":\"numerator\",\"channel\":\"ele\",\"trigger\":\"photon\"}]\n",
    "\n",
    "den = hists[\"jet\"][{\"region\":\"denominator\",\"channel\":\"ele\",\"trigger\":sum}]\n",
    "\n",
    "import matplotlib.pyplot as plt\n",
    "import mplhep as hep\n",
    "from hist.intervals import clopper_pearson_interval\n",
    "def get_yerr(num,den):\n",
    "    return abs(clopper_pearson_interval(num.view(), den.view()) - num.view()/den.view())\n",
    "\n",
    "fig, ax = plt.subplots(1, 1)\n",
    "hep.histplot(num_nom/den, \n",
    "             yerr=get_yerr(num_nom,den),\n",
    "             ax = ax,\n",
    "             histtype='errorbar', color='red', capsize=4, elinewidth=1, label=\"Electron Nominal\",         \n",
    ")\n",
    "hep.histplot(num_vvl/den, \n",
    "             yerr=get_yerr(num_vvl,den),\n",
    "             ax = ax,\n",
    "             histtype='errorbar', color='blue', capsize=4, elinewidth=1, label=\"Electron VVL\",         \n",
    ")\n",
    "hep.histplot(num_met/den, \n",
    "             yerr=get_yerr(num_met,den),\n",
    "             ax = ax,\n",
    "             histtype='errorbar', color='green', capsize=4, elinewidth=1, label=\"Electron MET\",         \n",
    ")\n",
    "hep.histplot(num_jet/den, \n",
    "             yerr=get_yerr(num_jet,den),\n",
    "             ax = ax,\n",
    "             histtype='errorbar', color='black', capsize=4, elinewidth=1, label=\"Electron jet\",         \n",
    ")\n",
    "hep.histplot(num_extra/den, \n",
    "             yerr=get_yerr(num_extra,den),\n",
    "             ax = ax,\n",
    "             histtype='errorbar', color='orange', capsize=4, elinewidth=1, label=\"Electron extra\",         \n",
    ")\n",
    "hep.histplot(num_photon/den, \n",
    "             yerr=get_yerr(num_photon,den),\n",
    "             ax = ax,\n",
    "             histtype='errorbar', color='magenta', capsize=4, elinewidth=1, label=\"Photon\",         \n",
    ")\n",
    "ax.set_ylim(0,1)\n",
    "ax.legend()\n",
    "plt.savefig('plots/ele_triggers/lepiso.pdf');"
   ]
  },
  {
   "cell_type": "markdown",
   "id": "c0c734c5-65e8-4653-a4f4-4578e318f9fd",
   "metadata": {},
   "source": [
    "## Plotting distribution"
   ]
  },
  {
   "cell_type": "code",
   "execution_count": 22,
   "id": "b592e887-70b9-40c1-812b-97d65efe116c",
   "metadata": {},
   "outputs": [
    {
     "data": {
      "image/png": "[encoded data removed]",
      "text/plain": [
       "<Figure size 432x288 with 1 Axes>"
      ]
     },
     "metadata": {
      "needs_background": "light"
     },
     "output_type": "display_data"
    }
   ],
   "source": [
    "### plotting deltaR distribution\n",
    "plt.hist(deltaR);"
   ]
  },
  {
   "cell_type": "code",
   "execution_count": 23,
   "id": "a256b8e7-384d-428c-a12e-647ba00499de",
   "metadata": {},
   "outputs": [
    {
     "data": {
      "image/png": "[encoded data removed]",
      "text/plain": [
       "<Figure size 432x288 with 1 Axes>"
      ]
     },
     "metadata": {
      "needs_background": "light"
     },
     "output_type": "display_data"
    }
   ],
   "source": [
    "### plotting deltaR distribution\n",
    "deltaR_axis = hist2.axis.Regular(50,0,6, name='deltaR', label=r'deltaR between the lepton and the jet')\n",
    "\n",
    "hists = hist2.Hist(\n",
    "                deltaR_axis,\n",
    "            )\n",
    "# now we can fill the histogram with the denominator (baseline selection already applied)\n",
    "hists.fill(deltaR)\n",
    "hep.histplot(hists.fill(deltaR));"
   ]
  },
  {
   "cell_type": "markdown",
   "id": "35bc2a77-5270-4b3e-adfe-e4b72dbaf2de",
   "metadata": {},
   "source": [
    "### Making OR"
   ]
  },
  {
   "cell_type": "code",
   "execution_count": 24,
   "id": "a05dbe2d-a395-4b0d-b7ef-004f9399c71c",
   "metadata": {},
   "outputs": [
    {
     "data": {
      "text/html": [
       "<html>\n",
       "<div style=\"display:flex; align-items:center;\">\n",
       "<div style=\"width:290px;\">\n",
       "<svg xmlns=\"http://www.w3.org/2000/svg\" viewBox=\"-10 -10 220 220\">\n",
       "<rect x=\"0\" y=\"0\" width=\"160\" height=\"160\" style=\"fill:white;opacity:.5;stroke-width:2;stroke:currentColor;\"/>\n",
       "<rect x=\"20\" y=\"20\" width=\"160\" height=\"160\" style=\"fill:white;opacity:.5;stroke-width:2;stroke:currentColor;\"/>\n",
       "<rect x=\"40\" y=\"40\" width=\"160\" height=\"160\" style=\"fill:white;opacity:.5;stroke-width:2;stroke:currentColor;\"/>\n",
       "<text x=\"120.0\" y=\"120.0\" style=\"font-size: 26pt; font-family: verdana; font-style: bold; fill: black;\" text-anchor=\"middle\" alignment-baseline=\"middle\">\n",
       "6D\n",
       "</text>\n",
       "</svg>\n",
       "</div>\n",
       "<div style=\"flex=grow:1;\">\n",
       "StrCategory(['ele'], growth=True, name='channel', label='channel')<br/>\n",
       "StrCategory(['numerator', 'denominator'], name='region', label='region')<br/>\n",
       "StrCategory(['all', 'nominal+vvl', 'nominal+vvl+jet+extra+photon'], growth=True, name='trigger', label='trigger')<br/>\n",
       "Regular(25, 100, 700, name='higgspt', label='matched H $p_T$ [GeV]')<br/>\n",
       "Regular(25, 200, 700, name='jetpt', label='Jet $p_T$ [GeV]')<br/>\n",
       "Regular(25, 10, 400, name='leppt', label='Lepton $p_T$ [GeV]')<br/>\n",
       "<hr style=\"margin-top:.2em; margin-bottom:.2em;\"/>\n",
       "Double() Σ=34066.0 <em>(68738.0 with flow)</em>\n",
       "\n",
       "</div>\n",
       "</div>\n",
       "</html>"
      ],
      "text/plain": [
       "Hist(\n",
       "  StrCategory(['ele'], growth=True, name='channel', label='channel'),\n",
       "  StrCategory(['numerator', 'denominator'], name='region', label='region'),\n",
       "  StrCategory(['all', 'nominal+vvl', 'nominal+vvl+jet+extra+photon'], growth=True, name='trigger', label='trigger'),\n",
       "  Regular(25, 100, 700, name='higgspt', label='matched H $p_T$ [GeV]'),\n",
       "  Regular(25, 200, 700, name='jetpt', label='Jet $p_T$ [GeV]'),\n",
       "  Regular(25, 10, 400, name='leppt', label='Lepton $p_T$ [GeV]'),\n",
       "  storage=Double()) # Sum: 34066.0 (68738.0 with flow)"
      ]
     },
     "execution_count": 24,
     "metadata": {},
     "output_type": "execute_result"
    }
   ],
   "source": [
    "# now we can make histograms for higgspt, jetpt, leptonpt\n",
    "import hist as hist2\n",
    "region_cat = hist2.axis.StrCategory([\"numerator\",\"denominator\"], name=\"region\")\n",
    "channel_cat = hist2.axis.StrCategory([], name='channel', growth=True)\n",
    "trigger_cat = hist2.axis.StrCategory([], name='trigger', growth=True)\n",
    "\n",
    "hpt_axis = hist2.axis.Regular(25, 100, 700, name='higgspt', label=r'matched H $p_T$ [GeV]')\n",
    "jetpt_axis = hist2.axis.Regular(25, 200, 700, name='jetpt', label=r'Jet $p_T$ [GeV]')\n",
    "leppt_axis = hist2.axis.Regular(25, 10, 400, name='leppt', label=r'Lepton $p_T$ [GeV]')\n",
    "\n",
    "hists = {}\n",
    "hists[\"jet\"] = hist2.Hist(\n",
    "                channel_cat,\n",
    "                region_cat,\n",
    "                trigger_cat,\n",
    "                hpt_axis,\n",
    "                jetpt_axis,\n",
    "                leppt_axis,\n",
    "            )\n",
    "# now we can fill the histogram with the denominator (baseline selection already applied)\n",
    "higgspt = skimmed_events_ele[\"higgspt\"]\n",
    "jetpt = skimmed_events_ele[\"fj_pt\"]\n",
    "leppt = skimmed_events_ele[\"lep_pt\"]\n",
    "\n",
    "hists[\"jet\"].fill(\n",
    "    channel=\"ele\",\n",
    "    region=\"denominator\",\n",
    "    trigger=\"all\",\n",
    "    higgspt=higgspt,\n",
    "    jetpt=jetpt,\n",
    "    leppt=leppt,\n",
    ")\n",
    "hists[\"jet\"].fill(\n",
    "    channel=\"ele\",\n",
    "    region=\"numerator\",\n",
    "    trigger=\"nominal+vvl\",\n",
    "    higgspt=higgspt[skimmed_events_ele[\"HLT_enominal\"] | skimmed_events_ele[\"HLT_evvl\"]],\n",
    "    jetpt=jetpt[skimmed_events_ele[\"HLT_enominal\"] | skimmed_events_ele[\"HLT_evvl\"]],\n",
    "    leppt=leppt[skimmed_events_ele[\"HLT_enominal\"] | skimmed_events_ele[\"HLT_evvl\"]],\n",
    ")\n",
    "hists[\"jet\"].fill(\n",
    "    channel=\"ele\",\n",
    "    region=\"numerator\",\n",
    "    trigger=\"nominal+vvl+jet+extra+photon\",\n",
    "    higgspt=higgspt[skimmed_events_ele[\"HLT_enominal\"] | skimmed_events_ele[\"HLT_evvl\"] | skimmed_events_ele[\"HLT_ejet\"] | skimmed_events_ele[\"HLT_photon\"] | skimmed_events_ele[\"HLT_eextra\"]],\n",
    "    jetpt=jetpt[skimmed_events_ele[\"HLT_enominal\"] | skimmed_events_ele[\"HLT_evvl\"] | skimmed_events_ele[\"HLT_ejet\"] | skimmed_events_ele[\"HLT_photon\"] | skimmed_events_ele[\"HLT_eextra\"]],\n",
    "    leppt=leppt[skimmed_events_ele[\"HLT_enominal\"] | skimmed_events_ele[\"HLT_evvl\"] | skimmed_events_ele[\"HLT_ejet\"]  | skimmed_events_ele[\"HLT_photon\"] | skimmed_events_ele[\"HLT_eextra\"]],\n",
    ")\n",
    "\n",
    "hists[\"jet\"]"
   ]
  },
  {
   "cell_type": "code",
   "execution_count": 25,
   "id": "f3ccc357-efb8-4146-ab15-a427996437e4",
   "metadata": {},
   "outputs": [
    {
     "name": "stderr",
     "output_type": "stream",
     "text": [
      "/tmp/ipykernel_172/478836420.py:11: RuntimeWarning: invalid value encountered in true_divide\n",
      "  return abs(clopper_pearson_interval(num.view(), den.view()) - num.view()/den.view())\n",
      "/tmp/ipykernel_172/478836420.py:11: RuntimeWarning: invalid value encountered in true_divide\n",
      "  return abs(clopper_pearson_interval(num.view(), den.view()) - num.view()/den.view())\n"
     ]
    },
    {
     "data": {
      "image/png": "[encoded data removed]",
      "text/plain": [
       "<Figure size 432x288 with 1 Axes>"
      ]
     },
     "metadata": {
      "needs_background": "light"
     },
     "output_type": "display_data"
    }
   ],
   "source": [
    "# now we plot trigger efficiency as function of leptonpt\n",
    "num_nomvvl = hists[\"jet\"][{\"region\":\"numerator\",\"channel\":\"ele\",\"trigger\":\"nominal+vvl\", 'jetpt':sum, 'higgspt':sum}]\n",
    "num_most = hists[\"jet\"][{\"region\":\"numerator\",\"channel\":\"ele\",\"trigger\":\"nominal+vvl+jet+extra+photon\", 'jetpt':sum, 'higgspt':sum}]\n",
    "\n",
    "den = hists[\"jet\"][{\"region\":\"denominator\",\"channel\":\"ele\",\"trigger\":sum, 'jetpt':sum, 'higgspt':sum}]\n",
    "\n",
    "import matplotlib.pyplot as plt\n",
    "import mplhep as hep\n",
    "from hist.intervals import clopper_pearson_interval\n",
    "def get_yerr(num,den):\n",
    "    return abs(clopper_pearson_interval(num.view(), den.view()) - num.view()/den.view())\n",
    "\n",
    "fig, ax = plt.subplots(1, 1)\n",
    "hep.histplot(num_nomvvl/den, \n",
    "             yerr=get_yerr(num_nomvvl,den),\n",
    "             ax = ax,\n",
    "             histtype='errorbar', color='red', capsize=4, elinewidth=1, label=\"Electron Nominal+VVL\",         \n",
    ")\n",
    "hep.histplot(num_most/den, \n",
    "             yerr=get_yerr(num_most,den),\n",
    "             ax = ax,\n",
    "             histtype='errorbar', color='blue', capsize=4, elinewidth=1, label=\"Electron Nominal+VVL+jet+extra+photon\",         \n",
    ")\n",
    "ax.set_ylim(0,1)\n",
    "ax.legend()\n",
    "plt.savefig('plots/ele_triggers/most/leppt.pdf');"
   ]
  },
  {
   "cell_type": "code",
   "execution_count": 26,
   "id": "60415e84-188d-4a8e-ab57-c467325ad611",
   "metadata": {},
   "outputs": [
    {
     "data": {
      "image/png": "[encoded data removed]",
      "text/plain": [
       "<Figure size 432x288 with 1 Axes>"
      ]
     },
     "metadata": {
      "needs_background": "light"
     },
     "output_type": "display_data"
    }
   ],
   "source": [
    "# now we plot trigger efficiency as function of higgspt\n",
    "num_nomvvl = hists[\"jet\"][{\"region\":\"numerator\",\"channel\":\"ele\",\"trigger\":\"nominal+vvl\", 'leppt':sum, 'jetpt':sum}]\n",
    "num_most = hists[\"jet\"][{\"region\":\"numerator\",\"channel\":\"ele\",\"trigger\":\"nominal+vvl+jet+extra+photon\", 'leppt':sum, 'jetpt':sum}]\n",
    "\n",
    "den = hists[\"jet\"][{\"region\":\"denominator\",\"channel\":\"ele\",\"trigger\":sum, 'leppt':sum, 'jetpt':sum}]\n",
    "\n",
    "import matplotlib.pyplot as plt\n",
    "import mplhep as hep\n",
    "from hist.intervals import clopper_pearson_interval\n",
    "def get_yerr(num,den):\n",
    "    return abs(clopper_pearson_interval(num.view(), den.view()) - num.view()/den.view())\n",
    "\n",
    "fig, ax = plt.subplots(1, 1)\n",
    "hep.histplot(num_nomvvl/den, \n",
    "             yerr=get_yerr(num_nomvvl,den),\n",
    "             ax = ax,\n",
    "             histtype='errorbar', color='red', capsize=4, elinewidth=1, label=\"Electron Nominal+VVL\",         \n",
    ")\n",
    "hep.histplot(num_most/den, \n",
    "             yerr=get_yerr(num_most,den),\n",
    "             ax = ax,\n",
    "             histtype='errorbar', color='blue', capsize=4, elinewidth=1, label=\"Electron Nominal+VVL+jet+extra+photon\",         \n",
    ")\n",
    "ax.set_ylim(0,1)\n",
    "ax.legend()\n",
    "plt.savefig('plots/ele_triggers/most/higgspt.pdf');"
   ]
  },
  {
   "cell_type": "code",
   "execution_count": 27,
   "id": "3acd9c96-cdaa-4672-95a5-cb469b96d034",
   "metadata": {},
   "outputs": [
    {
     "data": {
      "image/png": "[encoded data removed]",
      "text/plain": [
       "<Figure size 432x288 with 1 Axes>"
      ]
     },
     "metadata": {
      "needs_background": "light"
     },
     "output_type": "display_data"
    }
   ],
   "source": [
    "# now we plot trigger efficiency as function of jetpt\n",
    "num_nomvvl = hists[\"jet\"][{\"region\":\"numerator\",\"channel\":\"ele\",\"trigger\":\"nominal+vvl\", 'higgspt':sum, 'leppt':sum}]\n",
    "num_most = hists[\"jet\"][{\"region\":\"numerator\",\"channel\":\"ele\",\"trigger\":\"nominal+vvl+jet+extra+photon\", 'higgspt':sum, 'leppt':sum}]\n",
    "\n",
    "den = hists[\"jet\"][{\"region\":\"denominator\",\"channel\":\"ele\",\"trigger\":sum, 'higgspt':sum, 'leppt':sum}]\n",
    "\n",
    "import matplotlib.pyplot as plt\n",
    "import mplhep as hep\n",
    "from hist.intervals import clopper_pearson_interval\n",
    "def get_yerr(num,den):\n",
    "    return abs(clopper_pearson_interval(num.view(), den.view()) - num.view()/den.view())\n",
    "\n",
    "fig, ax = plt.subplots(1, 1)\n",
    "hep.histplot(num_nomvvl/den, \n",
    "             yerr=get_yerr(num_nomvvl,den),\n",
    "             ax = ax,\n",
    "             histtype='errorbar', color='red', capsize=4, elinewidth=1, label=\"Electron Nominal+VVL\",         \n",
    ")\n",
    "hep.histplot(num_most/den, \n",
    "             yerr=get_yerr(num_most,den),\n",
    "             ax = ax,\n",
    "             histtype='errorbar', color='blue', capsize=4, elinewidth=1, label=\"Electron Nominal+vvl+jet+extra+photon\",         \n",
    ")\n",
    "ax.set_ylim(0,1)\n",
    "ax.legend()\n",
    "plt.savefig('plots/ele_triggers/most/jetpt.pdf');"
   ]
  },
  {
   "cell_type": "code",
   "execution_count": 28,
   "id": "4ba5aeb0-3e23-4908-a114-c0addf9cac3d",
   "metadata": {},
   "outputs": [
    {
     "data": {
      "text/html": [
       "<html>\n",
       "<div style=\"display:flex; align-items:center;\">\n",
       "<div style=\"width:290px;\">\n",
       "<svg xmlns=\"http://www.w3.org/2000/svg\" viewBox=\"-10 -10 220 220\">\n",
       "<rect x=\"0\" y=\"0\" width=\"160\" height=\"160\" style=\"fill:white;opacity:.5;stroke-width:2;stroke:currentColor;\"/>\n",
       "<rect x=\"20\" y=\"20\" width=\"160\" height=\"160\" style=\"fill:white;opacity:.5;stroke-width:2;stroke:currentColor;\"/>\n",
       "<rect x=\"40\" y=\"40\" width=\"160\" height=\"160\" style=\"fill:white;opacity:.5;stroke-width:2;stroke:currentColor;\"/>\n",
       "<text x=\"120.0\" y=\"120.0\" style=\"font-size: 26pt; font-family: verdana; font-style: bold; fill: black;\" text-anchor=\"middle\" alignment-baseline=\"middle\">\n",
       "6D\n",
       "</text>\n",
       "</svg>\n",
       "</div>\n",
       "<div style=\"flex=grow:1;\">\n",
       "StrCategory(['ele'], growth=True, name='channel', label='channel')<br/>\n",
       "StrCategory(['numerator', 'denominator'], name='region', label='region')<br/>\n",
       "StrCategory(['all', 'nominal+vvl', 'nominal+vvl+jet+extra+photon'], growth=True, name='trigger', label='trigger')<br/>\n",
       "Regular(20, 0, 1.5, name='deltaR', label='deltaR')<br/>\n",
       "Regular(20, 180, 1500, name='ht', label='HT [GeV]')<br/>\n",
       "Regular(20, 0, 3.5, name='lepiso', label='Lepton isolation')<br/>\n",
       "<hr style=\"margin-top:.2em; margin-bottom:.2em;\"/>\n",
       "Double() Σ=34366.0 <em>(68738.0 with flow)</em>\n",
       "\n",
       "</div>\n",
       "</div>\n",
       "</html>"
      ],
      "text/plain": [
       "Hist(\n",
       "  StrCategory(['ele'], growth=True, name='channel', label='channel'),\n",
       "  StrCategory(['numerator', 'denominator'], name='region', label='region'),\n",
       "  StrCategory(['all', 'nominal+vvl', 'nominal+vvl+jet+extra+photon'], growth=True, name='trigger', label='trigger'),\n",
       "  Regular(20, 0, 1.5, name='deltaR', label='deltaR'),\n",
       "  Regular(20, 180, 1500, name='ht', label='HT [GeV]'),\n",
       "  Regular(20, 0, 3.5, name='lepiso', label='Lepton isolation'),\n",
       "  storage=Double()) # Sum: 34366.0 (68738.0 with flow)"
      ]
     },
     "execution_count": 28,
     "metadata": {},
     "output_type": "execute_result"
    }
   ],
   "source": [
    "# now we can make histograms for deltaR, ht, lepiso\n",
    "import hist as hist2\n",
    "region_cat = hist2.axis.StrCategory([\"numerator\",\"denominator\"], name=\"region\")\n",
    "channel_cat = hist2.axis.StrCategory([], name='channel', growth=True)\n",
    "trigger_cat = hist2.axis.StrCategory([], name='trigger', growth=True)\n",
    "\n",
    "deltaR_axis = hist2.axis.Regular(20, 0, 1.5, name='deltaR', label=r'deltaR')\n",
    "ht_axis = hist2.axis.Regular(20,180, 1500, name='ht', label=r'HT [GeV]')\n",
    "lepiso_axis = hist2.axis.Regular(20, 0, 3.5, name='lepiso', label=r'Lepton isolation')\n",
    "\n",
    "hists = {}\n",
    "hists[\"jet\"] = hist2.Hist(\n",
    "                channel_cat,\n",
    "                region_cat,\n",
    "                trigger_cat,\n",
    "                deltaR_axis,\n",
    "                ht_axis,\n",
    "                lepiso_axis,\n",
    "            )\n",
    "# now we can fill the histogram with the denominator (baseline selection already applied)\n",
    "deltaR = skimmed_events_ele[\"fj_lep_dR\"]\n",
    "ht = skimmed_events_ele[\"ht\"]\n",
    "lepiso = skimmed_events_ele[\"lep_isolation\"]\n",
    "\n",
    "hists[\"jet\"].fill(\n",
    "    channel=\"ele\",\n",
    "    region=\"denominator\",\n",
    "    trigger=\"all\",\n",
    "    deltaR=deltaR,\n",
    "    ht=ht,\n",
    "    lepiso=lepiso\n",
    ")\n",
    "hists[\"jet\"].fill(\n",
    "    channel=\"ele\",\n",
    "    region=\"numerator\",\n",
    "    trigger=\"nominal+vvl\",\n",
    "    deltaR=deltaR[skimmed_events_ele[\"HLT_enominal\"] | skimmed_events_ele[\"HLT_evvl\"]],\n",
    "    ht=ht[skimmed_events_ele[\"HLT_enominal\"] | skimmed_events_ele[\"HLT_evvl\"]],\n",
    "    lepiso=lepiso[skimmed_events_ele[\"HLT_enominal\"] | skimmed_events_ele[\"HLT_evvl\"]],\n",
    ")\n",
    "hists[\"jet\"].fill(\n",
    "    channel=\"ele\",\n",
    "    region=\"numerator\",\n",
    "    trigger=\"nominal+vvl+jet+extra+photon\",\n",
    "    deltaR=deltaR[skimmed_events_ele[\"HLT_enominal\"] | skimmed_events_ele[\"HLT_evvl\"] | skimmed_events_ele[\"HLT_ejet\"] | skimmed_events_ele[\"HLT_photon\"] | skimmed_events_ele[\"HLT_eextra\"]],\n",
    "    ht=ht[skimmed_events_ele[\"HLT_enominal\"] | skimmed_events_ele[\"HLT_evvl\"] | skimmed_events_ele[\"HLT_ejet\"] | skimmed_events_ele[\"HLT_photon\"] | skimmed_events_ele[\"HLT_eextra\"]],\n",
    "    lepiso=lepiso[skimmed_events_ele[\"HLT_enominal\"] | skimmed_events_ele[\"HLT_evvl\"] | skimmed_events_ele[\"HLT_ejet\"] | skimmed_events_ele[\"HLT_photon\"] |  skimmed_events_ele[\"HLT_eextra\"]],\n",
    ")\n",
    "\n",
    "hists[\"jet\"]"
   ]
  },
  {
   "cell_type": "code",
   "execution_count": 29,
   "id": "b0faca7f-4e2b-4058-ad54-2be3b608e670",
   "metadata": {},
   "outputs": [
    {
     "data": {
      "image/png": "[encoded data removed]",
      "text/plain": [
       "<Figure size 432x288 with 1 Axes>"
      ]
     },
     "metadata": {
      "needs_background": "light"
     },
     "output_type": "display_data"
    }
   ],
   "source": [
    "# now we plot trigger efficiency as function of deltaR\n",
    "num_nomvvl = hists[\"jet\"][{\"region\":\"numerator\",\"channel\":\"ele\",\"trigger\":\"nominal+vvl\", 'ht':sum, 'lepiso':sum}]\n",
    "num_most = hists[\"jet\"][{\"region\":\"numerator\",\"channel\":\"ele\",\"trigger\":\"nominal+vvl+jet+extra+photon\", 'ht':sum, 'lepiso':sum}]\n",
    "\n",
    "den = hists[\"jet\"][{\"region\":\"denominator\",\"channel\":\"ele\",\"trigger\":sum, 'ht':sum, 'lepiso':sum}]\n",
    "\n",
    "import matplotlib.pyplot as plt\n",
    "import mplhep as hep\n",
    "from hist.intervals import clopper_pearson_interval\n",
    "def get_yerr(num,den):\n",
    "    return abs(clopper_pearson_interval(num.view(), den.view()) - num.view()/den.view())\n",
    "\n",
    "fig, ax = plt.subplots(1, 1)\n",
    "hep.histplot(num_nomvvl/den, \n",
    "             yerr=get_yerr(num_nomvvl,den),\n",
    "             ax = ax,\n",
    "             histtype='errorbar', color='red', capsize=4, elinewidth=1, label=\"Electron Nominal+VVL\",         \n",
    ")\n",
    "hep.histplot(num_most/den, \n",
    "             yerr=get_yerr(num_most,den),\n",
    "             ax = ax,\n",
    "             histtype='errorbar', color='blue', capsize=4, elinewidth=1, label=\"Electron Nominal+VVL+jet+extra+photon\",         \n",
    ")\n",
    "ax.set_ylim(0,1)\n",
    "ax.legend()\n",
    "plt.savefig('plots/ele_triggers/most/deltaR.pdf');"
   ]
  },
  {
   "cell_type": "code",
   "execution_count": 30,
   "id": "7c173541-4602-4692-8dc9-cbe2d38edf59",
   "metadata": {},
   "outputs": [
    {
     "data": {
      "image/png": "[encoded data removed]",
      "text/plain": [
       "<Figure size 432x288 with 1 Axes>"
      ]
     },
     "metadata": {
      "needs_background": "light"
     },
     "output_type": "display_data"
    }
   ],
   "source": [
    "# now we plot trigger efficiency as function of ht\n",
    "num_nomvvl = hists[\"jet\"][{\"region\":\"numerator\",\"channel\":\"ele\",\"trigger\":\"nominal+vvl\", 'deltaR':sum, 'lepiso':sum}]\n",
    "num_most = hists[\"jet\"][{\"region\":\"numerator\",\"channel\":\"ele\",\"trigger\":\"nominal+vvl+jet+extra+photon\", 'deltaR':sum, 'lepiso':sum}]\n",
    "\n",
    "den = hists[\"jet\"][{\"region\":\"denominator\",\"channel\":\"ele\",\"trigger\":sum, 'deltaR':sum, 'lepiso':sum}]\n",
    "\n",
    "import matplotlib.pyplot as plt\n",
    "import mplhep as hep\n",
    "from hist.intervals import clopper_pearson_interval\n",
    "def get_yerr(num,den):\n",
    "    return abs(clopper_pearson_interval(num.view(), den.view()) - num.view()/den.view())\n",
    "\n",
    "fig, ax = plt.subplots(1, 1)\n",
    "hep.histplot(num_nomvvl/den, \n",
    "             yerr=get_yerr(num_nomvvl,den),\n",
    "             ax = ax,\n",
    "             histtype='errorbar', color='red', capsize=4, elinewidth=1, label=\"Electron Nominal+VVL\",         \n",
    ")\n",
    "hep.histplot(num_most/den, \n",
    "             yerr=get_yerr(num_most,den),\n",
    "             ax = ax,\n",
    "             histtype='errorbar', color='blue', capsize=4, elinewidth=1, label=\"Electron Nominal+VVL+jet+extra+photon\",         \n",
    ")\n",
    "ax.set_ylim(0,1)\n",
    "ax.legend()\n",
    "plt.savefig('plots/ele_triggers/most/ht.pdf');"
   ]
  },
  {
   "cell_type": "code",
   "execution_count": 31,
   "id": "8336308f-47b5-4687-9271-1d8295f8dcd3",
   "metadata": {},
   "outputs": [
    {
     "data": {
      "image/png": "[encoded data removed]",
      "text/plain": [
       "<Figure size 432x288 with 1 Axes>"
      ]
     },
     "metadata": {
      "needs_background": "light"
     },
     "output_type": "display_data"
    }
   ],
   "source": [
    "# now we plot trigger efficiency as function of lepiso\n",
    "num_nomvvl = hists[\"jet\"][{\"region\":\"numerator\",\"channel\":\"ele\",\"trigger\":\"nominal+vvl\", 'deltaR':sum, 'ht':sum}]\n",
    "num_most = hists[\"jet\"][{\"region\":\"numerator\",\"channel\":\"ele\",\"trigger\":\"nominal+vvl+jet+extra+photon\", 'deltaR':sum, 'ht':sum}]\n",
    "\n",
    "den = hists[\"jet\"][{\"region\":\"denominator\",\"channel\":\"ele\",\"trigger\":sum, 'deltaR':sum, 'ht':sum}]\n",
    "\n",
    "import matplotlib.pyplot as plt\n",
    "import mplhep as hep\n",
    "from hist.intervals import clopper_pearson_interval\n",
    "def get_yerr(num,den):\n",
    "    return abs(clopper_pearson_interval(num.view(), den.view()) - num.view()/den.view())\n",
    "\n",
    "fig, ax = plt.subplots(1, 1)\n",
    "hep.histplot(num_nomvvl/den, \n",
    "             yerr=get_yerr(num_nomvvl,den),\n",
    "             ax = ax,\n",
    "             histtype='errorbar', color='red', capsize=4, elinewidth=1, label=\"Electron Nominal+VVL\",         \n",
    ")\n",
    "hep.histplot(num_most/den, \n",
    "             yerr=get_yerr(num_most,den),\n",
    "             ax = ax,\n",
    "             histtype='errorbar', color='blue', capsize=4, elinewidth=1, label=\"Electron Nominal+VVL+jet+extra+photon\",         \n",
    ")\n",
    "ax.set_ylim(0,1)\n",
    "ax.legend()\n",
    "plt.savefig('plots/ele_triggers/most/lepiso.pdf');"
   ]
  },
  {
   "cell_type": "code",
   "execution_count": null,
   "id": "a476e15f-8691-468d-9aab-c300f4a6be6a",
   "metadata": {},
   "outputs": [],
   "source": []
  },
  {
   "cell_type": "code",
   "execution_count": null,
   "id": "f4114e06-df9c-44ea-9430-2ad46f124f55",
   "metadata": {},
   "outputs": [],
   "source": []
  }
 ],
 "metadata": {
  "kernelspec": {
   "display_name": "Python 3 (ipykernel)",
   "language": "python",
   "name": "python3"
  },
  "language_info": {
   "codemirror_mode": {
    "name": "ipython",
    "version": 3
   },
   "file_extension": ".py",
   "mimetype": "text/x-python",
   "name": "python",
   "nbconvert_exporter": "python",
   "pygments_lexer": "ipython3",
   "version": "3.7.12"
  }
 },
 "nbformat": 4,
 "nbformat_minor": 5
}
