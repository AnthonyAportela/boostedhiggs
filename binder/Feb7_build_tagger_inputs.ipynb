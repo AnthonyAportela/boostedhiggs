{
 "cells": [
  {
   "cell_type": "code",
   "execution_count": 1,
   "id": "cb702c12",
   "metadata": {},
   "outputs": [
    {
     "data": {
      "text/plain": [
       "{'divide': 'warn', 'over': 'warn', 'under': 'ignore', 'invalid': 'warn'}"
      ]
     },
     "execution_count": 1,
     "metadata": {},
     "output_type": "execute_result"
    }
   ],
   "source": [
    "import argparse\n",
    "import json\n",
    "import os\n",
    "import pickle as pkl\n",
    "import sys\n",
    "import time\n",
    "import warnings\n",
    "\n",
    "import pandas as pd\n",
    "import pyarrow as pa\n",
    "import pyarrow.parquet as pq\n",
    "import uproot\n",
    "from coffea import nanoevents, processor\n",
    "from coffea.nanoevents import BaseSchema, NanoAODSchema, NanoEventsFactory\n",
    "\n",
    "sys.path.append(\"../\")\n",
    "import json\n",
    "import os\n",
    "import pathlib\n",
    "import pickle as pkl\n",
    "import shutil\n",
    "import warnings\n",
    "from collections import defaultdict\n",
    "from typing import Dict, List, Optional\n",
    "\n",
    "import awkward as ak\n",
    "import numpy as np\n",
    "import pandas as pd\n",
    "import pyarrow as pa\n",
    "from coffea import processor\n",
    "from coffea.analysis_tools import PackedSelection, Weights\n",
    "from coffea.nanoevents.methods import candidate, vector\n",
    "\n",
    "warnings.filterwarnings(\"ignore\", message=\"Found duplicate branch \")\n",
    "warnings.filterwarnings(\"ignore\", category=DeprecationWarning)\n",
    "np.seterr(invalid=\"ignore\")\n",
    "\n",
    "### awkward 1.10.0"
   ]
  },
  {
   "cell_type": "code",
   "execution_count": 2,
   "id": "bc6663b4",
   "metadata": {},
   "outputs": [],
   "source": [
    "def build_p4(cand):\n",
    "    return ak.zip(\n",
    "        {\n",
    "            \"pt\": cand.pt,\n",
    "            \"eta\": cand.eta,\n",
    "            \"phi\": cand.phi,\n",
    "            \"mass\": cand.mass,\n",
    "            \"charge\": cand.charge,\n",
    "        },\n",
    "        with_name=\"PtEtaPhiMCandidate\",\n",
    "        behavior=candidate.behavior,\n",
    "    )"
   ]
  },
  {
   "cell_type": "code",
   "execution_count": 3,
   "id": "1d8a1d30",
   "metadata": {},
   "outputs": [
    {
     "name": "stdout",
     "output_type": "stream",
     "text": [
      "nano_mc2017_1.root nano_mc2017_2.root nano_mc2017_3.root\r\n"
     ]
    }
   ],
   "source": [
    "! ls ../rootfiles/GluGluHToWW_Pt-200ToInf_M-125"
   ]
  },
  {
   "cell_type": "code",
   "execution_count": 189,
   "id": "1d3b24b7",
   "metadata": {},
   "outputs": [
    {
     "name": "stderr",
     "output_type": "stream",
     "text": [
      "  0%|                                                                                                           | 0/25 [04:41<?, ?it/s]\n"
     ]
    },
    {
     "name": "stdout",
     "output_type": "stream",
     "text": [
      "number of events per file is 1000\n"
     ]
    },
    {
     "name": "stderr",
     "output_type": "stream",
     "text": [
      "/Users/fmokhtar/miniforge3/envs/triton/lib/python3.8/site-packages/coffea/nanoevents/schemas/nanoaod.py:201: RuntimeWarning: Missing cross-reference index for GenFatJetCands_jetIdx => GenJetAK8\n",
      "  warnings.warn(\n",
      "/Users/fmokhtar/miniforge3/envs/triton/lib/python3.8/site-packages/coffea/nanoevents/schemas/nanoaod.py:201: RuntimeWarning: Missing cross-reference index for GenFatJetCands_pFCandsIdx => GenCands\n",
      "  warnings.warn(\n",
      "/Users/fmokhtar/miniforge3/envs/triton/lib/python3.8/site-packages/coffea/nanoevents/schemas/nanoaod.py:201: RuntimeWarning: Missing cross-reference index for GenFatJetSVs_jetIdx => GenJetAK8\n",
      "  warnings.warn(\n",
      "/Users/fmokhtar/miniforge3/envs/triton/lib/python3.8/site-packages/coffea/nanoevents/schemas/nanoaod.py:201: RuntimeWarning: Missing cross-reference index for GenFatJetSVs_sVIdx => SV\n",
      "  warnings.warn(\n",
      "/Users/fmokhtar/miniforge3/envs/triton/lib/python3.8/site-packages/coffea/nanoevents/schemas/nanoaod.py:201: RuntimeWarning: Missing cross-reference index for GenJetCands_jetIdx => GenJet\n",
      "  warnings.warn(\n",
      "/Users/fmokhtar/miniforge3/envs/triton/lib/python3.8/site-packages/coffea/nanoevents/schemas/nanoaod.py:201: RuntimeWarning: Missing cross-reference index for GenJetCands_pFCandsIdx => GenCands\n",
      "  warnings.warn(\n",
      "/Users/fmokhtar/miniforge3/envs/triton/lib/python3.8/site-packages/coffea/nanoevents/schemas/nanoaod.py:201: RuntimeWarning: Missing cross-reference index for GenJetSVs_jetIdx => GenJet\n",
      "  warnings.warn(\n",
      "/Users/fmokhtar/miniforge3/envs/triton/lib/python3.8/site-packages/coffea/nanoevents/schemas/nanoaod.py:201: RuntimeWarning: Missing cross-reference index for GenJetSVs_sVIdx => SV\n",
      "  warnings.warn(\n",
      "/Users/fmokhtar/miniforge3/envs/triton/lib/python3.8/site-packages/coffea/nanoevents/schemas/nanoaod.py:201: RuntimeWarning: Missing cross-reference index for JetPFCands_jetIdx => Jet\n",
      "  warnings.warn(\n",
      "/Users/fmokhtar/miniforge3/envs/triton/lib/python3.8/site-packages/coffea/nanoevents/schemas/nanoaod.py:201: RuntimeWarning: Missing cross-reference index for JetPFCands_pFCandsIdx => PFCands\n",
      "  warnings.warn(\n",
      "/Users/fmokhtar/miniforge3/envs/triton/lib/python3.8/site-packages/coffea/nanoevents/schemas/nanoaod.py:201: RuntimeWarning: Missing cross-reference index for JetSVs_jetIdx => Jet\n",
      "  warnings.warn(\n",
      "/Users/fmokhtar/miniforge3/envs/triton/lib/python3.8/site-packages/coffea/nanoevents/schemas/nanoaod.py:201: RuntimeWarning: Missing cross-reference index for JetSVs_sVIdx => SV\n",
      "  warnings.warn(\n"
     ]
    }
   ],
   "source": [
    "### schema\n",
    "nanoevents.PFNanoAODSchema.mixins[\"PFCands\"] = \"PFCand\"\n",
    "nanoevents.PFNanoAODSchema.mixins[\"SV\"] = \"PFCand\"\n",
    "\n",
    "# load a root file into coffea-friendly NanoAOD structure\n",
    "import uproot\n",
    "f = uproot.open(f\"../rootfiles/GluGluHToWW_Pt-200ToInf_M-125/nano_mc2017_1.root\")\n",
    "events = nanoevents.NanoEventsFactory.from_root(f, \"Events\", entry_stop=1000, schemaclass=nanoevents.PFNanoAODSchema).events()\n",
    "\n",
    "num = len(events)   ### checks number of events per file \n",
    "print(f'number of events per file is {num}')"
   ]
  },
  {
   "cell_type": "markdown",
   "id": "33fc6e56",
   "metadata": {},
   "source": [
    "# Get candidate jet"
   ]
  },
  {
   "cell_type": "code",
   "execution_count": 190,
   "id": "6fca78ad",
   "metadata": {},
   "outputs": [],
   "source": [
    "### make selections\n",
    "nevents = len(events)\n",
    "\n",
    "# define muon objects\n",
    "loose_muons = (\n",
    "    (((events.Muon.pt > 30) & (events.Muon.pfRelIso04_all < 0.25)) |\n",
    "     (events.Muon.pt > 55))\n",
    "    & (np.abs(events.Muon.eta) < 2.4)\n",
    "    & (events.Muon.looseId)\n",
    ")\n",
    "n_loose_muons = ak.sum(loose_muons, axis=1)\n",
    "\n",
    "good_muons = (\n",
    "    (events.Muon.pt > 28)\n",
    "    & (np.abs(events.Muon.eta) < 2.4)\n",
    "    & (np.abs(events.Muon.dz) < 0.1)\n",
    "    & (np.abs(events.Muon.dxy) < 0.05)\n",
    "    & (events.Muon.sip3d <= 4.0)\n",
    "    & events.Muon.mediumId\n",
    ")\n",
    "n_good_muons = ak.sum(good_muons, axis=1)\n",
    "\n",
    "# define electron objects\n",
    "loose_electrons = (\n",
    "    (((events.Electron.pt > 38) & (events.Electron.pfRelIso03_all < 0.25)) |\n",
    "     (events.Electron.pt > 120))\n",
    "    & ((np.abs(events.Electron.eta) < 1.44) | (np.abs(events.Electron.eta) > 1.57))\n",
    "    & (events.Electron.cutBased >= events.Electron.LOOSE)\n",
    ")\n",
    "n_loose_electrons = ak.sum(loose_electrons, axis=1)\n",
    "\n",
    "good_electrons = (\n",
    "    (events.Electron.pt > 38)\n",
    "    & ((np.abs(events.Electron.eta) < 1.44) | (np.abs(events.Electron.eta) > 1.57))\n",
    "    & (np.abs(events.Electron.dz) < 0.1)\n",
    "    & (np.abs(events.Electron.dxy) < 0.05)\n",
    "    & (events.Electron.sip3d <= 4.0)\n",
    "    & (events.Electron.mvaFall17V2noIso_WP90)\n",
    ")\n",
    "n_good_electrons = ak.sum(good_electrons, axis=1)\n",
    "\n",
    "# leading lepton\n",
    "goodleptons = ak.concatenate([events.Muon[good_muons], events.Electron[good_electrons]], axis=1)\n",
    "goodleptons = goodleptons[ak.argsort(goodleptons.pt, ascending=False)]\n",
    "candidatelep = ak.firsts(goodleptons)\n",
    "\n",
    "# candidate leptons\n",
    "candidatelep_p4 = build_p4(candidatelep)\n",
    "\n",
    "# MET\n",
    "met = events.MET\n",
    "mt_lep_met = np.sqrt(\n",
    "    2. * candidatelep_p4.pt * met.pt * (ak.ones_like(met.pt) - np.cos(candidatelep_p4.delta_phi(met)))\n",
    ")\n",
    "\n",
    "# JETS\n",
    "goodjets = events.Jet[\n",
    "    (events.Jet.pt > 30)\n",
    "    & (abs(events.Jet.eta) < 2.5)\n",
    "    & events.Jet.isTight\n",
    "    & (events.Jet.puId > 0)\n",
    "]\n",
    "ht = ak.sum(goodjets.pt, axis=1)\n",
    "\n",
    "# FATJETS\n",
    "fatjets = events.FatJet\n",
    "\n",
    "good_fatjets = (\n",
    "    (fatjets.pt > 200)\n",
    "    & (abs(fatjets.eta) < 2.5)\n",
    "    & fatjets.isTight\n",
    ")\n",
    "n_fatjets = ak.sum(good_fatjets, axis=1)\n",
    "\n",
    "good_fatjets = fatjets[good_fatjets]\n",
    "good_fatjets = good_fatjets[ak.argsort(good_fatjets.pt, ascending=False)]\n",
    "\n",
    "# for lep channel: first clean jets and leptons by removing overlap, then pick candidate_fj closest to the lepton\n",
    "lep_in_fj_overlap_bool = good_fatjets.delta_r(candidatelep_p4) > 0.1\n",
    "good_fatjets = good_fatjets[lep_in_fj_overlap_bool]\n",
    "fj_idx_lep = ak.argmin(good_fatjets.delta_r(candidatelep_p4), axis=1, keepdims=True)\n",
    "candidatefj = ak.firsts(good_fatjets[fj_idx_lep])"
   ]
  },
  {
   "cell_type": "code",
   "execution_count": 191,
   "id": "662aa751",
   "metadata": {},
   "outputs": [
    {
     "data": {
      "text/plain": [
       "<Array [None, None, None, ... None, 276, None] type='1000 * ?float32[parameters=...'>"
      ]
     },
     "execution_count": 191,
     "metadata": {},
     "output_type": "execute_result"
    }
   ],
   "source": [
    "candidatefj.pt"
   ]
  },
  {
   "cell_type": "markdown",
   "id": "a09c8545",
   "metadata": {},
   "source": [
    "## Build PFcands and SVs"
   ]
  },
  {
   "cell_type": "code",
   "execution_count": 192,
   "id": "8b2c47b1",
   "metadata": {},
   "outputs": [],
   "source": [
    "# import modules to build the tagger inputs\n",
    "import sys\n",
    "sys.path.append(\"../boostedhiggs/\")\n",
    "from get_tagger_inputs import get_pfcands_features, get_svs_features"
   ]
  },
  {
   "cell_type": "code",
   "execution_count": 270,
   "id": "2b7f1cb9",
   "metadata": {},
   "outputs": [],
   "source": [
    "tagger_resources_path = \"../boostedhiggs/tagger_resources/\"\n",
    "\n",
    "# use this model\n",
    "model_name = \"ak8_MD_vminclv2ParT_manual_fixwrap_all_nodes\"\n",
    "\n",
    "# the different models we can use\n",
    "pversion, out_name = {\n",
    "    \"05_10_ak8_ttbarwjets\": [\"PN_UCSD\", \"softmax__0\"],\n",
    "    \"particlenet_hww_inclv2_pre2\": [\"ParticleNet\", \"output__0\"],\n",
    "    \"particlenet_hww_inclv2_pre2_noreg\": [\"PN_v2_noreg\", \"softmax__0\"],\n",
    "    \"ak8_MD_vminclv2ParT_manual_fixwrap\": [\"ParT_noreg\", \"softmax\"],\n",
    "    \"ak8_MD_vminclv2ParT_manual_fixwrap_all_nodes\": [\"ParT\", \"softmax\"],\n",
    "}[model_name]   \n",
    "\n",
    "with open(f\"{tagger_resources_path}/triton_config_{model_name}.json\") as f:\n",
    "    triton_config = json.load(f)\n",
    "\n",
    "with open(f\"{tagger_resources_path}/{triton_config['model_name']}.json\") as f:\n",
    "    tagger_vars = json.load(f)"
   ]
  },
  {
   "cell_type": "code",
   "execution_count": 271,
   "id": "a8b6666a",
   "metadata": {},
   "outputs": [],
   "source": [
    "# select events with a candidate jet\n",
    "selection = ~ak.is_none(fj_idx_lep)\n",
    "\n",
    "# get pfcands\n",
    "fatjet_label = \"FatJet\"\n",
    "pfcands_label = \"FatJetPFCands\"\n",
    "    \n",
    "pfcands_features = get_pfcands_features(tagger_vars, events[selection], fj_idx_lep[selection], fatjet_label, pfcands_label)\n",
    "\n",
    "# get svs\n",
    "svs_label = \"FatJetSVs\"\n",
    "    \n",
    "svs_features = get_svs_features(tagger_vars, events[selection], fj_idx_lep[selection], fatjet_label, svs_label)"
   ]
  },
  {
   "cell_type": "code",
   "execution_count": 272,
   "id": "19d6b432",
   "metadata": {},
   "outputs": [],
   "source": [
    "# this is our input to the tagger\n",
    "feature_dict = {\n",
    "    **pfcands_features,\n",
    "    **svs_features,\n",
    "}"
   ]
  },
  {
   "cell_type": "markdown",
   "id": "a27d0ff4",
   "metadata": {},
   "source": [
    "## Triton"
   ]
  },
  {
   "cell_type": "code",
   "execution_count": 273,
   "id": "eeaec82a",
   "metadata": {},
   "outputs": [],
   "source": [
    "# adapted from https://github.com/lgray/hgg-coffea/blob/triton-bdts/src/hgg_coffea/tools/chained_quantile.py\n",
    "class wrapped_triton:\n",
    "    def __init__(self, model_url: str, batch_size: int, out_name: str = \"softmax__0\") -> None:\n",
    "        fullprotocol, location = model_url.split(\"://\")\n",
    "        _, protocol = fullprotocol.split(\"+\")\n",
    "        address, model, version = location.split(\"/\")\n",
    "\n",
    "        self._protocol = protocol\n",
    "        self._address = address\n",
    "        self._model = model\n",
    "        self._version = version\n",
    "\n",
    "        self._batch_size = batch_size\n",
    "        self._out_name = out_name\n",
    "        print(self._model)\n",
    "    def __call__(self, input_dict: Dict[str, np.ndarray]) -> np.ndarray:\n",
    "        if self._protocol == \"grpc\":\n",
    "            client = triton_grpc.InferenceServerClient(url=self._address, verbose=False)\n",
    "            triton_protocol = triton_grpc\n",
    "        elif self._protocol == \"http\":\n",
    "            client = triton_http.InferenceServerClient(\n",
    "                url=self._address,\n",
    "                verbose=False,\n",
    "                concurrency=12,\n",
    "            )\n",
    "            triton_protocol = triton_http\n",
    "        else:\n",
    "            raise ValueError(f\"{self._protocol} does not encode a valid protocol (grpc or http)\")\n",
    "\n",
    "        # manually split into batches for gpu inference\n",
    "        input_size = input_dict[list(input_dict.keys())[0]].shape[0]\n",
    "        # print(f\"size of input (number of events) = {input_size}\")\n",
    "\n",
    "        outs = [\n",
    "            self._do_inference(\n",
    "                {key: input_dict[key][batch : batch + self._batch_size] for key in input_dict},\n",
    "                triton_protocol,\n",
    "                client,\n",
    "            )\n",
    "            for batch in tqdm(range(0, input_dict[list(input_dict.keys())[0]].shape[0], self._batch_size))\n",
    "        ]\n",
    "\n",
    "        return np.concatenate(outs) if input_size > 0 else outs\n",
    "\n",
    "    def _do_inference(self, input_dict: Dict[str, np.ndarray], triton_protocol, client) -> np.ndarray:\n",
    "        # Infer\n",
    "        inputs = []\n",
    "\n",
    "        for key in input_dict:\n",
    "            input = triton_protocol.InferInput(key, input_dict[key].shape, \"FP32\")\n",
    "            input.set_data_from_numpy(input_dict[key])\n",
    "            inputs.append(input)\n",
    "\n",
    "        output = triton_protocol.InferRequestedOutput(self._out_name)\n",
    "\n",
    "        request = client.infer(\n",
    "            self._model,\n",
    "            model_version=self._version,\n",
    "            inputs=inputs,\n",
    "            outputs=[output],\n",
    "        )\n",
    "\n",
    "        return request.as_numpy(self._out_name)"
   ]
  },
  {
   "cell_type": "code",
   "execution_count": 274,
   "id": "35d52e9a",
   "metadata": {},
   "outputs": [
    {
     "name": "stdout",
     "output_type": "stream",
     "text": [
      "ak8_MD_vminclv2ParT_manual_fixwrap_all_nodes\n"
     ]
    }
   ],
   "source": [
    "triton_model = wrapped_triton(triton_config[\"model_url\"], triton_config[\"batch_size\"], out_name=out_name)"
   ]
  },
  {
   "cell_type": "code",
   "execution_count": 275,
   "id": "b2d89ca7",
   "metadata": {},
   "outputs": [],
   "source": [
    "tagger_inputs = []\n",
    "\n",
    "for input_name in tagger_vars[\"input_names\"]:\n",
    "    for key in tagger_vars[input_name][\"var_names\"]:\n",
    "        np.expand_dims(feature_dict[key], 1)\n",
    "\n",
    "if out_name == \"softmax\":\n",
    "    tagger_inputs = {\n",
    "        f\"{input_name}\": np.concatenate(\n",
    "            [np.expand_dims(feature_dict[key], 1) for key in tagger_vars[input_name][\"var_names\"]],\n",
    "            axis=1,\n",
    "        )\n",
    "        for i, input_name in enumerate(tagger_vars[\"input_names\"])\n",
    "    }\n",
    "else:\n",
    "    tagger_inputs = {\n",
    "        f\"{input_name}__{i}\": np.concatenate(\n",
    "            [np.expand_dims(feature_dict[key], 1) for key in tagger_vars[input_name][\"var_names\"]],\n",
    "            axis=1,\n",
    "        )\n",
    "        for i, input_name in enumerate(tagger_vars[\"input_names\"])\n",
    "    }"
   ]
  },
  {
   "cell_type": "code",
   "execution_count": 276,
   "id": "4857b707",
   "metadata": {
    "scrolled": true
   },
   "outputs": [
    {
     "name": "stderr",
     "output_type": "stream",
     "text": [
      "\n",
      "\n",
      "  0%|                                                                                                           | 0/67 [00:00<?, ?it/s]\u001b[A\u001b[A\n",
      "\n",
      "  1%|█▍                                                                                                 | 1/67 [00:00<00:13,  4.75it/s]\u001b[A\u001b[A\n",
      "\n",
      "  3%|██▉                                                                                                | 2/67 [00:00<00:13,  4.94it/s]\u001b[A\u001b[A\n",
      "\n",
      "  4%|████▍                                                                                              | 3/67 [00:00<00:12,  5.03it/s]\u001b[A\u001b[A\n",
      "\n",
      "  6%|█████▉                                                                                             | 4/67 [00:00<00:12,  5.04it/s]\u001b[A\u001b[A\n",
      "\n",
      "  7%|███████▍                                                                                           | 5/67 [00:01<00:12,  5.01it/s]\u001b[A\u001b[A\n",
      "\n",
      "  9%|████████▊                                                                                          | 6/67 [00:01<00:12,  4.91it/s]\u001b[A\u001b[A\n",
      "\n",
      " 10%|██████████▎                                                                                        | 7/67 [00:01<00:12,  4.99it/s]\u001b[A\u001b[A\n",
      "\n",
      " 12%|███████████▊                                                                                       | 8/67 [00:01<00:11,  5.03it/s]\u001b[A\u001b[A\n",
      "\n",
      " 13%|█████████████▎                                                                                     | 9/67 [00:01<00:11,  5.06it/s]\u001b[A\u001b[A\n",
      "\n",
      " 15%|██████████████▋                                                                                   | 10/67 [00:01<00:11,  5.10it/s]\u001b[A\u001b[A\n",
      "\n",
      " 16%|████████████████                                                                                  | 11/67 [00:02<00:11,  5.03it/s]\u001b[A\u001b[A\n",
      "\n",
      " 18%|█████████████████▌                                                                                | 12/67 [00:02<00:10,  5.01it/s]\u001b[A\u001b[A\n",
      "\n",
      " 19%|███████████████████                                                                               | 13/67 [00:02<00:10,  5.04it/s]\u001b[A\u001b[A\n",
      "\n",
      " 21%|████████████████████▍                                                                             | 14/67 [00:02<00:10,  5.01it/s]\u001b[A\u001b[A\n",
      "\n",
      " 22%|█████████████████████▉                                                                            | 15/67 [00:02<00:10,  5.00it/s]\u001b[A\u001b[A\n",
      "\n",
      " 24%|███████████████████████▍                                                                          | 16/67 [00:03<00:10,  5.00it/s]\u001b[A\u001b[A\n",
      "\n",
      " 25%|████████████████████████▊                                                                         | 17/67 [00:03<00:10,  4.99it/s]\u001b[A\u001b[A\n",
      "\n",
      " 27%|██████████████████████████▎                                                                       | 18/67 [00:03<00:09,  4.92it/s]\u001b[A\u001b[A\n",
      "\n",
      " 28%|███████████████████████████▊                                                                      | 19/67 [00:03<00:09,  4.97it/s]\u001b[A\u001b[A\n",
      "\n",
      " 30%|█████████████████████████████▎                                                                    | 20/67 [00:03<00:09,  5.03it/s]\u001b[A\u001b[A\n",
      "\n",
      " 31%|██████████████████████████████▋                                                                   | 21/67 [00:04<00:09,  5.03it/s]\u001b[A\u001b[A\n",
      "\n",
      " 33%|████████████████████████████████▏                                                                 | 22/67 [00:04<00:09,  4.99it/s]\u001b[A\u001b[A\n",
      "\n",
      " 34%|█████████████████████████████████▋                                                                | 23/67 [00:04<00:08,  4.99it/s]\u001b[A\u001b[A\n",
      "\n",
      " 36%|███████████████████████████████████                                                               | 24/67 [00:04<00:08,  5.00it/s]\u001b[A\u001b[A\n",
      "\n",
      " 37%|████████████████████████████████████▌                                                             | 25/67 [00:04<00:08,  5.02it/s]\u001b[A\u001b[A\n",
      "\n",
      " 39%|██████████████████████████████████████                                                            | 26/67 [00:05<00:08,  5.10it/s]\u001b[A\u001b[A\n",
      "\n",
      " 40%|███████████████████████████████████████▍                                                          | 27/67 [00:05<00:07,  5.12it/s]\u001b[A\u001b[A\n",
      "\n",
      " 42%|████████████████████████████████████████▉                                                         | 28/67 [00:05<00:07,  5.04it/s]\u001b[A\u001b[A\n",
      "\n",
      " 43%|██████████████████████████████████████████▍                                                       | 29/67 [00:05<00:07,  5.02it/s]\u001b[A\u001b[A\n",
      "\n",
      " 45%|███████████████████████████████████████████▉                                                      | 30/67 [00:05<00:07,  5.03it/s]\u001b[A\u001b[A\n",
      "\n",
      " 46%|█████████████████████████████████████████████▎                                                    | 31/67 [00:06<00:07,  5.00it/s]\u001b[A\u001b[A\n",
      "\n",
      " 48%|██████████████████████████████████████████████▊                                                   | 32/67 [00:06<00:07,  5.00it/s]\u001b[A\u001b[A\n",
      "\n",
      " 49%|████████████████████████████████████████████████▎                                                 | 33/67 [00:06<00:06,  4.99it/s]\u001b[A\u001b[A\n",
      "\n",
      " 51%|█████████████████████████████████████████████████▋                                                | 34/67 [00:06<00:06,  5.00it/s]\u001b[A\u001b[A\n",
      "\n",
      " 52%|███████████████████████████████████████████████████▏                                              | 35/67 [00:06<00:06,  5.00it/s]\u001b[A\u001b[A\n",
      "\n",
      " 54%|████████████████████████████████████████████████████▋                                             | 36/67 [00:07<00:06,  4.90it/s]\u001b[A\u001b[A\n",
      "\n",
      " 55%|██████████████████████████████████████████████████████                                            | 37/67 [00:07<00:06,  4.99it/s]\u001b[A\u001b[A\n",
      "\n",
      " 57%|███████████████████████████████████████████████████████▌                                          | 38/67 [00:07<00:05,  4.99it/s]\u001b[A\u001b[A\n",
      "\n",
      " 58%|█████████████████████████████████████████████████████████                                         | 39/67 [00:07<00:05,  4.98it/s]\u001b[A\u001b[A\n",
      "\n",
      " 60%|██████████████████████████████████████████████████████████▌                                       | 40/67 [00:07<00:05,  4.98it/s]\u001b[A\u001b[A\n",
      "\n",
      " 61%|███████████████████████████████████████████████████████████▉                                      | 41/67 [00:08<00:05,  4.96it/s]\u001b[A\u001b[A\n",
      "\n",
      " 63%|█████████████████████████████████████████████████████████████▍                                    | 42/67 [00:08<00:05,  4.98it/s]\u001b[A\u001b[A\n",
      "\n",
      " 64%|██████████████████████████████████████████████████████████████▉                                   | 43/67 [00:08<00:04,  4.97it/s]\u001b[A\u001b[A\n",
      "\n",
      " 66%|████████████████████████████████████████████████████████████████▎                                 | 44/67 [00:08<00:04,  4.96it/s]\u001b[A\u001b[A\n",
      "\n",
      " 67%|█████████████████████████████████████████████████████████████████▊                                | 45/67 [00:09<00:04,  5.01it/s]\u001b[A\u001b[A\n",
      "\n",
      " 69%|███████████████████████████████████████████████████████████████████▎                              | 46/67 [00:09<00:04,  5.02it/s]\u001b[A\u001b[A\n",
      "\n",
      " 70%|████████████████████████████████████████████████████████████████████▋                             | 47/67 [00:09<00:04,  4.93it/s]\u001b[A\u001b[A\n",
      "\n",
      " 72%|██████████████████████████████████████████████████████████████████████▏                           | 48/67 [00:09<00:03,  4.98it/s]\u001b[A\u001b[A\n",
      "\n",
      " 73%|███████████████████████████████████████████████████████████████████████▋                          | 49/67 [00:09<00:03,  4.99it/s]\u001b[A\u001b[A\n",
      "\n",
      " 75%|█████████████████████████████████████████████████████████████████████████▏                        | 50/67 [00:09<00:03,  5.02it/s]\u001b[A\u001b[A\n",
      "\n",
      " 76%|██████████████████████████████████████████████████████████████████████████▌                       | 51/67 [00:10<00:03,  5.07it/s]\u001b[A\u001b[A\n",
      "\n",
      " 78%|████████████████████████████████████████████████████████████████████████████                      | 52/67 [00:10<00:02,  5.11it/s]\u001b[A\u001b[A\n",
      "\n",
      " 79%|█████████████████████████████████████████████████████████████████████████████▌                    | 53/67 [00:10<00:03,  4.11it/s]\u001b[A\u001b[A\n",
      "\n",
      " 81%|██████████████████████████████████████████████████████████████████████████████▉                   | 54/67 [00:11<00:03,  3.60it/s]\u001b[A\u001b[A\n",
      "\n",
      " 82%|████████████████████████████████████████████████████████████████████████████████▍                 | 55/67 [00:11<00:04,  2.59it/s]\u001b[A\u001b[A\n",
      "\n",
      " 84%|█████████████████████████████████████████████████████████████████████████████████▉                | 56/67 [00:11<00:03,  3.04it/s]\u001b[A\u001b[A\n",
      "\n"
     ]
    },
    {
     "name": "stderr",
     "output_type": "stream",
     "text": [
      " 85%|███████████████████████████████████████████████████████████████████████████████████▎              | 57/67 [00:12<00:02,  3.45it/s]\u001b[A\u001b[A\n",
      "\n",
      " 87%|████████████████████████████████████████████████████████████████████████████████████▊             | 58/67 [00:12<00:02,  3.80it/s]\u001b[A\u001b[A\n",
      "\n",
      " 88%|██████████████████████████████████████████████████████████████████████████████████████▎           | 59/67 [00:12<00:01,  4.08it/s]\u001b[A\u001b[A\n",
      "\n",
      " 90%|███████████████████████████████████████████████████████████████████████████████████████▊          | 60/67 [00:12<00:01,  4.30it/s]\u001b[A\u001b[A\n",
      "\n",
      " 91%|█████████████████████████████████████████████████████████████████████████████████████████▏        | 61/67 [00:12<00:01,  4.43it/s]\u001b[A\u001b[A\n",
      "\n",
      " 93%|██████████████████████████████████████████████████████████████████████████████████████████▋       | 62/67 [00:13<00:01,  4.59it/s]\u001b[A\u001b[A\n",
      "\n",
      " 94%|████████████████████████████████████████████████████████████████████████████████████████████▏     | 63/67 [00:13<00:00,  4.74it/s]\u001b[A\u001b[A\n",
      "\n",
      " 96%|█████████████████████████████████████████████████████████████████████████████████████████████▌    | 64/67 [00:13<00:00,  4.87it/s]\u001b[A\u001b[A\n",
      "\n",
      " 97%|███████████████████████████████████████████████████████████████████████████████████████████████   | 65/67 [00:13<00:00,  4.93it/s]\u001b[A\u001b[A\n",
      "\n",
      " 99%|████████████████████████████████████████████████████████████████████████████████████████████████▌ | 66/67 [00:13<00:00,  4.99it/s]\u001b[A\u001b[A\n",
      "\n",
      "100%|██████████████████████████████████████████████████████████████████████████████████████████████████| 67/67 [00:14<00:00,  4.75it/s]\u001b[A\u001b[A\n"
     ]
    }
   ],
   "source": [
    "import tritonclient.grpc as triton_grpc\n",
    "import tritonclient.http as triton_http\n",
    "from tqdm import tqdm\n",
    "\n",
    "# run inference for one fat jet\n",
    "tagger_outputs = triton_model(tagger_inputs)"
   ]
  },
  {
   "cell_type": "code",
   "execution_count": 277,
   "id": "f1e3d5bb",
   "metadata": {},
   "outputs": [
    {
     "data": {
      "text/plain": [
       "(265, 37)"
      ]
     },
     "execution_count": 277,
     "metadata": {},
     "output_type": "execute_result"
    }
   ],
   "source": [
    "tagger_outputs.shape"
   ]
  },
  {
   "cell_type": "code",
   "execution_count": null,
   "id": "506a1927",
   "metadata": {},
   "outputs": [],
   "source": []
  },
  {
   "cell_type": "code",
   "execution_count": null,
   "id": "1bc10101",
   "metadata": {},
   "outputs": [],
   "source": []
  },
  {
   "cell_type": "code",
   "execution_count": null,
   "id": "6bbc9fad",
   "metadata": {},
   "outputs": [],
   "source": []
  },
  {
   "cell_type": "code",
   "execution_count": null,
   "id": "edfedeac",
   "metadata": {},
   "outputs": [],
   "source": []
  },
  {
   "cell_type": "code",
   "execution_count": 259,
   "id": "04126a22",
   "metadata": {},
   "outputs": [
    {
     "name": "stdout",
     "output_type": "stream",
     "text": [
      "particlenet_hww_inclv2_pre2: 0 out of 265 jets have Nan output\n",
      "particlenet_hww_inclv2_pre2_noreg: 0 out of 265 jets have Nan output\n",
      "ak8_MD_vminclv2ParT_manual_fixwrap: 62 out of 265 jets have Nan output\n",
      "ak8_MD_vminclv2ParT_manual_fixwrap_all_nodes: 62 out of 265 jets have Nan output\n"
     ]
    }
   ],
   "source": [
    "for model in tagger_outputs:\n",
    "    print(f\"{model}: {np.isnan(tagger_outputs[model].sum(axis=1)).sum()} out of {len(tagger_outputs[model])} jets have Nan output\")"
   ]
  },
  {
   "cell_type": "code",
   "execution_count": 260,
   "id": "fc162107",
   "metadata": {},
   "outputs": [
    {
     "data": {
      "text/plain": [
       "array([[5.1007355e-05, 1.8626453e-05, 1.9213767e-06, ..., 4.8398793e-05,\n",
       "        9.8489586e-04, 1.6460972e-07],\n",
       "       [          nan,           nan,           nan, ...,           nan,\n",
       "                  nan,           nan],\n",
       "       [          nan,           nan,           nan, ...,           nan,\n",
       "                  nan,           nan],\n",
       "       ...,\n",
       "       [2.2208393e-07, 4.3564185e-07, 2.0552493e-07, ..., 3.6111782e-05,\n",
       "        3.4498496e-06, 1.4317316e-02],\n",
       "       [9.9135532e-06, 2.9095775e-06, 3.2973554e-07, ..., 5.9618754e-04,\n",
       "        4.7398992e-03, 6.9986794e-07],\n",
       "       [3.1972013e-05, 1.0254228e-05, 6.8656732e-07, ..., 1.5066316e-03,\n",
       "        1.3666394e-02, 4.9941955e-06]], dtype=float32)"
      ]
     },
     "execution_count": 260,
     "metadata": {},
     "output_type": "execute_result"
    }
   ],
   "source": [
    "tagger_outputs[\"ak8_MD_vminclv2ParT_manual_fixwrap_all_nodes\"]"
   ]
  },
  {
   "cell_type": "code",
   "execution_count": 261,
   "id": "d3ff4d2b",
   "metadata": {},
   "outputs": [
    {
     "data": {
      "text/plain": [
       "array([[5.10072277e-05, 1.86264388e-05, 1.92137372e-06, ...,\n",
       "        4.83986623e-05, 9.84894228e-04, 1.64609276e-07],\n",
       "       [           nan,            nan,            nan, ...,\n",
       "                   nan,            nan,            nan],\n",
       "       [           nan,            nan,            nan, ...,\n",
       "                   nan,            nan,            nan],\n",
       "       ...,\n",
       "       [2.22084012e-07, 4.35642022e-07, 2.05525225e-07, ...,\n",
       "        3.61117964e-05, 3.44985438e-06, 1.43173095e-02],\n",
       "       [9.91355319e-06, 2.90957746e-06, 3.29735883e-07, ...,\n",
       "        5.96187252e-04, 4.73989919e-03, 6.99867257e-07],\n",
       "       [3.20316794e-05, 1.02746299e-05, 6.87794852e-07, ...,\n",
       "        1.50883675e-03, 1.36840269e-02, 4.98432291e-06]], dtype=float32)"
      ]
     },
     "execution_count": 261,
     "metadata": {},
     "output_type": "execute_result"
    }
   ],
   "source": [
    "tagger_outputs[\"ak8_MD_vminclv2ParT_manual_fixwrap\"]"
   ]
  },
  {
   "cell_type": "code",
   "execution_count": null,
   "id": "d961aeba",
   "metadata": {},
   "outputs": [],
   "source": []
  }
 ],
 "metadata": {
  "kernelspec": {
   "display_name": "triton",
   "language": "python",
   "name": "triton"
  },
  "language_info": {
   "codemirror_mode": {
    "name": "ipython",
    "version": 3
   },
   "file_extension": ".py",
   "mimetype": "text/x-python",
   "name": "python",
   "nbconvert_exporter": "python",
   "pygments_lexer": "ipython3",
   "version": "3.8.17"
  }
 },
 "nbformat": 4,
 "nbformat_minor": 5
}
