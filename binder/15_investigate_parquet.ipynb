{
 "cells": [
  {
   "cell_type": "markdown",
   "metadata": {},
   "source": [
    "## This notebook\n",
    "- loads parquet files from `./outfiles0` and `./outfiles01`\n",
    "- the former has candidate_fj defined as closest to the jet\n",
    "- the latter has candidate_fj defined as closest to the jet but above dr>0.1 (cleaning)\n",
    "- the sample is HWW semileptonic sample... 20 root files that were processed..."
   ]
  },
  {
   "cell_type": "code",
   "execution_count": 1,
   "metadata": {},
   "outputs": [
    {
     "data": {
      "text/plain": [
       "{'divide': 'warn', 'over': 'warn', 'under': 'ignore', 'invalid': 'warn'}"
      ]
     },
     "execution_count": 1,
     "metadata": {},
     "output_type": "execute_result"
    }
   ],
   "source": [
    "import json\n",
    "import uproot\n",
    "from coffea.nanoevents import NanoEventsFactory, NanoAODSchema, BaseSchema\n",
    "from coffea import nanoevents\n",
    "from coffea import processor\n",
    "import time\n",
    "\n",
    "import argparse\n",
    "import warnings\n",
    "import pyarrow as pa\n",
    "import pyarrow.parquet as pq\n",
    "import pickle as pkl\n",
    "import pandas as pd\n",
    "import os\n",
    "import sys\n",
    "sys.path.append(\"../\")\n",
    "\n",
    "from collections import defaultdict\n",
    "import pickle as pkl\n",
    "import pyarrow as pa\n",
    "import awkward as ak\n",
    "import numpy as np\n",
    "import pandas as pd\n",
    "import json\n",
    "import os\n",
    "import shutil\n",
    "import pathlib\n",
    "from typing import List, Optional\n",
    "import pyarrow.parquet as pq\n",
    "\n",
    "from coffea import processor\n",
    "from coffea.nanoevents.methods import candidate, vector\n",
    "from coffea.analysis_tools import Weights, PackedSelection\n",
    "from boostedhiggs.utils import match_HWW\n",
    "from boostedhiggs.btag import btagWPs\n",
    "from boostedhiggs.btag import BTagCorrector\n",
    "\n",
    "import hist as hist2\n",
    "import matplotlib\n",
    "import matplotlib.pyplot as plt\n",
    "import matplotlib.colors as mcolors\n",
    "import mplhep as hep\n",
    "from hist.intervals import clopper_pearson_interval\n",
    "\n",
    "import warnings\n",
    "warnings.filterwarnings(\"ignore\", message=\"Found duplicate branch \")\n",
    "warnings.filterwarnings(\"ignore\", category=DeprecationWarning)\n",
    "np.seterr(invalid='ignore')"
   ]
  },
  {
   "cell_type": "markdown",
   "metadata": {},
   "source": [
    "# Load metadata and parquet files"
   ]
  },
  {
   "cell_type": "markdown",
   "metadata": {},
   "source": [
    "### candidate_fj: closest good_fatjet to the lepton"
   ]
  },
  {
   "cell_type": "code",
   "execution_count": 2,
   "metadata": {},
   "outputs": [],
   "source": [
    "job_name = '/0-20'\n",
    "channels=['ele', 'mu', 'had']\n",
    "outfiles = \"outfiles0\"\n",
    "\n",
    "with open(\"./\" + outfiles + job_name + '.pkl', 'rb') as f:\n",
    "    metadata0 = pkl.load(f)\n",
    "    \n",
    "for key in metadata0.keys():\n",
    "    sample = key\n",
    "\n",
    "data0 = {}\n",
    "data0[sample] = {}\n",
    "\n",
    "data0[sample]['ele'] = pq.read_table(\"./\" + outfiles + job_name + '_' + 'ele' + '.parquet').to_pandas()"
   ]
  },
  {
   "cell_type": "code",
   "execution_count": 3,
   "metadata": {},
   "outputs": [
    {
     "name": "stdout",
     "output_type": "stream",
     "text": [
      "only 3036 out of 10697 are non-Null\n"
     ]
    }
   ],
   "source": [
    "non_Null = data0[sample]['ele']['lep_fj_dr']>0\n",
    "print(f\"only {non_Null.sum()} out of {len(data0[sample]['ele'])} are non-Null\")\n",
    "\n",
    "data0[sample]['ele'] = data0[sample]['ele'][non_Null]\n",
    "ev0 = len(data0[sample]['ele'])"
   ]
  },
  {
   "cell_type": "code",
   "execution_count": 4,
   "metadata": {},
   "outputs": [
    {
     "name": "stdout",
     "output_type": "stream",
     "text": [
      "only 306 out of 3036 are within dr=0.1\n"
     ]
    }
   ],
   "source": [
    "dr_01 = data0[sample]['ele']['lep_fj_dr']<=0.1\n",
    "print(f\"only {dr_01.sum()} out of {ev0} are within dr=0.1\")"
   ]
  },
  {
   "cell_type": "markdown",
   "metadata": {},
   "source": [
    "### candidate_fj: closest good_fatjet to the lepton above dr>0.1"
   ]
  },
  {
   "cell_type": "code",
   "execution_count": 5,
   "metadata": {},
   "outputs": [],
   "source": [
    "job_name = '/0-20'\n",
    "channels=['ele', 'mu', 'had']\n",
    "outfiles = \"outfiles01\"\n",
    "\n",
    "with open(\"./\" + outfiles + job_name + '.pkl', 'rb') as f:\n",
    "    metadata01 = pkl.load(f)\n",
    "    \n",
    "for key in metadata0.keys():\n",
    "    sample = key\n",
    "\n",
    "data01 = {}\n",
    "data01[sample] = {}\n",
    "\n",
    "data01[sample]['ele'] = pq.read_table(\"./\" + outfiles + job_name + '_' + 'ele' + '.parquet').to_pandas()"
   ]
  },
  {
   "cell_type": "code",
   "execution_count": 6,
   "metadata": {},
   "outputs": [
    {
     "name": "stdout",
     "output_type": "stream",
     "text": [
      "only 2973 out of 10697 are non-Null\n"
     ]
    }
   ],
   "source": [
    "non_Null = data01[sample]['ele']['lep_fj_dr']>0\n",
    "print(f\"only {non_Null.sum()} out of {len(data01[sample]['ele'])} are non-Null\")\n",
    "\n",
    "data01[sample]['ele'] = data01[sample]['ele'][non_Null]\n",
    "ev01 = len(data01[sample]['ele'])"
   ]
  },
  {
   "cell_type": "code",
   "execution_count": 7,
   "metadata": {},
   "outputs": [
    {
     "name": "stdout",
     "output_type": "stream",
     "text": [
      "Comparing with no cut, we will drop: 2.08 % of events\n"
     ]
    }
   ],
   "source": [
    "print(f\"Comparing with no cut, we will drop: {round(100*((ev0-ev01)/ev0),2)} % of events\")"
   ]
  },
  {
   "cell_type": "markdown",
   "metadata": {},
   "source": [
    "# Investigate the parquet files"
   ]
  },
  {
   "cell_type": "code",
   "execution_count": 48,
   "metadata": {},
   "outputs": [
    {
     "data": {
      "image/png": "[encoded data removed]",
      "text/plain": [
       "<Figure size 576x360 with 2 Axes>"
      ]
     },
     "metadata": {
      "needs_background": "light"
     },
     "output_type": "display_data"
    }
   ],
   "source": [
    "# lep_pt vs fj_pt\n",
    "h = hist2.Hist(\n",
    "    hist2.axis.Regular(100,0, 500, name='lep_pt', label='lep_pt', flow=True),    \n",
    "    hist2.axis.Regular(100,0, 500, name='fj_pt', label='fj_pt', flow=True),\n",
    ")\n",
    "\n",
    "h.fill(data0[sample]['ele']['lep_pt'], data0[sample]['ele']['fj_pt']\n",
    ")\n",
    "\n",
    "fig, ax = plt.subplots(figsize=(8, 5))\n",
    "hep.hist2dplot(h, ax=ax, norm=matplotlib.colors.LogNorm(vmin=1e-3)) \n",
    "\n",
    "ax.set_title(f'{sample} \\n with old candidatefj definition')\n",
    "hep.cms.lumitext(f\"'2017' (13 TeV)\", ax=ax)\n",
    "hep.cms.text(\"Work in Progress\", ax=ax);"
   ]
  },
  {
   "cell_type": "code",
   "execution_count": 49,
   "metadata": {},
   "outputs": [
    {
     "data": {
      "image/png": "[encoded data removed]",
      "text/plain": [
       "<Figure size 576x360 with 2 Axes>"
      ]
     },
     "metadata": {
      "needs_background": "light"
     },
     "output_type": "display_data"
    }
   ],
   "source": [
    "# lep_pt vs fj_pt\n",
    "h = hist2.Hist(\n",
    "    hist2.axis.Regular(100,0, 500, name='lep_pt', label='lep_pt', flow=True),    \n",
    "    hist2.axis.Regular(100,0, 500, name='fj_pt', label='fj_pt', flow=True),\n",
    ")\n",
    "\n",
    "h.fill(data01[sample]['ele']['lep_pt'], data01[sample]['ele']['fj_pt']\n",
    ")\n",
    "\n",
    "fig, ax = plt.subplots(figsize=(8, 5))\n",
    "hep.hist2dplot(h, ax=ax, norm=matplotlib.colors.LogNorm(vmin=1e-3))    \n",
    "ax.set_title(f'{sample} \\n with new candidatefj definition')\n",
    "hep.cms.lumitext(f\"'2017' (13 TeV)\", ax=ax)\n",
    "hep.cms.text(\"Work in Progress\", ax=ax);"
   ]
  },
  {
   "cell_type": "code",
   "execution_count": 64,
   "metadata": {},
   "outputs": [
    {
     "data": {
      "image/png": "[encoded data removed]",
      "text/plain": [
       "<Figure size 576x360 with 1 Axes>"
      ]
     },
     "metadata": {
      "needs_background": "light"
     },
     "output_type": "display_data"
    }
   ],
   "source": [
    "# distribution of dr\n",
    "h = hist2.Hist(\n",
    "    hist2.axis.Regular(50,0, 1.2, name='lep_fj_dr', label='lep_fj_dr', flow=True),    \n",
    ")\n",
    "hbtag = hist2.Hist(\n",
    "    hist2.axis.Regular(50,0, 1.2, name='lep_fj_dr', label='lep_fj_dr', flow=True),    \n",
    ")\n",
    "hdr = hist2.Hist(\n",
    "    hist2.axis.Regular(50,0, 1.2, name='lep_fj_dr', label='lep_fj_dr', flow=True),    \n",
    ")\n",
    "\n",
    "h.fill(data0[sample]['ele']['lep_fj_dr']\n",
    ")\n",
    "hbtag.fill(data0[sample]['ele']['lep_fj_dr'][data0[sample]['ele'][\"anti_bjettag\"] == 1]\n",
    ")\n",
    "hdr.fill(data0[sample]['ele']['lep_fj_dr'][data0[sample]['ele'][\"leptonInJet\"] == 1]\n",
    ")\n",
    "\n",
    "fig, ax = plt.subplots(figsize=(8, 5))\n",
    "hep.histplot(h, ax=ax, label='preselection')\n",
    "hep.histplot(hbtag, ax=ax, label='preselection + btag')\n",
    "hep.histplot(hdr, ax=ax, label='preselection + lepton in jet')\n",
    "\n",
    "ax.set_title(f'ele channel for \\n {sample}')\n",
    "ax.legend()\n",
    "hep.cms.lumitext(f\"'2017' (13 TeV)\", ax=ax)\n",
    "hep.cms.text(\"Work in Progress\", ax=ax);\n",
    "plt.savefig('old.pdf')"
   ]
  },
  {
   "cell_type": "code",
   "execution_count": 65,
   "metadata": {},
   "outputs": [
    {
     "data": {
      "image/png": "[encoded data removed]",
      "text/plain": [
       "<Figure size 576x360 with 1 Axes>"
      ]
     },
     "metadata": {
      "needs_background": "light"
     },
     "output_type": "display_data"
    }
   ],
   "source": [
    "# distribution of dr\n",
    "h = hist2.Hist(\n",
    "    hist2.axis.Regular(50,0, 1.2, name='lep_fj_dr', label='lep_fj_dr', flow=True),    \n",
    ")\n",
    "hbtag = hist2.Hist(\n",
    "    hist2.axis.Regular(50,0, 1.2, name='lep_fj_dr', label='lep_fj_dr', flow=True),    \n",
    ")\n",
    "hdr = hist2.Hist(\n",
    "    hist2.axis.Regular(50,0, 1.2, name='lep_fj_dr', label='lep_fj_dr', flow=True),    \n",
    ")\n",
    "\n",
    "h.fill(data01[sample]['ele']['lep_fj_dr']\n",
    ")\n",
    "hbtag.fill(data01[sample]['ele']['lep_fj_dr'][data01[sample]['ele'][\"anti_bjettag\"] == 1]\n",
    ")\n",
    "hdr.fill(data01[sample]['ele']['lep_fj_dr'][data01[sample]['ele'][\"leptonInJet\"] == 1]\n",
    ")\n",
    "\n",
    "fig, ax = plt.subplots(figsize=(8, 5))\n",
    "hep.histplot(h, ax=ax, label='preselection')\n",
    "hep.histplot(hbtag, ax=ax, label='preselection + btag')\n",
    "hep.histplot(hdr, ax=ax, label='preselection + lepton in jet')\n",
    "\n",
    "ax.set_title(f'ele channel for \\n {sample}')\n",
    "ax.legend()\n",
    "hep.cms.lumitext(f\"'2017' (13 TeV)\", ax=ax)\n",
    "hep.cms.text(\"Work in Progress\", ax=ax);\n",
    "plt.savefig('new.pdf')"
   ]
  },
  {
   "cell_type": "code",
   "execution_count": 69,
   "metadata": {},
   "outputs": [
    {
     "name": "stderr",
     "output_type": "stream",
     "text": [
      "/opt/anaconda3/envs/coffea-env/lib/python3.7/site-packages/ipykernel_launcher.py:1: UserWarning: Boolean Series key will be reindexed to match DataFrame index.\n",
      "  \"\"\"Entry point for launching an IPython kernel.\n"
     ]
    },
    {
     "data": {
      "text/html": [
       "<div>\n",
       "<style scoped>\n",
       "    .dataframe tbody tr th:only-of-type {\n",
       "        vertical-align: middle;\n",
       "    }\n",
       "\n",
       "    .dataframe tbody tr th {\n",
       "        vertical-align: top;\n",
       "    }\n",
       "\n",
       "    .dataframe thead th {\n",
       "        text-align: right;\n",
       "    }\n",
       "</style>\n",
       "<table border=\"1\" class=\"dataframe\">\n",
       "  <thead>\n",
       "    <tr style=\"text-align: right;\">\n",
       "      <th></th>\n",
       "      <th>lep_pt</th>\n",
       "      <th>lep_isolation</th>\n",
       "      <th>lep_misolation</th>\n",
       "      <th>lep_fj_m</th>\n",
       "      <th>lep_fj_bjets_ophem</th>\n",
       "      <th>lep_fj_dr</th>\n",
       "      <th>fj_msoftdrop</th>\n",
       "      <th>fj_pt</th>\n",
       "      <th>lep_met_mt</th>\n",
       "      <th>met</th>\n",
       "      <th>...</th>\n",
       "      <th>lep_nprongs</th>\n",
       "      <th>lep_iswlepton</th>\n",
       "      <th>lep_iswstarlepton</th>\n",
       "      <th>weight</th>\n",
       "      <th>Z_pt</th>\n",
       "      <th>lep_Z_dr</th>\n",
       "      <th>trigger_iso</th>\n",
       "      <th>trigger_noiso</th>\n",
       "      <th>leptonInJet</th>\n",
       "      <th>anti_bjettag</th>\n",
       "    </tr>\n",
       "  </thead>\n",
       "  <tbody>\n",
       "  </tbody>\n",
       "</table>\n",
       "<p>0 rows × 22 columns</p>\n",
       "</div>"
      ],
      "text/plain": [
       "Empty DataFrame\n",
       "Columns: [lep_pt, lep_isolation, lep_misolation, lep_fj_m, lep_fj_bjets_ophem, lep_fj_dr, fj_msoftdrop, fj_pt, lep_met_mt, met, ht, lep_matchedH, lep_nprongs, lep_iswlepton, lep_iswstarlepton, weight, Z_pt, lep_Z_dr, trigger_iso, trigger_noiso, leptonInJet, anti_bjettag]\n",
       "Index: []\n",
       "\n",
       "[0 rows x 22 columns]"
      ]
     },
     "execution_count": 69,
     "metadata": {},
     "output_type": "execute_result"
    }
   ],
   "source": [
    "data01[sample]['ele'][data01[sample]['ele'][\"leptonInJet\"] == 1][data01[sample]['ele'][\"fj_msoftdrop\"] == 1]\n"
   ]
  },
  {
   "cell_type": "code",
   "execution_count": null,
   "metadata": {},
   "outputs": [],
   "source": []
  }
 ],
 "metadata": {
  "kernelspec": {
   "display_name": "coffea-env",
   "language": "python",
   "name": "coffea-env"
  },
  "language_info": {
   "codemirror_mode": {
    "name": "ipython",
    "version": 3
   },
   "file_extension": ".py",
   "mimetype": "text/x-python",
   "name": "python",
   "nbconvert_exporter": "python",
   "pygments_lexer": "ipython3",
   "version": "3.7.12"
  }
 },
 "nbformat": 4,
 "nbformat_minor": 5
}
