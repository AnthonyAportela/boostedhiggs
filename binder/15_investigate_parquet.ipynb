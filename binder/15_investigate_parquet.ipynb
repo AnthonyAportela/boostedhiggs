{
 "cells": [
  {
   "cell_type": "markdown",
   "metadata": {},
   "source": [
    "## This notebook\n",
    "- loads parquet files from `./outfiles0` and `./outfiles01`\n",
    "- the former has candidate_fj defined as closest to the jet\n",
    "- the latter has candidate_fj defined as closest to the jet but above dr>0.1 (cleaning)\n",
    "- the sample is HWW semileptonic sample... 20 root files that were processed..."
   ]
  },
  {
   "cell_type": "code",
   "execution_count": 1,
   "metadata": {},
   "outputs": [
    {
     "data": {
      "text/plain": [
       "{'divide': 'warn', 'over': 'warn', 'under': 'ignore', 'invalid': 'warn'}"
      ]
     },
     "execution_count": 1,
     "metadata": {},
     "output_type": "execute_result"
    }
   ],
   "source": [
    "import json\n",
    "import uproot\n",
    "from coffea.nanoevents import NanoEventsFactory, NanoAODSchema, BaseSchema\n",
    "from coffea import nanoevents\n",
    "from coffea import processor\n",
    "import time\n",
    "\n",
    "import argparse\n",
    "import warnings\n",
    "import pyarrow as pa\n",
    "import pyarrow.parquet as pq\n",
    "import pickle as pkl\n",
    "import pandas as pd\n",
    "import os\n",
    "import sys\n",
    "sys.path.append(\"../\")\n",
    "\n",
    "from collections import defaultdict\n",
    "import pickle as pkl\n",
    "import pyarrow as pa\n",
    "import awkward as ak\n",
    "import numpy as np\n",
    "import pandas as pd\n",
    "import json\n",
    "import os\n",
    "import shutil\n",
    "import pathlib\n",
    "from typing import List, Optional\n",
    "import pyarrow.parquet as pq\n",
    "\n",
    "from coffea import processor\n",
    "from coffea.nanoevents.methods import candidate, vector\n",
    "from coffea.analysis_tools import Weights, PackedSelection\n",
    "from boostedhiggs.utils import match_HWW\n",
    "from boostedhiggs.btag import btagWPs\n",
    "from boostedhiggs.btag import BTagCorrector\n",
    "\n",
    "import hist as hist2\n",
    "import matplotlib\n",
    "import matplotlib.pyplot as plt\n",
    "import matplotlib.colors as mcolors\n",
    "import mplhep as hep\n",
    "from hist.intervals import clopper_pearson_interval\n",
    "\n",
    "import warnings\n",
    "warnings.filterwarnings(\"ignore\", message=\"Found duplicate branch \")\n",
    "warnings.filterwarnings(\"ignore\", category=DeprecationWarning)\n",
    "np.seterr(invalid='ignore')"
   ]
  },
  {
   "cell_type": "code",
   "execution_count": 2,
   "metadata": {},
   "outputs": [
    {
     "name": "stdout",
     "output_type": "stream",
     "text": [
      "\u001b[34moutfiles\u001b[m\u001b[m        \u001b[34moutfiles_june20\u001b[m\u001b[m \u001b[34moutfiles_new\u001b[m\u001b[m\r\n"
     ]
    }
   ],
   "source": [
    "! ls test/"
   ]
  },
  {
   "cell_type": "code",
   "execution_count": 3,
   "metadata": {},
   "outputs": [
    {
     "name": "stdout",
     "output_type": "stream",
     "text": [
      "0-1.pkl         0-1_ele.parquet 0-1_had.parquet 0-1_mu.parquet\r\n"
     ]
    }
   ],
   "source": [
    "! ls test/outfiles_june20"
   ]
  },
  {
   "cell_type": "code",
   "execution_count": 4,
   "metadata": {},
   "outputs": [],
   "source": [
    "with open(\"./test/outfiles_new/0-1.pkl\", 'rb') as f:\n",
    "    new = pkl.load(f)\n",
    "\n",
    "data_new = pq.read_table(\"./test/outfiles_new/0-1_mu.parquet\").to_pandas()"
   ]
  },
  {
   "cell_type": "code",
   "execution_count": 5,
   "metadata": {},
   "outputs": [
    {
     "data": {
      "text/plain": [
       "0"
      ]
     },
     "execution_count": 5,
     "metadata": {},
     "output_type": "execute_result"
    }
   ],
   "source": [
    "len(data_new)"
   ]
  },
  {
   "cell_type": "code",
   "execution_count": 6,
   "metadata": {},
   "outputs": [],
   "source": [
    "with open(\"./test/outfiles_june20/0-1.pkl\", 'rb') as f:\n",
    "    june_20 = pkl.load(f)\n",
    "\n",
    "    data_june_20 = pq.read_table(\"./test/outfiles_june20/0-1_mu.parquet\").to_pandas()"
   ]
  },
  {
   "cell_type": "code",
   "execution_count": 7,
   "metadata": {},
   "outputs": [
    {
     "data": {
      "text/plain": [
       "73"
      ]
     },
     "execution_count": 7,
     "metadata": {},
     "output_type": "execute_result"
    }
   ],
   "source": [
    "len(data_june_20)"
   ]
  },
  {
   "cell_type": "code",
   "execution_count": 33,
   "metadata": {},
   "outputs": [
    {
     "data": {
      "text/plain": [
       "0      33.491756\n",
       "1     117.364410\n",
       "2      84.576859\n",
       "3      17.041643\n",
       "4      35.143532\n",
       "         ...    \n",
       "68     31.051928\n",
       "69     75.668480\n",
       "70     90.090439\n",
       "71     65.895943\n",
       "72     65.714912\n",
       "Name: met, Length: 73, dtype: float32"
      ]
     },
     "execution_count": 33,
     "metadata": {},
     "output_type": "execute_result"
    }
   ],
   "source": [
    "select = data_june_20['met']>-100000\n",
    "data_june_20['met'][select]"
   ]
  },
  {
   "cell_type": "code",
   "execution_count": 33,
   "metadata": {
    "scrolled": true
   },
   "outputs": [
    {
     "name": "stdout",
     "output_type": "stream",
     "text": [
      "0-1.pkl         0-1_had.parquet 0-3.pkl         0-3_mu.parquet\r\n",
      "0-1_ele.parquet 0-1_mu.parquet  0-3_ele.parquet \u001b[34m0-3had\u001b[m\u001b[m\r\n"
     ]
    }
   ],
   "source": [
    "! ls test/outfiles"
   ]
  },
  {
   "cell_type": "code",
   "execution_count": 82,
   "metadata": {},
   "outputs": [],
   "source": [
    "with open(\"./test/outfiles/0-1.pkl\", 'rb') as f:\n",
    "    new2 = pkl.load(f)\n",
    "    \n",
    "data_new2 = pq.read_table(\"./test/outfiles/0-1_ele.parquet\").to_pandas()"
   ]
  },
  {
   "cell_type": "code",
   "execution_count": 83,
   "metadata": {},
   "outputs": [
    {
     "data": {
      "text/plain": [
       "{'GluGluHToWWToLNuQQ': {'2017': {'sumgenweight': 2842898.2,\n",
       "   'cutflows': {'ele': {'metfilters': 5679,\n",
       "     'oneLepton': 93,\n",
       "     'fatjetKin': 200,\n",
       "     'antibjettag': 188,\n",
       "     'all': 98400,\n",
       "     'notaus': 93,\n",
       "     'leptonInJet': 94,\n",
       "     'trigger': 5680,\n",
       "     'ht': 200,\n",
       "     'leptonKin': 93},\n",
       "    'mu': {'metfilters': 10872,\n",
       "     'oneLepton': 108,\n",
       "     'fatjetKin': 296,\n",
       "     'antibjettag': 276,\n",
       "     'all': 98400,\n",
       "     'notaus': 82,\n",
       "     'leptonInJet': 108,\n",
       "     'trigger': 10877,\n",
       "     'ht': 296,\n",
       "     'leptonKin': 108}}},\n",
       "  'mc': 10}}"
      ]
     },
     "execution_count": 83,
     "metadata": {},
     "output_type": "execute_result"
    }
   ],
   "source": [
    "new2"
   ]
  },
  {
   "cell_type": "code",
   "execution_count": 84,
   "metadata": {},
   "outputs": [
    {
     "data": {
      "text/plain": [
       "93"
      ]
     },
     "execution_count": 84,
     "metadata": {},
     "output_type": "execute_result"
    }
   ],
   "source": [
    "len(data_new2)"
   ]
  },
  {
   "cell_type": "code",
   "execution_count": 85,
   "metadata": {},
   "outputs": [
    {
     "data": {
      "text/html": [
       "<div>\n",
       "<style scoped>\n",
       "    .dataframe tbody tr th:only-of-type {\n",
       "        vertical-align: middle;\n",
       "    }\n",
       "\n",
       "    .dataframe tbody tr th {\n",
       "        vertical-align: top;\n",
       "    }\n",
       "\n",
       "    .dataframe thead th {\n",
       "        text-align: right;\n",
       "    }\n",
       "</style>\n",
       "<table border=\"1\" class=\"dataframe\">\n",
       "  <thead>\n",
       "    <tr style=\"text-align: right;\">\n",
       "      <th></th>\n",
       "      <th>met</th>\n",
       "      <th>ht</th>\n",
       "      <th>nfj</th>\n",
       "      <th>deta</th>\n",
       "      <th>mjj</th>\n",
       "      <th>weight</th>\n",
       "      <th>weight_genweight</th>\n",
       "      <th>weight_L1Prefiring</th>\n",
       "      <th>weight_pileup</th>\n",
       "      <th>ele_highPtId</th>\n",
       "      <th>...</th>\n",
       "      <th>gen_Hpt</th>\n",
       "      <th>gen_Hnprongs</th>\n",
       "      <th>gen_iswlepton</th>\n",
       "      <th>gen_iswstarlepton</th>\n",
       "      <th>fj_ttbar_bmerged</th>\n",
       "      <th>fj_ttbar_bsplit</th>\n",
       "      <th>fj_wjets_label</th>\n",
       "      <th>fj_isHVV_elenuqq</th>\n",
       "      <th>fj_isHVV_munuqq</th>\n",
       "      <th>fj_isHVV_taunuqq</th>\n",
       "    </tr>\n",
       "  </thead>\n",
       "  <tbody>\n",
       "    <tr>\n",
       "      <th>0</th>\n",
       "      <td>108.861389</td>\n",
       "      <td>643.296875</td>\n",
       "      <td>2</td>\n",
       "      <td>0.665524</td>\n",
       "      <td>127.691750</td>\n",
       "      <td>28.408458</td>\n",
       "      <td>28.893</td>\n",
       "      <td>1.000000</td>\n",
       "      <td>0.983230</td>\n",
       "      <td>True</td>\n",
       "      <td>...</td>\n",
       "      <td>326.0</td>\n",
       "      <td>2</td>\n",
       "      <td>True</td>\n",
       "      <td>False</td>\n",
       "      <td>0.009156</td>\n",
       "      <td>0.007215</td>\n",
       "      <td>0.302030</td>\n",
       "      <td>0.657752</td>\n",
       "      <td>0.000080</td>\n",
       "      <td>0.023767</td>\n",
       "    </tr>\n",
       "    <tr>\n",
       "      <th>1</th>\n",
       "      <td>76.918526</td>\n",
       "      <td>477.687500</td>\n",
       "      <td>2</td>\n",
       "      <td>1.405029</td>\n",
       "      <td>267.812866</td>\n",
       "      <td>30.420898</td>\n",
       "      <td>28.893</td>\n",
       "      <td>1.000000</td>\n",
       "      <td>1.052881</td>\n",
       "      <td>True</td>\n",
       "      <td>...</td>\n",
       "      <td>NaN</td>\n",
       "      <td>1</td>\n",
       "      <td>True</td>\n",
       "      <td>False</td>\n",
       "      <td>0.005980</td>\n",
       "      <td>0.014532</td>\n",
       "      <td>0.546833</td>\n",
       "      <td>0.409698</td>\n",
       "      <td>0.000142</td>\n",
       "      <td>0.022814</td>\n",
       "    </tr>\n",
       "    <tr>\n",
       "      <th>2</th>\n",
       "      <td>65.003716</td>\n",
       "      <td>526.718750</td>\n",
       "      <td>2</td>\n",
       "      <td>0.221264</td>\n",
       "      <td>87.730652</td>\n",
       "      <td>34.272704</td>\n",
       "      <td>28.893</td>\n",
       "      <td>1.000000</td>\n",
       "      <td>1.186194</td>\n",
       "      <td>True</td>\n",
       "      <td>...</td>\n",
       "      <td>281.0</td>\n",
       "      <td>2</td>\n",
       "      <td>True</td>\n",
       "      <td>False</td>\n",
       "      <td>0.004218</td>\n",
       "      <td>0.015122</td>\n",
       "      <td>0.595081</td>\n",
       "      <td>0.356463</td>\n",
       "      <td>0.000144</td>\n",
       "      <td>0.028971</td>\n",
       "    </tr>\n",
       "    <tr>\n",
       "      <th>3</th>\n",
       "      <td>77.466438</td>\n",
       "      <td>1172.937500</td>\n",
       "      <td>2</td>\n",
       "      <td>0.372559</td>\n",
       "      <td>122.723518</td>\n",
       "      <td>23.792788</td>\n",
       "      <td>28.893</td>\n",
       "      <td>0.861702</td>\n",
       "      <td>0.955643</td>\n",
       "      <td>True</td>\n",
       "      <td>...</td>\n",
       "      <td>401.0</td>\n",
       "      <td>3</td>\n",
       "      <td>False</td>\n",
       "      <td>True</td>\n",
       "      <td>0.002122</td>\n",
       "      <td>0.001072</td>\n",
       "      <td>0.018801</td>\n",
       "      <td>0.935241</td>\n",
       "      <td>0.000185</td>\n",
       "      <td>0.042578</td>\n",
       "    </tr>\n",
       "    <tr>\n",
       "      <th>4</th>\n",
       "      <td>19.559725</td>\n",
       "      <td>643.843750</td>\n",
       "      <td>2</td>\n",
       "      <td>1.928406</td>\n",
       "      <td>516.429688</td>\n",
       "      <td>19.663709</td>\n",
       "      <td>28.893</td>\n",
       "      <td>0.693622</td>\n",
       "      <td>0.981183</td>\n",
       "      <td>True</td>\n",
       "      <td>...</td>\n",
       "      <td>226.0</td>\n",
       "      <td>3</td>\n",
       "      <td>False</td>\n",
       "      <td>True</td>\n",
       "      <td>0.009805</td>\n",
       "      <td>0.046667</td>\n",
       "      <td>0.129569</td>\n",
       "      <td>0.698586</td>\n",
       "      <td>0.004250</td>\n",
       "      <td>0.111124</td>\n",
       "    </tr>\n",
       "    <tr>\n",
       "      <th>...</th>\n",
       "      <td>...</td>\n",
       "      <td>...</td>\n",
       "      <td>...</td>\n",
       "      <td>...</td>\n",
       "      <td>...</td>\n",
       "      <td>...</td>\n",
       "      <td>...</td>\n",
       "      <td>...</td>\n",
       "      <td>...</td>\n",
       "      <td>...</td>\n",
       "      <td>...</td>\n",
       "      <td>...</td>\n",
       "      <td>...</td>\n",
       "      <td>...</td>\n",
       "      <td>...</td>\n",
       "      <td>...</td>\n",
       "      <td>...</td>\n",
       "      <td>...</td>\n",
       "      <td>...</td>\n",
       "      <td>...</td>\n",
       "      <td>...</td>\n",
       "    </tr>\n",
       "    <tr>\n",
       "      <th>88</th>\n",
       "      <td>64.786095</td>\n",
       "      <td>429.593750</td>\n",
       "      <td>2</td>\n",
       "      <td>0.194424</td>\n",
       "      <td>140.747681</td>\n",
       "      <td>33.959789</td>\n",
       "      <td>28.893</td>\n",
       "      <td>1.000000</td>\n",
       "      <td>1.175364</td>\n",
       "      <td>True</td>\n",
       "      <td>...</td>\n",
       "      <td>198.0</td>\n",
       "      <td>2</td>\n",
       "      <td>False</td>\n",
       "      <td>True</td>\n",
       "      <td>NaN</td>\n",
       "      <td>NaN</td>\n",
       "      <td>NaN</td>\n",
       "      <td>NaN</td>\n",
       "      <td>NaN</td>\n",
       "      <td>NaN</td>\n",
       "    </tr>\n",
       "    <tr>\n",
       "      <th>89</th>\n",
       "      <td>48.443806</td>\n",
       "      <td>487.062500</td>\n",
       "      <td>2</td>\n",
       "      <td>0.374756</td>\n",
       "      <td>57.211437</td>\n",
       "      <td>27.752251</td>\n",
       "      <td>28.893</td>\n",
       "      <td>1.000000</td>\n",
       "      <td>0.960518</td>\n",
       "      <td>True</td>\n",
       "      <td>...</td>\n",
       "      <td>237.0</td>\n",
       "      <td>3</td>\n",
       "      <td>True</td>\n",
       "      <td>False</td>\n",
       "      <td>NaN</td>\n",
       "      <td>NaN</td>\n",
       "      <td>NaN</td>\n",
       "      <td>NaN</td>\n",
       "      <td>NaN</td>\n",
       "      <td>NaN</td>\n",
       "    </tr>\n",
       "    <tr>\n",
       "      <th>90</th>\n",
       "      <td>255.621109</td>\n",
       "      <td>1083.062500</td>\n",
       "      <td>3</td>\n",
       "      <td>2.016113</td>\n",
       "      <td>811.485962</td>\n",
       "      <td>26.112992</td>\n",
       "      <td>28.893</td>\n",
       "      <td>0.984487</td>\n",
       "      <td>0.918024</td>\n",
       "      <td>True</td>\n",
       "      <td>...</td>\n",
       "      <td>540.0</td>\n",
       "      <td>3</td>\n",
       "      <td>True</td>\n",
       "      <td>False</td>\n",
       "      <td>NaN</td>\n",
       "      <td>NaN</td>\n",
       "      <td>NaN</td>\n",
       "      <td>NaN</td>\n",
       "      <td>NaN</td>\n",
       "      <td>NaN</td>\n",
       "    </tr>\n",
       "    <tr>\n",
       "      <th>91</th>\n",
       "      <td>126.429306</td>\n",
       "      <td>662.156250</td>\n",
       "      <td>1</td>\n",
       "      <td>1.602905</td>\n",
       "      <td>236.531769</td>\n",
       "      <td>28.079763</td>\n",
       "      <td>28.893</td>\n",
       "      <td>0.973684</td>\n",
       "      <td>0.998120</td>\n",
       "      <td>True</td>\n",
       "      <td>...</td>\n",
       "      <td>308.0</td>\n",
       "      <td>3</td>\n",
       "      <td>True</td>\n",
       "      <td>False</td>\n",
       "      <td>NaN</td>\n",
       "      <td>NaN</td>\n",
       "      <td>NaN</td>\n",
       "      <td>NaN</td>\n",
       "      <td>NaN</td>\n",
       "      <td>NaN</td>\n",
       "    </tr>\n",
       "    <tr>\n",
       "      <th>92</th>\n",
       "      <td>68.779503</td>\n",
       "      <td>752.281250</td>\n",
       "      <td>1</td>\n",
       "      <td>0.340820</td>\n",
       "      <td>148.932770</td>\n",
       "      <td>28.259789</td>\n",
       "      <td>28.893</td>\n",
       "      <td>1.000000</td>\n",
       "      <td>0.978084</td>\n",
       "      <td>True</td>\n",
       "      <td>...</td>\n",
       "      <td>290.0</td>\n",
       "      <td>3</td>\n",
       "      <td>False</td>\n",
       "      <td>True</td>\n",
       "      <td>NaN</td>\n",
       "      <td>NaN</td>\n",
       "      <td>NaN</td>\n",
       "      <td>NaN</td>\n",
       "      <td>NaN</td>\n",
       "      <td>NaN</td>\n",
       "    </tr>\n",
       "  </tbody>\n",
       "</table>\n",
       "<p>93 rows × 34 columns</p>\n",
       "</div>"
      ],
      "text/plain": [
       "           met           ht  nfj      deta         mjj     weight  \\\n",
       "0   108.861389   643.296875    2  0.665524  127.691750  28.408458   \n",
       "1    76.918526   477.687500    2  1.405029  267.812866  30.420898   \n",
       "2    65.003716   526.718750    2  0.221264   87.730652  34.272704   \n",
       "3    77.466438  1172.937500    2  0.372559  122.723518  23.792788   \n",
       "4    19.559725   643.843750    2  1.928406  516.429688  19.663709   \n",
       "..         ...          ...  ...       ...         ...        ...   \n",
       "88   64.786095   429.593750    2  0.194424  140.747681  33.959789   \n",
       "89   48.443806   487.062500    2  0.374756   57.211437  27.752251   \n",
       "90  255.621109  1083.062500    3  2.016113  811.485962  26.112992   \n",
       "91  126.429306   662.156250    1  1.602905  236.531769  28.079763   \n",
       "92   68.779503   752.281250    1  0.340820  148.932770  28.259789   \n",
       "\n",
       "    weight_genweight  weight_L1Prefiring  weight_pileup  ele_highPtId  ...  \\\n",
       "0             28.893            1.000000       0.983230          True  ...   \n",
       "1             28.893            1.000000       1.052881          True  ...   \n",
       "2             28.893            1.000000       1.186194          True  ...   \n",
       "3             28.893            0.861702       0.955643          True  ...   \n",
       "4             28.893            0.693622       0.981183          True  ...   \n",
       "..               ...                 ...            ...           ...  ...   \n",
       "88            28.893            1.000000       1.175364          True  ...   \n",
       "89            28.893            1.000000       0.960518          True  ...   \n",
       "90            28.893            0.984487       0.918024          True  ...   \n",
       "91            28.893            0.973684       0.998120          True  ...   \n",
       "92            28.893            1.000000       0.978084          True  ...   \n",
       "\n",
       "    gen_Hpt  gen_Hnprongs  gen_iswlepton  gen_iswstarlepton  fj_ttbar_bmerged  \\\n",
       "0     326.0             2           True              False          0.009156   \n",
       "1       NaN             1           True              False          0.005980   \n",
       "2     281.0             2           True              False          0.004218   \n",
       "3     401.0             3          False               True          0.002122   \n",
       "4     226.0             3          False               True          0.009805   \n",
       "..      ...           ...            ...                ...               ...   \n",
       "88    198.0             2          False               True               NaN   \n",
       "89    237.0             3           True              False               NaN   \n",
       "90    540.0             3           True              False               NaN   \n",
       "91    308.0             3           True              False               NaN   \n",
       "92    290.0             3          False               True               NaN   \n",
       "\n",
       "    fj_ttbar_bsplit  fj_wjets_label  fj_isHVV_elenuqq  fj_isHVV_munuqq  \\\n",
       "0          0.007215        0.302030          0.657752         0.000080   \n",
       "1          0.014532        0.546833          0.409698         0.000142   \n",
       "2          0.015122        0.595081          0.356463         0.000144   \n",
       "3          0.001072        0.018801          0.935241         0.000185   \n",
       "4          0.046667        0.129569          0.698586         0.004250   \n",
       "..              ...             ...               ...              ...   \n",
       "88              NaN             NaN               NaN              NaN   \n",
       "89              NaN             NaN               NaN              NaN   \n",
       "90              NaN             NaN               NaN              NaN   \n",
       "91              NaN             NaN               NaN              NaN   \n",
       "92              NaN             NaN               NaN              NaN   \n",
       "\n",
       "    fj_isHVV_taunuqq  \n",
       "0           0.023767  \n",
       "1           0.022814  \n",
       "2           0.028971  \n",
       "3           0.042578  \n",
       "4           0.111124  \n",
       "..               ...  \n",
       "88               NaN  \n",
       "89               NaN  \n",
       "90               NaN  \n",
       "91               NaN  \n",
       "92               NaN  \n",
       "\n",
       "[93 rows x 34 columns]"
      ]
     },
     "execution_count": 85,
     "metadata": {},
     "output_type": "execute_result"
    }
   ],
   "source": [
    "data_new2"
   ]
  },
  {
   "cell_type": "code",
   "execution_count": 44,
   "metadata": {},
   "outputs": [],
   "source": [
    "with open(\"./test/outfiles/0-3.pkl\", 'rb') as f:\n",
    "    new = pkl.load(f)"
   ]
  },
  {
   "cell_type": "code",
   "execution_count": 45,
   "metadata": {},
   "outputs": [
    {
     "data": {
      "text/plain": [
       "{'GluGluHToWWToLNuQQ': {'mc': 30,\n",
       "  '2017': {'cutflows': {'ele': {'leptonInJet': 243,\n",
       "     'notaus': 3,\n",
       "     'oneLepton': 3,\n",
       "     'fatjetKin': 543,\n",
       "     'metfilters': 16812,\n",
       "     'ht': 543,\n",
       "     'all': 295200,\n",
       "     'antibjettag': 504,\n",
       "     'trigger': 16816,\n",
       "     'leptonKin': 3},\n",
       "    'mu': {'leptonInJet': 243,\n",
       "     'notaus': 3,\n",
       "     'oneLepton': 3,\n",
       "     'fatjetKin': 543,\n",
       "     'metfilters': 16812,\n",
       "     'ht': 543,\n",
       "     'all': 295200,\n",
       "     'antibjettag': 504,\n",
       "     'trigger': 16816,\n",
       "     'leptonKin': 3}},\n",
       "   'sumgenweight': 8528405.0}}}"
      ]
     },
     "execution_count": 45,
     "metadata": {},
     "output_type": "execute_result"
    }
   ],
   "source": [
    "new_3files"
   ]
  },
  {
   "cell_type": "code",
   "execution_count": null,
   "metadata": {},
   "outputs": [],
   "source": []
  },
  {
   "cell_type": "markdown",
   "metadata": {},
   "source": [
    "# Load metadata and parquet files"
   ]
  },
  {
   "cell_type": "markdown",
   "metadata": {},
   "source": [
    "### candidate_fj: closest good_fatjet to the lepton"
   ]
  },
  {
   "cell_type": "code",
   "execution_count": 2,
   "metadata": {},
   "outputs": [],
   "source": [
    "job_name = '/0-20'\n",
    "channels=['ele', 'mu', 'had']\n",
    "outfiles = \"outfiles0\"\n",
    "\n",
    "with open(\"./\" + outfiles + job_name + '.pkl', 'rb') as f:\n",
    "    metadata0 = pkl.load(f)\n",
    "    \n",
    "for key in metadata0.keys():\n",
    "    sample = key\n",
    "\n",
    "data0 = {}\n",
    "data0[sample] = {}\n",
    "\n",
    "data0[sample]['ele'] = pq.read_table(\"./\" + outfiles + job_name + '_' + 'ele' + '.parquet').to_pandas()"
   ]
  },
  {
   "cell_type": "code",
   "execution_count": 3,
   "metadata": {},
   "outputs": [
    {
     "name": "stdout",
     "output_type": "stream",
     "text": [
      "only 3036 out of 10697 are non-Null\n"
     ]
    }
   ],
   "source": [
    "non_Null = data0[sample]['ele']['lep_fj_dr']>0\n",
    "print(f\"only {non_Null.sum()} out of {len(data0[sample]['ele'])} are non-Null\")\n",
    "\n",
    "data0[sample]['ele'] = data0[sample]['ele'][non_Null]\n",
    "ev0 = len(data0[sample]['ele'])"
   ]
  },
  {
   "cell_type": "code",
   "execution_count": 4,
   "metadata": {},
   "outputs": [
    {
     "name": "stdout",
     "output_type": "stream",
     "text": [
      "only 306 out of 3036 are within dr=0.1\n"
     ]
    }
   ],
   "source": [
    "dr_01 = data0[sample]['ele']['lep_fj_dr']<=0.1\n",
    "print(f\"only {dr_01.sum()} out of {ev0} are within dr=0.1\")"
   ]
  },
  {
   "cell_type": "markdown",
   "metadata": {},
   "source": [
    "### candidate_fj: closest good_fatjet to the lepton above dr>0.1"
   ]
  },
  {
   "cell_type": "code",
   "execution_count": 5,
   "metadata": {},
   "outputs": [],
   "source": [
    "job_name = '/0-20'\n",
    "channels=['ele', 'mu', 'had']\n",
    "outfiles = \"outfiles01\"\n",
    "\n",
    "with open(\"./\" + outfiles + job_name + '.pkl', 'rb') as f:\n",
    "    metadata01 = pkl.load(f)\n",
    "    \n",
    "for key in metadata0.keys():\n",
    "    sample = key\n",
    "\n",
    "data01 = {}\n",
    "data01[sample] = {}\n",
    "\n",
    "data01[sample]['ele'] = pq.read_table(\"./\" + outfiles + job_name + '_' + 'ele' + '.parquet').to_pandas()"
   ]
  },
  {
   "cell_type": "code",
   "execution_count": 6,
   "metadata": {},
   "outputs": [
    {
     "name": "stdout",
     "output_type": "stream",
     "text": [
      "only 2973 out of 10697 are non-Null\n"
     ]
    }
   ],
   "source": [
    "non_Null = data01[sample]['ele']['lep_fj_dr']>0\n",
    "print(f\"only {non_Null.sum()} out of {len(data01[sample]['ele'])} are non-Null\")\n",
    "\n",
    "data01[sample]['ele'] = data01[sample]['ele'][non_Null]\n",
    "ev01 = len(data01[sample]['ele'])"
   ]
  },
  {
   "cell_type": "code",
   "execution_count": 7,
   "metadata": {},
   "outputs": [
    {
     "name": "stdout",
     "output_type": "stream",
     "text": [
      "Comparing with no cut, we will drop: 2.08 % of events\n"
     ]
    }
   ],
   "source": [
    "print(f\"Comparing with no cut, we will drop: {round(100*((ev0-ev01)/ev0),2)} % of events\")"
   ]
  },
  {
   "cell_type": "markdown",
   "metadata": {},
   "source": [
    "# Investigate the parquet files"
   ]
  },
  {
   "cell_type": "code",
   "execution_count": 18,
   "metadata": {},
   "outputs": [
    {
     "data": {
      "image/png": "[encoded data removed]",
      "text/plain": [
       "<Figure size 576x360 with 2 Axes>"
      ]
     },
     "metadata": {
      "needs_background": "light"
     },
     "output_type": "display_data"
    }
   ],
   "source": [
    "# lep_pt vs fj_pt\n",
    "h = hist2.Hist(\n",
    "    hist2.axis.Regular(100,0, 500, name='lep_pt', label='lep_pt', flow=True),    \n",
    "    hist2.axis.Regular(100,0, 500, name='fj_pt', label='fj_pt', flow=True),\n",
    ")\n",
    "\n",
    "h.fill(data0[sample]['ele']['lep_pt'], data0[sample]['ele']['fj_pt']\n",
    ")\n",
    "\n",
    "fig, ax = plt.subplots(figsize=(8, 5))\n",
    "hep.hist2dplot(h, ax=ax, norm=matplotlib.colors.LogNorm(vmin=1e-3)) \n",
    "\n",
    "ax.set_title(f'{sample} \\n with old definition')\n",
    "hep.cms.lumitext(f\"'2017' (13 TeV)\", ax=ax)\n",
    "hep.cms.text(\"Work in Progress\", ax=ax);"
   ]
  },
  {
   "cell_type": "code",
   "execution_count": 19,
   "metadata": {},
   "outputs": [
    {
     "data": {
      "image/png": "[encoded data removed]",
      "text/plain": [
       "<Figure size 576x360 with 2 Axes>"
      ]
     },
     "metadata": {
      "needs_background": "light"
     },
     "output_type": "display_data"
    }
   ],
   "source": [
    "# lep_pt vs fj_pt\n",
    "h = hist2.Hist(\n",
    "    hist2.axis.Regular(100,0, 500, name='lep_pt', label='lep_pt', flow=True),    \n",
    "    hist2.axis.Regular(100,0, 500, name='fj_pt', label='fj_pt', flow=True),\n",
    ")\n",
    "\n",
    "h.fill(data01[sample]['ele']['lep_pt'], data01[sample]['ele']['fj_pt']\n",
    ")\n",
    "\n",
    "fig, ax = plt.subplots(figsize=(8, 5))\n",
    "hep.hist2dplot(h, ax=ax, norm=matplotlib.colors.LogNorm(vmin=1e-3))    \n",
    "ax.set_title(f'{sample} \\n with new definition')\n",
    "hep.cms.lumitext(f\"'2017' (13 TeV)\", ax=ax)\n",
    "hep.cms.text(\"Work in Progress\", ax=ax);"
   ]
  },
  {
   "cell_type": "code",
   "execution_count": 17,
   "metadata": {},
   "outputs": [
    {
     "data": {
      "image/png": "[encoded data removed]",
      "text/plain": [
       "<Figure size 576x360 with 1 Axes>"
      ]
     },
     "metadata": {
      "needs_background": "light"
     },
     "output_type": "display_data"
    }
   ],
   "source": [
    "# distribution of dr\n",
    "h = hist2.Hist(\n",
    "    hist2.axis.Regular(50,0, 1.2, name='lep_fj_dr', label='lep_fj_dr', flow=True),    \n",
    "    hist2.axis.StrCategory([], name='cut', growth=True)\n",
    ")\n",
    "\n",
    "h.fill(data0[sample]['ele']['lep_fj_dr'], 'preselection')\n",
    "h.fill(data0[sample]['ele']['lep_fj_dr'][data0[sample]['ele'][\"anti_bjettag\"] == 1], 'preselection + btag')\n",
    "h.fill(data0[sample]['ele']['lep_fj_dr'][data0[sample]['ele'][\"leptonInJet\"] == 1], 'preselection + dr')\n",
    "\n",
    "\n",
    "fig, ax = plt.subplots(figsize=(8, 5))\n",
    "hep.histplot(h[{'cut': 'preselection'}], ax=ax, label = 'preselection')\n",
    "hep.histplot(h[{'cut': 'preselection + btag'}], ax=ax, label = 'preselection ')\n",
    "hep.histplot(h[{'cut': 'preselection + dr'}], ax=ax, label = 'preselection + dr')\n",
    "\n",
    "ax.set_title(f'ele channel for \\n {sample} \\n with old definition')\n",
    "ax.legend()\n",
    "hep.cms.lumitext(f\"'2017' (13 TeV)\", ax=ax)\n",
    "hep.cms.text(\"Work in Progress\", ax=ax);\n",
    "plt.savefig('new.pdf')"
   ]
  },
  {
   "cell_type": "code",
   "execution_count": 16,
   "metadata": {},
   "outputs": [
    {
     "data": {
      "image/png": "[encoded data removed]",
      "text/plain": [
       "<Figure size 576x360 with 1 Axes>"
      ]
     },
     "metadata": {
      "needs_background": "light"
     },
     "output_type": "display_data"
    }
   ],
   "source": [
    "# distribution of dr\n",
    "h = hist2.Hist(\n",
    "    hist2.axis.Regular(50,0, 1.2, name='lep_fj_dr', label='lep_fj_dr', flow=True),    \n",
    "    hist2.axis.StrCategory([], name='cut', growth=True),\n",
    "    hist2.axis.StrCategory([], name='samples', growth=True)\n",
    "    \n",
    ")\n",
    "\n",
    "h.fill(data01[sample]['ele']['lep_fj_dr'], 'preselection', 'lol')\n",
    "h.fill(data01[sample]['ele']['lep_fj_dr'][data01[sample]['ele'][\"anti_bjettag\"] == 1], 'preselection + btag', 'lol')\n",
    "h.fill(data01[sample]['ele']['lep_fj_dr'][data01[sample]['ele'][\"leptonInJet\"] == 1], 'preselection + dr', 'lol')\n",
    "\n",
    "\n",
    "fig, ax = plt.subplots(figsize=(8, 5))\n",
    "hep.histplot(h[{'cut': 'preselection', 'samples':'lol'}], ax=ax, label = 'preselection')\n",
    "hep.histplot(h[{'cut': 'preselection + btag', 'samples':'lol'}], ax=ax, label = 'preselection ')\n",
    "hep.histplot(h[{'cut': 'preselection + dr', 'samples':'lol'}], ax=ax, label = 'preselection + dr')\n",
    "\n",
    "ax.set_title(f'ele channel for \\n {sample} \\n with new definition')\n",
    "ax.legend()\n",
    "hep.cms.lumitext(f\"'2017' (13 TeV)\", ax=ax)\n",
    "hep.cms.text(\"Work in Progress\", ax=ax);\n",
    "plt.savefig('new.pdf')"
   ]
  },
  {
   "cell_type": "code",
   "execution_count": 14,
   "metadata": {},
   "outputs": [
    {
     "data": {
      "image/png": "[encoded data removed]",
      "text/plain": [
       "<Figure size 576x360 with 2 Axes>"
      ]
     },
     "metadata": {
      "needs_background": "light"
     },
     "output_type": "display_data"
    }
   ],
   "source": [
    "# distribution of dr\n",
    "h = hist2.Hist(\n",
    "    hist2.axis.Regular(50,0, 500, name='lep_pt', label='lep_pt', flow=True),        \n",
    "    hist2.axis.Regular(50,0, 1.2, name='lep_fj_dr', label='lep_fj_dr', flow=True),    \n",
    ")\n",
    "\n",
    "h.fill(data0[sample]['ele']['lep_pt'], data0[sample]['ele']['lep_fj_dr'])\n",
    "\n",
    "fig, ax = plt.subplots(figsize=(8, 5))\n",
    "hep.hist2dplot(h, ax=ax, cmap=\"plasma\", norm=matplotlib.colors.LogNorm(vmin=1e-3, vmax=1000))\n",
    "\n",
    "ax.set_title(f'ele channel for \\n {sample}')\n",
    "hep.cms.lumitext(f\"'2017' (13 TeV)\", ax=ax)\n",
    "hep.cms.text(\"Work in Progress\", ax=ax);\n",
    "# plt.savefig('new.pdf')"
   ]
  },
  {
   "cell_type": "code",
   "execution_count": 15,
   "metadata": {
    "scrolled": true
   },
   "outputs": [
    {
     "data": {
      "image/png": "[encoded data removed]",
      "text/plain": [
       "<Figure size 576x360 with 2 Axes>"
      ]
     },
     "metadata": {
      "needs_background": "light"
     },
     "output_type": "display_data"
    }
   ],
   "source": [
    "# distribution of dr\n",
    "h = hist2.Hist(\n",
    "    hist2.axis.Regular(50,0, 500, name='lep_pt', label='lep_pt', flow=True),        \n",
    "    hist2.axis.Regular(50,0, 1.2, name='lep_fj_dr', label='lep_fj_dr', flow=True),    \n",
    ")\n",
    "\n",
    "h.fill(data01[sample]['ele']['lep_pt'], data01[sample]['ele']['lep_fj_dr'])\n",
    "\n",
    "fig, ax = plt.subplots(figsize=(8, 5))\n",
    "hep.hist2dplot(h, ax=ax, cmap=\"plasma\", norm=matplotlib.colors.LogNorm(vmin=1e-3, vmax=1000))\n",
    "\n",
    "ax.set_title(f'ele channel for \\n {sample}')\n",
    "hep.cms.lumitext(f\"'2017' (13 TeV)\", ax=ax)\n",
    "hep.cms.text(\"Work in Progress\", ax=ax);\n",
    "# plt.savefig('new.pdf')"
   ]
  },
  {
   "cell_type": "markdown",
   "metadata": {},
   "source": [
    "### Investigating EGamma"
   ]
  },
  {
   "cell_type": "code",
   "execution_count": 12,
   "metadata": {},
   "outputs": [],
   "source": [
    "data = pq.read_table('./19-34_ele.parquet').to_pandas()"
   ]
  },
  {
   "cell_type": "code",
   "execution_count": 13,
   "metadata": {},
   "outputs": [
    {
     "data": {
      "text/html": [
       "<div>\n",
       "<style scoped>\n",
       "    .dataframe tbody tr th:only-of-type {\n",
       "        vertical-align: middle;\n",
       "    }\n",
       "\n",
       "    .dataframe tbody tr th {\n",
       "        vertical-align: top;\n",
       "    }\n",
       "\n",
       "    .dataframe thead th {\n",
       "        text-align: right;\n",
       "    }\n",
       "</style>\n",
       "<table border=\"1\" class=\"dataframe\">\n",
       "  <thead>\n",
       "    <tr style=\"text-align: right;\">\n",
       "      <th></th>\n",
       "    </tr>\n",
       "  </thead>\n",
       "  <tbody>\n",
       "  </tbody>\n",
       "</table>\n",
       "</div>"
      ],
      "text/plain": [
       "Empty DataFrame\n",
       "Columns: []\n",
       "Index: []"
      ]
     },
     "execution_count": 13,
     "metadata": {},
     "output_type": "execute_result"
    }
   ],
   "source": [
    "data"
   ]
  },
  {
   "cell_type": "code",
   "execution_count": null,
   "metadata": {},
   "outputs": [],
   "source": []
  }
 ],
 "metadata": {
  "kernelspec": {
   "display_name": "coffea-env",
   "language": "python",
   "name": "coffea-env"
  },
  "language_info": {
   "codemirror_mode": {
    "name": "ipython",
    "version": 3
   },
   "file_extension": ".py",
   "mimetype": "text/x-python",
   "name": "python",
   "nbconvert_exporter": "python",
   "pygments_lexer": "ipython3",
   "version": "3.7.12"
  }
 },
 "nbformat": 4,
 "nbformat_minor": 5
}
