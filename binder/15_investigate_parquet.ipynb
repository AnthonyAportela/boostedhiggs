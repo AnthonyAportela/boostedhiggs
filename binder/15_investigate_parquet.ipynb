{
 "cells": [
  {
   "cell_type": "markdown",
   "id": "c58a46fa",
   "metadata": {},
   "source": [
    "## This notebook\n",
    "- loads a parquet file from `./outfiles` for exploration\n",
    "- runs over HWW semileptonic sample... one root file...\n",
    "- makes stacked hist plots to compare the different cuts\n",
    "- makes 2d plots to cross-check any pair of variables (e.g. lep_pt vs jet_pt)"
   ]
  },
  {
   "cell_type": "code",
   "execution_count": 54,
   "id": "9b57bf6c",
   "metadata": {},
   "outputs": [
    {
     "data": {
      "text/plain": [
       "{'divide': 'warn', 'over': 'warn', 'under': 'ignore', 'invalid': 'ignore'}"
      ]
     },
     "execution_count": 54,
     "metadata": {},
     "output_type": "execute_result"
    }
   ],
   "source": [
    "import json\n",
    "import uproot\n",
    "from coffea.nanoevents import NanoEventsFactory, NanoAODSchema, BaseSchema\n",
    "from coffea import nanoevents\n",
    "from coffea import processor\n",
    "import time\n",
    "\n",
    "import argparse\n",
    "import warnings\n",
    "import pyarrow as pa\n",
    "import pyarrow.parquet as pq\n",
    "import pickle as pkl\n",
    "import pandas as pd\n",
    "import os\n",
    "import sys\n",
    "sys.path.append(\"../\")\n",
    "\n",
    "from collections import defaultdict\n",
    "import pickle as pkl\n",
    "import pyarrow as pa\n",
    "import awkward as ak\n",
    "import numpy as np\n",
    "import pandas as pd\n",
    "import json\n",
    "import os\n",
    "import shutil\n",
    "import pathlib\n",
    "from typing import List, Optional\n",
    "import pyarrow.parquet as pq\n",
    "\n",
    "from coffea import processor\n",
    "from coffea.nanoevents.methods import candidate, vector\n",
    "from coffea.analysis_tools import Weights, PackedSelection\n",
    "from boostedhiggs.utils import match_HWW\n",
    "from boostedhiggs.btag import btagWPs\n",
    "from boostedhiggs.btag import BTagCorrector\n",
    "\n",
    "import hist as hist2\n",
    "import matplotlib\n",
    "import matplotlib.pyplot as plt\n",
    "import matplotlib.colors as mcolors\n",
    "import mplhep as hep\n",
    "from hist.intervals import clopper_pearson_interval\n",
    "\n",
    "import warnings\n",
    "warnings.filterwarnings(\"ignore\", message=\"Found duplicate branch \")\n",
    "warnings.filterwarnings(\"ignore\", category=DeprecationWarning)\n",
    "np.seterr(invalid='ignore')"
   ]
  },
  {
   "cell_type": "markdown",
   "id": "be4c3a4c",
   "metadata": {},
   "source": [
    "# Load metadata and get sample name"
   ]
  },
  {
   "cell_type": "code",
   "execution_count": 55,
   "id": "2e1b3544",
   "metadata": {},
   "outputs": [],
   "source": [
    "job_name = '/0-20'\n",
    "channels=['ele', 'mu', 'had']"
   ]
  },
  {
   "cell_type": "code",
   "execution_count": 56,
   "id": "ebb9d108",
   "metadata": {},
   "outputs": [
    {
     "name": "stdout",
     "output_type": "stream",
     "text": [
      "GluGluHToWWToLNuQQ\n"
     ]
    }
   ],
   "source": [
    "with open(\"./outfiles\" + job_name + '.pkl', 'rb') as f:\n",
    "    metadata = pkl.load(f)\n",
    "    \n",
    "for key in metadata.keys():\n",
    "    sample = key\n",
    "\n",
    "print(sample)"
   ]
  },
  {
   "cell_type": "markdown",
   "id": "eb5912f9",
   "metadata": {},
   "source": [
    "# Load the parquet files"
   ]
  },
  {
   "cell_type": "code",
   "execution_count": 57,
   "id": "97fcddbc",
   "metadata": {},
   "outputs": [],
   "source": [
    "data = {}\n",
    "data_jets = {}\n",
    "metadata = {}\n",
    "\n",
    "data[sample] = {}\n",
    "\n",
    "for ch in channels:\n",
    "    data[sample][ch] = pq.read_table(\"./outfiles/\" + job_name + '_' + ch + '.parquet').to_pandas()"
   ]
  },
  {
   "cell_type": "markdown",
   "id": "f0fddda5",
   "metadata": {},
   "source": [
    "# Investigate the parquet files"
   ]
  },
  {
   "cell_type": "code",
   "execution_count": 58,
   "id": "a1a6432b",
   "metadata": {},
   "outputs": [
    {
     "data": {
      "image/png": "[encoded data removed]",
      "text/plain": [
       "<Figure size 576x360 with 2 Axes>"
      ]
     },
     "metadata": {
      "needs_background": "light"
     },
     "output_type": "display_data"
    }
   ],
   "source": [
    "# lep_pt vs fj_pt\n",
    "h = hist2.Hist(\n",
    "    hist2.axis.Regular(100,0, 500, name='lep_pt', label='lep_pt', flow=True),    \n",
    "    hist2.axis.Regular(100,0, 500, name='fj_pt', label='fj_pt', flow=True),\n",
    ")\n",
    "\n",
    "h.fill(data[sample]['ele']['lep_pt'], data[sample]['ele']['fj_pt']\n",
    ")\n",
    "\n",
    "odir = sample + \"/plots/\"\n",
    "\n",
    "fig, ax = plt.subplots(figsize=(8, 5))\n",
    "hep.hist2dplot(h, ax=ax, norm=matplotlib.colors.LogNorm(vmin=1e-3))    \n",
    "ax.set_title(f'{sample}')\n",
    "hep.cms.lumitext(f\"'2017' (13 TeV)\", ax=ax)\n",
    "hep.cms.text(\"Work in Progress\", ax=ax)\n",
    "\n",
    "\n",
    "if not os.path.exists(f'{odir}/'):\n",
    "    os.makedirs(f'{odir}/')\n",
    "\n",
    "plt.savefig(f'{odir}/fj_pt_vs_lep_pt.pdf')"
   ]
  },
  {
   "cell_type": "code",
   "execution_count": null,
   "id": "a47782e8",
   "metadata": {},
   "outputs": [],
   "source": []
  }
 ],
 "metadata": {
  "kernelspec": {
   "display_name": "coffea-env",
   "language": "python",
   "name": "coffea-env"
  },
  "language_info": {
   "codemirror_mode": {
    "name": "ipython",
    "version": 3
   },
   "file_extension": ".py",
   "mimetype": "text/x-python",
   "name": "python",
   "nbconvert_exporter": "python",
   "pygments_lexer": "ipython3",
   "version": "3.7.12"
  }
 },
 "nbformat": 4,
 "nbformat_minor": 5
}
