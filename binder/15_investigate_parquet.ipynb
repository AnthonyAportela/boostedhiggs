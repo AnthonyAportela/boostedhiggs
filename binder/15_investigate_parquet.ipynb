{
 "cells": [
  {
   "cell_type": "markdown",
   "id": "c58a46fa",
   "metadata": {},
   "source": [
    "## This notebook\n",
    "- loads parquet files from `./outfiles0` and `./outfiles01`\n",
    "- the former has no dr cut on fj_lep but the second has dr>0.1\n",
    "- the sample is HWW semileptonic sample... 20 root files that were processed..."
   ]
  },
  {
   "cell_type": "code",
   "execution_count": 1,
   "id": "9b57bf6c",
   "metadata": {},
   "outputs": [
    {
     "data": {
      "text/plain": [
       "{'divide': 'warn', 'over': 'warn', 'under': 'ignore', 'invalid': 'warn'}"
      ]
     },
     "execution_count": 1,
     "metadata": {},
     "output_type": "execute_result"
    }
   ],
   "source": [
    "import json\n",
    "import uproot\n",
    "from coffea.nanoevents import NanoEventsFactory, NanoAODSchema, BaseSchema\n",
    "from coffea import nanoevents\n",
    "from coffea import processor\n",
    "import time\n",
    "\n",
    "import argparse\n",
    "import warnings\n",
    "import pyarrow as pa\n",
    "import pyarrow.parquet as pq\n",
    "import pickle as pkl\n",
    "import pandas as pd\n",
    "import os\n",
    "import sys\n",
    "sys.path.append(\"../\")\n",
    "\n",
    "from collections import defaultdict\n",
    "import pickle as pkl\n",
    "import pyarrow as pa\n",
    "import awkward as ak\n",
    "import numpy as np\n",
    "import pandas as pd\n",
    "import json\n",
    "import os\n",
    "import shutil\n",
    "import pathlib\n",
    "from typing import List, Optional\n",
    "import pyarrow.parquet as pq\n",
    "\n",
    "from coffea import processor\n",
    "from coffea.nanoevents.methods import candidate, vector\n",
    "from coffea.analysis_tools import Weights, PackedSelection\n",
    "from boostedhiggs.utils import match_HWW\n",
    "from boostedhiggs.btag import btagWPs\n",
    "from boostedhiggs.btag import BTagCorrector\n",
    "\n",
    "import hist as hist2\n",
    "import matplotlib\n",
    "import matplotlib.pyplot as plt\n",
    "import matplotlib.colors as mcolors\n",
    "import mplhep as hep\n",
    "from hist.intervals import clopper_pearson_interval\n",
    "\n",
    "import warnings\n",
    "warnings.filterwarnings(\"ignore\", message=\"Found duplicate branch \")\n",
    "warnings.filterwarnings(\"ignore\", category=DeprecationWarning)\n",
    "np.seterr(invalid='ignore')"
   ]
  },
  {
   "cell_type": "markdown",
   "id": "b86d4453",
   "metadata": {},
   "source": [
    "# Load metadata and parquet files"
   ]
  },
  {
   "cell_type": "markdown",
   "id": "4f13c24f",
   "metadata": {},
   "source": [
    "### for no dr cut"
   ]
  },
  {
   "cell_type": "code",
   "execution_count": 2,
   "id": "bd0aec78",
   "metadata": {},
   "outputs": [],
   "source": [
    "job_name = '/0-20'\n",
    "channels=['ele', 'mu', 'had']\n",
    "outfiles = \"outfiles0\"\n",
    "\n",
    "with open(\"./\" + outfiles + job_name + '.pkl', 'rb') as f:\n",
    "    metadata0 = pkl.load(f)\n",
    "    \n",
    "for key in metadata0.keys():\n",
    "    sample = key\n",
    "\n",
    "data0 = {}\n",
    "data0[sample] = {}\n",
    "\n",
    "data0[sample]['ele'] = pq.read_table(\"./\" + outfiles + job_name + '_' + 'ele' + '.parquet').to_pandas()"
   ]
  },
  {
   "cell_type": "code",
   "execution_count": 3,
   "id": "ce7fafdb",
   "metadata": {},
   "outputs": [
    {
     "name": "stdout",
     "output_type": "stream",
     "text": [
      "only 3036 out of 10697 are non-Null\n"
     ]
    }
   ],
   "source": [
    "non_Null = data0[sample]['ele']['lep_fj_dr']>0\n",
    "print(f\"only {non_Null.sum()} out of {len(data0[sample]['ele'])} are non-Null\")\n",
    "\n",
    "data0[sample]['ele'] = data0[sample]['ele'][non_Null]"
   ]
  },
  {
   "cell_type": "code",
   "execution_count": 4,
   "id": "719a0db8",
   "metadata": {},
   "outputs": [
    {
     "name": "stdout",
     "output_type": "stream",
     "text": [
      "only 306 out of 3036 are within dr=0.1\n"
     ]
    }
   ],
   "source": [
    "dr_01 = data0[sample]['ele']['lep_fj_dr']<=0.1\n",
    "print(f\"only {dr_01.sum()} out of {len(data0[sample]['ele'])} are within dr=0.1\")"
   ]
  },
  {
   "cell_type": "markdown",
   "id": "295eff37",
   "metadata": {},
   "source": [
    "### for dr>0.1 cut"
   ]
  },
  {
   "cell_type": "code",
   "execution_count": 5,
   "id": "49bac77e",
   "metadata": {},
   "outputs": [],
   "source": [
    "job_name = '/0-20'\n",
    "channels=['ele', 'mu', 'had']\n",
    "outfiles = \"outfiles01\"\n",
    "\n",
    "with open(\"./\" + outfiles + job_name + '.pkl', 'rb') as f:\n",
    "    metadata01 = pkl.load(f)\n",
    "    \n",
    "for key in metadata0.keys():\n",
    "    sample = key\n",
    "\n",
    "data01 = {}\n",
    "data01[sample] = {}\n",
    "\n",
    "data01[sample]['ele'] = pq.read_table(\"./\" + outfiles + job_name + '_' + 'ele' + '.parquet').to_pandas()"
   ]
  },
  {
   "cell_type": "code",
   "execution_count": 6,
   "id": "fe63f5d3",
   "metadata": {},
   "outputs": [
    {
     "name": "stdout",
     "output_type": "stream",
     "text": [
      "only 2973 out of 10697 are non-Null\n"
     ]
    }
   ],
   "source": [
    "non_Null = data01[sample]['ele']['lep_fj_dr']>0\n",
    "print(f\"only {non_Null.sum()} out of {len(data01[sample]['ele'])} are non-Null\")\n",
    "\n",
    "data01[sample]['ele'] = data01[sample]['ele'][non_Null]"
   ]
  },
  {
   "cell_type": "code",
   "execution_count": 7,
   "id": "e68fcc57",
   "metadata": {
    "scrolled": true
   },
   "outputs": [
    {
     "name": "stdout",
     "output_type": "stream",
     "text": [
      "only 0 out of 2973 are within dr=0.1\n"
     ]
    }
   ],
   "source": [
    "dr_01 = data01[sample]['ele']['lep_fj_dr']<=0.1\n",
    "print(f\"only {dr_01.sum()} out of {len(data01[sample]['ele'])} are within dr=0.1\")"
   ]
  },
  {
   "cell_type": "code",
   "execution_count": 8,
   "id": "95a265db",
   "metadata": {},
   "outputs": [
    {
     "name": "stdout",
     "output_type": "stream",
     "text": [
      "We will be dropping 2.08 % of signal events with this cut\n"
     ]
    }
   ],
   "source": [
    "print(f\"We will be dropping {round(100 * (1-len(data01[sample]['ele'])/len(data0[sample]['ele'])) ,2)} % of signal events with this cut\")"
   ]
  },
  {
   "cell_type": "markdown",
   "id": "eb5912f9",
   "metadata": {},
   "source": [
    "# Investigate the parquet files"
   ]
  },
  {
   "cell_type": "code",
   "execution_count": 9,
   "id": "a1a6432b",
   "metadata": {},
   "outputs": [
    {
     "data": {
      "image/png": "[encoded data removed]",
      "text/plain": [
       "<Figure size 576x360 with 2 Axes>"
      ]
     },
     "metadata": {
      "needs_background": "light"
     },
     "output_type": "display_data"
    }
   ],
   "source": [
    "# lep_pt vs fj_pt\n",
    "h = hist2.Hist(\n",
    "    hist2.axis.Regular(100,0, 500, name='lep_pt', label='lep_pt', flow=True),    \n",
    "    hist2.axis.Regular(100,0, 500, name='fj_pt', label='fj_pt', flow=True),\n",
    ")\n",
    "\n",
    "h.fill(data0[sample]['ele']['lep_pt'], data0[sample]['ele']['fj_pt']\n",
    ")\n",
    "\n",
    "fig, ax = plt.subplots(figsize=(8, 5))\n",
    "hep.hist2dplot(h, ax=ax, norm=matplotlib.colors.LogNorm(vmin=1e-3)) \n",
    "\n",
    "ax.set_title(f'{sample} \\n with no cut')\n",
    "hep.cms.lumitext(f\"'2017' (13 TeV)\", ax=ax)\n",
    "hep.cms.text(\"Work in Progress\", ax=ax);"
   ]
  },
  {
   "cell_type": "code",
   "execution_count": 10,
   "id": "773b3c64",
   "metadata": {},
   "outputs": [
    {
     "data": {
      "image/png": "[encoded data removed]",
      "text/plain": [
       "<Figure size 576x360 with 2 Axes>"
      ]
     },
     "metadata": {
      "needs_background": "light"
     },
     "output_type": "display_data"
    }
   ],
   "source": [
    "# lep_pt vs fj_pt\n",
    "h = hist2.Hist(\n",
    "    hist2.axis.Regular(100,0, 500, name='lep_pt', label='lep_pt', flow=True),    \n",
    "    hist2.axis.Regular(100,0, 500, name='fj_pt', label='fj_pt', flow=True),\n",
    ")\n",
    "\n",
    "h.fill(data01[sample]['ele']['lep_pt'], data01[sample]['ele']['fj_pt']\n",
    ")\n",
    "\n",
    "fig, ax = plt.subplots(figsize=(8, 5))\n",
    "hep.hist2dplot(h, ax=ax, norm=matplotlib.colors.LogNorm(vmin=1e-3))    \n",
    "ax.set_title(f'{sample} \\n with cut dr>0.1')\n",
    "hep.cms.lumitext(f\"'2017' (13 TeV)\", ax=ax)\n",
    "hep.cms.text(\"Work in Progress\", ax=ax);"
   ]
  },
  {
   "cell_type": "code",
   "execution_count": null,
   "id": "a47782e8",
   "metadata": {},
   "outputs": [],
   "source": []
  }
 ],
 "metadata": {
  "kernelspec": {
   "display_name": "coffea-env",
   "language": "python",
   "name": "coffea-env"
  },
  "language_info": {
   "codemirror_mode": {
    "name": "ipython",
    "version": 3
   },
   "file_extension": ".py",
   "mimetype": "text/x-python",
   "name": "python",
   "nbconvert_exporter": "python",
   "pygments_lexer": "ipython3",
   "version": "3.7.12"
  }
 },
 "nbformat": 4,
 "nbformat_minor": 5
}
