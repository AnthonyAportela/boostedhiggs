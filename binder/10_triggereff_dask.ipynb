{
 "cells": [
  {
   "cell_type": "code",
   "execution_count": 71,
   "id": "72db97f4",
   "metadata": {},
   "outputs": [],
   "source": [
    "import awkward as ak\n",
    "import matplotlib.pyplot as plt\n",
    "import mplhep as hep\n",
    "from hist.intervals import clopper_pearson_interval\n",
    "def get_yerr(num,den):\n",
    "    return abs(clopper_pearson_interval(num.view(), den.view()) - num.view()/den.view())\n",
    "\n",
    "# we suppress ROOT warnings where our input ROOT tree has duplicate branches - these are handled correctly.\n",
    "import warnings\n",
    "warnings.filterwarnings(\"ignore\", message=\"Found duplicate branch \")"
   ]
  },
  {
   "cell_type": "code",
   "execution_count": 72,
   "id": "88dafe09",
   "metadata": {},
   "outputs": [],
   "source": [
    "def getParticles(genparticles,lowid=22,highid=25,flags=['fromHardProcess', 'isLastCopy']):\n",
    "    \"\"\"\n",
    "    returns the particle objects that satisfy a low id, \n",
    "    high id condition and have certain flags\n",
    "    \"\"\"\n",
    "    absid = abs(genparticles.pdgId)\n",
    "    return genparticles[\n",
    "        ((absid >= lowid) & (absid <= highid))\n",
    "        & genparticles.hasFlags(flags)\n",
    "    ]\n",
    "\n",
    "def match_HWWlepqq(genparticles,candidatefj):\n",
    "    \"\"\"\n",
    "    return the number of matched objects (hWW*),daughters, \n",
    "    and gen flavor (enuqq, munuqq, taunuqq) \n",
    "    \"\"\"\n",
    "    W_PDGID = 24\n",
    "    HIGGS_PDGID = 25\n",
    "    higgs = getParticles(genparticles,HIGGS_PDGID)\n",
    "    is_hWW = ak.all(abs(higgs.children.pdgId)==W_PDGID,axis=2)\n",
    "\n",
    "    higgs = higgs[is_hWW]\n",
    "    higgs_wstar = higgs.children[ak.argmin(higgs.children.mass,axis=2,keepdims=True)]\n",
    "    higgs_w = higgs.children[ak.argmax(higgs.children.mass,axis=2,keepdims=True)]\n",
    "    \n",
    "    prompt_electron = getParticles(genparticles,11,11,['isPrompt','isLastCopy'])\n",
    "    prompt_muon = getParticles(genparticles,13,13,['isPrompt', 'isLastCopy'])\n",
    "    prompt_tau = getParticles(genparticles,15,15,['isPrompt', 'isLastCopy'])\n",
    "    prompt_q = getParticles(genparticles,0,5,['fromHardProcess', 'isLastCopy'])\n",
    "    prompt_q = prompt_q[abs(prompt_q.distinctParent.pdgId) == W_PDGID]\n",
    "    \n",
    "    dr_fj_quarks = candidatefj.delta_r(prompt_q)\n",
    "    dr_fj_electrons = candidatefj.delta_r(prompt_electron)\n",
    "    dr_fj_muons = candidatefj.delta_r(prompt_muon)\n",
    "    dr_fj_taus = candidatefj.delta_r(prompt_tau)\n",
    "    dr_daughters = ak.concatenate([dr_fj_quarks,dr_fj_electrons,dr_fj_muons,dr_fj_taus],axis=1)\n",
    "    hWWlepqq_nprongs = ak.sum(dr_daughters<0.8,axis=1)\n",
    "    \n",
    "    n_electrons = ak.sum(prompt_electron.pt>0,axis=1)\n",
    "    n_muons = ak.sum(prompt_muon.pt>0,axis=1)\n",
    "    n_taus = ak.sum(prompt_tau.pt>0,axis=1)\n",
    "    n_quarks = ak.sum(prompt_q.pt>0,axis=1)\n",
    "\n",
    "    # 4(elenuqq),6(munuqq),8(taunuqq)\n",
    "    hWWlepqq_flavor = (n_quarks==2)*1 + (n_electrons==1)*3 + (n_muons==1)*5 + (n_taus==1)*7\n",
    "    \n",
    "    matchedH = candidatefj.nearest(higgs, axis=1, threshold=0.8)\n",
    "    matchedW = candidatefj.nearest(higgs_w, axis=1, threshold=0.8)\n",
    "    matchedWstar = candidatefj.nearest(higgs_wstar, axis=1, threshold=0.8) \n",
    "\n",
    "    # 1 (H only), 4(W), 6(W star), 9(H, W and Wstar)\n",
    "    hWWlepqq_matched = (\n",
    "        (ak.sum(matchedH.pt > 0, axis=1)==1) * 1 \n",
    "        + (ak.sum(ak.flatten(matchedW.pt > 0, axis=2), axis=1)==1) * 3 \n",
    "        + (ak.sum(ak.flatten(matchedWstar.pt > 0, axis=2), axis=1)==1) * 5\n",
    "    )\n",
    "    \n",
    "    # leptons matched\n",
    "    dr_leptons = ak.concatenate([dr_fj_electrons,dr_fj_muons], axis=1)\n",
    "    matched_leptons = dr_leptons < 0.8\n",
    "    \n",
    "    leptons = ak.concatenate([prompt_electron, prompt_muon], axis=1)\n",
    "    leptons = leptons[matched_leptons]\n",
    "    \n",
    "    # leptons coming from W or W*\n",
    "    leptons_mass = ak.firsts(leptons.distinctParent.mass)\n",
    "    higgs_w_mass = ak.firsts(ak.flatten(higgs_w.mass))[ak.firsts(leptons.pt > 0)]\n",
    "    higgs_wstar_mass = ak.firsts(ak.flatten(higgs_wstar.mass))[ak.firsts(leptons.pt > 0)]\n",
    "\n",
    "    iswlepton = (leptons_mass == higgs_w_mass)\n",
    "    iswstarlepton = (leptons_mass == higgs_wstar_mass)\n",
    "    \n",
    "    # let's return only:\n",
    "    # - matchedH (the higgs boson that is matched to the jet)\n",
    "    # - (iswlepton,iswstarlepton)\n",
    "    return matchedH,iswlepton,iswstarlepton, higgs"
   ]
  },
  {
   "cell_type": "code",
   "execution_count": 73,
   "id": "d106b526",
   "metadata": {},
   "outputs": [],
   "source": [
    "import numpy as np\n",
    "import pandas as pd\n",
    "from coffea.processor import ProcessorABC, column_accumulator\n",
    "from coffea.nanoevents.methods import candidate, vector\n",
    "from coffea.analysis_tools import Weights, PackedSelection\n",
    "    \n",
    "class TriggerEfficienciesProcessor(ProcessorABC):\n",
    "    \"\"\" Accumulates histograms from all input events: 1) before triggers, and 2) after triggers \"\"\"\n",
    "    def __init__(self, year=2017):\n",
    "        super(TriggerEfficienciesProcessor, self).__init__()\n",
    "        self._year = year\n",
    "        self._trigger_dict = {\n",
    "            2017:{\n",
    "                # \"enominal\": [\n",
    "                #     \"Ele35_WPTight_Gsf\", # electron trigger with isolation\n",
    "                #     \"Ele115_CaloIdVT_GsfTrkIdT\", # electron trigger without isolation\n",
    "                # ],\n",
    "                # \"ejet\": [\n",
    "                #     \"Ele50_CaloIdVT_GsfTrkIdT_PFJet165\"\n",
    "                # ],\n",
    "                # \"evvl\": [\n",
    "                #     \"Ele15_IsoVVVL_PFHT600\"\n",
    "                # ],\n",
    "                # \"evvlmet\": [\n",
    "                #     \"Ele15_IsoVVVL_PFHT450_PFMET50\"\n",
    "                # ],\n",
    "                # \"eextra\" : [\"Ele32_WPTight_Gsf\",\n",
    "                #             \"Ele32_WPTight_Gsf_L1DoubleEG\",\n",
    "                #             \"Ele28_eta2p1_WPTight_Gsf_HT150\",\n",
    "                #             \"Ele30_eta2p1_WPTight_Gsf_CentralPFJet35_EleCleaned\",\n",
    "                #             \"Ele50_CaloIdVT_GsfTrkIdT_PFJet165\",\n",
    "                #             ],\n",
    "                # \"photon\": [\n",
    "                #     \"Photon200\",\n",
    "                # ],\n",
    "                \"jet\": [\n",
    "                    \"PFHT1050\",\n",
    "                    \"AK8PFJet400_TrimMass30\",\n",
    "                    \"AK8PFJet420_TrimMass30\",\n",
    "                    \"AK8PFHT800_TrimMass50\",\n",
    "                    \"PFJet500\",\n",
    "                    \"AK8PFJet500\",\n",
    "                ],\n",
    "                \"munominal\": [\n",
    "                    \"IsoMu27\", # muon trigger with isolation\n",
    "                    \"Mu50\", # muon trigger without isolation\n",
    "                ],\n",
    "                \"nominalTrk\": [\n",
    "                    \"TkMu100\",\n",
    "                    \"OldMu100\",\n",
    "                ],\n",
    "                \"muvvlmet\": [\n",
    "                    \"Mu15_IsoVVVL_PFHT450_PFMET50\"\n",
    "                ],\n",
    "                \"muvvl\": [\n",
    "                    \"Mu15_IsoVVVL_PFHT600\"\n",
    "                ],\n",
    "            }\n",
    "        }[self._year]\n",
    "        self._triggers = {\n",
    "                          # \"ele\": [\"enominal\",\"ejet\",\"evvl\",\"evvlmet\",\"jet\",\"eextra\",\"photon\"],\n",
    "                          \"mu\": [\"nominalTrk\", \"munominal\",\"muvvl\",\"muvvlmet\",\"jet\"],\n",
    "                          # \"had\": [\"jet\"],\n",
    "                         }\n",
    "        \n",
    "        # self._channels = [\"ele\",\"mu\"]\n",
    "        self._channels = [\"mu\"]\n",
    "    \n",
    "    def pad_val(\n",
    "        self, arr: ak.Array, target: int, value: float, axis: int = 0, to_numpy: bool = True\n",
    "    ):\n",
    "        \"\"\"pads awkward array up to `target` index along axis `axis` with value `value`, optionally converts to numpy array\"\"\"\n",
    "        ret = ak.fill_none(ak.pad_none(arr, target, axis=axis, clip=True), value)\n",
    "        return ret.to_numpy() if to_numpy else ret\n",
    "    \n",
    "    def process(self, events):\n",
    "        \"\"\" Returns pre- (den) and post- (num) trigger histograms from input NanoAOD events \"\"\"\n",
    "        dataset = events.metadata['dataset']\n",
    "        n_events = len(events)\n",
    "        isRealData = not hasattr(events, \"genWeight\")\n",
    "        \n",
    "        def pad_val_nevents(arr: ak.Array):\n",
    "            \"\"\"pad values with the length equal to the number of events\"\"\"\n",
    "            return self.pad_val(arr, n_events, -1)\n",
    "    \n",
    "        # skimmed events for different channels\n",
    "        out = {}\n",
    "        for channel in self._channels:\n",
    "            out[channel] = {}\n",
    "\n",
    "        \"\"\" Save OR of triggers as booleans \"\"\"\n",
    "        for channel in self._channels:\n",
    "            HLT_triggers = {}\n",
    "            for t in self._triggers[channel]:\n",
    "                HLT_triggers[\"HLT_\"+t] = np.any(\n",
    "                        np.array(\n",
    "                            [\n",
    "                                events.HLT[trigger] for trigger in self._trigger_dict[t] if trigger in events.HLT.fields\n",
    "                            ]\n",
    "                        ),\n",
    "                        axis=0,\n",
    "                )                \n",
    "            out[channel] = {**out[channel], **HLT_triggers}\n",
    "\n",
    "        \"\"\" Baseline selection \"\"\"\n",
    "        goodmuon = (\n",
    "            (events.Muon.pt > 25)\n",
    "            & (abs(events.Muon.eta) < 2.4)\n",
    "            # & events.Muon.mediumId    ######################Check\n",
    "        )\n",
    "        nmuons = ak.sum(goodmuon, axis=1)\n",
    "        goodelectron = (\n",
    "            (events.Electron.pt > 25)\n",
    "            & (abs(events.Electron.eta) < 2.5)\n",
    "            & (events.Electron.mvaFall17V2noIso_WP90)\n",
    "        )\n",
    "        nelectrons = ak.sum(goodelectron, axis=1)\n",
    "        goodtau = (\n",
    "            (events.Tau.pt > 20)\n",
    "            & (abs(events.Tau.eta) < 2.3)\n",
    "            & (events.Tau.idAntiEle >= 8)\n",
    "            & (events.Tau.idAntiMu >= 1)\n",
    "        )\n",
    "        ntaus = ak.sum(goodtau, axis=1)\n",
    "        \n",
    "        # leading lepton\n",
    "        goodleptons = ak.concatenate([events.Muon[goodmuon], events.Electron[goodelectron]], axis=1)\n",
    "        goodleptons = goodleptons[ak.argsort(goodleptons.pt, ascending=False)]\n",
    "        first_lep = ak.firsts(goodleptons)\n",
    "        # second_lep = ak.pad_none(goodleptons,2,axis=1)[:,1]\n",
    "        candidatelep = first_lep\n",
    "        \n",
    "        # fatjet\n",
    "        fatjets = events.FatJet\n",
    "        candidatefj = fatjets[\n",
    "            (fatjets.pt > 200) &\n",
    "            (abs(fatjets.eta) < 2.4)\n",
    "        ]\n",
    "        # MET\n",
    "        met = events.MET\n",
    "        dphi_met_fj = abs(candidatefj.delta_phi(met))\n",
    "\n",
    "#         # fatjet closest to lepton (here is first one)\n",
    "#         candidatefj_closelep = ak.firsts(candidatefj[ak.argmin(candidatefj.delta_r(candidatelep),axis=1,keepdims=True)])\n",
    "#         dr_lep_fj_closelep = candidatefj_closelep.delta_r(candidatelep)\n",
    "        \n",
    "        # fatjet closest to MET\n",
    "        candidatefj = ak.firsts(candidatefj[ak.argmin(dphi_met_fj,axis=1,keepdims=True)])\n",
    "        dr_lep_fj = candidatefj.delta_r(candidatelep)\n",
    "\n",
    "        # jets\n",
    "        jets = events.Jet\n",
    "        candidatejet = jets[\n",
    "            (jets.pt > 30) \n",
    "            & (abs(jets.eta) < 2.5) \n",
    "            & jets.isTight\n",
    "        ]\n",
    "        \n",
    "        # define isolation\n",
    "        mu_iso = ak.where(candidatelep.pt >= 55., candidatelep.miniPFRelIso_all, candidatelep.pfRelIso03_all)\n",
    "        ele_iso = ak.where(candidatelep.pt >= 120., candidatelep.pfRelIso03_all, candidatelep.pfRelIso03_all)\n",
    "        \n",
    "        # define selections for different channels\n",
    "        for channel in self._channels:\n",
    "            selection = PackedSelection()\n",
    "            selection.add('fjkin', candidatefj.pt > 200)\n",
    "            if channel==\"mu\":\n",
    "                selection.add('onemuon', (nmuons == 1) & (nelectrons == 0) & (ntaus == 0))\n",
    "                selection.add('muonkin', (candidatelep.pt > 27.) & abs(candidatelep.eta < 2.4))\n",
    "            elif channel==\"ele\":\n",
    "                selection.add('oneelectron', (nelectrons == 1) & (nmuons == 0) & (ntaus == 0))\n",
    "                selection.add('electronkin', (candidatelep.pt > 30.) & abs(candidatelep.eta < 2.4))\n",
    "\n",
    "            \"\"\" Define other variables to save \"\"\"\n",
    "            out[channel][\"fj_pt\"] = pad_val_nevents(candidatefj.pt)\n",
    "            out[channel][\"fj_msoftdrop\"] = pad_val_nevents(candidatefj.msoftdrop)\n",
    "            out[channel][\"lep_pt\"] = pad_val_nevents(candidatelep.pt)\n",
    "            if channel==\"mu\":\n",
    "                out[channel][\"lep_isolation\"] = pad_val_nevents(mu_iso)\n",
    "            elif channel==\"ele\":\n",
    "                out[channel][\"lep_isolation\"] = pad_val_nevents(ele_iso)\n",
    "            out[channel][\"fj_lep_mass\"] = pad_val_nevents((candidatefj - candidatelep).mass)\n",
    "            out[channel][\"fj_lep_dR\"] = pad_val_nevents(dr_lep_fj)\n",
    "            out[channel][\"ht\"] = pad_val_nevents(ak.sum(candidatejet.pt, axis=1))\n",
    "            \n",
    "            if \"HToWW\" in dataset:\n",
    "                matchedH,iswlepton,iswstarlepton, higgs = match_HWWlepqq(events.GenPart,candidatefj)\n",
    "                matchedH_pt = ak.firsts(matchedH.pt)\n",
    "                higgs_pt = ak.firsts(higgs.pt)\n",
    "            else:\n",
    "                matchedH_pt = ak.zeros_like(candidatefj.pt)\n",
    "                higgs_pt = ak.zeros_like(candidatefj.pt)                \n",
    "                iswlepton = ak.ones_like(candidatefj.pt, dtype=bool)\n",
    "                iswstarlepton = ak.ones_like(candidatefj.pt, dtype=bool)\n",
    "            out[channel][\"higgspt\"] = pad_val_nevents(matchedH_pt)\n",
    "            out[channel][\"higgspt_unmatched\"] = pad_val_nevents(higgs_pt)            \n",
    "            out[channel][\"iswlepton\"] = pad_val_nevents(iswlepton)\n",
    "            out[channel][\"iswstarlepton\"] = pad_val_nevents(iswstarlepton)\n",
    "\n",
    "            # use column accumulators\n",
    "            out[channel] = {\n",
    "                key: column_accumulator(value[selection.all(*selection.names)])\n",
    "                for (key, value) in out[channel].items()\n",
    "            }\n",
    "        \n",
    "        return {\n",
    "            self._year: {\n",
    "                dataset: {\"nevents\": n_events, \"skimmed_events\": out}\n",
    "            }\n",
    "        }\n",
    "\n",
    "    def postprocess(self, accumulator):\n",
    "        for year, datasets in accumulator.items():\n",
    "            for dataset, output in datasets.items():\n",
    "                for channel in output[\"skimmed_events\"].keys():\n",
    "                    output[\"skimmed_events\"][channel] = {\n",
    "                        key: value.value for (key, value) in output[\"skimmed_events\"][channel].items()\n",
    "                    }\n",
    "                \n",
    "        return accumulator"
   ]
  },
  {
   "cell_type": "code",
   "execution_count": 74,
   "id": "4ed0c765",
   "metadata": {},
   "outputs": [],
   "source": [
    "# define the client\n",
    "from dask.distributed import Client\n",
    "\n",
    "client = Client(\"tls://localhost:8786\")"
   ]
  },
  {
   "cell_type": "code",
   "execution_count": 15,
   "id": "715d63cd-2c30-402a-bbac-3c265a92cd93",
   "metadata": {},
   "outputs": [],
   "source": [
    "import json\n",
    "import uproot\n",
    "from coffea.nanoevents import NanoEventsFactory, NanoAODSchema, BaseSchema\n",
    "sample = \"GluGluHToWWToLNuQQ_M125_TuneCP5_PSweight_13TeV-powheg2-jhugen727-pythia8\"\n",
    "\n",
    "with open(\"fileset_2017_UL_NANO.json\", 'r') as f:\n",
    "    fileset = json.load(f)\n",
    "    "
   ]
  },
  {
   "cell_type": "code",
   "execution_count": 16,
   "id": "68a73aff-8cae-4d7a-a440-654abb287de8",
   "metadata": {},
   "outputs": [
    {
     "data": {
      "text/plain": [
       "15"
      ]
     },
     "execution_count": 16,
     "metadata": {},
     "output_type": "execute_result"
    }
   ],
   "source": [
    "len(fileset[sample])"
   ]
  },
  {
   "cell_type": "code",
   "execution_count": 79,
   "id": "bb6b9540",
   "metadata": {},
   "outputs": [
    {
     "name": "stdout",
     "output_type": "stream",
     "text": [
      "[########################################] | 100% Completed |  2min 54.2s\r"
     ]
    }
   ],
   "source": [
    "# define the full fileset\n",
    "# download this file in a new terminal in coffea casa: \n",
    "# wget https://raw.githubusercontent.com/cmantill/boostedhiggs/main/fileset/fileset_2017_UL_NANO.json\n",
    "# the dataset that we will run on is called: GluGluHToWWToLNuQQ_M125_TuneCP5_PSweight_13TeV-powheg2-jhugen727-pythia8\n",
    "import json\n",
    "import uproot\n",
    "from coffea.nanoevents import NanoEventsFactory, NanoAODSchema, BaseSchema\n",
    "dataset_name = \"GluGluHToWWToLNuQQ_M125_TuneCP5_PSweight_13TeV-powheg2-jhugen727-pythia8\"\n",
    "with open(\"fileset_2017_UL_NANO.json\", 'r') as f:\n",
    "    files = json.load(f)[dataset_name]\n",
    "    \n",
    "fileset = {}\n",
    "# need to define the fileset but call them with xcache\n",
    "fileset[dataset_name] = [\"root://xcache/\"+ f for f in files]\n",
    "fileset[dataset_name] = [\"root://xcache/\"+ files[0]]\n",
    "\n",
    "import uproot\n",
    "uproot.open.defaults['xrootd_handler'] = uproot.source.xrootd.MultithreadedXRootDSource\n",
    "\n",
    "from coffea.processor import IterativeExecutor,Runner,DaskExecutor\n",
    "\n",
    "# define processor\n",
    "p = TriggerEfficienciesProcessor()\n",
    "\n",
    "# define executor (dask)\n",
    "# https://coffeateam.github.io/coffea/api/coffea.processor.DaskExecutor.html\n",
    "executor = DaskExecutor(compression=1, status=True, client=client, treereduction=2)\n",
    "\n",
    "# define the runner (Same as before)\n",
    "run = Runner(executor=executor,savemetrics=True,chunksize=10_000,schema=NanoAODSchema)\n",
    "\n",
    "# run\n",
    "out,metrics = run(fileset,'Events',processor_instance=p)"
   ]
  },
  {
   "cell_type": "code",
   "execution_count": 11,
   "id": "cda4062f",
   "metadata": {},
   "outputs": [],
   "source": [
    "# you can save now the output!\n",
    "import pickle\n",
    "\n",
    "filehandler = open(\"out_Jan20.hist\", \"wb\")\n",
    "pickle.dump(out, filehandler)\n",
    "filehandler.close()"
   ]
  },
  {
   "cell_type": "code",
   "execution_count": 17,
   "id": "1f0fe1f4",
   "metadata": {},
   "outputs": [
    {
     "data": {
      "text/plain": [
       "array([215.625, 275.   , 275.5  , ..., 227.125, 223.375, 225.5  ])"
      ]
     },
     "execution_count": 17,
     "metadata": {},
     "output_type": "execute_result"
    }
   ],
   "source": [
    "out[2017][\"GluGluHToWWToLNuQQ_M125_TuneCP5_PSweight_13TeV-powheg2-jhugen727-pythia8\"][\"skimmed_events\"][\"mu\"][\"fj_pt\"][out[2017][\"GluGluHToWWToLNuQQ_M125_TuneCP5_PSweight_13TeV-powheg2-jhugen727-pythia8\"][\"skimmed_events\"][\"mu\"][\"fj_pt\"] >0]"
   ]
  },
  {
   "cell_type": "markdown",
   "id": "2a99b995-a773-45b6-bb98-8f699a471ff6",
   "metadata": {},
   "source": [
    "## Playground"
   ]
  },
  {
   "cell_type": "code",
   "execution_count": 10,
   "id": "f73d3d95-d030-4277-89e9-a7766ce103ce",
   "metadata": {},
   "outputs": [],
   "source": [
    "import awkward as ak\n",
    "from coffea.nanoevents import NanoEventsFactory, NanoAODSchema\n",
    "from coffea.nanoevents.methods import candidate, vector\n",
    "import matplotlib.pyplot as plt\n",
    "import numpy as np\n",
    "import json"
   ]
  },
  {
   "cell_type": "code",
   "execution_count": 11,
   "id": "34b3bc5d-0fb9-4493-a801-81ecc996bee2",
   "metadata": {},
   "outputs": [
    {
     "data": {
      "text/plain": [
       "<MissingETArray [MissingET, MissingET, ... MissingET] type='10000 * missingET'>"
      ]
     },
     "execution_count": 11,
     "metadata": {},
     "output_type": "execute_result"
    }
   ],
   "source": [
    "dataset_name = \"GluGluHToWWToLNuQQ_M125_TuneCP5_PSweight_13TeV-powheg2-jhugen727-pythia8\"\n",
    "with open(\"fileset_2017_UL_NANO.json\", 'r') as f:\n",
    "    files = json.load(f)[dataset_name]\n",
    "fileset = [\"root://xcache/\"+ files[0]]\n",
    "events = NanoEventsFactory.from_root(fileset[0], schemaclass=NanoAODSchema, entry_stop=10000).events()\n",
    "events.MET"
   ]
  },
  {
   "cell_type": "code",
   "execution_count": 25,
   "id": "52b29c03-b476-4781-8523-be7589b372fc",
   "metadata": {},
   "outputs": [],
   "source": [
    "goodmuon = (\n",
    "    (events.Muon.pt > 25)\n",
    "    & (abs(events.Muon.eta) < 2.4)\n",
    "    & events.Muon.mediumId\n",
    ")\n",
    "nmuons = ak.sum(goodmuon, axis=1)\n",
    "goodelectron = (\n",
    "    (events.Electron.pt > 25)\n",
    "    & (abs(events.Electron.eta) < 2.5)\n",
    "    & (events.Electron.mvaFall17V2noIso_WP90)\n",
    ")\n",
    "nelectrons = ak.sum(goodelectron, axis=1)\n",
    "goodtau = (\n",
    "    (events.Tau.pt > 20)\n",
    "    & (abs(events.Tau.eta) < 2.3)\n",
    "    & (events.Tau.idAntiEle >= 8)\n",
    "    & (events.Tau.idAntiMu >= 1)\n",
    ")\n",
    "ntaus = ak.sum(goodtau, axis=1)\n",
    "\n",
    "# leading lepton\n",
    "goodleptons = ak.concatenate([events.Muon[goodmuon], events.Electron[goodelectron]], axis=1)\n",
    "candidatelep = ak.firsts(goodleptons[ak.argsort(goodleptons.pt)])\n",
    "\n",
    "\n",
    "\n",
    "# fatjet\n",
    "fatjets = events.FatJet\n",
    "candidatefj = fatjets[\n",
    "    (fatjets.pt > 200) &\n",
    "    (abs(fatjets.eta) < 2.4)\n",
    "]\n",
    "# MET\n",
    "met = events.MET\n",
    "dphi_met_fj = abs(candidatefj.delta_phi(met))"
   ]
  },
  {
   "cell_type": "code",
   "execution_count": 26,
   "id": "92b0f59a-d313-4630-ae65-3938ef745992",
   "metadata": {},
   "outputs": [],
   "source": [
    "# fatjet closest to MET\n",
    "candidatefj = ak.firsts(candidatefj[ak.argmin(dphi_met_fj,axis=1,keepdims=True)])\n",
    "dr_lep_fj = candidatefj.delta_r(candidatelep)\n",
    "\n",
    "# jets\n",
    "jets = events.Jet\n",
    "candidatejet = jets[\n",
    "    (jets.pt > 30) \n",
    "    & (abs(jets.eta) < 2.5) \n",
    "    & jets.isTight\n",
    "]"
   ]
  },
  {
   "cell_type": "code",
   "execution_count": 27,
   "id": "71242f9d-81ad-4f87-8a07-00d4008d343a",
   "metadata": {},
   "outputs": [],
   "source": [
    "# # fatjet closest to lepton (here is first one)\n",
    "# candidatefj_closelep = ak.firsts(candidatefj[ak.argmin(candidatefj.delta_r(candidatelep),axis=1,keepdims=True)])\n",
    "# dr_lep_fj_closelep = candidatefj_closelep.delta_r(candidatelep)\n",
    "\n",
    "matchedH,iswlepton,iswstarlepton, higgs = match_HWWlepqq(events.GenPart,candidatefj)\n",
    "matchedH_pt = ak.firsts(matchedH.pt)\n",
    "higgs_pt = ak.firsts(higgs.pt)"
   ]
  },
  {
   "cell_type": "code",
   "execution_count": null,
   "id": "adceb42c-72fa-4026-b641-f8d1c72e64ab",
   "metadata": {},
   "outputs": [],
   "source": [
    "dr_lep_fj_closelep"
   ]
  },
  {
   "cell_type": "code",
   "execution_count": 18,
   "id": "238aeba2-ead2-4d82-bd55-df074057e291",
   "metadata": {},
   "outputs": [
    {
     "data": {
      "text/plain": [
       "<Array [None, None, None, ... None, Electron] type='10000 * ?union[muon, electron]'>"
      ]
     },
     "execution_count": 18,
     "metadata": {},
     "output_type": "execute_result"
    }
   ],
   "source": [
    "candidatelep"
   ]
  },
  {
   "cell_type": "code",
   "execution_count": null,
   "id": "d224b843-6f4e-4815-8caf-35b326fd95e0",
   "metadata": {},
   "outputs": [],
   "source": [
    "dr_lep_fj = candidatefj.delta_r(candidatelep)"
   ]
  },
  {
   "cell_type": "code",
   "execution_count": 29,
   "id": "50d1eecf-5141-404c-910e-d46306e89d67",
   "metadata": {},
   "outputs": [
    {
     "data": {
      "text/plain": [
       "<GenParticleArray [None, None, None, ... None, None, None] type='10000 * option[...'>"
      ]
     },
     "execution_count": 29,
     "metadata": {},
     "output_type": "execute_result"
    }
   ],
   "source": [
    "matchedH"
   ]
  },
  {
   "cell_type": "code",
   "execution_count": 30,
   "id": "8bd65a6d-7af3-4640-9410-83df5eaf19d0",
   "metadata": {},
   "outputs": [],
   "source": [
    "dr_lep_fj_closelep = matchedH.delta_r(candidatelep)"
   ]
  },
  {
   "cell_type": "code",
   "execution_count": 31,
   "id": "7ee6ed97-8248-4ac9-be9c-8da2faebbe9a",
   "metadata": {},
   "outputs": [
    {
     "ename": "NameError",
     "evalue": "name 'second_candidatelep' is not defined",
     "output_type": "error",
     "traceback": [
      "\u001b[0;31m---------------------------------------------------------------------------\u001b[0m",
      "\u001b[0;31mNameError\u001b[0m                                 Traceback (most recent call last)",
      "\u001b[0;32m/tmp/ipykernel_305/2618483648.py\u001b[0m in \u001b[0;36m<module>\u001b[0;34m\u001b[0m\n\u001b[0;32m----> 1\u001b[0;31m \u001b[0msecond_candidatelep\u001b[0m\u001b[0;34m\u001b[0m\u001b[0;34m\u001b[0m\u001b[0m\n\u001b[0m",
      "\u001b[0;31mNameError\u001b[0m: name 'second_candidatelep' is not defined"
     ]
    }
   ],
   "source": [
    "second_candidatelep"
   ]
  },
  {
   "cell_type": "code",
   "execution_count": 32,
   "id": "6973a4e7-e6d0-4617-b5f4-3cd5a45cc451",
   "metadata": {},
   "outputs": [],
   "source": [
    "candidatelep = ak.firsts(goodleptons[ak.argsort(goodleptons.pt)])"
   ]
  },
  {
   "cell_type": "code",
   "execution_count": 38,
   "id": "13193223-a6e6-44c3-9f39-f3a0540af4db",
   "metadata": {},
   "outputs": [
    {
     "data": {
      "text/plain": [
       "<Array [[], [], [], ... [], [], [Electron]] type='10000 * var * union[muon, elec...'>"
      ]
     },
     "execution_count": 38,
     "metadata": {},
     "output_type": "execute_result"
    }
   ],
   "source": [
    "goodleptons[ak.argsort(goodleptons.pt)]"
   ]
  },
  {
   "cell_type": "code",
   "execution_count": 39,
   "id": "27a87d6f-5b5a-49f0-8c7a-d50c27d78a74",
   "metadata": {},
   "outputs": [
    {
     "data": {
      "text/plain": [
       "<Array [None, None, None, ... None, Electron] type='10000 * ?union[muon, electron]'>"
      ]
     },
     "execution_count": 39,
     "metadata": {},
     "output_type": "execute_result"
    }
   ],
   "source": [
    "ak.firsts(goodleptons[ak.argsort(goodleptons.pt)])"
   ]
  },
  {
   "cell_type": "code",
   "execution_count": 41,
   "id": "e0962497-0c4a-4cbc-a7d3-f2e0ca5033c5",
   "metadata": {},
   "outputs": [
    {
     "data": {
      "text/plain": [
       "<Array [[], [], [], ... [], [], [Electron]] type='10000 * var * union[muon, elec...'>"
      ]
     },
     "execution_count": 41,
     "metadata": {},
     "output_type": "execute_result"
    }
   ],
   "source": [
    "c = goodleptons[ak.argsort(goodleptons.pt)]\n",
    "c"
   ]
  },
  {
   "cell_type": "code",
   "execution_count": null,
   "id": "180e33fc-8f9d-4d0f-9f4f-6fb70c5ea2d9",
   "metadata": {},
   "outputs": [],
   "source": [
    "goodleptons[ak.argsort(goodleptons.pt)]"
   ]
  },
  {
   "cell_type": "code",
   "execution_count": 40,
   "id": "b2da785a-979a-4abf-8407-c9b9e2de3065",
   "metadata": {},
   "outputs": [],
   "source": [
    "\n",
    "def pad_val(\n",
    "    arr: ak.Array,\n",
    "    target: int,\n",
    "    value: float,\n",
    "    axis: int = 0,\n",
    "    to_numpy: bool = True,\n",
    "    clip: bool = True,\n",
    "):\n",
    "    \"\"\"\n",
    "    pads awkward array up to ``target`` index along axis ``axis`` with value ``value``,\n",
    "    optionally converts to numpy array\n",
    "    \"\"\"\n",
    "    ret = ak.fill_none(ak.pad_none(arr, target, axis=axis, clip=clip), value, axis=None)\n",
    "    return ret.to_numpy() if to_numpy else ret"
   ]
  },
  {
   "cell_type": "code",
   "execution_count": 51,
   "id": "bb9bf37c-9388-4b98-8b96-b087488a90f0",
   "metadata": {},
   "outputs": [
    {
     "data": {
      "text/plain": [
       "<Array [[None, None], ... [Electron, None]] type='10000 * 2 * ?union[muon, elect...'>"
      ]
     },
     "execution_count": 51,
     "metadata": {},
     "output_type": "execute_result"
    }
   ],
   "source": [
    "ak.pad_none(c, 2, axis=1, clip=True)"
   ]
  },
  {
   "cell_type": "code",
   "execution_count": 52,
   "id": "02a916a7-e8c4-47a0-91bc-6c518359f011",
   "metadata": {},
   "outputs": [
    {
     "data": {
      "text/plain": [
       "<Array [None, None, None, ... None, None, None] type='10000 * ?union[muon, elect...'>"
      ]
     },
     "execution_count": 52,
     "metadata": {},
     "output_type": "execute_result"
    }
   ],
   "source": [
    "ak.pad_none(c, 2, axis=1, clip=True)[:,1]"
   ]
  },
  {
   "cell_type": "code",
   "execution_count": 57,
   "id": "e3eb2ed9-3f06-4224-9047-a232fa50d4de",
   "metadata": {},
   "outputs": [],
   "source": [
    "ak.pad_none(c, 2, axis=1, clip=True)[:,1][103]"
   ]
  },
  {
   "cell_type": "code",
   "execution_count": 67,
   "id": "1396913b-5ace-4edb-b1eb-078cf9b92793",
   "metadata": {},
   "outputs": [
    {
     "data": {
      "text/plain": [
       "7359"
      ]
     },
     "execution_count": 67,
     "metadata": {},
     "output_type": "execute_result"
    }
   ],
   "source": [
    "(ak.num(goodleptons)==0).to_numpy().sum()"
   ]
  },
  {
   "cell_type": "code",
   "execution_count": 68,
   "id": "62fa950d-eb89-444d-add4-c143e4f17d2a",
   "metadata": {},
   "outputs": [
    {
     "data": {
      "text/plain": [
       "2641"
      ]
     },
     "execution_count": 68,
     "metadata": {},
     "output_type": "execute_result"
    }
   ],
   "source": [
    "(ak.num(goodleptons)==1).to_numpy().sum()"
   ]
  },
  {
   "cell_type": "code",
   "execution_count": 71,
   "id": "9076447b-d18e-4bf8-b86b-436c48b31406",
   "metadata": {},
   "outputs": [
    {
     "data": {
      "text/plain": [
       "0"
      ]
     },
     "execution_count": 71,
     "metadata": {},
     "output_type": "execute_result"
    }
   ],
   "source": [
    "(ak.num(goodleptons)==2).to_numpy().sum()"
   ]
  },
  {
   "cell_type": "code",
   "execution_count": 80,
   "id": "82d73561-9fcf-4977-8fa7-961ebe674e3a",
   "metadata": {},
   "outputs": [
    {
     "data": {
      "text/plain": [
       "<Array [[], [False], [], ... [], [], [True]] type='10000 * var * bool'>"
      ]
     },
     "execution_count": 80,
     "metadata": {},
     "output_type": "execute_result"
    }
   ],
   "source": [
    "(goodelectron)"
   ]
  },
  {
   "cell_type": "code",
   "execution_count": null,
   "id": "df09cb3a-48b4-4151-9754-66796e2a59f2",
   "metadata": {},
   "outputs": [],
   "source": [
    "nelectrons = ak.sum(goodelectron, axis=1)"
   ]
  },
  {
   "cell_type": "code",
   "execution_count": 85,
   "id": "84cadfb6-d66f-43db-b55a-e89844142c5c",
   "metadata": {},
   "outputs": [
    {
     "data": {
      "text/plain": [
       "<Array [] type='0 * bool'>"
      ]
     },
     "execution_count": 85,
     "metadata": {},
     "output_type": "execute_result"
    }
   ],
   "source": [
    "goodelectron[5]"
   ]
  },
  {
   "cell_type": "code",
   "execution_count": null,
   "id": "e0159f39-f84c-4f1f-8b76-998ad3ff7323",
   "metadata": {},
   "outputs": [],
   "source": []
  }
 ],
 "metadata": {
  "kernelspec": {
   "display_name": "Python 3 (ipykernel)",
   "language": "python",
   "name": "python3"
  },
  "language_info": {
   "codemirror_mode": {
    "name": "ipython",
    "version": 3
   },
   "file_extension": ".py",
   "mimetype": "text/x-python",
   "name": "python",
   "nbconvert_exporter": "python",
   "pygments_lexer": "ipython3",
   "version": "3.8.12"
  }
 },
 "nbformat": 4,
 "nbformat_minor": 5
}
