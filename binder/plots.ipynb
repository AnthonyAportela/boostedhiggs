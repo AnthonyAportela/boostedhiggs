{
 "cells": [
  {
   "cell_type": "code",
   "execution_count": 197,
   "id": "72db97f4",
   "metadata": {},
   "outputs": [],
   "source": [
    "import awkward as ak\n",
    "import matplotlib.pyplot as plt\n",
    "import mplhep as hep\n",
    "from hist.intervals import clopper_pearson_interval\n",
    "def get_yerr(num,den):\n",
    "    return abs(clopper_pearson_interval(num.view(), den.view()) - num.view()/den.view())\n",
    "\n",
    "# we suppress ROOT warnings where our input ROOT tree has duplicate branches - these are handled correctly.\n",
    "import warnings\n",
    "warnings.filterwarnings(\"ignore\", message=\"Found duplicate branch \")"
   ]
  },
  {
   "cell_type": "code",
   "execution_count": 198,
   "id": "cda4062f",
   "metadata": {},
   "outputs": [],
   "source": [
    "# you can load the output!\n",
    "import pickle\n",
    "with open('out_Nov10.hist', 'rb') as f:\n",
    "    out = pickle.load(f)"
   ]
  },
  {
   "cell_type": "code",
   "execution_count": 199,
   "id": "1f0fe1f4",
   "metadata": {},
   "outputs": [
    {
     "data": {
      "text/plain": [
       "array([203.875, 209.25 , 276.25 , ..., 244.75 , 270.   , 308.5  ])"
      ]
     },
     "execution_count": 199,
     "metadata": {},
     "output_type": "execute_result"
    }
   ],
   "source": [
    "out[2017][\"GluGluHToWWToLNuQQ_M125_TuneCP5_PSweight_13TeV-powheg2-jhugen727-pythia8\"][\"skimmed_events\"][\"ele\"][\"fj_pt\"][out[2017][\"GluGluHToWWToLNuQQ_M125_TuneCP5_PSweight_13TeV-powheg2-jhugen727-pythia8\"][\"skimmed_events\"][\"ele\"][\"fj_pt\"] >0]"
   ]
  },
  {
   "cell_type": "markdown",
   "id": "b94e12e1-7b2b-4217-b648-b9196b441f48",
   "metadata": {},
   "source": [
    "## Plotting histograms"
   ]
  },
  {
   "cell_type": "code",
   "execution_count": 200,
   "id": "539eee99",
   "metadata": {},
   "outputs": [
    {
     "data": {
      "text/plain": [
       "dict_keys(['HLT_enominal', 'HLT_ejet', 'HLT_evvl', 'HLT_evvlmet', 'HLT_jet', 'HLT_eextra', 'fj_pt', 'fj_msoftdrop', 'lep_pt', 'lep_isolation', 'fj_lep_mass', 'fj_lep_dR', 'ht', 'higgspt', 'higgspt_unmatched', 'iswlepton', 'iswstarlepton'])"
      ]
     },
     "execution_count": 200,
     "metadata": {},
     "output_type": "execute_result"
    }
   ],
   "source": [
    "# now we can fill the histogram with the denominator (baseline selection already applied)\n",
    "skimmed_events_ele = out[2017][\"GluGluHToWWToLNuQQ_M125_TuneCP5_PSweight_13TeV-powheg2-jhugen727-pythia8\"][\"skimmed_events\"][\"ele\"]\n",
    "skimmed_events_ele.keys()"
   ]
  },
  {
   "cell_type": "code",
   "execution_count": 201,
   "id": "73fa9e19-1378-46e7-82e0-bcc30d79ba0f",
   "metadata": {},
   "outputs": [
    {
     "data": {
      "text/plain": [
       "dict_keys(['HLT_munominal', 'HLT_muvvl', 'HLT_muvvlmet', 'HLT_jet', 'fj_pt', 'fj_msoftdrop', 'lep_pt', 'lep_isolation', 'fj_lep_mass', 'fj_lep_dR', 'ht', 'higgspt', 'higgspt_unmatched', 'iswlepton', 'iswstarlepton'])"
      ]
     },
     "execution_count": 201,
     "metadata": {},
     "output_type": "execute_result"
    }
   ],
   "source": [
    "skimmed_events_mu = out[2017][\"GluGluHToWWToLNuQQ_M125_TuneCP5_PSweight_13TeV-powheg2-jhugen727-pythia8\"][\"skimmed_events\"][\"mu\"]\n",
    "skimmed_events_mu.keys()"
   ]
  },
  {
   "cell_type": "code",
   "execution_count": 202,
   "id": "5cf474f0-6d89-49c8-830c-204697bea99d",
   "metadata": {},
   "outputs": [
    {
     "data": {
      "text/plain": [
       "dict_keys(['HLT_photon', 'fj_pt', 'fj_msoftdrop', 'lep_pt', 'fj_lep_mass', 'fj_lep_dR', 'ht', 'higgspt', 'higgspt_unmatched', 'iswlepton', 'iswstarlepton'])"
      ]
     },
     "execution_count": 202,
     "metadata": {},
     "output_type": "execute_result"
    }
   ],
   "source": [
    "skimmed_events_photon = out[2017][\"GluGluHToWWToLNuQQ_M125_TuneCP5_PSweight_13TeV-powheg2-jhugen727-pythia8\"][\"skimmed_events\"][\"photon\"]\n",
    "skimmed_events_photon.keys()"
   ]
  },
  {
   "cell_type": "code",
   "execution_count": 203,
   "id": "52104ae5-0ffd-44e1-bc0f-c87c35e5087e",
   "metadata": {},
   "outputs": [
    {
     "data": {
      "text/plain": [
       "dict_keys(['HLT_photon', 'fj_pt', 'fj_msoftdrop', 'lep_pt', 'fj_lep_mass', 'fj_lep_dR', 'ht', 'higgspt', 'higgspt_unmatched', 'iswlepton', 'iswstarlepton'])"
      ]
     },
     "execution_count": 203,
     "metadata": {},
     "output_type": "execute_result"
    }
   ],
   "source": [
    "out[2017][\"GluGluHToWWToLNuQQ_M125_TuneCP5_PSweight_13TeV-powheg2-jhugen727-pythia8\"][\"skimmed_events\"][\"photon\"].keys()"
   ]
  },
  {
   "cell_type": "code",
   "execution_count": 204,
   "id": "1faf06bd-438d-47fe-bde8-7d6d71666d00",
   "metadata": {},
   "outputs": [
    {
     "data": {
      "text/html": [
       "<html>\n",
       "<div style=\"display:flex; align-items:center;\">\n",
       "<div style=\"width:290px;\">\n",
       "<svg xmlns=\"http://www.w3.org/2000/svg\" viewBox=\"-10 -10 220 220\">\n",
       "<rect x=\"0\" y=\"0\" width=\"160\" height=\"160\" style=\"fill:white;opacity:.5;stroke-width:2;stroke:currentColor;\"/>\n",
       "<rect x=\"20\" y=\"20\" width=\"160\" height=\"160\" style=\"fill:white;opacity:.5;stroke-width:2;stroke:currentColor;\"/>\n",
       "<rect x=\"40\" y=\"40\" width=\"160\" height=\"160\" style=\"fill:white;opacity:.5;stroke-width:2;stroke:currentColor;\"/>\n",
       "<text x=\"120.0\" y=\"120.0\" style=\"font-size: 26pt; font-family: verdana; font-style: bold; fill: black;\" text-anchor=\"middle\" alignment-baseline=\"middle\">\n",
       "7D\n",
       "</text>\n",
       "</svg>\n",
       "</div>\n",
       "<div style=\"flex=grow:1;\">\n",
       "StrCategory(['ele', 'photon'], growth=True, name='channel', label='channel')<br/>\n",
       "StrCategory(['numerator', 'denominator'], name='region', label='region')<br/>\n",
       "StrCategory(['all', 'nominal', 'vvl', 'met', 'jet', 'extra', 'photon'], growth=True, name='trigger', label='trigger')<br/>\n",
       "Regular(25, 200, 700, name='jetpt', label='Jet $p_T$ [GeV]')<br/>\n",
       "Regular(25, 10, 200, name='leppt', label='Lepton $p_T$ [GeV]')<br/>\n",
       "Regular(25, 100, 700, name='higgspt', label='matched H $p_T$ [GeV]')<br/>\n",
       "Regular(20, 0, 1.5, name='deltaR', label='deltaR')<br/>\n",
       "<hr style=\"margin-top:.2em; margin-bottom:.2em;\"/>\n",
       "Double() Σ=82466.0 <em>(266289.0 with flow)</em>\n",
       "\n",
       "</div>\n",
       "</div>\n",
       "</html>"
      ],
      "text/plain": [
       "Hist(\n",
       "  StrCategory(['ele', 'photon'], growth=True, name='channel', label='channel'),\n",
       "  StrCategory(['numerator', 'denominator'], name='region', label='region'),\n",
       "  StrCategory(['all', 'nominal', 'vvl', 'met', 'jet', 'extra', 'photon'], growth=True, name='trigger', label='trigger'),\n",
       "  Regular(25, 200, 700, name='jetpt', label='Jet $p_T$ [GeV]'),\n",
       "  Regular(25, 10, 200, name='leppt', label='Lepton $p_T$ [GeV]'),\n",
       "  Regular(25, 100, 700, name='higgspt', label='matched H $p_T$ [GeV]'),\n",
       "  Regular(20, 0, 1.5, name='deltaR', label='deltaR'),\n",
       "  storage=Double()) # Sum: 82466.0 (266289.0 with flow)"
      ]
     },
     "execution_count": 204,
     "metadata": {},
     "output_type": "execute_result"
    }
   ],
   "source": [
    "# now we can make histograms\n",
    "import hist as hist2\n",
    "region_cat = hist2.axis.StrCategory([\"numerator\",\"denominator\"], name=\"region\")\n",
    "channel_cat = hist2.axis.StrCategory([], name='channel', growth=True)\n",
    "trigger_cat = hist2.axis.StrCategory([], name='trigger', growth=True)\n",
    "\n",
    "jetpt_axis = hist2.axis.Regular(25, 200, 700, name='jetpt', label=r'Jet $p_T$ [GeV]')\n",
    "leppt_axis = hist2.axis.Regular(25, 10, 200, name='leppt', label=r'Lepton $p_T$ [GeV]')\n",
    "hpt_axis = hist2.axis.Regular(25, 100, 700, name='higgspt', label=r'matched H $p_T$ [GeV]')\n",
    "deltaR_axis = hist2.axis.Regular(20, 0, 1.5, name='deltaR', label=r'deltaR')\n",
    "\n",
    "hists = {}\n",
    "hists[\"jet\"] = hist2.Hist(\n",
    "                channel_cat,\n",
    "                region_cat,\n",
    "                trigger_cat,\n",
    "                jetpt_axis,\n",
    "                leppt_axis,\n",
    "                hpt_axis,\n",
    "                deltaR_axis,\n",
    "            )\n",
    "# now we can fill the histogram with the denominator (baseline selection already applied)\n",
    "higgspt = skimmed_events_ele[\"higgspt\"]\n",
    "jetpt = skimmed_events_ele[\"fj_pt\"]\n",
    "leppt = skimmed_events_ele[\"lep_pt\"]\n",
    "deltaR = skimmed_events_ele[\"fj_lep_dR\"]\n",
    "\n",
    "hists[\"jet\"].fill(\n",
    "    channel=\"ele\",\n",
    "    region=\"denominator\",\n",
    "    trigger=\"all\",\n",
    "    higgspt=higgspt,\n",
    "    jetpt=jetpt,\n",
    "    leppt=leppt,\n",
    "    deltaR=deltaR,\n",
    ")\n",
    "hists[\"jet\"].fill(\n",
    "    channel=\"ele\",\n",
    "    region=\"numerator\",\n",
    "    trigger=\"nominal\",\n",
    "    higgspt=higgspt[skimmed_events_ele[\"HLT_enominal\"]],\n",
    "    jetpt=jetpt[skimmed_events_ele[\"HLT_enominal\"]],\n",
    "    leppt=leppt[skimmed_events_ele[\"HLT_enominal\"]],\n",
    "    deltaR=deltaR[skimmed_events_ele[\"HLT_enominal\"]],\n",
    "\n",
    ")\n",
    "hists[\"jet\"].fill(\n",
    "    channel=\"ele\",\n",
    "    region=\"numerator\",\n",
    "    trigger=\"vvl\",\n",
    "    higgspt=higgspt[skimmed_events_ele[\"HLT_evvl\"]],\n",
    "    jetpt=jetpt[skimmed_events_ele[\"HLT_evvl\"]],\n",
    "    leppt=leppt[skimmed_events_ele[\"HLT_evvl\"]],\n",
    "    deltaR=deltaR[skimmed_events_ele[\"HLT_evvl\"]],    \n",
    ")\n",
    "\n",
    "hists[\"jet\"].fill(\n",
    "    channel=\"ele\",\n",
    "    region=\"numerator\",\n",
    "    trigger=\"met\",\n",
    "    higgspt=higgspt[skimmed_events_ele[\"HLT_evvlmet\"]],\n",
    "    jetpt=jetpt[skimmed_events_ele[\"HLT_evvlmet\"]],\n",
    "    leppt=leppt[skimmed_events_ele[\"HLT_evvlmet\"]],\n",
    "    deltaR=deltaR[skimmed_events_ele[\"HLT_evvlmet\"]],    \n",
    ")\n",
    "\n",
    "hists[\"jet\"].fill(\n",
    "    channel=\"ele\",\n",
    "    region=\"numerator\",\n",
    "    trigger=\"jet\",\n",
    "    higgspt=higgspt[skimmed_events_ele[\"HLT_ejet\"]],\n",
    "    jetpt=jetpt[skimmed_events_ele[\"HLT_ejet\"]],\n",
    "    leppt=leppt[skimmed_events_ele[\"HLT_ejet\"]],\n",
    "    deltaR=deltaR[skimmed_events_ele[\"HLT_ejet\"]],    \n",
    ")\n",
    "\n",
    "hists[\"jet\"].fill(\n",
    "    channel=\"ele\",\n",
    "    region=\"numerator\",\n",
    "    trigger=\"extra\",\n",
    "    higgspt=higgspt[skimmed_events_ele[\"HLT_eextra\"]],\n",
    "    jetpt=jetpt[skimmed_events_ele[\"HLT_eextra\"]],\n",
    "    leppt=leppt[skimmed_events_ele[\"HLT_eextra\"]],\n",
    "    deltaR=deltaR[skimmed_events_ele[\"HLT_eextra\"]],    \n",
    ")\n",
    "\n",
    "higgspt = skimmed_events_photon[\"higgspt\"]\n",
    "jetpt = skimmed_events_photon[\"fj_pt\"]\n",
    "leppt = skimmed_events_photon[\"lep_pt\"]\n",
    "deltaR = skimmed_events_photon[\"fj_lep_dR\"]\n",
    "\n",
    "hists[\"jet\"].fill(\n",
    "    channel=\"photon\",\n",
    "    region=\"denominator\",\n",
    "    trigger=\"all\",\n",
    "    higgspt=higgspt,\n",
    "    jetpt=jetpt,\n",
    "    leppt=leppt,\n",
    "    deltaR=deltaR,\n",
    ")\n",
    "hists[\"jet\"].fill(\n",
    "    channel=\"photon\",\n",
    "    region=\"numerator\",\n",
    "    trigger=\"photon\",\n",
    "    higgspt=higgspt[skimmed_events_photon[\"HLT_photon\"]],\n",
    "    jetpt=jetpt[skimmed_events_photon[\"HLT_photon\"]],\n",
    "    leppt=leppt[skimmed_events_photon[\"HLT_photon\"]],\n",
    "    deltaR=deltaR[skimmed_events_photon[\"HLT_photon\"]],    \n",
    ")\n",
    "\n",
    "hists[\"jet\"]"
   ]
  },
  {
   "cell_type": "code",
   "execution_count": 205,
   "id": "e23c16dc-2925-4e0b-8013-0e4b114c2dab",
   "metadata": {},
   "outputs": [
    {
     "data": {
      "image/png": "[encoded data removed]",
      "text/plain": [
       "<Figure size 432x288 with 1 Axes>"
      ]
     },
     "metadata": {
      "needs_background": "light"
     },
     "output_type": "display_data"
    }
   ],
   "source": [
    "# now we plot trigger efficiency as function of jetpt\n",
    "num_nom = hists[\"jet\"][{\"region\":\"numerator\",\"channel\":\"ele\",\"trigger\":\"nominal\", 'leppt':sum, 'higgspt':sum, 'deltaR':sum}]\n",
    "num_vvl = hists[\"jet\"][{\"region\":\"numerator\",\"channel\":\"ele\",\"trigger\":\"vvl\", 'leppt':sum, 'higgspt':sum, 'deltaR':sum}]\n",
    "num_met = hists[\"jet\"][{\"region\":\"numerator\",\"channel\":\"ele\",\"trigger\":\"met\", 'leppt':sum, 'higgspt':sum, 'deltaR':sum}]\n",
    "num_jet = hists[\"jet\"][{\"region\":\"numerator\",\"channel\":\"ele\",\"trigger\":\"jet\", 'leppt':sum, 'higgspt':sum, 'deltaR':sum}]\n",
    "num_extra = hists[\"jet\"][{\"region\":\"numerator\",\"channel\":\"ele\",\"trigger\":\"extra\", 'leppt':sum, 'higgspt':sum, 'deltaR':sum}]\n",
    "\n",
    "den = hists[\"jet\"][{\"region\":\"denominator\",\"channel\":\"ele\",\"trigger\":sum, 'leppt':sum, 'higgspt':sum, 'deltaR':sum}]\n",
    "\n",
    "num_photon = hists[\"jet\"][{\"region\":\"numerator\",\"channel\":\"photon\",\"trigger\":\"photon\", 'leppt':sum, 'higgspt':sum, 'deltaR':sum}]\n",
    "den_photon = hists[\"jet\"][{\"region\":\"denominator\",\"channel\":\"photon\",\"trigger\":sum, 'leppt':sum, 'higgspt':sum, 'deltaR':sum}]\n",
    "\n",
    "import matplotlib.pyplot as plt\n",
    "import mplhep as hep\n",
    "from hist.intervals import clopper_pearson_interval\n",
    "def get_yerr(num,den):\n",
    "    return abs(clopper_pearson_interval(num.view(), den.view()) - num.view()/den.view())\n",
    "\n",
    "fig, ax = plt.subplots(1, 1)\n",
    "hep.histplot(num_nom/den, \n",
    "             yerr=get_yerr(num_nom,den),\n",
    "             ax = ax,\n",
    "             histtype='errorbar', color='red', capsize=4, elinewidth=1, label=\"Electron Nominal\",         \n",
    ")\n",
    "hep.histplot(num_vvl/den, \n",
    "             yerr=get_yerr(num_vvl,den),\n",
    "             ax = ax,\n",
    "             histtype='errorbar', color='blue', capsize=4, elinewidth=1, label=\"Electron VVL\",         \n",
    ")\n",
    "hep.histplot(num_met/den, \n",
    "             yerr=get_yerr(num_met,den),\n",
    "             ax = ax,\n",
    "             histtype='errorbar', color='green', capsize=4, elinewidth=1, label=\"Electron MET\",         \n",
    ")\n",
    "hep.histplot(num_jet/den, \n",
    "             yerr=get_yerr(num_jet,den),\n",
    "             ax = ax,\n",
    "             histtype='errorbar', color='black', capsize=4, elinewidth=1, label=\"Electron jet\",         \n",
    ")\n",
    "hep.histplot(num_extra/den, \n",
    "             yerr=get_yerr(num_extra,den),\n",
    "             ax = ax,\n",
    "             histtype='errorbar', color='orange', capsize=4, elinewidth=1, label=\"Electron extra\",         \n",
    ")\n",
    "hep.histplot(num_photon/den_photon, \n",
    "             yerr=get_yerr(num_photon,den_photon),\n",
    "             ax = ax,\n",
    "             histtype='errorbar', color='yellow', capsize=4, elinewidth=1, label=\"Photon\",         \n",
    ")\n",
    "ax.legend()\n",
    "plt.savefig('plots/ele_triggers/jetpt.pdf');"
   ]
  },
  {
   "cell_type": "code",
   "execution_count": 206,
   "id": "b1416fcb-c007-42c8-925a-7fe42b669b9e",
   "metadata": {},
   "outputs": [
    {
     "name": "stderr",
     "output_type": "stream",
     "text": [
      "/tmp/ipykernel_2178/692639788.py:17: RuntimeWarning: invalid value encountered in true_divide\n",
      "  return abs(clopper_pearson_interval(num.view(), den.view()) - num.view()/den.view())\n",
      "/tmp/ipykernel_2178/692639788.py:17: RuntimeWarning: invalid value encountered in true_divide\n",
      "  return abs(clopper_pearson_interval(num.view(), den.view()) - num.view()/den.view())\n",
      "/tmp/ipykernel_2178/692639788.py:17: RuntimeWarning: invalid value encountered in true_divide\n",
      "  return abs(clopper_pearson_interval(num.view(), den.view()) - num.view()/den.view())\n",
      "/tmp/ipykernel_2178/692639788.py:17: RuntimeWarning: invalid value encountered in true_divide\n",
      "  return abs(clopper_pearson_interval(num.view(), den.view()) - num.view()/den.view())\n",
      "/tmp/ipykernel_2178/692639788.py:17: RuntimeWarning: invalid value encountered in true_divide\n",
      "  return abs(clopper_pearson_interval(num.view(), den.view()) - num.view()/den.view())\n",
      "/tmp/ipykernel_2178/692639788.py:17: RuntimeWarning: invalid value encountered in true_divide\n",
      "  return abs(clopper_pearson_interval(num.view(), den.view()) - num.view()/den.view())\n"
     ]
    },
    {
     "data": {
      "image/png": "[encoded data removed]",
      "text/plain": [
       "<Figure size 432x288 with 1 Axes>"
      ]
     },
     "metadata": {
      "needs_background": "light"
     },
     "output_type": "display_data"
    }
   ],
   "source": [
    "# now we plot trigger efficiency as function of leptonpt\n",
    "num_nom = hists[\"jet\"][{\"region\":\"numerator\",\"channel\":\"ele\",\"trigger\":\"nominal\", 'jetpt':sum, 'higgspt':sum, 'deltaR':sum}]\n",
    "num_vvl = hists[\"jet\"][{\"region\":\"numerator\",\"channel\":\"ele\",\"trigger\":\"vvl\", 'jetpt':sum, 'higgspt':sum, 'deltaR':sum}]\n",
    "num_met = hists[\"jet\"][{\"region\":\"numerator\",\"channel\":\"ele\",\"trigger\":\"met\", 'jetpt':sum, 'higgspt':sum, 'deltaR':sum}]\n",
    "num_jet = hists[\"jet\"][{\"region\":\"numerator\",\"channel\":\"ele\",\"trigger\":\"jet\", 'jetpt':sum, 'higgspt':sum, 'deltaR':sum}]\n",
    "num_extra = hists[\"jet\"][{\"region\":\"numerator\",\"channel\":\"ele\",\"trigger\":\"extra\", 'jetpt':sum, 'higgspt':sum, 'deltaR':sum}]\n",
    "\n",
    "den = hists[\"jet\"][{\"region\":\"denominator\",\"channel\":\"ele\",\"trigger\":sum, 'jetpt':sum, 'higgspt':sum, 'deltaR':sum}]\n",
    "\n",
    "num_photon = hists[\"jet\"][{\"region\":\"numerator\",\"channel\":\"photon\",\"trigger\":\"photon\", 'jetpt':sum, 'higgspt':sum, 'deltaR':sum}]\n",
    "den_photon = hists[\"jet\"][{\"region\":\"denominator\",\"channel\":\"photon\",\"trigger\":sum, 'jetpt':sum, 'higgspt':sum, 'deltaR':sum}]\n",
    "\n",
    "import matplotlib.pyplot as plt\n",
    "import mplhep as hep\n",
    "from hist.intervals import clopper_pearson_interval\n",
    "def get_yerr(num,den):\n",
    "    return abs(clopper_pearson_interval(num.view(), den.view()) - num.view()/den.view())\n",
    "\n",
    "fig, ax = plt.subplots(1, 1)\n",
    "hep.histplot(num_nom/den, \n",
    "             yerr=get_yerr(num_nom,den),\n",
    "             ax = ax,\n",
    "             histtype='errorbar', color='red', capsize=4, elinewidth=1, label=\"Electron Nominal\",         \n",
    ")\n",
    "hep.histplot(num_vvl/den, \n",
    "             yerr=get_yerr(num_vvl,den),\n",
    "             ax = ax,\n",
    "             histtype='errorbar', color='blue', capsize=4, elinewidth=1, label=\"Electron VVL\",         \n",
    ")\n",
    "hep.histplot(num_met/den, \n",
    "             yerr=get_yerr(num_met,den),\n",
    "             ax = ax,\n",
    "             histtype='errorbar', color='green', capsize=4, elinewidth=1, label=\"Electron MET\",         \n",
    ")\n",
    "hep.histplot(num_jet/den, \n",
    "             yerr=get_yerr(num_jet,den),\n",
    "             ax = ax,\n",
    "             histtype='errorbar', color='black', capsize=4, elinewidth=1, label=\"Electron jet\",         \n",
    ")\n",
    "hep.histplot(num_extra/den, \n",
    "             yerr=get_yerr(num_extra,den),\n",
    "             ax = ax,\n",
    "             histtype='errorbar', color='orange', capsize=4, elinewidth=1, label=\"Electron extra\",         \n",
    ")\n",
    "hep.histplot(num_photon/den_photon, \n",
    "             yerr=get_yerr(num_photon,den_photon),\n",
    "             ax = ax,\n",
    "             histtype='errorbar', color='yellow', capsize=4, elinewidth=1, label=\"Photon\",         \n",
    ")\n",
    "ax.legend()\n",
    "plt.savefig('plots/ele_triggers/leppt.pdf');"
   ]
  },
  {
   "cell_type": "code",
   "execution_count": 207,
   "id": "45b30783-e228-40b4-a304-8846973f5aab",
   "metadata": {},
   "outputs": [
    {
     "data": {
      "image/png": "[encoded data removed]",
      "text/plain": [
       "<Figure size 432x288 with 1 Axes>"
      ]
     },
     "metadata": {
      "needs_background": "light"
     },
     "output_type": "display_data"
    }
   ],
   "source": [
    "# now we plot trigger efficiency as function of higgspt\n",
    "num_nom = hists[\"jet\"][{\"region\":\"numerator\",\"channel\":\"ele\",\"trigger\":\"nominal\", 'jetpt':sum, 'leppt':sum, 'deltaR':sum}]\n",
    "num_vvl = hists[\"jet\"][{\"region\":\"numerator\",\"channel\":\"ele\",\"trigger\":\"vvl\", 'jetpt':sum, 'leppt':sum, 'deltaR':sum}]\n",
    "num_met = hists[\"jet\"][{\"region\":\"numerator\",\"channel\":\"ele\",\"trigger\":\"met\", 'jetpt':sum, 'leppt':sum, 'deltaR':sum}]\n",
    "num_jet = hists[\"jet\"][{\"region\":\"numerator\",\"channel\":\"ele\",\"trigger\":\"jet\", 'jetpt':sum, 'leppt':sum, 'deltaR':sum}]\n",
    "num_extra = hists[\"jet\"][{\"region\":\"numerator\",\"channel\":\"ele\",\"trigger\":\"extra\", 'jetpt':sum, 'leppt':sum, 'deltaR':sum}]\n",
    "\n",
    "den = hists[\"jet\"][{\"region\":\"denominator\",\"channel\":\"ele\",\"trigger\":sum, 'jetpt':sum, 'leppt':sum, 'deltaR':sum}]\n",
    "\n",
    "num_photon = hists[\"jet\"][{\"region\":\"numerator\",\"channel\":\"photon\",\"trigger\":\"photon\", 'jetpt':sum, 'leppt':sum, 'deltaR':sum}]\n",
    "den_photon = hists[\"jet\"][{\"region\":\"denominator\",\"channel\":\"photon\",\"trigger\":sum, 'jetpt':sum, 'leppt':sum, 'deltaR':sum}]\n",
    "\n",
    "import matplotlib.pyplot as plt\n",
    "import mplhep as hep\n",
    "from hist.intervals import clopper_pearson_interval\n",
    "def get_yerr(num,den):\n",
    "    return abs(clopper_pearson_interval(num.view(), den.view()) - num.view()/den.view())\n",
    "\n",
    "fig, ax = plt.subplots(1, 1)\n",
    "hep.histplot(num_nom/den, \n",
    "             yerr=get_yerr(num_nom,den),\n",
    "             ax = ax,\n",
    "             histtype='errorbar', color='red', capsize=4, elinewidth=1, label=\"Electron Nominal\",         \n",
    ")\n",
    "hep.histplot(num_vvl/den, \n",
    "             yerr=get_yerr(num_vvl,den),\n",
    "             ax = ax,\n",
    "             histtype='errorbar', color='blue', capsize=4, elinewidth=1, label=\"Electron VVL\",         \n",
    ")\n",
    "hep.histplot(num_met/den, \n",
    "             yerr=get_yerr(num_met,den),\n",
    "             ax = ax,\n",
    "             histtype='errorbar', color='green', capsize=4, elinewidth=1, label=\"Electron MET\",         \n",
    ")\n",
    "hep.histplot(num_jet/den, \n",
    "             yerr=get_yerr(num_jet,den),\n",
    "             ax = ax,\n",
    "             histtype='errorbar', color='black', capsize=4, elinewidth=1, label=\"Electron jet\",         \n",
    ")\n",
    "hep.histplot(num_extra/den, \n",
    "             yerr=get_yerr(num_extra,den),\n",
    "             ax = ax,\n",
    "             histtype='errorbar', color='orange', capsize=4, elinewidth=1, label=\"Electron extra\",         \n",
    ")\n",
    "hep.histplot(num_photon/den_photon, \n",
    "             yerr=get_yerr(num_photon,den_photon),\n",
    "             ax = ax,\n",
    "             histtype='errorbar', color='yellow', capsize=4, elinewidth=1, label=\"Photon\",         \n",
    ")\n",
    "ax.legend()\n",
    "plt.savefig('plots/ele_triggers/higgpt.pdf');"
   ]
  },
  {
   "cell_type": "code",
   "execution_count": 208,
   "id": "7046f00e-9a0e-43eb-8359-9445ed22c5dd",
   "metadata": {},
   "outputs": [
    {
     "data": {
      "image/png": "[encoded data removed]",
      "text/plain": [
       "<Figure size 432x288 with 1 Axes>"
      ]
     },
     "metadata": {
      "needs_background": "light"
     },
     "output_type": "display_data"
    }
   ],
   "source": [
    "# now we plot trigger efficiency as function of deltaR\n",
    "num_nom = hists[\"jet\"][{\"region\":\"numerator\",\"channel\":\"ele\",\"trigger\":\"nominal\", 'jetpt':sum, 'leppt':sum, 'higgspt':sum}]\n",
    "num_vvl = hists[\"jet\"][{\"region\":\"numerator\",\"channel\":\"ele\",\"trigger\":\"vvl\", 'jetpt':sum, 'leppt':sum, 'higgspt':sum}]\n",
    "num_met = hists[\"jet\"][{\"region\":\"numerator\",\"channel\":\"ele\",\"trigger\":\"met\", 'jetpt':sum, 'leppt':sum, 'higgspt':sum}]\n",
    "num_jet = hists[\"jet\"][{\"region\":\"numerator\",\"channel\":\"ele\",\"trigger\":\"jet\", 'jetpt':sum, 'leppt':sum, 'higgspt':sum}]\n",
    "num_extra = hists[\"jet\"][{\"region\":\"numerator\",\"channel\":\"ele\",\"trigger\":\"extra\", 'jetpt':sum, 'leppt':sum, 'higgspt':sum}]\n",
    "\n",
    "den = hists[\"jet\"][{\"region\":\"denominator\",\"channel\":\"ele\",\"trigger\":sum, 'jetpt':sum, 'jetpt':sum, 'leppt':sum, 'higgspt':sum}]\n",
    "\n",
    "num_photon = hists[\"jet\"][{\"region\":\"numerator\",\"channel\":\"photon\",\"trigger\":\"photon\", 'jetpt':sum, 'leppt':sum, 'higgspt':sum}]\n",
    "den_photon = hists[\"jet\"][{\"region\":\"denominator\",\"channel\":\"photon\",\"trigger\":sum, 'jetpt':sum, 'leppt':sum, 'higgspt':sum}]\n",
    "\n",
    "import matplotlib.pyplot as plt\n",
    "import mplhep as hep\n",
    "from hist.intervals import clopper_pearson_interval\n",
    "def get_yerr(num,den):\n",
    "    return abs(clopper_pearson_interval(num.view(), den.view()) - num.view()/den.view())\n",
    "\n",
    "fig, ax = plt.subplots(1, 1)\n",
    "hep.histplot(num_nom/den, \n",
    "             yerr=get_yerr(num_nom,den),\n",
    "             ax = ax,\n",
    "             histtype='errorbar', color='red', capsize=4, elinewidth=1, label=\"Electron Nominal\",         \n",
    ")\n",
    "hep.histplot(num_vvl/den, \n",
    "             yerr=get_yerr(num_vvl,den),\n",
    "             ax = ax,\n",
    "             histtype='errorbar', color='blue', capsize=4, elinewidth=1, label=\"Electron VVL\",         \n",
    ")\n",
    "hep.histplot(num_met/den, \n",
    "             yerr=get_yerr(num_met,den),\n",
    "             ax = ax,\n",
    "             histtype='errorbar', color='green', capsize=4, elinewidth=1, label=\"Electron MET\",         \n",
    ")\n",
    "hep.histplot(num_jet/den, \n",
    "             yerr=get_yerr(num_jet,den),\n",
    "             ax = ax,\n",
    "             histtype='errorbar', color='black', capsize=4, elinewidth=1, label=\"Electron jet\",         \n",
    ")\n",
    "hep.histplot(num_extra/den, \n",
    "             yerr=get_yerr(num_extra,den),\n",
    "             ax = ax,\n",
    "             histtype='errorbar', color='orange', capsize=4, elinewidth=1, label=\"Electron extra\",         \n",
    ")\n",
    "hep.histplot(num_photon/den_photon, \n",
    "             yerr=get_yerr(num_photon,den_photon),\n",
    "             ax = ax,\n",
    "             histtype='errorbar', color='yellow', capsize=4, elinewidth=1, label=\"Photon\",         \n",
    ")\n",
    "ax.legend()\n",
    "plt.savefig('plots/ele_triggers/deltaR.pdf');"
   ]
  },
  {
   "cell_type": "code",
   "execution_count": 209,
   "id": "466bcd7f-ebff-4126-b7f4-295b293a7ee2",
   "metadata": {},
   "outputs": [
    {
     "data": {
      "text/html": [
       "<html>\n",
       "<div style=\"display:flex; align-items:center;\">\n",
       "<div style=\"width:290px;\">\n",
       "<svg xmlns=\"http://www.w3.org/2000/svg\" viewBox=\"-10 -10 220 220\">\n",
       "<rect x=\"0\" y=\"0\" width=\"160\" height=\"160\" style=\"fill:white;opacity:.5;stroke-width:2;stroke:currentColor;\"/>\n",
       "<rect x=\"20\" y=\"20\" width=\"160\" height=\"160\" style=\"fill:white;opacity:.5;stroke-width:2;stroke:currentColor;\"/>\n",
       "<rect x=\"40\" y=\"40\" width=\"160\" height=\"160\" style=\"fill:white;opacity:.5;stroke-width:2;stroke:currentColor;\"/>\n",
       "<text x=\"120.0\" y=\"120.0\" style=\"font-size: 26pt; font-family: verdana; font-style: bold; fill: black;\" text-anchor=\"middle\" alignment-baseline=\"middle\">\n",
       "5D\n",
       "</text>\n",
       "</svg>\n",
       "</div>\n",
       "<div style=\"flex=grow:1;\">\n",
       "StrCategory(['ele'], growth=True, name='channel', label='channel')<br/>\n",
       "StrCategory(['numerator', 'denominator'], name='region', label='region')<br/>\n",
       "StrCategory(['all', 'nominal', 'vvl', 'met', 'jet', 'extra'], growth=True, name='trigger', label='trigger')<br/>\n",
       "Regular(20, 0, 3.5, name='lepiso', label='Lepton isolation')<br/>\n",
       "Regular(20, 180, 1500, name='ht', label='HT [GeV]')<br/>\n",
       "<hr style=\"margin-top:.2em; margin-bottom:.2em;\"/>\n",
       "Double() Σ=85128.0 <em>(85666.0 with flow)</em>\n",
       "\n",
       "</div>\n",
       "</div>\n",
       "</html>"
      ],
      "text/plain": [
       "Hist(\n",
       "  StrCategory(['ele'], growth=True, name='channel', label='channel'),\n",
       "  StrCategory(['numerator', 'denominator'], name='region', label='region'),\n",
       "  StrCategory(['all', 'nominal', 'vvl', 'met', 'jet', 'extra'], growth=True, name='trigger', label='trigger'),\n",
       "  Regular(20, 0, 3.5, name='lepiso', label='Lepton isolation'),\n",
       "  Regular(20, 180, 1500, name='ht', label='HT [GeV]'),\n",
       "  storage=Double()) # Sum: 85128.0 (85666.0 with flow)"
      ]
     },
     "execution_count": 209,
     "metadata": {},
     "output_type": "execute_result"
    }
   ],
   "source": [
    "# now we can make histograms for isolation, ht\n",
    "import hist as hist2\n",
    "region_cat = hist2.axis.StrCategory([\"numerator\",\"denominator\"], name=\"region\")\n",
    "channel_cat = hist2.axis.StrCategory([], name='channel', growth=True)\n",
    "trigger_cat = hist2.axis.StrCategory([], name='trigger', growth=True)\n",
    "\n",
    "ht_axis = hist2.axis.Regular(20,180, 1500, name='ht', label=r'HT [GeV]')\n",
    "lepiso_axis = hist2.axis.Regular(20, 0, 3.5, name='lepiso', label=r'Lepton isolation')\n",
    "\n",
    "hists = {}\n",
    "hists[\"jet\"] = hist2.Hist(\n",
    "                channel_cat,\n",
    "                region_cat,\n",
    "                trigger_cat,\n",
    "                lepiso_axis,\n",
    "                ht_axis,\n",
    "            )\n",
    "# now we can fill the histogram with the denominator (baseline selection already applied)\n",
    "lepiso = skimmed_events_ele[\"lep_isolation\"]\n",
    "ht = skimmed_events_ele[\"ht\"]\n",
    "\n",
    "hists[\"jet\"].fill(\n",
    "    channel=\"ele\",\n",
    "    region=\"denominator\",\n",
    "    trigger=\"all\",\n",
    "    lepiso=lepiso,\n",
    "    ht=ht\n",
    "\n",
    ")\n",
    "hists[\"jet\"].fill(\n",
    "    channel=\"ele\",\n",
    "    region=\"numerator\",\n",
    "    trigger=\"nominal\",\n",
    "    lepiso=lepiso[skimmed_events_ele[\"HLT_enominal\"]],\n",
    "    ht=ht[skimmed_events_ele[\"HLT_enominal\"]],\n",
    "\n",
    ")\n",
    "hists[\"jet\"].fill(\n",
    "    channel=\"ele\",\n",
    "    region=\"numerator\",\n",
    "    trigger=\"vvl\",  \n",
    "    lepiso=lepiso[skimmed_events_ele[\"HLT_evvl\"]],\n",
    "    ht=ht[skimmed_events_ele[\"HLT_evvl\"]],\n",
    ")\n",
    "\n",
    "hists[\"jet\"].fill(\n",
    "    channel=\"ele\",\n",
    "    region=\"numerator\",\n",
    "    trigger=\"met\",  \n",
    "    lepiso=lepiso[skimmed_events_ele[\"HLT_evvlmet\"]],\n",
    "    ht=ht[skimmed_events_ele[\"HLT_evvlmet\"]],\n",
    ")\n",
    "hists[\"jet\"].fill(\n",
    "    channel=\"ele\",\n",
    "    region=\"numerator\",\n",
    "    trigger=\"jet\",\n",
    "    lepiso=lepiso[skimmed_events_ele[\"HLT_evvlmet\"]],\n",
    "    ht=ht[skimmed_events_ele[\"HLT_evvlmet\"]],  \n",
    ")\n",
    "hists[\"jet\"].fill(\n",
    "    channel=\"ele\",\n",
    "    region=\"numerator\",\n",
    "    trigger=\"extra\",\n",
    "    lepiso=lepiso[skimmed_events_ele[\"HLT_eextra\"]],\n",
    "    ht=ht[skimmed_events_ele[\"HLT_eextra\"]],  \n",
    ")\n",
    "\n",
    "# lepiso = skimmed_events_photon[\"lep_isolation\"]\n",
    "# ht = skimmed_events_photon[\"ht\"]\n",
    "\n",
    "# hists[\"jet\"].fill(\n",
    "#     channel=\"photon\",\n",
    "#     region=\"denominator\",\n",
    "#     trigger=\"all\",\n",
    "#     lepiso=lepiso,\n",
    "#     ht=ht,\n",
    "# )\n",
    "# hists[\"jet\"].fill(\n",
    "#     channel=\"photon\",\n",
    "#     region=\"numerator\",\n",
    "#     trigger=\"photon\",\n",
    "#     lepiso=lepiso[skimmed_events_photon[\"HLT_photon\"]],\n",
    "#     ht=ht[skimmed_events_photon[\"HLT_photon\"]],   \n",
    "# )\n",
    "\n",
    "hists[\"jet\"]"
   ]
  },
  {
   "cell_type": "code",
   "execution_count": 210,
   "id": "ab03acbd-ae2d-477b-93c4-25f5d1650d7e",
   "metadata": {},
   "outputs": [
    {
     "data": {
      "image/png": "[encoded data removed]",
      "text/plain": [
       "<Figure size 432x288 with 1 Axes>"
      ]
     },
     "metadata": {
      "needs_background": "light"
     },
     "output_type": "display_data"
    }
   ],
   "source": [
    "# now we plot trigger efficiency as function of ht\n",
    "num_nom = hists[\"jet\"][{\"region\":\"numerator\",\"channel\":\"ele\",\"trigger\":\"nominal\", 'lepiso':sum}]\n",
    "num_vvl = hists[\"jet\"][{\"region\":\"numerator\",\"channel\":\"ele\",\"trigger\":\"vvl\", 'lepiso':sum}]\n",
    "num_met = hists[\"jet\"][{\"region\":\"numerator\",\"channel\":\"ele\",\"trigger\":\"met\", 'lepiso':sum}]\n",
    "num_jet = hists[\"jet\"][{\"region\":\"numerator\",\"channel\":\"ele\",\"trigger\":\"jet\", 'lepiso':sum}]\n",
    "num_extra = hists[\"jet\"][{\"region\":\"numerator\",\"channel\":\"ele\",\"trigger\":\"extra\", 'lepiso':sum}]\n",
    "\n",
    "den = hists[\"jet\"][{\"region\":\"denominator\",\"channel\":\"ele\",\"trigger\":sum, 'lepiso':sum}]\n",
    "\n",
    "# num_photon = hists[\"jet\"][{\"region\":\"numerator\",\"channel\":\"photon\",\"trigger\":\"photon\"}]\n",
    "# den_photon = hists[\"jet\"][{\"region\":\"denominator\",\"channel\":\"photon\",\"trigger\":sum}]\n",
    "\n",
    "import matplotlib.pyplot as plt\n",
    "import mplhep as hep\n",
    "from hist.intervals import clopper_pearson_interval\n",
    "def get_yerr(num,den):\n",
    "    return abs(clopper_pearson_interval(num.view(), den.view()) - num.view()/den.view())\n",
    "\n",
    "fig, ax = plt.subplots(1, 1)\n",
    "hep.histplot(num_nom/den, \n",
    "             yerr=get_yerr(num_nom,den),\n",
    "             ax = ax,\n",
    "             histtype='errorbar', color='red', capsize=4, elinewidth=1, label=\"Electron Nominal\",         \n",
    ")\n",
    "hep.histplot(num_vvl/den, \n",
    "             yerr=get_yerr(num_vvl,den),\n",
    "             ax = ax,\n",
    "             histtype='errorbar', color='blue', capsize=4, elinewidth=1, label=\"Electron VVL\",         \n",
    ")\n",
    "hep.histplot(num_met/den, \n",
    "             yerr=get_yerr(num_met,den),\n",
    "             ax = ax,\n",
    "             histtype='errorbar', color='green', capsize=4, elinewidth=1, label=\"Electron MET\",         \n",
    ")\n",
    "hep.histplot(num_jet/den, \n",
    "             yerr=get_yerr(num_jet,den),\n",
    "             ax = ax,\n",
    "             histtype='errorbar', color='black', capsize=4, elinewidth=1, label=\"Electron jet\",         \n",
    ")\n",
    "hep.histplot(num_extra/den, \n",
    "             yerr=get_yerr(num_extra,den),\n",
    "             ax = ax,\n",
    "             histtype='errorbar', color='orange', capsize=4, elinewidth=1, label=\"Electron extra\",         \n",
    ")\n",
    "# hep.histplot(num_photon/den_photon, \n",
    "#              yerr=get_yerr(num_photon,den_photon),\n",
    "#              ax = ax,\n",
    "#              histtype='errorbar', color='yellow', capsize=4, elinewidth=1, label=\"Photon\",         \n",
    "# )\n",
    "ax.legend()\n",
    "plt.savefig('plots/ele_triggers/ht.pdf');"
   ]
  },
  {
   "cell_type": "code",
   "execution_count": 211,
   "id": "3660c816-a63b-4b16-bdc8-94308f46a197",
   "metadata": {},
   "outputs": [
    {
     "data": {
      "image/png": "[encoded data removed]",
      "text/plain": [
       "<Figure size 432x288 with 1 Axes>"
      ]
     },
     "metadata": {
      "needs_background": "light"
     },
     "output_type": "display_data"
    }
   ],
   "source": [
    "# now we plot trigger efficiency as function of lep_isolation\n",
    "num_nom = hists[\"jet\"][{\"region\":\"numerator\",\"channel\":\"ele\",\"trigger\":\"nominal\", 'ht':sum}]\n",
    "num_vvl = hists[\"jet\"][{\"region\":\"numerator\",\"channel\":\"ele\",\"trigger\":\"vvl\", 'ht':sum}]\n",
    "num_met = hists[\"jet\"][{\"region\":\"numerator\",\"channel\":\"ele\",\"trigger\":\"met\", 'ht':sum}]\n",
    "num_jet = hists[\"jet\"][{\"region\":\"numerator\",\"channel\":\"ele\",\"trigger\":\"jet\", 'ht':sum}]\n",
    "num_extra = hists[\"jet\"][{\"region\":\"numerator\",\"channel\":\"ele\",\"trigger\":\"extra\", 'ht':sum}]\n",
    "\n",
    "den = hists[\"jet\"][{\"region\":\"denominator\",\"channel\":\"ele\",\"trigger\":sum, 'ht':sum}]\n",
    "\n",
    "# num_photon = hists[\"jet\"][{\"region\":\"numerator\",\"channel\":\"photon\",\"trigger\":\"photon\"}]\n",
    "# den_photon = hists[\"jet\"][{\"region\":\"denominator\",\"channel\":\"photon\",\"trigger\":sum}]\n",
    "\n",
    "import matplotlib.pyplot as plt\n",
    "import mplhep as hep\n",
    "from hist.intervals import clopper_pearson_interval\n",
    "def get_yerr(num,den):\n",
    "    return abs(clopper_pearson_interval(num.view(), den.view()) - num.view()/den.view())\n",
    "\n",
    "fig, ax = plt.subplots(1, 1)\n",
    "hep.histplot(num_nom/den, \n",
    "             yerr=get_yerr(num_nom,den),\n",
    "             ax = ax,\n",
    "             histtype='errorbar', color='red', capsize=4, elinewidth=1, label=\"Electron Nominal\",         \n",
    ")\n",
    "hep.histplot(num_vvl/den, \n",
    "             yerr=get_yerr(num_vvl,den),\n",
    "             ax = ax,\n",
    "             histtype='errorbar', color='blue', capsize=4, elinewidth=1, label=\"Electron VVL\",         \n",
    ")\n",
    "hep.histplot(num_met/den, \n",
    "             yerr=get_yerr(num_met,den),\n",
    "             ax = ax,\n",
    "             histtype='errorbar', color='green', capsize=4, elinewidth=1, label=\"Electron MET\",         \n",
    ")\n",
    "hep.histplot(num_jet/den, \n",
    "             yerr=get_yerr(num_jet,den),\n",
    "             ax = ax,\n",
    "             histtype='errorbar', color='black', capsize=4, elinewidth=1, label=\"Electron jet\",         \n",
    ")\n",
    "hep.histplot(num_extra/den, \n",
    "             yerr=get_yerr(num_extra,den),\n",
    "             ax = ax,\n",
    "             histtype='errorbar', color='orange', capsize=4, elinewidth=1, label=\"Electron extra\",         \n",
    ")\n",
    "# hep.histplot(num_photon/den_photon, \n",
    "#              yerr=get_yerr(num_photon,den_photon),\n",
    "#              ax = ax,\n",
    "#              histtype='errorbar', color='yellow', capsize=4, elinewidth=1, label=\"Photon\",         \n",
    "# )\n",
    "ax.legend()\n",
    "plt.savefig('plots/ele_triggers/lepiso.pdf');"
   ]
  },
  {
   "cell_type": "markdown",
   "id": "c0c734c5-65e8-4653-a4f4-4578e318f9fd",
   "metadata": {},
   "source": [
    "## Plotting distribution"
   ]
  },
  {
   "cell_type": "code",
   "execution_count": 151,
   "id": "b592e887-70b9-40c1-812b-97d65efe116c",
   "metadata": {},
   "outputs": [
    {
     "data": {
      "image/png": "[encoded data removed]",
      "text/plain": [
       "<Figure size 432x288 with 1 Axes>"
      ]
     },
     "metadata": {
      "needs_background": "light"
     },
     "output_type": "display_data"
    }
   ],
   "source": [
    "### plotting deltaR distribution\n",
    "plt.hist(deltaR);"
   ]
  },
  {
   "cell_type": "code",
   "execution_count": 71,
   "id": "a256b8e7-384d-428c-a12e-647ba00499de",
   "metadata": {},
   "outputs": [
    {
     "data": {
      "image/png": "[encoded data removed]",
      "text/plain": [
       "<Figure size 432x288 with 1 Axes>"
      ]
     },
     "metadata": {
      "needs_background": "light"
     },
     "output_type": "display_data"
    }
   ],
   "source": [
    "### plotting deltaR distribution\n",
    "deltaR_axis = hist2.axis.Regular(50,0,6, name='deltaR', label=r'deltaR between the lepton and the jet')\n",
    "\n",
    "hists = hist2.Hist(\n",
    "                deltaR_axis,\n",
    "            )\n",
    "# now we can fill the histogram with the denominator (baseline selection already applied)\n",
    "hists.fill(deltaR)\n",
    "hep.histplot(hists.fill(deltaR));"
   ]
  },
  {
   "cell_type": "code",
   "execution_count": 72,
   "id": "bae59ef8-3ee8-4d0a-a1b1-d779dec917e6",
   "metadata": {},
   "outputs": [
    {
     "data": {
      "image/png": "[encoded data removed]",
      "text/plain": [
       "<Figure size 432x288 with 1 Axes>"
      ]
     },
     "metadata": {
      "needs_background": "light"
     },
     "output_type": "display_data"
    }
   ],
   "source": [
    "### plotting deltaR distribution\n",
    "plt.hist(higgspt);"
   ]
  },
  {
   "cell_type": "code",
   "execution_count": 73,
   "id": "64ec5146-9ef8-429e-bc3b-198b9a837ed0",
   "metadata": {},
   "outputs": [
    {
     "data": {
      "image/png": "[encoded data removed]",
      "text/plain": [
       "<Figure size 432x288 with 2 Axes>"
      ]
     },
     "metadata": {
      "needs_background": "light"
     },
     "output_type": "display_data"
    }
   ],
   "source": [
    "### plotting deltaR distribution\n",
    "deltaR_axis = hist2.axis.Regular(50,0,5, name='deltaR', label=r'deltaR between the lepton and the jet')\n",
    "hpt_axis = hist2.axis.Regular(50, 0, 800, name='higgspt_unmatched', label=r'unmatched H $p_T$ [GeV]')\n",
    "\n",
    "hists = hist2.Hist(\n",
    "                deltaR_axis,\n",
    "                hpt_axis,\n",
    "            )\n",
    "# now we can fill the histogram with the denominator (baseline selection already applied)\n",
    "hists.fill(deltaR, higgspt_unmatched)\n",
    "fig, ax = plt.subplots(1, 1)\n",
    "hep.hist2dplot(hists, labels=False)\n",
    "plt.savefig('plots/unmatchedhiggs_vs_deltaR.pdf');"
   ]
  },
  {
   "cell_type": "code",
   "execution_count": 74,
   "id": "1039eed6-f102-4229-832b-cee3ee95a2ab",
   "metadata": {},
   "outputs": [],
   "source": [
    "higgspt = skimmed_events_ele[\"higgspt\"]\n",
    "higgspt_unmatched = skimmed_events_ele[\"higgspt_unmatched\"]\n",
    "\n",
    "jetpt = skimmed_events_ele[\"fj_pt\"]\n",
    "leppt = skimmed_events_ele[\"lep_pt\"]\n",
    "deltaR = skimmed_events_ele[\"fj_lep_dR\"]"
   ]
  },
  {
   "cell_type": "code",
   "execution_count": 75,
   "id": "1af1d0dd-881b-49e6-bf1a-56de3d22f327",
   "metadata": {},
   "outputs": [
    {
     "data": {
      "text/plain": [
       "array([2.46007943, 0.34411657, 3.3775034 , ..., 3.07294774, 0.13371871,\n",
       "       0.12738205])"
      ]
     },
     "execution_count": 75,
     "metadata": {},
     "output_type": "execute_result"
    }
   ],
   "source": [
    "deltaR"
   ]
  },
  {
   "cell_type": "code",
   "execution_count": 76,
   "id": "93dda5c1-2fed-4eb4-81d0-f770f4737adf",
   "metadata": {},
   "outputs": [
    {
     "data": {
      "text/plain": [
       "20.8125"
      ]
     },
     "execution_count": 76,
     "metadata": {},
     "output_type": "execute_result"
    }
   ],
   "source": [
    "higgspt_unmatched[deltaR<1.5].min()"
   ]
  },
  {
   "cell_type": "code",
   "execution_count": null,
   "id": "cbda4441-55b0-4ac0-8ed0-71c20c283559",
   "metadata": {},
   "outputs": [],
   "source": []
  },
  {
   "cell_type": "code",
   "execution_count": null,
   "id": "28b49384-470a-48cb-a74b-dd52c4e16e4d",
   "metadata": {},
   "outputs": [],
   "source": []
  }
 ],
 "metadata": {
  "kernelspec": {
   "display_name": "Python 3 (ipykernel)",
   "language": "python",
   "name": "python3"
  },
  "language_info": {
   "codemirror_mode": {
    "name": "ipython",
    "version": 3
   },
   "file_extension": ".py",
   "mimetype": "text/x-python",
   "name": "python",
   "nbconvert_exporter": "python",
   "pygments_lexer": "ipython3",
   "version": "3.8.12"
  }
 },
 "nbformat": 4,
 "nbformat_minor": 5
}
