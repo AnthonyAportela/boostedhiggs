{
 "cells": [
  {
   "cell_type": "code",
   "execution_count": 1,
   "metadata": {},
   "outputs": [],
   "source": [
    "from coffea import processor, util\n",
    "\n",
    "%matplotlib inline\n",
    "import matplotlib.pyplot as plt"
   ]
  },
  {
   "cell_type": "code",
   "execution_count": 2,
   "metadata": {},
   "outputs": [],
   "source": [
    "import numpy as np\n",
    "from coffea import processor,hist\n",
    "from uproot_methods import TLorentzVectorArray\n",
    "from boostedhiggs.common import getParticles\n",
    "import warnings\n",
    "import awkward\n",
    "import os"
   ]
  },
  {
   "cell_type": "code",
   "execution_count": 3,
   "metadata": {},
   "outputs": [],
   "source": [
    "class HwwProcessor_Trig(processor.ProcessorABC):\n",
    "    def __init__(self, year):\n",
    "        self._year = year\n",
    "        self._triggers = {\n",
    "            '2017_had': [\n",
    "                \"AK8PFJet330_PFAK8BTagCSV_p17\",\n",
    "                \"PFHT1050\",\n",
    "                \"AK8PFJet400_TrimMass30\",\n",
    "                \"AK8PFJet420_TrimMass30\",\n",
    "                \"AK8PFHT800_TrimMass50\",\n",
    "                \"PFJet500\",\n",
    "                \"AK8PFJet500\",\n",
    "                ],\n",
    "            '2017_muon': [\n",
    "                \"Mu50\",\"Mu55\"\n",
    "                ],\n",
    "            '2017_vvlmuon':[\n",
    "                \"Mu15_IsoVVVL_PFHT450_PFMET50\",\"Mu15_IsoVVVL_PFHT600\",\n",
    "                ],\n",
    "            '2017_electron': [\n",
    "                \"Ele27_WPTight_Gsf\",\"Ele40_WPTight_Gsf\",\"Ele20_WPLoose_Gsf\",\n",
    "                \"Ele115_CaloIdVT_GsfTrkIdT\"],\n",
    "            '2017_vvlelectron': [\n",
    "                \"Ele15_IsoVVVL_PFHT450_PFMET50\",\"Ele15_IsoVVVL_PFHT600\",\n",
    "                ],\n",
    "            '2017_met':[\n",
    "                \"PFMETNoMu110_PFMHTNoMu110_IDTight\",\n",
    "                \"PFMETNoMu120_PFMHTNoMu120_IDTight_PFHT60\",\n",
    "                \"PFMETNoMu120_PFMHTNoMu120_IDTight\",\n",
    "                ],\n",
    "            }\n",
    "\n",
    "        self._triggers['2017_muonall'] = self._triggers['2017_muon']+self._triggers['2017_had']+self._triggers['2017_met']+self._triggers['2017_vvlmuon']\n",
    "        self._triggers['2017_electronall'] = self._triggers['2017_electron']+self._triggers['2017_had']+self._triggers['2017_met']+self._triggers['2017_vvlelectron']\n",
    "\n",
    "        self._triggers['2017_muonnomet'] = self._triggers['2017_muon']+self._triggers['2017_had']+self._triggers['2017_vvlmuon']\n",
    "        self._triggers['2017_electronnomet'] = self._triggers['2017_electron']+self._triggers['2017_had']+self._triggers['2017_vvlelectron']\n",
    "\n",
    "    \n",
    "        dataset_axis = hist.Cat(\"dataset\", \"Primary dataset\")\n",
    "        jetpt_axis = hist.Bin(\"jet_pt\", r\"Jet $p_T$\", 30, 250, 800)\n",
    "        genHpt_axis = hist.Bin(\"genH_pt\", r\"gen Higgs $p_T$\",30, 250, 800)\n",
    "        genElept_axis = hist.Bin(\"genEle_pt\", r\"gen Electron $p_T$\",30, 10, 70)\n",
    "        genMupt_axis = hist.Bin(\"genMu_pt\", r\"gen Muon $p_T$\",30, 10, 70)\n",
    "\n",
    "        hists = processor.dict_accumulator()\n",
    "        hist.Hist.DEFAULT_DTYPE = 'f'\n",
    "        hists['sumw'] = processor.defaultdict_accumulator(int)\n",
    "        hists['cutflow_ele'] = processor.defaultdict_accumulator(float)\n",
    "        hists['cutflow_muon'] = processor.defaultdict_accumulator(float)\n",
    "        for sel in ['presel','noniso']:\n",
    "            hists['Ele'+sel] = hist.Hist(\"Events / GeV\",\n",
    "                                          dataset_axis,\n",
    "                                          jetpt_axis,\n",
    "                                          genHpt_axis,\n",
    "                                          genElept_axis,\n",
    "                                          )\n",
    "            hists['Mu'+sel] = hist.Hist(\"Events / GeV\",\n",
    "                                         dataset_axis,\n",
    "                                         jetpt_axis,\n",
    "                                         genHpt_axis,\n",
    "                                         genMupt_axis,\n",
    "                                         )\n",
    "            for key in self._triggers.keys():\n",
    "                key = sel+'_'+key.replace('_','')\n",
    "                hists['Ele'+key] = hist.Hist(\"Events / GeV\",\n",
    "                                             dataset_axis,\n",
    "                                             jetpt_axis,\n",
    "                                             genHpt_axis,\n",
    "                                             genElept_axis,\n",
    "                                             )\n",
    "                hists['Mu'+key] = hist.Hist(\"Events / GeV\",\n",
    "                                            dataset_axis,\n",
    "                                            jetpt_axis,\n",
    "                                            genHpt_axis,\n",
    "                                            genMupt_axis,\n",
    "                                            )\n",
    "        self._accumulator = hists\n",
    "\n",
    "    @property\n",
    "    def accumulator(self):\n",
    "        return self._accumulator\n",
    "\n",
    "    def process(self, events):\n",
    "        dataset = events.metadata['dataset']\n",
    "        output = self.accumulator.identity()\n",
    "        selection = processor.PackedSelection()\n",
    "        output = self.accumulator.identity()\n",
    "\n",
    "        # trigger                                                                                                                                                                    \n",
    "        for key,item in self._triggers.items():\n",
    "            trigger = np.zeros(events.size, dtype='bool')\n",
    "            for t in item:\n",
    "                trigger = trigger | events.HLT[t]\n",
    "            selection.add(key, trigger)\n",
    "\n",
    "        # Muons                                                                                                                                                                      \n",
    "        goodMuon = (\n",
    "            (events.Muon.pt > 20.)\n",
    "            & (np.abs(events.Muon.eta) < 2.4)\n",
    "            )\n",
    "        nmuons = goodMuon.sum()\n",
    "\n",
    "        # one Muon                                                                                                                                                                   \n",
    "        selection.add('onemuon', (nmuons >= 1))\n",
    "\n",
    "        # Electrons                                                                                                                                                                  \n",
    "        goodElectron = (\n",
    "            (events.Electron.pt > 20.)\n",
    "            & (np.abs(events.Electron.eta) < 2.5)\n",
    "            )\n",
    "        nelectrons = goodElectron.sum()\n",
    "\n",
    "        # one Electron                                                                                                                                                               \n",
    "        selection.add('oneelectron', (nelectrons >= 1))\n",
    "        \n",
    "        # select FatJet with muon closest                                                                                                                                            \n",
    "        goodFatJet = (\n",
    "            (events.FatJet.pt > 300.)\n",
    "            & (np.abs(events.FatJet.eta) < 2.4)\n",
    "            & (events.FatJet.msoftdrop > 10.)\n",
    "            & (events.FatJet.jetId & 2)\n",
    "            )\n",
    "        leadingmuon = events.Muon[goodMuon][:, 0:1]\n",
    "        leadingele = events.Electron[goodElectron][:, 0:1]\n",
    "        leadingjet = events.FatJet[goodFatJet][:,0:1]\n",
    "\n",
    "        selection.add('jetkin', (leadingjet.pt > 300).any())\n",
    "        selection.add('nonisomuon', (leadingmuon.pt > 50).any())\n",
    "        selection.add('nonisoelectron', (leadingmuon.pt > 115).any())\n",
    "\n",
    "        # gen matching                                                                                                                                                               \n",
    "        genH,genH_idx = getParticles(events,25,['fromHardProcess', 'isLastCopy'])\n",
    "        genW,genW_idx = getParticles(events,24,['fromHardProcess', 'isLastCopy'])\n",
    "        genE,genE_idx = getParticles(events,11,['fromHardProcess','isFirstCopy'],1)\n",
    "        genM,genM_idx = getParticles(events,13,['fromHardProcess','isFirstCopy'],1)\n",
    "        genT,genT_idx = getParticles(events,15,['fromHardProcess','isFirstCopy'],1)\n",
    "        genQ,genQ_idx = getParticles(events,[0,5],['fromHardProcess','isFirstCopy'])\n",
    "\n",
    "        ishWW_qqelev = (genH.counts==1) & (genW.counts==2) & (genE.counts==1) & (genM.counts==0) & (genT.counts==0)\n",
    "        ishWW_qqmuv = (genH.counts==1) & (genW.counts==2) & (genM.counts==1) & (genE.counts==0) & (genT.counts==0)\n",
    "        ishWW_qqtauv = (genH.counts==1) & (genW.counts==2) & (genT.counts==1) & (genM.counts==0) & (genE.counts==0)\n",
    "        ishWW_qqqq = (genH.counts==1) & (genW.counts==2) & (genQ.counts==4)  & (genM.counts==0) & (genE.counts==0)\n",
    "        ishWW_muvelev = (genH.counts==1) & (genW.counts==2) & (genE.counts==1) & (genM.counts==1)\n",
    "        ishWW_elevelev = (genH.counts==1) & (genW.counts==2) & (genE.counts==2) & (genM.counts==0)\n",
    "        ishWW_tauvtauv = (genH.counts==1) & (genW.counts==2) & (genT.counts==2) & (genM.counts==0) & (genE.counts==0)\n",
    "        ishWW_muvmuv = (genH.counts==1) & (genW.counts==2) & (genE.counts==0) & (genM.counts==2)\n",
    "\n",
    "        selection.add('genEle',ishWW_qqelev)\n",
    "        selection.add('genMu',ishWW_qqmuv)\n",
    "        \n",
    "        regions = {}\n",
    "        for key in self._triggers.keys():\n",
    "            regions[key.replace('_','')] = {key}\n",
    "        regions['Elepresel'] = {'jetkin', 'oneelectron','genEle'}\n",
    "        regions['Mupresel'] = {'jetkin', 'onemuon','genMu'}\n",
    "        regions['Elenoniso'] = {'jetkin', 'oneelectron','genEle','nonisoelectron'}\n",
    "        regions['Munoniso'] = {'jetkin', 'onemuon','genMu','nonisomuon'}\n",
    "\n",
    "        #cutflow                                                                                                                                                                     \n",
    "        cutflow_ele = ['genEle', 'jetkin', 'oneelectron', 'nonisoelectron']\n",
    "        cutflow_mu = ['genMu', 'jetkin', 'onemuon', 'nonisomuon']\n",
    "        allcuts = set()\n",
    "        output['cutflow_ele']['none'] += len(events)\n",
    "        output['cutflow_muon']['none'] += len(events)\n",
    "        for cut in cutflow_ele:\n",
    "            allcuts.add(cut)\n",
    "            output['cutflow_ele'][cut] += selection.all(*allcuts).sum()\n",
    "        allcuts = set()\n",
    "        for cut in cutflow_mu:\n",
    "            allcuts.add(cut)\n",
    "            output['cutflow_muon'][cut] += selection.all(*allcuts).sum()\n",
    "        \n",
    "        weights = processor.Weights(len(events))\n",
    "        weights.add('genweight', events.genWeight)\n",
    "        \n",
    "        for histname, h in output.items():\n",
    "            if not isinstance(h, hist.Hist):\n",
    "                continue\n",
    "            region = []\n",
    "            for r in regions.keys():\n",
    "                if len(histname.split('_'))> 2:\n",
    "                    histname2 = histname\n",
    "                else:\n",
    "                    histname2 = histname.split('_')\n",
    "                if r in histname2:\n",
    "                    region.extend(regions[r])\n",
    "            cut = selection.all(*region)\n",
    "            weight = np.ones(events.size, dtype='bool')\n",
    "            #weight = weights.weight()\n",
    "            #weight = cut\n",
    "            \n",
    "            def normalize(val):\n",
    "                return val.pad(1, clip=True).fillna(0).flatten()\n",
    "\n",
    "            if 'Mu' in histname:\n",
    "                h.fill(\n",
    "                    jet_pt = normalize(leadingjet.pt),\n",
    "                    genH_pt = normalize(genH.pt),\n",
    "                    genMu_pt = normalize(genM.pt),\n",
    "                    dataset=dataset,\n",
    "                    weight=weight*cut)\n",
    "            else:\n",
    "                h.fill(\n",
    "                    jet_pt = normalize(leadingjet.pt),\n",
    "                    genH_pt = normalize(genH.pt),\n",
    "                    genEle_pt = normalize(genE.pt),\n",
    "                    dataset=dataset,\n",
    "                    weight=weight*cut)\n",
    "\n",
    "        return output\n",
    "    \n",
    "    def postprocess(self, accumulator):\n",
    "        return accumulator"
   ]
  },
  {
   "cell_type": "code",
   "execution_count": 4,
   "metadata": {},
   "outputs": [
    {
     "data": {
      "application/vnd.jupyter.widget-view+json": {
       "model_id": "991b698b687c4c53ad2a281275bf8583",
       "version_major": 2,
       "version_minor": 0
      },
      "text/plain": [
       "HBox(children=(FloatProgress(value=0.0, description='Preprocessing', max=1.0, style=ProgressStyle(description_…"
      ]
     },
     "metadata": {},
     "output_type": "display_data"
    },
    {
     "name": "stdout",
     "output_type": "stream",
     "text": [
      "\n"
     ]
    },
    {
     "data": {
      "application/vnd.jupyter.widget-view+json": {
       "model_id": "2e246e215d1f40d296998df63bb66c43",
       "version_major": 2,
       "version_minor": 0
      },
      "text/plain": [
       "HBox(children=(FloatProgress(value=0.0, description='Processing', max=3.0, style=ProgressStyle(description_wid…"
      ]
     },
     "metadata": {},
     "output_type": "display_data"
    },
    {
     "name": "stdout",
     "output_type": "stream",
     "text": [
      "\n",
      "Events / s / thread: 3648\n",
      "Columns accessed: {'GenPart_status', 'HLT_Ele20_WPLoose_Gsf', 'nElectron', 'nMuon', 'GenPart_pt', 'HLT_AK8PFJet330_PFAK8BTagCSV_p17', 'HLT_Ele40_WPTight_Gsf', 'Muon_pt', 'HLT_PFMETNoMu120_PFMHTNoMu120_IDTight_PFHT60', 'HLT_Mu50', 'genWeight', 'FatJet_msoftdrop', 'HLT_Ele27_WPTight_Gsf', 'HLT_Ele115_CaloIdVT_GsfTrkIdT', 'HLT_AK8PFJet420_TrimMass30', 'HLT_Ele15_IsoVVVL_PFHT600', 'HLT_Mu55', 'FatJet_pt', 'GenPart_statusFlags', 'HLT_AK8PFJet500', 'GenPart_pdgId', 'FatJet_jetId', 'HLT_AK8PFJet400_TrimMass30', 'nGenPart', 'HLT_Mu15_IsoVVVL_PFHT450_PFMET50', 'FatJet_eta', 'HLT_Mu15_IsoVVVL_PFHT600', 'HLT_PFHT1050', 'HLT_PFMETNoMu110_PFMHTNoMu110_IDTight', 'HLT_PFMETNoMu120_PFMHTNoMu120_IDTight', 'HLT_PFJet500', 'Muon_eta', 'nFatJet', 'Electron_eta', 'HLT_Ele15_IsoVVVL_PFHT450_PFMET50', 'HLT_AK8PFHT800_TrimMass50', 'Electron_pt'}\n"
     ]
    }
   ],
   "source": [
    "files = {\n",
    "    #'GluGluHToWWToLNuQQ_M125_TuneCP5_PSweight_13TeV-powheg2-jhugen727-pythia8': [\n",
    "    #    'data/GluGluHToWWToLNuQQ_M125_TuneCP5_PSweight_13TeV-powheg2-jhugen727-pythia8-hadd/nano_mc_2017_0.root',\n",
    "    #    'data/GluGluHToWWToLNuQQ_M125_TuneCP5_PSweight_13TeV-powheg2-jhugen727-pythia8-hadd/nano_mc_2017_1.root',\n",
    "    #    'data/GluGluHToWWToLNuQQ_M125_TuneCP5_PSweight_13TeV-powheg2-jhugen727-pythia8-hadd/nano_mc_2017_2.root',\n",
    "    #    'data/GluGluHToWWToLNuQQ_M125_TuneCP5_PSweight_13TeV-powheg2-jhugen727-pythia8-hadd/nano_mc_2017_3.root',\n",
    "    #    'data/GluGluHToWWToLNuQQ_M125_TuneCP5_PSweight_13TeV-powheg2-jhugen727-pythia8-hadd/nano_mc_2017_4.root',\n",
    "    #    'data/GluGluHToWWToLNuQQ_M125_TuneCP5_PSweight_13TeV-powheg2-jhugen727-pythia8-hadd/nano_mc_2017_5.root',\n",
    "    #    'data/GluGluHToWWToLNuQQ_M125_TuneCP5_PSweight_13TeV-powheg2-jhugen727-pythia8-hadd/nano_mc_2017_6.root',\n",
    "    #    'data/GluGluHToWWToLNuQQ_M125_TuneCP5_PSweight_13TeV-powheg2-jhugen727-pythia8-hadd/nano_mc_2017_7.root',\n",
    "    #    'data/GluGluHToWWToLNuQQ_M125_TuneCP5_PSweight_13TeV-powheg2-jhugen727-pythia8-hadd/nano_mc_2017_8.root',\n",
    "    #    'data/GluGluHToWWToLNuQQ_M125_TuneCP5_PSweight_13TeV-powheg2-jhugen727-pythia8-hadd/nano_mc_2017_9.root'\n",
    "    #],\n",
    "    'gghww': ['data/hww_2017mc_UL-hadd/nano_RunIISummer19UL17MiniAOD_Feb10.root']\n",
    "}\n",
    "\n",
    "p = HwwProcessor_Trig(year='2017')\n",
    "\n",
    "exe_config = {\n",
    "    'flatten': True,\n",
    "    'workers': 4,\n",
    "    'savemetrics': True,\n",
    "    'compression': 0,\n",
    "    'nano': True,\n",
    "}\n",
    "\n",
    "from pyinstrument import Profiler\n",
    "profiler = Profiler()\n",
    "profiler.start()\n",
    "output, metrics = processor.run_uproot_job(files, 'Events', p, processor.iterative_executor, exe_config)\n",
    "profiler.stop()\n",
    "\n",
    "evtrate = metrics['entries'].value / metrics['processtime'].value\n",
    "print(\"Events / s / thread: %.0f\" % evtrate)\n",
    "print(\"Columns accessed:\", set(metrics['columns']))"
   ]
  },
  {
   "cell_type": "code",
   "execution_count": 5,
   "metadata": {},
   "outputs": [
    {
     "name": "stderr",
     "output_type": "stream",
     "text": [
      "/Users/cristina/Library/Python/3.6/lib/python/site-packages/coffea/hist/hist_tools.py:346: RuntimeWarning: Not all requested indices present in <Cat (name=dataset) instance at 0x11ca5a9b0>\n",
      "  warnings.warn(\"Not all requested indices present in %r\" % self, RuntimeWarning)\n"
     ]
    }
   ],
   "source": [
    "from boostedhiggs import processmap\n",
    "hists_unmapped = output\n",
    "hists_mapped = {}\n",
    "for key, val in hists_unmapped.items():\n",
    "    if isinstance(val, hist.Hist):\n",
    "        hists_mapped[key] = processmap.apply(val)"
   ]
  },
  {
   "cell_type": "code",
   "execution_count": 6,
   "metadata": {},
   "outputs": [],
   "source": [
    "def drawExcept(h,axis_label,fig_lab='',overlay_label=None,title_lab=None,integrate_sel=None):\n",
    "    h1 = h\n",
    "    axisDict = {axis_label}\n",
    "    if overlay_label is not None:\n",
    "        axisDict = {axis_label,overlay_label}\n",
    "    if integrate_sel is not None:\n",
    "        h1 = h.integrate(integrate_sel[0],integrate_sel[1])\n",
    "    all_bkg=0\n",
    "    for key1,val1 in h1.values().items():\n",
    "        all_bkg+=val1.sum()\n",
    "    print(all_bkg)\n",
    "    fig,axis = plt.subplots(1,1, figsize=(8,8))\n",
    "    hist.plot1d(h1.sum(*[ax for ax in h1.axes() if ax.name not in axisDict]),overlay=overlay_label,ax=axis)\n",
    "    if title_lab is not None:\n",
    "        leg = ax.get_legend()\n",
    "        leg.set_title(title_lab)\n",
    "    fig.savefig(\"plots/%s%s.pdf\"%(fig_lab,axis_label))\n",
    "    #plt.show()\n",
    "    plt.clf()"
   ]
  },
  {
   "cell_type": "code",
   "execution_count": 7,
   "metadata": {},
   "outputs": [],
   "source": [
    "def drawEfficiency(hnum,hdenom,axis_label,fig_lab='',title='',odir=''):\n",
    "    data_err_opts = {\n",
    "    'linestyle':'none',\n",
    "    'marker': '.',\n",
    "    'markersize': 10.,\n",
    "    'color':'k',\n",
    "    'elinewidth': 1,\n",
    "    'emarker': '_'\n",
    "    }\n",
    "    axisDict = {axis_label}\n",
    "    fig,axis = plt.subplots(1,1, figsize=(8,8))\n",
    "    hist.plotratio(num=hnum.sum(*[ax for ax in hnum.axes() if ax.name not in axisDict]),\n",
    "                   denom=hdenom.sum(*[ax for ax in hdenom.axes() if ax.name not in axisDict]),\n",
    "                   error_opts=data_err_opts,\n",
    "                   guide_opts={},\n",
    "                   ax=axis,\n",
    "                   #unc='poisson-ratio')\n",
    "                   unc='clopper-pearson')                                                                                                                                \n",
    "    axis.set_ylim(0.2,1.2)\n",
    "    axis.set_title(title)\n",
    "    fig.savefig(\"%s/triggereff_%s.pdf\"%(odir,fig_lab))\n",
    "    #plt.show()\n",
    "    plt.clf()"
   ]
  },
  {
   "cell_type": "code",
   "execution_count": 8,
   "metadata": {},
   "outputs": [
    {
     "name": "stderr",
     "output_type": "stream",
     "text": [
      "/Users/cristina/Library/Python/3.6/lib/python/site-packages/mplhep/__init__.py:49: MatplotlibDeprecationWarning: \n",
      "The createFontList function was deprecated in Matplotlib 3.2 and will be removed two minor releases later. Use FontManager.addfont instead.\n",
      "  font_list = fm.createFontList(font_files)\n",
      "/Users/cristina/Library/Python/3.6/lib/python/site-packages/coffea/hist/plot.py:359: RuntimeWarning: invalid value encountered in true_divide\n",
      "  rsumw = sumw_num / sumw_denom\n",
      "/Users/cristina/Library/Python/3.6/lib/python/site-packages/coffea/hist/plot.py:359: RuntimeWarning: invalid value encountered in true_divide\n",
      "  rsumw = sumw_num / sumw_denom\n",
      "/Users/cristina/Library/Python/3.6/lib/python/site-packages/coffea/hist/plot.py:359: RuntimeWarning: invalid value encountered in true_divide\n",
      "  rsumw = sumw_num / sumw_denom\n",
      "/Users/cristina/Library/Python/3.6/lib/python/site-packages/coffea/hist/plot.py:359: RuntimeWarning: invalid value encountered in true_divide\n",
      "  rsumw = sumw_num / sumw_denom\n",
      "/Users/cristina/Library/Python/3.6/lib/python/site-packages/coffea/hist/plot.py:359: RuntimeWarning: invalid value encountered in true_divide\n",
      "  rsumw = sumw_num / sumw_denom\n",
      "/Users/cristina/Library/Python/3.6/lib/python/site-packages/coffea/hist/plot.py:359: RuntimeWarning: invalid value encountered in true_divide\n",
      "  rsumw = sumw_num / sumw_denom\n",
      "/Users/cristina/Library/Python/3.6/lib/python/site-packages/ipykernel_launcher.py:11: RuntimeWarning: More than 20 figures have been opened. Figures created through the pyplot interface (`matplotlib.pyplot.figure`) are retained until explicitly closed and may consume too much memory. (To control this warning, see the rcParam `figure.max_open_warning`).\n",
      "  # This is added back by InteractiveShellApp.init_path()\n",
      "/Users/cristina/Library/Python/3.6/lib/python/site-packages/coffea/hist/plot.py:359: RuntimeWarning: invalid value encountered in true_divide\n",
      "  rsumw = sumw_num / sumw_denom\n",
      "/Users/cristina/Library/Python/3.6/lib/python/site-packages/ipykernel_launcher.py:11: RuntimeWarning: More than 20 figures have been opened. Figures created through the pyplot interface (`matplotlib.pyplot.figure`) are retained until explicitly closed and may consume too much memory. (To control this warning, see the rcParam `figure.max_open_warning`).\n",
      "  # This is added back by InteractiveShellApp.init_path()\n",
      "/Users/cristina/Library/Python/3.6/lib/python/site-packages/ipykernel_launcher.py:11: RuntimeWarning: More than 20 figures have been opened. Figures created through the pyplot interface (`matplotlib.pyplot.figure`) are retained until explicitly closed and may consume too much memory. (To control this warning, see the rcParam `figure.max_open_warning`).\n",
      "  # This is added back by InteractiveShellApp.init_path()\n",
      "/Users/cristina/Library/Python/3.6/lib/python/site-packages/ipykernel_launcher.py:11: RuntimeWarning: More than 20 figures have been opened. Figures created through the pyplot interface (`matplotlib.pyplot.figure`) are retained until explicitly closed and may consume too much memory. (To control this warning, see the rcParam `figure.max_open_warning`).\n",
      "  # This is added back by InteractiveShellApp.init_path()\n",
      "/Users/cristina/Library/Python/3.6/lib/python/site-packages/coffea/hist/plot.py:359: RuntimeWarning: invalid value encountered in true_divide\n",
      "  rsumw = sumw_num / sumw_denom\n",
      "/Users/cristina/Library/Python/3.6/lib/python/site-packages/ipykernel_launcher.py:11: RuntimeWarning: More than 20 figures have been opened. Figures created through the pyplot interface (`matplotlib.pyplot.figure`) are retained until explicitly closed and may consume too much memory. (To control this warning, see the rcParam `figure.max_open_warning`).\n",
      "  # This is added back by InteractiveShellApp.init_path()\n",
      "/Users/cristina/Library/Python/3.6/lib/python/site-packages/ipykernel_launcher.py:11: RuntimeWarning: More than 20 figures have been opened. Figures created through the pyplot interface (`matplotlib.pyplot.figure`) are retained until explicitly closed and may consume too much memory. (To control this warning, see the rcParam `figure.max_open_warning`).\n",
      "  # This is added back by InteractiveShellApp.init_path()\n",
      "/Users/cristina/Library/Python/3.6/lib/python/site-packages/ipykernel_launcher.py:11: RuntimeWarning: More than 20 figures have been opened. Figures created through the pyplot interface (`matplotlib.pyplot.figure`) are retained until explicitly closed and may consume too much memory. (To control this warning, see the rcParam `figure.max_open_warning`).\n",
      "  # This is added back by InteractiveShellApp.init_path()\n",
      "/Users/cristina/Library/Python/3.6/lib/python/site-packages/coffea/hist/plot.py:359: RuntimeWarning: invalid value encountered in true_divide\n",
      "  rsumw = sumw_num / sumw_denom\n",
      "/Users/cristina/Library/Python/3.6/lib/python/site-packages/ipykernel_launcher.py:11: RuntimeWarning: More than 20 figures have been opened. Figures created through the pyplot interface (`matplotlib.pyplot.figure`) are retained until explicitly closed and may consume too much memory. (To control this warning, see the rcParam `figure.max_open_warning`).\n",
      "  # This is added back by InteractiveShellApp.init_path()\n",
      "/Users/cristina/Library/Python/3.6/lib/python/site-packages/ipykernel_launcher.py:11: RuntimeWarning: More than 20 figures have been opened. Figures created through the pyplot interface (`matplotlib.pyplot.figure`) are retained until explicitly closed and may consume too much memory. (To control this warning, see the rcParam `figure.max_open_warning`).\n",
      "  # This is added back by InteractiveShellApp.init_path()\n",
      "/Users/cristina/Library/Python/3.6/lib/python/site-packages/ipykernel_launcher.py:11: RuntimeWarning: More than 20 figures have been opened. Figures created through the pyplot interface (`matplotlib.pyplot.figure`) are retained until explicitly closed and may consume too much memory. (To control this warning, see the rcParam `figure.max_open_warning`).\n",
      "  # This is added back by InteractiveShellApp.init_path()\n",
      "/Users/cristina/Library/Python/3.6/lib/python/site-packages/coffea/hist/plot.py:359: RuntimeWarning: invalid value encountered in true_divide\n",
      "  rsumw = sumw_num / sumw_denom\n",
      "/Users/cristina/Library/Python/3.6/lib/python/site-packages/ipykernel_launcher.py:11: RuntimeWarning: More than 20 figures have been opened. Figures created through the pyplot interface (`matplotlib.pyplot.figure`) are retained until explicitly closed and may consume too much memory. (To control this warning, see the rcParam `figure.max_open_warning`).\n",
      "  # This is added back by InteractiveShellApp.init_path()\n",
      "/Users/cristina/Library/Python/3.6/lib/python/site-packages/ipykernel_launcher.py:11: RuntimeWarning: More than 20 figures have been opened. Figures created through the pyplot interface (`matplotlib.pyplot.figure`) are retained until explicitly closed and may consume too much memory. (To control this warning, see the rcParam `figure.max_open_warning`).\n",
      "  # This is added back by InteractiveShellApp.init_path()\n",
      "/Users/cristina/Library/Python/3.6/lib/python/site-packages/ipykernel_launcher.py:11: RuntimeWarning: More than 20 figures have been opened. Figures created through the pyplot interface (`matplotlib.pyplot.figure`) are retained until explicitly closed and may consume too much memory. (To control this warning, see the rcParam `figure.max_open_warning`).\n",
      "  # This is added back by InteractiveShellApp.init_path()\n",
      "/Users/cristina/Library/Python/3.6/lib/python/site-packages/coffea/hist/plot.py:359: RuntimeWarning: invalid value encountered in true_divide\n",
      "  rsumw = sumw_num / sumw_denom\n",
      "/Users/cristina/Library/Python/3.6/lib/python/site-packages/ipykernel_launcher.py:11: RuntimeWarning: More than 20 figures have been opened. Figures created through the pyplot interface (`matplotlib.pyplot.figure`) are retained until explicitly closed and may consume too much memory. (To control this warning, see the rcParam `figure.max_open_warning`).\n",
      "  # This is added back by InteractiveShellApp.init_path()\n",
      "/Users/cristina/Library/Python/3.6/lib/python/site-packages/ipykernel_launcher.py:11: RuntimeWarning: More than 20 figures have been opened. Figures created through the pyplot interface (`matplotlib.pyplot.figure`) are retained until explicitly closed and may consume too much memory. (To control this warning, see the rcParam `figure.max_open_warning`).\n",
      "  # This is added back by InteractiveShellApp.init_path()\n"
     ]
    },
    {
     "name": "stderr",
     "output_type": "stream",
     "text": [
      "/Users/cristina/Library/Python/3.6/lib/python/site-packages/ipykernel_launcher.py:11: RuntimeWarning: More than 20 figures have been opened. Figures created through the pyplot interface (`matplotlib.pyplot.figure`) are retained until explicitly closed and may consume too much memory. (To control this warning, see the rcParam `figure.max_open_warning`).\n",
      "  # This is added back by InteractiveShellApp.init_path()\n",
      "/Users/cristina/Library/Python/3.6/lib/python/site-packages/coffea/hist/plot.py:359: RuntimeWarning: invalid value encountered in true_divide\n",
      "  rsumw = sumw_num / sumw_denom\n",
      "/Users/cristina/Library/Python/3.6/lib/python/site-packages/ipykernel_launcher.py:11: RuntimeWarning: More than 20 figures have been opened. Figures created through the pyplot interface (`matplotlib.pyplot.figure`) are retained until explicitly closed and may consume too much memory. (To control this warning, see the rcParam `figure.max_open_warning`).\n",
      "  # This is added back by InteractiveShellApp.init_path()\n",
      "/Users/cristina/Library/Python/3.6/lib/python/site-packages/ipykernel_launcher.py:11: RuntimeWarning: More than 20 figures have been opened. Figures created through the pyplot interface (`matplotlib.pyplot.figure`) are retained until explicitly closed and may consume too much memory. (To control this warning, see the rcParam `figure.max_open_warning`).\n",
      "  # This is added back by InteractiveShellApp.init_path()\n",
      "/Users/cristina/Library/Python/3.6/lib/python/site-packages/ipykernel_launcher.py:11: RuntimeWarning: More than 20 figures have been opened. Figures created through the pyplot interface (`matplotlib.pyplot.figure`) are retained until explicitly closed and may consume too much memory. (To control this warning, see the rcParam `figure.max_open_warning`).\n",
      "  # This is added back by InteractiveShellApp.init_path()\n",
      "/Users/cristina/Library/Python/3.6/lib/python/site-packages/coffea/hist/plot.py:359: RuntimeWarning: invalid value encountered in true_divide\n",
      "  rsumw = sumw_num / sumw_denom\n",
      "/Users/cristina/Library/Python/3.6/lib/python/site-packages/ipykernel_launcher.py:11: RuntimeWarning: More than 20 figures have been opened. Figures created through the pyplot interface (`matplotlib.pyplot.figure`) are retained until explicitly closed and may consume too much memory. (To control this warning, see the rcParam `figure.max_open_warning`).\n",
      "  # This is added back by InteractiveShellApp.init_path()\n",
      "/Users/cristina/Library/Python/3.6/lib/python/site-packages/ipykernel_launcher.py:11: RuntimeWarning: More than 20 figures have been opened. Figures created through the pyplot interface (`matplotlib.pyplot.figure`) are retained until explicitly closed and may consume too much memory. (To control this warning, see the rcParam `figure.max_open_warning`).\n",
      "  # This is added back by InteractiveShellApp.init_path()\n",
      "/Users/cristina/Library/Python/3.6/lib/python/site-packages/ipykernel_launcher.py:11: RuntimeWarning: More than 20 figures have been opened. Figures created through the pyplot interface (`matplotlib.pyplot.figure`) are retained until explicitly closed and may consume too much memory. (To control this warning, see the rcParam `figure.max_open_warning`).\n",
      "  # This is added back by InteractiveShellApp.init_path()\n",
      "/Users/cristina/Library/Python/3.6/lib/python/site-packages/coffea/hist/plot.py:359: RuntimeWarning: invalid value encountered in true_divide\n",
      "  rsumw = sumw_num / sumw_denom\n",
      "/Users/cristina/Library/Python/3.6/lib/python/site-packages/ipykernel_launcher.py:11: RuntimeWarning: More than 20 figures have been opened. Figures created through the pyplot interface (`matplotlib.pyplot.figure`) are retained until explicitly closed and may consume too much memory. (To control this warning, see the rcParam `figure.max_open_warning`).\n",
      "  # This is added back by InteractiveShellApp.init_path()\n",
      "/Users/cristina/Library/Python/3.6/lib/python/site-packages/ipykernel_launcher.py:11: RuntimeWarning: More than 20 figures have been opened. Figures created through the pyplot interface (`matplotlib.pyplot.figure`) are retained until explicitly closed and may consume too much memory. (To control this warning, see the rcParam `figure.max_open_warning`).\n",
      "  # This is added back by InteractiveShellApp.init_path()\n",
      "/Users/cristina/Library/Python/3.6/lib/python/site-packages/ipykernel_launcher.py:11: RuntimeWarning: More than 20 figures have been opened. Figures created through the pyplot interface (`matplotlib.pyplot.figure`) are retained until explicitly closed and may consume too much memory. (To control this warning, see the rcParam `figure.max_open_warning`).\n",
      "  # This is added back by InteractiveShellApp.init_path()\n",
      "/Users/cristina/Library/Python/3.6/lib/python/site-packages/coffea/hist/plot.py:359: RuntimeWarning: invalid value encountered in true_divide\n",
      "  rsumw = sumw_num / sumw_denom\n",
      "/Users/cristina/Library/Python/3.6/lib/python/site-packages/ipykernel_launcher.py:11: RuntimeWarning: More than 20 figures have been opened. Figures created through the pyplot interface (`matplotlib.pyplot.figure`) are retained until explicitly closed and may consume too much memory. (To control this warning, see the rcParam `figure.max_open_warning`).\n",
      "  # This is added back by InteractiveShellApp.init_path()\n",
      "/Users/cristina/Library/Python/3.6/lib/python/site-packages/ipykernel_launcher.py:11: RuntimeWarning: More than 20 figures have been opened. Figures created through the pyplot interface (`matplotlib.pyplot.figure`) are retained until explicitly closed and may consume too much memory. (To control this warning, see the rcParam `figure.max_open_warning`).\n",
      "  # This is added back by InteractiveShellApp.init_path()\n",
      "/Users/cristina/Library/Python/3.6/lib/python/site-packages/ipykernel_launcher.py:11: RuntimeWarning: More than 20 figures have been opened. Figures created through the pyplot interface (`matplotlib.pyplot.figure`) are retained until explicitly closed and may consume too much memory. (To control this warning, see the rcParam `figure.max_open_warning`).\n",
      "  # This is added back by InteractiveShellApp.init_path()\n",
      "/Users/cristina/Library/Python/3.6/lib/python/site-packages/coffea/hist/plot.py:359: RuntimeWarning: invalid value encountered in true_divide\n",
      "  rsumw = sumw_num / sumw_denom\n",
      "/Users/cristina/Library/Python/3.6/lib/python/site-packages/ipykernel_launcher.py:11: RuntimeWarning: More than 20 figures have been opened. Figures created through the pyplot interface (`matplotlib.pyplot.figure`) are retained until explicitly closed and may consume too much memory. (To control this warning, see the rcParam `figure.max_open_warning`).\n",
      "  # This is added back by InteractiveShellApp.init_path()\n",
      "/Users/cristina/Library/Python/3.6/lib/python/site-packages/ipykernel_launcher.py:11: RuntimeWarning: More than 20 figures have been opened. Figures created through the pyplot interface (`matplotlib.pyplot.figure`) are retained until explicitly closed and may consume too much memory. (To control this warning, see the rcParam `figure.max_open_warning`).\n",
      "  # This is added back by InteractiveShellApp.init_path()\n",
      "/Users/cristina/Library/Python/3.6/lib/python/site-packages/ipykernel_launcher.py:11: RuntimeWarning: More than 20 figures have been opened. Figures created through the pyplot interface (`matplotlib.pyplot.figure`) are retained until explicitly closed and may consume too much memory. (To control this warning, see the rcParam `figure.max_open_warning`).\n",
      "  # This is added back by InteractiveShellApp.init_path()\n",
      "/Users/cristina/Library/Python/3.6/lib/python/site-packages/coffea/hist/plot.py:359: RuntimeWarning: invalid value encountered in true_divide\n",
      "  rsumw = sumw_num / sumw_denom\n",
      "/Users/cristina/Library/Python/3.6/lib/python/site-packages/ipykernel_launcher.py:11: RuntimeWarning: More than 20 figures have been opened. Figures created through the pyplot interface (`matplotlib.pyplot.figure`) are retained until explicitly closed and may consume too much memory. (To control this warning, see the rcParam `figure.max_open_warning`).\n",
      "  # This is added back by InteractiveShellApp.init_path()\n",
      "/Users/cristina/Library/Python/3.6/lib/python/site-packages/ipykernel_launcher.py:11: RuntimeWarning: More than 20 figures have been opened. Figures created through the pyplot interface (`matplotlib.pyplot.figure`) are retained until explicitly closed and may consume too much memory. (To control this warning, see the rcParam `figure.max_open_warning`).\n",
      "  # This is added back by InteractiveShellApp.init_path()\n"
     ]
    },
    {
     "name": "stderr",
     "output_type": "stream",
     "text": [
      "/Users/cristina/Library/Python/3.6/lib/python/site-packages/ipykernel_launcher.py:11: RuntimeWarning: More than 20 figures have been opened. Figures created through the pyplot interface (`matplotlib.pyplot.figure`) are retained until explicitly closed and may consume too much memory. (To control this warning, see the rcParam `figure.max_open_warning`).\n",
      "  # This is added back by InteractiveShellApp.init_path()\n",
      "/Users/cristina/Library/Python/3.6/lib/python/site-packages/coffea/hist/plot.py:359: RuntimeWarning: invalid value encountered in true_divide\n",
      "  rsumw = sumw_num / sumw_denom\n",
      "/Users/cristina/Library/Python/3.6/lib/python/site-packages/ipykernel_launcher.py:11: RuntimeWarning: More than 20 figures have been opened. Figures created through the pyplot interface (`matplotlib.pyplot.figure`) are retained until explicitly closed and may consume too much memory. (To control this warning, see the rcParam `figure.max_open_warning`).\n",
      "  # This is added back by InteractiveShellApp.init_path()\n",
      "/Users/cristina/Library/Python/3.6/lib/python/site-packages/coffea/hist/plot.py:359: RuntimeWarning: invalid value encountered in true_divide\n",
      "  rsumw = sumw_num / sumw_denom\n",
      "/Users/cristina/Library/Python/3.6/lib/python/site-packages/ipykernel_launcher.py:11: RuntimeWarning: More than 20 figures have been opened. Figures created through the pyplot interface (`matplotlib.pyplot.figure`) are retained until explicitly closed and may consume too much memory. (To control this warning, see the rcParam `figure.max_open_warning`).\n",
      "  # This is added back by InteractiveShellApp.init_path()\n",
      "/Users/cristina/Library/Python/3.6/lib/python/site-packages/coffea/hist/plot.py:359: RuntimeWarning: invalid value encountered in true_divide\n",
      "  rsumw = sumw_num / sumw_denom\n",
      "/Users/cristina/Library/Python/3.6/lib/python/site-packages/ipykernel_launcher.py:11: RuntimeWarning: More than 20 figures have been opened. Figures created through the pyplot interface (`matplotlib.pyplot.figure`) are retained until explicitly closed and may consume too much memory. (To control this warning, see the rcParam `figure.max_open_warning`).\n",
      "  # This is added back by InteractiveShellApp.init_path()\n",
      "/Users/cristina/Library/Python/3.6/lib/python/site-packages/coffea/hist/plot.py:359: RuntimeWarning: invalid value encountered in true_divide\n",
      "  rsumw = sumw_num / sumw_denom\n",
      "/Users/cristina/Library/Python/3.6/lib/python/site-packages/ipykernel_launcher.py:11: RuntimeWarning: More than 20 figures have been opened. Figures created through the pyplot interface (`matplotlib.pyplot.figure`) are retained until explicitly closed and may consume too much memory. (To control this warning, see the rcParam `figure.max_open_warning`).\n",
      "  # This is added back by InteractiveShellApp.init_path()\n",
      "/Users/cristina/Library/Python/3.6/lib/python/site-packages/coffea/hist/plot.py:359: RuntimeWarning: invalid value encountered in true_divide\n",
      "  rsumw = sumw_num / sumw_denom\n",
      "/Users/cristina/Library/Python/3.6/lib/python/site-packages/ipykernel_launcher.py:11: RuntimeWarning: More than 20 figures have been opened. Figures created through the pyplot interface (`matplotlib.pyplot.figure`) are retained until explicitly closed and may consume too much memory. (To control this warning, see the rcParam `figure.max_open_warning`).\n",
      "  # This is added back by InteractiveShellApp.init_path()\n",
      "/Users/cristina/Library/Python/3.6/lib/python/site-packages/coffea/hist/plot.py:359: RuntimeWarning: invalid value encountered in true_divide\n",
      "  rsumw = sumw_num / sumw_denom\n",
      "/Users/cristina/Library/Python/3.6/lib/python/site-packages/ipykernel_launcher.py:11: RuntimeWarning: More than 20 figures have been opened. Figures created through the pyplot interface (`matplotlib.pyplot.figure`) are retained until explicitly closed and may consume too much memory. (To control this warning, see the rcParam `figure.max_open_warning`).\n",
      "  # This is added back by InteractiveShellApp.init_path()\n",
      "/Users/cristina/Library/Python/3.6/lib/python/site-packages/coffea/hist/plot.py:359: RuntimeWarning: invalid value encountered in true_divide\n",
      "  rsumw = sumw_num / sumw_denom\n",
      "/Users/cristina/Library/Python/3.6/lib/python/site-packages/ipykernel_launcher.py:11: RuntimeWarning: More than 20 figures have been opened. Figures created through the pyplot interface (`matplotlib.pyplot.figure`) are retained until explicitly closed and may consume too much memory. (To control this warning, see the rcParam `figure.max_open_warning`).\n",
      "  # This is added back by InteractiveShellApp.init_path()\n",
      "/Users/cristina/Library/Python/3.6/lib/python/site-packages/coffea/hist/plot.py:359: RuntimeWarning: invalid value encountered in true_divide\n",
      "  rsumw = sumw_num / sumw_denom\n",
      "/Users/cristina/Library/Python/3.6/lib/python/site-packages/ipykernel_launcher.py:11: RuntimeWarning: More than 20 figures have been opened. Figures created through the pyplot interface (`matplotlib.pyplot.figure`) are retained until explicitly closed and may consume too much memory. (To control this warning, see the rcParam `figure.max_open_warning`).\n",
      "  # This is added back by InteractiveShellApp.init_path()\n",
      "/Users/cristina/Library/Python/3.6/lib/python/site-packages/coffea/hist/plot.py:359: RuntimeWarning: invalid value encountered in true_divide\n",
      "  rsumw = sumw_num / sumw_denom\n",
      "/Users/cristina/Library/Python/3.6/lib/python/site-packages/ipykernel_launcher.py:11: RuntimeWarning: More than 20 figures have been opened. Figures created through the pyplot interface (`matplotlib.pyplot.figure`) are retained until explicitly closed and may consume too much memory. (To control this warning, see the rcParam `figure.max_open_warning`).\n",
      "  # This is added back by InteractiveShellApp.init_path()\n",
      "/Users/cristina/Library/Python/3.6/lib/python/site-packages/coffea/hist/plot.py:359: RuntimeWarning: invalid value encountered in true_divide\n",
      "  rsumw = sumw_num / sumw_denom\n",
      "/Users/cristina/Library/Python/3.6/lib/python/site-packages/ipykernel_launcher.py:11: RuntimeWarning: More than 20 figures have been opened. Figures created through the pyplot interface (`matplotlib.pyplot.figure`) are retained until explicitly closed and may consume too much memory. (To control this warning, see the rcParam `figure.max_open_warning`).\n",
      "  # This is added back by InteractiveShellApp.init_path()\n",
      "/Users/cristina/Library/Python/3.6/lib/python/site-packages/coffea/hist/plot.py:359: RuntimeWarning: invalid value encountered in true_divide\n",
      "  rsumw = sumw_num / sumw_denom\n",
      "/Users/cristina/Library/Python/3.6/lib/python/site-packages/ipykernel_launcher.py:11: RuntimeWarning: More than 20 figures have been opened. Figures created through the pyplot interface (`matplotlib.pyplot.figure`) are retained until explicitly closed and may consume too much memory. (To control this warning, see the rcParam `figure.max_open_warning`).\n",
      "  # This is added back by InteractiveShellApp.init_path()\n",
      "/Users/cristina/Library/Python/3.6/lib/python/site-packages/coffea/hist/plot.py:359: RuntimeWarning: invalid value encountered in true_divide\n",
      "  rsumw = sumw_num / sumw_denom\n",
      "/Users/cristina/Library/Python/3.6/lib/python/site-packages/ipykernel_launcher.py:11: RuntimeWarning: More than 20 figures have been opened. Figures created through the pyplot interface (`matplotlib.pyplot.figure`) are retained until explicitly closed and may consume too much memory. (To control this warning, see the rcParam `figure.max_open_warning`).\n",
      "  # This is added back by InteractiveShellApp.init_path()\n",
      "/Users/cristina/Library/Python/3.6/lib/python/site-packages/coffea/hist/plot.py:359: RuntimeWarning: invalid value encountered in true_divide\n",
      "  rsumw = sumw_num / sumw_denom\n",
      "/Users/cristina/Library/Python/3.6/lib/python/site-packages/ipykernel_launcher.py:11: RuntimeWarning: More than 20 figures have been opened. Figures created through the pyplot interface (`matplotlib.pyplot.figure`) are retained until explicitly closed and may consume too much memory. (To control this warning, see the rcParam `figure.max_open_warning`).\n",
      "  # This is added back by InteractiveShellApp.init_path()\n",
      "/Users/cristina/Library/Python/3.6/lib/python/site-packages/coffea/hist/plot.py:359: RuntimeWarning: invalid value encountered in true_divide\n",
      "  rsumw = sumw_num / sumw_denom\n"
     ]
    },
    {
     "name": "stderr",
     "output_type": "stream",
     "text": [
      "/Users/cristina/Library/Python/3.6/lib/python/site-packages/ipykernel_launcher.py:11: RuntimeWarning: More than 20 figures have been opened. Figures created through the pyplot interface (`matplotlib.pyplot.figure`) are retained until explicitly closed and may consume too much memory. (To control this warning, see the rcParam `figure.max_open_warning`).\n",
      "  # This is added back by InteractiveShellApp.init_path()\n",
      "/Users/cristina/Library/Python/3.6/lib/python/site-packages/coffea/hist/plot.py:359: RuntimeWarning: invalid value encountered in true_divide\n",
      "  rsumw = sumw_num / sumw_denom\n",
      "/Users/cristina/Library/Python/3.6/lib/python/site-packages/ipykernel_launcher.py:11: RuntimeWarning: More than 20 figures have been opened. Figures created through the pyplot interface (`matplotlib.pyplot.figure`) are retained until explicitly closed and may consume too much memory. (To control this warning, see the rcParam `figure.max_open_warning`).\n",
      "  # This is added back by InteractiveShellApp.init_path()\n",
      "/Users/cristina/Library/Python/3.6/lib/python/site-packages/coffea/hist/plot.py:359: RuntimeWarning: invalid value encountered in true_divide\n",
      "  rsumw = sumw_num / sumw_denom\n",
      "/Users/cristina/Library/Python/3.6/lib/python/site-packages/ipykernel_launcher.py:11: RuntimeWarning: More than 20 figures have been opened. Figures created through the pyplot interface (`matplotlib.pyplot.figure`) are retained until explicitly closed and may consume too much memory. (To control this warning, see the rcParam `figure.max_open_warning`).\n",
      "  # This is added back by InteractiveShellApp.init_path()\n",
      "/Users/cristina/Library/Python/3.6/lib/python/site-packages/coffea/hist/plot.py:359: RuntimeWarning: invalid value encountered in true_divide\n",
      "  rsumw = sumw_num / sumw_denom\n",
      "/Users/cristina/Library/Python/3.6/lib/python/site-packages/ipykernel_launcher.py:11: RuntimeWarning: More than 20 figures have been opened. Figures created through the pyplot interface (`matplotlib.pyplot.figure`) are retained until explicitly closed and may consume too much memory. (To control this warning, see the rcParam `figure.max_open_warning`).\n",
      "  # This is added back by InteractiveShellApp.init_path()\n",
      "/Users/cristina/Library/Python/3.6/lib/python/site-packages/coffea/hist/plot.py:359: RuntimeWarning: invalid value encountered in true_divide\n",
      "  rsumw = sumw_num / sumw_denom\n",
      "/Users/cristina/Library/Python/3.6/lib/python/site-packages/ipykernel_launcher.py:11: RuntimeWarning: More than 20 figures have been opened. Figures created through the pyplot interface (`matplotlib.pyplot.figure`) are retained until explicitly closed and may consume too much memory. (To control this warning, see the rcParam `figure.max_open_warning`).\n",
      "  # This is added back by InteractiveShellApp.init_path()\n",
      "/Users/cristina/Library/Python/3.6/lib/python/site-packages/coffea/hist/plot.py:359: RuntimeWarning: invalid value encountered in true_divide\n",
      "  rsumw = sumw_num / sumw_denom\n"
     ]
    },
    {
     "data": {
      "text/plain": [
       "<Figure size 576x576 with 0 Axes>"
      ]
     },
     "metadata": {},
     "output_type": "display_data"
    },
    {
     "data": {
      "text/plain": [
       "<Figure size 576x576 with 0 Axes>"
      ]
     },
     "metadata": {},
     "output_type": "display_data"
    },
    {
     "data": {
      "text/plain": [
       "<Figure size 576x576 with 0 Axes>"
      ]
     },
     "metadata": {},
     "output_type": "display_data"
    },
    {
     "data": {
      "text/plain": [
       "<Figure size 576x576 with 0 Axes>"
      ]
     },
     "metadata": {},
     "output_type": "display_data"
    },
    {
     "data": {
      "text/plain": [
       "<Figure size 576x576 with 0 Axes>"
      ]
     },
     "metadata": {},
     "output_type": "display_data"
    },
    {
     "data": {
      "text/plain": [
       "<Figure size 576x576 with 0 Axes>"
      ]
     },
     "metadata": {},
     "output_type": "display_data"
    },
    {
     "data": {
      "text/plain": [
       "<Figure size 576x576 with 0 Axes>"
      ]
     },
     "metadata": {},
     "output_type": "display_data"
    },
    {
     "data": {
      "text/plain": [
       "<Figure size 576x576 with 0 Axes>"
      ]
     },
     "metadata": {},
     "output_type": "display_data"
    },
    {
     "data": {
      "text/plain": [
       "<Figure size 576x576 with 0 Axes>"
      ]
     },
     "metadata": {},
     "output_type": "display_data"
    },
    {
     "data": {
      "text/plain": [
       "<Figure size 576x576 with 0 Axes>"
      ]
     },
     "metadata": {},
     "output_type": "display_data"
    },
    {
     "data": {
      "text/plain": [
       "<Figure size 576x576 with 0 Axes>"
      ]
     },
     "metadata": {},
     "output_type": "display_data"
    },
    {
     "data": {
      "text/plain": [
       "<Figure size 576x576 with 0 Axes>"
      ]
     },
     "metadata": {},
     "output_type": "display_data"
    },
    {
     "data": {
      "text/plain": [
       "<Figure size 576x576 with 0 Axes>"
      ]
     },
     "metadata": {},
     "output_type": "display_data"
    },
    {
     "data": {
      "text/plain": [
       "<Figure size 576x576 with 0 Axes>"
      ]
     },
     "metadata": {},
     "output_type": "display_data"
    },
    {
     "data": {
      "text/plain": [
       "<Figure size 576x576 with 0 Axes>"
      ]
     },
     "metadata": {},
     "output_type": "display_data"
    },
    {
     "data": {
      "text/plain": [
       "<Figure size 576x576 with 0 Axes>"
      ]
     },
     "metadata": {},
     "output_type": "display_data"
    },
    {
     "data": {
      "text/plain": [
       "<Figure size 576x576 with 0 Axes>"
      ]
     },
     "metadata": {},
     "output_type": "display_data"
    },
    {
     "data": {
      "text/plain": [
       "<Figure size 576x576 with 0 Axes>"
      ]
     },
     "metadata": {},
     "output_type": "display_data"
    },
    {
     "data": {
      "text/plain": [
       "<Figure size 576x576 with 0 Axes>"
      ]
     },
     "metadata": {},
     "output_type": "display_data"
    },
    {
     "data": {
      "text/plain": [
       "<Figure size 576x576 with 0 Axes>"
      ]
     },
     "metadata": {},
     "output_type": "display_data"
    },
    {
     "data": {
      "text/plain": [
       "<Figure size 576x576 with 0 Axes>"
      ]
     },
     "metadata": {},
     "output_type": "display_data"
    },
    {
     "data": {
      "text/plain": [
       "<Figure size 576x576 with 0 Axes>"
      ]
     },
     "metadata": {},
     "output_type": "display_data"
    },
    {
     "data": {
      "text/plain": [
       "<Figure size 576x576 with 0 Axes>"
      ]
     },
     "metadata": {},
     "output_type": "display_data"
    },
    {
     "data": {
      "text/plain": [
       "<Figure size 576x576 with 0 Axes>"
      ]
     },
     "metadata": {},
     "output_type": "display_data"
    },
    {
     "data": {
      "text/plain": [
       "<Figure size 576x576 with 0 Axes>"
      ]
     },
     "metadata": {},
     "output_type": "display_data"
    },
    {
     "data": {
      "text/plain": [
       "<Figure size 576x576 with 0 Axes>"
      ]
     },
     "metadata": {},
     "output_type": "display_data"
    },
    {
     "data": {
      "text/plain": [
       "<Figure size 576x576 with 0 Axes>"
      ]
     },
     "metadata": {},
     "output_type": "display_data"
    },
    {
     "data": {
      "text/plain": [
       "<Figure size 576x576 with 0 Axes>"
      ]
     },
     "metadata": {},
     "output_type": "display_data"
    },
    {
     "data": {
      "text/plain": [
       "<Figure size 576x576 with 0 Axes>"
      ]
     },
     "metadata": {},
     "output_type": "display_data"
    },
    {
     "data": {
      "text/plain": [
       "<Figure size 576x576 with 0 Axes>"
      ]
     },
     "metadata": {},
     "output_type": "display_data"
    },
    {
     "data": {
      "text/plain": [
       "<Figure size 576x576 with 0 Axes>"
      ]
     },
     "metadata": {},
     "output_type": "display_data"
    },
    {
     "data": {
      "text/plain": [
       "<Figure size 576x576 with 0 Axes>"
      ]
     },
     "metadata": {},
     "output_type": "display_data"
    },
    {
     "data": {
      "text/plain": [
       "<Figure size 576x576 with 0 Axes>"
      ]
     },
     "metadata": {},
     "output_type": "display_data"
    },
    {
     "data": {
      "text/plain": [
       "<Figure size 576x576 with 0 Axes>"
      ]
     },
     "metadata": {},
     "output_type": "display_data"
    },
    {
     "data": {
      "text/plain": [
       "<Figure size 576x576 with 0 Axes>"
      ]
     },
     "metadata": {},
     "output_type": "display_data"
    },
    {
     "data": {
      "text/plain": [
       "<Figure size 576x576 with 0 Axes>"
      ]
     },
     "metadata": {},
     "output_type": "display_data"
    },
    {
     "data": {
      "text/plain": [
       "<Figure size 576x576 with 0 Axes>"
      ]
     },
     "metadata": {},
     "output_type": "display_data"
    },
    {
     "data": {
      "text/plain": [
       "<Figure size 576x576 with 0 Axes>"
      ]
     },
     "metadata": {},
     "output_type": "display_data"
    },
    {
     "data": {
      "text/plain": [
       "<Figure size 576x576 with 0 Axes>"
      ]
     },
     "metadata": {},
     "output_type": "display_data"
    },
    {
     "data": {
      "text/plain": [
       "<Figure size 576x576 with 0 Axes>"
      ]
     },
     "metadata": {},
     "output_type": "display_data"
    },
    {
     "data": {
      "text/plain": [
       "<Figure size 576x576 with 0 Axes>"
      ]
     },
     "metadata": {},
     "output_type": "display_data"
    },
    {
     "data": {
      "text/plain": [
       "<Figure size 576x576 with 0 Axes>"
      ]
     },
     "metadata": {},
     "output_type": "display_data"
    },
    {
     "data": {
      "text/plain": [
       "<Figure size 576x576 with 0 Axes>"
      ]
     },
     "metadata": {},
     "output_type": "display_data"
    },
    {
     "data": {
      "text/plain": [
       "<Figure size 576x576 with 0 Axes>"
      ]
     },
     "metadata": {},
     "output_type": "display_data"
    },
    {
     "data": {
      "text/plain": [
       "<Figure size 576x576 with 0 Axes>"
      ]
     },
     "metadata": {},
     "output_type": "display_data"
    },
    {
     "data": {
      "text/plain": [
       "<Figure size 576x576 with 0 Axes>"
      ]
     },
     "metadata": {},
     "output_type": "display_data"
    },
    {
     "data": {
      "text/plain": [
       "<Figure size 576x576 with 0 Axes>"
      ]
     },
     "metadata": {},
     "output_type": "display_data"
    },
    {
     "data": {
      "text/plain": [
       "<Figure size 576x576 with 0 Axes>"
      ]
     },
     "metadata": {},
     "output_type": "display_data"
    },
    {
     "data": {
      "text/plain": [
       "<Figure size 576x576 with 0 Axes>"
      ]
     },
     "metadata": {},
     "output_type": "display_data"
    },
    {
     "data": {
      "text/plain": [
       "<Figure size 576x576 with 0 Axes>"
      ]
     },
     "metadata": {},
     "output_type": "display_data"
    },
    {
     "data": {
      "text/plain": [
       "<Figure size 576x576 with 0 Axes>"
      ]
     },
     "metadata": {},
     "output_type": "display_data"
    },
    {
     "data": {
      "text/plain": [
       "<Figure size 576x576 with 0 Axes>"
      ]
     },
     "metadata": {},
     "output_type": "display_data"
    },
    {
     "data": {
      "text/plain": [
       "<Figure size 576x576 with 0 Axes>"
      ]
     },
     "metadata": {},
     "output_type": "display_data"
    },
    {
     "data": {
      "text/plain": [
       "<Figure size 576x576 with 0 Axes>"
      ]
     },
     "metadata": {},
     "output_type": "display_data"
    },
    {
     "data": {
      "text/plain": [
       "<Figure size 576x576 with 0 Axes>"
      ]
     },
     "metadata": {},
     "output_type": "display_data"
    },
    {
     "data": {
      "text/plain": [
       "<Figure size 576x576 with 0 Axes>"
      ]
     },
     "metadata": {},
     "output_type": "display_data"
    },
    {
     "data": {
      "text/plain": [
       "<Figure size 576x576 with 0 Axes>"
      ]
     },
     "metadata": {},
     "output_type": "display_data"
    },
    {
     "data": {
      "text/plain": [
       "<Figure size 576x576 with 0 Axes>"
      ]
     },
     "metadata": {},
     "output_type": "display_data"
    },
    {
     "data": {
      "text/plain": [
       "<Figure size 576x576 with 0 Axes>"
      ]
     },
     "metadata": {},
     "output_type": "display_data"
    },
    {
     "data": {
      "text/plain": [
       "<Figure size 576x576 with 0 Axes>"
      ]
     },
     "metadata": {},
     "output_type": "display_data"
    },
    {
     "data": {
      "text/plain": [
       "<Figure size 576x576 with 0 Axes>"
      ]
     },
     "metadata": {},
     "output_type": "display_data"
    },
    {
     "data": {
      "text/plain": [
       "<Figure size 576x576 with 0 Axes>"
      ]
     },
     "metadata": {},
     "output_type": "display_data"
    },
    {
     "data": {
      "text/plain": [
       "<Figure size 576x576 with 0 Axes>"
      ]
     },
     "metadata": {},
     "output_type": "display_data"
    },
    {
     "data": {
      "text/plain": [
       "<Figure size 576x576 with 0 Axes>"
      ]
     },
     "metadata": {},
     "output_type": "display_data"
    },
    {
     "data": {
      "text/plain": [
       "<Figure size 576x576 with 0 Axes>"
      ]
     },
     "metadata": {},
     "output_type": "display_data"
    },
    {
     "data": {
      "text/plain": [
       "<Figure size 576x576 with 0 Axes>"
      ]
     },
     "metadata": {},
     "output_type": "display_data"
    },
    {
     "data": {
      "text/plain": [
       "<Figure size 576x576 with 0 Axes>"
      ]
     },
     "metadata": {},
     "output_type": "display_data"
    },
    {
     "data": {
      "text/plain": [
       "<Figure size 576x576 with 0 Axes>"
      ]
     },
     "metadata": {},
     "output_type": "display_data"
    },
    {
     "data": {
      "text/plain": [
       "<Figure size 576x576 with 0 Axes>"
      ]
     },
     "metadata": {},
     "output_type": "display_data"
    },
    {
     "data": {
      "text/plain": [
       "<Figure size 576x576 with 0 Axes>"
      ]
     },
     "metadata": {},
     "output_type": "display_data"
    },
    {
     "data": {
      "text/plain": [
       "<Figure size 576x576 with 0 Axes>"
      ]
     },
     "metadata": {},
     "output_type": "display_data"
    },
    {
     "data": {
      "text/plain": [
       "<Figure size 576x576 with 0 Axes>"
      ]
     },
     "metadata": {},
     "output_type": "display_data"
    }
   ],
   "source": [
    "odir = '../binder/plots/trigger_hww_private_Mar26_leppt20'\n",
    "os.system('mkdir -p %s'%odir)\n",
    "denoms = ['presel','noniso']\n",
    "#drawExcept(hists_mapped['Mupresel'],'genMu_pt')\n",
    "#drawExcept(hists_mapped['Mupresel_2017had'],'genMu_pt')\n",
    "#drawEfficiency(hists_mapped['Mupresel_2017had'],\n",
    "#               hists_mapped['Mupresel'],\n",
    "#               'genH_pt')\n",
    "for denom in denoms:\n",
    "    elekey = 'Ele'+denom\n",
    "    mukey = 'Mu'+denom\n",
    "    trigger_plots = {\n",
    "        mukey+'_hadtrig': {'vars':['genH_pt','genMu_pt','jet_pt'],\n",
    "                       'denom':mukey,\n",
    "                       'num':mukey+'_2017had',\n",
    "                       'title':'PFHT | AK8*_TrimMass',},\n",
    "        mukey+'_mutrig': {'vars':['genH_pt','genMu_pt','jet_pt'],\n",
    "                       'denom':mukey,\n",
    "                       'num':mukey+'_2017muon',\n",
    "                       'title':'Mu50 | Mu55',},\n",
    "        mukey+'_vvlmutrig': {'vars':['genH_pt','genMu_pt','jet_pt'],\n",
    "                       'denom':mukey,\n",
    "                       'num':mukey+'_2017vvlmuon',\n",
    "                       'title':'Mu15VVL_HT/MET',},\n",
    "        mukey+'_mettrig': {'vars':['genH_pt','genMu_pt','jet_pt'],\n",
    "                       'denom':mukey,\n",
    "                       'num':mukey+'_2017met',\n",
    "                       'title':'PFMETNoMu110/120',},\n",
    "        mukey+'_alltrig': {'vars':['genH_pt','genMu_pt','jet_pt'],\n",
    "                       'denom':mukey,\n",
    "                       'num':mukey+'_2017muonall',\n",
    "                       'title':'Mu All',},\n",
    "        mukey+'_nomettrig': {'vars':['genH_pt','genMu_pt','jet_pt'],\n",
    "                       'denom':mukey,\n",
    "                       'num':mukey+'_2017muonnomet',\n",
    "                       'title':'Mu All - MET',},\n",
    "        elekey+'_hadtrig': {'vars':['genH_pt','genEle_pt','jet_pt'],\n",
    "                       'denom':elekey,\n",
    "                       'num':elekey+'_2017had',\n",
    "                       'title':'PFHT | AK8*_TrimMass',},\n",
    "        elekey+'_eletrig': {'vars':['genH_pt','genEle_pt','jet_pt'],\n",
    "                       'denom':elekey,\n",
    "                       'num':elekey+'_2017electron',\n",
    "                       'title':'Ele115',},\n",
    "        elekey+'_vvlmutrig': {'vars':['genH_pt','genEle_pt','jet_pt'],\n",
    "                       'denom':elekey,\n",
    "                       'num':elekey+'_2017vvlelectron',\n",
    "                       'title':'EleVVL_HT/MET',},\n",
    "        elekey+'_mettrig': {'vars':['genH_pt','genEle_pt','jet_pt'],\n",
    "                       'denom':elekey,\n",
    "                       'num':elekey+'_2017met',\n",
    "                       'title':'PFMETNoMu110/120',},\n",
    "        elekey+'_alltrig': {'vars':['genH_pt','genEle_pt','jet_pt'],\n",
    "                       'denom':elekey,\n",
    "                       'num':elekey+'_2017electronall',\n",
    "                       'title':'Ele All',},\n",
    "        elekey+'_nomettrig': {'vars':['genH_pt','genEle_pt','jet_pt'],\n",
    "                       'denom':elekey,\n",
    "                       'num':elekey+'_2017electronnomet',\n",
    "                       'title':'Ele All - MET',},\n",
    "    }\n",
    "    for key,item in trigger_plots.items():\n",
    "        h_num = hists_unmapped[item['num']]\n",
    "        h_denom = hists_unmapped[item['denom']]\n",
    "        for var in item['vars']:\n",
    "                drawEfficiency(\n",
    "                    h_num,h_denom,var,\n",
    "                    fig_lab=key+'_'+var,title=item['title'],\n",
    "                    odir=odir\n",
    "                )"
   ]
  },
  {
   "cell_type": "code",
   "execution_count": null,
   "metadata": {},
   "outputs": [],
   "source": []
  },
  {
   "cell_type": "code",
   "execution_count": null,
   "metadata": {},
   "outputs": [],
   "source": []
  },
  {
   "cell_type": "code",
   "execution_count": null,
   "metadata": {},
   "outputs": [],
   "source": []
  },
  {
   "cell_type": "code",
   "execution_count": null,
   "metadata": {},
   "outputs": [],
   "source": []
  }
 ],
 "metadata": {
  "kernelspec": {
   "display_name": "Python 3",
   "language": "python",
   "name": "python3"
  },
  "language_info": {
   "codemirror_mode": {
    "name": "ipython",
    "version": 3
   },
   "file_extension": ".py",
   "mimetype": "text/x-python",
   "name": "python",
   "nbconvert_exporter": "python",
   "pygments_lexer": "ipython3",
   "version": "3.6.4"
  }
 },
 "nbformat": 4,
 "nbformat_minor": 4
}
