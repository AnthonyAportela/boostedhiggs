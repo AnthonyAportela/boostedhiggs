{
 "cells": [
  {
   "cell_type": "code",
   "execution_count": 48,
   "id": "d6a04263-186d-4c70-a291-f196c9a8da67",
   "metadata": {},
   "outputs": [],
   "source": [
    "import awkward as ak\n",
    "import numpy as np\n",
    "import pandas as pd\n",
    "import json\n",
    "import os\n",
    "import shutil\n",
    "import pathlib\n",
    "from typing import List, Optional\n",
    "\n",
    "from coffea import processor\n",
    "from coffea.nanoevents.methods import candidate, vector\n",
    "from coffea.analysis_tools import Weights, PackedSelection\n",
    "\n",
    "import warnings\n",
    "warnings.filterwarnings(\"ignore\", message=\"Found duplicate branch \")\n",
    "\n",
    "import pyarrow as pa\n",
    "import pyarrow.parquet as pq\n",
    "import pickle as pkl"
   ]
  },
  {
   "cell_type": "code",
   "execution_count": 49,
   "id": "6682d0d5-f3b0-40ac-b87b-d1dfb5546c5d",
   "metadata": {},
   "outputs": [],
   "source": [
    "# # from coffea casa\n",
    "# import uproot\n",
    "# f = uproot.open('root://xcache//store/mc/RunIISummer19UL17NanoAODv2/GluGluHToWWToLNuQQ_M125_TuneCP5_PSweight_13TeV-powheg2-jhugen727-pythia8/NANOAODSIM/106X_mc2017_realistic_v8-v1/250000/13D6BBD5-89E3-8647-AED6-FB5DFAAF4C8C.root:Events')\n",
    "# f.num_entries   ### checks number of events"
   ]
  },
  {
   "cell_type": "code",
   "execution_count": 50,
   "id": "aee89d59-5ce8-4689-990d-b462ca2b2d0b",
   "metadata": {},
   "outputs": [],
   "source": [
    "# import uproot\n",
    "# sample = \"GluGluHToWWToLNuQQ_M125_TuneCP5_PSweight_13TeV-powheg2-jhugen727-pythia8\"\n",
    "# for i in range(len(fileset[sample])):\n",
    "#     f = uproot.open(fileset[sample][i])\n",
    "#     num = f['Events'].num_entries   ### checks number of events per file        \n",
    "#     print('number of events in file', i, 'is', num)"
   ]
  },
  {
   "cell_type": "code",
   "execution_count": 56,
   "id": "3087fcd5-09c9-44d9-b339-fc34b4827e05",
   "metadata": {},
   "outputs": [],
   "source": [
    "### load result of 2 jobs\n",
    "sample = 'GluGluHToWWToLNuQQ_M125_TuneCP5_PSweight_13TeV-powheg2-jhugen727-pythia8'\n",
    "year = '2017'\n",
    "num_jobs = 2\n",
    "sum_sumgenweight = 0\n",
    "\n",
    "for i in range(num_jobs):\n",
    "    tmp = pq.read_table(f'./outfiles/{i}-{i+1}_ele.parquet')\n",
    "    tmp = tmp.to_pandas()\n",
    "    if i==0:\n",
    "        data = tmp\n",
    "    else:\n",
    "        data = pd.concat([data,tmp], ignore_index=True)\n",
    "        \n",
    "    # load and sum the sumgenweight of each\n",
    "    with open(f'./outfiles/{i}-{i+1}.pkl', 'rb') as f:\n",
    "        metadata = pkl.load(f)\n",
    "    sum_sumgenweight = sum_sumgenweight + metadata[sample][year]['sumgenweight']"
   ]
  },
  {
   "cell_type": "code",
   "execution_count": 57,
   "id": "6a3bf4cd-e9a1-46da-8779-3f81b30a199d",
   "metadata": {},
   "outputs": [
    {
     "name": "stdout",
     "output_type": "stream",
     "text": [
      "645\n"
     ]
    },
    {
     "data": {
      "text/html": [
       "<div>\n",
       "<style scoped>\n",
       "    .dataframe tbody tr th:only-of-type {\n",
       "        vertical-align: middle;\n",
       "    }\n",
       "\n",
       "    .dataframe tbody tr th {\n",
       "        vertical-align: top;\n",
       "    }\n",
       "\n",
       "    .dataframe thead th {\n",
       "        text-align: right;\n",
       "    }\n",
       "</style>\n",
       "<table border=\"1\" class=\"dataframe\">\n",
       "  <thead>\n",
       "    <tr style=\"text-align: right;\">\n",
       "      <th></th>\n",
       "      <th>lepton_pt</th>\n",
       "      <th>lep_isolation</th>\n",
       "      <th>met</th>\n",
       "      <th>ht</th>\n",
       "      <th>mt_lep_met</th>\n",
       "      <th>dr_jet_candlep</th>\n",
       "      <th>weight</th>\n",
       "    </tr>\n",
       "  </thead>\n",
       "  <tbody>\n",
       "    <tr>\n",
       "      <th>0</th>\n",
       "      <td>78.507706</td>\n",
       "      <td>0.013055</td>\n",
       "      <td>33.577034</td>\n",
       "      <td>499.12500</td>\n",
       "      <td>52.215054</td>\n",
       "      <td>0.471214</td>\n",
       "      <td>28.893</td>\n",
       "    </tr>\n",
       "    <tr>\n",
       "      <th>1</th>\n",
       "      <td>101.503654</td>\n",
       "      <td>0.005712</td>\n",
       "      <td>24.996897</td>\n",
       "      <td>420.18750</td>\n",
       "      <td>11.229020</td>\n",
       "      <td>0.388044</td>\n",
       "      <td>28.893</td>\n",
       "    </tr>\n",
       "    <tr>\n",
       "      <th>2</th>\n",
       "      <td>80.132812</td>\n",
       "      <td>0.011502</td>\n",
       "      <td>53.236359</td>\n",
       "      <td>436.25000</td>\n",
       "      <td>30.718420</td>\n",
       "      <td>0.238419</td>\n",
       "      <td>28.893</td>\n",
       "    </tr>\n",
       "    <tr>\n",
       "      <th>3</th>\n",
       "      <td>224.800964</td>\n",
       "      <td>0.014546</td>\n",
       "      <td>20.161127</td>\n",
       "      <td>598.84375</td>\n",
       "      <td>18.302195</td>\n",
       "      <td>0.029374</td>\n",
       "      <td>28.893</td>\n",
       "    </tr>\n",
       "    <tr>\n",
       "      <th>4</th>\n",
       "      <td>91.291237</td>\n",
       "      <td>0.000000</td>\n",
       "      <td>31.520144</td>\n",
       "      <td>484.12500</td>\n",
       "      <td>5.314937</td>\n",
       "      <td>0.359515</td>\n",
       "      <td>28.893</td>\n",
       "    </tr>\n",
       "  </tbody>\n",
       "</table>\n",
       "</div>"
      ],
      "text/plain": [
       "    lepton_pt  lep_isolation        met         ht  mt_lep_met  \\\n",
       "0   78.507706       0.013055  33.577034  499.12500   52.215054   \n",
       "1  101.503654       0.005712  24.996897  420.18750   11.229020   \n",
       "2   80.132812       0.011502  53.236359  436.25000   30.718420   \n",
       "3  224.800964       0.014546  20.161127  598.84375   18.302195   \n",
       "4   91.291237       0.000000  31.520144  484.12500    5.314937   \n",
       "\n",
       "   dr_jet_candlep  weight  \n",
       "0        0.471214  28.893  \n",
       "1        0.388044  28.893  \n",
       "2        0.238419  28.893  \n",
       "3        0.029374  28.893  \n",
       "4        0.359515  28.893  "
      ]
     },
     "execution_count": 57,
     "metadata": {},
     "output_type": "execute_result"
    }
   ],
   "source": [
    "print(len(data))\n",
    "data.head()"
   ]
  },
  {
   "cell_type": "code",
   "execution_count": null,
   "id": "af324786-ed52-405c-be3b-e7ba965fe3cd",
   "metadata": {},
   "outputs": [],
   "source": []
  },
  {
   "cell_type": "code",
   "execution_count": null,
   "id": "4ca25865-eafd-4669-be39-5f05039ca259",
   "metadata": {},
   "outputs": [],
   "source": []
  },
  {
   "cell_type": "code",
   "execution_count": null,
   "id": "8a1e4a22-4544-45db-bf5c-be2f0b13f60c",
   "metadata": {},
   "outputs": [],
   "source": []
  },
  {
   "cell_type": "code",
   "execution_count": null,
   "id": "ca81ce6f-f520-4c59-baf8-ed9331f5d809",
   "metadata": {},
   "outputs": [],
   "source": []
  }
 ],
 "metadata": {
  "kernelspec": {
   "display_name": "Python 3 (ipykernel)",
   "language": "python",
   "name": "python3"
  },
  "language_info": {
   "codemirror_mode": {
    "name": "ipython",
    "version": 3
   },
   "file_extension": ".py",
   "mimetype": "text/x-python",
   "name": "python",
   "nbconvert_exporter": "python",
   "pygments_lexer": "ipython3",
   "version": "3.8.12"
  }
 },
 "nbformat": 4,
 "nbformat_minor": 5
}
