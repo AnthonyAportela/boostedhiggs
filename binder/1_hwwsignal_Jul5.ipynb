{
 "cells": [
  {
   "cell_type": "markdown",
   "metadata": {},
   "source": [
    "# Exploring signal files with coffea\n",
    "\n",
    "In this notebook we explore how to make selections on our signal file and match the reconstructed objects (jets, electrons, muons, etc) to our generator level information (from the simulation).\n",
    "\n",
    "We first download one file from a simulated signal dataset (Higgs to WW in the lepton-neutrino-quark-quark final state):\n",
    "\n",
    "```\n",
    "mkdir data/\n",
    "scp -r cmslpc-sl7.fnal.gov:/eos/uscms/store/user/lpcdihiggsboost/cmantill/PFNano/2017_UL_ak15/GluGluHToWWToLNuQQ_M125_TuneCP5_PSweight_13TeV-powheg2-jhugen727-pythia8/RunIISummer19UL17Jun23-106X_mc2017_realistic_v6-v2/210623_225150/0000/nano_mc2017_1-130.root data/nano_mc2017_1-130.root\n",
    "```"
   ]
  },
  {
   "cell_type": "markdown",
   "metadata": {},
   "source": [
    "Then, we import some libraries:"
   ]
  },
  {
   "cell_type": "code",
   "execution_count": 1,
   "metadata": {},
   "outputs": [],
   "source": [
    "import awkward as ak\n",
    "from coffea.nanoevents import NanoEventsFactory, NanoAODSchema\n",
    "from coffea.nanoevents.methods import candidate, vector\n",
    "\n",
    "# we suppress ROOT warnings where our input ROOT tree has duplicate branches - these are handled correctly.\n",
    "import warnings\n",
    "warnings.filterwarnings(\"ignore\", message=\"Found duplicate branch \")"
   ]
  },
  {
   "cell_type": "markdown",
   "metadata": {},
   "source": [
    "And we open the file with the coffea `NanoEventsFactory`:"
   ]
  },
  {
   "cell_type": "code",
   "execution_count": 2,
   "metadata": {},
   "outputs": [],
   "source": [
    "fname = \"data/nano_mc2017_1-130.root\"\n",
    "events = NanoEventsFactory.from_root(fname, schemaclass=NanoAODSchema, entry_stop=10000).events()"
   ]
  },
  {
   "cell_type": "markdown",
   "metadata": {},
   "source": [
    "Now, let's define some requirements on the leptons:"
   ]
  },
  {
   "cell_type": "code",
   "execution_count": 3,
   "metadata": {},
   "outputs": [],
   "source": [
    "# leptons\n",
    "goodmuon = (\n",
    "    (events.Muon.pt > 25)\n",
    "    & (abs(events.Muon.eta) < 2.4)\n",
    "    & events.Muon.mediumId\n",
    ")\n",
    "nmuons = ak.sum(goodmuon, axis=1)\n",
    "lowptmuon = (\n",
    "    (events.Muon.pt > 10)\n",
    "    & (abs(events.Muon.eta) < 2.4)\n",
    "    & events.Muon.looseId\n",
    ")\n",
    "nlowptmuons = ak.sum(lowptmuon, axis=1)\n",
    "            \n",
    "goodelectron = (\n",
    "    (events.Electron.pt > 25)\n",
    "    & (abs(events.Electron.eta) < 2.5)\n",
    "    & (events.Electron.mvaFall17V2noIso_WP80)\n",
    ")\n",
    "nelectrons = ak.sum(goodelectron, axis=1)\n",
    "lowptelectron = (\n",
    "    (events.Electron.pt > 10)\n",
    "    & (abs(events.Electron.eta) < 2.5)\n",
    "    & (events.Electron.cutBased >= events.Electron.LOOSE)\n",
    ")\n",
    "nlowptelectrons = ak.sum(lowptelectron, axis=1)\n",
    "\n",
    "# since events can have more than one lepton (e.g. one high-pT electron and another lower pT muon), \n",
    "# we concatenate electrons and muons in the same array and select the higher-pT lepton (with ak.firsts)\n",
    "goodleptons = ak.concatenate([events.Muon[goodmuon], events.Electron[goodelectron]], axis=1)\n",
    "candidatelep = ak.firsts(goodleptons[ak.argsort(goodleptons.pt)])\n",
    "\n",
    "# when we concatenate we lose the vector properties, so let's build another vector for our candidate lepton\n",
    "candidatelep_p4 = ak.zip(\n",
    "    {\n",
    "        \"pt\": candidatelep.pt,\n",
    "        \"eta\": candidatelep.eta,\n",
    "        \"phi\": candidatelep.phi,\n",
    "        \"mass\": candidatelep.mass,\n",
    "        \"charge\": candidatelep.charge,\n",
    "    },\n",
    "    with_name=\"PtEtaPhiMCandidate\",\n",
    "    behavior=candidate.behavior,\n",
    ")"
   ]
  },
  {
   "cell_type": "markdown",
   "metadata": {},
   "source": [
    "Now, let's take a simple look at the fat-jets (large radius jets). \n",
    "\n",
    "Here, we define a variable `jet_arbitration` which will be used later. This indicates how we order and select our jet. \n",
    "\n",
    "Usually we want the highest pT jet in the collection (`pT` arbitration). However, for our HWW signal, maybe is useful to look at the jet closest to the lepton (`lep` arbitration) or at the jet closest to the missing energy in the event - representing the energy carried away by the neutrino (`met` arbitration)."
   ]
  },
  {
   "cell_type": "code",
   "execution_count": 4,
   "metadata": {},
   "outputs": [],
   "source": [
    "jet_arbitration = 'lep'\n",
    "\n",
    "# let's define a collection of jets (with a pT threshold of 200 GeV)\n",
    "fatjets = events.FatJet\n",
    "candidatefj = fatjets[\n",
    "    (fatjets.pt > 200)\n",
    "]\n",
    "\n",
    "# we take the Missing Transverse Energy MET from the event, and define the angular distance (delta_phi) of the MET with the jets\n",
    "met = events.MET\n",
    "dphi_met_fj = abs(candidatefj.delta_phi(met))\n",
    "\n",
    "# here we define the angular distance (or maybe conical distance - in R) of the jets with the candidate lepton we chose above\n",
    "dr_lep_fj = candidatefj.delta_r(candidatelep_p4)\n",
    "\n",
    "# then we take the first jet (in something: pT, dR. w lepton, dphi w. MET...)\n",
    "# we make use of the function ak.argmin that returns the index of the object that satistifies the minimum value (could also use ak.argmax)\n",
    "# once we get that index, we use it to select our candidate jet\n",
    "# (keepDims = True helps to keep the arrays dimensions)\n",
    "if jet_arbitration == 'pt':\n",
    "    candidatefj = ak.firsts(candidatefj)\n",
    "elif jet_arbitration == 'met':\n",
    "    candidatefj = ak.firsts(candidatefj[ak.argmin(dphi_met_fj,axis=1,keepdims=True)])\n",
    "elif jet_arbitration == 'lep':\n",
    "    candidatefj = ak.firsts(candidatefj[ak.argmin(dr_lep_fj,axis=1,keepdims=True)])\n",
    "else:\n",
    "    raise RuntimeError(\"Unknown candidate jet arbitration\")"
   ]
  },
  {
   "cell_type": "markdown",
   "metadata": {},
   "source": [
    "Note, that some of these variables will be `None` for many events, i.e. what if an event does not have jets with high pT (which happens a lot in this dataset) or if an event does not have any leptons inside.\n",
    "\n",
    "To track that we are doing the correct thing we can take a look at one event by selecting that event in brackets (events are alwasy in the first axis of an array), i.e.:"
   ]
  },
  {
   "cell_type": "code",
   "execution_count": 5,
   "metadata": {},
   "outputs": [
    {
     "data": {
      "text/plain": [
       "<Array [[], [], [], [], ... [], [], [], []] type='10000 * var * float32[paramete...'>"
      ]
     },
     "execution_count": 5,
     "metadata": {},
     "output_type": "execute_result"
    }
   ],
   "source": [
    "# first we print the fatjets pt (note that here is the whole collection)\n",
    "fatjets.pt"
   ]
  },
  {
   "cell_type": "code",
   "execution_count": 6,
   "metadata": {},
   "outputs": [
    {
     "data": {
      "text/plain": [
       "<Array [238, 209] type='2 * float32[parameters={\"__doc__\": \"pt\"}]'>"
      ]
     },
     "execution_count": 6,
     "metadata": {},
     "output_type": "execute_result"
    }
   ],
   "source": [
    "# you notice that for many of those events the array is empty..\n",
    "# then we choose event 107 (which we know it has a fatjet - to see this you can just print the uproot tree above and see the columns)\n",
    "evtid = 107\n",
    "fatjets.pt[evtid]"
   ]
  },
  {
   "cell_type": "code",
   "execution_count": 7,
   "metadata": {},
   "outputs": [
    {
     "data": {
      "text/plain": [
       "237.875"
      ]
     },
     "execution_count": 7,
     "metadata": {},
     "output_type": "execute_result"
    }
   ],
   "source": [
    "# we have two fatjets apparently, now we can see which of those our jet arbitration chose:\n",
    "candidatefj.pt[evtid]"
   ]
  },
  {
   "cell_type": "code",
   "execution_count": 8,
   "metadata": {},
   "outputs": [
    {
     "name": "stdout",
     "output_type": "stream",
     "text": [
      "[1.95, 1.29]\n",
      "[0.0691, 3.35]\n"
     ]
    }
   ],
   "source": [
    "# it seems to have chosen the jet with higher pT here\n",
    "# let's print for curiosity the values of the dR of the lep and fatjets and the dPhi of the MET and fat jets\n",
    "# note, that if we have two things to print we better use the print function\n",
    "print(dphi_met_fj[evtid])\n",
    "print(dr_lep_fj[evtid])"
   ]
  },
  {
   "cell_type": "markdown",
   "metadata": {},
   "source": [
    "Now, let's play with another collection in the event, the `GenParticles`.\n",
    "These can be obtained with the `events.GenPart` collection.\n",
    "First, we need a function that will select given particles according to their particle ID (pdgID), or the flags of the process:"
   ]
  },
  {
   "cell_type": "code",
   "execution_count": 9,
   "metadata": {},
   "outputs": [],
   "source": [
    "# this function will return us the particle objects that satisfy a low id, high id condition and have certain flags\n",
    "def getParticles(genparticles,lowid=22,highid=25,flags=['fromHardProcess', 'isLastCopy']):\n",
    "    absid = abs(genparticles.pdgId)\n",
    "    return genparticles[\n",
    "        ((absid >= lowid) & (absid <= highid))\n",
    "        & genparticles.hasFlags(flags)\n",
    "    ]"
   ]
  },
  {
   "cell_type": "code",
   "execution_count": 10,
   "metadata": {},
   "outputs": [
    {
     "name": "stderr",
     "output_type": "stream",
     "text": [
      "/Users/cmantill/miniconda3/envs/hww/lib/python3.7/site-packages/numba/core/dispatcher.py:238: UserWarning: Numba extension module 'awkward1._connect._numba' failed to load due to 'ImportError(generic_type: type \"kernel_lib\" is already registered!)'.\n",
      "  entrypoints.init_all()\n"
     ]
    }
   ],
   "source": [
    "# first let's get all the higgs bosons in the event (pdgID=25)\n",
    "higgs = getParticles(events.GenPart,25)\n",
    "\n",
    "# make a mask to select all Higgs bosons that decay into Ws (pdgID=24) by looking at the children.pdgId\n",
    "is_hWW = ak.all(abs(higgs.children.pdgId)==24,axis=2)\n",
    "\n",
    "# now let's select our higgs to be all WW decays\n",
    "higgs = higgs[is_hWW]\n",
    "\n",
    "# now let's save it's children\n",
    "# we will have two Ws as children. One will have higher mass than the other \n",
    "# the offshell W (also called W star) will have lower mass (~ 40 GeV max.) than the nominal W mass (80 GeV)\n",
    "# thus, we can use argmin and argmax to select the Wstar and W candidates, respectively\n",
    "higgs_wstar = higgs.children[ak.argmin(higgs.children.mass,axis=2,keepdims=True)]\n",
    "higgs_w = higgs.children[ak.argmax(higgs.children.mass,axis=2,keepdims=True)]"
   ]
  },
  {
   "cell_type": "markdown",
   "metadata": {},
   "source": [
    "Now, let's look at the decays of the W and W star. We want 4 particles inside our final state: a lepton, a neutrino, and 2 quarks. To look for these particles we can use the `isPrompt` or `fromHardProcess` flags.\n",
    "\n",
    "- The pdgIDs of the electron, muon and tau leptons are 11, 13 and 15 respectively.\n",
    "- The pdgIDs of quarks (not the top quark) range from 0 to 5.\n",
    "- We do not care too much about the neutrino for now since we know it will be there when we see a lepton from a W."
   ]
  },
  {
   "cell_type": "code",
   "execution_count": 11,
   "metadata": {},
   "outputs": [],
   "source": [
    "# first let's select our electrons, muons and taus\n",
    "prompt_electron = getParticles(events.GenPart,11,11,['isPrompt','isLastCopy'])\n",
    "prompt_muon = getParticles(events.GenPart,13,13,['isPrompt', 'isLastCopy'])\n",
    "prompt_tau = getParticles(events.GenPart,15,15,['isPrompt', 'isLastCopy'])\n",
    "\n",
    "# for our quarks, we care about choosing the quarks that not only are coming from a hard process (e.g. the WW decay)\n",
    "# but also the ones whose parent is a W (pdgId=24), this avoids select quarks whose parent is a gluon \n",
    "# who also happened to be produced in association with the Higgs\n",
    "prompt_q = getParticles(events.GenPart,0,5,['fromHardProcess', 'isLastCopy'])\n",
    "prompt_q = prompt_q[abs(prompt_q.distinctParent.pdgId) == 24]\n",
    "\n",
    "# now we count the number of gen particles \n",
    "# we can use ak.sum, which will sum the number of times a mask is True for an event, \n",
    "# thus we declare a mask e.g. `prompt_electron.pt>0` and select along the inner axis (axis=1)\n",
    "n_electrons = ak.sum(prompt_electron.pt>0,axis=1)\n",
    "n_muons = ak.sum(prompt_muon.pt>0,axis=1)\n",
    "n_taus = ak.sum(prompt_tau.pt>0,axis=1)\n",
    "n_quarks = ak.sum(prompt_q.pt>0,axis=1)"
   ]
  },
  {
   "cell_type": "markdown",
   "metadata": {},
   "source": [
    "We can take a look at what these variables look like for our event:"
   ]
  },
  {
   "cell_type": "code",
   "execution_count": 12,
   "metadata": {},
   "outputs": [
    {
     "name": "stdout",
     "output_type": "stream",
     "text": [
      "n electrons  0\n",
      "n muons  1\n",
      "n taus  0\n",
      "n quarks  2\n"
     ]
    }
   ],
   "source": [
    "print('n electrons ',n_electrons[evtid])\n",
    "print('n muons ',n_muons[evtid])\n",
    "print('n taus ',n_taus[evtid])\n",
    "print('n quarks ',n_quarks[evtid])"
   ]
  },
  {
   "cell_type": "markdown",
   "metadata": {},
   "source": [
    "Looks like this event is a muon-neutrino-2quark final state. \n",
    "We can try to see what are the masses of the Ws that are parents of the prompt quarks.\n",
    "Later we will want to use that information to see if the lepton is coming from a W (that tends to have more energy) or an offshell W (W star, that tends to be of lower energy."
   ]
  },
  {
   "cell_type": "code",
   "execution_count": 13,
   "metadata": {},
   "outputs": [
    {
     "name": "stdout",
     "output_type": "stream",
     "text": [
      "[[39.5, 39.5], [80, 80], [30.8, 30.8], ... [35.2, 35.2], [5.56, 5.56], [41.1, 41.1]]\n",
      "[39.5, 80, 30.8, 39.9, 79, 84, 78.8, ... 80.2, 5.78, 81, 80.8, 35.2, 5.56, 41.1]\n",
      "[[[False]], [[True]], [[False]], [[False, ... [[False]], [[False]], [[False]]]\n",
      "[[[True]], [[False]], [[True]], [[True]], ... [False]], [[True]], [[True]], [[True]]]\n"
     ]
    }
   ],
   "source": [
    "# we will pick the parent of the quarks\n",
    "print(prompt_q.distinctParent.mass)\n",
    "# for some strange reason, the mass is duplicated so let's just pick the first of these ([:,0])\n",
    "print(prompt_q.distinctParent.mass[:,0])\n",
    "\n",
    "# then we take a look at the mass, and see if this array is the same as the W mass or as the W star mass arrays\n",
    "print(prompt_q.distinctParent.mass[:,0]==higgs_w.mass)\n",
    "print(prompt_q.distinctParent.mass[:,0]==higgs_wstar.mass)"
   ]
  },
  {
   "cell_type": "markdown",
   "metadata": {},
   "source": [
    "If you are curious we can also try to explore how did our prompt quarks array looked before we chose a distinctParent:"
   ]
  },
  {
   "cell_type": "code",
   "execution_count": 14,
   "metadata": {},
   "outputs": [
    {
     "name": "stdout",
     "output_type": "stream",
     "text": [
      "all quarks  [[4, -3, -2], [4, -3], [4, -1], [-3, 4], ... [3, -4], [4, -3, 1], [2, -1], [3, -4]]\n",
      "distinct Parents of all quarks  [[24, 24, 21], [24, 24], [24, 24], [24, ... -24], [24, 24, 21], [24, 24], [-24, -24]]\n"
     ]
    }
   ],
   "source": [
    "print('all quarks ',getParticles(events.GenPart,0,5,['fromHardProcess', 'isLastCopy']).pdgId)\n",
    "print('distinct Parents of all quarks ',getParticles(events.GenPart,0,5,['fromHardProcess', 'isLastCopy']).distinctParent.pdgId)"
   ]
  },
  {
   "cell_type": "markdown",
   "metadata": {},
   "source": [
    "You can see that for some events the parents of the quarks are gluons (pdgId=21), so this is what we are avoiding by placing that 2nd selection on the prompt quarks. Ok, let's move on."
   ]
  },
  {
   "cell_type": "markdown",
   "metadata": {},
   "source": [
    "Now we can try to define a variable that indicates us what kind of decay does that event have:\n",
    "- electron-neutrino-2quarks\n",
    "- muon-neutrino-2quarks\n",
    "- tau-neutrino-2quarks (note that taus can decay often to electrons and muons so that's something we will investigate in the future)"
   ]
  },
  {
   "cell_type": "code",
   "execution_count": 15,
   "metadata": {},
   "outputs": [],
   "source": [
    "# we define the `flavor` of the Higgs decay\n",
    "# - 4(elenuqq),\n",
    "# - 6(munuqq),\n",
    "# - 8(taunuqq)\n",
    "hWWlepqq_flavor = (n_quarks==2)*1 + (n_electrons==1)*3 + (n_muons==1)*5 + (n_taus==1)*7\n",
    "\n",
    "# let's concatenate all the daughters\n",
    "daughters = ak.concatenate([prompt_q,prompt_tau,prompt_muon,prompt_electron],axis=1)\n",
    "daughters_energy = ak.concatenate([prompt_q.energy,prompt_tau.energy,prompt_muon.energy,prompt_electron.energy],axis=1)\n",
    "# again, when we concatenate we need to re-define the vector arrays\n",
    "daughters_p4 = ak.zip(\n",
    "    {\n",
    "        \"pt\": daughters.pt,\n",
    "        \"eta\": daughters.eta,\n",
    "        \"phi\": daughters.phi,\n",
    "        \"energy\": daughters_energy,\n",
    "    },\n",
    "    with_name=\"PtEtaPhiELorentzVector\",\n",
    ")\n"
   ]
  },
  {
   "cell_type": "markdown",
   "metadata": {},
   "source": [
    "Now it is the time to `match` our generator level information with our jet and lepton information.\n",
    "There are at least 3 objects we want our jet to be geometrically and kinematically matched too:\n",
    "- the gen Higgs boson\n",
    "- the gen W boson from the Higgs decay\n",
    "- the gen W* (off-shell) boson from the Higgs decay\n",
    "\n",
    "We can find objects nearest to the candidate jet with the `nearest` option\n",
    "https://github.com/CoffeaTeam/coffea/blob/1157c537351511184cc2f582e4567e3d7ba0d7bb/coffea/nanoevents/methods/vector.py#L640"
   ]
  },
  {
   "cell_type": "code",
   "execution_count": 16,
   "metadata": {},
   "outputs": [],
   "source": [
    "# since our jet has a cone size of 0.8, we use 0.8 as a dR threshold\n",
    "matchedH = candidatefj.nearest(higgs, axis=1, threshold=0.8)\n",
    "matchedW = candidatefj.nearest(higgs_w, axis=1, threshold=0.8)\n",
    "matchedWstar = candidatefj.nearest(higgs_wstar, axis=1, threshold=0.8)"
   ]
  },
  {
   "cell_type": "markdown",
   "metadata": {},
   "source": [
    "We can see how these conditions look and how many times they are true for our evtid:"
   ]
  },
  {
   "cell_type": "code",
   "execution_count": 17,
   "metadata": {},
   "outputs": [
    {
     "name": "stdout",
     "output_type": "stream",
     "text": [
      "1\n",
      "[1]\n",
      "[1]\n",
      "[GenParticle] [[GenParticle]] [[GenParticle]]\n"
     ]
    }
   ],
   "source": [
    "print(ak.sum(matchedH.pt>0,axis=1)[evtid])\n",
    "print(ak.sum(matchedW.pt>0,axis=1)[evtid])\n",
    "print(ak.sum(matchedWstar.pt>0,axis=1)[evtid])\n",
    "print(matchedH[evtid],matchedW[evtid],matchedWstar[evtid])"
   ]
  },
  {
   "cell_type": "markdown",
   "metadata": {},
   "source": [
    "Our event seems to be near by (a 0.8 R distance) to the Higgs boson, the W and the W star.\n",
    "\n",
    "Now, let's define a variable (similar to the decay flavor above) that will tell us what objects the jet is matched to:"
   ]
  },
  {
   "cell_type": "code",
   "execution_count": 18,
   "metadata": {},
   "outputs": [],
   "source": [
    "# matched: 1 (H only), 4(W), 6(W star), 9(H, W and Wstar)\n",
    "hWWlepqq_matched = (ak.sum(matchedH.pt>0,axis=1)==1)*1 + (ak.sum(ak.flatten(matchedW.pt>0,axis=2),axis=1)==1)*3 + (ak.sum(ak.flatten(matchedWstar.pt>0,axis=2),axis=1)==1)*5"
   ]
  },
  {
   "cell_type": "markdown",
   "metadata": {},
   "source": [
    "Our event will have a matching variable equal to:"
   ]
  },
  {
   "cell_type": "code",
   "execution_count": 19,
   "metadata": {},
   "outputs": [
    {
     "data": {
      "text/plain": [
       "9"
      ]
     },
     "execution_count": 19,
     "metadata": {},
     "output_type": "execute_result"
    }
   ],
   "source": [
    "hWWlepqq_matched[evtid]"
   ]
  },
  {
   "cell_type": "markdown",
   "metadata": {},
   "source": [
    "Note that here I had to flatten the W and W star arrays first since they had one level of nesting"
   ]
  },
  {
   "cell_type": "code",
   "execution_count": 20,
   "metadata": {},
   "outputs": [
    {
     "name": "stdout",
     "output_type": "stream",
     "text": [
      "[[True]]\n",
      "[True]\n",
      "1\n"
     ]
    }
   ],
   "source": [
    "print((matchedW.pt>0)[evtid])\n",
    "print(ak.flatten(matchedW.pt>0,axis=2)[evtid])\n",
    "print(ak.sum(ak.flatten(matchedW.pt>0,axis=2),axis=1)[evtid])"
   ]
  },
  {
   "cell_type": "markdown",
   "metadata": {},
   "source": [
    "Finally, let's see if we can match not only the W bosons but also it's daughters:"
   ]
  },
  {
   "cell_type": "code",
   "execution_count": 21,
   "metadata": {},
   "outputs": [],
   "source": [
    "# making dR with the daughters p4 is too complicated because they are missing the mass as a property\n",
    "# so let's use the collections individually:\n",
    "dr_fj_quarks = candidatefj.delta_r(prompt_q)\n",
    "dr_fj_electrons = candidatefj.delta_r(prompt_electron)\n",
    "dr_fj_muons = candidatefj.delta_r(prompt_muon)\n",
    "dr_fj_taus = candidatefj.delta_r(prompt_tau)\n",
    "\n",
    "# now let's concatenate these dRs\n",
    "dr_daughters = ak.concatenate([dr_fj_quarks,dr_fj_electrons,dr_fj_muons,dr_fj_taus],axis=1)"
   ]
  },
  {
   "cell_type": "markdown",
   "metadata": {},
   "source": [
    "Let's see how these arrays look for our event:"
   ]
  },
  {
   "cell_type": "code",
   "execution_count": 22,
   "metadata": {},
   "outputs": [
    {
     "name": "stdout",
     "output_type": "stream",
     "text": [
      "dr quarks  [0.689, 0.353]\n",
      "dr electrons  []\n",
      "dr muons  [0.0691]\n",
      "dr taus  []\n",
      "dr daus  [0.689, 0.353, 0.0691]\n",
      "number of daus matched  3\n"
     ]
    }
   ],
   "source": [
    "print('dr quarks ',dr_fj_quarks[evtid])\n",
    "print('dr electrons ',dr_fj_electrons[evtid])\n",
    "print('dr muons ',dr_fj_muons[evtid])\n",
    "print('dr taus ',dr_fj_taus[evtid])\n",
    "print('dr daus ',dr_daughters[evtid])\n",
    "print('number of daus matched ',ak.sum(dr_daughters<0.8,axis=1)[evtid])"
   ]
  },
  {
   "cell_type": "markdown",
   "metadata": {},
   "source": [
    "Finally let's define a last matching condition indicating the number of visible daughters it is matched to:"
   ]
  },
  {
   "cell_type": "code",
   "execution_count": 23,
   "metadata": {},
   "outputs": [],
   "source": [
    "hWWlepqq_nprongs = ak.sum(dr_daughters<0.8,axis=1)"
   ]
  }
 ],
 "metadata": {
  "kernelspec": {
   "display_name": "Python 3",
   "language": "python",
   "name": "python3"
  },
  "language_info": {
   "codemirror_mode": {
    "name": "ipython",
    "version": 3
   },
   "file_extension": ".py",
   "mimetype": "text/x-python",
   "name": "python",
   "nbconvert_exporter": "python",
   "pygments_lexer": "ipython3",
   "version": "3.7.9"
  }
 },
 "nbformat": 4,
 "nbformat_minor": 4
}
